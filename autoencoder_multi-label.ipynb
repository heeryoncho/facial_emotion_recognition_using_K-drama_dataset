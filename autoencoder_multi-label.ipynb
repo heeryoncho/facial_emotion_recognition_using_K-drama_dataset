{
 "cells": [
  {
   "cell_type": "markdown",
   "metadata": {},
   "source": [
    "\n",
    "This notebook contains the code used in the BigComp 2022 paper: <br>\n",
    "<b>Heeryon Cho, Woo-Kyu Kang, Younsoo Park, Sungeu Chae, and Seong-joon Kim, \"Multi-label Facial Emotion Recognition Using Korean Drama Movie Clips,\" BigComp 2022.</b>\n",
    "### Autoencoder /  Classify Multi-label Emotions"
   ]
  },
  {
   "cell_type": "code",
   "execution_count": 1,
   "metadata": {},
   "outputs": [],
   "source": [
    "import tensorflow as tf\n",
    "from tensorflow import keras\n",
    "from tensorflow.keras.models import Sequential\n",
    "from tensorflow.keras.layers import Activation, Input\n",
    "from tensorflow.keras.layers import Conv2D, Conv2DTranspose, MaxPooling2D, UpSampling2D\n",
    "import matplotlib.pyplot as plt\n",
    "import numpy as np\n",
    "import pandas as pd\n",
    "import random as rn\n",
    "import os"
   ]
  },
  {
   "cell_type": "code",
   "execution_count": 2,
   "metadata": {},
   "outputs": [],
   "source": [
    "import warnings\n",
    "import logging\n",
    "logging.getLogger('tensorflow').disabled = True\n",
    "warnings.filterwarnings(\"ignore\")\n",
    "os.environ['TF_CPP_MIN_LOG_LEVEL'] = '3'"
   ]
  },
  {
   "cell_type": "code",
   "execution_count": 3,
   "metadata": {},
   "outputs": [
    {
     "name": "stdout",
     "output_type": "stream",
     "text": [
      "time: 514 µs (started: 2021-12-07 07:56:48 +00:00)\n"
     ]
    }
   ],
   "source": [
    "# Record cell run time.\n",
    "#!pip install ipython-autotime\n",
    "\n",
    "%load_ext autotime"
   ]
  },
  {
   "cell_type": "code",
   "execution_count": 4,
   "metadata": {},
   "outputs": [
    {
     "name": "stdout",
     "output_type": "stream",
     "text": [
      "time: 1.79 ms (started: 2021-12-07 07:56:48 +00:00)\n"
     ]
    }
   ],
   "source": [
    "# Set seed for reproducibility.\n",
    "\n",
    "set_seed = 46\n",
    "np.random.seed(set_seed)\n",
    "rn.seed(set_seed)\n",
    "tf.random.set_seed(set_seed)"
   ]
  },
  {
   "cell_type": "markdown",
   "metadata": {},
   "source": [
    "### Load pretrained autoencoder."
   ]
  },
  {
   "cell_type": "code",
   "execution_count": 5,
   "metadata": {},
   "outputs": [
    {
     "name": "stdout",
     "output_type": "stream",
     "text": [
      "time: 5.04 ms (started: 2021-12-07 07:56:48 +00:00)\n"
     ]
    }
   ],
   "source": [
    "# Create autoencoder model (skeleton) for loading pretrained weights.\n",
    "\n",
    "def create_autoencoder():\n",
    "    # Define the model\n",
    "    model = Sequential()\n",
    "\n",
    "    #1st convolution layer\n",
    "    model.add(Conv2D(32, (3, 3), padding='same', input_shape=(64,64,3)))\n",
    "    model.add(Activation('relu'))\n",
    "    model.add(MaxPooling2D(pool_size=(2,2), padding='same'))\n",
    "\n",
    "    #2nd convolution layer\n",
    "    model.add(Conv2D(32,(3, 3), padding='same'))\n",
    "    model.add(Activation('relu'))\n",
    "    model.add(MaxPooling2D(pool_size=(2,2), padding='same'))\n",
    "\n",
    "    #3rd convolution layer\n",
    "    model.add(Conv2D(32,(3, 3), padding='same'))\n",
    "    model.add(Activation('relu'))\n",
    "    model.add(MaxPooling2D(pool_size=(2,2), padding='same'))    \n",
    "\n",
    "    #1st deconvolution layer\n",
    "    model.add(Conv2DTranspose(32,(3, 3), padding='same'))\n",
    "    model.add(Activation('relu'))\n",
    "    model.add(UpSampling2D((2, 2)))\n",
    "    \n",
    "    #2nd deconvolution layer\n",
    "    model.add(Conv2DTranspose(32,(3, 3), padding='same'))\n",
    "    model.add(Activation('relu'))\n",
    "    model.add(UpSampling2D((2, 2)))\n",
    "\n",
    "    #3rd deconvolution layer\n",
    "    model.add(Conv2DTranspose(32,(3, 3), padding='same'))\n",
    "    model.add(Activation('relu'))\n",
    "    model.add(UpSampling2D((2, 2)))    \n",
    "\n",
    "    model.add(Conv2D(3,(3, 3), padding='same'))\n",
    "    model.add(Activation('sigmoid'))\n",
    "    \n",
    "    # Compile the model\n",
    "    model.compile(optimizer='adam', loss='binary_crossentropy')\n",
    "    model.summary()\n",
    "    \n",
    "    return model"
   ]
  },
  {
   "cell_type": "code",
   "execution_count": 6,
   "metadata": {},
   "outputs": [
    {
     "name": "stdout",
     "output_type": "stream",
     "text": [
      "Model: \"sequential\"\n",
      "_________________________________________________________________\n",
      "Layer (type)                 Output Shape              Param #   \n",
      "=================================================================\n",
      "conv2d (Conv2D)              (None, 64, 64, 32)        896       \n",
      "_________________________________________________________________\n",
      "activation (Activation)      (None, 64, 64, 32)        0         \n",
      "_________________________________________________________________\n",
      "max_pooling2d (MaxPooling2D) (None, 32, 32, 32)        0         \n",
      "_________________________________________________________________\n",
      "conv2d_1 (Conv2D)            (None, 32, 32, 32)        9248      \n",
      "_________________________________________________________________\n",
      "activation_1 (Activation)    (None, 32, 32, 32)        0         \n",
      "_________________________________________________________________\n",
      "max_pooling2d_1 (MaxPooling2 (None, 16, 16, 32)        0         \n",
      "_________________________________________________________________\n",
      "conv2d_2 (Conv2D)            (None, 16, 16, 32)        9248      \n",
      "_________________________________________________________________\n",
      "activation_2 (Activation)    (None, 16, 16, 32)        0         \n",
      "_________________________________________________________________\n",
      "max_pooling2d_2 (MaxPooling2 (None, 8, 8, 32)          0         \n",
      "_________________________________________________________________\n",
      "conv2d_transpose (Conv2DTran (None, 8, 8, 32)          9248      \n",
      "_________________________________________________________________\n",
      "activation_3 (Activation)    (None, 8, 8, 32)          0         \n",
      "_________________________________________________________________\n",
      "up_sampling2d (UpSampling2D) (None, 16, 16, 32)        0         \n",
      "_________________________________________________________________\n",
      "conv2d_transpose_1 (Conv2DTr (None, 16, 16, 32)        9248      \n",
      "_________________________________________________________________\n",
      "activation_4 (Activation)    (None, 16, 16, 32)        0         \n",
      "_________________________________________________________________\n",
      "up_sampling2d_1 (UpSampling2 (None, 32, 32, 32)        0         \n",
      "_________________________________________________________________\n",
      "conv2d_transpose_2 (Conv2DTr (None, 32, 32, 32)        9248      \n",
      "_________________________________________________________________\n",
      "activation_5 (Activation)    (None, 32, 32, 32)        0         \n",
      "_________________________________________________________________\n",
      "up_sampling2d_2 (UpSampling2 (None, 64, 64, 32)        0         \n",
      "_________________________________________________________________\n",
      "conv2d_3 (Conv2D)            (None, 64, 64, 3)         867       \n",
      "_________________________________________________________________\n",
      "activation_6 (Activation)    (None, 64, 64, 3)         0         \n",
      "=================================================================\n",
      "Total params: 48,003\n",
      "Trainable params: 48,003\n",
      "Non-trainable params: 0\n",
      "_________________________________________________________________\n"
     ]
    },
    {
     "data": {
      "text/plain": [
       "<tensorflow.python.training.tracking.util.CheckpointLoadStatus at 0x7f8dd809ab38>"
      ]
     },
     "execution_count": 6,
     "metadata": {},
     "output_type": "execute_result"
    },
    {
     "name": "stdout",
     "output_type": "stream",
     "text": [
      "time: 1.76 s (started: 2021-12-07 07:56:48 +00:00)\n"
     ]
    }
   ],
   "source": [
    "# Load pretrained autoencoder weights.\n",
    "\n",
    "checkpoint_path = \"./model/autoencoder.ckpt\"\n",
    "autoencoder = create_autoencoder()\n",
    "autoencoder.load_weights(checkpoint_path)"
   ]
  },
  {
   "cell_type": "markdown",
   "metadata": {},
   "source": [
    "### The below code is for creating training data tfrecord and idx file from images. (We do not use the below code in this jupyter notebook since we import tfrecords directly.)\n",
    "\n",
    "```python\n",
    "# The following functions can be used to convert a value to a type compatible\n",
    "# with tf.train.Example.\n",
    "\n",
    "from itertools import islice\n",
    "from subprocess import call\n",
    "\n",
    "def _bytes_feature(value):\n",
    "    \"\"\"Returns a bytes_list from a string / byte.\"\"\"\n",
    "    if isinstance(value, type(tf.constant(0))):\n",
    "        value = value.numpy() # BytesList won't unpack a string from an EagerTensor.\n",
    "    return tf.train.Feature(bytes_list=tf.train.BytesList(value=[value]))\n",
    "\n",
    "#def _float_feature(value):\n",
    "#    \"\"\"Returns a float_list from a float / double.\"\"\"\n",
    "#    return tf.train.Feature(float_list=tf.train.FloatList(value=[value]))\n",
    "\n",
    "def _int64_feature(value):\n",
    "    if type(value) != list:\n",
    "        value = [value]\n",
    "    \"\"\"Returns an int64_list from a bool / enum / int / uint.\"\"\"\n",
    "    return tf.train.Feature(int64_list=tf.train.Int64List(value=value))\n",
    "\n",
    "# Create a dictionary with relevant features.\n",
    "\n",
    "def image_example(image_string, label):\n",
    "    image_shape = tf.io.decode_jpeg(image_string).shape\n",
    "\n",
    "    feature = {\n",
    "        'height': _int64_feature(image_shape[0]),\n",
    "        'width': _int64_feature(image_shape[1]),\n",
    "        'depth': _int64_feature(image_shape[2]),\n",
    "        'label': _int64_feature(label),\n",
    "        'image_raw': _bytes_feature(image_string),\n",
    "    }\n",
    "    return tf.train.Example(features=tf.train.Features(feature=feature))\n",
    "\n",
    "def gen_tfrecord_idx(tfrecord_file, dict_label, tfrecord_idx):\n",
    "    with tf.io.TFRecordWriter(tfrecord_file) as writer:\n",
    "        for filename, label in dict_label.items():\n",
    "            fname = \"./image/\" + filename\n",
    "            image_string = open(fname, 'rb').read()\n",
    "            tf_example = image_example(image_string, label)\n",
    "            writer.write(tf_example.SerializeToString())\n",
    "\n",
    "    tfrecord2idx_script = \"tfrecord2idx\"\n",
    "\n",
    "    if not os.path.isfile(tfrecord_idx):\n",
    "        call([tfrecord2idx_script, tfrecord_file, tfrecord_idx])\n",
    "\n",
    "\n",
    "#--------------------------------------------\n",
    "# VALID DATA: Load labels, check headers, check data shape.\n",
    "\n",
    "df_label_valid = pd.read_csv('label/label_multi-label_valid.csv')\n",
    "print(\"valid columns:\", df_label_valid.columns)\n",
    "print(\"valid shape:\", df_label_valid.shape)\n",
    "\n",
    "# Place labels into a dictionary.\n",
    "\n",
    "dict_label_valid = {}\n",
    "for idx, row in df_label_valid.iterrows():\n",
    "    dict_label_valid[row['img_id']] = list(row['moved':'disgusted'].values)\n",
    "len(dict_label_valid)\n",
    "\n",
    "#--------------------------------------------\n",
    "# Create VALID tfrecord & idx files from jpg images.\n",
    "\n",
    "tfrecord_file_valid = './tfrecords/multi-label_valid.tfrecords'\n",
    "tfrecord_idx_valid = './tfrecords/multi-label_valid.idx'\n",
    "\n",
    "gen_tfrecord_idx(tfrecord_file_valid, dict_label_valid, tfrecord_idx_valid)\n",
    "\n",
    "#--------------------------------------------\n",
    "# TRAIN DATA: Load labels, check headers, check data shape.\n",
    "\n",
    "df_label_train = pd.read_csv('label/label_multi-label_train.csv')\n",
    "print(\"train columns:\", df_label_train.columns)\n",
    "print(\"train shape:\", df_label_train.shape)\n",
    "\n",
    "# Place labels into a dictionary.\n",
    "\n",
    "dict_label_train = {}\n",
    "for idx, row in df_label_train.iterrows():\n",
    "    dict_label_train[row['img_id']] = list(row['moved':'disgusted'].values)\n",
    "len(dict_label_train)\n",
    "\n",
    "#--------------------------------------------\n",
    "# Create TRAIN tfrecord & idx files from jpg images.\n",
    "\n",
    "tfrecord_file_train = './tfrecords/multi-label_train.tfrecords'\n",
    "tfrecord_idx_train = './tfrecords/multi-label_train.idx'\n",
    "\n",
    "gen_tfrecord_idx(tfrecord_file_train, dict_label_train, tfrecord_idx_train) \n",
    "\n",
    "#--------------------------------------------\n",
    "# TEST DATA: Load labels, check headers, check data shape.\n",
    "\n",
    "df_label_test = pd.read_csv('label/label_multi-label_test.csv')\n",
    "print(\"test columns:\", df_label_test.columns)\n",
    "print(\"test shape:\", df_label_test.shape)\n",
    "\n",
    "# Place labels into a dictionary.\n",
    "\n",
    "dict_label_test = {}\n",
    "for idx, row in df_label_test.iterrows():\n",
    "    dict_label_test[row['img_id']] = list(row['moved':'disgusted'].values)\n",
    "len(dict_label_test)\n",
    "\n",
    "#-------------------------------------------\n",
    "# Create TEST tfrecord & idx files from jpg images.\n",
    "\n",
    "tfrecord_file_test = './tfrecords/multi-label_test.tfrecords'\n",
    "tfrecord_idx_test = './tfrecords/multi-label_test.idx'\n",
    "\n",
    "gen_tfrecord_idx(tfrecord_file_test, dict_label_test, tfrecord_idx_test) \n",
    "\n",
    "# OUTPUT\n",
    "# valid columns: Index(['img_id', 'clip_id', 'moved', 'fearful', 'bored', 'surprised', 'angry',\n",
    "#       'anxious', 'smitten', 'fluttered', 'disappointed', 'fulfilled',\n",
    "#       'ashamed', 'sad', 'upset', 'sympathetic', 'passionate', 'depressed',\n",
    "#       'amused', 'affectionate', 'guilty', 'neutral', 'jealous', 'peaceful',\n",
    "#       'happy', 'disgusted'],\n",
    "#       dtype='object')\n",
    "# valid shape: (3882, 26)\n",
    "# train columns: Index(['img_id', 'clip_id', 'moved', 'fearful', 'bored', 'surprised', 'angry',\n",
    "#       'anxious', 'smitten', 'fluttered', 'disappointed', 'fulfilled',\n",
    "#       'ashamed', 'sad', 'upset', 'sympathetic', 'passionate', 'depressed',\n",
    "#       'amused', 'affectionate', 'guilty', 'neutral', 'jealous', 'peaceful',\n",
    "#       'happy', 'disgusted'],\n",
    "#       dtype='object')\n",
    "# train shape: (31053, 26)\n",
    "# test columns: Index(['img_id', 'clip_id', 'moved', 'fearful', 'bored', 'surprised', 'angry',\n",
    "#       'anxious', 'smitten', 'fluttered', 'disappointed', 'fulfilled',\n",
    "#       'ashamed', 'sad', 'upset', 'sympathetic', 'passionate', 'depressed',\n",
    "#       'amused', 'affectionate', 'guilty', 'neutral', 'jealous', 'peaceful',\n",
    "#       'happy', 'disgusted'],\n",
    "#       dtype='object')\n",
    "# test shape: (3882, 26)\n",
    "```    "
   ]
  },
  {
   "cell_type": "markdown",
   "metadata": {},
   "source": [
    "### Load label data."
   ]
  },
  {
   "cell_type": "code",
   "execution_count": 8,
   "metadata": {},
   "outputs": [
    {
     "name": "stdout",
     "output_type": "stream",
     "text": [
      "Index(['img_id', 'clip_id', 'moved', 'fearful', 'bored', 'surprised', 'angry',\n",
      "       'anxious', 'smitten', 'fluttered', 'disappointed', 'fulfilled',\n",
      "       'ashamed', 'sad', 'upset', 'sympathetic', 'passionate', 'depressed',\n",
      "       'amused', 'affectionate', 'guilty', 'neutral', 'jealous', 'peaceful',\n",
      "       'happy', 'disgusted'],\n",
      "      dtype='object')\n",
      "(38817, 26)\n",
      "LABELS= ['moved', 'fearful', 'bored', 'surprised', 'angry', 'anxious', 'smitten', 'fluttered', 'disappointed', 'fulfilled', 'ashamed', 'sad', 'upset', 'sympathetic', 'passionate', 'depressed', 'amused', 'affectionate', 'guilty', 'neutral', 'jealous', 'peaceful', 'happy', 'disgusted']\n",
      "All classes: 24\n",
      "TRAIN_DATA_SIZE: 31053\n",
      "VALID_DATA_SIZE: 3882\n",
      "TEST_DATA_SIZE: 3882\n",
      "time: 159 ms (started: 2021-12-07 07:57:12 +00:00)\n"
     ]
    }
   ],
   "source": [
    "# Load labels, check headers, check data shape.\n",
    "\n",
    "df_label = pd.read_csv('label/label_multi-label.csv')\n",
    "print(df_label.columns)\n",
    "print(df_label.shape)\n",
    "\n",
    "LABELS = list(df_label.columns[2:])\n",
    "print(\"LABELS=\", LABELS)\n",
    "print(\"All classes:\", len(LABELS))\n",
    "\n",
    "label_valid = pd.read_csv('label/label_multi-label_valid.csv')\n",
    "label_train = pd.read_csv('label/label_multi-label_train.csv')\n",
    "label_test = pd.read_csv('label/label_multi-label_test.csv')\n",
    "\n",
    "VALID_DATA_SIZE = label_valid.shape[0]\n",
    "TRAIN_DATA_SIZE = label_train.shape[0]\n",
    "TEST_DATA_SIZE = label_test.shape[0]\n",
    "\n",
    "print(\"TRAIN_DATA_SIZE:\", label_train.shape[0])\n",
    "print(\"VALID_DATA_SIZE:\", label_valid.shape[0])\n",
    "print(\"TEST_DATA_SIZE:\", label_test.shape[0])"
   ]
  },
  {
   "cell_type": "markdown",
   "metadata": {},
   "source": [
    "### Define training pipeline."
   ]
  },
  {
   "cell_type": "code",
   "execution_count": 9,
   "metadata": {},
   "outputs": [
    {
     "name": "stdout",
     "output_type": "stream",
     "text": [
      "time: 87.8 ms (started: 2021-12-07 07:57:12 +00:00)\n"
     ]
    }
   ],
   "source": [
    "from nvidia.dali.pipeline import Pipeline\n",
    "import nvidia.dali.fn as fn\n",
    "import nvidia.dali.types as types\n",
    "import nvidia.dali.tfrecord as tfrec\n",
    "import nvidia.dali.plugin.tf as dali_tf\n",
    "\n",
    "class TFRecordPipelineTrain(Pipeline):\n",
    "    def __init__(self, batch_size, num_threads,\n",
    "                 device = 'cpu', device_id = 0):\n",
    "        super(TFRecordPipelineTrain, self).__init__(batch_size,\n",
    "                                         num_threads,\n",
    "                                         device_id)\n",
    "        self.input = fn.readers.tfrecord(        \n",
    "             features = {\"image_raw\": tfrec.FixedLenFeature((), tfrec.string, \"\"),\n",
    "                         \"label\": tfrec.FixedLenFeature([24], tfrec.int64,  24)},\n",
    "             path = ['./tfrecords/multi-label_train.tfrecords'],\n",
    "             index_path = ['./tfrecords/multi-label_train.idx'],\n",
    "             random_shuffle=True,\n",
    "             seed = set_seed)\n",
    "        self.iter = 0\n",
    "    def define_graph(self):\n",
    "        inputs = self.input\n",
    "        images = fn.decoders.image(inputs[\"image_raw\"], device = \"mixed\", output_type = types.RGB) / 255.\n",
    "        labels = inputs[\"label\"].gpu()\n",
    "        return (images, labels)\n",
    "    def iter_setup(self):\n",
    "        pass"
   ]
  },
  {
   "cell_type": "markdown",
   "metadata": {},
   "source": [
    "### Define validation pipeline."
   ]
  },
  {
   "cell_type": "code",
   "execution_count": 10,
   "metadata": {},
   "outputs": [
    {
     "name": "stdout",
     "output_type": "stream",
     "text": [
      "time: 1.91 ms (started: 2021-12-07 07:57:12 +00:00)\n"
     ]
    }
   ],
   "source": [
    "class TFRecordPipelineValid(Pipeline):\n",
    "    def __init__(self, batch_size, num_threads,\n",
    "                 device = 'cpu', device_id = 0):\n",
    "        super(TFRecordPipelineValid, self).__init__(batch_size,\n",
    "                                         num_threads,\n",
    "                                         device_id)\n",
    "        self.input = fn.readers.tfrecord(        \n",
    "             features = {\"image_raw\": tfrec.FixedLenFeature((), tfrec.string, \"\"),\n",
    "                         \"label\": tfrec.FixedLenFeature([24], tfrec.int64,  24)},\n",
    "             path = ['./tfrecords/multi-label_valid.tfrecords'],\n",
    "             index_path = ['./tfrecords/multi-label_valid.idx'],\n",
    "             random_shuffle=False,\n",
    "             seed = set_seed)\n",
    "        self.iter = 0\n",
    "    def define_graph(self):\n",
    "        inputs = self.input\n",
    "        images = fn.decoders.image(inputs[\"image_raw\"], device = \"mixed\", output_type = types.RGB) / 255.\n",
    "        labels = inputs[\"label\"].gpu()\n",
    "        return (images, labels)\n",
    "    def iter_setup(self):\n",
    "        pass"
   ]
  },
  {
   "cell_type": "markdown",
   "metadata": {},
   "source": [
    "### Train autoencoder model for classifying multi-label emotions."
   ]
  },
  {
   "cell_type": "code",
   "execution_count": 11,
   "metadata": {},
   "outputs": [
    {
     "name": "stdout",
     "output_type": "stream",
     "text": [
      "Model: \"model\"\n",
      "_________________________________________________________________\n",
      "Layer (type)                 Output Shape              Param #   \n",
      "=================================================================\n",
      "input_1 (InputLayer)         [(None, 64, 64, 3)]       0         \n",
      "_________________________________________________________________\n",
      "sequential (Sequential)      (None, 64, 64, 3)         48003     \n",
      "_________________________________________________________________\n",
      "flatten (Flatten)            (None, 12288)             0         \n",
      "_________________________________________________________________\n",
      "dense (Dense)                (None, 24)                294936    \n",
      "_________________________________________________________________\n",
      "dropout (Dropout)            (None, 24)                0         \n",
      "_________________________________________________________________\n",
      "dense_1 (Dense)              (None, 24)                600       \n",
      "=================================================================\n",
      "Total params: 343,539\n",
      "Trainable params: 343,539\n",
      "Non-trainable params: 0\n",
      "_________________________________________________________________\n",
      "Epoch 1/1000\n",
      "485/485 [==============================] - 11s 16ms/step - loss: 0.6292 - accuracy: 0.0209 - val_loss: 0.5761 - val_accuracy: 0.0224\n",
      "Epoch 2/1000\n",
      "485/485 [==============================] - 8s 16ms/step - loss: 0.6073 - accuracy: 0.0209 - val_loss: 0.5503 - val_accuracy: 0.0224\n",
      "Epoch 3/1000\n",
      "485/485 [==============================] - 8s 16ms/step - loss: 0.5889 - accuracy: 0.0200 - val_loss: 0.5246 - val_accuracy: 0.0224\n",
      "Epoch 4/1000\n",
      "485/485 [==============================] - 8s 16ms/step - loss: 0.5701 - accuracy: 0.0194 - val_loss: 0.4973 - val_accuracy: 0.0224\n",
      "Epoch 5/1000\n",
      "485/485 [==============================] - 7s 15ms/step - loss: 0.5514 - accuracy: 0.0206 - val_loss: 0.4741 - val_accuracy: 0.0224\n",
      "Epoch 6/1000\n",
      "485/485 [==============================] - 8s 16ms/step - loss: 0.5330 - accuracy: 0.0207 - val_loss: 0.4491 - val_accuracy: 0.0224\n",
      "Epoch 7/1000\n",
      "485/485 [==============================] - 7s 15ms/step - loss: 0.5149 - accuracy: 0.0199 - val_loss: 0.4279 - val_accuracy: 0.0224\n",
      "Epoch 8/1000\n",
      "485/485 [==============================] - 8s 16ms/step - loss: 0.4972 - accuracy: 0.0211 - val_loss: 0.4068 - val_accuracy: 0.0224\n",
      "Epoch 9/1000\n",
      "485/485 [==============================] - 7s 15ms/step - loss: 0.4809 - accuracy: 0.0210 - val_loss: 0.3862 - val_accuracy: 0.0224\n",
      "Epoch 10/1000\n",
      "485/485 [==============================] - 8s 16ms/step - loss: 0.4653 - accuracy: 0.0214 - val_loss: 0.3688 - val_accuracy: 0.0224\n",
      "Epoch 11/1000\n",
      "485/485 [==============================] - 7s 15ms/step - loss: 0.4497 - accuracy: 0.0217 - val_loss: 0.3490 - val_accuracy: 0.0224\n",
      "Epoch 12/1000\n",
      "485/485 [==============================] - 7s 15ms/step - loss: 0.4350 - accuracy: 0.0229 - val_loss: 0.3355 - val_accuracy: 0.0224\n",
      "Epoch 13/1000\n",
      "485/485 [==============================] - 7s 15ms/step - loss: 0.4210 - accuracy: 0.0251 - val_loss: 0.3175 - val_accuracy: 0.0224\n",
      "Epoch 14/1000\n",
      "485/485 [==============================] - 7s 15ms/step - loss: 0.4089 - accuracy: 0.0255 - val_loss: 0.3072 - val_accuracy: 0.0224\n",
      "Epoch 15/1000\n",
      "485/485 [==============================] - 7s 15ms/step - loss: 0.3961 - accuracy: 0.0281 - val_loss: 0.2941 - val_accuracy: 0.0224\n",
      "Epoch 16/1000\n",
      "485/485 [==============================] - 7s 15ms/step - loss: 0.3859 - accuracy: 0.0296 - val_loss: 0.2850 - val_accuracy: 0.0224\n",
      "Epoch 17/1000\n",
      "485/485 [==============================] - 7s 15ms/step - loss: 0.3739 - accuracy: 0.0324 - val_loss: 0.2752 - val_accuracy: 0.0250\n",
      "Epoch 18/1000\n",
      "485/485 [==============================] - 7s 15ms/step - loss: 0.3650 - accuracy: 0.0356 - val_loss: 0.2676 - val_accuracy: 0.0255\n",
      "Epoch 19/1000\n",
      "485/485 [==============================] - 7s 15ms/step - loss: 0.3544 - accuracy: 0.0380 - val_loss: 0.2579 - val_accuracy: 0.0391\n",
      "Epoch 20/1000\n",
      "485/485 [==============================] - 7s 15ms/step - loss: 0.3468 - accuracy: 0.0440 - val_loss: 0.2486 - val_accuracy: 0.0948\n",
      "Epoch 21/1000\n",
      "485/485 [==============================] - 8s 16ms/step - loss: 0.3374 - accuracy: 0.0498 - val_loss: 0.2461 - val_accuracy: 0.1120\n",
      "Epoch 22/1000\n",
      "485/485 [==============================] - 8s 16ms/step - loss: 0.3293 - accuracy: 0.0579 - val_loss: 0.2355 - val_accuracy: 0.1622\n",
      "Epoch 23/1000\n",
      "485/485 [==============================] - 8s 16ms/step - loss: 0.3220 - accuracy: 0.0621 - val_loss: 0.2304 - val_accuracy: 0.2052\n",
      "Epoch 24/1000\n",
      "485/485 [==============================] - 7s 15ms/step - loss: 0.3145 - accuracy: 0.0666 - val_loss: 0.2290 - val_accuracy: 0.1888\n",
      "Epoch 25/1000\n",
      "485/485 [==============================] - 7s 15ms/step - loss: 0.3084 - accuracy: 0.0764 - val_loss: 0.2214 - val_accuracy: 0.2576\n",
      "Epoch 26/1000\n",
      "485/485 [==============================] - 8s 16ms/step - loss: 0.3027 - accuracy: 0.0800 - val_loss: 0.2177 - val_accuracy: 0.2779\n",
      "Epoch 27/1000\n",
      "485/485 [==============================] - 8s 16ms/step - loss: 0.2969 - accuracy: 0.0890 - val_loss: 0.2148 - val_accuracy: 0.2966\n",
      "Epoch 28/1000\n",
      "485/485 [==============================] - 8s 16ms/step - loss: 0.2917 - accuracy: 0.0929 - val_loss: 0.2116 - val_accuracy: 0.2909\n",
      "Epoch 29/1000\n",
      "485/485 [==============================] - 8s 16ms/step - loss: 0.2860 - accuracy: 0.1032 - val_loss: 0.2102 - val_accuracy: 0.3026\n",
      "Epoch 30/1000\n",
      "485/485 [==============================] - 7s 15ms/step - loss: 0.2810 - accuracy: 0.1070 - val_loss: 0.2074 - val_accuracy: 0.3049\n",
      "Epoch 31/1000\n",
      "485/485 [==============================] - 7s 15ms/step - loss: 0.2775 - accuracy: 0.1128 - val_loss: 0.2051 - val_accuracy: 0.3135\n",
      "Epoch 32/1000\n",
      "485/485 [==============================] - 8s 16ms/step - loss: 0.2724 - accuracy: 0.1211 - val_loss: 0.2033 - val_accuracy: 0.3133\n",
      "Epoch 33/1000\n",
      "485/485 [==============================] - 8s 16ms/step - loss: 0.2693 - accuracy: 0.1245 - val_loss: 0.2018 - val_accuracy: 0.3135\n",
      "Epoch 34/1000\n",
      "485/485 [==============================] - 8s 16ms/step - loss: 0.2660 - accuracy: 0.1332 - val_loss: 0.2000 - val_accuracy: 0.3128\n",
      "Epoch 35/1000\n",
      "485/485 [==============================] - 8s 16ms/step - loss: 0.2621 - accuracy: 0.1381 - val_loss: 0.1975 - val_accuracy: 0.3151\n",
      "Epoch 36/1000\n",
      "485/485 [==============================] - 8s 16ms/step - loss: 0.2600 - accuracy: 0.1432 - val_loss: 0.1980 - val_accuracy: 0.3156\n",
      "Epoch 37/1000\n",
      "485/485 [==============================] - 8s 16ms/step - loss: 0.2572 - accuracy: 0.1487 - val_loss: 0.1952 - val_accuracy: 0.3151\n",
      "Epoch 38/1000\n",
      "485/485 [==============================] - 8s 16ms/step - loss: 0.2544 - accuracy: 0.1557 - val_loss: 0.1943 - val_accuracy: 0.3154\n",
      "Epoch 39/1000\n",
      "485/485 [==============================] - 7s 15ms/step - loss: 0.2511 - accuracy: 0.1615 - val_loss: 0.1943 - val_accuracy: 0.3156\n",
      "Epoch 40/1000\n",
      "485/485 [==============================] - 8s 16ms/step - loss: 0.2484 - accuracy: 0.1692 - val_loss: 0.1918 - val_accuracy: 0.3154\n",
      "Epoch 41/1000\n",
      "485/485 [==============================] - 8s 16ms/step - loss: 0.2468 - accuracy: 0.1716 - val_loss: 0.1912 - val_accuracy: 0.3167\n",
      "Epoch 42/1000\n",
      "485/485 [==============================] - 7s 15ms/step - loss: 0.2446 - accuracy: 0.1738 - val_loss: 0.1912 - val_accuracy: 0.3164\n",
      "Epoch 43/1000\n",
      "485/485 [==============================] - 8s 16ms/step - loss: 0.2433 - accuracy: 0.1818 - val_loss: 0.1901 - val_accuracy: 0.3169\n",
      "Epoch 44/1000\n",
      "485/485 [==============================] - 7s 15ms/step - loss: 0.2406 - accuracy: 0.1830 - val_loss: 0.1891 - val_accuracy: 0.3164\n",
      "Epoch 45/1000\n",
      "485/485 [==============================] - 7s 15ms/step - loss: 0.2383 - accuracy: 0.1937 - val_loss: 0.1887 - val_accuracy: 0.3182\n",
      "Epoch 46/1000\n",
      "485/485 [==============================] - 7s 15ms/step - loss: 0.2373 - accuracy: 0.1965 - val_loss: 0.1882 - val_accuracy: 0.3190\n",
      "Epoch 47/1000\n",
      "485/485 [==============================] - 7s 15ms/step - loss: 0.2353 - accuracy: 0.2039 - val_loss: 0.1879 - val_accuracy: 0.3247\n",
      "Epoch 48/1000\n",
      "485/485 [==============================] - 7s 15ms/step - loss: 0.2345 - accuracy: 0.2011 - val_loss: 0.1866 - val_accuracy: 0.3247\n",
      "Epoch 49/1000\n"
     ]
    },
    {
     "name": "stdout",
     "output_type": "stream",
     "text": [
      "485/485 [==============================] - 7s 15ms/step - loss: 0.2326 - accuracy: 0.2074 - val_loss: 0.1863 - val_accuracy: 0.3247\n",
      "Epoch 50/1000\n",
      "485/485 [==============================] - 8s 16ms/step - loss: 0.2307 - accuracy: 0.2163 - val_loss: 0.1861 - val_accuracy: 0.3260\n",
      "Epoch 51/1000\n",
      "485/485 [==============================] - 8s 16ms/step - loss: 0.2297 - accuracy: 0.2188 - val_loss: 0.1855 - val_accuracy: 0.3279\n",
      "Epoch 52/1000\n",
      "485/485 [==============================] - 7s 15ms/step - loss: 0.2281 - accuracy: 0.2201 - val_loss: 0.1852 - val_accuracy: 0.3266\n",
      "Epoch 53/1000\n",
      "485/485 [==============================] - 7s 15ms/step - loss: 0.2279 - accuracy: 0.2242 - val_loss: 0.1850 - val_accuracy: 0.3323\n",
      "Epoch 54/1000\n",
      "485/485 [==============================] - 8s 16ms/step - loss: 0.2263 - accuracy: 0.2284 - val_loss: 0.1843 - val_accuracy: 0.3318\n",
      "Epoch 55/1000\n",
      "485/485 [==============================] - 8s 16ms/step - loss: 0.2251 - accuracy: 0.2346 - val_loss: 0.1841 - val_accuracy: 0.3318\n",
      "Epoch 56/1000\n",
      "485/485 [==============================] - 8s 16ms/step - loss: 0.2238 - accuracy: 0.2401 - val_loss: 0.1840 - val_accuracy: 0.3310\n",
      "Epoch 57/1000\n",
      "485/485 [==============================] - 8s 16ms/step - loss: 0.2237 - accuracy: 0.2378 - val_loss: 0.1838 - val_accuracy: 0.3409\n",
      "Epoch 58/1000\n",
      "485/485 [==============================] - 8s 16ms/step - loss: 0.2221 - accuracy: 0.2416 - val_loss: 0.1831 - val_accuracy: 0.3380\n",
      "Epoch 59/1000\n",
      "485/485 [==============================] - 8s 16ms/step - loss: 0.2214 - accuracy: 0.2441 - val_loss: 0.1829 - val_accuracy: 0.3367\n",
      "Epoch 60/1000\n",
      "485/485 [==============================] - 8s 16ms/step - loss: 0.2206 - accuracy: 0.2511 - val_loss: 0.1826 - val_accuracy: 0.3349\n",
      "Epoch 61/1000\n",
      "485/485 [==============================] - 8s 16ms/step - loss: 0.2197 - accuracy: 0.2554 - val_loss: 0.1826 - val_accuracy: 0.3419\n",
      "Epoch 62/1000\n",
      "485/485 [==============================] - 8s 16ms/step - loss: 0.2187 - accuracy: 0.2554 - val_loss: 0.1823 - val_accuracy: 0.3333\n",
      "Epoch 63/1000\n",
      "485/485 [==============================] - 8s 16ms/step - loss: 0.2182 - accuracy: 0.2569 - val_loss: 0.1819 - val_accuracy: 0.3401\n",
      "Epoch 64/1000\n",
      "485/485 [==============================] - 8s 16ms/step - loss: 0.2177 - accuracy: 0.2631 - val_loss: 0.1819 - val_accuracy: 0.3414\n",
      "Epoch 65/1000\n",
      "485/485 [==============================] - 7s 15ms/step - loss: 0.2167 - accuracy: 0.2664 - val_loss: 0.1814 - val_accuracy: 0.3484\n",
      "Epoch 66/1000\n",
      "485/485 [==============================] - 8s 17ms/step - loss: 0.2160 - accuracy: 0.2707 - val_loss: 0.1812 - val_accuracy: 0.3464\n",
      "Epoch 67/1000\n",
      "485/485 [==============================] - 8s 15ms/step - loss: 0.2154 - accuracy: 0.2727 - val_loss: 0.1807 - val_accuracy: 0.3458\n",
      "Epoch 68/1000\n",
      "485/485 [==============================] - 8s 16ms/step - loss: 0.2148 - accuracy: 0.2744 - val_loss: 0.1803 - val_accuracy: 0.3570\n",
      "Epoch 69/1000\n",
      "485/485 [==============================] - 8s 16ms/step - loss: 0.2142 - accuracy: 0.2768 - val_loss: 0.1802 - val_accuracy: 0.3555\n",
      "Epoch 70/1000\n",
      "485/485 [==============================] - 8s 16ms/step - loss: 0.2137 - accuracy: 0.2822 - val_loss: 0.1801 - val_accuracy: 0.3479\n",
      "Epoch 71/1000\n",
      "485/485 [==============================] - 8s 16ms/step - loss: 0.2125 - accuracy: 0.2845 - val_loss: 0.1796 - val_accuracy: 0.3555\n",
      "Epoch 72/1000\n",
      "485/485 [==============================] - 8s 16ms/step - loss: 0.2121 - accuracy: 0.2849 - val_loss: 0.1798 - val_accuracy: 0.3510\n",
      "Epoch 73/1000\n",
      "485/485 [==============================] - 8s 16ms/step - loss: 0.2118 - accuracy: 0.2820 - val_loss: 0.1795 - val_accuracy: 0.3549\n",
      "Epoch 74/1000\n",
      "485/485 [==============================] - 8s 17ms/step - loss: 0.2119 - accuracy: 0.2842 - val_loss: 0.1791 - val_accuracy: 0.3568\n",
      "Epoch 75/1000\n",
      "485/485 [==============================] - 8s 16ms/step - loss: 0.2111 - accuracy: 0.2890 - val_loss: 0.1786 - val_accuracy: 0.3646\n",
      "Epoch 76/1000\n",
      "485/485 [==============================] - 8s 16ms/step - loss: 0.2108 - accuracy: 0.2914 - val_loss: 0.1785 - val_accuracy: 0.3625\n",
      "Epoch 77/1000\n",
      "485/485 [==============================] - 8s 16ms/step - loss: 0.2096 - accuracy: 0.2882 - val_loss: 0.1785 - val_accuracy: 0.3609\n",
      "Epoch 78/1000\n",
      "485/485 [==============================] - 7s 15ms/step - loss: 0.2094 - accuracy: 0.2927 - val_loss: 0.1784 - val_accuracy: 0.3635\n",
      "Epoch 79/1000\n",
      "485/485 [==============================] - 8s 16ms/step - loss: 0.2092 - accuracy: 0.2967 - val_loss: 0.1783 - val_accuracy: 0.3573\n",
      "Epoch 80/1000\n",
      "485/485 [==============================] - 7s 15ms/step - loss: 0.2088 - accuracy: 0.2973 - val_loss: 0.1781 - val_accuracy: 0.3622\n",
      "Epoch 81/1000\n",
      "485/485 [==============================] - 7s 15ms/step - loss: 0.2083 - accuracy: 0.2969 - val_loss: 0.1777 - val_accuracy: 0.3622\n",
      "Epoch 82/1000\n",
      "485/485 [==============================] - 8s 16ms/step - loss: 0.2072 - accuracy: 0.3007 - val_loss: 0.1778 - val_accuracy: 0.3667\n",
      "Epoch 83/1000\n",
      "485/485 [==============================] - 8s 16ms/step - loss: 0.2074 - accuracy: 0.2985 - val_loss: 0.1776 - val_accuracy: 0.3620\n",
      "Epoch 84/1000\n",
      "485/485 [==============================] - 8s 15ms/step - loss: 0.2066 - accuracy: 0.2969 - val_loss: 0.1776 - val_accuracy: 0.3685\n",
      "Epoch 85/1000\n",
      "485/485 [==============================] - 8s 15ms/step - loss: 0.2066 - accuracy: 0.2992 - val_loss: 0.1772 - val_accuracy: 0.3695\n",
      "Epoch 86/1000\n",
      "485/485 [==============================] - 8s 16ms/step - loss: 0.2061 - accuracy: 0.3018 - val_loss: 0.1770 - val_accuracy: 0.3701\n",
      "Epoch 87/1000\n",
      "485/485 [==============================] - 8s 16ms/step - loss: 0.2059 - accuracy: 0.3015 - val_loss: 0.1772 - val_accuracy: 0.3630\n",
      "Epoch 88/1000\n",
      "485/485 [==============================] - 8s 16ms/step - loss: 0.2057 - accuracy: 0.3039 - val_loss: 0.1765 - val_accuracy: 0.3734\n",
      "Epoch 89/1000\n",
      "485/485 [==============================] - 7s 15ms/step - loss: 0.2046 - accuracy: 0.3072 - val_loss: 0.1765 - val_accuracy: 0.3698\n",
      "Epoch 90/1000\n",
      "485/485 [==============================] - 7s 15ms/step - loss: 0.2049 - accuracy: 0.3084 - val_loss: 0.1765 - val_accuracy: 0.3719\n",
      "Epoch 91/1000\n",
      "485/485 [==============================] - 8s 16ms/step - loss: 0.2044 - accuracy: 0.3098 - val_loss: 0.1765 - val_accuracy: 0.3701\n",
      "Epoch 92/1000\n",
      "485/485 [==============================] - 7s 15ms/step - loss: 0.2040 - accuracy: 0.3102 - val_loss: 0.1758 - val_accuracy: 0.3695\n",
      "Epoch 93/1000\n",
      "485/485 [==============================] - 7s 15ms/step - loss: 0.2038 - accuracy: 0.3089 - val_loss: 0.1759 - val_accuracy: 0.3781\n",
      "Epoch 94/1000\n",
      "485/485 [==============================] - 7s 15ms/step - loss: 0.2036 - accuracy: 0.3103 - val_loss: 0.1758 - val_accuracy: 0.3789\n",
      "Epoch 95/1000\n",
      "485/485 [==============================] - 7s 15ms/step - loss: 0.2034 - accuracy: 0.3110 - val_loss: 0.1759 - val_accuracy: 0.3680\n",
      "Epoch 96/1000\n",
      "485/485 [==============================] - 8s 16ms/step - loss: 0.2031 - accuracy: 0.3126 - val_loss: 0.1758 - val_accuracy: 0.3753\n",
      "Epoch 97/1000\n",
      "485/485 [==============================] - 7s 15ms/step - loss: 0.2023 - accuracy: 0.3133 - val_loss: 0.1752 - val_accuracy: 0.3727\n",
      "Epoch 98/1000\n",
      "485/485 [==============================] - 7s 15ms/step - loss: 0.2025 - accuracy: 0.3149 - val_loss: 0.1750 - val_accuracy: 0.3805\n",
      "Epoch 99/1000\n",
      "485/485 [==============================] - 7s 15ms/step - loss: 0.2028 - accuracy: 0.3139 - val_loss: 0.1752 - val_accuracy: 0.3721\n",
      "Epoch 100/1000\n",
      "485/485 [==============================] - 7s 15ms/step - loss: 0.2021 - accuracy: 0.3134 - val_loss: 0.1749 - val_accuracy: 0.3805\n",
      "Epoch 101/1000\n",
      "485/485 [==============================] - 7s 15ms/step - loss: 0.2019 - accuracy: 0.3169 - val_loss: 0.1748 - val_accuracy: 0.3802\n",
      "Epoch 102/1000\n",
      "485/485 [==============================] - 7s 15ms/step - loss: 0.2019 - accuracy: 0.3153 - val_loss: 0.1746 - val_accuracy: 0.3807\n",
      "Epoch 103/1000\n",
      "485/485 [==============================] - 7s 15ms/step - loss: 0.2016 - accuracy: 0.3147 - val_loss: 0.1750 - val_accuracy: 0.3779\n",
      "Epoch 104/1000\n",
      "485/485 [==============================] - 8s 16ms/step - loss: 0.2012 - accuracy: 0.3204 - val_loss: 0.1746 - val_accuracy: 0.3857\n",
      "Epoch 105/1000\n"
     ]
    },
    {
     "name": "stdout",
     "output_type": "stream",
     "text": [
      "485/485 [==============================] - 7s 15ms/step - loss: 0.2010 - accuracy: 0.3175 - val_loss: 0.1742 - val_accuracy: 0.3789\n",
      "Epoch 106/1000\n",
      "485/485 [==============================] - 7s 15ms/step - loss: 0.1998 - accuracy: 0.3200 - val_loss: 0.1741 - val_accuracy: 0.3799\n",
      "Epoch 107/1000\n",
      "485/485 [==============================] - 8s 16ms/step - loss: 0.2003 - accuracy: 0.3161 - val_loss: 0.1744 - val_accuracy: 0.3781\n",
      "Epoch 108/1000\n",
      "485/485 [==============================] - 7s 15ms/step - loss: 0.1998 - accuracy: 0.3191 - val_loss: 0.1738 - val_accuracy: 0.3878\n",
      "Epoch 109/1000\n",
      "485/485 [==============================] - 7s 15ms/step - loss: 0.2000 - accuracy: 0.3175 - val_loss: 0.1738 - val_accuracy: 0.3859\n",
      "Epoch 110/1000\n",
      "485/485 [==============================] - 7s 15ms/step - loss: 0.1998 - accuracy: 0.3211 - val_loss: 0.1736 - val_accuracy: 0.3891\n",
      "Epoch 111/1000\n",
      "485/485 [==============================] - 7s 14ms/step - loss: 0.1993 - accuracy: 0.3214 - val_loss: 0.1736 - val_accuracy: 0.3875\n",
      "Epoch 112/1000\n",
      "485/485 [==============================] - 7s 15ms/step - loss: 0.1994 - accuracy: 0.3182 - val_loss: 0.1735 - val_accuracy: 0.3841\n",
      "Epoch 113/1000\n",
      "485/485 [==============================] - 7s 15ms/step - loss: 0.1997 - accuracy: 0.3205 - val_loss: 0.1733 - val_accuracy: 0.3870\n",
      "Epoch 114/1000\n",
      "485/485 [==============================] - 8s 16ms/step - loss: 0.1992 - accuracy: 0.3198 - val_loss: 0.1734 - val_accuracy: 0.3820\n",
      "Epoch 115/1000\n",
      "485/485 [==============================] - 7s 15ms/step - loss: 0.1986 - accuracy: 0.3240 - val_loss: 0.1730 - val_accuracy: 0.3911\n",
      "Epoch 116/1000\n",
      "485/485 [==============================] - 7s 15ms/step - loss: 0.1982 - accuracy: 0.3248 - val_loss: 0.1734 - val_accuracy: 0.3865\n",
      "Epoch 117/1000\n",
      "485/485 [==============================] - 7s 15ms/step - loss: 0.1984 - accuracy: 0.3231 - val_loss: 0.1730 - val_accuracy: 0.3875\n",
      "Epoch 118/1000\n",
      "485/485 [==============================] - 7s 15ms/step - loss: 0.1981 - accuracy: 0.3257 - val_loss: 0.1728 - val_accuracy: 0.3909\n",
      "Epoch 119/1000\n",
      "485/485 [==============================] - 7s 15ms/step - loss: 0.1978 - accuracy: 0.3285 - val_loss: 0.1728 - val_accuracy: 0.3927\n",
      "Epoch 120/1000\n",
      "485/485 [==============================] - 7s 15ms/step - loss: 0.1981 - accuracy: 0.3235 - val_loss: 0.1729 - val_accuracy: 0.3888\n",
      "Epoch 121/1000\n",
      "485/485 [==============================] - 7s 15ms/step - loss: 0.1978 - accuracy: 0.3278 - val_loss: 0.1725 - val_accuracy: 0.3935\n",
      "Epoch 122/1000\n",
      "485/485 [==============================] - 8s 16ms/step - loss: 0.1972 - accuracy: 0.3303 - val_loss: 0.1722 - val_accuracy: 0.3906\n",
      "Epoch 123/1000\n",
      "485/485 [==============================] - 8s 16ms/step - loss: 0.1971 - accuracy: 0.3272 - val_loss: 0.1720 - val_accuracy: 0.3938\n",
      "Epoch 124/1000\n",
      "485/485 [==============================] - 7s 15ms/step - loss: 0.1968 - accuracy: 0.3286 - val_loss: 0.1722 - val_accuracy: 0.3930\n",
      "Epoch 125/1000\n",
      "485/485 [==============================] - 7s 15ms/step - loss: 0.1972 - accuracy: 0.3271 - val_loss: 0.1721 - val_accuracy: 0.3938\n",
      "Epoch 126/1000\n",
      "485/485 [==============================] - 7s 14ms/step - loss: 0.1965 - accuracy: 0.3270 - val_loss: 0.1720 - val_accuracy: 0.3930\n",
      "Epoch 127/1000\n",
      "485/485 [==============================] - 7s 15ms/step - loss: 0.1964 - accuracy: 0.3254 - val_loss: 0.1717 - val_accuracy: 0.3935\n",
      "Epoch 128/1000\n",
      "485/485 [==============================] - 8s 16ms/step - loss: 0.1963 - accuracy: 0.3286 - val_loss: 0.1716 - val_accuracy: 0.3969\n",
      "Epoch 129/1000\n",
      "485/485 [==============================] - 7s 15ms/step - loss: 0.1963 - accuracy: 0.3273 - val_loss: 0.1714 - val_accuracy: 0.3953\n",
      "Epoch 130/1000\n",
      "485/485 [==============================] - 7s 15ms/step - loss: 0.1959 - accuracy: 0.3296 - val_loss: 0.1715 - val_accuracy: 0.3974\n",
      "Epoch 131/1000\n",
      "485/485 [==============================] - 8s 16ms/step - loss: 0.1957 - accuracy: 0.3295 - val_loss: 0.1713 - val_accuracy: 0.3982\n",
      "Epoch 132/1000\n",
      "485/485 [==============================] - 8s 15ms/step - loss: 0.1957 - accuracy: 0.3274 - val_loss: 0.1713 - val_accuracy: 0.4023\n",
      "Epoch 133/1000\n",
      "485/485 [==============================] - 7s 15ms/step - loss: 0.1950 - accuracy: 0.3322 - val_loss: 0.1711 - val_accuracy: 0.4003\n",
      "Epoch 134/1000\n",
      "485/485 [==============================] - 8s 16ms/step - loss: 0.1957 - accuracy: 0.3276 - val_loss: 0.1716 - val_accuracy: 0.3938\n",
      "Epoch 135/1000\n",
      "485/485 [==============================] - 7s 15ms/step - loss: 0.1950 - accuracy: 0.3332 - val_loss: 0.1708 - val_accuracy: 0.4003\n",
      "Epoch 136/1000\n",
      "485/485 [==============================] - 7s 15ms/step - loss: 0.1948 - accuracy: 0.3328 - val_loss: 0.1712 - val_accuracy: 0.3995\n",
      "Epoch 137/1000\n",
      "485/485 [==============================] - 7s 15ms/step - loss: 0.1947 - accuracy: 0.3340 - val_loss: 0.1708 - val_accuracy: 0.4000\n",
      "Epoch 138/1000\n",
      "485/485 [==============================] - 7s 15ms/step - loss: 0.1948 - accuracy: 0.3319 - val_loss: 0.1707 - val_accuracy: 0.4036\n",
      "Epoch 139/1000\n",
      "485/485 [==============================] - 8s 16ms/step - loss: 0.1947 - accuracy: 0.3316 - val_loss: 0.1705 - val_accuracy: 0.4042\n",
      "Epoch 140/1000\n",
      "485/485 [==============================] - 8s 16ms/step - loss: 0.1945 - accuracy: 0.3337 - val_loss: 0.1703 - val_accuracy: 0.4010\n",
      "Epoch 141/1000\n",
      "485/485 [==============================] - 8s 16ms/step - loss: 0.1940 - accuracy: 0.3337 - val_loss: 0.1702 - val_accuracy: 0.4042\n",
      "Epoch 142/1000\n",
      "485/485 [==============================] - 7s 15ms/step - loss: 0.1941 - accuracy: 0.3313 - val_loss: 0.1703 - val_accuracy: 0.4039\n",
      "Epoch 143/1000\n",
      "485/485 [==============================] - 7s 15ms/step - loss: 0.1935 - accuracy: 0.3341 - val_loss: 0.1700 - val_accuracy: 0.4013\n",
      "Epoch 144/1000\n",
      "485/485 [==============================] - 7s 15ms/step - loss: 0.1938 - accuracy: 0.3315 - val_loss: 0.1700 - val_accuracy: 0.4042\n",
      "Epoch 145/1000\n",
      "485/485 [==============================] - 7s 15ms/step - loss: 0.1932 - accuracy: 0.3320 - val_loss: 0.1701 - val_accuracy: 0.4068\n",
      "Epoch 146/1000\n",
      "485/485 [==============================] - 7s 15ms/step - loss: 0.1936 - accuracy: 0.3322 - val_loss: 0.1697 - val_accuracy: 0.4078\n",
      "Epoch 147/1000\n",
      "485/485 [==============================] - 8s 16ms/step - loss: 0.1934 - accuracy: 0.3382 - val_loss: 0.1700 - val_accuracy: 0.4078\n",
      "Epoch 148/1000\n",
      "485/485 [==============================] - 8s 16ms/step - loss: 0.1931 - accuracy: 0.3356 - val_loss: 0.1697 - val_accuracy: 0.4070\n",
      "Epoch 149/1000\n",
      "485/485 [==============================] - 8s 16ms/step - loss: 0.1929 - accuracy: 0.3392 - val_loss: 0.1699 - val_accuracy: 0.4076\n",
      "Epoch 150/1000\n",
      "485/485 [==============================] - 8s 16ms/step - loss: 0.1932 - accuracy: 0.3354 - val_loss: 0.1697 - val_accuracy: 0.4096\n",
      "Epoch 151/1000\n",
      "485/485 [==============================] - 8s 16ms/step - loss: 0.1930 - accuracy: 0.3352 - val_loss: 0.1695 - val_accuracy: 0.4008\n",
      "Epoch 152/1000\n",
      "485/485 [==============================] - 8s 16ms/step - loss: 0.1926 - accuracy: 0.3351 - val_loss: 0.1692 - val_accuracy: 0.4086\n",
      "Epoch 153/1000\n",
      "485/485 [==============================] - 8s 16ms/step - loss: 0.1928 - accuracy: 0.3324 - val_loss: 0.1701 - val_accuracy: 0.4068\n",
      "Epoch 154/1000\n",
      "485/485 [==============================] - 8s 17ms/step - loss: 0.1920 - accuracy: 0.3385 - val_loss: 0.1690 - val_accuracy: 0.4065\n",
      "Epoch 155/1000\n",
      "485/485 [==============================] - 8s 16ms/step - loss: 0.1923 - accuracy: 0.3370 - val_loss: 0.1688 - val_accuracy: 0.4148\n",
      "Epoch 156/1000\n",
      "485/485 [==============================] - 7s 15ms/step - loss: 0.1918 - accuracy: 0.3347 - val_loss: 0.1691 - val_accuracy: 0.4083\n",
      "Epoch 157/1000\n",
      "485/485 [==============================] - 8s 16ms/step - loss: 0.1924 - accuracy: 0.3373 - val_loss: 0.1688 - val_accuracy: 0.4104\n",
      "Epoch 158/1000\n",
      "485/485 [==============================] - 7s 15ms/step - loss: 0.1922 - accuracy: 0.3378 - val_loss: 0.1684 - val_accuracy: 0.4052\n",
      "Epoch 159/1000\n",
      "485/485 [==============================] - 8s 16ms/step - loss: 0.1913 - accuracy: 0.3363 - val_loss: 0.1688 - val_accuracy: 0.4089\n",
      "Epoch 160/1000\n",
      "485/485 [==============================] - 7s 15ms/step - loss: 0.1917 - accuracy: 0.3362 - val_loss: 0.1684 - val_accuracy: 0.4062\n"
     ]
    },
    {
     "name": "stdout",
     "output_type": "stream",
     "text": [
      "Epoch 161/1000\n",
      "485/485 [==============================] - 7s 15ms/step - loss: 0.1912 - accuracy: 0.3390 - val_loss: 0.1686 - val_accuracy: 0.4052\n",
      "Epoch 162/1000\n",
      "485/485 [==============================] - 7s 15ms/step - loss: 0.1910 - accuracy: 0.3404 - val_loss: 0.1686 - val_accuracy: 0.4115\n",
      "Epoch 163/1000\n",
      "485/485 [==============================] - 8s 16ms/step - loss: 0.1910 - accuracy: 0.3394 - val_loss: 0.1680 - val_accuracy: 0.4089\n",
      "Epoch 164/1000\n",
      "485/485 [==============================] - 8s 16ms/step - loss: 0.1910 - accuracy: 0.3388 - val_loss: 0.1680 - val_accuracy: 0.4068\n",
      "Epoch 165/1000\n",
      "485/485 [==============================] - 8s 16ms/step - loss: 0.1905 - accuracy: 0.3399 - val_loss: 0.1680 - val_accuracy: 0.4130\n",
      "Epoch 166/1000\n",
      "485/485 [==============================] - 8s 16ms/step - loss: 0.1908 - accuracy: 0.3353 - val_loss: 0.1678 - val_accuracy: 0.4102\n",
      "Epoch 167/1000\n",
      "485/485 [==============================] - 7s 15ms/step - loss: 0.1911 - accuracy: 0.3400 - val_loss: 0.1679 - val_accuracy: 0.4096\n",
      "Epoch 168/1000\n",
      "485/485 [==============================] - 7s 15ms/step - loss: 0.1911 - accuracy: 0.3404 - val_loss: 0.1676 - val_accuracy: 0.4120\n",
      "Epoch 169/1000\n",
      "485/485 [==============================] - 7s 15ms/step - loss: 0.1909 - accuracy: 0.3375 - val_loss: 0.1679 - val_accuracy: 0.4130\n",
      "Epoch 170/1000\n",
      "485/485 [==============================] - 8s 16ms/step - loss: 0.1900 - accuracy: 0.3438 - val_loss: 0.1682 - val_accuracy: 0.4099\n",
      "Epoch 171/1000\n",
      "485/485 [==============================] - 8s 16ms/step - loss: 0.1905 - accuracy: 0.3411 - val_loss: 0.1685 - val_accuracy: 0.4078\n",
      "Epoch 172/1000\n",
      "485/485 [==============================] - 8s 16ms/step - loss: 0.1903 - accuracy: 0.3433 - val_loss: 0.1680 - val_accuracy: 0.4078\n",
      "Epoch 173/1000\n",
      "485/485 [==============================] - 8s 16ms/step - loss: 0.1908 - accuracy: 0.3408 - val_loss: 0.1676 - val_accuracy: 0.4141\n",
      "Epoch 174/1000\n",
      "485/485 [==============================] - 8s 16ms/step - loss: 0.1897 - accuracy: 0.3391 - val_loss: 0.1673 - val_accuracy: 0.4133\n",
      "Epoch 175/1000\n",
      "485/485 [==============================] - 8s 16ms/step - loss: 0.1898 - accuracy: 0.3425 - val_loss: 0.1674 - val_accuracy: 0.4151\n",
      "Epoch 176/1000\n",
      "485/485 [==============================] - 8s 16ms/step - loss: 0.1899 - accuracy: 0.3388 - val_loss: 0.1672 - val_accuracy: 0.4130\n",
      "Epoch 177/1000\n",
      "485/485 [==============================] - 8s 16ms/step - loss: 0.1895 - accuracy: 0.3393 - val_loss: 0.1671 - val_accuracy: 0.4135\n",
      "Epoch 178/1000\n",
      "485/485 [==============================] - 8s 16ms/step - loss: 0.1899 - accuracy: 0.3427 - val_loss: 0.1671 - val_accuracy: 0.4159\n",
      "Epoch 179/1000\n",
      "485/485 [==============================] - 7s 15ms/step - loss: 0.1896 - accuracy: 0.3427 - val_loss: 0.1668 - val_accuracy: 0.4138\n",
      "Epoch 180/1000\n",
      "485/485 [==============================] - 7s 15ms/step - loss: 0.1898 - accuracy: 0.3403 - val_loss: 0.1671 - val_accuracy: 0.4130\n",
      "Epoch 181/1000\n",
      "485/485 [==============================] - 7s 15ms/step - loss: 0.1887 - accuracy: 0.3422 - val_loss: 0.1668 - val_accuracy: 0.4177\n",
      "Epoch 182/1000\n",
      "485/485 [==============================] - 7s 15ms/step - loss: 0.1893 - accuracy: 0.3373 - val_loss: 0.1667 - val_accuracy: 0.4159\n",
      "Epoch 183/1000\n",
      "485/485 [==============================] - 7s 15ms/step - loss: 0.1891 - accuracy: 0.3433 - val_loss: 0.1668 - val_accuracy: 0.4143\n",
      "Epoch 184/1000\n",
      "485/485 [==============================] - 7s 15ms/step - loss: 0.1892 - accuracy: 0.3424 - val_loss: 0.1668 - val_accuracy: 0.4122\n",
      "Epoch 185/1000\n",
      "485/485 [==============================] - 7s 15ms/step - loss: 0.1886 - accuracy: 0.3442 - val_loss: 0.1670 - val_accuracy: 0.4138\n",
      "Epoch 186/1000\n",
      "485/485 [==============================] - 8s 16ms/step - loss: 0.1888 - accuracy: 0.3426 - val_loss: 0.1659 - val_accuracy: 0.4159\n",
      "Epoch 187/1000\n",
      "485/485 [==============================] - 8s 15ms/step - loss: 0.1886 - accuracy: 0.3429 - val_loss: 0.1668 - val_accuracy: 0.4120\n",
      "Epoch 188/1000\n",
      "485/485 [==============================] - 7s 15ms/step - loss: 0.1884 - accuracy: 0.3430 - val_loss: 0.1664 - val_accuracy: 0.4159\n",
      "Epoch 189/1000\n",
      "485/485 [==============================] - 7s 15ms/step - loss: 0.1892 - accuracy: 0.3417 - val_loss: 0.1660 - val_accuracy: 0.4156\n",
      "Epoch 190/1000\n",
      "485/485 [==============================] - 8s 16ms/step - loss: 0.1886 - accuracy: 0.3458 - val_loss: 0.1662 - val_accuracy: 0.4143\n",
      "Epoch 191/1000\n",
      "485/485 [==============================] - 8s 16ms/step - loss: 0.1885 - accuracy: 0.3428 - val_loss: 0.1657 - val_accuracy: 0.4224\n",
      "Epoch 192/1000\n",
      "485/485 [==============================] - 8s 16ms/step - loss: 0.1880 - accuracy: 0.3457 - val_loss: 0.1660 - val_accuracy: 0.4219\n",
      "Epoch 193/1000\n",
      "485/485 [==============================] - 7s 15ms/step - loss: 0.1880 - accuracy: 0.3445 - val_loss: 0.1661 - val_accuracy: 0.4154\n",
      "Epoch 194/1000\n",
      "485/485 [==============================] - 7s 15ms/step - loss: 0.1881 - accuracy: 0.3431 - val_loss: 0.1656 - val_accuracy: 0.4185\n",
      "Epoch 195/1000\n",
      "485/485 [==============================] - 7s 15ms/step - loss: 0.1877 - accuracy: 0.3456 - val_loss: 0.1658 - val_accuracy: 0.4211\n",
      "Epoch 196/1000\n",
      "485/485 [==============================] - 7s 15ms/step - loss: 0.1879 - accuracy: 0.3470 - val_loss: 0.1657 - val_accuracy: 0.4177\n",
      "Epoch 197/1000\n",
      "485/485 [==============================] - 7s 15ms/step - loss: 0.1877 - accuracy: 0.3487 - val_loss: 0.1655 - val_accuracy: 0.4141\n",
      "Epoch 198/1000\n",
      "485/485 [==============================] - 8s 16ms/step - loss: 0.1873 - accuracy: 0.3477 - val_loss: 0.1651 - val_accuracy: 0.4219\n",
      "Epoch 199/1000\n",
      "485/485 [==============================] - 7s 15ms/step - loss: 0.1870 - accuracy: 0.3471 - val_loss: 0.1654 - val_accuracy: 0.4190\n",
      "Epoch 200/1000\n",
      "485/485 [==============================] - 8s 16ms/step - loss: 0.1874 - accuracy: 0.3479 - val_loss: 0.1658 - val_accuracy: 0.4174\n",
      "Epoch 201/1000\n",
      "485/485 [==============================] - 8s 16ms/step - loss: 0.1872 - accuracy: 0.3485 - val_loss: 0.1654 - val_accuracy: 0.4190\n",
      "Epoch 202/1000\n",
      "485/485 [==============================] - 8s 16ms/step - loss: 0.1869 - accuracy: 0.3463 - val_loss: 0.1652 - val_accuracy: 0.4211\n",
      "Epoch 203/1000\n",
      "485/485 [==============================] - 8s 16ms/step - loss: 0.1869 - accuracy: 0.3473 - val_loss: 0.1655 - val_accuracy: 0.4224\n",
      "Epoch 204/1000\n",
      "485/485 [==============================] - 8s 16ms/step - loss: 0.1869 - accuracy: 0.3450 - val_loss: 0.1650 - val_accuracy: 0.4255\n",
      "Epoch 205/1000\n",
      "485/485 [==============================] - 8s 16ms/step - loss: 0.1867 - accuracy: 0.3490 - val_loss: 0.1648 - val_accuracy: 0.4258\n",
      "Epoch 206/1000\n",
      "485/485 [==============================] - 8s 16ms/step - loss: 0.1866 - accuracy: 0.3459 - val_loss: 0.1648 - val_accuracy: 0.4227\n",
      "Epoch 207/1000\n",
      "485/485 [==============================] - 7s 15ms/step - loss: 0.1871 - accuracy: 0.3463 - val_loss: 0.1649 - val_accuracy: 0.4219\n",
      "Epoch 208/1000\n",
      "485/485 [==============================] - 7s 15ms/step - loss: 0.1871 - accuracy: 0.3436 - val_loss: 0.1647 - val_accuracy: 0.4292\n",
      "Epoch 209/1000\n",
      "485/485 [==============================] - 7s 15ms/step - loss: 0.1868 - accuracy: 0.3522 - val_loss: 0.1645 - val_accuracy: 0.4208\n",
      "Epoch 210/1000\n",
      "485/485 [==============================] - 8s 16ms/step - loss: 0.1869 - accuracy: 0.3453 - val_loss: 0.1647 - val_accuracy: 0.4247\n",
      "Epoch 211/1000\n",
      "485/485 [==============================] - 8s 16ms/step - loss: 0.1864 - accuracy: 0.3458 - val_loss: 0.1644 - val_accuracy: 0.4182\n",
      "Epoch 212/1000\n",
      "485/485 [==============================] - 7s 15ms/step - loss: 0.1863 - accuracy: 0.3484 - val_loss: 0.1646 - val_accuracy: 0.4292\n",
      "Epoch 213/1000\n",
      "485/485 [==============================] - 7s 15ms/step - loss: 0.1859 - accuracy: 0.3456 - val_loss: 0.1642 - val_accuracy: 0.4208\n",
      "Epoch 214/1000\n",
      "485/485 [==============================] - 7s 15ms/step - loss: 0.1861 - accuracy: 0.3471 - val_loss: 0.1641 - val_accuracy: 0.4310\n",
      "Epoch 215/1000\n",
      "485/485 [==============================] - 7s 15ms/step - loss: 0.1863 - accuracy: 0.3470 - val_loss: 0.1644 - val_accuracy: 0.4242\n",
      "Epoch 216/1000\n",
      "485/485 [==============================] - 7s 15ms/step - loss: 0.1864 - accuracy: 0.3479 - val_loss: 0.1641 - val_accuracy: 0.4292\n"
     ]
    },
    {
     "name": "stdout",
     "output_type": "stream",
     "text": [
      "Epoch 217/1000\n",
      "485/485 [==============================] - 7s 15ms/step - loss: 0.1858 - accuracy: 0.3487 - val_loss: 0.1645 - val_accuracy: 0.4216\n",
      "Epoch 218/1000\n",
      "485/485 [==============================] - 7s 15ms/step - loss: 0.1857 - accuracy: 0.3484 - val_loss: 0.1640 - val_accuracy: 0.4281\n",
      "Epoch 219/1000\n",
      "485/485 [==============================] - 7s 15ms/step - loss: 0.1860 - accuracy: 0.3455 - val_loss: 0.1644 - val_accuracy: 0.4245\n",
      "Epoch 220/1000\n",
      "485/485 [==============================] - 8s 16ms/step - loss: 0.1857 - accuracy: 0.3492 - val_loss: 0.1636 - val_accuracy: 0.4307\n",
      "Epoch 221/1000\n",
      "485/485 [==============================] - 8s 16ms/step - loss: 0.1853 - accuracy: 0.3474 - val_loss: 0.1641 - val_accuracy: 0.4260\n",
      "Epoch 222/1000\n",
      "485/485 [==============================] - 8s 16ms/step - loss: 0.1853 - accuracy: 0.3525 - val_loss: 0.1635 - val_accuracy: 0.4258\n",
      "Epoch 223/1000\n",
      "485/485 [==============================] - 7s 15ms/step - loss: 0.1857 - accuracy: 0.3492 - val_loss: 0.1636 - val_accuracy: 0.4242\n",
      "Epoch 224/1000\n",
      "485/485 [==============================] - 8s 16ms/step - loss: 0.1851 - accuracy: 0.3476 - val_loss: 0.1637 - val_accuracy: 0.4294\n",
      "Epoch 225/1000\n",
      "485/485 [==============================] - 8s 16ms/step - loss: 0.1850 - accuracy: 0.3518 - val_loss: 0.1636 - val_accuracy: 0.4250\n",
      "Epoch 226/1000\n",
      "485/485 [==============================] - 7s 15ms/step - loss: 0.1854 - accuracy: 0.3510 - val_loss: 0.1632 - val_accuracy: 0.4286\n",
      "Epoch 227/1000\n",
      "485/485 [==============================] - 7s 15ms/step - loss: 0.1851 - accuracy: 0.3494 - val_loss: 0.1635 - val_accuracy: 0.4310\n",
      "Epoch 228/1000\n",
      "485/485 [==============================] - 7s 15ms/step - loss: 0.1850 - accuracy: 0.3478 - val_loss: 0.1634 - val_accuracy: 0.4307\n",
      "Epoch 229/1000\n",
      "485/485 [==============================] - 8s 15ms/step - loss: 0.1847 - accuracy: 0.3516 - val_loss: 0.1630 - val_accuracy: 0.4315\n",
      "Epoch 230/1000\n",
      "485/485 [==============================] - 8s 16ms/step - loss: 0.1853 - accuracy: 0.3495 - val_loss: 0.1632 - val_accuracy: 0.4307\n",
      "Epoch 231/1000\n",
      "485/485 [==============================] - 8s 16ms/step - loss: 0.1849 - accuracy: 0.3495 - val_loss: 0.1632 - val_accuracy: 0.4302\n",
      "Epoch 232/1000\n",
      "485/485 [==============================] - 8s 16ms/step - loss: 0.1847 - accuracy: 0.3510 - val_loss: 0.1628 - val_accuracy: 0.4305\n",
      "Epoch 233/1000\n",
      "485/485 [==============================] - 7s 15ms/step - loss: 0.1843 - accuracy: 0.3509 - val_loss: 0.1629 - val_accuracy: 0.4320\n",
      "Epoch 234/1000\n",
      "485/485 [==============================] - 7s 15ms/step - loss: 0.1847 - accuracy: 0.3506 - val_loss: 0.1627 - val_accuracy: 0.4281\n",
      "Epoch 235/1000\n",
      "485/485 [==============================] - 7s 15ms/step - loss: 0.1841 - accuracy: 0.3517 - val_loss: 0.1627 - val_accuracy: 0.4333\n",
      "Epoch 236/1000\n",
      "485/485 [==============================] - 7s 15ms/step - loss: 0.1842 - accuracy: 0.3498 - val_loss: 0.1626 - val_accuracy: 0.4302\n",
      "Epoch 237/1000\n",
      "485/485 [==============================] - 7s 15ms/step - loss: 0.1843 - accuracy: 0.3520 - val_loss: 0.1624 - val_accuracy: 0.4326\n",
      "Epoch 238/1000\n",
      "485/485 [==============================] - 7s 15ms/step - loss: 0.1851 - accuracy: 0.3506 - val_loss: 0.1629 - val_accuracy: 0.4326\n",
      "Epoch 239/1000\n",
      "485/485 [==============================] - 7s 15ms/step - loss: 0.1839 - accuracy: 0.3573 - val_loss: 0.1624 - val_accuracy: 0.4336\n",
      "Epoch 240/1000\n",
      "485/485 [==============================] - 8s 15ms/step - loss: 0.1842 - accuracy: 0.3521 - val_loss: 0.1623 - val_accuracy: 0.4315\n",
      "Epoch 241/1000\n",
      "485/485 [==============================] - 8s 16ms/step - loss: 0.1843 - accuracy: 0.3481 - val_loss: 0.1625 - val_accuracy: 0.4357\n",
      "Epoch 242/1000\n",
      "485/485 [==============================] - 7s 15ms/step - loss: 0.1842 - accuracy: 0.3499 - val_loss: 0.1627 - val_accuracy: 0.4279\n",
      "Epoch 243/1000\n",
      "485/485 [==============================] - 7s 15ms/step - loss: 0.1839 - accuracy: 0.3503 - val_loss: 0.1622 - val_accuracy: 0.4333\n",
      "Epoch 244/1000\n",
      "485/485 [==============================] - 7s 15ms/step - loss: 0.1842 - accuracy: 0.3495 - val_loss: 0.1619 - val_accuracy: 0.4336\n",
      "Epoch 245/1000\n",
      "485/485 [==============================] - 7s 15ms/step - loss: 0.1839 - accuracy: 0.3524 - val_loss: 0.1623 - val_accuracy: 0.4313\n",
      "Epoch 246/1000\n",
      "485/485 [==============================] - 7s 15ms/step - loss: 0.1842 - accuracy: 0.3505 - val_loss: 0.1620 - val_accuracy: 0.4367\n",
      "Epoch 247/1000\n",
      "485/485 [==============================] - 7s 15ms/step - loss: 0.1838 - accuracy: 0.3512 - val_loss: 0.1619 - val_accuracy: 0.4323\n",
      "Epoch 248/1000\n",
      "485/485 [==============================] - 8s 16ms/step - loss: 0.1845 - accuracy: 0.3492 - val_loss: 0.1619 - val_accuracy: 0.4367\n",
      "Epoch 249/1000\n",
      "485/485 [==============================] - 8s 16ms/step - loss: 0.1839 - accuracy: 0.3533 - val_loss: 0.1617 - val_accuracy: 0.4346\n",
      "Epoch 250/1000\n",
      "485/485 [==============================] - 8s 16ms/step - loss: 0.1840 - accuracy: 0.3530 - val_loss: 0.1616 - val_accuracy: 0.4333\n",
      "Epoch 251/1000\n",
      "485/485 [==============================] - 7s 15ms/step - loss: 0.1833 - accuracy: 0.3530 - val_loss: 0.1620 - val_accuracy: 0.4349\n",
      "Epoch 252/1000\n",
      "485/485 [==============================] - 7s 15ms/step - loss: 0.1835 - accuracy: 0.3532 - val_loss: 0.1617 - val_accuracy: 0.4349\n",
      "Epoch 253/1000\n",
      "485/485 [==============================] - 7s 15ms/step - loss: 0.1830 - accuracy: 0.3554 - val_loss: 0.1619 - val_accuracy: 0.4349\n",
      "Epoch 254/1000\n",
      "485/485 [==============================] - 7s 15ms/step - loss: 0.1830 - accuracy: 0.3516 - val_loss: 0.1619 - val_accuracy: 0.4336\n",
      "Epoch 255/1000\n",
      "485/485 [==============================] - 7s 15ms/step - loss: 0.1830 - accuracy: 0.3550 - val_loss: 0.1619 - val_accuracy: 0.4307\n",
      "Epoch 256/1000\n",
      "485/485 [==============================] - 8s 16ms/step - loss: 0.1833 - accuracy: 0.3524 - val_loss: 0.1619 - val_accuracy: 0.4310\n",
      "Epoch 257/1000\n",
      "485/485 [==============================] - 7s 15ms/step - loss: 0.1832 - accuracy: 0.3522 - val_loss: 0.1614 - val_accuracy: 0.4346\n",
      "Epoch 258/1000\n",
      "485/485 [==============================] - 7s 15ms/step - loss: 0.1832 - accuracy: 0.3517 - val_loss: 0.1614 - val_accuracy: 0.4333\n",
      "Epoch 259/1000\n",
      "485/485 [==============================] - 7s 15ms/step - loss: 0.1828 - accuracy: 0.3545 - val_loss: 0.1611 - val_accuracy: 0.4367\n",
      "Epoch 260/1000\n",
      "485/485 [==============================] - 7s 15ms/step - loss: 0.1832 - accuracy: 0.3510 - val_loss: 0.1615 - val_accuracy: 0.4326\n",
      "Epoch 261/1000\n",
      "485/485 [==============================] - 8s 16ms/step - loss: 0.1826 - accuracy: 0.3550 - val_loss: 0.1612 - val_accuracy: 0.4344\n",
      "Epoch 262/1000\n",
      "485/485 [==============================] - 8s 16ms/step - loss: 0.1832 - accuracy: 0.3545 - val_loss: 0.1612 - val_accuracy: 0.4380\n",
      "Epoch 263/1000\n",
      "485/485 [==============================] - 8s 16ms/step - loss: 0.1829 - accuracy: 0.3565 - val_loss: 0.1615 - val_accuracy: 0.4341\n",
      "Epoch 264/1000\n",
      "485/485 [==============================] - 7s 15ms/step - loss: 0.1830 - accuracy: 0.3532 - val_loss: 0.1610 - val_accuracy: 0.4362\n",
      "Epoch 265/1000\n",
      "485/485 [==============================] - 8s 16ms/step - loss: 0.1822 - accuracy: 0.3562 - val_loss: 0.1610 - val_accuracy: 0.4349\n",
      "Epoch 266/1000\n",
      "485/485 [==============================] - 8s 16ms/step - loss: 0.1827 - accuracy: 0.3554 - val_loss: 0.1610 - val_accuracy: 0.4372\n",
      "Epoch 267/1000\n",
      "485/485 [==============================] - 7s 15ms/step - loss: 0.1827 - accuracy: 0.3544 - val_loss: 0.1611 - val_accuracy: 0.4378\n",
      "Epoch 268/1000\n",
      "485/485 [==============================] - 7s 15ms/step - loss: 0.1822 - accuracy: 0.3563 - val_loss: 0.1612 - val_accuracy: 0.4375\n",
      "Epoch 269/1000\n",
      "485/485 [==============================] - 8s 16ms/step - loss: 0.1820 - accuracy: 0.3571 - val_loss: 0.1610 - val_accuracy: 0.4362\n",
      "Epoch 270/1000\n",
      "485/485 [==============================] - 7s 15ms/step - loss: 0.1823 - accuracy: 0.3559 - val_loss: 0.1609 - val_accuracy: 0.4372\n",
      "Epoch 271/1000\n",
      "485/485 [==============================] - 7s 15ms/step - loss: 0.1820 - accuracy: 0.3559 - val_loss: 0.1608 - val_accuracy: 0.4341\n",
      "Epoch 272/1000\n",
      "485/485 [==============================] - 7s 15ms/step - loss: 0.1822 - accuracy: 0.3552 - val_loss: 0.1607 - val_accuracy: 0.4333\n"
     ]
    },
    {
     "name": "stdout",
     "output_type": "stream",
     "text": [
      "Epoch 273/1000\n",
      "485/485 [==============================] - 7s 15ms/step - loss: 0.1819 - accuracy: 0.3545 - val_loss: 0.1607 - val_accuracy: 0.4346\n",
      "Epoch 274/1000\n",
      "485/485 [==============================] - 7s 15ms/step - loss: 0.1828 - accuracy: 0.3536 - val_loss: 0.1608 - val_accuracy: 0.4354\n",
      "Epoch 275/1000\n",
      "485/485 [==============================] - 8s 16ms/step - loss: 0.1823 - accuracy: 0.3526 - val_loss: 0.1605 - val_accuracy: 0.4365\n",
      "Epoch 276/1000\n",
      "485/485 [==============================] - 7s 15ms/step - loss: 0.1819 - accuracy: 0.3542 - val_loss: 0.1608 - val_accuracy: 0.4352\n",
      "Epoch 277/1000\n",
      "485/485 [==============================] - 7s 15ms/step - loss: 0.1824 - accuracy: 0.3517 - val_loss: 0.1605 - val_accuracy: 0.4372\n",
      "Epoch 278/1000\n",
      "485/485 [==============================] - 7s 15ms/step - loss: 0.1820 - accuracy: 0.3543 - val_loss: 0.1605 - val_accuracy: 0.4401\n",
      "Epoch 279/1000\n",
      "485/485 [==============================] - 7s 15ms/step - loss: 0.1818 - accuracy: 0.3574 - val_loss: 0.1602 - val_accuracy: 0.4393\n",
      "Epoch 280/1000\n",
      "485/485 [==============================] - 7s 15ms/step - loss: 0.1818 - accuracy: 0.3561 - val_loss: 0.1602 - val_accuracy: 0.4367\n",
      "Epoch 281/1000\n",
      "485/485 [==============================] - 7s 15ms/step - loss: 0.1817 - accuracy: 0.3566 - val_loss: 0.1605 - val_accuracy: 0.4346\n",
      "Epoch 282/1000\n",
      "485/485 [==============================] - 7s 14ms/step - loss: 0.1818 - accuracy: 0.3558 - val_loss: 0.1603 - val_accuracy: 0.4352\n",
      "Epoch 283/1000\n",
      "485/485 [==============================] - 7s 15ms/step - loss: 0.1815 - accuracy: 0.3575 - val_loss: 0.1601 - val_accuracy: 0.4378\n",
      "Epoch 284/1000\n",
      "485/485 [==============================] - 7s 15ms/step - loss: 0.1816 - accuracy: 0.3566 - val_loss: 0.1603 - val_accuracy: 0.4367\n",
      "Epoch 285/1000\n",
      "485/485 [==============================] - 7s 15ms/step - loss: 0.1815 - accuracy: 0.3563 - val_loss: 0.1602 - val_accuracy: 0.4370\n",
      "Epoch 286/1000\n",
      "485/485 [==============================] - 8s 16ms/step - loss: 0.1813 - accuracy: 0.3574 - val_loss: 0.1601 - val_accuracy: 0.4378\n",
      "Epoch 287/1000\n",
      "485/485 [==============================] - 8s 16ms/step - loss: 0.1813 - accuracy: 0.3579 - val_loss: 0.1602 - val_accuracy: 0.4378\n",
      "Epoch 288/1000\n",
      "485/485 [==============================] - 8s 16ms/step - loss: 0.1812 - accuracy: 0.3575 - val_loss: 0.1598 - val_accuracy: 0.4383\n",
      "Epoch 289/1000\n",
      "485/485 [==============================] - 8s 16ms/step - loss: 0.1815 - accuracy: 0.3558 - val_loss: 0.1599 - val_accuracy: 0.4391\n",
      "Epoch 290/1000\n",
      "485/485 [==============================] - 8s 17ms/step - loss: 0.1816 - accuracy: 0.3543 - val_loss: 0.1600 - val_accuracy: 0.4385\n",
      "Epoch 291/1000\n",
      "485/485 [==============================] - 8s 16ms/step - loss: 0.1813 - accuracy: 0.3572 - val_loss: 0.1601 - val_accuracy: 0.4375\n",
      "Epoch 292/1000\n",
      "485/485 [==============================] - 8s 16ms/step - loss: 0.1810 - accuracy: 0.3590 - val_loss: 0.1599 - val_accuracy: 0.4372\n",
      "Epoch 293/1000\n",
      "485/485 [==============================] - 8s 16ms/step - loss: 0.1812 - accuracy: 0.3527 - val_loss: 0.1597 - val_accuracy: 0.4385\n",
      "Epoch 294/1000\n",
      "485/485 [==============================] - 7s 15ms/step - loss: 0.1809 - accuracy: 0.3569 - val_loss: 0.1598 - val_accuracy: 0.4393\n",
      "Epoch 295/1000\n",
      "485/485 [==============================] - 8s 16ms/step - loss: 0.1804 - accuracy: 0.3569 - val_loss: 0.1597 - val_accuracy: 0.4378\n",
      "Epoch 296/1000\n",
      "485/485 [==============================] - 8s 16ms/step - loss: 0.1808 - accuracy: 0.3556 - val_loss: 0.1597 - val_accuracy: 0.4388\n",
      "Epoch 297/1000\n",
      "485/485 [==============================] - 8s 16ms/step - loss: 0.1811 - accuracy: 0.3569 - val_loss: 0.1596 - val_accuracy: 0.4393\n",
      "Epoch 298/1000\n",
      "485/485 [==============================] - 7s 15ms/step - loss: 0.1812 - accuracy: 0.3574 - val_loss: 0.1596 - val_accuracy: 0.4367\n",
      "Epoch 299/1000\n",
      "485/485 [==============================] - 7s 15ms/step - loss: 0.1808 - accuracy: 0.3554 - val_loss: 0.1594 - val_accuracy: 0.4388\n",
      "Epoch 300/1000\n",
      "485/485 [==============================] - 7s 15ms/step - loss: 0.1807 - accuracy: 0.3566 - val_loss: 0.1595 - val_accuracy: 0.4388\n",
      "Epoch 301/1000\n",
      "485/485 [==============================] - 7s 15ms/step - loss: 0.1808 - accuracy: 0.3569 - val_loss: 0.1596 - val_accuracy: 0.4380\n",
      "Epoch 302/1000\n",
      "485/485 [==============================] - 7s 15ms/step - loss: 0.1801 - accuracy: 0.3561 - val_loss: 0.1593 - val_accuracy: 0.4391\n",
      "Epoch 303/1000\n",
      "485/485 [==============================] - 8s 15ms/step - loss: 0.1808 - accuracy: 0.3568 - val_loss: 0.1595 - val_accuracy: 0.4409\n",
      "Epoch 304/1000\n",
      "485/485 [==============================] - 7s 15ms/step - loss: 0.1806 - accuracy: 0.3620 - val_loss: 0.1592 - val_accuracy: 0.4398\n",
      "Epoch 305/1000\n",
      "485/485 [==============================] - 7s 15ms/step - loss: 0.1806 - accuracy: 0.3609 - val_loss: 0.1592 - val_accuracy: 0.4388\n",
      "Epoch 306/1000\n",
      "485/485 [==============================] - 7s 15ms/step - loss: 0.1803 - accuracy: 0.3565 - val_loss: 0.1595 - val_accuracy: 0.4383\n",
      "Epoch 307/1000\n",
      "485/485 [==============================] - 7s 15ms/step - loss: 0.1802 - accuracy: 0.3553 - val_loss: 0.1593 - val_accuracy: 0.4383\n",
      "Epoch 308/1000\n",
      "485/485 [==============================] - 7s 14ms/step - loss: 0.1799 - accuracy: 0.3604 - val_loss: 0.1592 - val_accuracy: 0.4380\n",
      "Epoch 309/1000\n",
      "485/485 [==============================] - 7s 15ms/step - loss: 0.1802 - accuracy: 0.3569 - val_loss: 0.1592 - val_accuracy: 0.4419\n",
      "Epoch 310/1000\n",
      "485/485 [==============================] - 8s 16ms/step - loss: 0.1803 - accuracy: 0.3584 - val_loss: 0.1591 - val_accuracy: 0.4409\n",
      "Epoch 311/1000\n",
      "485/485 [==============================] - 8s 16ms/step - loss: 0.1805 - accuracy: 0.3572 - val_loss: 0.1592 - val_accuracy: 0.4396\n",
      "Epoch 312/1000\n",
      "485/485 [==============================] - 7s 15ms/step - loss: 0.1805 - accuracy: 0.3587 - val_loss: 0.1590 - val_accuracy: 0.4401\n",
      "Epoch 313/1000\n",
      "485/485 [==============================] - 8s 16ms/step - loss: 0.1802 - accuracy: 0.3601 - val_loss: 0.1589 - val_accuracy: 0.4396\n",
      "Epoch 314/1000\n",
      "485/485 [==============================] - 8s 16ms/step - loss: 0.1804 - accuracy: 0.3543 - val_loss: 0.1592 - val_accuracy: 0.4385\n",
      "Epoch 315/1000\n",
      "485/485 [==============================] - 7s 15ms/step - loss: 0.1801 - accuracy: 0.3568 - val_loss: 0.1590 - val_accuracy: 0.4409\n",
      "Epoch 316/1000\n",
      "485/485 [==============================] - 7s 15ms/step - loss: 0.1794 - accuracy: 0.3602 - val_loss: 0.1588 - val_accuracy: 0.4411\n",
      "Epoch 317/1000\n",
      "485/485 [==============================] - 7s 15ms/step - loss: 0.1801 - accuracy: 0.3579 - val_loss: 0.1590 - val_accuracy: 0.4406\n",
      "Epoch 318/1000\n",
      "485/485 [==============================] - 7s 15ms/step - loss: 0.1798 - accuracy: 0.3586 - val_loss: 0.1586 - val_accuracy: 0.4414\n",
      "Epoch 319/1000\n",
      "485/485 [==============================] - 7s 15ms/step - loss: 0.1800 - accuracy: 0.3591 - val_loss: 0.1590 - val_accuracy: 0.4396\n",
      "Epoch 320/1000\n",
      "485/485 [==============================] - 7s 15ms/step - loss: 0.1800 - accuracy: 0.3591 - val_loss: 0.1587 - val_accuracy: 0.4391\n",
      "Epoch 321/1000\n",
      "485/485 [==============================] - 7s 15ms/step - loss: 0.1797 - accuracy: 0.3600 - val_loss: 0.1588 - val_accuracy: 0.4422\n",
      "Epoch 322/1000\n",
      "485/485 [==============================] - 8s 16ms/step - loss: 0.1799 - accuracy: 0.3554 - val_loss: 0.1582 - val_accuracy: 0.4435\n",
      "Epoch 323/1000\n",
      "485/485 [==============================] - 7s 15ms/step - loss: 0.1799 - accuracy: 0.3543 - val_loss: 0.1589 - val_accuracy: 0.4393\n",
      "Epoch 324/1000\n",
      "485/485 [==============================] - 8s 15ms/step - loss: 0.1794 - accuracy: 0.3575 - val_loss: 0.1584 - val_accuracy: 0.4422\n",
      "Epoch 325/1000\n",
      "485/485 [==============================] - 8s 16ms/step - loss: 0.1798 - accuracy: 0.3586 - val_loss: 0.1584 - val_accuracy: 0.4424\n",
      "Epoch 326/1000\n",
      "485/485 [==============================] - 8s 15ms/step - loss: 0.1795 - accuracy: 0.3584 - val_loss: 0.1584 - val_accuracy: 0.4422\n",
      "Epoch 327/1000\n",
      "485/485 [==============================] - 7s 15ms/step - loss: 0.1798 - accuracy: 0.3600 - val_loss: 0.1585 - val_accuracy: 0.4393\n",
      "Epoch 328/1000\n",
      "485/485 [==============================] - 8s 16ms/step - loss: 0.1796 - accuracy: 0.3634 - val_loss: 0.1585 - val_accuracy: 0.4409\n"
     ]
    },
    {
     "name": "stdout",
     "output_type": "stream",
     "text": [
      "Epoch 329/1000\n",
      "485/485 [==============================] - 8s 16ms/step - loss: 0.1793 - accuracy: 0.3598 - val_loss: 0.1583 - val_accuracy: 0.4422\n",
      "Epoch 330/1000\n",
      "485/485 [==============================] - 8s 16ms/step - loss: 0.1788 - accuracy: 0.3620 - val_loss: 0.1587 - val_accuracy: 0.4388\n",
      "Epoch 331/1000\n",
      "485/485 [==============================] - 7s 15ms/step - loss: 0.1790 - accuracy: 0.3582 - val_loss: 0.1588 - val_accuracy: 0.4406\n",
      "Epoch 332/1000\n",
      "485/485 [==============================] - 7s 15ms/step - loss: 0.1799 - accuracy: 0.3597 - val_loss: 0.1582 - val_accuracy: 0.4430\n",
      "Epoch 333/1000\n",
      "485/485 [==============================] - 7s 15ms/step - loss: 0.1798 - accuracy: 0.3621 - val_loss: 0.1584 - val_accuracy: 0.4411\n",
      "Epoch 334/1000\n",
      "485/485 [==============================] - 7s 15ms/step - loss: 0.1789 - accuracy: 0.3619 - val_loss: 0.1582 - val_accuracy: 0.4419\n",
      "Epoch 335/1000\n",
      "485/485 [==============================] - 7s 15ms/step - loss: 0.1795 - accuracy: 0.3595 - val_loss: 0.1583 - val_accuracy: 0.4437\n",
      "Epoch 336/1000\n",
      "485/485 [==============================] - 8s 16ms/step - loss: 0.1790 - accuracy: 0.3562 - val_loss: 0.1582 - val_accuracy: 0.4419\n",
      "Epoch 337/1000\n",
      "485/485 [==============================] - 8s 16ms/step - loss: 0.1787 - accuracy: 0.3600 - val_loss: 0.1583 - val_accuracy: 0.4406\n",
      "Epoch 338/1000\n",
      "485/485 [==============================] - 7s 15ms/step - loss: 0.1792 - accuracy: 0.3624 - val_loss: 0.1580 - val_accuracy: 0.4440\n",
      "Epoch 339/1000\n",
      "485/485 [==============================] - 8s 16ms/step - loss: 0.1790 - accuracy: 0.3638 - val_loss: 0.1581 - val_accuracy: 0.4432\n",
      "Epoch 340/1000\n",
      "485/485 [==============================] - 8s 16ms/step - loss: 0.1794 - accuracy: 0.3586 - val_loss: 0.1580 - val_accuracy: 0.4437\n",
      "Epoch 341/1000\n",
      "485/485 [==============================] - 7s 15ms/step - loss: 0.1789 - accuracy: 0.3595 - val_loss: 0.1580 - val_accuracy: 0.4427\n",
      "Epoch 342/1000\n",
      "485/485 [==============================] - 7s 15ms/step - loss: 0.1787 - accuracy: 0.3626 - val_loss: 0.1580 - val_accuracy: 0.4453\n",
      "Epoch 343/1000\n",
      "485/485 [==============================] - 7s 15ms/step - loss: 0.1788 - accuracy: 0.3601 - val_loss: 0.1578 - val_accuracy: 0.4432\n",
      "Epoch 344/1000\n",
      "485/485 [==============================] - 7s 15ms/step - loss: 0.1789 - accuracy: 0.3612 - val_loss: 0.1580 - val_accuracy: 0.4440\n",
      "Epoch 345/1000\n",
      "485/485 [==============================] - 8s 16ms/step - loss: 0.1790 - accuracy: 0.3590 - val_loss: 0.1581 - val_accuracy: 0.4432\n",
      "Epoch 346/1000\n",
      "485/485 [==============================] - 8s 16ms/step - loss: 0.1789 - accuracy: 0.3582 - val_loss: 0.1581 - val_accuracy: 0.4419\n",
      "Epoch 347/1000\n",
      "485/485 [==============================] - 7s 15ms/step - loss: 0.1783 - accuracy: 0.3627 - val_loss: 0.1578 - val_accuracy: 0.4453\n",
      "Epoch 348/1000\n",
      "485/485 [==============================] - 7s 15ms/step - loss: 0.1784 - accuracy: 0.3632 - val_loss: 0.1578 - val_accuracy: 0.4440\n",
      "Epoch 349/1000\n",
      "485/485 [==============================] - 7s 15ms/step - loss: 0.1790 - accuracy: 0.3579 - val_loss: 0.1578 - val_accuracy: 0.4427\n",
      "Epoch 350/1000\n",
      "485/485 [==============================] - 8s 16ms/step - loss: 0.1789 - accuracy: 0.3623 - val_loss: 0.1577 - val_accuracy: 0.4440\n",
      "Epoch 351/1000\n",
      "485/485 [==============================] - 8s 16ms/step - loss: 0.1787 - accuracy: 0.3629 - val_loss: 0.1578 - val_accuracy: 0.4424\n",
      "Epoch 352/1000\n",
      "485/485 [==============================] - 7s 15ms/step - loss: 0.1783 - accuracy: 0.3609 - val_loss: 0.1578 - val_accuracy: 0.4435\n",
      "Epoch 353/1000\n",
      "485/485 [==============================] - 7s 15ms/step - loss: 0.1782 - accuracy: 0.3625 - val_loss: 0.1580 - val_accuracy: 0.4422\n",
      "Epoch 354/1000\n",
      "485/485 [==============================] - 7s 15ms/step - loss: 0.1785 - accuracy: 0.3625 - val_loss: 0.1579 - val_accuracy: 0.4427\n",
      "Epoch 355/1000\n",
      "485/485 [==============================] - 7s 15ms/step - loss: 0.1784 - accuracy: 0.3601 - val_loss: 0.1577 - val_accuracy: 0.4432\n",
      "Epoch 356/1000\n",
      "485/485 [==============================] - 7s 15ms/step - loss: 0.1788 - accuracy: 0.3606 - val_loss: 0.1577 - val_accuracy: 0.4448\n",
      "Epoch 357/1000\n",
      "485/485 [==============================] - 8s 16ms/step - loss: 0.1786 - accuracy: 0.3639 - val_loss: 0.1579 - val_accuracy: 0.4430\n",
      "Epoch 358/1000\n",
      "485/485 [==============================] - 7s 15ms/step - loss: 0.1782 - accuracy: 0.3609 - val_loss: 0.1577 - val_accuracy: 0.4440\n",
      "Epoch 359/1000\n",
      "485/485 [==============================] - 7s 15ms/step - loss: 0.1784 - accuracy: 0.3602 - val_loss: 0.1575 - val_accuracy: 0.4445\n",
      "Epoch 360/1000\n",
      "485/485 [==============================] - 7s 15ms/step - loss: 0.1778 - accuracy: 0.3621 - val_loss: 0.1576 - val_accuracy: 0.4435\n",
      "Epoch 361/1000\n",
      "485/485 [==============================] - 7s 15ms/step - loss: 0.1785 - accuracy: 0.3590 - val_loss: 0.1576 - val_accuracy: 0.4456\n",
      "Epoch 362/1000\n",
      "485/485 [==============================] - 7s 15ms/step - loss: 0.1782 - accuracy: 0.3603 - val_loss: 0.1576 - val_accuracy: 0.4448\n",
      "Epoch 363/1000\n",
      "485/485 [==============================] - 7s 15ms/step - loss: 0.1782 - accuracy: 0.3615 - val_loss: 0.1574 - val_accuracy: 0.4469\n",
      "Epoch 364/1000\n",
      "485/485 [==============================] - 7s 15ms/step - loss: 0.1778 - accuracy: 0.3627 - val_loss: 0.1574 - val_accuracy: 0.4448\n",
      "Epoch 365/1000\n",
      "485/485 [==============================] - 7s 15ms/step - loss: 0.1778 - accuracy: 0.3659 - val_loss: 0.1575 - val_accuracy: 0.4443\n",
      "Epoch 366/1000\n",
      "485/485 [==============================] - 8s 16ms/step - loss: 0.1782 - accuracy: 0.3608 - val_loss: 0.1573 - val_accuracy: 0.4427\n",
      "Epoch 367/1000\n",
      "485/485 [==============================] - 8s 16ms/step - loss: 0.1781 - accuracy: 0.3621 - val_loss: 0.1573 - val_accuracy: 0.4432\n",
      "Epoch 368/1000\n",
      "485/485 [==============================] - 7s 15ms/step - loss: 0.1778 - accuracy: 0.3628 - val_loss: 0.1573 - val_accuracy: 0.4448\n",
      "Epoch 369/1000\n",
      "485/485 [==============================] - 7s 15ms/step - loss: 0.1773 - accuracy: 0.3631 - val_loss: 0.1571 - val_accuracy: 0.4461\n",
      "Epoch 370/1000\n",
      "485/485 [==============================] - 7s 15ms/step - loss: 0.1780 - accuracy: 0.3613 - val_loss: 0.1570 - val_accuracy: 0.4456\n",
      "Epoch 371/1000\n",
      "485/485 [==============================] - 7s 15ms/step - loss: 0.1781 - accuracy: 0.3611 - val_loss: 0.1572 - val_accuracy: 0.4466\n",
      "Epoch 372/1000\n",
      "485/485 [==============================] - 7s 15ms/step - loss: 0.1776 - accuracy: 0.3646 - val_loss: 0.1571 - val_accuracy: 0.4466\n",
      "Epoch 373/1000\n",
      "485/485 [==============================] - 7s 15ms/step - loss: 0.1778 - accuracy: 0.3630 - val_loss: 0.1570 - val_accuracy: 0.4456\n",
      "Epoch 374/1000\n",
      "485/485 [==============================] - 7s 15ms/step - loss: 0.1779 - accuracy: 0.3598 - val_loss: 0.1570 - val_accuracy: 0.4466\n",
      "Epoch 375/1000\n",
      "485/485 [==============================] - 7s 15ms/step - loss: 0.1780 - accuracy: 0.3618 - val_loss: 0.1570 - val_accuracy: 0.4474\n",
      "Epoch 376/1000\n",
      "485/485 [==============================] - 8s 16ms/step - loss: 0.1778 - accuracy: 0.3605 - val_loss: 0.1572 - val_accuracy: 0.4466\n",
      "Epoch 377/1000\n",
      "485/485 [==============================] - 8s 15ms/step - loss: 0.1782 - accuracy: 0.3591 - val_loss: 0.1569 - val_accuracy: 0.4458\n",
      "Epoch 378/1000\n",
      "485/485 [==============================] - 8s 16ms/step - loss: 0.1780 - accuracy: 0.3624 - val_loss: 0.1569 - val_accuracy: 0.4474\n",
      "Epoch 379/1000\n",
      "485/485 [==============================] - 8s 16ms/step - loss: 0.1777 - accuracy: 0.3617 - val_loss: 0.1571 - val_accuracy: 0.4448\n",
      "Epoch 380/1000\n",
      "485/485 [==============================] - 7s 15ms/step - loss: 0.1778 - accuracy: 0.3636 - val_loss: 0.1570 - val_accuracy: 0.4456\n",
      "Epoch 381/1000\n",
      "485/485 [==============================] - 7s 15ms/step - loss: 0.1777 - accuracy: 0.3603 - val_loss: 0.1569 - val_accuracy: 0.4474\n",
      "Epoch 382/1000\n",
      "485/485 [==============================] - 7s 15ms/step - loss: 0.1774 - accuracy: 0.3643 - val_loss: 0.1567 - val_accuracy: 0.4469\n",
      "Epoch 383/1000\n",
      "485/485 [==============================] - 8s 16ms/step - loss: 0.1778 - accuracy: 0.3634 - val_loss: 0.1569 - val_accuracy: 0.4471\n",
      "Epoch 384/1000\n",
      "485/485 [==============================] - 8s 16ms/step - loss: 0.1772 - accuracy: 0.3617 - val_loss: 0.1567 - val_accuracy: 0.4464\n"
     ]
    },
    {
     "name": "stdout",
     "output_type": "stream",
     "text": [
      "Epoch 385/1000\n",
      "485/485 [==============================] - 7s 15ms/step - loss: 0.1778 - accuracy: 0.3609 - val_loss: 0.1567 - val_accuracy: 0.4471\n",
      "Epoch 386/1000\n",
      "485/485 [==============================] - 7s 15ms/step - loss: 0.1781 - accuracy: 0.3625 - val_loss: 0.1568 - val_accuracy: 0.4458\n",
      "Epoch 387/1000\n",
      "485/485 [==============================] - 7s 15ms/step - loss: 0.1776 - accuracy: 0.3634 - val_loss: 0.1568 - val_accuracy: 0.4461\n",
      "Epoch 388/1000\n",
      "485/485 [==============================] - 8s 16ms/step - loss: 0.1773 - accuracy: 0.3634 - val_loss: 0.1567 - val_accuracy: 0.4471\n",
      "Epoch 389/1000\n",
      "485/485 [==============================] - 7s 15ms/step - loss: 0.1772 - accuracy: 0.3631 - val_loss: 0.1569 - val_accuracy: 0.4458\n",
      "Epoch 390/1000\n",
      "485/485 [==============================] - 8s 16ms/step - loss: 0.1770 - accuracy: 0.3645 - val_loss: 0.1565 - val_accuracy: 0.4492\n",
      "Epoch 391/1000\n",
      "485/485 [==============================] - 8s 16ms/step - loss: 0.1773 - accuracy: 0.3637 - val_loss: 0.1566 - val_accuracy: 0.4477\n",
      "Epoch 392/1000\n",
      "485/485 [==============================] - 7s 15ms/step - loss: 0.1778 - accuracy: 0.3647 - val_loss: 0.1567 - val_accuracy: 0.4490\n",
      "Epoch 393/1000\n",
      "485/485 [==============================] - 7s 15ms/step - loss: 0.1770 - accuracy: 0.3650 - val_loss: 0.1567 - val_accuracy: 0.4469\n",
      "Epoch 394/1000\n",
      "485/485 [==============================] - 7s 15ms/step - loss: 0.1776 - accuracy: 0.3579 - val_loss: 0.1565 - val_accuracy: 0.4477\n",
      "Epoch 395/1000\n",
      "485/485 [==============================] - 7s 15ms/step - loss: 0.1774 - accuracy: 0.3627 - val_loss: 0.1566 - val_accuracy: 0.4497\n",
      "Epoch 396/1000\n",
      "485/485 [==============================] - 8s 16ms/step - loss: 0.1770 - accuracy: 0.3659 - val_loss: 0.1565 - val_accuracy: 0.4490\n",
      "Epoch 397/1000\n",
      "485/485 [==============================] - 7s 15ms/step - loss: 0.1771 - accuracy: 0.3638 - val_loss: 0.1566 - val_accuracy: 0.4492\n",
      "Epoch 398/1000\n",
      "485/485 [==============================] - 7s 15ms/step - loss: 0.1768 - accuracy: 0.3644 - val_loss: 0.1565 - val_accuracy: 0.4464\n",
      "Epoch 399/1000\n",
      "485/485 [==============================] - 7s 15ms/step - loss: 0.1772 - accuracy: 0.3623 - val_loss: 0.1565 - val_accuracy: 0.4487\n",
      "Epoch 400/1000\n",
      "485/485 [==============================] - 7s 15ms/step - loss: 0.1769 - accuracy: 0.3668 - val_loss: 0.1563 - val_accuracy: 0.4466\n",
      "Epoch 401/1000\n",
      "485/485 [==============================] - 7s 15ms/step - loss: 0.1776 - accuracy: 0.3645 - val_loss: 0.1564 - val_accuracy: 0.4492\n",
      "Epoch 402/1000\n",
      "485/485 [==============================] - 8s 16ms/step - loss: 0.1771 - accuracy: 0.3636 - val_loss: 0.1561 - val_accuracy: 0.4484\n",
      "Epoch 403/1000\n",
      "485/485 [==============================] - 8s 16ms/step - loss: 0.1765 - accuracy: 0.3630 - val_loss: 0.1562 - val_accuracy: 0.4471\n",
      "Epoch 404/1000\n",
      "485/485 [==============================] - 8s 16ms/step - loss: 0.1768 - accuracy: 0.3627 - val_loss: 0.1563 - val_accuracy: 0.4490\n",
      "Epoch 405/1000\n",
      "485/485 [==============================] - 8s 16ms/step - loss: 0.1775 - accuracy: 0.3608 - val_loss: 0.1563 - val_accuracy: 0.4487\n",
      "Epoch 406/1000\n",
      "485/485 [==============================] - 7s 15ms/step - loss: 0.1772 - accuracy: 0.3617 - val_loss: 0.1564 - val_accuracy: 0.4500\n",
      "Epoch 407/1000\n",
      "485/485 [==============================] - 7s 15ms/step - loss: 0.1769 - accuracy: 0.3650 - val_loss: 0.1561 - val_accuracy: 0.4482\n",
      "Epoch 408/1000\n",
      "485/485 [==============================] - 7s 15ms/step - loss: 0.1769 - accuracy: 0.3645 - val_loss: 0.1560 - val_accuracy: 0.4471\n",
      "Epoch 409/1000\n",
      "485/485 [==============================] - 7s 15ms/step - loss: 0.1774 - accuracy: 0.3634 - val_loss: 0.1561 - val_accuracy: 0.4469\n",
      "Epoch 410/1000\n",
      "485/485 [==============================] - 8s 16ms/step - loss: 0.1770 - accuracy: 0.3648 - val_loss: 0.1562 - val_accuracy: 0.4487\n",
      "Epoch 411/1000\n",
      "485/485 [==============================] - 8s 16ms/step - loss: 0.1770 - accuracy: 0.3633 - val_loss: 0.1561 - val_accuracy: 0.4490\n",
      "Epoch 412/1000\n",
      "485/485 [==============================] - 7s 15ms/step - loss: 0.1768 - accuracy: 0.3639 - val_loss: 0.1563 - val_accuracy: 0.4484\n",
      "Epoch 413/1000\n",
      "485/485 [==============================] - 7s 15ms/step - loss: 0.1765 - accuracy: 0.3694 - val_loss: 0.1559 - val_accuracy: 0.4484\n",
      "Epoch 414/1000\n",
      "485/485 [==============================] - 7s 15ms/step - loss: 0.1771 - accuracy: 0.3611 - val_loss: 0.1559 - val_accuracy: 0.4464\n",
      "Epoch 415/1000\n",
      "485/485 [==============================] - 7s 15ms/step - loss: 0.1765 - accuracy: 0.3643 - val_loss: 0.1561 - val_accuracy: 0.4484\n",
      "Epoch 416/1000\n",
      "485/485 [==============================] - 7s 15ms/step - loss: 0.1773 - accuracy: 0.3659 - val_loss: 0.1561 - val_accuracy: 0.4469\n",
      "Epoch 417/1000\n",
      "485/485 [==============================] - 7s 15ms/step - loss: 0.1765 - accuracy: 0.3657 - val_loss: 0.1560 - val_accuracy: 0.4484\n",
      "Epoch 418/1000\n",
      "485/485 [==============================] - 7s 15ms/step - loss: 0.1769 - accuracy: 0.3654 - val_loss: 0.1560 - val_accuracy: 0.4487\n",
      "Epoch 419/1000\n",
      "485/485 [==============================] - 7s 15ms/step - loss: 0.1766 - accuracy: 0.3647 - val_loss: 0.1560 - val_accuracy: 0.4484\n",
      "Epoch 420/1000\n",
      "485/485 [==============================] - 8s 16ms/step - loss: 0.1766 - accuracy: 0.3663 - val_loss: 0.1560 - val_accuracy: 0.4500\n",
      "Epoch 421/1000\n",
      "485/485 [==============================] - 7s 15ms/step - loss: 0.1767 - accuracy: 0.3663 - val_loss: 0.1559 - val_accuracy: 0.4482\n",
      "Epoch 422/1000\n",
      "485/485 [==============================] - 7s 15ms/step - loss: 0.1763 - accuracy: 0.3655 - val_loss: 0.1557 - val_accuracy: 0.4464\n",
      "Epoch 423/1000\n",
      "485/485 [==============================] - 7s 15ms/step - loss: 0.1765 - accuracy: 0.3669 - val_loss: 0.1558 - val_accuracy: 0.4479\n",
      "Epoch 424/1000\n",
      "485/485 [==============================] - 7s 15ms/step - loss: 0.1765 - accuracy: 0.3651 - val_loss: 0.1558 - val_accuracy: 0.4497\n",
      "Epoch 425/1000\n",
      "485/485 [==============================] - 7s 15ms/step - loss: 0.1762 - accuracy: 0.3653 - val_loss: 0.1557 - val_accuracy: 0.4513\n",
      "Epoch 426/1000\n",
      "485/485 [==============================] - 7s 15ms/step - loss: 0.1765 - accuracy: 0.3632 - val_loss: 0.1559 - val_accuracy: 0.4487\n",
      "Epoch 427/1000\n",
      "485/485 [==============================] - 7s 15ms/step - loss: 0.1764 - accuracy: 0.3631 - val_loss: 0.1558 - val_accuracy: 0.4495\n",
      "Epoch 428/1000\n",
      "485/485 [==============================] - 7s 15ms/step - loss: 0.1767 - accuracy: 0.3589 - val_loss: 0.1557 - val_accuracy: 0.4469\n",
      "Epoch 429/1000\n",
      "485/485 [==============================] - 8s 16ms/step - loss: 0.1767 - accuracy: 0.3656 - val_loss: 0.1556 - val_accuracy: 0.4487\n",
      "Epoch 430/1000\n",
      "485/485 [==============================] - 7s 15ms/step - loss: 0.1763 - accuracy: 0.3659 - val_loss: 0.1557 - val_accuracy: 0.4495\n",
      "Epoch 431/1000\n",
      "485/485 [==============================] - 7s 15ms/step - loss: 0.1766 - accuracy: 0.3647 - val_loss: 0.1558 - val_accuracy: 0.4490\n",
      "Epoch 432/1000\n",
      "485/485 [==============================] - 7s 15ms/step - loss: 0.1760 - accuracy: 0.3639 - val_loss: 0.1555 - val_accuracy: 0.4503\n",
      "Epoch 433/1000\n",
      "485/485 [==============================] - 7s 15ms/step - loss: 0.1762 - accuracy: 0.3645 - val_loss: 0.1555 - val_accuracy: 0.4492\n",
      "Epoch 434/1000\n",
      "485/485 [==============================] - 8s 16ms/step - loss: 0.1759 - accuracy: 0.3662 - val_loss: 0.1556 - val_accuracy: 0.4482\n",
      "Epoch 435/1000\n",
      "485/485 [==============================] - 7s 15ms/step - loss: 0.1764 - accuracy: 0.3637 - val_loss: 0.1556 - val_accuracy: 0.4474\n",
      "Epoch 436/1000\n",
      "485/485 [==============================] - 8s 16ms/step - loss: 0.1766 - accuracy: 0.3630 - val_loss: 0.1553 - val_accuracy: 0.4492\n",
      "Epoch 437/1000\n",
      "485/485 [==============================] - 7s 15ms/step - loss: 0.1763 - accuracy: 0.3641 - val_loss: 0.1556 - val_accuracy: 0.4479\n",
      "Epoch 438/1000\n",
      "485/485 [==============================] - 7s 15ms/step - loss: 0.1767 - accuracy: 0.3605 - val_loss: 0.1557 - val_accuracy: 0.4477\n",
      "Epoch 439/1000\n",
      "485/485 [==============================] - 7s 15ms/step - loss: 0.1759 - accuracy: 0.3638 - val_loss: 0.1554 - val_accuracy: 0.4477\n",
      "Epoch 440/1000\n",
      "485/485 [==============================] - 7s 15ms/step - loss: 0.1765 - accuracy: 0.3654 - val_loss: 0.1555 - val_accuracy: 0.4479\n"
     ]
    },
    {
     "name": "stdout",
     "output_type": "stream",
     "text": [
      "Epoch 441/1000\n",
      "485/485 [==============================] - 7s 15ms/step - loss: 0.1756 - accuracy: 0.3637 - val_loss: 0.1555 - val_accuracy: 0.4497\n",
      "Epoch 442/1000\n",
      "485/485 [==============================] - 8s 16ms/step - loss: 0.1762 - accuracy: 0.3664 - val_loss: 0.1555 - val_accuracy: 0.4477\n",
      "Epoch 443/1000\n",
      "485/485 [==============================] - 7s 15ms/step - loss: 0.1757 - accuracy: 0.3657 - val_loss: 0.1554 - val_accuracy: 0.4490\n",
      "Epoch 444/1000\n",
      "485/485 [==============================] - 7s 15ms/step - loss: 0.1765 - accuracy: 0.3628 - val_loss: 0.1556 - val_accuracy: 0.4471\n",
      "Epoch 445/1000\n",
      "485/485 [==============================] - 7s 15ms/step - loss: 0.1764 - accuracy: 0.3664 - val_loss: 0.1556 - val_accuracy: 0.4492\n",
      "Epoch 446/1000\n",
      "485/485 [==============================] - 7s 15ms/step - loss: 0.1762 - accuracy: 0.3658 - val_loss: 0.1556 - val_accuracy: 0.4490\n",
      "time: 55min 42s (started: 2021-12-07 07:57:12 +00:00)\n"
     ]
    }
   ],
   "source": [
    "if __name__ == \"__main__\":\n",
    "    batch_size = 64\n",
    "    shapes = ((batch_size, 64, 64, 3),\n",
    "              (batch_size, 24))\n",
    "    pipe_train = TFRecordPipelineTrain(batch_size=batch_size, \n",
    "                                 num_threads=1, \n",
    "                                 device='gpu', \n",
    "                                 device_id=0)\n",
    "\n",
    "    batch_size_valid = 64\n",
    "    shapes_valid = ((batch_size_valid, 64, 64, 3),\n",
    "                    (batch_size_valid, 24))\n",
    "    pipe_valid = TFRecordPipelineValid(batch_size=batch_size_valid, \n",
    "                                 num_threads=1, \n",
    "                                 device='gpu', \n",
    "                                 device_id=0)       \n",
    "\n",
    "    with tf.device('/gpu:0'):\n",
    "        ds_train = dali_tf.DALIDataset(\n",
    "            pipeline=pipe_train,\n",
    "            batch_size=batch_size,\n",
    "            output_shapes=shapes,\n",
    "            output_dtypes=(tf.float32, tf.int64),\n",
    "            device_id=0)\n",
    "        \n",
    "        ds_valid = dali_tf.DALIDataset(\n",
    "            pipeline=pipe_valid,\n",
    "            batch_size=batch_size_valid,\n",
    "            output_shapes=shapes_valid,\n",
    "            output_dtypes=(tf.float32, tf.int64),\n",
    "            device_id=0)             \n",
    "        \n",
    "        initializer = keras.initializers.GlorotUniform(seed=set_seed)\n",
    "        activation =  keras.activations.sigmoid\n",
    "        lr_schedule = keras.optimizers.schedules.ExponentialDecay(\n",
    "            initial_learning_rate=1e-5,\n",
    "            decay_steps=TRAIN_DATA_SIZE // batch_size * 10,\n",
    "            decay_rate=0.95)\n",
    "        \n",
    "        number_of_classes = 24\n",
    "        \n",
    "        inputs = keras.Input(shape=(64, 64, 3))\n",
    "        x = autoencoder(inputs, training=False)   # Fix autoencoder weights.\n",
    "        flat = keras.layers.Flatten()(x)\n",
    "        fc1 = keras.layers.Dense(number_of_classes, activation='relu',\n",
    "                             kernel_initializer=initializer)(flat)\n",
    "        do1 = keras.layers.Dropout(0.5, seed=set_seed)(fc1)\n",
    "        outputs = keras.layers.Dense(number_of_classes,\n",
    "                             kernel_initializer=initializer,\n",
    "                             activation=activation)(do1) \n",
    "        clf = keras.Model(inputs, outputs)\n",
    "        \n",
    "        clf.summary()\n",
    "\n",
    "        # To save the model weights, uncomment the below code.        \n",
    "        #checkpoint_path = \"./model/cp_clf_multi-label.ckpt\"\n",
    "        #checkpoint_dir = os.path.dirname(checkpoint_path)\n",
    "        #cp_callback = tf.keras.callbacks.ModelCheckpoint(filepath=checkpoint_path,\n",
    "        #                                         save_weights_only=True,\n",
    "        #                                         verbose=1)\n",
    "\n",
    "        # Apply early stopping.        \n",
    "        es_callback = tf.keras.callbacks.EarlyStopping(monitor='val_loss', patience=10,\n",
    "                                                       restore_best_weights=True)  \n",
    "        \n",
    "        clf.compile(optimizer=keras.optimizers.Adam(learning_rate=lr_schedule),\n",
    "              loss=keras.losses.BinaryCrossentropy(),\n",
    "              metrics=['accuracy'])\n",
    "        \n",
    "        history = clf.fit(ds_train, steps_per_epoch=TRAIN_DATA_SIZE // batch_size, \n",
    "                          validation_data=ds_valid.take(VALID_DATA_SIZE // batch_size_valid),\n",
    "                          epochs=1000,\n",
    "                          callbacks=[es_callback]) "
   ]
  },
  {
   "cell_type": "code",
   "execution_count": 12,
   "metadata": {},
   "outputs": [
    {
     "name": "stdout",
     "output_type": "stream",
     "text": [
      "dict_keys(['loss', 'accuracy', 'val_loss', 'val_accuracy'])\n",
      "time: 685 µs (started: 2021-12-07 08:52:55 +00:00)\n"
     ]
    }
   ],
   "source": [
    "# List all data in history.\n",
    "\n",
    "print(history.history.keys())"
   ]
  },
  {
   "cell_type": "code",
   "execution_count": 13,
   "metadata": {},
   "outputs": [
    {
     "data": {
      "image/png": "[encoded data removed]",
      "text/plain": [
       "<Figure size 432x288 with 1 Axes>"
      ]
     },
     "metadata": {
      "needs_background": "light"
     },
     "output_type": "display_data"
    },
    {
     "name": "stdout",
     "output_type": "stream",
     "text": [
      "time: 176 ms (started: 2021-12-07 08:52:55 +00:00)\n"
     ]
    }
   ],
   "source": [
    "# Summarize history for accuracy.\n",
    "\n",
    "plt.plot(history.history['accuracy'])\n",
    "plt.plot(history.history['val_accuracy'])\n",
    "plt.title('model accuracy')\n",
    "plt.ylabel('accuracy')\n",
    "plt.xlabel('epoch')\n",
    "plt.legend(['train', 'valid'], loc='upper left')\n",
    "plt.show()"
   ]
  },
  {
   "cell_type": "code",
   "execution_count": 14,
   "metadata": {},
   "outputs": [
    {
     "data": {
      "image/png": "[encoded data removed]",
      "text/plain": [
       "<Figure size 432x288 with 1 Axes>"
      ]
     },
     "metadata": {
      "needs_background": "light"
     },
     "output_type": "display_data"
    },
    {
     "name": "stdout",
     "output_type": "stream",
     "text": [
      "time: 121 ms (started: 2021-12-07 08:52:55 +00:00)\n"
     ]
    }
   ],
   "source": [
    "# Summarize history for loss.\n",
    "\n",
    "plt.plot(history.history['loss'])\n",
    "plt.plot(history.history['val_loss'])\n",
    "plt.title('model loss')\n",
    "plt.ylabel('loss')\n",
    "plt.xlabel('epoch')\n",
    "plt.legend(['train', 'val'], loc='upper right')\n",
    "plt.show()"
   ]
  },
  {
   "cell_type": "markdown",
   "metadata": {},
   "source": [
    "### Define test pipeline."
   ]
  },
  {
   "cell_type": "code",
   "execution_count": 15,
   "metadata": {},
   "outputs": [
    {
     "name": "stdout",
     "output_type": "stream",
     "text": [
      "time: 1.76 ms (started: 2021-12-07 08:52:55 +00:00)\n"
     ]
    }
   ],
   "source": [
    "class TFRecordPipelineTest(Pipeline):\n",
    "    def __init__(self, batch_size, num_threads,\n",
    "                 device = 'cpu', device_id = 0):\n",
    "        super(TFRecordPipelineTest, self).__init__(batch_size,\n",
    "                                         num_threads,\n",
    "                                         device_id)\n",
    "        self.input = fn.readers.tfrecord(        \n",
    "             features = {\"image_raw\": tfrec.FixedLenFeature((), tfrec.string, \"\"),\n",
    "                         \"label\": tfrec.FixedLenFeature([24], tfrec.int64,  24)},\n",
    "             path = ['./tfrecords/multi-label_test.tfrecords'],\n",
    "             index_path = ['./tfrecords/multi-label_test.idx'],\n",
    "             random_shuffle=False,\n",
    "             seed = set_seed)\n",
    "        self.iter = 0\n",
    "    def define_graph(self):\n",
    "        inputs = self.input\n",
    "        images = fn.decoders.image(inputs[\"image_raw\"], device = \"mixed\", output_type = types.RGB) / 255.\n",
    "        labels = inputs[\"label\"].gpu()\n",
    "        return (images, labels)\n",
    "    def iter_setup(self):\n",
    "        pass"
   ]
  },
  {
   "cell_type": "markdown",
   "metadata": {},
   "source": [
    "### Check test data accuracy."
   ]
  },
  {
   "cell_type": "code",
   "execution_count": 16,
   "metadata": {},
   "outputs": [
    {
     "name": "stdout",
     "output_type": "stream",
     "text": [
      "<DALIDataset shapes: ((1, 64, 64, 3), (1, 24)), types: (tf.float32, tf.int64)>\n",
      "3882/3882 [==============================] - 25s 6ms/step - loss: 0.1529 - accuracy: 0.4521\n",
      "Test accuracy: 0.45208656787872314\n",
      "A test output from the last layer: [4.97866375e-03 4.76069329e-03 7.21763627e-06 2.76316609e-02\n",
      " 1.47206143e-01 1.14300298e-02 1.91663653e-02 6.11027330e-03\n",
      " 5.30611500e-02 5.82297565e-04 1.20043079e-03 4.27489340e-01\n",
      " 2.90657669e-01 1.02416342e-02 2.09215563e-04 2.85320133e-01\n",
      " 1.34798866e-02 6.20697811e-03 3.35003324e-02 2.25526856e-06\n",
      " 1.18627185e-02 1.37504668e-03 2.10635681e-02 9.10601392e-03]\n",
      "Index of the maximum value: 11\n",
      "Label: sad\n",
      "time: 25.8 s (started: 2021-12-07 08:52:55 +00:00)\n"
     ]
    }
   ],
   "source": [
    "# https://docs.nvidia.com/deeplearning/dali/user-guide/docs/plugins/tensorflow_plugin_api.html\n",
    "\n",
    "if __name__ == \"__main__\":\n",
    "    batch_size = 1\n",
    "    shapes = ((batch_size, 64, 64, 3),\n",
    "              (batch_size, 24))\n",
    "    pipe_test = TFRecordPipelineTest(batch_size=batch_size, \n",
    "                            num_threads=4, \n",
    "                            device='gpu', \n",
    "                            device_id=0)\n",
    "\n",
    "    with tf.device('/gpu:0'):\n",
    "        ds_test = dali_tf.DALIDataset(\n",
    "            pipeline=pipe_test,\n",
    "            batch_size=batch_size,\n",
    "            output_shapes=shapes,\n",
    "            output_dtypes=(tf.float32, tf.int64),\n",
    "            device_id=0)\n",
    "        print(ds_test)\n",
    "        loss, acc = clf.evaluate(ds_test, steps=TEST_DATA_SIZE)\n",
    "        print(\"Test accuracy:\", acc)\n",
    "        predictions = clf.predict(ds_test.take(5))\n",
    "        print(\"A test output from the last layer:\", predictions[0])\n",
    "        print(\"Index of the maximum value:\", np.argmax(predictions[0]))\n",
    "        print(\"Label:\", LABELS[np.argmax(predictions[0])])"
   ]
  },
  {
   "cell_type": "code",
   "execution_count": 17,
   "metadata": {},
   "outputs": [
    {
     "data": {
      "text/plain": [
       "array([[4.97866375e-03, 4.76069329e-03, 7.21763627e-06, 2.76316609e-02,\n",
       "        1.47206143e-01, 1.14300298e-02, 1.91663653e-02, 6.11027330e-03,\n",
       "        5.30611500e-02, 5.82297565e-04, 1.20043079e-03, 4.27489340e-01,\n",
       "        2.90657669e-01, 1.02416342e-02, 2.09215563e-04, 2.85320133e-01,\n",
       "        1.34798866e-02, 6.20697811e-03, 3.35003324e-02, 2.25526856e-06,\n",
       "        1.18627185e-02, 1.37504668e-03, 2.10635681e-02, 9.10601392e-03],\n",
       "       [2.33942457e-03, 6.36320282e-03, 2.23064626e-06, 4.88715731e-02,\n",
       "        3.13298017e-01, 6.54345527e-02, 5.04365703e-03, 2.64642597e-03,\n",
       "        4.97062504e-02, 9.29505855e-04, 3.00723780e-03, 3.37863684e-01,\n",
       "        1.58388063e-01, 1.87594164e-02, 7.81154667e-04, 7.35167740e-03,\n",
       "        5.14083542e-03, 9.08293854e-03, 2.37024613e-02, 5.50549828e-07,\n",
       "        3.47494637e-03, 4.30327316e-04, 3.95914726e-03, 7.50057865e-03],\n",
       "       [1.74020324e-03, 1.59519585e-03, 5.28972578e-07, 2.86435261e-02,\n",
       "        4.98671025e-01, 1.95824411e-02, 9.40034818e-03, 2.12882296e-03,\n",
       "        4.87342253e-02, 1.01540110e-03, 6.62897655e-04, 1.97189480e-01,\n",
       "        2.61184484e-01, 1.92253422e-02, 3.13377357e-04, 1.76251754e-02,\n",
       "        1.62561648e-02, 5.87344309e-03, 1.46008302e-02, 8.06224364e-07,\n",
       "        5.91045525e-03, 1.26748637e-03, 2.01347526e-02, 9.04312078e-03],\n",
       "       [5.38172841e-04, 9.27116271e-05, 3.32438930e-08, 7.86032435e-03,\n",
       "        7.10243106e-01, 1.85600924e-03, 1.70832202e-02, 5.34080085e-04,\n",
       "        2.55575888e-02, 1.12615744e-04, 4.71921412e-05, 3.19122784e-02,\n",
       "        8.83084759e-02, 1.20356958e-02, 1.42788986e-05, 3.95113602e-03,\n",
       "        9.12719872e-03, 8.83649802e-04, 2.92429072e-03, 5.53494850e-08,\n",
       "        2.11785804e-03, 1.02206203e-03, 2.77479477e-02, 5.41564589e-03],\n",
       "       [1.22681381e-02, 9.77639947e-03, 9.35630578e-06, 8.90192091e-02,\n",
       "        1.65384844e-01, 2.29616407e-02, 7.63152614e-02, 2.29518320e-02,\n",
       "        8.47868398e-02, 1.94842636e-03, 2.58147740e-03, 2.05542415e-01,\n",
       "        2.75633067e-01, 3.65244113e-02, 1.10436510e-03, 5.60343415e-02,\n",
       "        1.49335757e-01, 1.09325256e-02, 4.44465168e-02, 1.32451114e-05,\n",
       "        9.32798162e-03, 5.06672170e-03, 1.71711415e-01, 1.15078073e-02]],\n",
       "      dtype=float32)"
      ]
     },
     "execution_count": 17,
     "metadata": {},
     "output_type": "execute_result"
    },
    {
     "name": "stdout",
     "output_type": "stream",
     "text": [
      "time: 3.96 ms (started: 2021-12-07 08:53:21 +00:00)\n"
     ]
    }
   ],
   "source": [
    "predictions"
   ]
  },
  {
   "cell_type": "code",
   "execution_count": 19,
   "metadata": {},
   "outputs": [
    {
     "data": {
      "text/plain": [
       "<matplotlib.image.AxesImage at 0x7f8fd6288da0>"
      ]
     },
     "execution_count": 19,
     "metadata": {},
     "output_type": "execute_result"
    },
    {
     "data": {
      "image/png": "[encoded data removed]",
      "text/plain": [
       "<Figure size 432x288 with 1 Axes>"
      ]
     },
     "metadata": {
      "needs_background": "light"
     },
     "output_type": "display_data"
    },
    {
     "name": "stdout",
     "output_type": "stream",
     "text": [
      "time: 203 ms (started: 2021-12-07 08:55:53 +00:00)\n"
     ]
    }
   ],
   "source": [
    "# Display the tested image.\n",
    "\n",
    "import matplotlib.pyplot as plt\n",
    "\n",
    "data, = ds_test.take(1)\n",
    "plt.imshow(data[0][0])"
   ]
  },
  {
   "cell_type": "code",
   "execution_count": 20,
   "metadata": {},
   "outputs": [
    {
     "data": {
      "text/plain": [
       "<tf.Tensor: shape=(1, 24), dtype=int64, numpy=\n",
       "array([[0, 0, 0, 0, 0, 0, 0, 0, 0, 0, 0, 0, 1, 0, 0, 0, 0, 0, 0, 0, 0, 0,\n",
       "        0, 0]])>"
      ]
     },
     "execution_count": 20,
     "metadata": {},
     "output_type": "execute_result"
    },
    {
     "name": "stdout",
     "output_type": "stream",
     "text": [
      "time: 5.47 ms (started: 2021-12-07 08:55:58 +00:00)\n"
     ]
    }
   ],
   "source": [
    "# Check the test data's true label.\n",
    "data[1]"
   ]
  },
  {
   "cell_type": "markdown",
   "metadata": {},
   "source": [
    "### Result: Argmax Accuracy & Micro F1-score"
   ]
  },
  {
   "cell_type": "code",
   "execution_count": 21,
   "metadata": {},
   "outputs": [
    {
     "name": "stdout",
     "output_type": "stream",
     "text": [
      "time: 14.8 s (started: 2021-12-07 08:59:10 +00:00)\n"
     ]
    }
   ],
   "source": [
    "pred_test = clf.predict(ds_test.take(TEST_DATA_SIZE))"
   ]
  },
  {
   "cell_type": "code",
   "execution_count": 22,
   "metadata": {},
   "outputs": [
    {
     "name": "stdout",
     "output_type": "stream",
     "text": [
      "time: 1.41 s (started: 2021-12-07 08:59:25 +00:00)\n"
     ]
    }
   ],
   "source": [
    "true_test = np.concatenate([y for x, y in ds_test.take(TEST_DATA_SIZE)], axis=0)"
   ]
  },
  {
   "cell_type": "code",
   "execution_count": 23,
   "metadata": {},
   "outputs": [
    {
     "data": {
      "text/plain": [
       "(3882, 24)"
      ]
     },
     "execution_count": 23,
     "metadata": {},
     "output_type": "execute_result"
    },
    {
     "name": "stdout",
     "output_type": "stream",
     "text": [
      "time: 2.47 ms (started: 2021-12-07 08:59:26 +00:00)\n"
     ]
    }
   ],
   "source": [
    "true_test.shape"
   ]
  },
  {
   "cell_type": "code",
   "execution_count": 49,
   "metadata": {},
   "outputs": [
    {
     "name": "stdout",
     "output_type": "stream",
     "text": [
      "argmax accuracy: 0.4520865533230294\n",
      "f1_micro: 0.4520865533230294\n",
      "time: 42.6 ms (started: 2021-12-07 10:06:11 +00:00)\n"
     ]
    }
   ],
   "source": [
    "from sklearn.metrics import accuracy_score, f1_score\n",
    "\n",
    "true_test_ls = []\n",
    "pred_test_ls = []\n",
    "\n",
    "for (true, pred) in zip(true_test, pred_test):\n",
    "    true_test_ls.append(np.argmax(true))\n",
    "    pred_test_ls.append(np.argmax(pred))\n",
    "\n",
    "argmax_acc = accuracy_score(true_test_ls, pred_test_ls)\n",
    "f1_micro = f1_score(true_test_ls, pred_test_ls, average='micro')\n",
    "\n",
    "print(\"argmax accuracy:\", argmax_acc)\n",
    "print(\"f1_micro:\", f1_micro)"
   ]
  },
  {
   "cell_type": "markdown",
   "metadata": {},
   "source": [
    "### Result: Threshold=0.5 Accuracy & Micro F1-score"
   ]
  },
  {
   "cell_type": "code",
   "execution_count": 33,
   "metadata": {},
   "outputs": [
    {
     "data": {
      "text/plain": [
       "array([[4.9786638e-03, 4.7606933e-03, 7.2176363e-06, ..., 1.3750467e-03,\n",
       "        2.1063568e-02, 9.1060139e-03],\n",
       "       [2.3394246e-03, 6.3632028e-03, 2.2306463e-06, ..., 4.3032732e-04,\n",
       "        3.9591473e-03, 7.5005786e-03],\n",
       "       [1.7402032e-03, 1.5951958e-03, 5.2897258e-07, ..., 1.2674864e-03,\n",
       "        2.0134753e-02, 9.0431208e-03],\n",
       "       ...,\n",
       "       [2.2252165e-03, 1.2714493e-03, 7.7269368e-07, ..., 5.8910291e-04,\n",
       "        5.5705383e-02, 7.7449684e-03],\n",
       "       [2.1054752e-02, 8.6373277e-02, 2.2031080e-04, ..., 1.3285727e-02,\n",
       "        5.3196408e-02, 3.6972877e-02],\n",
       "       [4.2888816e-03, 3.2100773e-03, 3.0633742e-06, ..., 6.5450324e-04,\n",
       "        4.1614600e-02, 7.1101971e-03]], dtype=float32)"
      ]
     },
     "execution_count": 33,
     "metadata": {},
     "output_type": "execute_result"
    },
    {
     "name": "stdout",
     "output_type": "stream",
     "text": [
      "time: 7.13 ms (started: 2021-12-07 09:29:40 +00:00)\n"
     ]
    }
   ],
   "source": [
    "pred_05 = pred_test.copy()\n",
    "pred_05"
   ]
  },
  {
   "cell_type": "code",
   "execution_count": 50,
   "metadata": {},
   "outputs": [
    {
     "data": {
      "text/plain": [
       "array([0., 0., 0., 0., 0., 0., 0., 0., 0., 0., 0., 0., 0., 0., 0., 0., 0.,\n",
       "       0., 0., 0., 0., 0., 0., 0.], dtype=float32)"
      ]
     },
     "execution_count": 50,
     "metadata": {},
     "output_type": "execute_result"
    },
    {
     "name": "stdout",
     "output_type": "stream",
     "text": [
      "time: 706 ms (started: 2021-12-07 10:11:06 +00:00)\n"
     ]
    }
   ],
   "source": [
    "for ls in pred_05:\n",
    "    thres = 0.5\n",
    "    pred_05[pred_05 >= thres] = 1\n",
    "    pred_05[pred_05 < thres] = 0\n",
    "pred_05[0] "
   ]
  },
  {
   "cell_type": "code",
   "execution_count": 51,
   "metadata": {},
   "outputs": [
    {
     "data": {
      "text/plain": [
       "0.1056156620298815"
      ]
     },
     "execution_count": 51,
     "metadata": {},
     "output_type": "execute_result"
    },
    {
     "name": "stdout",
     "output_type": "stream",
     "text": [
      "time: 17.6 ms (started: 2021-12-07 10:11:08 +00:00)\n"
     ]
    }
   ],
   "source": [
    "accuracy_score(true_test, pred_05)"
   ]
  },
  {
   "cell_type": "code",
   "execution_count": 52,
   "metadata": {},
   "outputs": [
    {
     "data": {
      "text/plain": [
       "0.22344704305079693"
      ]
     },
     "execution_count": 52,
     "metadata": {},
     "output_type": "execute_result"
    },
    {
     "name": "stdout",
     "output_type": "stream",
     "text": [
      "time: 27.9 ms (started: 2021-12-07 10:11:10 +00:00)\n"
     ]
    }
   ],
   "source": [
    "f1_score(true_test, pred_05, average='micro')"
   ]
  },
  {
   "cell_type": "markdown",
   "metadata": {},
   "source": [
    "### Result: Threshold=0.4 Accuracy & Micro F1-score"
   ]
  },
  {
   "cell_type": "code",
   "execution_count": 53,
   "metadata": {},
   "outputs": [
    {
     "data": {
      "text/plain": [
       "array([0., 0., 0., 0., 0., 0., 0., 0., 0., 0., 0., 1., 0., 0., 0., 0., 0.,\n",
       "       0., 0., 0., 0., 0., 0., 0.], dtype=float32)"
      ]
     },
     "execution_count": 53,
     "metadata": {},
     "output_type": "execute_result"
    },
    {
     "name": "stdout",
     "output_type": "stream",
     "text": [
      "time: 840 ms (started: 2021-12-07 10:11:42 +00:00)\n"
     ]
    }
   ],
   "source": [
    "pred_04 = pred_test.copy()\n",
    "for ls in pred_04:\n",
    "    thres = 0.4\n",
    "    pred_04[pred_04 >= thres] = 1\n",
    "    pred_04[pred_04 < thres] = 0\n",
    "pred_04[0]"
   ]
  },
  {
   "cell_type": "code",
   "execution_count": 54,
   "metadata": {},
   "outputs": [
    {
     "data": {
      "text/plain": [
       "0.18985059247810407"
      ]
     },
     "execution_count": 54,
     "metadata": {},
     "output_type": "execute_result"
    },
    {
     "name": "stdout",
     "output_type": "stream",
     "text": [
      "time: 18.6 ms (started: 2021-12-07 10:11:44 +00:00)\n"
     ]
    }
   ],
   "source": [
    "accuracy_score(true_test, pred_04)"
   ]
  },
  {
   "cell_type": "code",
   "execution_count": 55,
   "metadata": {},
   "outputs": [
    {
     "data": {
      "text/plain": [
       "0.35739367928209126"
      ]
     },
     "execution_count": 55,
     "metadata": {},
     "output_type": "execute_result"
    },
    {
     "name": "stdout",
     "output_type": "stream",
     "text": [
      "time: 25.9 ms (started: 2021-12-07 10:11:45 +00:00)\n"
     ]
    }
   ],
   "source": [
    "f1_score(true_test, pred_04, average='micro')"
   ]
  },
  {
   "cell_type": "markdown",
   "metadata": {},
   "source": [
    "### Result: Threshold=0.3 Accuracy & Micro F1-score"
   ]
  },
  {
   "cell_type": "code",
   "execution_count": 56,
   "metadata": {},
   "outputs": [
    {
     "data": {
      "text/plain": [
       "array([0., 0., 0., 0., 0., 0., 0., 0., 0., 0., 0., 1., 0., 0., 0., 0., 0.,\n",
       "       0., 0., 0., 0., 0., 0., 0.], dtype=float32)"
      ]
     },
     "execution_count": 56,
     "metadata": {},
     "output_type": "execute_result"
    },
    {
     "name": "stdout",
     "output_type": "stream",
     "text": [
      "time: 1.06 s (started: 2021-12-07 10:12:14 +00:00)\n"
     ]
    }
   ],
   "source": [
    "pred_03 = pred_test.copy()\n",
    "for ls in pred_03:\n",
    "    thres = 0.3\n",
    "    pred_03[pred_03 >= thres] = 1\n",
    "    pred_03[pred_03 < thres] = 0\n",
    "pred_03[0] "
   ]
  },
  {
   "cell_type": "code",
   "execution_count": 57,
   "metadata": {},
   "outputs": [
    {
     "data": {
      "text/plain": [
       "0.24059763008758372"
      ]
     },
     "execution_count": 57,
     "metadata": {},
     "output_type": "execute_result"
    },
    {
     "name": "stdout",
     "output_type": "stream",
     "text": [
      "time: 18.4 ms (started: 2021-12-07 10:12:16 +00:00)\n"
     ]
    }
   ],
   "source": [
    "accuracy_score(true_test, pred_03)"
   ]
  },
  {
   "cell_type": "code",
   "execution_count": 58,
   "metadata": {},
   "outputs": [
    {
     "data": {
      "text/plain": [
       "0.4565083281924737"
      ]
     },
     "execution_count": 58,
     "metadata": {},
     "output_type": "execute_result"
    },
    {
     "name": "stdout",
     "output_type": "stream",
     "text": [
      "time: 28.5 ms (started: 2021-12-07 10:12:17 +00:00)\n"
     ]
    }
   ],
   "source": [
    "f1_score(true_test, pred_03, average='micro')"
   ]
  },
  {
   "cell_type": "markdown",
   "metadata": {},
   "source": [
    "### Result: Threshold=0.2 Accuracy & Micro F1-score"
   ]
  },
  {
   "cell_type": "code",
   "execution_count": 59,
   "metadata": {},
   "outputs": [
    {
     "data": {
      "text/plain": [
       "array([0., 0., 0., 0., 0., 0., 0., 0., 0., 0., 0., 1., 1., 0., 0., 1., 0.,\n",
       "       0., 0., 0., 0., 0., 0., 0.], dtype=float32)"
      ]
     },
     "execution_count": 59,
     "metadata": {},
     "output_type": "execute_result"
    },
    {
     "name": "stdout",
     "output_type": "stream",
     "text": [
      "time: 1.33 s (started: 2021-12-07 10:12:41 +00:00)\n"
     ]
    }
   ],
   "source": [
    "pred_02 = pred_test.copy()\n",
    "for ls in pred_02:\n",
    "    thres = 0.2\n",
    "    pred_02[pred_02 >= thres] = 1\n",
    "    pred_02[pred_02 < thres] = 0\n",
    "pred_02[0] "
   ]
  },
  {
   "cell_type": "code",
   "execution_count": 60,
   "metadata": {},
   "outputs": [
    {
     "data": {
      "text/plain": [
       "0.19860896445131376"
      ]
     },
     "execution_count": 60,
     "metadata": {},
     "output_type": "execute_result"
    },
    {
     "name": "stdout",
     "output_type": "stream",
     "text": [
      "time: 19.2 ms (started: 2021-12-07 10:12:43 +00:00)\n"
     ]
    }
   ],
   "source": [
    "accuracy_score(true_test, pred_02)"
   ]
  },
  {
   "cell_type": "code",
   "execution_count": 61,
   "metadata": {},
   "outputs": [
    {
     "data": {
      "text/plain": [
       "0.4860845236342217"
      ]
     },
     "execution_count": 61,
     "metadata": {},
     "output_type": "execute_result"
    },
    {
     "name": "stdout",
     "output_type": "stream",
     "text": [
      "time: 29.6 ms (started: 2021-12-07 10:12:44 +00:00)\n"
     ]
    }
   ],
   "source": [
    "f1_score(true_test, pred_02, average='micro')"
   ]
  },
  {
   "cell_type": "markdown",
   "metadata": {},
   "source": [
    "### Result: Threshold=0.1 Accuracy & Micro F1-score"
   ]
  },
  {
   "cell_type": "code",
   "execution_count": 65,
   "metadata": {},
   "outputs": [
    {
     "data": {
      "text/plain": [
       "array([0., 0., 0., 0., 1., 0., 0., 0., 0., 0., 0., 1., 1., 0., 0., 1., 0.,\n",
       "       0., 0., 0., 0., 0., 0., 0.], dtype=float32)"
      ]
     },
     "execution_count": 65,
     "metadata": {},
     "output_type": "execute_result"
    },
    {
     "name": "stdout",
     "output_type": "stream",
     "text": [
      "time: 1.68 s (started: 2021-12-07 10:13:18 +00:00)\n"
     ]
    }
   ],
   "source": [
    "pred_01 = pred_test.copy()\n",
    "for ls in pred_01:\n",
    "    thres = 0.1\n",
    "    pred_01[pred_01 >= thres] = 1\n",
    "    pred_01[pred_01 < thres] = 0\n",
    "pred_01[0] "
   ]
  },
  {
   "cell_type": "code",
   "execution_count": 66,
   "metadata": {},
   "outputs": [
    {
     "data": {
      "text/plain": [
       "0.021895929933024215"
      ]
     },
     "execution_count": 66,
     "metadata": {},
     "output_type": "execute_result"
    },
    {
     "name": "stdout",
     "output_type": "stream",
     "text": [
      "time: 19.3 ms (started: 2021-12-07 10:13:21 +00:00)\n"
     ]
    }
   ],
   "source": [
    "accuracy_score(true_test, pred_01)"
   ]
  },
  {
   "cell_type": "code",
   "execution_count": 67,
   "metadata": {},
   "outputs": [
    {
     "data": {
      "text/plain": [
       "0.4100854154295893"
      ]
     },
     "execution_count": 67,
     "metadata": {},
     "output_type": "execute_result"
    },
    {
     "name": "stdout",
     "output_type": "stream",
     "text": [
      "time: 30.8 ms (started: 2021-12-07 10:13:21 +00:00)\n"
     ]
    }
   ],
   "source": [
    "f1_score(true_test, pred_01, average='micro')"
   ]
  },
  {
   "cell_type": "code",
   "execution_count": null,
   "metadata": {},
   "outputs": [],
   "source": []
  }
 ],
 "metadata": {
  "kernelspec": {
   "display_name": "Python 3",
   "language": "python",
   "name": "python3"
  },
  "language_info": {
   "codemirror_mode": {
    "name": "ipython",
    "version": 3
   },
   "file_extension": ".py",
   "mimetype": "text/x-python",
   "name": "python",
   "nbconvert_exporter": "python",
   "pygments_lexer": "ipython3",
   "version": "3.6.9"
  }
 },
 "nbformat": 4,
 "nbformat_minor": 2
}
