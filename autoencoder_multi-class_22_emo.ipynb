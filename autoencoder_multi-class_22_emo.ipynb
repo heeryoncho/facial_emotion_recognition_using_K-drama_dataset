{
 "cells": [
  {
   "cell_type": "markdown",
   "metadata": {},
   "source": [
    "This notebook contains the code used in the BigComp 2022 paper: <br>\n",
    "<b>Heeryon Cho, Woo-Kyu Kang, Younsoo Park, Sungeu Chae, and Seong-joon Kim, \"Multi-label Facial Emotion Recognition Using Korean Drama Movie Clips,\" BigComp 2022.</b>\n",
    "### Autoencoder /  Classify 22 Emotions"
   ]
  },
  {
   "cell_type": "code",
   "execution_count": 1,
   "metadata": {},
   "outputs": [],
   "source": [
    "import tensorflow as tf\n",
    "from tensorflow import keras\n",
    "from tensorflow.keras.models import Sequential\n",
    "from tensorflow.keras.layers import Dense, Activation, Flatten, Input\n",
    "from tensorflow.keras.layers import Conv2D, MaxPooling2D, UpSampling2D, Conv2DTranspose\n",
    "import matplotlib.pyplot as plt\n",
    "import numpy as np\n",
    "import pandas as pd\n",
    "import random as rn\n",
    "import os"
   ]
  },
  {
   "cell_type": "code",
   "execution_count": 2,
   "metadata": {},
   "outputs": [],
   "source": [
    "import warnings\n",
    "import logging\n",
    "logging.getLogger('tensorflow').disabled = True\n",
    "warnings.filterwarnings(\"ignore\")\n",
    "os.environ['TF_CPP_MIN_LOG_LEVEL'] = '3'"
   ]
  },
  {
   "cell_type": "code",
   "execution_count": 3,
   "metadata": {},
   "outputs": [
    {
     "name": "stdout",
     "output_type": "stream",
     "text": [
      "time: 539 µs (started: 2021-12-07 03:39:30 +00:00)\n"
     ]
    }
   ],
   "source": [
    "# Record cell run time.\n",
    "#!pip install ipython-autotime\n",
    "\n",
    "%load_ext autotime"
   ]
  },
  {
   "cell_type": "code",
   "execution_count": 4,
   "metadata": {},
   "outputs": [
    {
     "name": "stdout",
     "output_type": "stream",
     "text": [
      "time: 1.8 ms (started: 2021-12-07 03:39:30 +00:00)\n"
     ]
    }
   ],
   "source": [
    "# Set seed for reproducibility.\n",
    "\n",
    "set_seed = 46\n",
    "np.random.seed(set_seed)\n",
    "rn.seed(set_seed)\n",
    "tf.random.set_seed(set_seed)"
   ]
  },
  {
   "cell_type": "markdown",
   "metadata": {},
   "source": [
    "### Load pretrained autoencoder."
   ]
  },
  {
   "cell_type": "code",
   "execution_count": 5,
   "metadata": {},
   "outputs": [
    {
     "name": "stdout",
     "output_type": "stream",
     "text": [
      "time: 5.44 ms (started: 2021-12-07 03:39:30 +00:00)\n"
     ]
    }
   ],
   "source": [
    "# Create autoencoder model (skeleton) for loading pretrained weights.\n",
    "\n",
    "def create_autoencoder():\n",
    "    # Define the model\n",
    "    model = Sequential()\n",
    "\n",
    "    #1st convolution layer\n",
    "    model.add(Conv2D(32, (3, 3), padding='same', input_shape=(64,64,3)))\n",
    "    model.add(Activation('relu'))\n",
    "    model.add(MaxPooling2D(pool_size=(2,2), padding='same'))\n",
    "\n",
    "    #2nd convolution layer\n",
    "    model.add(Conv2D(32,(3, 3), padding='same'))\n",
    "    model.add(Activation('relu'))\n",
    "    model.add(MaxPooling2D(pool_size=(2,2), padding='same'))\n",
    "\n",
    "    #3rd convolution layer\n",
    "    model.add(Conv2D(32,(3, 3), padding='same'))\n",
    "    model.add(Activation('relu'))\n",
    "    model.add(MaxPooling2D(pool_size=(2,2), padding='same'))    \n",
    "\n",
    "    #1st deconvolution layer\n",
    "    model.add(Conv2DTranspose(32,(3, 3), padding='same'))\n",
    "    model.add(Activation('relu'))\n",
    "    model.add(UpSampling2D((2, 2)))\n",
    "    \n",
    "    #2nd deconvolution layer\n",
    "    model.add(Conv2DTranspose(32,(3, 3), padding='same'))\n",
    "    model.add(Activation('relu'))\n",
    "    model.add(UpSampling2D((2, 2)))\n",
    "\n",
    "    #3rd deconvolution layer\n",
    "    model.add(Conv2DTranspose(32,(3, 3), padding='same'))\n",
    "    model.add(Activation('relu'))\n",
    "    model.add(UpSampling2D((2, 2)))    \n",
    "    \n",
    "    model.add(Conv2D(3,(3, 3), padding='same'))\n",
    "    model.add(Activation('sigmoid'))\n",
    "    \n",
    "    # Compile the model\n",
    "    model.compile(optimizer='adam', loss='binary_crossentropy')\n",
    "    model.summary()\n",
    "    \n",
    "    return model"
   ]
  },
  {
   "cell_type": "code",
   "execution_count": 6,
   "metadata": {},
   "outputs": [
    {
     "name": "stdout",
     "output_type": "stream",
     "text": [
      "Model: \"sequential\"\n",
      "_________________________________________________________________\n",
      "Layer (type)                 Output Shape              Param #   \n",
      "=================================================================\n",
      "conv2d (Conv2D)              (None, 64, 64, 32)        896       \n",
      "_________________________________________________________________\n",
      "activation (Activation)      (None, 64, 64, 32)        0         \n",
      "_________________________________________________________________\n",
      "max_pooling2d (MaxPooling2D) (None, 32, 32, 32)        0         \n",
      "_________________________________________________________________\n",
      "conv2d_1 (Conv2D)            (None, 32, 32, 32)        9248      \n",
      "_________________________________________________________________\n",
      "activation_1 (Activation)    (None, 32, 32, 32)        0         \n",
      "_________________________________________________________________\n",
      "max_pooling2d_1 (MaxPooling2 (None, 16, 16, 32)        0         \n",
      "_________________________________________________________________\n",
      "conv2d_2 (Conv2D)            (None, 16, 16, 32)        9248      \n",
      "_________________________________________________________________\n",
      "activation_2 (Activation)    (None, 16, 16, 32)        0         \n",
      "_________________________________________________________________\n",
      "max_pooling2d_2 (MaxPooling2 (None, 8, 8, 32)          0         \n",
      "_________________________________________________________________\n",
      "conv2d_transpose (Conv2DTran (None, 8, 8, 32)          9248      \n",
      "_________________________________________________________________\n",
      "activation_3 (Activation)    (None, 8, 8, 32)          0         \n",
      "_________________________________________________________________\n",
      "up_sampling2d (UpSampling2D) (None, 16, 16, 32)        0         \n",
      "_________________________________________________________________\n",
      "conv2d_transpose_1 (Conv2DTr (None, 16, 16, 32)        9248      \n",
      "_________________________________________________________________\n",
      "activation_4 (Activation)    (None, 16, 16, 32)        0         \n",
      "_________________________________________________________________\n",
      "up_sampling2d_1 (UpSampling2 (None, 32, 32, 32)        0         \n",
      "_________________________________________________________________\n",
      "conv2d_transpose_2 (Conv2DTr (None, 32, 32, 32)        9248      \n",
      "_________________________________________________________________\n",
      "activation_5 (Activation)    (None, 32, 32, 32)        0         \n",
      "_________________________________________________________________\n",
      "up_sampling2d_2 (UpSampling2 (None, 64, 64, 32)        0         \n",
      "_________________________________________________________________\n",
      "conv2d_3 (Conv2D)            (None, 64, 64, 3)         867       \n",
      "_________________________________________________________________\n",
      "activation_6 (Activation)    (None, 64, 64, 3)         0         \n",
      "=================================================================\n",
      "Total params: 48,003\n",
      "Trainable params: 48,003\n",
      "Non-trainable params: 0\n",
      "_________________________________________________________________\n"
     ]
    },
    {
     "data": {
      "text/plain": [
       "<tensorflow.python.training.tracking.util.CheckpointLoadStatus at 0x7f32382d8b70>"
      ]
     },
     "execution_count": 6,
     "metadata": {},
     "output_type": "execute_result"
    },
    {
     "name": "stdout",
     "output_type": "stream",
     "text": [
      "time: 1.74 s (started: 2021-12-07 03:39:30 +00:00)\n"
     ]
    }
   ],
   "source": [
    "# Load pretrained autoencoder weights.\n",
    "\n",
    "checkpoint_path = \"./model/autoencoder.ckpt\"\n",
    "autoencoder = create_autoencoder()\n",
    "autoencoder.load_weights(checkpoint_path)"
   ]
  },
  {
   "cell_type": "markdown",
   "metadata": {},
   "source": [
    "### The below code is for creating training data tfrecord and idx file from images. (We do not use the below code in this jupyter notebook since we import tfrecords directly.)\n",
    "\n",
    "```python\n",
    "# The following functions can be used to convert a value to a type compatible\n",
    "# with tf.train.Example.\n",
    "\n",
    "from itertools import islice\n",
    "from subprocess import call\n",
    "\n",
    "def _bytes_feature(value):\n",
    "    \"\"\"Returns a bytes_list from a string / byte.\"\"\"\n",
    "    if isinstance(value, type(tf.constant(0))):\n",
    "        value = value.numpy() # BytesList won't unpack a string from an EagerTensor.\n",
    "    return tf.train.Feature(bytes_list=tf.train.BytesList(value=[value]))\n",
    "\n",
    "#def _float_feature(value):\n",
    "#    \"\"\"Returns a float_list from a float / double.\"\"\"\n",
    "#    return tf.train.Feature(float_list=tf.train.FloatList(value=[value]))\n",
    "\n",
    "def _int64_feature(value):\n",
    "    if type(value) != list:\n",
    "        value = [value]\n",
    "    \"\"\"Returns an int64_list from a bool / enum / int / uint.\"\"\"\n",
    "    return tf.train.Feature(int64_list=tf.train.Int64List(value=value))\n",
    "\n",
    "# Create a dictionary with relevant features.\n",
    "\n",
    "def image_example(image_string, label):\n",
    "    image_shape = tf.io.decode_jpeg(image_string).shape\n",
    "\n",
    "    feature = {\n",
    "        'height': _int64_feature(image_shape[0]),\n",
    "        'width': _int64_feature(image_shape[1]),\n",
    "        'depth': _int64_feature(image_shape[2]),\n",
    "        'label': _int64_feature(label),\n",
    "        'image_raw': _bytes_feature(image_string),\n",
    "    }\n",
    "    return tf.train.Example(features=tf.train.Features(feature=feature))\n",
    "\n",
    "def gen_tfrecord_idx(tfrecord_file, dict_label, tfrecord_idx):\n",
    "    with tf.io.TFRecordWriter(tfrecord_file) as writer:\n",
    "        for filename, label in dict_label.items():\n",
    "            fname = \"./image/\" + filename\n",
    "            image_string = open(fname, 'rb').read()\n",
    "            tf_example = image_example(image_string, label)\n",
    "            writer.write(tf_example.SerializeToString())\n",
    "\n",
    "    tfrecord2idx_script = \"tfrecord2idx\"\n",
    "\n",
    "    if not os.path.isfile(tfrecord_idx):\n",
    "        call([tfrecord2idx_script, tfrecord_file, tfrecord_idx])\n",
    "\n",
    "\n",
    "#--------------------------------------------\n",
    "# VALID DATA: Load labels, check headers, check data shape.\n",
    "\n",
    "df_label_valid = pd.read_csv('label/label_22_emo_valid.csv')\n",
    "print(\"valid columns:\", df_label_valid.columns)\n",
    "print(\"valid shape:\", df_label_valid.shape)\n",
    "\n",
    "# Place labels into a dictionary.\n",
    "\n",
    "dict_label_valid = {}\n",
    "for idx, row in df_label_valid.iterrows():\n",
    "    dict_label_valid[row['img_id']] = list(row['moved':'disgusted'].values)\n",
    "len(dict_label_valid)\n",
    "\n",
    "#--------------------------------------------\n",
    "# Create VALID tfrecord & idx files from jpg images.\n",
    "\n",
    "tfrecord_file_valid = './tfrecords/22_emo_valid.tfrecords'\n",
    "tfrecord_idx_valid = './tfrecords/22_emo_valid.idx'\n",
    "\n",
    "gen_tfrecord_idx(tfrecord_file_valid, dict_label_valid, tfrecord_idx_valid)\n",
    "\n",
    "#--------------------------------------------\n",
    "# TRAIN DATA: Load labels, check headers, check data shape.\n",
    "\n",
    "df_label_train = pd.read_csv('label/label_22_emo_train.csv')\n",
    "print(\"train columns:\", df_label_train.columns)\n",
    "print(\"train shape:\", df_label_train.shape)\n",
    "\n",
    "# Place labels into a dictionary.\n",
    "\n",
    "dict_label_train = {}\n",
    "for idx, row in df_label_train.iterrows():\n",
    "    dict_label_train[row['img_id']] = list(row['moved':'disgusted'].values)\n",
    "len(dict_label_train)\n",
    "\n",
    "#--------------------------------------------\n",
    "# Create TRAIN tfrecord & idx files from jpg images.\n",
    "\n",
    "tfrecord_file_train = './tfrecords/22_emo_train.tfrecords'\n",
    "tfrecord_idx_train = './tfrecords/22_emo_train.idx'\n",
    "\n",
    "gen_tfrecord_idx(tfrecord_file_train, dict_label_train, tfrecord_idx_train) \n",
    "\n",
    "#--------------------------------------------\n",
    "# TEST DATA: Load labels, check headers, check data shape.\n",
    "\n",
    "df_label_test = pd.read_csv('label/label_22_emo_test.csv')\n",
    "print(\"test columns:\", df_label_test.columns)\n",
    "print(\"test shape:\", df_label_test.shape)\n",
    "\n",
    "# Place labels into a dictionary.\n",
    "\n",
    "dict_label_test = {}\n",
    "for idx, row in df_label_test.iterrows():\n",
    "    dict_label_test[row['img_id']] = list(row['moved':'disgusted'].values)\n",
    "len(dict_label_test)\n",
    "\n",
    "#-------------------------------------------\n",
    "# Create TEST tfrecord & idx files from jpg images.\n",
    "\n",
    "tfrecord_file_test = './tfrecords/22_emo_test.tfrecords'\n",
    "tfrecord_idx_test = './tfrecords/22_emo_test.idx'\n",
    "\n",
    "gen_tfrecord_idx(tfrecord_file_test, dict_label_test, tfrecord_idx_test) \n",
    "\n",
    "# OUTPUT\n",
    "# valid columns: Index(['img_id', 'clip_id', 'moved', 'fearful', 'surprised', 'angry',\n",
    "#       'anxious', 'smitten', 'fluttered', 'disappointed', 'fulfilled',\n",
    "#       'ashamed', 'sad', 'upset', 'sympathetic', 'passionate', 'depressed',\n",
    "#       'amused', 'affectionate', 'guilty', 'jealous', 'peaceful', 'happy',\n",
    "#       'disgusted'],\n",
    "#      dtype='object')\n",
    "# valid shape: (1980, 22)\n",
    "# train columns: Index(['img_id', 'clip_id', 'moved', 'fearful', 'surprised', 'angry',\n",
    "#       'anxious', 'smitten', 'fluttered', 'disappointed', 'fulfilled',\n",
    "#       'ashamed', 'sad', 'upset', 'sympathetic', 'passionate', 'depressed',\n",
    "#       'amused', 'affectionate', 'guilty', 'jealous', 'peaceful', 'happy',\n",
    "#       'disgusted'],\n",
    "#      dtype='object')\n",
    "# train shape: (15840, 22)\n",
    "# test columns: Index(['img_id', 'clip_id', 'moved', 'fearful', 'surprised', 'angry',\n",
    "#       'anxious', 'smitten', 'fluttered', 'disappointed', 'fulfilled',\n",
    "#       'ashamed', 'sad', 'upset', 'sympathetic', 'passionate', 'depressed',\n",
    "#       'amused', 'affectionate', 'guilty', 'jealous', 'peaceful', 'happy',\n",
    "#       'disgusted'],\n",
    "#      dtype='object')\n",
    "# test shape: (1980, 22)\n",
    "```  "
   ]
  },
  {
   "cell_type": "markdown",
   "metadata": {},
   "source": [
    "### Load label data."
   ]
  },
  {
   "cell_type": "code",
   "execution_count": 7,
   "metadata": {
    "scrolled": false
   },
   "outputs": [
    {
     "name": "stdout",
     "output_type": "stream",
     "text": [
      "Index(['img_id', 'clip_id', 'moved', 'fearful', 'surprised', 'angry',\n",
      "       'anxious', 'smitten', 'fluttered', 'disappointed', 'fulfilled',\n",
      "       'ashamed', 'sad', 'upset', 'sympathetic', 'passionate', 'depressed',\n",
      "       'amused', 'affectionate', 'guilty', 'jealous', 'peaceful', 'happy',\n",
      "       'disgusted'],\n",
      "      dtype='object')\n",
      "(19800, 24)\n",
      "LABELS= ['moved', 'fearful', 'surprised', 'angry', 'anxious', 'smitten', 'fluttered', 'disappointed', 'fulfilled', 'ashamed', 'sad', 'upset', 'sympathetic', 'passionate', 'depressed', 'amused', 'affectionate', 'guilty', 'jealous', 'peaceful', 'happy', 'disgusted']\n",
      "All classes: 22\n",
      "TRAIN_DATA_SIZE: 15840\n",
      "VALID_DATA_SIZE: 1980\n",
      "TEST_DATA_SIZE: 1980\n",
      "time: 74.8 ms (started: 2021-12-07 03:39:32 +00:00)\n"
     ]
    }
   ],
   "source": [
    "# Load labels, check headers, check data shape.\n",
    "\n",
    "df_label = pd.read_csv('label/label_22_emo.csv')\n",
    "print(df_label.columns)\n",
    "print(df_label.shape)\n",
    "\n",
    "LABELS = list(df_label.columns[2:])\n",
    "print(\"LABELS=\", LABELS)\n",
    "print(\"All classes:\", len(LABELS))\n",
    "\n",
    "label_valid = pd.read_csv('label/label_22_emo_valid.csv')\n",
    "label_train = pd.read_csv('label/label_22_emo_train.csv')\n",
    "label_test = pd.read_csv('label/label_22_emo_test.csv')\n",
    "\n",
    "VALID_DATA_SIZE = label_valid.shape[0]\n",
    "TRAIN_DATA_SIZE = label_train.shape[0]\n",
    "TEST_DATA_SIZE = label_test.shape[0]\n",
    "\n",
    "print(\"TRAIN_DATA_SIZE:\", label_train.shape[0])\n",
    "print(\"VALID_DATA_SIZE:\", label_valid.shape[0])\n",
    "print(\"TEST_DATA_SIZE:\", label_test.shape[0])"
   ]
  },
  {
   "cell_type": "markdown",
   "metadata": {},
   "source": [
    "### Calculate class weights."
   ]
  },
  {
   "cell_type": "code",
   "execution_count": 8,
   "metadata": {},
   "outputs": [
    {
     "data": {
      "text/plain": [
       "15840"
      ]
     },
     "execution_count": 8,
     "metadata": {},
     "output_type": "execute_result"
    },
    {
     "name": "stdout",
     "output_type": "stream",
     "text": [
      "time: 3.31 s (started: 2021-12-07 03:39:32 +00:00)\n"
     ]
    }
   ],
   "source": [
    "dict_label_train = {}\n",
    "for idx, row in label_train.iterrows():\n",
    "    dict_label_train[row['img_id']] = list(row['moved':'disgusted'].values)\n",
    "len(dict_label_train)"
   ]
  },
  {
   "cell_type": "code",
   "execution_count": 9,
   "metadata": {},
   "outputs": [
    {
     "name": "stdout",
     "output_type": "stream",
     "text": [
      "time: 637 µs (started: 2021-12-07 03:39:35 +00:00)\n"
     ]
    }
   ],
   "source": [
    "y_train_ls = list(dict_label_train.values())\n",
    "#y_train_ls"
   ]
  },
  {
   "cell_type": "code",
   "execution_count": 10,
   "metadata": {},
   "outputs": [
    {
     "name": "stdout",
     "output_type": "stream",
     "text": [
      "time: 27.7 ms (started: 2021-12-07 03:39:35 +00:00)\n"
     ]
    }
   ],
   "source": [
    "y_train_ints = [y.index(1) for y in y_train_ls]\n",
    "#y_train_ints"
   ]
  },
  {
   "cell_type": "code",
   "execution_count": 11,
   "metadata": {
    "scrolled": true
   },
   "outputs": [
    {
     "data": {
      "text/plain": [
       "{0: 2.88,\n",
       " 1: 3.2142857142857144,\n",
       " 2: 0.3314917127071823,\n",
       " 3: 0.11865524060646011,\n",
       " 4: 0.9461235216819974,\n",
       " 5: 3.0,\n",
       " 6: 5.625,\n",
       " 7: 0.9809264305177112,\n",
       " 8: 6.050420168067227,\n",
       " 9: 12.203389830508474,\n",
       " 10: 0.46632124352331605,\n",
       " 11: 0.5286343612334802,\n",
       " 12: 1.769041769041769,\n",
       " 13: 32.72727272727273,\n",
       " 14: 4.444444444444445,\n",
       " 15: 1.978021978021978,\n",
       " 16: 2.1114369501466275,\n",
       " 17: 1.894736842105263,\n",
       " 18: 5.142857142857143,\n",
       " 19: 5.853658536585366,\n",
       " 20: 4.8979591836734695,\n",
       " 21: 7.741935483870968}"
      ]
     },
     "execution_count": 11,
     "metadata": {},
     "output_type": "execute_result"
    },
    {
     "name": "stdout",
     "output_type": "stream",
     "text": [
      "time: 283 ms (started: 2021-12-07 03:39:36 +00:00)\n"
     ]
    }
   ],
   "source": [
    "from sklearn.utils import class_weight\n",
    "\n",
    "class_weights = class_weight.compute_class_weight('balanced',\n",
    "                                                  np.unique(y_train_ints),\n",
    "                                                  y_train_ints)\n",
    "class_weight_dict = dict(enumerate(class_weights))\n",
    "class_weight_dict"
   ]
  },
  {
   "cell_type": "code",
   "execution_count": 12,
   "metadata": {},
   "outputs": [
    {
     "data": {
      "text/plain": [
       "array([ 2.88      ,  3.21428571,  0.33149171,  0.11865524,  0.94612352,\n",
       "        3.        ,  5.625     ,  0.98092643,  6.05042017, 12.20338983,\n",
       "        0.46632124,  0.52863436,  1.76904177, 32.72727273,  4.44444444,\n",
       "        1.97802198,  2.11143695,  1.89473684,  5.14285714,  5.85365854,\n",
       "        4.89795918,  7.74193548])"
      ]
     },
     "execution_count": 12,
     "metadata": {},
     "output_type": "execute_result"
    },
    {
     "name": "stdout",
     "output_type": "stream",
     "text": [
      "time: 2.66 ms (started: 2021-12-07 03:39:36 +00:00)\n"
     ]
    }
   ],
   "source": [
    "class_weights"
   ]
  },
  {
   "cell_type": "code",
   "execution_count": 13,
   "metadata": {},
   "outputs": [
    {
     "name": "stdout",
     "output_type": "stream",
     "text": [
      "time: 3.68 ms (started: 2021-12-07 03:39:36 +00:00)\n"
     ]
    }
   ],
   "source": [
    "n_samples = len(dict_label_train)\n",
    "n_classes = len(set(y_train_ints))"
   ]
  },
  {
   "cell_type": "code",
   "execution_count": 14,
   "metadata": {},
   "outputs": [
    {
     "data": {
      "text/plain": [
       "array([0.39272727, 0.43831169, 0.04520342, 0.01618026, 0.12901684,\n",
       "       0.40909091, 0.76704545, 0.1337627 , 0.8250573 , 1.66409861,\n",
       "       0.06358926, 0.0720865 , 0.24123297, 4.46280992, 0.60606061,\n",
       "       0.26973027, 0.28792322, 0.25837321, 0.7012987 , 0.79822616,\n",
       "       0.66790353, 1.05571848])"
      ]
     },
     "execution_count": 14,
     "metadata": {},
     "output_type": "execute_result"
    },
    {
     "name": "stdout",
     "output_type": "stream",
     "text": [
      "time: 4.42 ms (started: 2021-12-07 03:39:36 +00:00)\n"
     ]
    }
   ],
   "source": [
    "multiplier = 3\n",
    "adjusted_cw = class_weights / n_classes * multiplier\n",
    "adjusted_cw"
   ]
  },
  {
   "cell_type": "code",
   "execution_count": 15,
   "metadata": {},
   "outputs": [
    {
     "data": {
      "text/plain": [
       "array([0.04463074, 0.0455364 , 0.03207262, 0.02828986, 0.03714251,\n",
       "       0.04496317, 0.05078841, 0.03734585, 0.0515632 , 0.06043523,\n",
       "       0.0335634 , 0.03414671, 0.04101091, 0.07972291, 0.0484368 ,\n",
       "       0.04178743, 0.04225512, 0.04148481, 0.04986741, 0.05120895,\n",
       "       0.04937987, 0.05436768])"
      ]
     },
     "execution_count": 15,
     "metadata": {},
     "output_type": "execute_result"
    },
    {
     "name": "stdout",
     "output_type": "stream",
     "text": [
      "time: 6.33 ms (started: 2021-12-07 03:39:36 +00:00)\n"
     ]
    }
   ],
   "source": [
    "log_weights = n_samples / (n_classes * np.log(np.bincount(y_train_ints)))\n",
    "sum_weights = sum(log_weights)\n",
    "sum_weights\n",
    "custom_class_weights = log_weights / sum_weights\n",
    "custom_class_weights"
   ]
  },
  {
   "cell_type": "code",
   "execution_count": 16,
   "metadata": {},
   "outputs": [
    {
     "data": {
      "text/plain": [
       "array([0.43735802, 0.48384809, 0.07727604, 0.04447012, 0.16615935,\n",
       "       0.45405408, 0.81783386, 0.17110854, 0.8766205 , 1.72453384,\n",
       "       0.09715266, 0.10623322, 0.28224388, 4.54253283, 0.65449741,\n",
       "       0.3115177 , 0.33017834, 0.29985802, 0.75116611, 0.84943511,\n",
       "       0.71728339, 1.11008615])"
      ]
     },
     "execution_count": 16,
     "metadata": {},
     "output_type": "execute_result"
    },
    {
     "name": "stdout",
     "output_type": "stream",
     "text": [
      "time: 3.31 ms (started: 2021-12-07 03:39:36 +00:00)\n"
     ]
    }
   ],
   "source": [
    "custom_class_weights += adjusted_cw\n",
    "custom_class_weights"
   ]
  },
  {
   "cell_type": "code",
   "execution_count": 17,
   "metadata": {},
   "outputs": [
    {
     "data": {
      "text/plain": [
       "{0: 0.43735801571868704,\n",
       " 1: 0.48384809272560536,\n",
       " 2: 0.07727603752877807,\n",
       " 3: 0.04447012394919416,\n",
       " 4: 0.16615934894029083,\n",
       " 5: 0.45405407973744055,\n",
       " 6: 0.8178338647074261,\n",
       " 7: 0.17110854124487898,\n",
       " 8: 0.876620496202587,\n",
       " 9: 1.7245338407756894,\n",
       " 10: 0.09715266034914719,\n",
       " 11: 0.10623321618311929,\n",
       " 12: 0.28224387957200436,\n",
       " 13: 4.542532828599931,\n",
       " 14: 0.6544974094004671,\n",
       " 15: 0.31151769951307157,\n",
       " 16: 0.3301783420621469,\n",
       " 17: 0.29985802035019415,\n",
       " 18: 0.7511661101655956,\n",
       " 19: 0.8494351130651482,\n",
       " 20: 0.7172833931995184,\n",
       " 21: 1.1100861516206217}"
      ]
     },
     "execution_count": 17,
     "metadata": {},
     "output_type": "execute_result"
    },
    {
     "name": "stdout",
     "output_type": "stream",
     "text": [
      "time: 3.97 ms (started: 2021-12-07 03:39:36 +00:00)\n"
     ]
    }
   ],
   "source": [
    "class_weight_dict = dict(enumerate(custom_class_weights))\n",
    "class_weight_dict"
   ]
  },
  {
   "cell_type": "markdown",
   "metadata": {},
   "source": [
    "### Define training pipeline."
   ]
  },
  {
   "cell_type": "code",
   "execution_count": 18,
   "metadata": {},
   "outputs": [
    {
     "name": "stdout",
     "output_type": "stream",
     "text": [
      "time: 88.1 ms (started: 2021-12-07 03:39:36 +00:00)\n"
     ]
    }
   ],
   "source": [
    "from nvidia.dali.pipeline import Pipeline\n",
    "import nvidia.dali.ops as ops\n",
    "import nvidia.dali.fn as fn\n",
    "import nvidia.dali.types as types\n",
    "import nvidia.dali.tfrecord as tfrec\n",
    "import nvidia.dali.plugin.tf as dali_tf\n",
    "\n",
    "class TFRecordPipelineTrain(Pipeline):\n",
    "    def __init__(self, batch_size, num_threads,\n",
    "                 device = 'cpu', device_id = 0):\n",
    "        super(TFRecordPipelineTrain, self).__init__(batch_size,\n",
    "                                         num_threads,\n",
    "                                         device_id)\n",
    "        self.input = fn.readers.tfrecord(        \n",
    "             features = {\"image_raw\": tfrec.FixedLenFeature((), tfrec.string, \"\"),\n",
    "                         \"label\": tfrec.FixedLenFeature([22], tfrec.int64,  22)},\n",
    "             path = ['./tfrecords/22_emo_train.tfrecords'],\n",
    "             index_path = ['./tfrecords/22_emo_train.idx'],\n",
    "             random_shuffle=True,\n",
    "             seed = set_seed)\n",
    "        self.iter = 0\n",
    "    def define_graph(self):\n",
    "        inputs = self.input\n",
    "        images = fn.decoders.image(inputs[\"image_raw\"], device = \"mixed\", output_type = types.RGB) / 255.\n",
    "        labels = inputs[\"label\"].gpu()\n",
    "        return (images, labels)\n",
    "    def iter_setup(self):\n",
    "        pass"
   ]
  },
  {
   "cell_type": "markdown",
   "metadata": {},
   "source": [
    "### Define validation pipeline."
   ]
  },
  {
   "cell_type": "code",
   "execution_count": 19,
   "metadata": {},
   "outputs": [
    {
     "name": "stdout",
     "output_type": "stream",
     "text": [
      "time: 1.72 ms (started: 2021-12-07 03:39:36 +00:00)\n"
     ]
    }
   ],
   "source": [
    "class TFRecordPipelineValid(Pipeline):\n",
    "    def __init__(self, batch_size, num_threads,\n",
    "                 device = 'cpu', device_id = 0):\n",
    "        super(TFRecordPipelineValid, self).__init__(batch_size,\n",
    "                                         num_threads,\n",
    "                                         device_id)\n",
    "        self.input = fn.readers.tfrecord(        \n",
    "             features = {\"image_raw\": tfrec.FixedLenFeature((), tfrec.string, \"\"),\n",
    "                         \"label\": tfrec.FixedLenFeature([22], tfrec.int64,  22)},\n",
    "             path = ['./tfrecords/22_emo_valid.tfrecords'],\n",
    "             index_path = ['./tfrecords/22_emo_valid.idx'],\n",
    "             random_shuffle=False,\n",
    "             seed = set_seed)\n",
    "        self.iter = 0\n",
    "    def define_graph(self):\n",
    "        inputs = self.input\n",
    "        images = fn.decoders.image(inputs[\"image_raw\"], device = \"mixed\", output_type = types.RGB) / 255.\n",
    "        labels = inputs[\"label\"].gpu()\n",
    "        return (images, labels)\n",
    "    def iter_setup(self):\n",
    "        pass"
   ]
  },
  {
   "cell_type": "markdown",
   "metadata": {},
   "source": [
    "### Train autoencoder model for classifying 22 emotions."
   ]
  },
  {
   "cell_type": "code",
   "execution_count": 20,
   "metadata": {
    "scrolled": true
   },
   "outputs": [
    {
     "name": "stdout",
     "output_type": "stream",
     "text": [
      "Model: \"model\"\n",
      "_________________________________________________________________\n",
      "Layer (type)                 Output Shape              Param #   \n",
      "=================================================================\n",
      "input_1 (InputLayer)         [(None, 64, 64, 3)]       0         \n",
      "_________________________________________________________________\n",
      "sequential (Sequential)      (None, 64, 64, 3)         48003     \n",
      "_________________________________________________________________\n",
      "flatten (Flatten)            (None, 12288)             0         \n",
      "_________________________________________________________________\n",
      "dense (Dense)                (None, 22)                270358    \n",
      "_________________________________________________________________\n",
      "dropout (Dropout)            (None, 22)                0         \n",
      "_________________________________________________________________\n",
      "dense_1 (Dense)              (None, 22)                506       \n",
      "=================================================================\n",
      "Total params: 318,867\n",
      "Trainable params: 318,867\n",
      "Non-trainable params: 0\n",
      "_________________________________________________________________\n",
      "Epoch 1/1000\n",
      "247/247 [==============================] - 7s 16ms/step - loss: 2.8259 - accuracy: 0.2185 - val_loss: 2.6242 - val_accuracy: 0.3859\n",
      "Epoch 2/1000\n",
      "247/247 [==============================] - 4s 16ms/step - loss: 2.7634 - accuracy: 0.2459 - val_loss: 2.5934 - val_accuracy: 0.3859\n",
      "Epoch 3/1000\n",
      "247/247 [==============================] - 4s 15ms/step - loss: 2.7296 - accuracy: 0.2477 - val_loss: 2.5535 - val_accuracy: 0.3859\n",
      "Epoch 4/1000\n",
      "247/247 [==============================] - 4s 15ms/step - loss: 2.6969 - accuracy: 0.2644 - val_loss: 2.5144 - val_accuracy: 0.3859\n",
      "Epoch 5/1000\n",
      "247/247 [==============================] - 4s 16ms/step - loss: 2.6708 - accuracy: 0.2644 - val_loss: 2.4919 - val_accuracy: 0.3859\n",
      "Epoch 6/1000\n",
      "247/247 [==============================] - 4s 16ms/step - loss: 2.6379 - accuracy: 0.2742 - val_loss: 2.4068 - val_accuracy: 0.3859\n",
      "Epoch 7/1000\n",
      "247/247 [==============================] - 4s 16ms/step - loss: 2.6083 - accuracy: 0.2806 - val_loss: 2.4061 - val_accuracy: 0.3865\n",
      "Epoch 8/1000\n",
      "247/247 [==============================] - 4s 16ms/step - loss: 2.5813 - accuracy: 0.2870 - val_loss: 2.3856 - val_accuracy: 0.3865\n",
      "Epoch 9/1000\n",
      "247/247 [==============================] - 4s 16ms/step - loss: 2.5597 - accuracy: 0.2896 - val_loss: 2.3445 - val_accuracy: 0.3859\n",
      "Epoch 10/1000\n",
      "247/247 [==============================] - 4s 16ms/step - loss: 2.5455 - accuracy: 0.2995 - val_loss: 2.3246 - val_accuracy: 0.3859\n",
      "Epoch 11/1000\n",
      "247/247 [==============================] - 4s 16ms/step - loss: 2.5169 - accuracy: 0.3031 - val_loss: 2.3204 - val_accuracy: 0.3859\n",
      "Epoch 12/1000\n",
      "247/247 [==============================] - 4s 17ms/step - loss: 2.5028 - accuracy: 0.3091 - val_loss: 2.2961 - val_accuracy: 0.3859\n",
      "Epoch 13/1000\n",
      "247/247 [==============================] - 4s 17ms/step - loss: 2.4768 - accuracy: 0.3117 - val_loss: 2.2541 - val_accuracy: 0.3859\n",
      "Epoch 14/1000\n",
      "247/247 [==============================] - 4s 17ms/step - loss: 2.4610 - accuracy: 0.3147 - val_loss: 2.2416 - val_accuracy: 0.3865\n",
      "Epoch 15/1000\n",
      "247/247 [==============================] - 4s 17ms/step - loss: 2.4419 - accuracy: 0.3221 - val_loss: 2.2203 - val_accuracy: 0.3859\n",
      "Epoch 16/1000\n",
      "247/247 [==============================] - 4s 17ms/step - loss: 2.4209 - accuracy: 0.3296 - val_loss: 2.2228 - val_accuracy: 0.3859\n",
      "Epoch 17/1000\n",
      "247/247 [==============================] - 4s 16ms/step - loss: 2.4040 - accuracy: 0.3353 - val_loss: 2.1939 - val_accuracy: 0.3849\n",
      "Epoch 18/1000\n",
      "247/247 [==============================] - 4s 16ms/step - loss: 2.3831 - accuracy: 0.3383 - val_loss: 2.1741 - val_accuracy: 0.3885\n",
      "Epoch 19/1000\n",
      "247/247 [==============================] - 4s 16ms/step - loss: 2.3658 - accuracy: 0.3491 - val_loss: 2.1392 - val_accuracy: 0.3891\n",
      "Epoch 20/1000\n",
      "247/247 [==============================] - 4s 16ms/step - loss: 2.3507 - accuracy: 0.3463 - val_loss: 2.1295 - val_accuracy: 0.3917\n",
      "Epoch 21/1000\n",
      "247/247 [==============================] - 4s 17ms/step - loss: 2.3395 - accuracy: 0.3494 - val_loss: 2.1271 - val_accuracy: 0.3938\n",
      "Epoch 22/1000\n",
      "247/247 [==============================] - 4s 16ms/step - loss: 2.3219 - accuracy: 0.3513 - val_loss: 2.1091 - val_accuracy: 0.3938\n",
      "Epoch 23/1000\n",
      "247/247 [==============================] - 4s 16ms/step - loss: 2.3106 - accuracy: 0.3579 - val_loss: 2.0986 - val_accuracy: 0.3990\n",
      "Epoch 24/1000\n",
      "247/247 [==============================] - 4s 17ms/step - loss: 2.2938 - accuracy: 0.3663 - val_loss: 2.0917 - val_accuracy: 0.3984\n",
      "Epoch 25/1000\n",
      "247/247 [==============================] - 4s 17ms/step - loss: 2.2894 - accuracy: 0.3625 - val_loss: 2.0771 - val_accuracy: 0.3984\n",
      "Epoch 26/1000\n",
      "247/247 [==============================] - 4s 17ms/step - loss: 2.2793 - accuracy: 0.3656 - val_loss: 2.0812 - val_accuracy: 0.4005\n",
      "Epoch 27/1000\n",
      "247/247 [==============================] - 4s 17ms/step - loss: 2.2634 - accuracy: 0.3710 - val_loss: 2.0437 - val_accuracy: 0.3979\n",
      "Epoch 28/1000\n",
      "247/247 [==============================] - 4s 15ms/step - loss: 2.2526 - accuracy: 0.3699 - val_loss: 2.0506 - val_accuracy: 0.4000\n",
      "Epoch 29/1000\n",
      "247/247 [==============================] - 4s 16ms/step - loss: 2.2411 - accuracy: 0.3714 - val_loss: 2.0564 - val_accuracy: 0.4068\n",
      "Epoch 30/1000\n",
      "247/247 [==============================] - 4s 16ms/step - loss: 2.2324 - accuracy: 0.3751 - val_loss: 2.0426 - val_accuracy: 0.4167\n",
      "Epoch 31/1000\n",
      "247/247 [==============================] - 4s 17ms/step - loss: 2.2261 - accuracy: 0.3849 - val_loss: 2.0196 - val_accuracy: 0.4130\n",
      "Epoch 32/1000\n",
      "247/247 [==============================] - 4s 18ms/step - loss: 2.2095 - accuracy: 0.3825 - val_loss: 1.9963 - val_accuracy: 0.4141\n",
      "Epoch 33/1000\n",
      "247/247 [==============================] - 4s 17ms/step - loss: 2.2025 - accuracy: 0.3878 - val_loss: 1.9776 - val_accuracy: 0.4135\n",
      "Epoch 34/1000\n",
      "247/247 [==============================] - 4s 16ms/step - loss: 2.1916 - accuracy: 0.3904 - val_loss: 1.9691 - val_accuracy: 0.4187\n",
      "Epoch 35/1000\n",
      "247/247 [==============================] - 4s 16ms/step - loss: 2.1748 - accuracy: 0.3974 - val_loss: 1.9610 - val_accuracy: 0.4229\n",
      "Epoch 36/1000\n",
      "247/247 [==============================] - 4s 17ms/step - loss: 2.1659 - accuracy: 0.3994 - val_loss: 1.9738 - val_accuracy: 0.4391\n",
      "Epoch 37/1000\n",
      "247/247 [==============================] - 4s 17ms/step - loss: 2.1634 - accuracy: 0.3959 - val_loss: 1.9616 - val_accuracy: 0.4349\n",
      "Epoch 38/1000\n",
      "247/247 [==============================] - 4s 16ms/step - loss: 2.1521 - accuracy: 0.3992 - val_loss: 1.9407 - val_accuracy: 0.4328\n",
      "Epoch 39/1000\n",
      "247/247 [==============================] - 4s 16ms/step - loss: 2.1577 - accuracy: 0.3974 - val_loss: 1.9403 - val_accuracy: 0.4344\n",
      "Epoch 40/1000\n",
      "247/247 [==============================] - 4s 16ms/step - loss: 2.1388 - accuracy: 0.4073 - val_loss: 1.9246 - val_accuracy: 0.4380\n",
      "Epoch 41/1000\n",
      "247/247 [==============================] - 4s 16ms/step - loss: 2.1284 - accuracy: 0.4006 - val_loss: 1.9410 - val_accuracy: 0.4469\n",
      "Epoch 42/1000\n",
      "247/247 [==============================] - 4s 16ms/step - loss: 2.1146 - accuracy: 0.4109 - val_loss: 1.9126 - val_accuracy: 0.4484\n",
      "Epoch 43/1000\n",
      "247/247 [==============================] - 4s 16ms/step - loss: 2.1193 - accuracy: 0.4121 - val_loss: 1.9006 - val_accuracy: 0.4427\n",
      "Epoch 44/1000\n",
      "247/247 [==============================] - 4s 16ms/step - loss: 2.1020 - accuracy: 0.4114 - val_loss: 1.8891 - val_accuracy: 0.4375\n",
      "Epoch 45/1000\n",
      "247/247 [==============================] - 4s 15ms/step - loss: 2.0962 - accuracy: 0.4161 - val_loss: 1.8846 - val_accuracy: 0.4437\n",
      "Epoch 46/1000\n",
      "247/247 [==============================] - 4s 16ms/step - loss: 2.0883 - accuracy: 0.4167 - val_loss: 1.8840 - val_accuracy: 0.4516\n",
      "Epoch 47/1000\n",
      "247/247 [==============================] - 4s 16ms/step - loss: 2.0776 - accuracy: 0.4174 - val_loss: 1.8742 - val_accuracy: 0.4578\n",
      "Epoch 48/1000\n",
      "247/247 [==============================] - 4s 15ms/step - loss: 2.0723 - accuracy: 0.4209 - val_loss: 1.8812 - val_accuracy: 0.4667\n",
      "Epoch 49/1000\n",
      "247/247 [==============================] - 4s 16ms/step - loss: 2.0613 - accuracy: 0.4234 - val_loss: 1.8572 - val_accuracy: 0.4495\n",
      "Epoch 50/1000\n",
      "247/247 [==============================] - 4s 16ms/step - loss: 2.0562 - accuracy: 0.4230 - val_loss: 1.8457 - val_accuracy: 0.4531\n",
      "Epoch 51/1000\n",
      "247/247 [==============================] - 4s 15ms/step - loss: 2.0574 - accuracy: 0.4243 - val_loss: 1.8421 - val_accuracy: 0.4547\n",
      "Epoch 52/1000\n",
      "247/247 [==============================] - 4s 17ms/step - loss: 2.0515 - accuracy: 0.4266 - val_loss: 1.8481 - val_accuracy: 0.4646\n",
      "Epoch 53/1000\n",
      "247/247 [==============================] - 4s 16ms/step - loss: 2.0428 - accuracy: 0.4254 - val_loss: 1.8312 - val_accuracy: 0.4536\n",
      "Epoch 54/1000\n",
      "247/247 [==============================] - 4s 16ms/step - loss: 2.0341 - accuracy: 0.4285 - val_loss: 1.8348 - val_accuracy: 0.4708\n",
      "Epoch 55/1000\n",
      "247/247 [==============================] - 4s 16ms/step - loss: 2.0325 - accuracy: 0.4290 - val_loss: 1.8283 - val_accuracy: 0.4719\n",
      "Epoch 56/1000\n",
      "247/247 [==============================] - 4s 17ms/step - loss: 2.0155 - accuracy: 0.4309 - val_loss: 1.8191 - val_accuracy: 0.4698\n",
      "Epoch 57/1000\n",
      "247/247 [==============================] - 4s 16ms/step - loss: 2.0235 - accuracy: 0.4278 - val_loss: 1.8133 - val_accuracy: 0.4693\n",
      "Epoch 58/1000\n",
      "247/247 [==============================] - 4s 17ms/step - loss: 2.0067 - accuracy: 0.4324 - val_loss: 1.8023 - val_accuracy: 0.4625\n",
      "Epoch 59/1000\n",
      "247/247 [==============================] - 4s 17ms/step - loss: 2.0107 - accuracy: 0.4283 - val_loss: 1.8074 - val_accuracy: 0.4766\n",
      "Epoch 60/1000\n",
      "247/247 [==============================] - 4s 16ms/step - loss: 1.9968 - accuracy: 0.4364 - val_loss: 1.7976 - val_accuracy: 0.4766\n",
      "Epoch 61/1000\n",
      "247/247 [==============================] - 4s 17ms/step - loss: 1.9992 - accuracy: 0.4309 - val_loss: 1.7923 - val_accuracy: 0.4786\n",
      "Epoch 62/1000\n",
      "247/247 [==============================] - 4s 17ms/step - loss: 2.0026 - accuracy: 0.4310 - val_loss: 1.7937 - val_accuracy: 0.4786\n",
      "Epoch 63/1000\n",
      "247/247 [==============================] - 4s 17ms/step - loss: 1.9832 - accuracy: 0.4369 - val_loss: 1.7919 - val_accuracy: 0.4823\n",
      "Epoch 64/1000\n",
      "247/247 [==============================] - 4s 18ms/step - loss: 1.9789 - accuracy: 0.4352 - val_loss: 1.7826 - val_accuracy: 0.4849\n",
      "Epoch 65/1000\n",
      "247/247 [==============================] - 4s 16ms/step - loss: 1.9811 - accuracy: 0.4362 - val_loss: 1.7805 - val_accuracy: 0.4849\n",
      "Epoch 66/1000\n",
      "247/247 [==============================] - 4s 16ms/step - loss: 1.9751 - accuracy: 0.4393 - val_loss: 1.7711 - val_accuracy: 0.4776\n",
      "Epoch 67/1000\n",
      "247/247 [==============================] - 4s 17ms/step - loss: 1.9692 - accuracy: 0.4408 - val_loss: 1.7715 - val_accuracy: 0.4880\n",
      "Epoch 68/1000\n",
      "247/247 [==============================] - 4s 17ms/step - loss: 1.9692 - accuracy: 0.4421 - val_loss: 1.7666 - val_accuracy: 0.4828\n",
      "Epoch 69/1000\n",
      "247/247 [==============================] - 4s 16ms/step - loss: 1.9583 - accuracy: 0.4477 - val_loss: 1.7616 - val_accuracy: 0.4859\n",
      "Epoch 70/1000\n",
      "247/247 [==============================] - 4s 17ms/step - loss: 1.9587 - accuracy: 0.4442 - val_loss: 1.7623 - val_accuracy: 0.4932\n",
      "Epoch 71/1000\n",
      "247/247 [==============================] - 4s 16ms/step - loss: 1.9519 - accuracy: 0.4422 - val_loss: 1.7572 - val_accuracy: 0.4974\n",
      "Epoch 72/1000\n",
      "247/247 [==============================] - 4s 16ms/step - loss: 1.9434 - accuracy: 0.4428 - val_loss: 1.7538 - val_accuracy: 0.4995\n",
      "Epoch 73/1000\n",
      "247/247 [==============================] - 4s 17ms/step - loss: 1.9403 - accuracy: 0.4455 - val_loss: 1.7496 - val_accuracy: 0.4885\n",
      "Epoch 74/1000\n",
      "247/247 [==============================] - 4s 17ms/step - loss: 1.9430 - accuracy: 0.4439 - val_loss: 1.7433 - val_accuracy: 0.4938\n",
      "Epoch 75/1000\n",
      "247/247 [==============================] - 4s 16ms/step - loss: 1.9458 - accuracy: 0.4477 - val_loss: 1.7405 - val_accuracy: 0.5005\n",
      "Epoch 76/1000\n",
      "247/247 [==============================] - 4s 16ms/step - loss: 1.9303 - accuracy: 0.4472 - val_loss: 1.7348 - val_accuracy: 0.4990\n",
      "Epoch 77/1000\n",
      "247/247 [==============================] - 4s 17ms/step - loss: 1.9293 - accuracy: 0.4507 - val_loss: 1.7352 - val_accuracy: 0.5042\n",
      "Epoch 78/1000\n",
      "247/247 [==============================] - 4s 15ms/step - loss: 1.9233 - accuracy: 0.4478 - val_loss: 1.7341 - val_accuracy: 0.5042\n",
      "Epoch 79/1000\n",
      "247/247 [==============================] - 4s 15ms/step - loss: 1.9127 - accuracy: 0.4503 - val_loss: 1.7289 - val_accuracy: 0.5021\n",
      "Epoch 80/1000\n",
      "247/247 [==============================] - 4s 15ms/step - loss: 1.9141 - accuracy: 0.4476 - val_loss: 1.7280 - val_accuracy: 0.5089\n",
      "Epoch 81/1000\n",
      "247/247 [==============================] - 4s 15ms/step - loss: 1.9204 - accuracy: 0.4488 - val_loss: 1.7242 - val_accuracy: 0.4995\n",
      "Epoch 82/1000\n",
      "247/247 [==============================] - 4s 15ms/step - loss: 1.9087 - accuracy: 0.4438 - val_loss: 1.7227 - val_accuracy: 0.5047\n",
      "Epoch 83/1000\n",
      "247/247 [==============================] - 4s 16ms/step - loss: 1.9077 - accuracy: 0.4503 - val_loss: 1.7227 - val_accuracy: 0.5052\n",
      "Epoch 84/1000\n",
      "247/247 [==============================] - 4s 16ms/step - loss: 1.9069 - accuracy: 0.4543 - val_loss: 1.7165 - val_accuracy: 0.5078\n",
      "Epoch 85/1000\n",
      "247/247 [==============================] - 4s 16ms/step - loss: 1.9035 - accuracy: 0.4508 - val_loss: 1.7119 - val_accuracy: 0.5099\n",
      "Epoch 86/1000\n",
      "247/247 [==============================] - 4s 16ms/step - loss: 1.9029 - accuracy: 0.4552 - val_loss: 1.7127 - val_accuracy: 0.5094\n",
      "Epoch 87/1000\n",
      "247/247 [==============================] - 4s 16ms/step - loss: 1.8983 - accuracy: 0.4540 - val_loss: 1.7093 - val_accuracy: 0.5115\n",
      "Epoch 88/1000\n",
      "247/247 [==============================] - 4s 17ms/step - loss: 1.8894 - accuracy: 0.4503 - val_loss: 1.7099 - val_accuracy: 0.5141\n",
      "Epoch 89/1000\n",
      "247/247 [==============================] - 4s 16ms/step - loss: 1.8883 - accuracy: 0.4541 - val_loss: 1.7018 - val_accuracy: 0.5104\n",
      "Epoch 90/1000\n",
      "247/247 [==============================] - 4s 16ms/step - loss: 1.8821 - accuracy: 0.4527 - val_loss: 1.6981 - val_accuracy: 0.5120\n",
      "Epoch 91/1000\n",
      "247/247 [==============================] - 4s 16ms/step - loss: 1.8926 - accuracy: 0.4533 - val_loss: 1.7014 - val_accuracy: 0.5146\n",
      "Epoch 92/1000\n",
      "247/247 [==============================] - 4s 16ms/step - loss: 1.8778 - accuracy: 0.4624 - val_loss: 1.6915 - val_accuracy: 0.5052\n",
      "Epoch 93/1000\n",
      "247/247 [==============================] - 4s 16ms/step - loss: 1.8779 - accuracy: 0.4553 - val_loss: 1.6914 - val_accuracy: 0.5156\n",
      "Epoch 94/1000\n",
      "247/247 [==============================] - 4s 16ms/step - loss: 1.8731 - accuracy: 0.4579 - val_loss: 1.6924 - val_accuracy: 0.5161\n",
      "Epoch 95/1000\n",
      "247/247 [==============================] - 4s 17ms/step - loss: 1.8755 - accuracy: 0.4574 - val_loss: 1.6842 - val_accuracy: 0.5141\n",
      "Epoch 96/1000\n",
      "247/247 [==============================] - 4s 16ms/step - loss: 1.8775 - accuracy: 0.4574 - val_loss: 1.6824 - val_accuracy: 0.5135\n",
      "Epoch 97/1000\n",
      "247/247 [==============================] - 4s 16ms/step - loss: 1.8700 - accuracy: 0.4610 - val_loss: 1.6841 - val_accuracy: 0.5161\n",
      "Epoch 98/1000\n",
      "247/247 [==============================] - 4s 16ms/step - loss: 1.8660 - accuracy: 0.4613 - val_loss: 1.6845 - val_accuracy: 0.5151\n",
      "Epoch 99/1000\n",
      "247/247 [==============================] - 4s 16ms/step - loss: 1.8639 - accuracy: 0.4602 - val_loss: 1.6824 - val_accuracy: 0.5104\n",
      "Epoch 100/1000\n",
      "247/247 [==============================] - 4s 16ms/step - loss: 1.8551 - accuracy: 0.4638 - val_loss: 1.6772 - val_accuracy: 0.5167\n",
      "Epoch 101/1000\n",
      "247/247 [==============================] - 4s 16ms/step - loss: 1.8632 - accuracy: 0.4607 - val_loss: 1.6696 - val_accuracy: 0.5182\n",
      "Epoch 102/1000\n",
      "247/247 [==============================] - 4s 17ms/step - loss: 1.8460 - accuracy: 0.4705 - val_loss: 1.6704 - val_accuracy: 0.5151\n",
      "Epoch 103/1000\n",
      "247/247 [==============================] - 4s 17ms/step - loss: 1.8521 - accuracy: 0.4622 - val_loss: 1.6709 - val_accuracy: 0.5182\n",
      "Epoch 104/1000\n",
      "247/247 [==============================] - 4s 17ms/step - loss: 1.8511 - accuracy: 0.4613 - val_loss: 1.6734 - val_accuracy: 0.5182\n",
      "Epoch 105/1000\n"
     ]
    },
    {
     "name": "stdout",
     "output_type": "stream",
     "text": [
      "247/247 [==============================] - 4s 17ms/step - loss: 1.8401 - accuracy: 0.4647 - val_loss: 1.6694 - val_accuracy: 0.5182\n",
      "Epoch 106/1000\n",
      "247/247 [==============================] - 4s 16ms/step - loss: 1.8454 - accuracy: 0.4647 - val_loss: 1.6619 - val_accuracy: 0.5193\n",
      "Epoch 107/1000\n",
      "247/247 [==============================] - 4s 15ms/step - loss: 1.8407 - accuracy: 0.4694 - val_loss: 1.6632 - val_accuracy: 0.5161\n",
      "Epoch 108/1000\n",
      "247/247 [==============================] - 4s 15ms/step - loss: 1.8420 - accuracy: 0.4679 - val_loss: 1.6570 - val_accuracy: 0.5167\n",
      "Epoch 109/1000\n",
      "247/247 [==============================] - 4s 15ms/step - loss: 1.8377 - accuracy: 0.4616 - val_loss: 1.6598 - val_accuracy: 0.5198\n",
      "Epoch 110/1000\n",
      "247/247 [==============================] - 4s 16ms/step - loss: 1.8345 - accuracy: 0.4657 - val_loss: 1.6610 - val_accuracy: 0.5214\n",
      "Epoch 111/1000\n",
      "247/247 [==============================] - 4s 16ms/step - loss: 1.8349 - accuracy: 0.4653 - val_loss: 1.6540 - val_accuracy: 0.5172\n",
      "Epoch 112/1000\n",
      "247/247 [==============================] - 4s 16ms/step - loss: 1.8378 - accuracy: 0.4633 - val_loss: 1.6572 - val_accuracy: 0.5167\n",
      "Epoch 113/1000\n",
      "247/247 [==============================] - 4s 16ms/step - loss: 1.8292 - accuracy: 0.4661 - val_loss: 1.6492 - val_accuracy: 0.5167\n",
      "Epoch 114/1000\n",
      "247/247 [==============================] - 4s 16ms/step - loss: 1.8249 - accuracy: 0.4667 - val_loss: 1.6510 - val_accuracy: 0.5240\n",
      "Epoch 115/1000\n",
      "247/247 [==============================] - 4s 17ms/step - loss: 1.8339 - accuracy: 0.4647 - val_loss: 1.6484 - val_accuracy: 0.5224\n",
      "Epoch 116/1000\n",
      "247/247 [==============================] - 4s 16ms/step - loss: 1.8301 - accuracy: 0.4638 - val_loss: 1.6466 - val_accuracy: 0.5198\n",
      "Epoch 117/1000\n",
      "247/247 [==============================] - 4s 15ms/step - loss: 1.8236 - accuracy: 0.4665 - val_loss: 1.6447 - val_accuracy: 0.5229\n",
      "Epoch 118/1000\n",
      "247/247 [==============================] - 4s 16ms/step - loss: 1.8232 - accuracy: 0.4663 - val_loss: 1.6512 - val_accuracy: 0.5229\n",
      "Epoch 119/1000\n",
      "247/247 [==============================] - 4s 16ms/step - loss: 1.8236 - accuracy: 0.4701 - val_loss: 1.6432 - val_accuracy: 0.5255\n",
      "Epoch 120/1000\n",
      "247/247 [==============================] - 4s 18ms/step - loss: 1.8174 - accuracy: 0.4662 - val_loss: 1.6342 - val_accuracy: 0.5203\n",
      "Epoch 121/1000\n",
      "247/247 [==============================] - 4s 16ms/step - loss: 1.8177 - accuracy: 0.4709 - val_loss: 1.6399 - val_accuracy: 0.5229\n",
      "Epoch 122/1000\n",
      "247/247 [==============================] - 4s 16ms/step - loss: 1.8125 - accuracy: 0.4679 - val_loss: 1.6359 - val_accuracy: 0.5219\n",
      "Epoch 123/1000\n",
      "247/247 [==============================] - 4s 16ms/step - loss: 1.8061 - accuracy: 0.4735 - val_loss: 1.6412 - val_accuracy: 0.5193\n",
      "Epoch 124/1000\n",
      "247/247 [==============================] - 4s 17ms/step - loss: 1.8204 - accuracy: 0.4671 - val_loss: 1.6357 - val_accuracy: 0.5271\n",
      "Epoch 125/1000\n",
      "247/247 [==============================] - 4s 18ms/step - loss: 1.8089 - accuracy: 0.4716 - val_loss: 1.6395 - val_accuracy: 0.5276\n",
      "Epoch 126/1000\n",
      "247/247 [==============================] - 4s 16ms/step - loss: 1.8067 - accuracy: 0.4679 - val_loss: 1.6281 - val_accuracy: 0.5240\n",
      "Epoch 127/1000\n",
      "247/247 [==============================] - 4s 16ms/step - loss: 1.8032 - accuracy: 0.4743 - val_loss: 1.6231 - val_accuracy: 0.5214\n",
      "Epoch 128/1000\n",
      "247/247 [==============================] - 4s 17ms/step - loss: 1.8040 - accuracy: 0.4686 - val_loss: 1.6256 - val_accuracy: 0.5224\n",
      "Epoch 129/1000\n",
      "247/247 [==============================] - 4s 17ms/step - loss: 1.8003 - accuracy: 0.4703 - val_loss: 1.6314 - val_accuracy: 0.5214\n",
      "Epoch 130/1000\n",
      "247/247 [==============================] - 4s 17ms/step - loss: 1.7987 - accuracy: 0.4731 - val_loss: 1.6292 - val_accuracy: 0.5245\n",
      "Epoch 131/1000\n",
      "247/247 [==============================] - 4s 16ms/step - loss: 1.7965 - accuracy: 0.4750 - val_loss: 1.6246 - val_accuracy: 0.5234\n",
      "Epoch 132/1000\n",
      "247/247 [==============================] - 4s 16ms/step - loss: 1.8000 - accuracy: 0.4699 - val_loss: 1.6191 - val_accuracy: 0.5276\n",
      "Epoch 133/1000\n",
      "247/247 [==============================] - 4s 16ms/step - loss: 1.7809 - accuracy: 0.4780 - val_loss: 1.6179 - val_accuracy: 0.5281\n",
      "Epoch 134/1000\n",
      "247/247 [==============================] - 4s 17ms/step - loss: 1.7845 - accuracy: 0.4774 - val_loss: 1.6162 - val_accuracy: 0.5276\n",
      "Epoch 135/1000\n",
      "247/247 [==============================] - 4s 17ms/step - loss: 1.7842 - accuracy: 0.4748 - val_loss: 1.6212 - val_accuracy: 0.5344\n",
      "Epoch 136/1000\n",
      "247/247 [==============================] - 4s 17ms/step - loss: 1.7784 - accuracy: 0.4784 - val_loss: 1.6147 - val_accuracy: 0.5266\n",
      "Epoch 137/1000\n",
      "247/247 [==============================] - 4s 16ms/step - loss: 1.7779 - accuracy: 0.4798 - val_loss: 1.6144 - val_accuracy: 0.5349\n",
      "Epoch 138/1000\n",
      "247/247 [==============================] - 4s 16ms/step - loss: 1.7743 - accuracy: 0.4768 - val_loss: 1.6081 - val_accuracy: 0.5281\n",
      "Epoch 139/1000\n",
      "247/247 [==============================] - 4s 17ms/step - loss: 1.7928 - accuracy: 0.4708 - val_loss: 1.6111 - val_accuracy: 0.5281\n",
      "Epoch 140/1000\n",
      "247/247 [==============================] - 4s 16ms/step - loss: 1.7763 - accuracy: 0.4799 - val_loss: 1.6070 - val_accuracy: 0.5312\n",
      "Epoch 141/1000\n",
      "247/247 [==============================] - 4s 16ms/step - loss: 1.7707 - accuracy: 0.4773 - val_loss: 1.6018 - val_accuracy: 0.5307\n",
      "Epoch 142/1000\n",
      "247/247 [==============================] - 4s 16ms/step - loss: 1.7593 - accuracy: 0.4799 - val_loss: 1.6037 - val_accuracy: 0.5260\n",
      "Epoch 143/1000\n",
      "247/247 [==============================] - 4s 16ms/step - loss: 1.7806 - accuracy: 0.4729 - val_loss: 1.6008 - val_accuracy: 0.5297\n",
      "Epoch 144/1000\n",
      "247/247 [==============================] - 4s 16ms/step - loss: 1.7691 - accuracy: 0.4774 - val_loss: 1.6016 - val_accuracy: 0.5245\n",
      "Epoch 145/1000\n",
      "247/247 [==============================] - 4s 16ms/step - loss: 1.7689 - accuracy: 0.4775 - val_loss: 1.6083 - val_accuracy: 0.5396\n",
      "Epoch 146/1000\n",
      "247/247 [==============================] - 4s 16ms/step - loss: 1.7607 - accuracy: 0.4774 - val_loss: 1.5983 - val_accuracy: 0.5370\n",
      "Epoch 147/1000\n",
      "247/247 [==============================] - 4s 16ms/step - loss: 1.7679 - accuracy: 0.4790 - val_loss: 1.5996 - val_accuracy: 0.5391\n",
      "Epoch 148/1000\n",
      "247/247 [==============================] - 4s 16ms/step - loss: 1.7557 - accuracy: 0.4822 - val_loss: 1.5912 - val_accuracy: 0.5302\n",
      "Epoch 149/1000\n",
      "247/247 [==============================] - 4s 16ms/step - loss: 1.7650 - accuracy: 0.4777 - val_loss: 1.5925 - val_accuracy: 0.5339\n",
      "Epoch 150/1000\n",
      "247/247 [==============================] - 4s 16ms/step - loss: 1.7576 - accuracy: 0.4755 - val_loss: 1.5953 - val_accuracy: 0.5365\n",
      "Epoch 151/1000\n",
      "247/247 [==============================] - 4s 15ms/step - loss: 1.7651 - accuracy: 0.4795 - val_loss: 1.5914 - val_accuracy: 0.5281\n",
      "Epoch 152/1000\n",
      "247/247 [==============================] - 4s 15ms/step - loss: 1.7611 - accuracy: 0.4800 - val_loss: 1.5891 - val_accuracy: 0.5380\n",
      "Epoch 153/1000\n",
      "247/247 [==============================] - 4s 17ms/step - loss: 1.7501 - accuracy: 0.4803 - val_loss: 1.5874 - val_accuracy: 0.5385\n",
      "Epoch 154/1000\n",
      "247/247 [==============================] - 4s 17ms/step - loss: 1.7410 - accuracy: 0.4835 - val_loss: 1.5886 - val_accuracy: 0.5333\n",
      "Epoch 155/1000\n",
      "247/247 [==============================] - 4s 16ms/step - loss: 1.7621 - accuracy: 0.4777 - val_loss: 1.5868 - val_accuracy: 0.5375\n",
      "Epoch 156/1000\n",
      "247/247 [==============================] - 4s 16ms/step - loss: 1.7576 - accuracy: 0.4839 - val_loss: 1.5876 - val_accuracy: 0.5339\n",
      "Epoch 157/1000\n",
      "247/247 [==============================] - 4s 16ms/step - loss: 1.7519 - accuracy: 0.4841 - val_loss: 1.5795 - val_accuracy: 0.5370\n",
      "Epoch 158/1000\n",
      "247/247 [==============================] - 4s 17ms/step - loss: 1.7504 - accuracy: 0.4801 - val_loss: 1.5837 - val_accuracy: 0.5365\n",
      "Epoch 159/1000\n",
      "247/247 [==============================] - 4s 17ms/step - loss: 1.7456 - accuracy: 0.4821 - val_loss: 1.5810 - val_accuracy: 0.5406\n",
      "Epoch 160/1000\n",
      "247/247 [==============================] - 4s 16ms/step - loss: 1.7407 - accuracy: 0.4865 - val_loss: 1.5761 - val_accuracy: 0.5349\n"
     ]
    },
    {
     "name": "stdout",
     "output_type": "stream",
     "text": [
      "Epoch 161/1000\n",
      "247/247 [==============================] - 4s 16ms/step - loss: 1.7405 - accuracy: 0.4852 - val_loss: 1.5784 - val_accuracy: 0.5365\n",
      "Epoch 162/1000\n",
      "247/247 [==============================] - 4s 16ms/step - loss: 1.7400 - accuracy: 0.4845 - val_loss: 1.5791 - val_accuracy: 0.5375\n",
      "Epoch 163/1000\n",
      "247/247 [==============================] - 4s 16ms/step - loss: 1.7420 - accuracy: 0.4846 - val_loss: 1.5792 - val_accuracy: 0.5375\n",
      "Epoch 164/1000\n",
      "247/247 [==============================] - 4s 17ms/step - loss: 1.7399 - accuracy: 0.4836 - val_loss: 1.5766 - val_accuracy: 0.5365\n",
      "Epoch 165/1000\n",
      "247/247 [==============================] - 4s 16ms/step - loss: 1.7362 - accuracy: 0.4868 - val_loss: 1.5740 - val_accuracy: 0.5437\n",
      "Epoch 166/1000\n",
      "247/247 [==============================] - 4s 16ms/step - loss: 1.7381 - accuracy: 0.4822 - val_loss: 1.5703 - val_accuracy: 0.5417\n",
      "Epoch 167/1000\n",
      "247/247 [==============================] - 4s 17ms/step - loss: 1.7306 - accuracy: 0.4841 - val_loss: 1.5671 - val_accuracy: 0.5375\n",
      "Epoch 168/1000\n",
      "247/247 [==============================] - 4s 16ms/step - loss: 1.7351 - accuracy: 0.4846 - val_loss: 1.5677 - val_accuracy: 0.5406\n",
      "Epoch 169/1000\n",
      "247/247 [==============================] - 4s 16ms/step - loss: 1.7318 - accuracy: 0.4844 - val_loss: 1.5743 - val_accuracy: 0.5469\n",
      "Epoch 170/1000\n",
      "247/247 [==============================] - 4s 16ms/step - loss: 1.7358 - accuracy: 0.4856 - val_loss: 1.5657 - val_accuracy: 0.5432\n",
      "Epoch 171/1000\n",
      "247/247 [==============================] - 4s 16ms/step - loss: 1.7330 - accuracy: 0.4861 - val_loss: 1.5666 - val_accuracy: 0.5401\n",
      "Epoch 172/1000\n",
      "247/247 [==============================] - 4s 16ms/step - loss: 1.7249 - accuracy: 0.4900 - val_loss: 1.5617 - val_accuracy: 0.5365\n",
      "Epoch 173/1000\n",
      "247/247 [==============================] - 4s 17ms/step - loss: 1.7226 - accuracy: 0.4875 - val_loss: 1.5625 - val_accuracy: 0.5391\n",
      "Epoch 174/1000\n",
      "247/247 [==============================] - 4s 15ms/step - loss: 1.7292 - accuracy: 0.4844 - val_loss: 1.5598 - val_accuracy: 0.5365\n",
      "Epoch 175/1000\n",
      "247/247 [==============================] - 4s 16ms/step - loss: 1.7275 - accuracy: 0.4839 - val_loss: 1.5599 - val_accuracy: 0.5422\n",
      "Epoch 176/1000\n",
      "247/247 [==============================] - 4s 16ms/step - loss: 1.7212 - accuracy: 0.4871 - val_loss: 1.5603 - val_accuracy: 0.5417\n",
      "Epoch 177/1000\n",
      "247/247 [==============================] - 4s 15ms/step - loss: 1.7155 - accuracy: 0.4884 - val_loss: 1.5584 - val_accuracy: 0.5427\n",
      "Epoch 178/1000\n",
      "247/247 [==============================] - 4s 16ms/step - loss: 1.7126 - accuracy: 0.4905 - val_loss: 1.5557 - val_accuracy: 0.5401\n",
      "Epoch 179/1000\n",
      "247/247 [==============================] - 4s 16ms/step - loss: 1.7262 - accuracy: 0.4861 - val_loss: 1.5567 - val_accuracy: 0.5437\n",
      "Epoch 180/1000\n",
      "247/247 [==============================] - 4s 17ms/step - loss: 1.7241 - accuracy: 0.4870 - val_loss: 1.5565 - val_accuracy: 0.5417\n",
      "Epoch 181/1000\n",
      "247/247 [==============================] - 4s 17ms/step - loss: 1.7183 - accuracy: 0.4886 - val_loss: 1.5538 - val_accuracy: 0.5349\n",
      "Epoch 182/1000\n",
      "247/247 [==============================] - 4s 17ms/step - loss: 1.7176 - accuracy: 0.4846 - val_loss: 1.5524 - val_accuracy: 0.5349\n",
      "Epoch 183/1000\n",
      "247/247 [==============================] - 4s 17ms/step - loss: 1.7175 - accuracy: 0.4886 - val_loss: 1.5545 - val_accuracy: 0.5417\n",
      "Epoch 184/1000\n",
      "247/247 [==============================] - 4s 17ms/step - loss: 1.7021 - accuracy: 0.4903 - val_loss: 1.5485 - val_accuracy: 0.5437\n",
      "Epoch 185/1000\n",
      "247/247 [==============================] - 4s 17ms/step - loss: 1.7060 - accuracy: 0.4898 - val_loss: 1.5515 - val_accuracy: 0.5437\n",
      "Epoch 186/1000\n",
      "247/247 [==============================] - 4s 16ms/step - loss: 1.7103 - accuracy: 0.4929 - val_loss: 1.5505 - val_accuracy: 0.5427\n",
      "Epoch 187/1000\n",
      "247/247 [==============================] - 4s 16ms/step - loss: 1.7035 - accuracy: 0.4920 - val_loss: 1.5462 - val_accuracy: 0.5458\n",
      "Epoch 188/1000\n",
      "247/247 [==============================] - 4s 16ms/step - loss: 1.7029 - accuracy: 0.4925 - val_loss: 1.5456 - val_accuracy: 0.5453\n",
      "Epoch 189/1000\n",
      "247/247 [==============================] - 4s 16ms/step - loss: 1.6933 - accuracy: 0.4911 - val_loss: 1.5449 - val_accuracy: 0.5432\n",
      "Epoch 190/1000\n",
      "247/247 [==============================] - 4s 16ms/step - loss: 1.6972 - accuracy: 0.4909 - val_loss: 1.5434 - val_accuracy: 0.5458\n",
      "Epoch 191/1000\n",
      "247/247 [==============================] - 4s 16ms/step - loss: 1.7009 - accuracy: 0.4898 - val_loss: 1.5420 - val_accuracy: 0.5437\n",
      "Epoch 192/1000\n",
      "247/247 [==============================] - 4s 16ms/step - loss: 1.6991 - accuracy: 0.4878 - val_loss: 1.5414 - val_accuracy: 0.5469\n",
      "Epoch 193/1000\n",
      "247/247 [==============================] - 4s 16ms/step - loss: 1.7069 - accuracy: 0.4908 - val_loss: 1.5401 - val_accuracy: 0.5417\n",
      "Epoch 194/1000\n",
      "247/247 [==============================] - 4s 16ms/step - loss: 1.6998 - accuracy: 0.4906 - val_loss: 1.5415 - val_accuracy: 0.5432\n",
      "Epoch 195/1000\n",
      "247/247 [==============================] - 4s 16ms/step - loss: 1.6988 - accuracy: 0.4901 - val_loss: 1.5386 - val_accuracy: 0.5453\n",
      "Epoch 196/1000\n",
      "247/247 [==============================] - 4s 17ms/step - loss: 1.6940 - accuracy: 0.4935 - val_loss: 1.5361 - val_accuracy: 0.5495\n",
      "Epoch 197/1000\n",
      "247/247 [==============================] - 4s 16ms/step - loss: 1.7036 - accuracy: 0.4888 - val_loss: 1.5357 - val_accuracy: 0.5437\n",
      "Epoch 198/1000\n",
      "247/247 [==============================] - 4s 17ms/step - loss: 1.7030 - accuracy: 0.4909 - val_loss: 1.5363 - val_accuracy: 0.5458\n",
      "Epoch 199/1000\n",
      "247/247 [==============================] - 4s 16ms/step - loss: 1.6918 - accuracy: 0.4918 - val_loss: 1.5381 - val_accuracy: 0.5422\n",
      "Epoch 200/1000\n",
      "247/247 [==============================] - 4s 16ms/step - loss: 1.6896 - accuracy: 0.4875 - val_loss: 1.5347 - val_accuracy: 0.5479\n",
      "Epoch 201/1000\n",
      "247/247 [==============================] - 4s 16ms/step - loss: 1.7000 - accuracy: 0.4899 - val_loss: 1.5335 - val_accuracy: 0.5490\n",
      "Epoch 202/1000\n",
      "247/247 [==============================] - 4s 15ms/step - loss: 1.6870 - accuracy: 0.4954 - val_loss: 1.5339 - val_accuracy: 0.5448\n",
      "Epoch 203/1000\n",
      "247/247 [==============================] - 4s 17ms/step - loss: 1.6806 - accuracy: 0.4949 - val_loss: 1.5299 - val_accuracy: 0.5474\n",
      "Epoch 204/1000\n",
      "247/247 [==============================] - 4s 16ms/step - loss: 1.6872 - accuracy: 0.4913 - val_loss: 1.5293 - val_accuracy: 0.5505\n",
      "Epoch 205/1000\n",
      "247/247 [==============================] - 4s 17ms/step - loss: 1.6935 - accuracy: 0.4906 - val_loss: 1.5287 - val_accuracy: 0.5531\n",
      "Epoch 206/1000\n",
      "247/247 [==============================] - 4s 16ms/step - loss: 1.6821 - accuracy: 0.4908 - val_loss: 1.5286 - val_accuracy: 0.5484\n",
      "Epoch 207/1000\n",
      "247/247 [==============================] - 4s 16ms/step - loss: 1.6761 - accuracy: 0.4961 - val_loss: 1.5276 - val_accuracy: 0.5521\n",
      "Epoch 208/1000\n",
      "247/247 [==============================] - 4s 16ms/step - loss: 1.6925 - accuracy: 0.4948 - val_loss: 1.5254 - val_accuracy: 0.5510\n",
      "Epoch 209/1000\n",
      "247/247 [==============================] - 4s 17ms/step - loss: 1.6695 - accuracy: 0.4972 - val_loss: 1.5241 - val_accuracy: 0.5516\n",
      "Epoch 210/1000\n",
      "247/247 [==============================] - 4s 16ms/step - loss: 1.6841 - accuracy: 0.4949 - val_loss: 1.5260 - val_accuracy: 0.5510\n",
      "Epoch 211/1000\n",
      "247/247 [==============================] - 4s 16ms/step - loss: 1.6851 - accuracy: 0.4918 - val_loss: 1.5230 - val_accuracy: 0.5505\n",
      "Epoch 212/1000\n",
      "247/247 [==============================] - 4s 16ms/step - loss: 1.6801 - accuracy: 0.4941 - val_loss: 1.5205 - val_accuracy: 0.5521\n",
      "Epoch 213/1000\n",
      "247/247 [==============================] - 4s 16ms/step - loss: 1.6856 - accuracy: 0.4938 - val_loss: 1.5218 - val_accuracy: 0.5521\n",
      "Epoch 214/1000\n",
      "247/247 [==============================] - 4s 17ms/step - loss: 1.6797 - accuracy: 0.4926 - val_loss: 1.5184 - val_accuracy: 0.5521\n",
      "Epoch 215/1000\n",
      "247/247 [==============================] - 4s 17ms/step - loss: 1.6764 - accuracy: 0.4956 - val_loss: 1.5203 - val_accuracy: 0.5531\n",
      "Epoch 216/1000\n",
      "247/247 [==============================] - 4s 16ms/step - loss: 1.6740 - accuracy: 0.4930 - val_loss: 1.5181 - val_accuracy: 0.5568\n"
     ]
    },
    {
     "name": "stdout",
     "output_type": "stream",
     "text": [
      "Epoch 217/1000\n",
      "247/247 [==============================] - 4s 17ms/step - loss: 1.6678 - accuracy: 0.5005 - val_loss: 1.5157 - val_accuracy: 0.5536\n",
      "Epoch 218/1000\n",
      "247/247 [==============================] - 4s 17ms/step - loss: 1.6791 - accuracy: 0.4951 - val_loss: 1.5142 - val_accuracy: 0.5547\n",
      "Epoch 219/1000\n",
      "247/247 [==============================] - 4s 16ms/step - loss: 1.6703 - accuracy: 0.4965 - val_loss: 1.5173 - val_accuracy: 0.5542\n",
      "Epoch 220/1000\n",
      "247/247 [==============================] - 4s 16ms/step - loss: 1.6690 - accuracy: 0.4970 - val_loss: 1.5169 - val_accuracy: 0.5531\n",
      "Epoch 221/1000\n",
      "247/247 [==============================] - 4s 17ms/step - loss: 1.6852 - accuracy: 0.4885 - val_loss: 1.5136 - val_accuracy: 0.5557\n",
      "Epoch 222/1000\n",
      "247/247 [==============================] - 4s 16ms/step - loss: 1.6681 - accuracy: 0.4943 - val_loss: 1.5146 - val_accuracy: 0.5536\n",
      "Epoch 223/1000\n",
      "247/247 [==============================] - 4s 16ms/step - loss: 1.6632 - accuracy: 0.4945 - val_loss: 1.5126 - val_accuracy: 0.5542\n",
      "Epoch 224/1000\n",
      "247/247 [==============================] - 4s 16ms/step - loss: 1.6669 - accuracy: 0.4957 - val_loss: 1.5124 - val_accuracy: 0.5568\n",
      "Epoch 225/1000\n",
      "247/247 [==============================] - 4s 16ms/step - loss: 1.6627 - accuracy: 0.4949 - val_loss: 1.5091 - val_accuracy: 0.5583\n",
      "Epoch 226/1000\n",
      "247/247 [==============================] - 4s 16ms/step - loss: 1.6690 - accuracy: 0.4982 - val_loss: 1.5113 - val_accuracy: 0.5547\n",
      "Epoch 227/1000\n",
      "247/247 [==============================] - 4s 16ms/step - loss: 1.6696 - accuracy: 0.4937 - val_loss: 1.5065 - val_accuracy: 0.5599\n",
      "Epoch 228/1000\n",
      "247/247 [==============================] - 4s 16ms/step - loss: 1.6607 - accuracy: 0.4979 - val_loss: 1.5082 - val_accuracy: 0.5557\n",
      "Epoch 229/1000\n",
      "247/247 [==============================] - 4s 17ms/step - loss: 1.6667 - accuracy: 0.4977 - val_loss: 1.5090 - val_accuracy: 0.5583\n",
      "Epoch 230/1000\n",
      "247/247 [==============================] - 4s 17ms/step - loss: 1.6513 - accuracy: 0.5014 - val_loss: 1.5047 - val_accuracy: 0.5573\n",
      "Epoch 231/1000\n",
      "247/247 [==============================] - 4s 17ms/step - loss: 1.6564 - accuracy: 0.4956 - val_loss: 1.5066 - val_accuracy: 0.5562\n",
      "Epoch 232/1000\n",
      "247/247 [==============================] - 4s 17ms/step - loss: 1.6637 - accuracy: 0.4977 - val_loss: 1.5067 - val_accuracy: 0.5557\n",
      "Epoch 233/1000\n",
      "247/247 [==============================] - 4s 16ms/step - loss: 1.6531 - accuracy: 0.4999 - val_loss: 1.5053 - val_accuracy: 0.5568\n",
      "Epoch 234/1000\n",
      "247/247 [==============================] - 4s 16ms/step - loss: 1.6505 - accuracy: 0.5029 - val_loss: 1.5048 - val_accuracy: 0.5552\n",
      "Epoch 235/1000\n",
      "247/247 [==============================] - 4s 16ms/step - loss: 1.6701 - accuracy: 0.4922 - val_loss: 1.5036 - val_accuracy: 0.5599\n",
      "Epoch 236/1000\n",
      "247/247 [==============================] - 4s 17ms/step - loss: 1.6646 - accuracy: 0.4956 - val_loss: 1.5008 - val_accuracy: 0.5609\n",
      "Epoch 237/1000\n",
      "247/247 [==============================] - 4s 17ms/step - loss: 1.6592 - accuracy: 0.4953 - val_loss: 1.5016 - val_accuracy: 0.5578\n",
      "Epoch 238/1000\n",
      "247/247 [==============================] - 4s 16ms/step - loss: 1.6564 - accuracy: 0.4984 - val_loss: 1.5008 - val_accuracy: 0.5583\n",
      "Epoch 239/1000\n",
      "247/247 [==============================] - 4s 16ms/step - loss: 1.6485 - accuracy: 0.5005 - val_loss: 1.4988 - val_accuracy: 0.5599\n",
      "Epoch 240/1000\n",
      "247/247 [==============================] - 4s 17ms/step - loss: 1.6592 - accuracy: 0.5017 - val_loss: 1.5007 - val_accuracy: 0.5620\n",
      "Epoch 241/1000\n",
      "247/247 [==============================] - 4s 17ms/step - loss: 1.6524 - accuracy: 0.4981 - val_loss: 1.4970 - val_accuracy: 0.5594\n",
      "Epoch 242/1000\n",
      "247/247 [==============================] - 4s 17ms/step - loss: 1.6631 - accuracy: 0.4976 - val_loss: 1.4976 - val_accuracy: 0.5609\n",
      "Epoch 243/1000\n",
      "247/247 [==============================] - 4s 16ms/step - loss: 1.6503 - accuracy: 0.5017 - val_loss: 1.4962 - val_accuracy: 0.5583\n",
      "Epoch 244/1000\n",
      "247/247 [==============================] - 4s 16ms/step - loss: 1.6503 - accuracy: 0.4985 - val_loss: 1.4969 - val_accuracy: 0.5589\n",
      "Epoch 245/1000\n",
      "247/247 [==============================] - 4s 16ms/step - loss: 1.6453 - accuracy: 0.5035 - val_loss: 1.4926 - val_accuracy: 0.5630\n",
      "Epoch 246/1000\n",
      "247/247 [==============================] - 4s 16ms/step - loss: 1.6540 - accuracy: 0.5045 - val_loss: 1.4904 - val_accuracy: 0.5615\n",
      "Epoch 247/1000\n",
      "247/247 [==============================] - 4s 16ms/step - loss: 1.6421 - accuracy: 0.5073 - val_loss: 1.4901 - val_accuracy: 0.5604\n",
      "Epoch 248/1000\n",
      "247/247 [==============================] - 4s 16ms/step - loss: 1.6471 - accuracy: 0.4999 - val_loss: 1.4886 - val_accuracy: 0.5599\n",
      "Epoch 249/1000\n",
      "247/247 [==============================] - 4s 16ms/step - loss: 1.6478 - accuracy: 0.4988 - val_loss: 1.4901 - val_accuracy: 0.5641\n",
      "Epoch 250/1000\n",
      "247/247 [==============================] - 4s 16ms/step - loss: 1.6488 - accuracy: 0.5042 - val_loss: 1.4913 - val_accuracy: 0.5656\n",
      "Epoch 251/1000\n",
      "247/247 [==============================] - 4s 17ms/step - loss: 1.6385 - accuracy: 0.5041 - val_loss: 1.4884 - val_accuracy: 0.5635\n",
      "Epoch 252/1000\n",
      "247/247 [==============================] - 4s 17ms/step - loss: 1.6416 - accuracy: 0.5002 - val_loss: 1.4840 - val_accuracy: 0.5630\n",
      "Epoch 253/1000\n",
      "247/247 [==============================] - 4s 16ms/step - loss: 1.6416 - accuracy: 0.5023 - val_loss: 1.4845 - val_accuracy: 0.5609\n",
      "Epoch 254/1000\n",
      "247/247 [==============================] - 4s 16ms/step - loss: 1.6508 - accuracy: 0.5037 - val_loss: 1.4848 - val_accuracy: 0.5641\n",
      "Epoch 255/1000\n",
      "247/247 [==============================] - 4s 16ms/step - loss: 1.6353 - accuracy: 0.5051 - val_loss: 1.4822 - val_accuracy: 0.5672\n",
      "Epoch 256/1000\n",
      "247/247 [==============================] - 4s 16ms/step - loss: 1.6215 - accuracy: 0.5102 - val_loss: 1.4833 - val_accuracy: 0.5620\n",
      "Epoch 257/1000\n",
      "247/247 [==============================] - 4s 15ms/step - loss: 1.6285 - accuracy: 0.5075 - val_loss: 1.4795 - val_accuracy: 0.5677\n",
      "Epoch 258/1000\n",
      "247/247 [==============================] - 4s 15ms/step - loss: 1.6270 - accuracy: 0.5051 - val_loss: 1.4797 - val_accuracy: 0.5661\n",
      "Epoch 259/1000\n",
      "247/247 [==============================] - 4s 16ms/step - loss: 1.6348 - accuracy: 0.5040 - val_loss: 1.4817 - val_accuracy: 0.5656\n",
      "Epoch 260/1000\n",
      "247/247 [==============================] - 4s 16ms/step - loss: 1.6442 - accuracy: 0.5021 - val_loss: 1.4777 - val_accuracy: 0.5688\n",
      "Epoch 261/1000\n",
      "247/247 [==============================] - 4s 16ms/step - loss: 1.6323 - accuracy: 0.5054 - val_loss: 1.4794 - val_accuracy: 0.5688\n",
      "Epoch 262/1000\n",
      "247/247 [==============================] - 4s 16ms/step - loss: 1.6277 - accuracy: 0.5078 - val_loss: 1.4786 - val_accuracy: 0.5724\n",
      "Epoch 263/1000\n",
      "247/247 [==============================] - 4s 16ms/step - loss: 1.6288 - accuracy: 0.5084 - val_loss: 1.4756 - val_accuracy: 0.5672\n",
      "Epoch 264/1000\n",
      "247/247 [==============================] - 4s 15ms/step - loss: 1.6335 - accuracy: 0.5052 - val_loss: 1.4749 - val_accuracy: 0.5750\n",
      "Epoch 265/1000\n",
      "247/247 [==============================] - 4s 15ms/step - loss: 1.6338 - accuracy: 0.5034 - val_loss: 1.4747 - val_accuracy: 0.5714\n",
      "Epoch 266/1000\n",
      "247/247 [==============================] - 4s 16ms/step - loss: 1.6311 - accuracy: 0.5068 - val_loss: 1.4730 - val_accuracy: 0.5688\n",
      "Epoch 267/1000\n",
      "247/247 [==============================] - 4s 15ms/step - loss: 1.6310 - accuracy: 0.5039 - val_loss: 1.4718 - val_accuracy: 0.5682\n",
      "Epoch 268/1000\n",
      "247/247 [==============================] - 4s 15ms/step - loss: 1.6256 - accuracy: 0.5059 - val_loss: 1.4743 - val_accuracy: 0.5698\n",
      "Epoch 269/1000\n",
      "247/247 [==============================] - 4s 16ms/step - loss: 1.6274 - accuracy: 0.5106 - val_loss: 1.4706 - val_accuracy: 0.5729\n",
      "Epoch 270/1000\n",
      "247/247 [==============================] - 4s 16ms/step - loss: 1.6293 - accuracy: 0.5077 - val_loss: 1.4700 - val_accuracy: 0.5698\n",
      "Epoch 271/1000\n",
      "247/247 [==============================] - 4s 16ms/step - loss: 1.6307 - accuracy: 0.5061 - val_loss: 1.4734 - val_accuracy: 0.5719\n",
      "Epoch 272/1000\n",
      "247/247 [==============================] - 4s 16ms/step - loss: 1.6218 - accuracy: 0.5098 - val_loss: 1.4684 - val_accuracy: 0.5714\n"
     ]
    },
    {
     "name": "stdout",
     "output_type": "stream",
     "text": [
      "Epoch 273/1000\n",
      "247/247 [==============================] - 4s 16ms/step - loss: 1.6262 - accuracy: 0.5085 - val_loss: 1.4694 - val_accuracy: 0.5724\n",
      "Epoch 274/1000\n",
      "247/247 [==============================] - 4s 16ms/step - loss: 1.6186 - accuracy: 0.5094 - val_loss: 1.4681 - val_accuracy: 0.5714\n",
      "Epoch 275/1000\n",
      "247/247 [==============================] - 4s 17ms/step - loss: 1.6187 - accuracy: 0.5072 - val_loss: 1.4681 - val_accuracy: 0.5703\n",
      "Epoch 276/1000\n",
      "247/247 [==============================] - 4s 16ms/step - loss: 1.6201 - accuracy: 0.5116 - val_loss: 1.4664 - val_accuracy: 0.5714\n",
      "Epoch 277/1000\n",
      "247/247 [==============================] - 4s 16ms/step - loss: 1.6235 - accuracy: 0.5052 - val_loss: 1.4642 - val_accuracy: 0.5724\n",
      "Epoch 278/1000\n",
      "247/247 [==============================] - 4s 16ms/step - loss: 1.6213 - accuracy: 0.5076 - val_loss: 1.4640 - val_accuracy: 0.5750\n",
      "Epoch 279/1000\n",
      "247/247 [==============================] - 4s 16ms/step - loss: 1.6315 - accuracy: 0.5083 - val_loss: 1.4642 - val_accuracy: 0.5719\n",
      "Epoch 280/1000\n",
      "247/247 [==============================] - 4s 16ms/step - loss: 1.6166 - accuracy: 0.5099 - val_loss: 1.4637 - val_accuracy: 0.5729\n",
      "Epoch 281/1000\n",
      "247/247 [==============================] - 4s 15ms/step - loss: 1.6193 - accuracy: 0.5079 - val_loss: 1.4616 - val_accuracy: 0.5734\n",
      "Epoch 282/1000\n",
      "247/247 [==============================] - 4s 17ms/step - loss: 1.6096 - accuracy: 0.5186 - val_loss: 1.4623 - val_accuracy: 0.5729\n",
      "Epoch 283/1000\n",
      "247/247 [==============================] - 4s 17ms/step - loss: 1.6156 - accuracy: 0.5120 - val_loss: 1.4604 - val_accuracy: 0.5745\n",
      "Epoch 284/1000\n",
      "247/247 [==============================] - 4s 16ms/step - loss: 1.6122 - accuracy: 0.5101 - val_loss: 1.4608 - val_accuracy: 0.5724\n",
      "Epoch 285/1000\n",
      "247/247 [==============================] - 4s 17ms/step - loss: 1.6102 - accuracy: 0.5093 - val_loss: 1.4596 - val_accuracy: 0.5740\n",
      "Epoch 286/1000\n",
      "247/247 [==============================] - 4s 16ms/step - loss: 1.6187 - accuracy: 0.5087 - val_loss: 1.4591 - val_accuracy: 0.5760\n",
      "Epoch 287/1000\n",
      "247/247 [==============================] - 4s 16ms/step - loss: 1.6109 - accuracy: 0.5116 - val_loss: 1.4576 - val_accuracy: 0.5755\n",
      "Epoch 288/1000\n",
      "247/247 [==============================] - 4s 17ms/step - loss: 1.6076 - accuracy: 0.5150 - val_loss: 1.4577 - val_accuracy: 0.5755\n",
      "Epoch 289/1000\n",
      "247/247 [==============================] - 4s 16ms/step - loss: 1.6050 - accuracy: 0.5127 - val_loss: 1.4592 - val_accuracy: 0.5797\n",
      "Epoch 290/1000\n",
      "247/247 [==============================] - 4s 16ms/step - loss: 1.6058 - accuracy: 0.5123 - val_loss: 1.4572 - val_accuracy: 0.5786\n",
      "Epoch 291/1000\n",
      "247/247 [==============================] - 4s 16ms/step - loss: 1.6183 - accuracy: 0.5102 - val_loss: 1.4555 - val_accuracy: 0.5771\n",
      "Epoch 292/1000\n",
      "247/247 [==============================] - 4s 16ms/step - loss: 1.6076 - accuracy: 0.5128 - val_loss: 1.4563 - val_accuracy: 0.5760\n",
      "Epoch 293/1000\n",
      "247/247 [==============================] - 4s 16ms/step - loss: 1.6078 - accuracy: 0.5131 - val_loss: 1.4554 - val_accuracy: 0.5776\n",
      "Epoch 294/1000\n",
      "247/247 [==============================] - 4s 16ms/step - loss: 1.6079 - accuracy: 0.5120 - val_loss: 1.4541 - val_accuracy: 0.5776\n",
      "Epoch 295/1000\n",
      "247/247 [==============================] - 4s 16ms/step - loss: 1.6050 - accuracy: 0.5110 - val_loss: 1.4549 - val_accuracy: 0.5745\n",
      "Epoch 296/1000\n",
      "247/247 [==============================] - 4s 16ms/step - loss: 1.6008 - accuracy: 0.5159 - val_loss: 1.4527 - val_accuracy: 0.5776\n",
      "Epoch 297/1000\n",
      "247/247 [==============================] - 4s 16ms/step - loss: 1.6117 - accuracy: 0.5070 - val_loss: 1.4532 - val_accuracy: 0.5771\n",
      "Epoch 298/1000\n",
      "247/247 [==============================] - 4s 15ms/step - loss: 1.6121 - accuracy: 0.5088 - val_loss: 1.4516 - val_accuracy: 0.5813\n",
      "Epoch 299/1000\n",
      "247/247 [==============================] - 4s 15ms/step - loss: 1.5998 - accuracy: 0.5105 - val_loss: 1.4501 - val_accuracy: 0.5766\n",
      "Epoch 300/1000\n",
      "247/247 [==============================] - 4s 16ms/step - loss: 1.6070 - accuracy: 0.5162 - val_loss: 1.4512 - val_accuracy: 0.5776\n",
      "Epoch 301/1000\n",
      "247/247 [==============================] - 4s 16ms/step - loss: 1.6037 - accuracy: 0.5104 - val_loss: 1.4513 - val_accuracy: 0.5781\n",
      "Epoch 302/1000\n",
      "247/247 [==============================] - 4s 17ms/step - loss: 1.6003 - accuracy: 0.5099 - val_loss: 1.4500 - val_accuracy: 0.5792\n",
      "Epoch 303/1000\n",
      "247/247 [==============================] - 4s 17ms/step - loss: 1.5954 - accuracy: 0.5179 - val_loss: 1.4488 - val_accuracy: 0.5776\n",
      "Epoch 304/1000\n",
      "247/247 [==============================] - 4s 17ms/step - loss: 1.5997 - accuracy: 0.5152 - val_loss: 1.4474 - val_accuracy: 0.5818\n",
      "Epoch 305/1000\n",
      "247/247 [==============================] - 4s 16ms/step - loss: 1.5988 - accuracy: 0.5123 - val_loss: 1.4469 - val_accuracy: 0.5802\n",
      "Epoch 306/1000\n",
      "247/247 [==============================] - 4s 16ms/step - loss: 1.6069 - accuracy: 0.5108 - val_loss: 1.4489 - val_accuracy: 0.5844\n",
      "Epoch 307/1000\n",
      "247/247 [==============================] - 4s 16ms/step - loss: 1.5981 - accuracy: 0.5155 - val_loss: 1.4473 - val_accuracy: 0.5807\n",
      "Epoch 308/1000\n",
      "247/247 [==============================] - 4s 16ms/step - loss: 1.6007 - accuracy: 0.5125 - val_loss: 1.4453 - val_accuracy: 0.5839\n",
      "Epoch 309/1000\n",
      "247/247 [==============================] - 4s 16ms/step - loss: 1.5955 - accuracy: 0.5125 - val_loss: 1.4456 - val_accuracy: 0.5797\n",
      "Epoch 310/1000\n",
      "247/247 [==============================] - 4s 16ms/step - loss: 1.5946 - accuracy: 0.5155 - val_loss: 1.4438 - val_accuracy: 0.5807\n",
      "Epoch 311/1000\n",
      "247/247 [==============================] - 4s 15ms/step - loss: 1.5955 - accuracy: 0.5114 - val_loss: 1.4431 - val_accuracy: 0.5813\n",
      "Epoch 312/1000\n",
      "247/247 [==============================] - 4s 16ms/step - loss: 1.5979 - accuracy: 0.5158 - val_loss: 1.4449 - val_accuracy: 0.5828\n",
      "Epoch 313/1000\n",
      "247/247 [==============================] - 4s 16ms/step - loss: 1.5823 - accuracy: 0.5182 - val_loss: 1.4420 - val_accuracy: 0.5786\n",
      "Epoch 314/1000\n",
      "247/247 [==============================] - 4s 16ms/step - loss: 1.5989 - accuracy: 0.5151 - val_loss: 1.4421 - val_accuracy: 0.5807\n",
      "Epoch 315/1000\n",
      "247/247 [==============================] - 4s 16ms/step - loss: 1.5931 - accuracy: 0.5164 - val_loss: 1.4435 - val_accuracy: 0.5802\n",
      "Epoch 316/1000\n",
      "247/247 [==============================] - 4s 16ms/step - loss: 1.5905 - accuracy: 0.5152 - val_loss: 1.4413 - val_accuracy: 0.5813\n",
      "Epoch 317/1000\n",
      "247/247 [==============================] - 4s 16ms/step - loss: 1.5903 - accuracy: 0.5175 - val_loss: 1.4418 - val_accuracy: 0.5807\n",
      "Epoch 318/1000\n",
      "247/247 [==============================] - 4s 16ms/step - loss: 1.6042 - accuracy: 0.5120 - val_loss: 1.4424 - val_accuracy: 0.5813\n",
      "Epoch 319/1000\n",
      "247/247 [==============================] - 4s 15ms/step - loss: 1.5914 - accuracy: 0.5172 - val_loss: 1.4400 - val_accuracy: 0.5823\n",
      "Epoch 320/1000\n",
      "247/247 [==============================] - 4s 16ms/step - loss: 1.5935 - accuracy: 0.5108 - val_loss: 1.4397 - val_accuracy: 0.5818\n",
      "Epoch 321/1000\n",
      "247/247 [==============================] - 4s 16ms/step - loss: 1.5904 - accuracy: 0.5137 - val_loss: 1.4408 - val_accuracy: 0.5823\n",
      "Epoch 322/1000\n",
      "247/247 [==============================] - 4s 16ms/step - loss: 1.5955 - accuracy: 0.5146 - val_loss: 1.4384 - val_accuracy: 0.5844\n",
      "Epoch 323/1000\n",
      "247/247 [==============================] - 4s 16ms/step - loss: 1.5895 - accuracy: 0.5167 - val_loss: 1.4382 - val_accuracy: 0.5818\n",
      "Epoch 324/1000\n",
      "247/247 [==============================] - 4s 16ms/step - loss: 1.5901 - accuracy: 0.5170 - val_loss: 1.4374 - val_accuracy: 0.5833\n",
      "Epoch 325/1000\n",
      "247/247 [==============================] - 4s 16ms/step - loss: 1.5914 - accuracy: 0.5156 - val_loss: 1.4377 - val_accuracy: 0.5859\n",
      "Epoch 326/1000\n",
      "247/247 [==============================] - 4s 15ms/step - loss: 1.5941 - accuracy: 0.5162 - val_loss: 1.4352 - val_accuracy: 0.5859\n",
      "Epoch 327/1000\n",
      "247/247 [==============================] - 4s 15ms/step - loss: 1.5944 - accuracy: 0.5135 - val_loss: 1.4379 - val_accuracy: 0.5823\n",
      "Epoch 328/1000\n",
      "247/247 [==============================] - 4s 15ms/step - loss: 1.5782 - accuracy: 0.5194 - val_loss: 1.4364 - val_accuracy: 0.5823\n"
     ]
    },
    {
     "name": "stdout",
     "output_type": "stream",
     "text": [
      "Epoch 329/1000\n",
      "247/247 [==============================] - 4s 15ms/step - loss: 1.5914 - accuracy: 0.5141 - val_loss: 1.4351 - val_accuracy: 0.5870\n",
      "Epoch 330/1000\n",
      "247/247 [==============================] - 4s 16ms/step - loss: 1.5967 - accuracy: 0.5098 - val_loss: 1.4362 - val_accuracy: 0.5828\n",
      "Epoch 331/1000\n",
      "247/247 [==============================] - 4s 16ms/step - loss: 1.5825 - accuracy: 0.5179 - val_loss: 1.4333 - val_accuracy: 0.5849\n",
      "Epoch 332/1000\n",
      "247/247 [==============================] - 4s 16ms/step - loss: 1.5816 - accuracy: 0.5169 - val_loss: 1.4340 - val_accuracy: 0.5875\n",
      "Epoch 333/1000\n",
      "247/247 [==============================] - 4s 16ms/step - loss: 1.5829 - accuracy: 0.5182 - val_loss: 1.4327 - val_accuracy: 0.5854\n",
      "Epoch 334/1000\n",
      "247/247 [==============================] - 4s 17ms/step - loss: 1.5872 - accuracy: 0.5152 - val_loss: 1.4320 - val_accuracy: 0.5885\n",
      "Epoch 335/1000\n",
      "247/247 [==============================] - 4s 16ms/step - loss: 1.5883 - accuracy: 0.5174 - val_loss: 1.4327 - val_accuracy: 0.5859\n",
      "Epoch 336/1000\n",
      "247/247 [==============================] - 4s 16ms/step - loss: 1.5830 - accuracy: 0.5208 - val_loss: 1.4328 - val_accuracy: 0.5839\n",
      "Epoch 337/1000\n",
      "247/247 [==============================] - 4s 16ms/step - loss: 1.5824 - accuracy: 0.5196 - val_loss: 1.4313 - val_accuracy: 0.5844\n",
      "Epoch 338/1000\n",
      "247/247 [==============================] - 4s 17ms/step - loss: 1.5786 - accuracy: 0.5195 - val_loss: 1.4320 - val_accuracy: 0.5854\n",
      "Epoch 339/1000\n",
      "247/247 [==============================] - 4s 16ms/step - loss: 1.5871 - accuracy: 0.5173 - val_loss: 1.4300 - val_accuracy: 0.5849\n",
      "Epoch 340/1000\n",
      "247/247 [==============================] - 4s 16ms/step - loss: 1.5935 - accuracy: 0.5176 - val_loss: 1.4307 - val_accuracy: 0.5828\n",
      "Epoch 341/1000\n",
      "247/247 [==============================] - 4s 16ms/step - loss: 1.5827 - accuracy: 0.5189 - val_loss: 1.4288 - val_accuracy: 0.5849\n",
      "Epoch 342/1000\n",
      "247/247 [==============================] - 4s 16ms/step - loss: 1.5733 - accuracy: 0.5225 - val_loss: 1.4284 - val_accuracy: 0.5849\n",
      "Epoch 343/1000\n",
      "247/247 [==============================] - 4s 17ms/step - loss: 1.5862 - accuracy: 0.5118 - val_loss: 1.4272 - val_accuracy: 0.5870\n",
      "Epoch 344/1000\n",
      "247/247 [==============================] - 4s 16ms/step - loss: 1.5805 - accuracy: 0.5202 - val_loss: 1.4280 - val_accuracy: 0.5891\n",
      "Epoch 345/1000\n",
      "247/247 [==============================] - 4s 16ms/step - loss: 1.5734 - accuracy: 0.5240 - val_loss: 1.4272 - val_accuracy: 0.5865\n",
      "Epoch 346/1000\n",
      "247/247 [==============================] - 4s 16ms/step - loss: 1.5673 - accuracy: 0.5243 - val_loss: 1.4268 - val_accuracy: 0.5859\n",
      "Epoch 347/1000\n",
      "247/247 [==============================] - 4s 16ms/step - loss: 1.5870 - accuracy: 0.5151 - val_loss: 1.4275 - val_accuracy: 0.5880\n",
      "Epoch 348/1000\n",
      "247/247 [==============================] - 4s 17ms/step - loss: 1.5795 - accuracy: 0.5199 - val_loss: 1.4264 - val_accuracy: 0.5854\n",
      "Epoch 349/1000\n",
      "247/247 [==============================] - 4s 16ms/step - loss: 1.5758 - accuracy: 0.5201 - val_loss: 1.4250 - val_accuracy: 0.5865\n",
      "Epoch 350/1000\n",
      "247/247 [==============================] - 4s 15ms/step - loss: 1.5813 - accuracy: 0.5156 - val_loss: 1.4251 - val_accuracy: 0.5880\n",
      "Epoch 351/1000\n",
      "247/247 [==============================] - 4s 16ms/step - loss: 1.5715 - accuracy: 0.5215 - val_loss: 1.4257 - val_accuracy: 0.5859\n",
      "Epoch 352/1000\n",
      "247/247 [==============================] - 4s 16ms/step - loss: 1.5704 - accuracy: 0.5263 - val_loss: 1.4231 - val_accuracy: 0.5896\n",
      "Epoch 353/1000\n",
      "247/247 [==============================] - 4s 16ms/step - loss: 1.5727 - accuracy: 0.5214 - val_loss: 1.4243 - val_accuracy: 0.5875\n",
      "Epoch 354/1000\n",
      "247/247 [==============================] - 4s 16ms/step - loss: 1.5720 - accuracy: 0.5252 - val_loss: 1.4213 - val_accuracy: 0.5885\n",
      "Epoch 355/1000\n",
      "247/247 [==============================] - 4s 16ms/step - loss: 1.5702 - accuracy: 0.5195 - val_loss: 1.4228 - val_accuracy: 0.5880\n",
      "Epoch 356/1000\n",
      "247/247 [==============================] - 4s 16ms/step - loss: 1.5605 - accuracy: 0.5265 - val_loss: 1.4208 - val_accuracy: 0.5906\n",
      "Epoch 357/1000\n",
      "247/247 [==============================] - 4s 16ms/step - loss: 1.5708 - accuracy: 0.5254 - val_loss: 1.4219 - val_accuracy: 0.5891\n",
      "Epoch 358/1000\n",
      "247/247 [==============================] - 4s 16ms/step - loss: 1.5758 - accuracy: 0.5215 - val_loss: 1.4224 - val_accuracy: 0.5906\n",
      "Epoch 359/1000\n",
      "247/247 [==============================] - 4s 16ms/step - loss: 1.5630 - accuracy: 0.5237 - val_loss: 1.4214 - val_accuracy: 0.5870\n",
      "Epoch 360/1000\n",
      "247/247 [==============================] - 4s 16ms/step - loss: 1.5746 - accuracy: 0.5194 - val_loss: 1.4198 - val_accuracy: 0.5865\n",
      "Epoch 361/1000\n",
      "247/247 [==============================] - 4s 16ms/step - loss: 1.5725 - accuracy: 0.5211 - val_loss: 1.4191 - val_accuracy: 0.5911\n",
      "Epoch 362/1000\n",
      "247/247 [==============================] - 4s 16ms/step - loss: 1.5644 - accuracy: 0.5246 - val_loss: 1.4203 - val_accuracy: 0.5901\n",
      "Epoch 363/1000\n",
      "247/247 [==============================] - 4s 16ms/step - loss: 1.5656 - accuracy: 0.5251 - val_loss: 1.4181 - val_accuracy: 0.5917\n",
      "Epoch 364/1000\n",
      "247/247 [==============================] - 4s 16ms/step - loss: 1.5623 - accuracy: 0.5249 - val_loss: 1.4188 - val_accuracy: 0.5885\n",
      "Epoch 365/1000\n",
      "247/247 [==============================] - 4s 16ms/step - loss: 1.5757 - accuracy: 0.5218 - val_loss: 1.4190 - val_accuracy: 0.5906\n",
      "Epoch 366/1000\n",
      "247/247 [==============================] - 4s 15ms/step - loss: 1.5713 - accuracy: 0.5209 - val_loss: 1.4198 - val_accuracy: 0.5880\n",
      "Epoch 367/1000\n",
      "247/247 [==============================] - 4s 16ms/step - loss: 1.5734 - accuracy: 0.5247 - val_loss: 1.4176 - val_accuracy: 0.5911\n",
      "Epoch 368/1000\n",
      "247/247 [==============================] - 4s 16ms/step - loss: 1.5663 - accuracy: 0.5209 - val_loss: 1.4183 - val_accuracy: 0.5906\n",
      "Epoch 369/1000\n",
      "247/247 [==============================] - 4s 17ms/step - loss: 1.5596 - accuracy: 0.5259 - val_loss: 1.4177 - val_accuracy: 0.5917\n",
      "Epoch 370/1000\n",
      "247/247 [==============================] - 4s 16ms/step - loss: 1.5644 - accuracy: 0.5234 - val_loss: 1.4183 - val_accuracy: 0.5885\n",
      "Epoch 371/1000\n",
      "247/247 [==============================] - 4s 17ms/step - loss: 1.5756 - accuracy: 0.5239 - val_loss: 1.4166 - val_accuracy: 0.5885\n",
      "Epoch 372/1000\n",
      "247/247 [==============================] - 4s 17ms/step - loss: 1.5604 - accuracy: 0.5270 - val_loss: 1.4161 - val_accuracy: 0.5906\n",
      "Epoch 373/1000\n",
      "247/247 [==============================] - 4s 16ms/step - loss: 1.5692 - accuracy: 0.5245 - val_loss: 1.4161 - val_accuracy: 0.5891\n",
      "Epoch 374/1000\n",
      "247/247 [==============================] - 4s 16ms/step - loss: 1.5605 - accuracy: 0.5245 - val_loss: 1.4150 - val_accuracy: 0.5906\n",
      "Epoch 375/1000\n",
      "247/247 [==============================] - 4s 16ms/step - loss: 1.5572 - accuracy: 0.5249 - val_loss: 1.4151 - val_accuracy: 0.5922\n",
      "Epoch 376/1000\n",
      "247/247 [==============================] - 4s 16ms/step - loss: 1.5596 - accuracy: 0.5256 - val_loss: 1.4143 - val_accuracy: 0.5849\n",
      "Epoch 377/1000\n",
      "247/247 [==============================] - 4s 16ms/step - loss: 1.5696 - accuracy: 0.5262 - val_loss: 1.4151 - val_accuracy: 0.5891\n",
      "Epoch 378/1000\n",
      "247/247 [==============================] - 4s 16ms/step - loss: 1.5612 - accuracy: 0.5225 - val_loss: 1.4128 - val_accuracy: 0.5891\n",
      "Epoch 379/1000\n",
      "247/247 [==============================] - 4s 16ms/step - loss: 1.5574 - accuracy: 0.5325 - val_loss: 1.4141 - val_accuracy: 0.5849\n",
      "Epoch 380/1000\n",
      "247/247 [==============================] - 4s 16ms/step - loss: 1.5557 - accuracy: 0.5254 - val_loss: 1.4138 - val_accuracy: 0.5885\n",
      "Epoch 381/1000\n",
      "247/247 [==============================] - 4s 16ms/step - loss: 1.5606 - accuracy: 0.5244 - val_loss: 1.4109 - val_accuracy: 0.5885\n",
      "Epoch 382/1000\n",
      "247/247 [==============================] - 4s 16ms/step - loss: 1.5526 - accuracy: 0.5273 - val_loss: 1.4122 - val_accuracy: 0.5875\n",
      "Epoch 383/1000\n",
      "247/247 [==============================] - 4s 15ms/step - loss: 1.5529 - accuracy: 0.5307 - val_loss: 1.4119 - val_accuracy: 0.5917\n",
      "Epoch 384/1000\n",
      "247/247 [==============================] - 4s 15ms/step - loss: 1.5575 - accuracy: 0.5245 - val_loss: 1.4126 - val_accuracy: 0.5906\n"
     ]
    },
    {
     "name": "stdout",
     "output_type": "stream",
     "text": [
      "Epoch 385/1000\n",
      "247/247 [==============================] - 4s 15ms/step - loss: 1.5540 - accuracy: 0.5280 - val_loss: 1.4122 - val_accuracy: 0.5906\n",
      "Epoch 386/1000\n",
      "247/247 [==============================] - 4s 16ms/step - loss: 1.5592 - accuracy: 0.5236 - val_loss: 1.4117 - val_accuracy: 0.5901\n",
      "Epoch 387/1000\n",
      "247/247 [==============================] - 4s 16ms/step - loss: 1.5626 - accuracy: 0.5233 - val_loss: 1.4126 - val_accuracy: 0.5896\n",
      "Epoch 388/1000\n",
      "247/247 [==============================] - 4s 16ms/step - loss: 1.5579 - accuracy: 0.5260 - val_loss: 1.4109 - val_accuracy: 0.5901\n",
      "Epoch 389/1000\n",
      "247/247 [==============================] - 4s 17ms/step - loss: 1.5544 - accuracy: 0.5243 - val_loss: 1.4097 - val_accuracy: 0.5932\n",
      "Epoch 390/1000\n",
      "247/247 [==============================] - 4s 17ms/step - loss: 1.5566 - accuracy: 0.5252 - val_loss: 1.4089 - val_accuracy: 0.5906\n",
      "Epoch 391/1000\n",
      "247/247 [==============================] - 4s 16ms/step - loss: 1.5501 - accuracy: 0.5262 - val_loss: 1.4085 - val_accuracy: 0.5901\n",
      "Epoch 392/1000\n",
      "247/247 [==============================] - 4s 16ms/step - loss: 1.5655 - accuracy: 0.5238 - val_loss: 1.4082 - val_accuracy: 0.5901\n",
      "Epoch 393/1000\n",
      "247/247 [==============================] - 4s 16ms/step - loss: 1.5603 - accuracy: 0.5276 - val_loss: 1.4093 - val_accuracy: 0.5922\n",
      "Epoch 394/1000\n",
      "247/247 [==============================] - 4s 16ms/step - loss: 1.5514 - accuracy: 0.5268 - val_loss: 1.4094 - val_accuracy: 0.5906\n",
      "Epoch 395/1000\n",
      "247/247 [==============================] - 4s 15ms/step - loss: 1.5595 - accuracy: 0.5226 - val_loss: 1.4077 - val_accuracy: 0.5917\n",
      "Epoch 396/1000\n",
      "247/247 [==============================] - 4s 16ms/step - loss: 1.5599 - accuracy: 0.5251 - val_loss: 1.4074 - val_accuracy: 0.5906\n",
      "Epoch 397/1000\n",
      "247/247 [==============================] - 4s 16ms/step - loss: 1.5440 - accuracy: 0.5295 - val_loss: 1.4076 - val_accuracy: 0.5891\n",
      "Epoch 398/1000\n",
      "247/247 [==============================] - 4s 16ms/step - loss: 1.5398 - accuracy: 0.5300 - val_loss: 1.4071 - val_accuracy: 0.5885\n",
      "Epoch 399/1000\n",
      "247/247 [==============================] - 4s 15ms/step - loss: 1.5526 - accuracy: 0.5276 - val_loss: 1.4063 - val_accuracy: 0.5896\n",
      "Epoch 400/1000\n",
      "247/247 [==============================] - 4s 16ms/step - loss: 1.5517 - accuracy: 0.5280 - val_loss: 1.4078 - val_accuracy: 0.5917\n",
      "Epoch 401/1000\n",
      "247/247 [==============================] - 4s 15ms/step - loss: 1.5502 - accuracy: 0.5251 - val_loss: 1.4059 - val_accuracy: 0.5906\n",
      "Epoch 402/1000\n",
      "247/247 [==============================] - 4s 16ms/step - loss: 1.5551 - accuracy: 0.5256 - val_loss: 1.4069 - val_accuracy: 0.5911\n",
      "Epoch 403/1000\n",
      "247/247 [==============================] - 4s 16ms/step - loss: 1.5499 - accuracy: 0.5264 - val_loss: 1.4056 - val_accuracy: 0.5906\n",
      "Epoch 404/1000\n",
      "247/247 [==============================] - 4s 16ms/step - loss: 1.5489 - accuracy: 0.5306 - val_loss: 1.4056 - val_accuracy: 0.5911\n",
      "Epoch 405/1000\n",
      "247/247 [==============================] - 4s 16ms/step - loss: 1.5595 - accuracy: 0.5226 - val_loss: 1.4066 - val_accuracy: 0.5922\n",
      "Epoch 406/1000\n",
      "247/247 [==============================] - 4s 16ms/step - loss: 1.5532 - accuracy: 0.5247 - val_loss: 1.4061 - val_accuracy: 0.5917\n",
      "Epoch 407/1000\n",
      "247/247 [==============================] - 4s 16ms/step - loss: 1.5415 - accuracy: 0.5288 - val_loss: 1.4032 - val_accuracy: 0.5932\n",
      "Epoch 408/1000\n",
      "247/247 [==============================] - 4s 16ms/step - loss: 1.5495 - accuracy: 0.5286 - val_loss: 1.4036 - val_accuracy: 0.5922\n",
      "Epoch 409/1000\n",
      "247/247 [==============================] - 4s 16ms/step - loss: 1.5504 - accuracy: 0.5287 - val_loss: 1.4047 - val_accuracy: 0.5906\n",
      "Epoch 410/1000\n",
      "247/247 [==============================] - 4s 17ms/step - loss: 1.5455 - accuracy: 0.5292 - val_loss: 1.4044 - val_accuracy: 0.5911\n",
      "Epoch 411/1000\n",
      "247/247 [==============================] - 4s 16ms/step - loss: 1.5462 - accuracy: 0.5284 - val_loss: 1.4025 - val_accuracy: 0.5911\n",
      "Epoch 412/1000\n",
      "247/247 [==============================] - 4s 16ms/step - loss: 1.5511 - accuracy: 0.5276 - val_loss: 1.4015 - val_accuracy: 0.5906\n",
      "Epoch 413/1000\n",
      "247/247 [==============================] - 4s 16ms/step - loss: 1.5585 - accuracy: 0.5257 - val_loss: 1.4024 - val_accuracy: 0.5922\n",
      "Epoch 414/1000\n",
      "247/247 [==============================] - 4s 16ms/step - loss: 1.5566 - accuracy: 0.5255 - val_loss: 1.4032 - val_accuracy: 0.5922\n",
      "Epoch 415/1000\n",
      "247/247 [==============================] - 4s 16ms/step - loss: 1.5461 - accuracy: 0.5321 - val_loss: 1.4018 - val_accuracy: 0.5927\n",
      "Epoch 416/1000\n",
      "247/247 [==============================] - 4s 16ms/step - loss: 1.5501 - accuracy: 0.5268 - val_loss: 1.4017 - val_accuracy: 0.5927\n",
      "Epoch 417/1000\n",
      "247/247 [==============================] - 4s 16ms/step - loss: 1.5472 - accuracy: 0.5271 - val_loss: 1.4016 - val_accuracy: 0.5917\n",
      "Epoch 418/1000\n",
      "247/247 [==============================] - 4s 16ms/step - loss: 1.5419 - accuracy: 0.5334 - val_loss: 1.4004 - val_accuracy: 0.5917\n",
      "Epoch 419/1000\n",
      "247/247 [==============================] - 4s 16ms/step - loss: 1.5466 - accuracy: 0.5254 - val_loss: 1.4001 - val_accuracy: 0.5922\n",
      "Epoch 420/1000\n",
      "247/247 [==============================] - 4s 16ms/step - loss: 1.5420 - accuracy: 0.5306 - val_loss: 1.4005 - val_accuracy: 0.5932\n",
      "Epoch 421/1000\n",
      "247/247 [==============================] - 4s 16ms/step - loss: 1.5473 - accuracy: 0.5285 - val_loss: 1.4011 - val_accuracy: 0.5938\n",
      "Epoch 422/1000\n",
      "247/247 [==============================] - 4s 16ms/step - loss: 1.5391 - accuracy: 0.5319 - val_loss: 1.3993 - val_accuracy: 0.5911\n",
      "Epoch 423/1000\n",
      "247/247 [==============================] - 4s 16ms/step - loss: 1.5463 - accuracy: 0.5268 - val_loss: 1.3992 - val_accuracy: 0.5932\n",
      "Epoch 424/1000\n",
      "247/247 [==============================] - 4s 16ms/step - loss: 1.5453 - accuracy: 0.5260 - val_loss: 1.3998 - val_accuracy: 0.5922\n",
      "Epoch 425/1000\n",
      "247/247 [==============================] - 4s 16ms/step - loss: 1.5417 - accuracy: 0.5296 - val_loss: 1.3985 - val_accuracy: 0.5938\n",
      "Epoch 426/1000\n",
      "247/247 [==============================] - 4s 16ms/step - loss: 1.5505 - accuracy: 0.5268 - val_loss: 1.3991 - val_accuracy: 0.5906\n",
      "Epoch 427/1000\n",
      "247/247 [==============================] - 4s 17ms/step - loss: 1.5416 - accuracy: 0.5316 - val_loss: 1.3986 - val_accuracy: 0.5922\n",
      "Epoch 428/1000\n",
      "247/247 [==============================] - 4s 17ms/step - loss: 1.5459 - accuracy: 0.5295 - val_loss: 1.3982 - val_accuracy: 0.5932\n",
      "Epoch 429/1000\n",
      "247/247 [==============================] - 4s 17ms/step - loss: 1.5431 - accuracy: 0.5294 - val_loss: 1.3979 - val_accuracy: 0.5932\n",
      "Epoch 430/1000\n",
      "247/247 [==============================] - 4s 16ms/step - loss: 1.5463 - accuracy: 0.5286 - val_loss: 1.3977 - val_accuracy: 0.5932\n",
      "Epoch 431/1000\n",
      "247/247 [==============================] - 4s 17ms/step - loss: 1.5450 - accuracy: 0.5276 - val_loss: 1.3980 - val_accuracy: 0.5917\n",
      "Epoch 432/1000\n",
      "247/247 [==============================] - 4s 16ms/step - loss: 1.5386 - accuracy: 0.5313 - val_loss: 1.3968 - val_accuracy: 0.5932\n",
      "Epoch 433/1000\n",
      "247/247 [==============================] - 4s 16ms/step - loss: 1.5449 - accuracy: 0.5270 - val_loss: 1.3976 - val_accuracy: 0.5943\n",
      "Epoch 434/1000\n",
      "247/247 [==============================] - 4s 16ms/step - loss: 1.5364 - accuracy: 0.5316 - val_loss: 1.3962 - val_accuracy: 0.5938\n",
      "Epoch 435/1000\n",
      "247/247 [==============================] - 4s 16ms/step - loss: 1.5442 - accuracy: 0.5312 - val_loss: 1.3970 - val_accuracy: 0.5932\n",
      "Epoch 436/1000\n",
      "247/247 [==============================] - 4s 16ms/step - loss: 1.5412 - accuracy: 0.5309 - val_loss: 1.3963 - val_accuracy: 0.5927\n",
      "Epoch 437/1000\n",
      "247/247 [==============================] - 4s 18ms/step - loss: 1.5451 - accuracy: 0.5264 - val_loss: 1.3952 - val_accuracy: 0.5911\n",
      "Epoch 438/1000\n",
      "247/247 [==============================] - 5s 18ms/step - loss: 1.5334 - accuracy: 0.5327 - val_loss: 1.3961 - val_accuracy: 0.5922\n",
      "Epoch 439/1000\n",
      "247/247 [==============================] - 4s 16ms/step - loss: 1.5360 - accuracy: 0.5269 - val_loss: 1.3952 - val_accuracy: 0.5932\n",
      "Epoch 440/1000\n",
      "247/247 [==============================] - 4s 16ms/step - loss: 1.5426 - accuracy: 0.5261 - val_loss: 1.3954 - val_accuracy: 0.5922\n"
     ]
    },
    {
     "name": "stdout",
     "output_type": "stream",
     "text": [
      "Epoch 441/1000\n",
      "247/247 [==============================] - 4s 16ms/step - loss: 1.5465 - accuracy: 0.5300 - val_loss: 1.3957 - val_accuracy: 0.5911\n",
      "Epoch 442/1000\n",
      "247/247 [==============================] - 4s 16ms/step - loss: 1.5395 - accuracy: 0.5251 - val_loss: 1.3953 - val_accuracy: 0.5932\n",
      "Epoch 443/1000\n",
      "247/247 [==============================] - 4s 16ms/step - loss: 1.5274 - accuracy: 0.5325 - val_loss: 1.3939 - val_accuracy: 0.5943\n",
      "Epoch 444/1000\n",
      "247/247 [==============================] - 4s 17ms/step - loss: 1.5415 - accuracy: 0.5269 - val_loss: 1.3954 - val_accuracy: 0.5932\n",
      "Epoch 445/1000\n",
      "247/247 [==============================] - 4s 16ms/step - loss: 1.5374 - accuracy: 0.5297 - val_loss: 1.3944 - val_accuracy: 0.5917\n",
      "Epoch 446/1000\n",
      "247/247 [==============================] - 4s 16ms/step - loss: 1.5289 - accuracy: 0.5333 - val_loss: 1.3944 - val_accuracy: 0.5922\n",
      "Epoch 447/1000\n",
      "247/247 [==============================] - 4s 17ms/step - loss: 1.5361 - accuracy: 0.5275 - val_loss: 1.3930 - val_accuracy: 0.5922\n",
      "Epoch 448/1000\n",
      "247/247 [==============================] - 4s 15ms/step - loss: 1.5399 - accuracy: 0.5308 - val_loss: 1.3937 - val_accuracy: 0.5932\n",
      "Epoch 449/1000\n",
      "247/247 [==============================] - 4s 15ms/step - loss: 1.5323 - accuracy: 0.5332 - val_loss: 1.3932 - val_accuracy: 0.5917\n",
      "Epoch 450/1000\n",
      "247/247 [==============================] - 4s 15ms/step - loss: 1.5509 - accuracy: 0.5264 - val_loss: 1.3925 - val_accuracy: 0.5938\n",
      "Epoch 451/1000\n",
      "247/247 [==============================] - 4s 15ms/step - loss: 1.5322 - accuracy: 0.5328 - val_loss: 1.3925 - val_accuracy: 0.5906\n",
      "Epoch 452/1000\n",
      "247/247 [==============================] - 4s 15ms/step - loss: 1.5380 - accuracy: 0.5285 - val_loss: 1.3923 - val_accuracy: 0.5922\n",
      "Epoch 453/1000\n",
      "247/247 [==============================] - 4s 16ms/step - loss: 1.5316 - accuracy: 0.5348 - val_loss: 1.3925 - val_accuracy: 0.5917\n",
      "Epoch 454/1000\n",
      "247/247 [==============================] - 4s 16ms/step - loss: 1.5283 - accuracy: 0.5342 - val_loss: 1.3940 - val_accuracy: 0.5922\n",
      "Epoch 455/1000\n",
      "247/247 [==============================] - 4s 16ms/step - loss: 1.5319 - accuracy: 0.5312 - val_loss: 1.3920 - val_accuracy: 0.5911\n",
      "Epoch 456/1000\n",
      "247/247 [==============================] - 4s 16ms/step - loss: 1.5372 - accuracy: 0.5249 - val_loss: 1.3916 - val_accuracy: 0.5932\n",
      "Epoch 457/1000\n",
      "247/247 [==============================] - 4s 17ms/step - loss: 1.5352 - accuracy: 0.5297 - val_loss: 1.3910 - val_accuracy: 0.5917\n",
      "Epoch 458/1000\n",
      "247/247 [==============================] - 4s 16ms/step - loss: 1.5343 - accuracy: 0.5284 - val_loss: 1.3919 - val_accuracy: 0.5917\n",
      "Epoch 459/1000\n",
      "247/247 [==============================] - 4s 16ms/step - loss: 1.5383 - accuracy: 0.5309 - val_loss: 1.3908 - val_accuracy: 0.5927\n",
      "Epoch 460/1000\n",
      "247/247 [==============================] - 4s 16ms/step - loss: 1.5380 - accuracy: 0.5292 - val_loss: 1.3905 - val_accuracy: 0.5927\n",
      "Epoch 461/1000\n",
      "247/247 [==============================] - 4s 17ms/step - loss: 1.5327 - accuracy: 0.5295 - val_loss: 1.3900 - val_accuracy: 0.5906\n",
      "Epoch 462/1000\n",
      "247/247 [==============================] - 4s 18ms/step - loss: 1.5332 - accuracy: 0.5287 - val_loss: 1.3902 - val_accuracy: 0.5932\n",
      "Epoch 463/1000\n",
      "247/247 [==============================] - 4s 18ms/step - loss: 1.5229 - accuracy: 0.5348 - val_loss: 1.3891 - val_accuracy: 0.5922\n",
      "Epoch 464/1000\n",
      "247/247 [==============================] - 4s 17ms/step - loss: 1.5279 - accuracy: 0.5293 - val_loss: 1.3910 - val_accuracy: 0.5932\n",
      "Epoch 465/1000\n",
      "247/247 [==============================] - 4s 16ms/step - loss: 1.5295 - accuracy: 0.5314 - val_loss: 1.3900 - val_accuracy: 0.5927\n",
      "Epoch 466/1000\n",
      "247/247 [==============================] - 4s 15ms/step - loss: 1.5300 - accuracy: 0.5288 - val_loss: 1.3894 - val_accuracy: 0.5927\n",
      "Epoch 467/1000\n",
      "247/247 [==============================] - 4s 16ms/step - loss: 1.5254 - accuracy: 0.5335 - val_loss: 1.3886 - val_accuracy: 0.5917\n",
      "Epoch 468/1000\n",
      "247/247 [==============================] - 4s 16ms/step - loss: 1.5328 - accuracy: 0.5330 - val_loss: 1.3887 - val_accuracy: 0.5932\n",
      "Epoch 469/1000\n",
      "247/247 [==============================] - 4s 15ms/step - loss: 1.5351 - accuracy: 0.5292 - val_loss: 1.3885 - val_accuracy: 0.5911\n",
      "Epoch 470/1000\n",
      "247/247 [==============================] - 4s 16ms/step - loss: 1.5349 - accuracy: 0.5345 - val_loss: 1.3888 - val_accuracy: 0.5911\n",
      "Epoch 471/1000\n",
      "247/247 [==============================] - 4s 16ms/step - loss: 1.5397 - accuracy: 0.5313 - val_loss: 1.3892 - val_accuracy: 0.5911\n",
      "Epoch 472/1000\n",
      "247/247 [==============================] - 4s 16ms/step - loss: 1.5299 - accuracy: 0.5308 - val_loss: 1.3883 - val_accuracy: 0.5938\n",
      "Epoch 473/1000\n",
      "247/247 [==============================] - 4s 16ms/step - loss: 1.5313 - accuracy: 0.5287 - val_loss: 1.3881 - val_accuracy: 0.5922\n",
      "Epoch 474/1000\n",
      "247/247 [==============================] - 4s 16ms/step - loss: 1.5319 - accuracy: 0.5305 - val_loss: 1.3883 - val_accuracy: 0.5922\n",
      "Epoch 475/1000\n",
      "247/247 [==============================] - 4s 16ms/step - loss: 1.5276 - accuracy: 0.5294 - val_loss: 1.3869 - val_accuracy: 0.5943\n",
      "Epoch 476/1000\n",
      "247/247 [==============================] - 4s 16ms/step - loss: 1.5245 - accuracy: 0.5323 - val_loss: 1.3881 - val_accuracy: 0.5927\n",
      "Epoch 477/1000\n",
      "247/247 [==============================] - 4s 17ms/step - loss: 1.5298 - accuracy: 0.5328 - val_loss: 1.3874 - val_accuracy: 0.5932\n",
      "Epoch 478/1000\n",
      "247/247 [==============================] - 4s 17ms/step - loss: 1.5347 - accuracy: 0.5279 - val_loss: 1.3873 - val_accuracy: 0.5927\n",
      "Epoch 479/1000\n",
      "247/247 [==============================] - 4s 16ms/step - loss: 1.5305 - accuracy: 0.5324 - val_loss: 1.3873 - val_accuracy: 0.5938\n",
      "Epoch 480/1000\n",
      "247/247 [==============================] - 4s 16ms/step - loss: 1.5285 - accuracy: 0.5334 - val_loss: 1.3870 - val_accuracy: 0.5927\n",
      "Epoch 481/1000\n",
      "247/247 [==============================] - 4s 17ms/step - loss: 1.5316 - accuracy: 0.5318 - val_loss: 1.3862 - val_accuracy: 0.5932\n",
      "Epoch 482/1000\n",
      "247/247 [==============================] - 4s 16ms/step - loss: 1.5280 - accuracy: 0.5316 - val_loss: 1.3869 - val_accuracy: 0.5927\n",
      "Epoch 483/1000\n",
      "247/247 [==============================] - 4s 16ms/step - loss: 1.5288 - accuracy: 0.5309 - val_loss: 1.3866 - val_accuracy: 0.5948\n",
      "Epoch 484/1000\n",
      "247/247 [==============================] - 4s 16ms/step - loss: 1.5381 - accuracy: 0.5293 - val_loss: 1.3865 - val_accuracy: 0.5932\n",
      "Epoch 485/1000\n",
      "247/247 [==============================] - 4s 15ms/step - loss: 1.5267 - accuracy: 0.5339 - val_loss: 1.3857 - val_accuracy: 0.5938\n",
      "Epoch 486/1000\n",
      "247/247 [==============================] - 4s 16ms/step - loss: 1.5267 - accuracy: 0.5327 - val_loss: 1.3850 - val_accuracy: 0.5932\n",
      "Epoch 487/1000\n",
      "247/247 [==============================] - 4s 16ms/step - loss: 1.5261 - accuracy: 0.5323 - val_loss: 1.3855 - val_accuracy: 0.5927\n",
      "Epoch 488/1000\n",
      "247/247 [==============================] - 4s 16ms/step - loss: 1.5197 - accuracy: 0.5311 - val_loss: 1.3842 - val_accuracy: 0.5932\n",
      "Epoch 489/1000\n",
      "247/247 [==============================] - 4s 16ms/step - loss: 1.5223 - accuracy: 0.5324 - val_loss: 1.3842 - val_accuracy: 0.5938\n",
      "Epoch 490/1000\n",
      "247/247 [==============================] - 4s 16ms/step - loss: 1.5300 - accuracy: 0.5297 - val_loss: 1.3839 - val_accuracy: 0.5932\n",
      "Epoch 491/1000\n",
      "247/247 [==============================] - 4s 17ms/step - loss: 1.5311 - accuracy: 0.5269 - val_loss: 1.3846 - val_accuracy: 0.5927\n",
      "Epoch 492/1000\n",
      "247/247 [==============================] - 4s 16ms/step - loss: 1.5258 - accuracy: 0.5369 - val_loss: 1.3837 - val_accuracy: 0.5938\n",
      "Epoch 493/1000\n",
      "247/247 [==============================] - 4s 17ms/step - loss: 1.5234 - accuracy: 0.5354 - val_loss: 1.3836 - val_accuracy: 0.5938\n",
      "Epoch 494/1000\n",
      "247/247 [==============================] - 4s 15ms/step - loss: 1.5224 - accuracy: 0.5316 - val_loss: 1.3837 - val_accuracy: 0.5932\n",
      "Epoch 495/1000\n",
      "247/247 [==============================] - 4s 16ms/step - loss: 1.5197 - accuracy: 0.5346 - val_loss: 1.3834 - val_accuracy: 0.5938\n",
      "Epoch 496/1000\n",
      "247/247 [==============================] - 4s 16ms/step - loss: 1.5291 - accuracy: 0.5319 - val_loss: 1.3835 - val_accuracy: 0.5922\n"
     ]
    },
    {
     "name": "stdout",
     "output_type": "stream",
     "text": [
      "Epoch 497/1000\n",
      "247/247 [==============================] - 4s 16ms/step - loss: 1.5286 - accuracy: 0.5302 - val_loss: 1.3835 - val_accuracy: 0.5927\n",
      "Epoch 498/1000\n",
      "247/247 [==============================] - 4s 16ms/step - loss: 1.5192 - accuracy: 0.5352 - val_loss: 1.3827 - val_accuracy: 0.5932\n",
      "Epoch 499/1000\n",
      "247/247 [==============================] - 4s 16ms/step - loss: 1.5203 - accuracy: 0.5354 - val_loss: 1.3812 - val_accuracy: 0.5938\n",
      "Epoch 500/1000\n",
      "247/247 [==============================] - 4s 16ms/step - loss: 1.5306 - accuracy: 0.5299 - val_loss: 1.3818 - val_accuracy: 0.5938\n",
      "Epoch 501/1000\n",
      "247/247 [==============================] - 4s 16ms/step - loss: 1.5241 - accuracy: 0.5328 - val_loss: 1.3821 - val_accuracy: 0.5938\n",
      "Epoch 502/1000\n",
      "247/247 [==============================] - 4s 16ms/step - loss: 1.5219 - accuracy: 0.5330 - val_loss: 1.3812 - val_accuracy: 0.5938\n",
      "Epoch 503/1000\n",
      "247/247 [==============================] - 4s 16ms/step - loss: 1.5193 - accuracy: 0.5345 - val_loss: 1.3818 - val_accuracy: 0.5943\n",
      "Epoch 504/1000\n",
      "247/247 [==============================] - 4s 15ms/step - loss: 1.5222 - accuracy: 0.5304 - val_loss: 1.3813 - val_accuracy: 0.5938\n",
      "Epoch 505/1000\n",
      "247/247 [==============================] - 4s 16ms/step - loss: 1.5209 - accuracy: 0.5307 - val_loss: 1.3818 - val_accuracy: 0.5927\n",
      "Epoch 506/1000\n",
      "247/247 [==============================] - 4s 16ms/step - loss: 1.5210 - accuracy: 0.5311 - val_loss: 1.3822 - val_accuracy: 0.5943\n",
      "Epoch 507/1000\n",
      "247/247 [==============================] - 4s 17ms/step - loss: 1.5147 - accuracy: 0.5355 - val_loss: 1.3813 - val_accuracy: 0.5932\n",
      "Epoch 508/1000\n",
      "247/247 [==============================] - 4s 16ms/step - loss: 1.5282 - accuracy: 0.5299 - val_loss: 1.3811 - val_accuracy: 0.5938\n",
      "Epoch 509/1000\n",
      "247/247 [==============================] - 4s 16ms/step - loss: 1.5288 - accuracy: 0.5307 - val_loss: 1.3813 - val_accuracy: 0.5932\n",
      "Epoch 510/1000\n",
      "247/247 [==============================] - 4s 16ms/step - loss: 1.5271 - accuracy: 0.5332 - val_loss: 1.3813 - val_accuracy: 0.5943\n",
      "Epoch 511/1000\n",
      "247/247 [==============================] - 4s 16ms/step - loss: 1.5258 - accuracy: 0.5313 - val_loss: 1.3806 - val_accuracy: 0.5938\n",
      "Epoch 512/1000\n",
      "247/247 [==============================] - 4s 16ms/step - loss: 1.5381 - accuracy: 0.5283 - val_loss: 1.3814 - val_accuracy: 0.5958\n",
      "Epoch 513/1000\n",
      "247/247 [==============================] - 4s 15ms/step - loss: 1.5191 - accuracy: 0.5330 - val_loss: 1.3802 - val_accuracy: 0.5943\n",
      "Epoch 514/1000\n",
      "247/247 [==============================] - 4s 15ms/step - loss: 1.5233 - accuracy: 0.5304 - val_loss: 1.3812 - val_accuracy: 0.5948\n",
      "Epoch 515/1000\n",
      "247/247 [==============================] - 4s 15ms/step - loss: 1.5167 - accuracy: 0.5354 - val_loss: 1.3807 - val_accuracy: 0.5943\n",
      "Epoch 516/1000\n",
      "247/247 [==============================] - 4s 16ms/step - loss: 1.5265 - accuracy: 0.5332 - val_loss: 1.3808 - val_accuracy: 0.5938\n",
      "Epoch 517/1000\n",
      "247/247 [==============================] - 4s 15ms/step - loss: 1.5283 - accuracy: 0.5313 - val_loss: 1.3796 - val_accuracy: 0.5943\n",
      "Epoch 518/1000\n",
      "247/247 [==============================] - 4s 15ms/step - loss: 1.5205 - accuracy: 0.5345 - val_loss: 1.3800 - val_accuracy: 0.5938\n",
      "Epoch 519/1000\n",
      "247/247 [==============================] - 4s 16ms/step - loss: 1.5166 - accuracy: 0.5342 - val_loss: 1.3786 - val_accuracy: 0.5938\n",
      "Epoch 520/1000\n",
      "247/247 [==============================] - 4s 16ms/step - loss: 1.5306 - accuracy: 0.5307 - val_loss: 1.3793 - val_accuracy: 0.5953\n",
      "Epoch 521/1000\n",
      "247/247 [==============================] - 4s 16ms/step - loss: 1.5172 - accuracy: 0.5308 - val_loss: 1.3786 - val_accuracy: 0.5943\n",
      "Epoch 522/1000\n",
      "247/247 [==============================] - 4s 16ms/step - loss: 1.5227 - accuracy: 0.5364 - val_loss: 1.3783 - val_accuracy: 0.5938\n",
      "Epoch 523/1000\n",
      "247/247 [==============================] - 4s 16ms/step - loss: 1.5288 - accuracy: 0.5319 - val_loss: 1.3787 - val_accuracy: 0.5938\n",
      "Epoch 524/1000\n",
      "247/247 [==============================] - 4s 18ms/step - loss: 1.5160 - accuracy: 0.5339 - val_loss: 1.3787 - val_accuracy: 0.5943\n",
      "Epoch 525/1000\n",
      "247/247 [==============================] - 4s 18ms/step - loss: 1.5138 - accuracy: 0.5347 - val_loss: 1.3785 - val_accuracy: 0.5938\n",
      "Epoch 526/1000\n",
      "247/247 [==============================] - 4s 17ms/step - loss: 1.5202 - accuracy: 0.5342 - val_loss: 1.3785 - val_accuracy: 0.5938\n",
      "Epoch 527/1000\n",
      "247/247 [==============================] - 4s 17ms/step - loss: 1.5163 - accuracy: 0.5333 - val_loss: 1.3775 - val_accuracy: 0.5943\n",
      "Epoch 528/1000\n",
      "247/247 [==============================] - 4s 16ms/step - loss: 1.5247 - accuracy: 0.5321 - val_loss: 1.3785 - val_accuracy: 0.5958\n",
      "Epoch 529/1000\n",
      "247/247 [==============================] - 4s 16ms/step - loss: 1.5145 - accuracy: 0.5357 - val_loss: 1.3775 - val_accuracy: 0.5958\n",
      "Epoch 530/1000\n",
      "247/247 [==============================] - 4s 16ms/step - loss: 1.5226 - accuracy: 0.5328 - val_loss: 1.3774 - val_accuracy: 0.5938\n",
      "Epoch 531/1000\n",
      "247/247 [==============================] - 4s 15ms/step - loss: 1.5185 - accuracy: 0.5352 - val_loss: 1.3780 - val_accuracy: 0.5953\n",
      "Epoch 532/1000\n",
      "247/247 [==============================] - 4s 16ms/step - loss: 1.5148 - accuracy: 0.5350 - val_loss: 1.3774 - val_accuracy: 0.5943\n",
      "Epoch 533/1000\n",
      "247/247 [==============================] - 4s 16ms/step - loss: 1.5246 - accuracy: 0.5332 - val_loss: 1.3775 - val_accuracy: 0.5943\n",
      "Epoch 534/1000\n",
      "247/247 [==============================] - 4s 16ms/step - loss: 1.5153 - accuracy: 0.5342 - val_loss: 1.3766 - val_accuracy: 0.5948\n",
      "Epoch 535/1000\n",
      "247/247 [==============================] - 4s 16ms/step - loss: 1.5171 - accuracy: 0.5357 - val_loss: 1.3776 - val_accuracy: 0.5948\n",
      "Epoch 536/1000\n",
      "247/247 [==============================] - 4s 16ms/step - loss: 1.5114 - accuracy: 0.5379 - val_loss: 1.3757 - val_accuracy: 0.5948\n",
      "Epoch 537/1000\n",
      "247/247 [==============================] - 4s 16ms/step - loss: 1.5182 - accuracy: 0.5352 - val_loss: 1.3769 - val_accuracy: 0.5958\n",
      "Epoch 538/1000\n",
      "247/247 [==============================] - 4s 16ms/step - loss: 1.5280 - accuracy: 0.5281 - val_loss: 1.3759 - val_accuracy: 0.5953\n",
      "Epoch 539/1000\n",
      "247/247 [==============================] - 4s 16ms/step - loss: 1.5112 - accuracy: 0.5323 - val_loss: 1.3760 - val_accuracy: 0.5943\n",
      "Epoch 540/1000\n",
      "247/247 [==============================] - 4s 15ms/step - loss: 1.5207 - accuracy: 0.5323 - val_loss: 1.3762 - val_accuracy: 0.5943\n",
      "Epoch 541/1000\n",
      "247/247 [==============================] - 4s 16ms/step - loss: 1.5220 - accuracy: 0.5318 - val_loss: 1.3760 - val_accuracy: 0.5953\n",
      "Epoch 542/1000\n",
      "247/247 [==============================] - 4s 16ms/step - loss: 1.5267 - accuracy: 0.5307 - val_loss: 1.3761 - val_accuracy: 0.5938\n",
      "Epoch 543/1000\n",
      "247/247 [==============================] - 4s 16ms/step - loss: 1.5125 - accuracy: 0.5347 - val_loss: 1.3755 - val_accuracy: 0.5964\n",
      "Epoch 544/1000\n",
      "247/247 [==============================] - 4s 17ms/step - loss: 1.5205 - accuracy: 0.5336 - val_loss: 1.3748 - val_accuracy: 0.5938\n",
      "Epoch 545/1000\n",
      "247/247 [==============================] - 4s 16ms/step - loss: 1.5112 - accuracy: 0.5348 - val_loss: 1.3748 - val_accuracy: 0.5938\n",
      "Epoch 546/1000\n",
      "247/247 [==============================] - 4s 16ms/step - loss: 1.5132 - accuracy: 0.5340 - val_loss: 1.3743 - val_accuracy: 0.5948\n",
      "Epoch 547/1000\n",
      "247/247 [==============================] - 4s 17ms/step - loss: 1.5230 - accuracy: 0.5357 - val_loss: 1.3751 - val_accuracy: 0.5948\n",
      "Epoch 548/1000\n",
      "247/247 [==============================] - 4s 16ms/step - loss: 1.5226 - accuracy: 0.5313 - val_loss: 1.3749 - val_accuracy: 0.5964\n",
      "Epoch 549/1000\n",
      "247/247 [==============================] - 4s 16ms/step - loss: 1.5223 - accuracy: 0.5306 - val_loss: 1.3750 - val_accuracy: 0.5958\n",
      "Epoch 550/1000\n",
      "247/247 [==============================] - 4s 17ms/step - loss: 1.5203 - accuracy: 0.5346 - val_loss: 1.3748 - val_accuracy: 0.5964\n",
      "Epoch 551/1000\n",
      "247/247 [==============================] - 4s 17ms/step - loss: 1.5168 - accuracy: 0.5335 - val_loss: 1.3751 - val_accuracy: 0.5964\n",
      "Epoch 552/1000\n",
      "247/247 [==============================] - 4s 17ms/step - loss: 1.5203 - accuracy: 0.5325 - val_loss: 1.3749 - val_accuracy: 0.5953\n"
     ]
    },
    {
     "name": "stdout",
     "output_type": "stream",
     "text": [
      "Epoch 553/1000\n",
      "247/247 [==============================] - 4s 16ms/step - loss: 1.5147 - accuracy: 0.5364 - val_loss: 1.3743 - val_accuracy: 0.5964\n",
      "Epoch 554/1000\n",
      "247/247 [==============================] - 4s 16ms/step - loss: 1.5199 - accuracy: 0.5344 - val_loss: 1.3734 - val_accuracy: 0.5958\n",
      "Epoch 555/1000\n",
      "247/247 [==============================] - 4s 16ms/step - loss: 1.5200 - accuracy: 0.5342 - val_loss: 1.3740 - val_accuracy: 0.5958\n",
      "Epoch 556/1000\n",
      "247/247 [==============================] - 4s 16ms/step - loss: 1.5156 - accuracy: 0.5325 - val_loss: 1.3741 - val_accuracy: 0.5943\n",
      "Epoch 557/1000\n",
      "247/247 [==============================] - 4s 16ms/step - loss: 1.5190 - accuracy: 0.5358 - val_loss: 1.3739 - val_accuracy: 0.5953\n",
      "Epoch 558/1000\n",
      "247/247 [==============================] - 4s 16ms/step - loss: 1.5123 - accuracy: 0.5338 - val_loss: 1.3739 - val_accuracy: 0.5943\n",
      "Epoch 559/1000\n",
      "247/247 [==============================] - 4s 15ms/step - loss: 1.5159 - accuracy: 0.5323 - val_loss: 1.3729 - val_accuracy: 0.5953\n",
      "Epoch 560/1000\n",
      "247/247 [==============================] - 4s 15ms/step - loss: 1.5180 - accuracy: 0.5328 - val_loss: 1.3730 - val_accuracy: 0.5964\n",
      "Epoch 561/1000\n",
      "247/247 [==============================] - 4s 16ms/step - loss: 1.5165 - accuracy: 0.5342 - val_loss: 1.3730 - val_accuracy: 0.5948\n",
      "Epoch 562/1000\n",
      "247/247 [==============================] - 4s 17ms/step - loss: 1.5262 - accuracy: 0.5305 - val_loss: 1.3735 - val_accuracy: 0.5958\n",
      "Epoch 563/1000\n",
      "247/247 [==============================] - 4s 16ms/step - loss: 1.5068 - accuracy: 0.5368 - val_loss: 1.3722 - val_accuracy: 0.5953\n",
      "Epoch 564/1000\n",
      "247/247 [==============================] - 4s 16ms/step - loss: 1.5185 - accuracy: 0.5340 - val_loss: 1.3732 - val_accuracy: 0.5964\n",
      "Epoch 565/1000\n",
      "247/247 [==============================] - 4s 16ms/step - loss: 1.5148 - accuracy: 0.5333 - val_loss: 1.3724 - val_accuracy: 0.5953\n",
      "Epoch 566/1000\n",
      "247/247 [==============================] - 4s 16ms/step - loss: 1.5149 - accuracy: 0.5343 - val_loss: 1.3722 - val_accuracy: 0.5948\n",
      "Epoch 567/1000\n",
      "247/247 [==============================] - 4s 15ms/step - loss: 1.5066 - accuracy: 0.5378 - val_loss: 1.3719 - val_accuracy: 0.5948\n",
      "Epoch 568/1000\n",
      "247/247 [==============================] - 4s 15ms/step - loss: 1.5013 - accuracy: 0.5404 - val_loss: 1.3718 - val_accuracy: 0.5969\n",
      "Epoch 569/1000\n",
      "247/247 [==============================] - 4s 16ms/step - loss: 1.5165 - accuracy: 0.5371 - val_loss: 1.3716 - val_accuracy: 0.5964\n",
      "Epoch 570/1000\n",
      "247/247 [==============================] - 4s 15ms/step - loss: 1.5150 - accuracy: 0.5345 - val_loss: 1.3720 - val_accuracy: 0.5948\n",
      "Epoch 571/1000\n",
      "247/247 [==============================] - 4s 15ms/step - loss: 1.5165 - accuracy: 0.5349 - val_loss: 1.3714 - val_accuracy: 0.5953\n",
      "Epoch 572/1000\n",
      "247/247 [==============================] - 4s 15ms/step - loss: 1.5122 - accuracy: 0.5376 - val_loss: 1.3713 - val_accuracy: 0.5948\n",
      "Epoch 573/1000\n",
      "247/247 [==============================] - 4s 15ms/step - loss: 1.5126 - accuracy: 0.5347 - val_loss: 1.3708 - val_accuracy: 0.5943\n",
      "Epoch 574/1000\n",
      "247/247 [==============================] - 4s 15ms/step - loss: 1.5146 - accuracy: 0.5325 - val_loss: 1.3712 - val_accuracy: 0.5953\n",
      "Epoch 575/1000\n",
      "247/247 [==============================] - 4s 15ms/step - loss: 1.5150 - accuracy: 0.5354 - val_loss: 1.3712 - val_accuracy: 0.5958\n",
      "Epoch 576/1000\n",
      "247/247 [==============================] - 4s 15ms/step - loss: 1.5089 - accuracy: 0.5390 - val_loss: 1.3715 - val_accuracy: 0.5948\n",
      "Epoch 577/1000\n",
      "247/247 [==============================] - 4s 15ms/step - loss: 1.5176 - accuracy: 0.5345 - val_loss: 1.3710 - val_accuracy: 0.5948\n",
      "Epoch 578/1000\n",
      "247/247 [==============================] - 4s 16ms/step - loss: 1.5093 - accuracy: 0.5349 - val_loss: 1.3713 - val_accuracy: 0.5953\n",
      "Epoch 579/1000\n",
      "247/247 [==============================] - 4s 17ms/step - loss: 1.5111 - accuracy: 0.5345 - val_loss: 1.3706 - val_accuracy: 0.5948\n",
      "Epoch 580/1000\n",
      "247/247 [==============================] - 4s 16ms/step - loss: 1.5126 - accuracy: 0.5374 - val_loss: 1.3704 - val_accuracy: 0.5948\n",
      "Epoch 581/1000\n",
      "247/247 [==============================] - 4s 16ms/step - loss: 1.5050 - accuracy: 0.5380 - val_loss: 1.3702 - val_accuracy: 0.5953\n",
      "Epoch 582/1000\n",
      "247/247 [==============================] - 4s 16ms/step - loss: 1.5189 - accuracy: 0.5326 - val_loss: 1.3706 - val_accuracy: 0.5964\n",
      "Epoch 583/1000\n",
      "247/247 [==============================] - 4s 16ms/step - loss: 1.5036 - accuracy: 0.5398 - val_loss: 1.3691 - val_accuracy: 0.5953\n",
      "Epoch 584/1000\n",
      "247/247 [==============================] - 4s 16ms/step - loss: 1.5215 - accuracy: 0.5349 - val_loss: 1.3704 - val_accuracy: 0.5953\n",
      "Epoch 585/1000\n",
      "247/247 [==============================] - 4s 16ms/step - loss: 1.5118 - accuracy: 0.5368 - val_loss: 1.3692 - val_accuracy: 0.5953\n",
      "Epoch 586/1000\n",
      "247/247 [==============================] - 4s 16ms/step - loss: 1.5092 - accuracy: 0.5395 - val_loss: 1.3701 - val_accuracy: 0.5948\n",
      "Epoch 587/1000\n",
      "247/247 [==============================] - 4s 16ms/step - loss: 1.5139 - accuracy: 0.5340 - val_loss: 1.3710 - val_accuracy: 0.5953\n",
      "Epoch 588/1000\n",
      "247/247 [==============================] - 4s 16ms/step - loss: 1.5162 - accuracy: 0.5370 - val_loss: 1.3704 - val_accuracy: 0.5958\n",
      "Epoch 589/1000\n",
      "247/247 [==============================] - 4s 16ms/step - loss: 1.5104 - accuracy: 0.5378 - val_loss: 1.3698 - val_accuracy: 0.5969\n",
      "Epoch 590/1000\n",
      "247/247 [==============================] - 4s 16ms/step - loss: 1.5119 - accuracy: 0.5333 - val_loss: 1.3695 - val_accuracy: 0.5974\n",
      "Epoch 591/1000\n",
      "247/247 [==============================] - 4s 16ms/step - loss: 1.5130 - accuracy: 0.5344 - val_loss: 1.3693 - val_accuracy: 0.5964\n",
      "Epoch 592/1000\n",
      "247/247 [==============================] - 4s 16ms/step - loss: 1.5072 - accuracy: 0.5394 - val_loss: 1.3694 - val_accuracy: 0.5953\n",
      "Epoch 593/1000\n",
      "247/247 [==============================] - 4s 17ms/step - loss: 1.5127 - accuracy: 0.5337 - val_loss: 1.3691 - val_accuracy: 0.5969\n",
      "time: 39min 36s (started: 2021-12-07 03:39:36 +00:00)\n"
     ]
    }
   ],
   "source": [
    "if __name__ == \"__main__\":\n",
    "    batch_size = 64\n",
    "    shapes = ((batch_size, 64, 64, 3),\n",
    "              (batch_size, 22))\n",
    "    pipe_train = TFRecordPipelineTrain(batch_size=batch_size, \n",
    "                                 num_threads=1, \n",
    "                                 device='gpu', \n",
    "                                 device_id=0)\n",
    "    \n",
    "    batch_size_valid = 64\n",
    "    shapes_valid = ((batch_size_valid, 64, 64, 3),\n",
    "                    (batch_size_valid, 22))\n",
    "    pipe_valid = TFRecordPipelineValid(batch_size=batch_size_valid, \n",
    "                                 num_threads=1, \n",
    "                                 device='gpu', \n",
    "                                 device_id=0)        \n",
    "\n",
    "    with tf.device('/gpu:0'):\n",
    "        ds_train = dali_tf.DALIDataset(\n",
    "            pipeline=pipe_train,\n",
    "            batch_size=batch_size,\n",
    "            output_shapes=shapes,\n",
    "            output_dtypes=(tf.float32, tf.int64),\n",
    "            device_id=0)\n",
    "        \n",
    "        ds_valid = dali_tf.DALIDataset(\n",
    "            pipeline=pipe_valid,\n",
    "            batch_size=batch_size_valid,\n",
    "            output_shapes=shapes_valid,\n",
    "            output_dtypes=(tf.float32, tf.int64),\n",
    "            device_id=0)            \n",
    "      \n",
    "        initializer = keras.initializers.GlorotUniform(seed=set_seed)\n",
    "        activation =  keras.activations.softmax\n",
    "        lr_schedule = keras.optimizers.schedules.ExponentialDecay(\n",
    "            initial_learning_rate=1e-5,\n",
    "            decay_steps=TRAIN_DATA_SIZE // batch_size * 10,\n",
    "            decay_rate=0.95)\n",
    "        \n",
    "        number_of_classes = 22\n",
    "        \n",
    "        inputs = keras.Input(shape=(64, 64, 3))\n",
    "        x = autoencoder(inputs, training=False)   # Fix autoencoder weights.\n",
    "        flat = keras.layers.Flatten()(x)\n",
    "        fc1 = keras.layers.Dense(number_of_classes, activation='relu',\n",
    "                             kernel_initializer=initializer)(flat)\n",
    "        do1 = keras.layers.Dropout(0.5, seed=set_seed)(fc1)        \n",
    "        outputs = keras.layers.Dense(number_of_classes,\n",
    "                             kernel_initializer=initializer,\n",
    "                             activation=activation)(do1) \n",
    "        clf = keras.Model(inputs, outputs)\n",
    "        \n",
    "        clf.summary()\n",
    "\n",
    "        # To save the model weights, uncomment the below code.        \n",
    "        #checkpoint_path = \"./model/cp_clf_24_emo.ckpt\"\n",
    "        #checkpoint_dir = os.path.dirname(checkpoint_path)\n",
    "        #cp_callback = tf.keras.callbacks.ModelCheckpoint(filepath=checkpoint_path,\n",
    "        #                                         save_weights_only=True,\n",
    "        #                                         verbose=1)\n",
    "\n",
    "        # Apply early stopping.        \n",
    "        es_callback = tf.keras.callbacks.EarlyStopping(monitor='val_loss', patience=10,\n",
    "                                                       restore_best_weights=True)\n",
    "        \n",
    "        clf.compile(optimizer=keras.optimizers.Adam(learning_rate=lr_schedule),\n",
    "              loss=keras.losses.CategoricalCrossentropy(), \n",
    "              metrics=['accuracy'])\n",
    "        \n",
    "        history = clf.fit(ds_train, steps_per_epoch=TRAIN_DATA_SIZE // batch_size, \n",
    "                          validation_data=ds_valid.take(VALID_DATA_SIZE // batch_size_valid),\n",
    "                          epochs=1000,\n",
    "                          callbacks=[es_callback])    "
   ]
  },
  {
   "cell_type": "code",
   "execution_count": 21,
   "metadata": {},
   "outputs": [
    {
     "name": "stdout",
     "output_type": "stream",
     "text": [
      "dict_keys(['loss', 'accuracy', 'val_loss', 'val_accuracy'])\n",
      "time: 620 µs (started: 2021-12-07 04:19:12 +00:00)\n"
     ]
    }
   ],
   "source": [
    "# List all data in history.\n",
    "\n",
    "print(history.history.keys())"
   ]
  },
  {
   "cell_type": "code",
   "execution_count": 22,
   "metadata": {},
   "outputs": [
    {
     "data": {
      "image/png": "[encoded data removed]",
      "text/plain": [
       "<Figure size 432x288 with 1 Axes>"
      ]
     },
     "metadata": {
      "needs_background": "light"
     },
     "output_type": "display_data"
    },
    {
     "name": "stdout",
     "output_type": "stream",
     "text": [
      "time: 183 ms (started: 2021-12-07 04:19:12 +00:00)\n"
     ]
    }
   ],
   "source": [
    "# Summarize history for accuracy.\n",
    "\n",
    "plt.plot(history.history['accuracy'])\n",
    "plt.plot(history.history['val_accuracy'])\n",
    "plt.title('model accuracy')\n",
    "plt.ylabel('accuracy')\n",
    "plt.xlabel('epoch')\n",
    "plt.legend(['train', 'valid'], loc='upper left')\n",
    "plt.show()"
   ]
  },
  {
   "cell_type": "code",
   "execution_count": 23,
   "metadata": {},
   "outputs": [
    {
     "data": {
      "image/png": "[encoded data removed]",
      "text/plain": [
       "<Figure size 432x288 with 1 Axes>"
      ]
     },
     "metadata": {
      "needs_background": "light"
     },
     "output_type": "display_data"
    },
    {
     "name": "stdout",
     "output_type": "stream",
     "text": [
      "time: 147 ms (started: 2021-12-07 04:19:12 +00:00)\n"
     ]
    }
   ],
   "source": [
    "# Summarize history for loss.\n",
    "\n",
    "plt.plot(history.history['loss'])\n",
    "plt.plot(history.history['val_loss'])\n",
    "plt.title('model loss')\n",
    "plt.ylabel('loss')\n",
    "plt.xlabel('epoch')\n",
    "plt.legend(['train', 'val'], loc='upper right')\n",
    "plt.show()"
   ]
  },
  {
   "cell_type": "markdown",
   "metadata": {},
   "source": [
    "### Define test pipeline."
   ]
  },
  {
   "cell_type": "code",
   "execution_count": 24,
   "metadata": {},
   "outputs": [
    {
     "name": "stdout",
     "output_type": "stream",
     "text": [
      "time: 1.78 ms (started: 2021-12-07 04:19:12 +00:00)\n"
     ]
    }
   ],
   "source": [
    "class TFRecordPipelineTest(Pipeline):\n",
    "    def __init__(self, batch_size, num_threads,\n",
    "                 device = 'cpu', device_id = 0):\n",
    "        super(TFRecordPipelineTest, self).__init__(batch_size,\n",
    "                                         num_threads,\n",
    "                                         device_id)\n",
    "        self.input = fn.readers.tfrecord(        \n",
    "             features = {\"image_raw\": tfrec.FixedLenFeature((), tfrec.string, \"\"),\n",
    "                         \"label\": tfrec.FixedLenFeature([22], tfrec.int64,  22)},\n",
    "             path = ['./tfrecords/22_emo_test.tfrecords'],\n",
    "             index_path = ['./tfrecords/22_emo_test.idx'],\n",
    "             random_shuffle=False,\n",
    "             seed = set_seed)\n",
    "        self.iter = 0\n",
    "    def define_graph(self):\n",
    "        inputs = self.input\n",
    "        images = fn.decoders.image(inputs[\"image_raw\"], device = \"mixed\", output_type = types.RGB) / 255.\n",
    "        labels = inputs[\"label\"].gpu()\n",
    "        return (images, labels)\n",
    "    def iter_setup(self):\n",
    "        pass"
   ]
  },
  {
   "cell_type": "markdown",
   "metadata": {},
   "source": [
    "### Check test data accuracy."
   ]
  },
  {
   "cell_type": "code",
   "execution_count": 25,
   "metadata": {},
   "outputs": [
    {
     "name": "stdout",
     "output_type": "stream",
     "text": [
      "<DALIDataset shapes: ((1, 64, 64, 3), (1, 22)), types: (tf.float32, tf.int64)>\n",
      "1980/1980 [==============================] - 14s 7ms/step - loss: 1.3598 - accuracy: 0.6056\n",
      "Test accuracy: 0.605555534362793\n",
      "A test output from the last layer: [1.7047711e-03 2.3703121e-03 3.8183294e-02 8.5587436e-01 1.5203939e-02\n",
      " 2.8329745e-03 1.8829972e-03 1.5169433e-02 3.1423834e-04 2.5982002e-04\n",
      " 2.1248456e-02 2.8918145e-02 3.1961915e-03 8.4121457e-05 4.1340594e-04\n",
      " 5.0050225e-03 1.7394791e-03 2.3028131e-03 1.1126851e-03 4.8126662e-04\n",
      " 6.1869412e-04 1.0835781e-03]\n",
      "Index of the maximum value: 3\n",
      "Label: angry\n",
      "time: 14.3 s (started: 2021-12-07 04:19:12 +00:00)\n"
     ]
    }
   ],
   "source": [
    "# https://docs.nvidia.com/deeplearning/dali/user-guide/docs/plugins/tensorflow_plugin_api.html\n",
    "\n",
    "if __name__ == \"__main__\":\n",
    "    batch_size = 1\n",
    "    shapes = ((batch_size, 64, 64, 3),\n",
    "              (batch_size, 22))\n",
    "    pipe_test = TFRecordPipelineTest(batch_size=batch_size, \n",
    "                            num_threads=4, \n",
    "                            device='gpu', \n",
    "                            device_id=0)\n",
    "\n",
    "    with tf.device('/gpu:0'):\n",
    "        ds_test = dali_tf.DALIDataset(\n",
    "            pipeline=pipe_test,\n",
    "            batch_size=batch_size,\n",
    "            output_shapes=shapes,\n",
    "            output_dtypes=(tf.float32, tf.int64),\n",
    "            device_id=0)\n",
    "        print(ds_test)\n",
    "        loss, acc = clf.evaluate(ds_test, steps=TEST_DATA_SIZE)\n",
    "        print(\"Test accuracy:\", acc)\n",
    "        predictions = clf.predict(ds_test.take(5))\n",
    "        print(\"A test output from the last layer:\", predictions[0])\n",
    "        print(\"Index of the maximum value:\", np.argmax(predictions[0]))\n",
    "        print(\"Label:\", LABELS[np.argmax(predictions[0])])"
   ]
  },
  {
   "cell_type": "code",
   "execution_count": 26,
   "metadata": {},
   "outputs": [
    {
     "data": {
      "text/plain": [
       "array([[1.70477107e-03, 2.37031211e-03, 3.81832942e-02, 8.55874360e-01,\n",
       "        1.52039388e-02, 2.83297454e-03, 1.88299723e-03, 1.51694333e-02,\n",
       "        3.14238336e-04, 2.59820023e-04, 2.12484561e-02, 2.89181452e-02,\n",
       "        3.19619151e-03, 8.41214569e-05, 4.13405942e-04, 5.00502251e-03,\n",
       "        1.73947914e-03, 2.30281311e-03, 1.11268507e-03, 4.81266616e-04,\n",
       "        6.18694117e-04, 1.08357810e-03],\n",
       "       [3.09654069e-03, 6.10392820e-03, 5.25930859e-02, 7.57590413e-01,\n",
       "        1.80098191e-02, 1.15296915e-02, 4.30605141e-03, 4.13289070e-02,\n",
       "        2.36830441e-03, 1.31730479e-03, 2.91621909e-02, 1.90128051e-02,\n",
       "        4.50542429e-03, 6.01099513e-04, 1.72452512e-03, 1.82870049e-02,\n",
       "        1.05295833e-02, 1.05698872e-02, 2.96391454e-03, 1.70315173e-03,\n",
       "        1.39250455e-03, 1.30391656e-03],\n",
       "       [5.87955723e-03, 7.52678793e-03, 3.66319390e-03, 6.25203013e-01,\n",
       "        1.27172694e-01, 9.29253455e-03, 9.69510153e-03, 4.68576960e-02,\n",
       "        5.72439888e-03, 1.07225054e-03, 3.58503289e-03, 1.95245333e-02,\n",
       "        4.16227765e-02, 3.83472623e-04, 6.11909805e-03, 3.32302637e-02,\n",
       "        9.07392334e-03, 2.59931982e-02, 2.92664533e-03, 2.07541394e-03,\n",
       "        4.66613146e-03, 8.71226657e-03],\n",
       "       [2.01754365e-02, 1.48676420e-02, 1.17090687e-01, 3.18528444e-01,\n",
       "        5.10762483e-02, 1.82188954e-02, 1.50023960e-02, 3.71507369e-02,\n",
       "        5.93716232e-03, 6.48969924e-03, 1.16282322e-01, 1.35278091e-01,\n",
       "        2.07083691e-02, 2.93493061e-03, 1.10153938e-02, 2.16676444e-02,\n",
       "        8.80966894e-03, 1.65741537e-02, 2.20886581e-02, 6.97861519e-03,\n",
       "        7.14235101e-03, 2.59824563e-02],\n",
       "       [1.79463718e-02, 7.08681671e-03, 1.50393033e-02, 5.02151608e-01,\n",
       "        1.50453076e-01, 8.67305789e-03, 1.40159009e-02, 6.69848397e-02,\n",
       "        6.90234546e-03, 1.17033487e-03, 1.27982534e-02, 5.27663268e-02,\n",
       "        3.30586769e-02, 7.98814057e-04, 8.35726131e-03, 3.02167516e-02,\n",
       "        1.05230901e-02, 2.83611100e-02, 6.17684703e-03, 3.97172803e-03,\n",
       "        8.41182191e-03, 1.41356261e-02]], dtype=float32)"
      ]
     },
     "execution_count": 26,
     "metadata": {},
     "output_type": "execute_result"
    },
    {
     "name": "stdout",
     "output_type": "stream",
     "text": [
      "time: 4.09 ms (started: 2021-12-07 04:19:27 +00:00)\n"
     ]
    }
   ],
   "source": [
    "predictions"
   ]
  },
  {
   "cell_type": "code",
   "execution_count": 27,
   "metadata": {},
   "outputs": [
    {
     "data": {
      "text/plain": [
       "<matplotlib.image.AxesImage at 0x7f30800d7dd8>"
      ]
     },
     "execution_count": 27,
     "metadata": {},
     "output_type": "execute_result"
    },
    {
     "data": {
      "image/png": "[encoded data removed]",
      "text/plain": [
       "<Figure size 432x288 with 1 Axes>"
      ]
     },
     "metadata": {
      "needs_background": "light"
     },
     "output_type": "display_data"
    },
    {
     "name": "stdout",
     "output_type": "stream",
     "text": [
      "time: 209 ms (started: 2021-12-07 04:19:27 +00:00)\n"
     ]
    }
   ],
   "source": [
    "# Display the tested image.\n",
    "\n",
    "import matplotlib.pyplot as plt\n",
    "\n",
    "data, = ds_test.take(1)\n",
    "plt.imshow(data[0][0])"
   ]
  },
  {
   "cell_type": "code",
   "execution_count": 28,
   "metadata": {},
   "outputs": [
    {
     "data": {
      "text/plain": [
       "<tf.Tensor: shape=(1, 22), dtype=int64, numpy=array([[0, 0, 0, 1, 0, 0, 0, 0, 0, 0, 0, 0, 0, 0, 0, 0, 0, 0, 0, 0, 0, 0]])>"
      ]
     },
     "execution_count": 28,
     "metadata": {},
     "output_type": "execute_result"
    },
    {
     "name": "stdout",
     "output_type": "stream",
     "text": [
      "time: 2.5 ms (started: 2021-12-07 04:19:27 +00:00)\n"
     ]
    }
   ],
   "source": [
    "# Check the test data's true label.\n",
    "data[1]"
   ]
  },
  {
   "cell_type": "code",
   "execution_count": 29,
   "metadata": {},
   "outputs": [
    {
     "data": {
      "text/plain": [
       "(<tf.Tensor: shape=(1, 64, 64, 3), dtype=float32, numpy=\n",
       " array([[[[0.19607843, 0.15686275, 0.10588235],\n",
       "          [0.18431373, 0.14509805, 0.09411765],\n",
       "          [0.13725491, 0.10588235, 0.05098039],\n",
       "          ...,\n",
       "          [0.07058824, 0.0627451 , 0.05098039],\n",
       "          [0.10588235, 0.09019608, 0.09019608],\n",
       "          [0.08235294, 0.06666667, 0.06666667]],\n",
       " \n",
       "         [[0.1764706 , 0.13725491, 0.08627451],\n",
       "          [0.17254902, 0.13333334, 0.08235294],\n",
       "          [0.12941177, 0.09803922, 0.04313726],\n",
       "          ...,\n",
       "          [0.0627451 , 0.05490196, 0.04313726],\n",
       "          [0.09411765, 0.07843138, 0.07843138],\n",
       "          [0.09411765, 0.07843138, 0.07843138]],\n",
       " \n",
       "         [[0.18039216, 0.14901961, 0.09411765],\n",
       "          [0.15686275, 0.1254902 , 0.07058824],\n",
       "          [0.1254902 , 0.09019608, 0.04705882],\n",
       "          ...,\n",
       "          [0.08627451, 0.07843138, 0.06666667],\n",
       "          [0.09411765, 0.08627451, 0.08235294],\n",
       "          [0.07450981, 0.06666667, 0.0627451 ]],\n",
       " \n",
       "         ...,\n",
       " \n",
       "         [[0.34509805, 0.34901962, 0.28235295],\n",
       "          [0.34117648, 0.34509805, 0.2784314 ],\n",
       "          [0.32941177, 0.34901962, 0.28627452],\n",
       "          ...,\n",
       "          [0.44705883, 0.36862746, 0.30980393],\n",
       "          [0.42352942, 0.3529412 , 0.2901961 ],\n",
       "          [0.35686275, 0.28627452, 0.22352941]],\n",
       " \n",
       "         [[0.34117648, 0.34509805, 0.2784314 ],\n",
       "          [0.3372549 , 0.34117648, 0.27450982],\n",
       "          [0.3254902 , 0.34509805, 0.28235295],\n",
       "          ...,\n",
       "          [0.44705883, 0.36078432, 0.3137255 ],\n",
       "          [0.40784314, 0.3372549 , 0.28235295],\n",
       "          [0.29803923, 0.22745098, 0.17254902]],\n",
       " \n",
       "         [[0.34117648, 0.34509805, 0.2784314 ],\n",
       "          [0.3372549 , 0.34117648, 0.27450982],\n",
       "          [0.3254902 , 0.34509805, 0.28235295],\n",
       "          ...,\n",
       "          [0.4392157 , 0.3529412 , 0.30588236],\n",
       "          [0.3882353 , 0.31764707, 0.2627451 ],\n",
       "          [0.24705882, 0.1764706 , 0.12156863]]]], dtype=float32)>,\n",
       " <tf.Tensor: shape=(1, 22), dtype=int64, numpy=array([[0, 0, 0, 1, 0, 0, 0, 0, 0, 0, 0, 0, 0, 0, 0, 0, 0, 0, 0, 0, 0, 0]])>)"
      ]
     },
     "execution_count": 29,
     "metadata": {},
     "output_type": "execute_result"
    },
    {
     "name": "stdout",
     "output_type": "stream",
     "text": [
      "time: 8.25 ms (started: 2021-12-07 04:19:27 +00:00)\n"
     ]
    }
   ],
   "source": [
    "data"
   ]
  },
  {
   "cell_type": "code",
   "execution_count": 30,
   "metadata": {},
   "outputs": [
    {
     "name": "stdout",
     "output_type": "stream",
     "text": [
      "time: 8.05 s (started: 2021-12-07 04:19:27 +00:00)\n"
     ]
    }
   ],
   "source": [
    "pred_test = clf.predict(ds_test.take(TEST_DATA_SIZE))"
   ]
  },
  {
   "cell_type": "code",
   "execution_count": 31,
   "metadata": {},
   "outputs": [
    {
     "name": "stdout",
     "output_type": "stream",
     "text": [
      "time: 770 ms (started: 2021-12-07 04:19:35 +00:00)\n"
     ]
    }
   ],
   "source": [
    "true_test = np.concatenate([y for x, y in ds_test.take(TEST_DATA_SIZE)], axis=0)"
   ]
  },
  {
   "cell_type": "code",
   "execution_count": 32,
   "metadata": {},
   "outputs": [
    {
     "data": {
      "text/plain": [
       "(1980, 22)"
      ]
     },
     "execution_count": 32,
     "metadata": {},
     "output_type": "execute_result"
    },
    {
     "name": "stdout",
     "output_type": "stream",
     "text": [
      "time: 2.49 ms (started: 2021-12-07 04:19:36 +00:00)\n"
     ]
    }
   ],
   "source": [
    "true_test.shape"
   ]
  },
  {
   "cell_type": "code",
   "execution_count": 33,
   "metadata": {},
   "outputs": [
    {
     "data": {
      "text/plain": [
       "array([[  0,   0,   0,  25,   0,   0,   0,   1,   0,   0,   4,   1,   0,\n",
       "          0,   0,   0,   0,   0,   0,   0,   0,   0],\n",
       "       [  0,   0,   4,   8,   1,   0,   0,   0,   0,   0,  10,   5,   0,\n",
       "          0,   0,   0,   0,   0,   0,   0,   0,   0],\n",
       "       [  0,   0, 193,  69,   0,   0,   0,   1,   0,   0,   6,   2,   0,\n",
       "          0,   0,   0,   0,   0,   0,   0,   0,   0],\n",
       "       [  0,   0,  16, 725,   1,   0,   0,   1,   0,   0,   4,  12,   0,\n",
       "          0,   0,   0,   0,   0,   0,   0,   0,   0],\n",
       "       [  0,   0,   1,  69,  14,   0,   0,   2,   0,   0,   1,   8,   0,\n",
       "          0,   0,   0,   0,   0,   0,   0,   0,   0],\n",
       "       [  0,   0,   3,  18,   0,   0,   0,   0,   0,   0,   6,   3,   0,\n",
       "          0,   0,   0,   0,   0,   0,   0,   0,   0],\n",
       "       [  0,   0,   1,  12,   1,   0,   0,   0,   0,   0,   1,   1,   0,\n",
       "          0,   0,   0,   0,   0,   0,   0,   0,   0],\n",
       "       [  0,   0,   1,  56,   0,   0,   0,  27,   0,   0,   4,   4,   0,\n",
       "          0,   0,   0,   0,   0,   0,   0,   0,   0],\n",
       "       [  0,   0,   0,  15,   0,   0,   0,   0,   0,   0,   0,   0,   0,\n",
       "          0,   0,   0,   0,   0,   0,   0,   0,   0],\n",
       "       [  0,   0,   2,   4,   0,   0,   0,   0,   0,   0,   0,   1,   0,\n",
       "          0,   0,   0,   0,   0,   0,   0,   0,   0],\n",
       "       [  0,   0,  21,  46,   1,   0,   0,   0,   0,   0, 121,   4,   0,\n",
       "          0,   0,   0,   0,   0,   0,   0,   0,   0],\n",
       "       [  0,   0,   6,  47,   0,   0,   0,   2,   0,   0,   2, 113,   0,\n",
       "          0,   0,   0,   0,   0,   0,   0,   0,   0],\n",
       "       [  0,   0,   2,  43,   2,   0,   0,   0,   0,   0,   0,   4,   0,\n",
       "          0,   0,   0,   0,   0,   0,   0,   0,   0],\n",
       "       [  0,   0,   0,   3,   0,   0,   0,   0,   0,   0,   0,   0,   0,\n",
       "          0,   0,   0,   0,   0,   0,   0,   0,   0],\n",
       "       [  0,   0,   1,  17,   0,   0,   0,   0,   0,   0,   0,   2,   0,\n",
       "          0,   0,   0,   0,   0,   0,   0,   0,   0],\n",
       "       [  0,   0,   0,  41,   0,   0,   0,   0,   0,   0,   0,   5,   0,\n",
       "          0,   0,   0,   0,   0,   0,   0,   0,   0],\n",
       "       [  0,   0,   3,  27,   1,   0,   0,  11,   0,   0,   0,   1,   0,\n",
       "          0,   0,   0,   0,   0,   0,   0,   0,   0],\n",
       "       [  0,   0,   3,  30,   2,   0,   0,   0,   0,   0,   7,   1,   0,\n",
       "          0,   0,   0,   0,   4,   0,   0,   0,   0],\n",
       "       [  0,   0,   0,  12,   0,   0,   0,   0,   0,   0,   3,   0,   0,\n",
       "          0,   0,   0,   0,   0,   2,   0,   0,   0],\n",
       "       [  0,   0,   1,   7,   0,   0,   0,   0,   0,   0,   1,   6,   0,\n",
       "          0,   0,   0,   0,   0,   0,   0,   0,   0],\n",
       "       [  0,   0,   1,  12,   0,   0,   0,   0,   0,   0,   4,   2,   0,\n",
       "          0,   0,   0,   0,   0,   0,   0,   0,   0],\n",
       "       [  0,   0,   0,  12,   0,   0,   0,   0,   0,   0,   0,   0,   0,\n",
       "          0,   0,   0,   0,   0,   0,   0,   0,   0]])"
      ]
     },
     "execution_count": 33,
     "metadata": {},
     "output_type": "execute_result"
    },
    {
     "name": "stdout",
     "output_type": "stream",
     "text": [
      "time: 56.5 ms (started: 2021-12-07 04:19:36 +00:00)\n"
     ]
    }
   ],
   "source": [
    "from sklearn.metrics import confusion_matrix\n",
    "\n",
    "pred_test_ls = []\n",
    "true_test_ls = []\n",
    "for (pred, true) in zip(pred_test, true_test):\n",
    "    pred_test_ls.append(np.argmax(pred))\n",
    "    true_test_ls.append(np.argmax(true))\n",
    "\n",
    "cf_matrix_test = confusion_matrix(true_test_ls, pred_test_ls)\n",
    "cf_matrix_test"
   ]
  },
  {
   "cell_type": "code",
   "execution_count": 34,
   "metadata": {
    "scrolled": true
   },
   "outputs": [
    {
     "data": {
      "text/plain": [
       "Text(123.0, 0.5, 'True')"
      ]
     },
     "execution_count": 34,
     "metadata": {},
     "output_type": "execute_result"
    },
    {
     "data": {
      "image/png": "[encoded data removed]",
      "text/plain": [
       "<Figure size 1152x1152 with 2 Axes>"
      ]
     },
     "metadata": {
      "needs_background": "light"
     },
     "output_type": "display_data"
    },
    {
     "name": "stdout",
     "output_type": "stream",
     "text": [
      "time: 2.33 s (started: 2021-12-07 04:19:36 +00:00)\n"
     ]
    }
   ],
   "source": [
    "import seaborn as sns\n",
    "\n",
    "plt.figure(figsize = (16,16))\n",
    "sns.heatmap(cf_matrix_test, annot=True, cmap='Blues', xticklabels=LABELS, yticklabels=LABELS, fmt='g')\n",
    "plt.title('Autoencoder: 22 Class FER')\n",
    "plt.xlabel('Predicted')\n",
    "plt.ylabel('True')"
   ]
  },
  {
   "cell_type": "markdown",
   "metadata": {},
   "source": [
    "### Check train data accuracy."
   ]
  },
  {
   "cell_type": "code",
   "execution_count": 35,
   "metadata": {},
   "outputs": [
    {
     "name": "stdout",
     "output_type": "stream",
     "text": [
      "15840/15840 [==============================] - 103s 6ms/step - loss: 1.2386 - accuracy: 0.6258\n",
      "Train accuracy: 0.6258206963539124\n",
      "time: 1min 42s (started: 2021-12-07 04:19:38 +00:00)\n"
     ]
    }
   ],
   "source": [
    "# https://docs.nvidia.com/deeplearning/dali/user-guide/docs/plugins/tensorflow_plugin_api.html\n",
    "\n",
    "if __name__ == \"__main__\":\n",
    "    batch_size = 1\n",
    "    shapes = ((batch_size, 64, 64, 3),\n",
    "              (batch_size, 22))\n",
    "    pipe_train = TFRecordPipelineTrain(batch_size=batch_size, \n",
    "                            num_threads=4, \n",
    "                            device='gpu', \n",
    "                            device_id=0)\n",
    "\n",
    "    with tf.device('/gpu:0'):\n",
    "        ds_train = dali_tf.DALIDataset(\n",
    "            pipeline=pipe_train,\n",
    "            batch_size=batch_size,\n",
    "            output_shapes=shapes,\n",
    "            output_dtypes=(tf.float32, tf.int64),\n",
    "            device_id=0)\n",
    "        loss, acc = clf.evaluate(ds_train, steps=TRAIN_DATA_SIZE)\n",
    "        print(\"Train accuracy:\", acc)\n",
    "        #predictions = clf.predict(ds_train.take(1))\n",
    "        #print(\"A test output from the last layer:\", predictions[0])\n",
    "        #print(\"Index of the maximum value:\", np.argmax(predictions[0]))\n",
    "        #print(\"Label:\", LABELS[np.argmax(predictions[0])])"
   ]
  },
  {
   "cell_type": "code",
   "execution_count": 36,
   "metadata": {},
   "outputs": [
    {
     "name": "stdout",
     "output_type": "stream",
     "text": [
      "time: 1min 1s (started: 2021-12-07 04:21:21 +00:00)\n"
     ]
    }
   ],
   "source": [
    "pred_train = clf.predict(ds_train.take(TRAIN_DATA_SIZE))"
   ]
  },
  {
   "cell_type": "code",
   "execution_count": 37,
   "metadata": {},
   "outputs": [
    {
     "name": "stdout",
     "output_type": "stream",
     "text": [
      "time: 5.77 s (started: 2021-12-07 04:22:23 +00:00)\n"
     ]
    }
   ],
   "source": [
    "true_train = np.concatenate([y for x, y in ds_train.take(TRAIN_DATA_SIZE)], axis=0)"
   ]
  },
  {
   "cell_type": "code",
   "execution_count": 38,
   "metadata": {},
   "outputs": [
    {
     "data": {
      "text/plain": [
       "(15840, 22)"
      ]
     },
     "execution_count": 38,
     "metadata": {},
     "output_type": "execute_result"
    },
    {
     "name": "stdout",
     "output_type": "stream",
     "text": [
      "time: 2.66 ms (started: 2021-12-07 04:22:28 +00:00)\n"
     ]
    }
   ],
   "source": [
    "true_train.shape"
   ]
  },
  {
   "cell_type": "code",
   "execution_count": 39,
   "metadata": {},
   "outputs": [
    {
     "data": {
      "text/plain": [
       "array([[   0,    0,   15,  212,    3,    0,    0,    4,    0,    0,    9,\n",
       "           7,    0,    0,    0,    0,    0,    0,    0,    0,    0,    0],\n",
       "       [   0,    0,   31,   73,    1,    0,    0,    0,    0,    0,   73,\n",
       "          46,    0,    0,    0,    0,    0,    0,    0,    0,    0,    0],\n",
       "       [   0,    0, 1585,  528,    0,    0,    0,    2,    0,    0,   35,\n",
       "          22,    0,    0,    0,    0,    0,    0,    0,    0,    0,    0],\n",
       "       [   0,    0,   77, 5907,    8,    0,    0,    7,    0,    0,   29,\n",
       "          40,    0,    0,    0,    0,    0,    0,    0,    0,    0,    0],\n",
       "       [   0,    0,   14,  537,  116,    0,    0,   19,    0,    0,   18,\n",
       "          57,    0,    0,    0,    0,    0,    0,    0,    0,    0,    0],\n",
       "       [   0,    0,   10,  111,    0,    9,    0,   11,    0,    0,   37,\n",
       "          61,    0,    0,    0,    0,    0,    1,    0,    0,    0,    0],\n",
       "       [   0,    0,    7,   85,    4,    0,    0,    6,    0,    0,   22,\n",
       "           4,    0,    0,    0,    0,    0,    0,    0,    0,    0,    0],\n",
       "       [   0,    0,   44,  449,    0,    0,    0,  218,    0,    0,    6,\n",
       "          17,    0,    0,    0,    0,    0,    0,    0,    0,    0,    0],\n",
       "       [   0,    0,    3,   83,    1,    0,    0,    5,    0,    0,   16,\n",
       "           7,    0,    0,    0,    0,    0,    4,    0,    0,    0,    0],\n",
       "       [   0,    0,   14,   34,    0,    0,    0,    3,    0,    0,    6,\n",
       "           2,    0,    0,    0,    0,    0,    0,    0,    0,    0,    0],\n",
       "       [   0,    0,  164,  305,    1,    0,    0,    0,    0,    0, 1042,\n",
       "          32,    0,    0,    0,    0,    0,    0,    0,    0,    0,    0],\n",
       "       [   0,    0,   40,  329,    2,    0,    0,    4,    0,    0,   19,\n",
       "         968,    0,    0,    0,    0,    0,    0,    0,    0,    0,    0],\n",
       "       [   0,    0,   17,  305,   12,    0,    0,    7,    0,    0,   11,\n",
       "          55,    0,    0,    0,    0,    0,    0,    0,    0,    0,    0],\n",
       "       [   0,    0,    2,   14,    0,    0,    0,    0,    0,    0,    1,\n",
       "           5,    0,    0,    0,    0,    0,    0,    0,    0,    0,    0],\n",
       "       [   0,    0,    1,  105,   12,    0,    0,    5,    0,    0,    9,\n",
       "          26,    0,    0,    4,    0,    0,    0,    0,    0,    0,    0],\n",
       "       [   0,    0,   16,  287,    3,    0,    0,    4,    0,    0,   26,\n",
       "          28,    0,    0,    0,    0,    0,    0,    0,    0,    0,    0],\n",
       "       [   0,    0,   16,  212,    2,    0,    0,   95,    0,    0,    6,\n",
       "          10,    0,    0,    0,    0,    0,    0,    0,    0,    0,    0],\n",
       "       [   0,    0,    8,  238,    4,    0,    0,    2,    0,    0,   45,\n",
       "          31,    0,    0,    0,    0,    0,   52,    0,    0,    0,    0],\n",
       "       [   0,    0,   17,   89,    1,    0,    0,    0,    0,    0,   10,\n",
       "          11,    0,    0,    0,    0,    0,    0,   12,    0,    0,    0],\n",
       "       [   0,    0,    6,   44,    1,    0,    0,    1,    0,    0,    3,\n",
       "          68,    0,    0,    0,    0,    0,    0,    0,    0,    0,    0],\n",
       "       [   0,    0,   10,   80,   10,    0,    0,    2,    0,    0,   40,\n",
       "           5,    0,    0,    0,    0,    0,    0,    0,    0,    0,    0],\n",
       "       [   0,    0,    0,   87,    2,    0,    0,    0,    0,    0,    2,\n",
       "           2,    0,    0,    0,    0,    0,    0,    0,    0,    0,    0]])"
      ]
     },
     "execution_count": 39,
     "metadata": {},
     "output_type": "execute_result"
    },
    {
     "name": "stdout",
     "output_type": "stream",
     "text": [
      "time: 100 ms (started: 2021-12-07 04:22:28 +00:00)\n"
     ]
    }
   ],
   "source": [
    "pred_train_ls = []\n",
    "true_train_ls = []\n",
    "for (pred, true) in zip(pred_train, true_train):\n",
    "    pred_train_ls.append(np.argmax(pred))\n",
    "    true_train_ls.append(np.argmax(true))\n",
    "\n",
    "cf_matrix_train = confusion_matrix(true_train_ls, pred_train_ls)\n",
    "cf_matrix_train"
   ]
  },
  {
   "cell_type": "code",
   "execution_count": 40,
   "metadata": {},
   "outputs": [
    {
     "data": {
      "text/plain": [
       "Text(123.0, 0.5, 'True')"
      ]
     },
     "execution_count": 40,
     "metadata": {},
     "output_type": "execute_result"
    },
    {
     "data": {
      "image/png": "[encoded data removed]",
      "text/plain": [
       "<Figure size 1152x1152 with 2 Axes>"
      ]
     },
     "metadata": {
      "needs_background": "light"
     },
     "output_type": "display_data"
    },
    {
     "name": "stdout",
     "output_type": "stream",
     "text": [
      "time: 2.29 s (started: 2021-12-07 04:22:29 +00:00)\n"
     ]
    }
   ],
   "source": [
    "plt.figure(figsize = (16,16))\n",
    "sns.heatmap(cf_matrix_train, annot=True, cmap='Blues', xticklabels=LABELS, yticklabels=LABELS, fmt='g')\n",
    "plt.title('Autoencoder: 22 Class FER (Train Data)')\n",
    "plt.xlabel('Predicted')\n",
    "plt.ylabel('True')"
   ]
  },
  {
   "cell_type": "code",
   "execution_count": null,
   "metadata": {},
   "outputs": [],
   "source": []
  }
 ],
 "metadata": {
  "kernelspec": {
   "display_name": "Python 3",
   "language": "python",
   "name": "python3"
  },
  "language_info": {
   "codemirror_mode": {
    "name": "ipython",
    "version": 3
   },
   "file_extension": ".py",
   "mimetype": "text/x-python",
   "name": "python",
   "nbconvert_exporter": "python",
   "pygments_lexer": "ipython3",
   "version": "3.6.9"
  }
 },
 "nbformat": 4,
 "nbformat_minor": 2
}
