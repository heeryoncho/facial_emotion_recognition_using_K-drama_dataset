{
 "cells": [
  {
   "cell_type": "markdown",
   "metadata": {},
   "source": [
    "This notebook contains the code used in the BigComp 2022 paper: <br>\n",
    "<b>Heeryon Cho, Woo-Kyu Kang, Younsoo Park, Sungeu Chae, and Seong-joon Kim, \"Multi-label Facial Emotion Recognition Using Korean Drama Movie Clips,\" BigComp 2022.</b>\n",
    "### Convert tfrecords into images & Analyze image labels"
   ]
  },
  {
   "cell_type": "code",
   "execution_count": 1,
   "metadata": {},
   "outputs": [],
   "source": [
    "import os\n",
    "import pandas as pd\n",
    "import random as rn\n",
    "import numpy as np\n",
    "from collections import Counter\n",
    "from IPython.display import display, Image\n",
    "import tensorflow as tf"
   ]
  },
  {
   "cell_type": "code",
   "execution_count": 2,
   "metadata": {},
   "outputs": [
    {
     "name": "stdout",
     "output_type": "stream",
     "text": [
      "time: 214 µs (started: 2021-12-07 12:50:48 +00:00)\n"
     ]
    }
   ],
   "source": [
    "# Record cell run time.\n",
    "#!pip install ipython-autotime\n",
    "\n",
    "%load_ext autotime"
   ]
  },
  {
   "cell_type": "markdown",
   "metadata": {},
   "source": [
    "## 1. Convert tfrecord file into images"
   ]
  },
  {
   "cell_type": "code",
   "execution_count": 3,
   "metadata": {},
   "outputs": [
    {
     "data": {
      "text/plain": [
       "<MapDataset shapes: {depth: (), height: (), image_raw: (), label: (6,), width: ()}, types: {depth: tf.int64, height: tf.int64, image_raw: tf.string, label: tf.int64, width: tf.int64}>"
      ]
     },
     "execution_count": 3,
     "metadata": {},
     "output_type": "execute_result"
    },
    {
     "name": "stdout",
     "output_type": "stream",
     "text": [
      "time: 1.3 s (started: 2021-12-07 12:50:48 +00:00)\n"
     ]
    }
   ],
   "source": [
    "# Create a dictionary describing the features.\n",
    "image_feature_description = {\n",
    "    'height': tf.io.FixedLenFeature([], tf.int64),\n",
    "    'width': tf.io.FixedLenFeature([], tf.int64),\n",
    "    'depth': tf.io.FixedLenFeature([], tf.int64),\n",
    "    'label': tf.io.FixedLenFeature([6], tf.int64),\n",
    "    'image_raw': tf.io.FixedLenFeature([], tf.string),\n",
    "}\n",
    "\n",
    "def _parse_image_function(example_proto):\n",
    "    # Parse the input tf.train.Example proto using the dictionary above.\n",
    "    return tf.io.parse_single_example(example_proto, image_feature_description)\n",
    "\n",
    "raw_image_dataset = tf.data.TFRecordDataset('./tfrecords/6_basic_emo_test.tfrecords')\n",
    "\n",
    "parsed_image_dataset = raw_image_dataset.map(_parse_image_function)\n",
    "parsed_image_dataset"
   ]
  },
  {
   "cell_type": "code",
   "execution_count": 4,
   "metadata": {},
   "outputs": [
    {
     "data": {
      "image/jpeg": "[encoded data removed]",
      "text/plain": [
       "<IPython.core.display.Image object>"
      ]
     },
     "metadata": {},
     "output_type": "display_data"
    },
    {
     "data": {
      "image/jpeg": "[encoded data removed]",
      "text/plain": [
       "<IPython.core.display.Image object>"
      ]
     },
     "metadata": {},
     "output_type": "display_data"
    },
    {
     "data": {
      "image/jpeg": "[encoded data removed]",
      "text/plain": [
       "<IPython.core.display.Image object>"
      ]
     },
     "metadata": {},
     "output_type": "display_data"
    },
    {
     "name": "stdout",
     "output_type": "stream",
     "text": [
      "Number of images displayed: 3\n",
      "time: 65.2 ms (started: 2021-12-07 12:50:49 +00:00)\n"
     ]
    }
   ],
   "source": [
    "n = 0\n",
    "for image_features in parsed_image_dataset.take(3):\n",
    "    image_raw = image_features['image_raw'].numpy()\n",
    "    display(Image(data=image_raw))\n",
    "    n += 1\n",
    "print(\"Number of images displayed:\", n)"
   ]
  },
  {
   "cell_type": "markdown",
   "metadata": {},
   "source": [
    "## 2. Analyze emotion labels."
   ]
  },
  {
   "cell_type": "markdown",
   "metadata": {},
   "source": [
    "### Read emotion labels."
   ]
  },
  {
   "cell_type": "code",
   "execution_count": 5,
   "metadata": {},
   "outputs": [
    {
     "name": "stdout",
     "output_type": "stream",
     "text": [
      "Index(['img_id', 'clip_id', 'moved', 'fearful', 'bored', 'surprised', 'angry',\n",
      "       'anxious', 'smitten', 'fluttered', 'disappointed', 'fulfilled',\n",
      "       'ashamed', 'sad', 'upset', 'sympathetic', 'passionate', 'depressed',\n",
      "       'amused', 'affectionate', 'guilty', 'neutral', 'jealous', 'peaceful',\n",
      "       'happy', 'disgusted'],\n",
      "      dtype='object')\n",
      "(38817, 26)\n",
      "LABELS= ['moved', 'fearful', 'bored', 'surprised', 'angry', 'anxious', 'smitten', 'fluttered', 'disappointed', 'fulfilled', 'ashamed', 'sad', 'upset', 'sympathetic', 'passionate', 'depressed', 'amused', 'affectionate', 'guilty', 'neutral', 'jealous', 'peaceful', 'happy', 'disgusted']\n",
      "24\n",
      "time: 84.8 ms (started: 2021-12-07 12:50:49 +00:00)\n"
     ]
    }
   ],
   "source": [
    "# Load labels, check headers, check data shape.\n",
    "\n",
    "df_label = pd.read_csv('label/label_multi-label.csv')\n",
    "print(df_label.columns)\n",
    "print(df_label.shape)\n",
    "\n",
    "LABELS = list(df_label.columns[2:])\n",
    "print(\"LABELS=\", LABELS)\n",
    "print(len(LABELS))"
   ]
  },
  {
   "cell_type": "code",
   "execution_count": 6,
   "metadata": {},
   "outputs": [
    {
     "data": {
      "text/plain": [
       "38817"
      ]
     },
     "execution_count": 6,
     "metadata": {},
     "output_type": "execute_result"
    },
    {
     "name": "stdout",
     "output_type": "stream",
     "text": [
      "time: 7.72 s (started: 2021-12-07 12:50:49 +00:00)\n"
     ]
    }
   ],
   "source": [
    "# Place label data into a dictionary.\n",
    "\n",
    "dict_label = {}\n",
    "for idx, row in df_label.iterrows():\n",
    "    dict_label[row['img_id']] = list(row['moved':'disgusted'].values)\n",
    "len(dict_label)"
   ]
  },
  {
   "cell_type": "code",
   "execution_count": 7,
   "metadata": {},
   "outputs": [
    {
     "data": {
      "text/plain": [
       "[0, 0, 0, 0, 0, 0, 0, 0, 0, 0, 0, 0, 1, 0, 0, 1, 0, 0, 0, 0, 0, 0, 0, 0]"
      ]
     },
     "execution_count": 7,
     "metadata": {},
     "output_type": "execute_result"
    },
    {
     "name": "stdout",
     "output_type": "stream",
     "text": [
      "time: 2.93 ms (started: 2021-12-07 12:50:57 +00:00)\n"
     ]
    }
   ],
   "source": [
    "# Display one image label.\n",
    "\n",
    "dict_label['03_00001-1_00001.jpg']"
   ]
  },
  {
   "cell_type": "code",
   "execution_count": 8,
   "metadata": {},
   "outputs": [
    {
     "data": {
      "text/plain": [
       "158"
      ]
     },
     "execution_count": 8,
     "metadata": {},
     "output_type": "execute_result"
    },
    {
     "name": "stdout",
     "output_type": "stream",
     "text": [
      "time: 39 ms (started: 2021-12-07 12:50:57 +00:00)\n"
     ]
    }
   ],
   "source": [
    "# List unique labels.\n",
    "\n",
    "uniq_labels = [list(x) for x in set(tuple(x) for x in list(dict_label.values()))]\n",
    "uniq_labels.sort()\n",
    "len(uniq_labels)"
   ]
  },
  {
   "cell_type": "code",
   "execution_count": 9,
   "metadata": {},
   "outputs": [
    {
     "data": {
      "text/plain": [
       "'[0, 0, 0, 0, 0, 0, 0, 0, 0, 0, 0, 0, 1, 0, 0, 1, 0, 0, 0, 0, 0, 0, 0, 0]'"
      ]
     },
     "execution_count": 9,
     "metadata": {},
     "output_type": "execute_result"
    },
    {
     "name": "stdout",
     "output_type": "stream",
     "text": [
      "time: 72.9 ms (started: 2021-12-07 12:50:57 +00:00)\n"
     ]
    }
   ],
   "source": [
    "# Convert list-format labels into string-format labels.\n",
    "\n",
    "uniq_labels_strs = [str(x) for x in list(dict_label.values())]\n",
    "uniq_labels_strs[0]"
   ]
  },
  {
   "cell_type": "code",
   "execution_count": 10,
   "metadata": {},
   "outputs": [
    {
     "data": {
      "text/plain": [
       "{'[0, 0, 0, 0, 0, 0, 0, 0, 0, 0, 0, 0, 0, 0, 0, 0, 0, 0, 0, 0, 0, 0, 0, 1]': 117,\n",
       " '[0, 0, 0, 0, 0, 0, 0, 0, 0, 0, 0, 0, 0, 0, 0, 0, 0, 0, 0, 0, 0, 0, 1, 0]': 185,\n",
       " '[0, 0, 0, 0, 0, 0, 0, 0, 0, 0, 0, 0, 0, 0, 0, 0, 0, 0, 0, 0, 0, 1, 0, 0]': 153,\n",
       " '[0, 0, 0, 0, 0, 0, 0, 0, 0, 0, 0, 0, 0, 0, 0, 0, 0, 0, 0, 0, 0, 1, 1, 0]': 252,\n",
       " '[0, 0, 0, 0, 0, 0, 0, 0, 0, 0, 0, 0, 0, 0, 0, 0, 0, 0, 0, 0, 1, 0, 0, 0]': 174,\n",
       " '[0, 0, 0, 0, 0, 0, 0, 0, 0, 0, 0, 0, 0, 0, 0, 0, 0, 0, 1, 0, 0, 0, 0, 0]': 474,\n",
       " '[0, 0, 0, 0, 0, 0, 0, 0, 0, 0, 0, 0, 0, 0, 0, 0, 0, 1, 0, 0, 0, 0, 0, 0]': 427,\n",
       " '[0, 0, 0, 0, 0, 0, 0, 0, 0, 0, 0, 0, 0, 0, 0, 0, 0, 1, 0, 0, 0, 0, 1, 0]': 44,\n",
       " '[0, 0, 0, 0, 0, 0, 0, 0, 0, 0, 0, 0, 0, 0, 0, 0, 0, 1, 1, 0, 0, 0, 0, 0]': 25,\n",
       " '[0, 0, 0, 0, 0, 0, 0, 0, 0, 0, 0, 0, 0, 0, 0, 0, 1, 0, 0, 0, 0, 0, 0, 0]': 455,\n",
       " '[0, 0, 0, 0, 0, 0, 0, 0, 0, 0, 0, 0, 0, 0, 0, 0, 1, 0, 0, 0, 0, 0, 1, 0]': 1030,\n",
       " '[0, 0, 0, 0, 0, 0, 0, 0, 0, 0, 0, 0, 0, 0, 0, 0, 1, 0, 0, 0, 0, 1, 0, 0]': 2,\n",
       " '[0, 0, 0, 0, 0, 0, 0, 0, 0, 0, 0, 0, 0, 0, 0, 0, 1, 1, 0, 0, 0, 0, 0, 0]': 12,\n",
       " '[0, 0, 0, 0, 0, 0, 0, 0, 0, 0, 0, 0, 0, 0, 0, 0, 1, 1, 0, 0, 0, 0, 1, 0]': 3,\n",
       " '[0, 0, 0, 0, 0, 0, 0, 0, 0, 0, 0, 0, 0, 0, 0, 1, 0, 0, 0, 0, 0, 0, 0, 0]': 202,\n",
       " '[0, 0, 0, 0, 0, 0, 0, 0, 0, 0, 0, 0, 0, 0, 1, 0, 0, 0, 0, 0, 0, 0, 0, 0]': 28,\n",
       " '[0, 0, 0, 0, 0, 0, 0, 0, 0, 0, 0, 0, 0, 0, 1, 0, 0, 0, 0, 0, 0, 0, 1, 0]': 9,\n",
       " '[0, 0, 0, 0, 0, 0, 0, 0, 0, 0, 0, 0, 0, 1, 0, 0, 0, 0, 0, 0, 0, 0, 0, 0]': 509,\n",
       " '[0, 0, 0, 0, 0, 0, 0, 0, 0, 0, 0, 0, 0, 1, 0, 0, 0, 0, 1, 0, 0, 0, 0, 0]': 133,\n",
       " '[0, 0, 0, 0, 0, 0, 0, 0, 0, 0, 0, 0, 0, 1, 0, 0, 0, 1, 0, 0, 0, 0, 0, 0]': 118,\n",
       " '[0, 0, 0, 0, 0, 0, 0, 0, 0, 0, 0, 0, 0, 1, 0, 0, 1, 0, 0, 0, 0, 0, 0, 0]': 18,\n",
       " '[0, 0, 0, 0, 0, 0, 0, 0, 0, 0, 0, 0, 1, 0, 0, 0, 0, 0, 0, 0, 0, 0, 0, 0]': 1702,\n",
       " '[0, 0, 0, 0, 0, 0, 0, 0, 0, 0, 0, 0, 1, 0, 0, 0, 0, 0, 0, 0, 0, 0, 0, 1]': 4,\n",
       " '[0, 0, 0, 0, 0, 0, 0, 0, 0, 0, 0, 0, 1, 0, 0, 0, 0, 0, 0, 0, 1, 0, 0, 0]': 88,\n",
       " '[0, 0, 0, 0, 0, 0, 0, 0, 0, 0, 0, 0, 1, 0, 0, 0, 0, 0, 1, 0, 0, 0, 0, 0]': 523,\n",
       " '[0, 0, 0, 0, 0, 0, 0, 0, 0, 0, 0, 0, 1, 0, 0, 0, 0, 1, 0, 0, 0, 0, 0, 0]': 10,\n",
       " '[0, 0, 0, 0, 0, 0, 0, 0, 0, 0, 0, 0, 1, 0, 0, 1, 0, 0, 0, 0, 0, 0, 0, 0]': 729,\n",
       " '[0, 0, 0, 0, 0, 0, 0, 0, 0, 0, 0, 0, 1, 1, 0, 0, 0, 0, 0, 0, 0, 0, 0, 0]': 105,\n",
       " '[0, 0, 0, 0, 0, 0, 0, 0, 0, 0, 0, 1, 0, 0, 0, 0, 0, 0, 0, 0, 0, 0, 0, 0]': 1930,\n",
       " '[0, 0, 0, 0, 0, 0, 0, 0, 0, 0, 0, 1, 0, 0, 0, 0, 0, 0, 0, 0, 0, 0, 0, 1]': 4,\n",
       " '[0, 0, 0, 0, 0, 0, 0, 0, 0, 0, 0, 1, 0, 0, 0, 0, 0, 0, 0, 0, 0, 1, 0, 0]': 37,\n",
       " '[0, 0, 0, 0, 0, 0, 0, 0, 0, 0, 0, 1, 0, 0, 0, 0, 0, 0, 0, 0, 1, 0, 0, 0]': 1,\n",
       " '[0, 0, 0, 0, 0, 0, 0, 0, 0, 0, 0, 1, 0, 0, 0, 0, 0, 0, 1, 0, 0, 0, 0, 0]': 280,\n",
       " '[0, 0, 0, 0, 0, 0, 0, 0, 0, 0, 0, 1, 0, 0, 0, 0, 0, 1, 0, 0, 0, 0, 0, 0]': 146,\n",
       " '[0, 0, 0, 0, 0, 0, 0, 0, 0, 0, 0, 1, 0, 0, 0, 1, 0, 0, 0, 0, 0, 0, 0, 0]': 1646,\n",
       " '[0, 0, 0, 0, 0, 0, 0, 0, 0, 0, 0, 1, 0, 1, 0, 0, 0, 0, 0, 0, 0, 0, 0, 0]': 790,\n",
       " '[0, 0, 0, 0, 0, 0, 0, 0, 0, 0, 0, 1, 0, 1, 0, 0, 0, 0, 1, 0, 0, 0, 0, 0]': 12,\n",
       " '[0, 0, 0, 0, 0, 0, 0, 0, 0, 0, 0, 1, 0, 1, 0, 0, 0, 1, 0, 0, 0, 0, 0, 0]': 74,\n",
       " '[0, 0, 0, 0, 0, 0, 0, 0, 0, 0, 0, 1, 1, 0, 0, 0, 0, 0, 0, 0, 0, 0, 0, 0]': 1440,\n",
       " '[0, 0, 0, 0, 0, 0, 0, 0, 0, 0, 0, 1, 1, 0, 0, 1, 0, 0, 0, 0, 0, 0, 0, 0]': 185,\n",
       " '[0, 0, 0, 0, 0, 0, 0, 0, 0, 0, 0, 1, 1, 1, 0, 0, 0, 0, 0, 0, 0, 0, 0, 0]': 43,\n",
       " '[0, 0, 0, 0, 0, 0, 0, 0, 0, 0, 1, 0, 0, 0, 0, 0, 0, 0, 0, 0, 0, 0, 0, 0]': 73,\n",
       " '[0, 0, 0, 0, 0, 0, 0, 0, 0, 0, 1, 0, 0, 0, 0, 0, 0, 0, 1, 0, 0, 0, 0, 0]': 16,\n",
       " '[0, 0, 0, 0, 0, 0, 0, 0, 0, 0, 1, 0, 1, 0, 0, 0, 0, 0, 0, 0, 0, 0, 0, 0]': 71,\n",
       " '[0, 0, 0, 0, 0, 0, 0, 0, 0, 0, 1, 1, 0, 0, 0, 0, 0, 0, 0, 0, 0, 0, 0, 0]': 74,\n",
       " '[0, 0, 0, 0, 0, 0, 0, 0, 0, 1, 0, 0, 0, 0, 0, 0, 0, 0, 0, 0, 0, 0, 0, 0]': 149,\n",
       " '[0, 0, 0, 0, 0, 0, 0, 0, 0, 1, 0, 0, 0, 0, 0, 0, 0, 0, 0, 0, 0, 0, 1, 0]': 50,\n",
       " '[0, 0, 0, 0, 0, 0, 0, 0, 0, 1, 0, 0, 0, 0, 0, 0, 0, 0, 0, 0, 0, 1, 0, 0]': 5,\n",
       " '[0, 0, 0, 0, 0, 0, 0, 0, 0, 1, 0, 0, 0, 0, 1, 0, 0, 0, 0, 0, 0, 0, 0, 0]': 20,\n",
       " '[0, 0, 0, 0, 0, 0, 0, 0, 1, 0, 0, 0, 0, 0, 0, 0, 0, 0, 0, 0, 0, 0, 0, 0]': 918,\n",
       " '[0, 0, 0, 0, 0, 0, 0, 0, 1, 0, 0, 0, 0, 0, 0, 0, 0, 0, 0, 0, 1, 0, 0, 0]': 207,\n",
       " '[0, 0, 0, 0, 0, 0, 0, 0, 1, 0, 0, 0, 0, 0, 0, 0, 0, 1, 0, 0, 0, 0, 0, 0]': 30,\n",
       " '[0, 0, 0, 0, 0, 0, 0, 0, 1, 0, 0, 0, 0, 0, 0, 0, 1, 0, 0, 0, 0, 0, 0, 0]': 9,\n",
       " '[0, 0, 0, 0, 0, 0, 0, 0, 1, 0, 0, 0, 0, 0, 0, 1, 0, 0, 0, 0, 0, 0, 0, 0]': 70,\n",
       " '[0, 0, 0, 0, 0, 0, 0, 0, 1, 0, 0, 0, 0, 0, 1, 0, 0, 0, 0, 0, 0, 0, 0, 0]': 15,\n",
       " '[0, 0, 0, 0, 0, 0, 0, 0, 1, 0, 0, 0, 1, 0, 0, 0, 0, 0, 0, 0, 0, 0, 0, 0]': 562,\n",
       " '[0, 0, 0, 0, 0, 0, 0, 0, 1, 0, 0, 1, 0, 0, 0, 0, 0, 0, 0, 0, 0, 0, 0, 0]': 404,\n",
       " '[0, 0, 0, 0, 0, 0, 0, 0, 1, 0, 0, 1, 0, 0, 0, 0, 0, 0, 0, 0, 0, 0, 0, 1]': 23,\n",
       " '[0, 0, 0, 0, 0, 0, 0, 0, 1, 0, 0, 1, 1, 0, 0, 0, 0, 0, 0, 0, 0, 0, 0, 0]': 35,\n",
       " '[0, 0, 0, 0, 0, 0, 0, 0, 1, 0, 1, 0, 0, 0, 0, 0, 0, 0, 0, 0, 0, 0, 0, 0]': 14,\n",
       " '[0, 0, 0, 0, 0, 0, 0, 1, 0, 0, 0, 0, 0, 0, 0, 0, 0, 0, 0, 0, 0, 0, 0, 0]': 160,\n",
       " '[0, 0, 0, 0, 0, 0, 0, 1, 0, 0, 0, 0, 0, 0, 0, 0, 0, 0, 0, 0, 0, 0, 1, 0]': 84,\n",
       " '[0, 0, 0, 0, 0, 0, 0, 1, 0, 0, 0, 0, 0, 0, 0, 0, 0, 0, 0, 0, 1, 0, 0, 0]': 67,\n",
       " '[0, 0, 0, 0, 0, 0, 0, 1, 0, 0, 0, 0, 0, 0, 0, 0, 0, 1, 0, 0, 0, 0, 0, 0]': 16,\n",
       " '[0, 0, 0, 0, 0, 0, 0, 1, 0, 0, 0, 0, 0, 0, 0, 0, 1, 0, 0, 0, 0, 0, 0, 0]': 70,\n",
       " '[0, 0, 0, 0, 0, 0, 0, 1, 0, 0, 0, 0, 0, 0, 1, 0, 0, 0, 0, 0, 0, 0, 0, 0]': 29,\n",
       " '[0, 0, 0, 0, 0, 0, 0, 1, 0, 0, 0, 0, 0, 1, 0, 0, 0, 0, 0, 0, 0, 0, 0, 0]': 43,\n",
       " '[0, 0, 0, 0, 0, 0, 0, 1, 0, 0, 0, 0, 1, 0, 0, 0, 0, 0, 0, 0, 0, 0, 0, 0]': 4,\n",
       " '[0, 0, 0, 0, 0, 0, 0, 1, 0, 0, 1, 0, 0, 0, 0, 0, 0, 0, 0, 0, 0, 0, 0, 0]': 7,\n",
       " '[0, 0, 0, 0, 0, 0, 0, 1, 0, 1, 0, 0, 0, 0, 0, 0, 0, 0, 0, 0, 0, 0, 0, 0]': 10,\n",
       " '[0, 0, 0, 0, 0, 0, 1, 0, 0, 0, 0, 0, 0, 0, 0, 0, 0, 0, 0, 0, 0, 0, 0, 0]': 300,\n",
       " '[0, 0, 0, 0, 0, 0, 1, 0, 0, 0, 0, 0, 0, 0, 0, 0, 0, 0, 0, 0, 0, 0, 1, 0]': 926,\n",
       " '[0, 0, 0, 0, 0, 0, 1, 0, 0, 0, 0, 0, 0, 0, 0, 0, 0, 0, 0, 0, 1, 0, 0, 0]': 11,\n",
       " '[0, 0, 0, 0, 0, 0, 1, 0, 0, 0, 0, 0, 0, 0, 0, 0, 0, 1, 0, 0, 0, 0, 0, 0]': 94,\n",
       " '[0, 0, 0, 0, 0, 0, 1, 0, 0, 0, 0, 0, 0, 0, 0, 0, 1, 0, 0, 0, 0, 0, 0, 0]': 150,\n",
       " '[0, 0, 0, 0, 0, 0, 1, 0, 0, 0, 0, 0, 0, 0, 0, 0, 1, 0, 0, 0, 0, 0, 1, 0]': 20,\n",
       " '[0, 0, 0, 0, 0, 0, 1, 0, 0, 0, 0, 0, 0, 1, 0, 0, 0, 0, 0, 0, 0, 0, 0, 0]': 308,\n",
       " '[0, 0, 0, 0, 0, 0, 1, 0, 0, 0, 0, 0, 0, 1, 0, 0, 0, 0, 0, 0, 0, 1, 0, 0]': 1,\n",
       " '[0, 0, 0, 0, 0, 0, 1, 0, 0, 0, 0, 0, 1, 0, 0, 0, 0, 0, 0, 0, 0, 0, 0, 0]': 28,\n",
       " '[0, 0, 0, 0, 0, 0, 1, 0, 0, 0, 0, 1, 0, 0, 0, 0, 0, 0, 0, 0, 0, 0, 0, 0]': 183,\n",
       " '[0, 0, 0, 0, 0, 0, 1, 0, 1, 0, 0, 0, 0, 0, 0, 0, 0, 0, 0, 0, 0, 0, 0, 0]': 4,\n",
       " '[0, 0, 0, 0, 0, 0, 1, 0, 1, 0, 0, 0, 0, 0, 0, 0, 0, 1, 0, 0, 0, 0, 0, 0]': 26,\n",
       " '[0, 0, 0, 0, 0, 0, 1, 1, 0, 0, 0, 0, 0, 0, 0, 0, 0, 0, 0, 0, 0, 0, 0, 0]': 817,\n",
       " '[0, 0, 0, 0, 0, 0, 1, 1, 0, 0, 0, 0, 0, 0, 0, 0, 1, 0, 0, 0, 0, 0, 0, 0]': 4,\n",
       " '[0, 0, 0, 0, 0, 0, 1, 1, 0, 0, 0, 0, 0, 1, 0, 0, 0, 0, 0, 0, 0, 0, 0, 0]': 23,\n",
       " '[0, 0, 0, 0, 0, 1, 0, 0, 0, 0, 0, 0, 0, 0, 0, 0, 0, 0, 0, 0, 0, 0, 0, 0]': 951,\n",
       " '[0, 0, 0, 0, 0, 1, 0, 0, 0, 0, 0, 0, 0, 0, 0, 0, 0, 0, 0, 0, 0, 0, 1, 0]': 3,\n",
       " '[0, 0, 0, 0, 0, 1, 0, 0, 0, 0, 0, 0, 0, 0, 0, 0, 0, 0, 0, 0, 1, 0, 0, 0]': 33,\n",
       " '[0, 0, 0, 0, 0, 1, 0, 0, 0, 0, 0, 0, 0, 0, 0, 0, 0, 0, 1, 0, 0, 0, 0, 0]': 7,\n",
       " '[0, 0, 0, 0, 0, 1, 0, 0, 0, 0, 0, 0, 0, 0, 0, 0, 0, 1, 0, 0, 0, 0, 0, 0]': 23,\n",
       " '[0, 0, 0, 0, 0, 1, 0, 0, 0, 0, 0, 0, 0, 1, 0, 0, 0, 0, 0, 0, 0, 0, 0, 0]': 7,\n",
       " '[0, 0, 0, 0, 0, 1, 0, 0, 0, 0, 0, 0, 1, 0, 0, 0, 0, 0, 0, 0, 0, 0, 0, 0]': 95,\n",
       " '[0, 0, 0, 0, 0, 1, 0, 0, 0, 0, 0, 0, 1, 0, 0, 0, 0, 0, 0, 0, 0, 0, 1, 0]': 20,\n",
       " '[0, 0, 0, 0, 0, 1, 0, 0, 0, 0, 0, 0, 1, 0, 1, 0, 0, 0, 0, 0, 0, 0, 0, 0]': 12,\n",
       " '[0, 0, 0, 0, 0, 1, 0, 0, 0, 0, 0, 1, 0, 0, 0, 0, 0, 0, 0, 0, 0, 0, 0, 0]': 173,\n",
       " '[0, 0, 0, 0, 0, 1, 0, 0, 0, 0, 0, 1, 1, 0, 0, 0, 0, 0, 0, 0, 0, 0, 0, 0]': 2,\n",
       " '[0, 0, 0, 0, 0, 1, 0, 0, 0, 0, 1, 0, 0, 0, 0, 0, 0, 0, 0, 0, 0, 0, 0, 0]': 7,\n",
       " '[0, 0, 0, 0, 0, 1, 0, 0, 0, 1, 0, 0, 0, 0, 0, 0, 0, 0, 0, 0, 0, 0, 0, 0]': 9,\n",
       " '[0, 0, 0, 0, 0, 1, 0, 1, 0, 0, 0, 0, 0, 0, 0, 0, 0, 0, 0, 0, 0, 0, 0, 0]': 6,\n",
       " '[0, 0, 0, 0, 0, 1, 0, 1, 0, 0, 0, 0, 0, 0, 0, 0, 0, 1, 0, 0, 0, 0, 0, 0]': 10,\n",
       " '[0, 0, 0, 0, 0, 1, 1, 0, 0, 0, 0, 0, 0, 0, 0, 0, 0, 0, 0, 0, 0, 0, 0, 0]': 8,\n",
       " '[0, 0, 0, 0, 1, 0, 0, 0, 0, 0, 0, 0, 0, 0, 0, 0, 0, 0, 0, 0, 0, 0, 0, 0]': 7586,\n",
       " '[0, 0, 0, 0, 1, 0, 0, 0, 0, 0, 0, 0, 0, 0, 0, 0, 0, 0, 0, 0, 0, 0, 0, 1]': 658,\n",
       " '[0, 0, 0, 0, 1, 0, 0, 0, 0, 0, 0, 0, 0, 0, 0, 0, 0, 0, 0, 0, 1, 0, 0, 0]': 229,\n",
       " '[0, 0, 0, 0, 1, 0, 0, 0, 0, 0, 0, 0, 0, 0, 0, 0, 0, 0, 1, 0, 0, 0, 0, 0]': 185,\n",
       " '[0, 0, 0, 0, 1, 0, 0, 0, 0, 0, 0, 0, 0, 0, 0, 0, 0, 1, 0, 0, 0, 0, 0, 0]': 27,\n",
       " '[0, 0, 0, 0, 1, 0, 0, 0, 0, 0, 0, 0, 0, 0, 0, 0, 1, 0, 0, 0, 0, 0, 0, 0]': 16,\n",
       " '[0, 0, 0, 0, 1, 0, 0, 0, 0, 0, 0, 0, 0, 0, 0, 1, 0, 0, 0, 0, 0, 0, 0, 0]': 134,\n",
       " '[0, 0, 0, 0, 1, 0, 0, 0, 0, 0, 0, 0, 0, 1, 0, 0, 0, 0, 0, 0, 0, 0, 0, 0]': 92,\n",
       " '[0, 0, 0, 0, 1, 0, 0, 0, 0, 0, 0, 0, 1, 0, 0, 0, 0, 0, 0, 0, 0, 0, 0, 0]': 1198,\n",
       " '[0, 0, 0, 0, 1, 0, 0, 0, 0, 0, 0, 0, 1, 0, 0, 0, 0, 0, 0, 0, 0, 0, 0, 1]': 32,\n",
       " '[0, 0, 0, 0, 1, 0, 0, 0, 0, 0, 0, 1, 0, 0, 0, 0, 0, 0, 0, 0, 0, 0, 0, 0]': 1107,\n",
       " '[0, 0, 0, 0, 1, 0, 0, 0, 0, 0, 0, 1, 0, 0, 0, 0, 0, 0, 1, 0, 0, 0, 0, 0]': 7,\n",
       " '[0, 0, 0, 0, 1, 0, 0, 0, 0, 0, 0, 1, 1, 0, 0, 0, 0, 0, 0, 0, 0, 0, 0, 0]': 40,\n",
       " '[0, 0, 0, 0, 1, 0, 0, 0, 0, 0, 1, 0, 0, 0, 0, 0, 0, 0, 0, 0, 0, 0, 0, 0]': 122,\n",
       " '[0, 0, 0, 0, 1, 0, 0, 0, 1, 0, 0, 0, 0, 0, 0, 0, 0, 0, 0, 0, 0, 0, 0, 0]': 590,\n",
       " '[0, 0, 0, 0, 1, 0, 1, 0, 0, 0, 0, 0, 0, 0, 0, 0, 0, 0, 0, 0, 0, 0, 0, 0]': 14,\n",
       " '[0, 0, 0, 0, 1, 1, 0, 0, 0, 0, 0, 0, 0, 0, 0, 0, 0, 0, 0, 0, 0, 0, 0, 0]': 78,\n",
       " '[0, 0, 0, 0, 1, 1, 0, 0, 0, 0, 0, 0, 0, 0, 0, 0, 0, 1, 0, 0, 0, 0, 0, 0]': 11,\n",
       " '[0, 0, 0, 0, 1, 1, 0, 0, 0, 0, 0, 0, 1, 0, 0, 0, 0, 0, 0, 0, 0, 0, 0, 0]': 4,\n",
       " '[0, 0, 0, 1, 0, 0, 0, 0, 0, 0, 0, 0, 0, 0, 0, 0, 0, 0, 0, 0, 0, 0, 0, 0]': 2715,\n",
       " '[0, 0, 0, 1, 0, 0, 0, 0, 0, 0, 0, 0, 0, 0, 0, 0, 0, 0, 0, 0, 0, 0, 1, 0]': 7,\n",
       " '[0, 0, 0, 1, 0, 0, 0, 0, 0, 0, 0, 0, 0, 0, 0, 0, 0, 0, 0, 0, 1, 0, 0, 0]': 11,\n",
       " '[0, 0, 0, 1, 0, 0, 0, 0, 0, 0, 0, 0, 0, 0, 0, 0, 0, 0, 1, 0, 0, 0, 0, 0]': 9,\n",
       " '[0, 0, 0, 1, 0, 0, 0, 0, 0, 0, 0, 0, 0, 0, 1, 0, 0, 0, 0, 0, 0, 0, 0, 0]': 14,\n",
       " '[0, 0, 0, 1, 0, 0, 0, 0, 0, 0, 0, 0, 0, 1, 0, 0, 0, 0, 0, 0, 0, 0, 0, 0]': 50,\n",
       " '[0, 0, 0, 1, 0, 0, 0, 0, 0, 0, 0, 0, 1, 0, 0, 0, 0, 0, 0, 0, 0, 0, 0, 0]': 186,\n",
       " '[0, 0, 0, 1, 0, 0, 0, 0, 0, 0, 0, 1, 0, 0, 0, 0, 0, 0, 0, 0, 0, 0, 0, 0]': 152,\n",
       " '[0, 0, 0, 1, 0, 0, 0, 0, 0, 0, 1, 0, 0, 0, 0, 0, 0, 0, 0, 0, 0, 0, 0, 0]': 23,\n",
       " '[0, 0, 0, 1, 0, 0, 0, 0, 1, 0, 0, 0, 0, 0, 0, 0, 0, 0, 0, 0, 0, 0, 0, 0]': 45,\n",
       " '[0, 0, 0, 1, 0, 0, 1, 0, 0, 0, 0, 0, 0, 0, 0, 0, 0, 0, 0, 0, 0, 0, 0, 0]': 1,\n",
       " '[0, 0, 0, 1, 0, 1, 0, 0, 0, 0, 0, 0, 0, 0, 0, 0, 0, 0, 0, 0, 0, 0, 0, 0]': 88,\n",
       " '[0, 0, 0, 1, 1, 0, 0, 0, 0, 0, 0, 0, 0, 0, 0, 0, 0, 0, 0, 0, 0, 0, 0, 0]': 71,\n",
       " '[0, 0, 0, 1, 1, 0, 0, 0, 0, 0, 0, 1, 1, 0, 0, 0, 0, 0, 0, 0, 0, 0, 0, 0]': 8,\n",
       " '[0, 0, 1, 0, 0, 0, 0, 0, 0, 0, 0, 0, 1, 0, 0, 0, 0, 0, 0, 0, 0, 0, 0, 0]': 8,\n",
       " '[0, 1, 0, 0, 0, 0, 0, 0, 0, 0, 0, 0, 0, 0, 0, 0, 0, 0, 0, 0, 0, 0, 0, 0]': 280,\n",
       " '[0, 1, 0, 0, 0, 0, 0, 0, 0, 0, 0, 0, 0, 0, 0, 0, 0, 0, 0, 0, 0, 0, 0, 1]': 20,\n",
       " '[0, 1, 0, 0, 0, 0, 0, 0, 0, 0, 0, 0, 0, 1, 0, 0, 0, 0, 0, 0, 0, 0, 0, 0]': 29,\n",
       " '[0, 1, 0, 0, 0, 0, 0, 0, 0, 0, 0, 0, 1, 0, 0, 0, 0, 0, 0, 0, 0, 0, 0, 0]': 20,\n",
       " '[0, 1, 0, 0, 0, 0, 0, 0, 0, 0, 0, 0, 1, 0, 0, 0, 0, 0, 1, 0, 0, 0, 0, 0]': 15,\n",
       " '[0, 1, 0, 0, 0, 0, 0, 0, 0, 0, 0, 1, 0, 0, 0, 0, 0, 0, 0, 0, 0, 0, 0, 0]': 84,\n",
       " '[0, 1, 0, 0, 0, 1, 0, 0, 0, 0, 0, 0, 0, 0, 0, 0, 0, 0, 0, 0, 0, 0, 0, 0]': 158,\n",
       " '[0, 1, 0, 0, 0, 1, 0, 0, 0, 0, 0, 0, 0, 0, 1, 0, 0, 0, 0, 0, 0, 0, 0, 0]': 224,\n",
       " '[0, 1, 0, 0, 0, 1, 0, 0, 0, 0, 0, 1, 0, 0, 0, 0, 0, 0, 0, 0, 0, 0, 0, 0]': 27,\n",
       " '[0, 1, 0, 0, 1, 0, 0, 0, 0, 0, 0, 0, 0, 0, 0, 0, 0, 0, 0, 0, 0, 0, 0, 0]': 2,\n",
       " '[0, 1, 0, 0, 1, 0, 0, 0, 0, 0, 0, 0, 1, 0, 0, 0, 0, 0, 0, 0, 0, 0, 0, 0]': 7,\n",
       " '[0, 1, 0, 1, 0, 0, 0, 0, 0, 0, 0, 0, 0, 0, 0, 0, 0, 0, 0, 0, 0, 0, 0, 0]': 168,\n",
       " '[0, 1, 0, 1, 0, 0, 0, 0, 0, 0, 0, 0, 1, 0, 0, 0, 0, 0, 0, 0, 0, 0, 0, 0]': 7,\n",
       " '[1, 0, 0, 0, 0, 0, 0, 0, 0, 0, 0, 0, 0, 0, 0, 0, 0, 0, 0, 0, 0, 0, 0, 0]': 312,\n",
       " '[1, 0, 0, 0, 0, 0, 0, 0, 0, 0, 0, 0, 0, 0, 0, 0, 0, 0, 0, 0, 0, 0, 1, 0]': 4,\n",
       " '[1, 0, 0, 0, 0, 0, 0, 0, 0, 0, 0, 0, 0, 0, 0, 0, 0, 0, 0, 0, 0, 1, 0, 0]': 29,\n",
       " '[1, 0, 0, 0, 0, 0, 0, 0, 0, 0, 0, 0, 0, 0, 0, 0, 0, 0, 1, 0, 0, 0, 0, 0]': 6,\n",
       " '[1, 0, 0, 0, 0, 0, 0, 0, 0, 0, 0, 0, 0, 0, 0, 0, 0, 1, 0, 0, 0, 0, 0, 0]': 59,\n",
       " '[1, 0, 0, 0, 0, 0, 0, 0, 0, 0, 0, 0, 0, 1, 0, 0, 0, 0, 0, 0, 0, 0, 0, 0]': 29,\n",
       " '[1, 0, 0, 0, 0, 0, 0, 0, 0, 0, 0, 1, 0, 0, 0, 0, 0, 0, 0, 0, 0, 0, 0, 0]': 94,\n",
       " '[1, 0, 0, 0, 0, 0, 0, 1, 0, 0, 0, 0, 0, 0, 0, 0, 0, 0, 0, 0, 0, 0, 0, 0]': 27,\n",
       " '[1, 0, 0, 0, 0, 0, 1, 0, 0, 0, 0, 0, 0, 0, 0, 0, 0, 0, 0, 0, 0, 0, 0, 0]': 75,\n",
       " '[1, 0, 0, 0, 0, 0, 1, 1, 0, 0, 0, 0, 0, 0, 0, 0, 0, 0, 0, 0, 0, 0, 0, 0]': 8}"
      ]
     },
     "execution_count": 10,
     "metadata": {},
     "output_type": "execute_result"
    },
    {
     "name": "stdout",
     "output_type": "stream",
     "text": [
      "time: 11.6 ms (started: 2021-12-07 12:50:57 +00:00)\n"
     ]
    }
   ],
   "source": [
    "# Count unique label frequency.\n",
    "\n",
    "uniq_label_counts = Counter(uniq_labels_strs)\n",
    "uniq_label_counts\n",
    "sorted_uniq_label_counts = dict(sorted(uniq_label_counts.items()))\n",
    "sorted_uniq_label_counts"
   ]
  },
  {
   "cell_type": "code",
   "execution_count": 11,
   "metadata": {
    "scrolled": true
   },
   "outputs": [
    {
     "data": {
      "text/plain": [
       "38817"
      ]
     },
     "execution_count": 11,
     "metadata": {},
     "output_type": "execute_result"
    },
    {
     "name": "stdout",
     "output_type": "stream",
     "text": [
      "time: 2.68 ms (started: 2021-12-07 12:50:57 +00:00)\n"
     ]
    }
   ],
   "source": [
    "# Double check the total numbers.\n",
    "\n",
    "sum(sorted_uniq_label_counts.values())"
   ]
  },
  {
   "cell_type": "code",
   "execution_count": 12,
   "metadata": {},
   "outputs": [
    {
     "data": {
      "text/plain": [
       "[0, 0, 0, 0, 0, 0, 0, 0, 0, 0, 0, 0, 0, 0, 0, 0, 1, 0, 0, 0, 0, 0, 1, 0]"
      ]
     },
     "execution_count": 12,
     "metadata": {},
     "output_type": "execute_result"
    },
    {
     "name": "stdout",
     "output_type": "stream",
     "text": [
      "time: 3.36 ms (started: 2021-12-07 12:50:57 +00:00)\n"
     ]
    }
   ],
   "source": [
    "# Select one unique label.\n",
    "\n",
    "uniq_labels[10]"
   ]
  },
  {
   "cell_type": "code",
   "execution_count": 13,
   "metadata": {
    "scrolled": true
   },
   "outputs": [
    {
     "data": {
      "text/plain": [
       "[16, 22]"
      ]
     },
     "execution_count": 13,
     "metadata": {},
     "output_type": "execute_result"
    },
    {
     "name": "stdout",
     "output_type": "stream",
     "text": [
      "time: 3.89 ms (started: 2021-12-07 12:50:57 +00:00)\n"
     ]
    }
   ],
   "source": [
    "# Retrieve index where label value equals one.\n",
    "\n",
    "all_indices = [i for i,x in enumerate(uniq_labels[10]) if x == 1]\n",
    "all_indices"
   ]
  },
  {
   "cell_type": "code",
   "execution_count": 14,
   "metadata": {},
   "outputs": [
    {
     "data": {
      "text/plain": [
       "['amused', 'happy']"
      ]
     },
     "execution_count": 14,
     "metadata": {},
     "output_type": "execute_result"
    },
    {
     "name": "stdout",
     "output_type": "stream",
     "text": [
      "time: 5.33 ms (started: 2021-12-07 12:50:57 +00:00)\n"
     ]
    }
   ],
   "source": [
    "# Retrieve emotion words using indices.\n",
    "\n",
    "emotions = [LABELS[i] for i in all_indices]\n",
    "emotions"
   ]
  },
  {
   "cell_type": "markdown",
   "metadata": {},
   "source": [
    "### Count total number of labels with 1, 2, 3, and 4 emotions."
   ]
  },
  {
   "cell_type": "code",
   "execution_count": 15,
   "metadata": {},
   "outputs": [
    {
     "name": "stdout",
     "output_type": "stream",
     "text": [
      "158\n"
     ]
    },
    {
     "data": {
      "text/plain": [
       "[[7586, 'angry'],\n",
       " [2715, 'surprised'],\n",
       " [1930, 'sad'],\n",
       " [1702, 'upset'],\n",
       " [1646, 'sad', 'depressed'],\n",
       " [1440, 'sad', 'upset'],\n",
       " [1198, 'angry', 'upset'],\n",
       " [1107, 'angry', 'sad'],\n",
       " [1030, 'amused', 'happy'],\n",
       " [951, 'anxious'],\n",
       " [926, 'smitten', 'happy'],\n",
       " [918, 'disappointed'],\n",
       " [817, 'smitten', 'fluttered'],\n",
       " [790, 'sad', 'sympathetic'],\n",
       " [729, 'upset', 'depressed'],\n",
       " [658, 'angry', 'disgusted'],\n",
       " [590, 'angry', 'disappointed'],\n",
       " [562, 'disappointed', 'upset'],\n",
       " [523, 'upset', 'guilty'],\n",
       " [509, 'sympathetic'],\n",
       " [474, 'guilty'],\n",
       " [455, 'amused'],\n",
       " [427, 'affectionate'],\n",
       " [404, 'disappointed', 'sad'],\n",
       " [312, 'moved'],\n",
       " [308, 'smitten', 'sympathetic'],\n",
       " [300, 'smitten'],\n",
       " [280, 'sad', 'guilty'],\n",
       " [280, 'fearful'],\n",
       " [252, 'peaceful', 'happy'],\n",
       " [229, 'angry', 'jealous'],\n",
       " [224, 'fearful', 'anxious', 'passionate'],\n",
       " [207, 'disappointed', 'jealous'],\n",
       " [202, 'depressed'],\n",
       " [186, 'surprised', 'upset'],\n",
       " [185, 'sad', 'upset', 'depressed'],\n",
       " [185, 'happy'],\n",
       " [185, 'angry', 'guilty'],\n",
       " [183, 'smitten', 'sad'],\n",
       " [174, 'jealous'],\n",
       " [173, 'anxious', 'sad'],\n",
       " [168, 'fearful', 'surprised'],\n",
       " [160, 'fluttered'],\n",
       " [158, 'fearful', 'anxious'],\n",
       " [153, 'peaceful'],\n",
       " [152, 'surprised', 'sad'],\n",
       " [150, 'smitten', 'amused'],\n",
       " [149, 'fulfilled'],\n",
       " [146, 'sad', 'affectionate'],\n",
       " [134, 'angry', 'depressed'],\n",
       " [133, 'sympathetic', 'guilty'],\n",
       " [122, 'angry', 'ashamed'],\n",
       " [118, 'sympathetic', 'affectionate'],\n",
       " [117, 'disgusted'],\n",
       " [105, 'upset', 'sympathetic'],\n",
       " [95, 'anxious', 'upset'],\n",
       " [94, 'smitten', 'affectionate'],\n",
       " [94, 'moved', 'sad'],\n",
       " [92, 'angry', 'sympathetic'],\n",
       " [88, 'upset', 'jealous'],\n",
       " [88, 'surprised', 'anxious'],\n",
       " [84, 'fluttered', 'happy'],\n",
       " [84, 'fearful', 'sad'],\n",
       " [78, 'angry', 'anxious'],\n",
       " [75, 'moved', 'smitten'],\n",
       " [74, 'sad', 'sympathetic', 'affectionate'],\n",
       " [74, 'ashamed', 'sad'],\n",
       " [73, 'ashamed'],\n",
       " [71, 'surprised', 'angry'],\n",
       " [71, 'ashamed', 'upset'],\n",
       " [70, 'fluttered', 'amused'],\n",
       " [70, 'disappointed', 'depressed'],\n",
       " [67, 'fluttered', 'jealous'],\n",
       " [59, 'moved', 'affectionate'],\n",
       " [50, 'surprised', 'sympathetic'],\n",
       " [50, 'fulfilled', 'happy'],\n",
       " [45, 'surprised', 'disappointed'],\n",
       " [44, 'affectionate', 'happy'],\n",
       " [43, 'sad', 'upset', 'sympathetic'],\n",
       " [43, 'fluttered', 'sympathetic'],\n",
       " [40, 'angry', 'sad', 'upset'],\n",
       " [37, 'sad', 'peaceful'],\n",
       " [35, 'disappointed', 'sad', 'upset'],\n",
       " [33, 'anxious', 'jealous'],\n",
       " [32, 'angry', 'upset', 'disgusted'],\n",
       " [30, 'disappointed', 'affectionate'],\n",
       " [29, 'moved', 'sympathetic'],\n",
       " [29, 'moved', 'peaceful'],\n",
       " [29, 'fluttered', 'passionate'],\n",
       " [29, 'fearful', 'sympathetic'],\n",
       " [28, 'smitten', 'upset'],\n",
       " [28, 'passionate'],\n",
       " [27, 'moved', 'fluttered'],\n",
       " [27, 'fearful', 'anxious', 'sad'],\n",
       " [27, 'angry', 'affectionate'],\n",
       " [26, 'smitten', 'disappointed', 'affectionate'],\n",
       " [25, 'affectionate', 'guilty'],\n",
       " [23, 'surprised', 'ashamed'],\n",
       " [23, 'smitten', 'fluttered', 'sympathetic'],\n",
       " [23, 'disappointed', 'sad', 'disgusted'],\n",
       " [23, 'anxious', 'affectionate'],\n",
       " [20, 'smitten', 'amused', 'happy'],\n",
       " [20, 'fulfilled', 'passionate'],\n",
       " [20, 'fearful', 'upset'],\n",
       " [20, 'fearful', 'disgusted'],\n",
       " [20, 'anxious', 'upset', 'happy'],\n",
       " [18, 'sympathetic', 'amused'],\n",
       " [16, 'fluttered', 'affectionate'],\n",
       " [16, 'ashamed', 'guilty'],\n",
       " [16, 'angry', 'amused'],\n",
       " [15, 'fearful', 'upset', 'guilty'],\n",
       " [15, 'disappointed', 'passionate'],\n",
       " [14, 'surprised', 'passionate'],\n",
       " [14, 'disappointed', 'ashamed'],\n",
       " [14, 'angry', 'smitten'],\n",
       " [12, 'sad', 'sympathetic', 'guilty'],\n",
       " [12, 'anxious', 'upset', 'passionate'],\n",
       " [12, 'amused', 'affectionate'],\n",
       " [11, 'surprised', 'jealous'],\n",
       " [11, 'smitten', 'jealous'],\n",
       " [11, 'angry', 'anxious', 'affectionate'],\n",
       " [10, 'upset', 'affectionate'],\n",
       " [10, 'fluttered', 'fulfilled'],\n",
       " [10, 'anxious', 'fluttered', 'affectionate'],\n",
       " [9, 'surprised', 'guilty'],\n",
       " [9, 'passionate', 'happy'],\n",
       " [9, 'disappointed', 'amused'],\n",
       " [9, 'anxious', 'fulfilled'],\n",
       " [8, 'surprised', 'angry', 'sad', 'upset'],\n",
       " [8, 'moved', 'smitten', 'fluttered'],\n",
       " [8, 'bored', 'upset'],\n",
       " [8, 'anxious', 'smitten'],\n",
       " [7, 'surprised', 'happy'],\n",
       " [7, 'fluttered', 'ashamed'],\n",
       " [7, 'fearful', 'surprised', 'upset'],\n",
       " [7, 'fearful', 'angry', 'upset'],\n",
       " [7, 'anxious', 'sympathetic'],\n",
       " [7, 'anxious', 'guilty'],\n",
       " [7, 'anxious', 'ashamed'],\n",
       " [7, 'angry', 'sad', 'guilty'],\n",
       " [6, 'moved', 'guilty'],\n",
       " [6, 'anxious', 'fluttered'],\n",
       " [5, 'fulfilled', 'peaceful'],\n",
       " [4, 'upset', 'disgusted'],\n",
       " [4, 'smitten', 'fluttered', 'amused'],\n",
       " [4, 'smitten', 'disappointed'],\n",
       " [4, 'sad', 'disgusted'],\n",
       " [4, 'moved', 'happy'],\n",
       " [4, 'fluttered', 'upset'],\n",
       " [4, 'angry', 'anxious', 'upset'],\n",
       " [3, 'anxious', 'happy'],\n",
       " [3, 'amused', 'affectionate', 'happy'],\n",
       " [2, 'fearful', 'angry'],\n",
       " [2, 'anxious', 'sad', 'upset'],\n",
       " [2, 'amused', 'peaceful'],\n",
       " [1, 'surprised', 'smitten'],\n",
       " [1, 'smitten', 'sympathetic', 'peaceful'],\n",
       " [1, 'sad', 'jealous']]"
      ]
     },
     "execution_count": 15,
     "metadata": {},
     "output_type": "execute_result"
    },
    {
     "name": "stdout",
     "output_type": "stream",
     "text": [
      "time: 22.2 ms (started: 2021-12-07 12:50:57 +00:00)\n"
     ]
    }
   ],
   "source": [
    "count_n_labels = []\n",
    "count_1_emotion = []\n",
    "count_1_emotion_sum = 0\n",
    "count_2_emotion = []\n",
    "count_2_emotion_sum = 0\n",
    "count_3_emotion = []\n",
    "count_3_emotion_sum = 0\n",
    "count_4_emotion = []\n",
    "count_4_emotion_sum = 0\n",
    "count_multi_emotion = []\n",
    "count_multi_emotion_sum = 0\n",
    "for k, v in sorted_uniq_label_counts.items():\n",
    "    str_list = k[1:-1].split(', ')\n",
    "    label_list = [int(i) for i in str_list]\n",
    "    all_indices = [i for i,x in enumerate(label_list) if x == 1]\n",
    "    emotions = [LABELS[i] for i in all_indices]\n",
    "    count_n_labels.append([v] + emotions)\n",
    "    \n",
    "    if len(emotions) == 1:\n",
    "        count_1_emotion.append([v] + emotions)\n",
    "        count_1_emotion_sum += v\n",
    "    \n",
    "    if len(emotions) == 2:\n",
    "        count_2_emotion.append([v] + emotions)\n",
    "        count_2_emotion_sum += v\n",
    "\n",
    "    if len(emotions) == 3:\n",
    "        count_3_emotion.append([v] + emotions)\n",
    "        count_3_emotion_sum += v\n",
    "\n",
    "    if len(emotions) == 4:\n",
    "        count_4_emotion.append([v] + emotions)\n",
    "        count_4_emotion_sum += v\n",
    "        \n",
    "    if len(emotions) > 1:\n",
    "        count_multi_emotion.append([v] + emotions)\n",
    "        count_multi_emotion_sum += v    \n",
    "        \n",
    "count_n_labels.sort(reverse=True)\n",
    "print(len(count_n_labels))\n",
    "count_n_labels"
   ]
  },
  {
   "cell_type": "markdown",
   "metadata": {},
   "source": [
    "<b>1. Number of labels with one emotion only.</b>"
   ]
  },
  {
   "cell_type": "code",
   "execution_count": 16,
   "metadata": {},
   "outputs": [
    {
     "name": "stdout",
     "output_type": "stream",
     "text": [
      "--- 1 label total: 19800\n",
      "--- 1 label uniq: 22\n"
     ]
    },
    {
     "data": {
      "text/plain": [
       "[[7586, 'angry'],\n",
       " [2715, 'surprised'],\n",
       " [1930, 'sad'],\n",
       " [1702, 'upset'],\n",
       " [951, 'anxious'],\n",
       " [918, 'disappointed'],\n",
       " [509, 'sympathetic'],\n",
       " [474, 'guilty'],\n",
       " [455, 'amused'],\n",
       " [427, 'affectionate'],\n",
       " [312, 'moved'],\n",
       " [300, 'smitten'],\n",
       " [280, 'fearful'],\n",
       " [202, 'depressed'],\n",
       " [185, 'happy'],\n",
       " [174, 'jealous'],\n",
       " [160, 'fluttered'],\n",
       " [153, 'peaceful'],\n",
       " [149, 'fulfilled'],\n",
       " [117, 'disgusted'],\n",
       " [73, 'ashamed'],\n",
       " [28, 'passionate']]"
      ]
     },
     "execution_count": 16,
     "metadata": {},
     "output_type": "execute_result"
    },
    {
     "name": "stdout",
     "output_type": "stream",
     "text": [
      "time: 5.48 ms (started: 2021-12-07 12:50:57 +00:00)\n"
     ]
    }
   ],
   "source": [
    "count_1_emotion.sort(reverse=True)\n",
    "print(\"--- 1 label total:\", count_1_emotion_sum)\n",
    "print(\"--- 1 label uniq:\", len(count_1_emotion))\n",
    "count_1_emotion"
   ]
  },
  {
   "cell_type": "markdown",
   "metadata": {},
   "source": [
    "<b>2. Number of labels with two emotions.</b>"
   ]
  },
  {
   "cell_type": "code",
   "execution_count": 17,
   "metadata": {},
   "outputs": [
    {
     "name": "stdout",
     "output_type": "stream",
     "text": [
      "--- 2 labels total: 18134\n",
      "--- 2 labels uniq: 108\n"
     ]
    },
    {
     "data": {
      "text/plain": [
       "[[1646, 'sad', 'depressed'],\n",
       " [1440, 'sad', 'upset'],\n",
       " [1198, 'angry', 'upset'],\n",
       " [1107, 'angry', 'sad'],\n",
       " [1030, 'amused', 'happy'],\n",
       " [926, 'smitten', 'happy'],\n",
       " [817, 'smitten', 'fluttered'],\n",
       " [790, 'sad', 'sympathetic'],\n",
       " [729, 'upset', 'depressed'],\n",
       " [658, 'angry', 'disgusted'],\n",
       " [590, 'angry', 'disappointed'],\n",
       " [562, 'disappointed', 'upset'],\n",
       " [523, 'upset', 'guilty'],\n",
       " [404, 'disappointed', 'sad'],\n",
       " [308, 'smitten', 'sympathetic'],\n",
       " [280, 'sad', 'guilty'],\n",
       " [252, 'peaceful', 'happy'],\n",
       " [229, 'angry', 'jealous'],\n",
       " [207, 'disappointed', 'jealous'],\n",
       " [186, 'surprised', 'upset'],\n",
       " [185, 'angry', 'guilty'],\n",
       " [183, 'smitten', 'sad'],\n",
       " [173, 'anxious', 'sad'],\n",
       " [168, 'fearful', 'surprised'],\n",
       " [158, 'fearful', 'anxious'],\n",
       " [152, 'surprised', 'sad'],\n",
       " [150, 'smitten', 'amused'],\n",
       " [146, 'sad', 'affectionate'],\n",
       " [134, 'angry', 'depressed'],\n",
       " [133, 'sympathetic', 'guilty'],\n",
       " [122, 'angry', 'ashamed'],\n",
       " [118, 'sympathetic', 'affectionate'],\n",
       " [105, 'upset', 'sympathetic'],\n",
       " [95, 'anxious', 'upset'],\n",
       " [94, 'smitten', 'affectionate'],\n",
       " [94, 'moved', 'sad'],\n",
       " [92, 'angry', 'sympathetic'],\n",
       " [88, 'upset', 'jealous'],\n",
       " [88, 'surprised', 'anxious'],\n",
       " [84, 'fluttered', 'happy'],\n",
       " [84, 'fearful', 'sad'],\n",
       " [78, 'angry', 'anxious'],\n",
       " [75, 'moved', 'smitten'],\n",
       " [74, 'ashamed', 'sad'],\n",
       " [71, 'surprised', 'angry'],\n",
       " [71, 'ashamed', 'upset'],\n",
       " [70, 'fluttered', 'amused'],\n",
       " [70, 'disappointed', 'depressed'],\n",
       " [67, 'fluttered', 'jealous'],\n",
       " [59, 'moved', 'affectionate'],\n",
       " [50, 'surprised', 'sympathetic'],\n",
       " [50, 'fulfilled', 'happy'],\n",
       " [45, 'surprised', 'disappointed'],\n",
       " [44, 'affectionate', 'happy'],\n",
       " [43, 'fluttered', 'sympathetic'],\n",
       " [37, 'sad', 'peaceful'],\n",
       " [33, 'anxious', 'jealous'],\n",
       " [30, 'disappointed', 'affectionate'],\n",
       " [29, 'moved', 'sympathetic'],\n",
       " [29, 'moved', 'peaceful'],\n",
       " [29, 'fluttered', 'passionate'],\n",
       " [29, 'fearful', 'sympathetic'],\n",
       " [28, 'smitten', 'upset'],\n",
       " [27, 'moved', 'fluttered'],\n",
       " [27, 'angry', 'affectionate'],\n",
       " [25, 'affectionate', 'guilty'],\n",
       " [23, 'surprised', 'ashamed'],\n",
       " [23, 'anxious', 'affectionate'],\n",
       " [20, 'fulfilled', 'passionate'],\n",
       " [20, 'fearful', 'upset'],\n",
       " [20, 'fearful', 'disgusted'],\n",
       " [18, 'sympathetic', 'amused'],\n",
       " [16, 'fluttered', 'affectionate'],\n",
       " [16, 'ashamed', 'guilty'],\n",
       " [16, 'angry', 'amused'],\n",
       " [15, 'disappointed', 'passionate'],\n",
       " [14, 'surprised', 'passionate'],\n",
       " [14, 'disappointed', 'ashamed'],\n",
       " [14, 'angry', 'smitten'],\n",
       " [12, 'amused', 'affectionate'],\n",
       " [11, 'surprised', 'jealous'],\n",
       " [11, 'smitten', 'jealous'],\n",
       " [10, 'upset', 'affectionate'],\n",
       " [10, 'fluttered', 'fulfilled'],\n",
       " [9, 'surprised', 'guilty'],\n",
       " [9, 'passionate', 'happy'],\n",
       " [9, 'disappointed', 'amused'],\n",
       " [9, 'anxious', 'fulfilled'],\n",
       " [8, 'bored', 'upset'],\n",
       " [8, 'anxious', 'smitten'],\n",
       " [7, 'surprised', 'happy'],\n",
       " [7, 'fluttered', 'ashamed'],\n",
       " [7, 'anxious', 'sympathetic'],\n",
       " [7, 'anxious', 'guilty'],\n",
       " [7, 'anxious', 'ashamed'],\n",
       " [6, 'moved', 'guilty'],\n",
       " [6, 'anxious', 'fluttered'],\n",
       " [5, 'fulfilled', 'peaceful'],\n",
       " [4, 'upset', 'disgusted'],\n",
       " [4, 'smitten', 'disappointed'],\n",
       " [4, 'sad', 'disgusted'],\n",
       " [4, 'moved', 'happy'],\n",
       " [4, 'fluttered', 'upset'],\n",
       " [3, 'anxious', 'happy'],\n",
       " [2, 'fearful', 'angry'],\n",
       " [2, 'amused', 'peaceful'],\n",
       " [1, 'surprised', 'smitten'],\n",
       " [1, 'sad', 'jealous']]"
      ]
     },
     "execution_count": 17,
     "metadata": {},
     "output_type": "execute_result"
    },
    {
     "name": "stdout",
     "output_type": "stream",
     "text": [
      "time: 13.6 ms (started: 2021-12-07 12:50:57 +00:00)\n"
     ]
    }
   ],
   "source": [
    "count_2_emotion.sort(reverse=True)\n",
    "print(\"--- 2 labels total:\", count_2_emotion_sum)\n",
    "print(\"--- 2 labels uniq:\", len(count_2_emotion))\n",
    "count_2_emotion"
   ]
  },
  {
   "cell_type": "markdown",
   "metadata": {},
   "source": [
    "<b>3. Number of labels with three emotions.</b>"
   ]
  },
  {
   "cell_type": "code",
   "execution_count": 18,
   "metadata": {},
   "outputs": [
    {
     "name": "stdout",
     "output_type": "stream",
     "text": [
      "--- 3 labels total: 875\n",
      "--- 3 labels uniq: 27\n"
     ]
    },
    {
     "data": {
      "text/plain": [
       "[[224, 'fearful', 'anxious', 'passionate'],\n",
       " [185, 'sad', 'upset', 'depressed'],\n",
       " [74, 'sad', 'sympathetic', 'affectionate'],\n",
       " [43, 'sad', 'upset', 'sympathetic'],\n",
       " [40, 'angry', 'sad', 'upset'],\n",
       " [35, 'disappointed', 'sad', 'upset'],\n",
       " [32, 'angry', 'upset', 'disgusted'],\n",
       " [27, 'fearful', 'anxious', 'sad'],\n",
       " [26, 'smitten', 'disappointed', 'affectionate'],\n",
       " [23, 'smitten', 'fluttered', 'sympathetic'],\n",
       " [23, 'disappointed', 'sad', 'disgusted'],\n",
       " [20, 'smitten', 'amused', 'happy'],\n",
       " [20, 'anxious', 'upset', 'happy'],\n",
       " [15, 'fearful', 'upset', 'guilty'],\n",
       " [12, 'sad', 'sympathetic', 'guilty'],\n",
       " [12, 'anxious', 'upset', 'passionate'],\n",
       " [11, 'angry', 'anxious', 'affectionate'],\n",
       " [10, 'anxious', 'fluttered', 'affectionate'],\n",
       " [8, 'moved', 'smitten', 'fluttered'],\n",
       " [7, 'fearful', 'surprised', 'upset'],\n",
       " [7, 'fearful', 'angry', 'upset'],\n",
       " [7, 'angry', 'sad', 'guilty'],\n",
       " [4, 'smitten', 'fluttered', 'amused'],\n",
       " [4, 'angry', 'anxious', 'upset'],\n",
       " [3, 'amused', 'affectionate', 'happy'],\n",
       " [2, 'anxious', 'sad', 'upset'],\n",
       " [1, 'smitten', 'sympathetic', 'peaceful']]"
      ]
     },
     "execution_count": 18,
     "metadata": {},
     "output_type": "execute_result"
    },
    {
     "name": "stdout",
     "output_type": "stream",
     "text": [
      "time: 6.82 ms (started: 2021-12-07 12:50:57 +00:00)\n"
     ]
    }
   ],
   "source": [
    "count_3_emotion.sort(reverse=True)\n",
    "print(\"--- 3 labels total:\", count_3_emotion_sum)\n",
    "print(\"--- 3 labels uniq:\", len(count_3_emotion))\n",
    "count_3_emotion"
   ]
  },
  {
   "cell_type": "markdown",
   "metadata": {},
   "source": [
    "<b>4. Number of labels with four emotions.</b>"
   ]
  },
  {
   "cell_type": "code",
   "execution_count": 19,
   "metadata": {},
   "outputs": [
    {
     "name": "stdout",
     "output_type": "stream",
     "text": [
      "--- 4 labels total: 8\n",
      "--- 4 labels uniq: 1\n"
     ]
    },
    {
     "data": {
      "text/plain": [
       "[[8, 'surprised', 'angry', 'sad', 'upset']]"
      ]
     },
     "execution_count": 19,
     "metadata": {},
     "output_type": "execute_result"
    },
    {
     "name": "stdout",
     "output_type": "stream",
     "text": [
      "time: 4.25 ms (started: 2021-12-07 12:50:57 +00:00)\n"
     ]
    }
   ],
   "source": [
    "count_4_emotion.sort(reverse=True)\n",
    "print(\"--- 4 labels total:\", count_4_emotion_sum)\n",
    "print(\"--- 4 labels uniq:\", len(count_4_emotion))\n",
    "count_4_emotion"
   ]
  },
  {
   "cell_type": "code",
   "execution_count": 20,
   "metadata": {},
   "outputs": [
    {
     "name": "stdout",
     "output_type": "stream",
     "text": [
      "--- Multi-label total: 19017\n",
      "--- Multi-label uniq: 136\n"
     ]
    },
    {
     "data": {
      "text/plain": [
       "[[1646, 'sad', 'depressed'],\n",
       " [1440, 'sad', 'upset'],\n",
       " [1198, 'angry', 'upset'],\n",
       " [1107, 'angry', 'sad'],\n",
       " [1030, 'amused', 'happy'],\n",
       " [926, 'smitten', 'happy'],\n",
       " [817, 'smitten', 'fluttered'],\n",
       " [790, 'sad', 'sympathetic'],\n",
       " [729, 'upset', 'depressed'],\n",
       " [658, 'angry', 'disgusted'],\n",
       " [590, 'angry', 'disappointed'],\n",
       " [562, 'disappointed', 'upset'],\n",
       " [523, 'upset', 'guilty'],\n",
       " [404, 'disappointed', 'sad'],\n",
       " [308, 'smitten', 'sympathetic'],\n",
       " [280, 'sad', 'guilty'],\n",
       " [252, 'peaceful', 'happy'],\n",
       " [229, 'angry', 'jealous'],\n",
       " [224, 'fearful', 'anxious', 'passionate'],\n",
       " [207, 'disappointed', 'jealous'],\n",
       " [186, 'surprised', 'upset'],\n",
       " [185, 'sad', 'upset', 'depressed'],\n",
       " [185, 'angry', 'guilty'],\n",
       " [183, 'smitten', 'sad'],\n",
       " [173, 'anxious', 'sad'],\n",
       " [168, 'fearful', 'surprised'],\n",
       " [158, 'fearful', 'anxious'],\n",
       " [152, 'surprised', 'sad'],\n",
       " [150, 'smitten', 'amused'],\n",
       " [146, 'sad', 'affectionate'],\n",
       " [134, 'angry', 'depressed'],\n",
       " [133, 'sympathetic', 'guilty'],\n",
       " [122, 'angry', 'ashamed'],\n",
       " [118, 'sympathetic', 'affectionate'],\n",
       " [105, 'upset', 'sympathetic'],\n",
       " [95, 'anxious', 'upset'],\n",
       " [94, 'smitten', 'affectionate'],\n",
       " [94, 'moved', 'sad'],\n",
       " [92, 'angry', 'sympathetic'],\n",
       " [88, 'upset', 'jealous'],\n",
       " [88, 'surprised', 'anxious'],\n",
       " [84, 'fluttered', 'happy'],\n",
       " [84, 'fearful', 'sad'],\n",
       " [78, 'angry', 'anxious'],\n",
       " [75, 'moved', 'smitten'],\n",
       " [74, 'sad', 'sympathetic', 'affectionate'],\n",
       " [74, 'ashamed', 'sad'],\n",
       " [71, 'surprised', 'angry'],\n",
       " [71, 'ashamed', 'upset'],\n",
       " [70, 'fluttered', 'amused'],\n",
       " [70, 'disappointed', 'depressed'],\n",
       " [67, 'fluttered', 'jealous'],\n",
       " [59, 'moved', 'affectionate'],\n",
       " [50, 'surprised', 'sympathetic'],\n",
       " [50, 'fulfilled', 'happy'],\n",
       " [45, 'surprised', 'disappointed'],\n",
       " [44, 'affectionate', 'happy'],\n",
       " [43, 'sad', 'upset', 'sympathetic'],\n",
       " [43, 'fluttered', 'sympathetic'],\n",
       " [40, 'angry', 'sad', 'upset'],\n",
       " [37, 'sad', 'peaceful'],\n",
       " [35, 'disappointed', 'sad', 'upset'],\n",
       " [33, 'anxious', 'jealous'],\n",
       " [32, 'angry', 'upset', 'disgusted'],\n",
       " [30, 'disappointed', 'affectionate'],\n",
       " [29, 'moved', 'sympathetic'],\n",
       " [29, 'moved', 'peaceful'],\n",
       " [29, 'fluttered', 'passionate'],\n",
       " [29, 'fearful', 'sympathetic'],\n",
       " [28, 'smitten', 'upset'],\n",
       " [27, 'moved', 'fluttered'],\n",
       " [27, 'fearful', 'anxious', 'sad'],\n",
       " [27, 'angry', 'affectionate'],\n",
       " [26, 'smitten', 'disappointed', 'affectionate'],\n",
       " [25, 'affectionate', 'guilty'],\n",
       " [23, 'surprised', 'ashamed'],\n",
       " [23, 'smitten', 'fluttered', 'sympathetic'],\n",
       " [23, 'disappointed', 'sad', 'disgusted'],\n",
       " [23, 'anxious', 'affectionate'],\n",
       " [20, 'smitten', 'amused', 'happy'],\n",
       " [20, 'fulfilled', 'passionate'],\n",
       " [20, 'fearful', 'upset'],\n",
       " [20, 'fearful', 'disgusted'],\n",
       " [20, 'anxious', 'upset', 'happy'],\n",
       " [18, 'sympathetic', 'amused'],\n",
       " [16, 'fluttered', 'affectionate'],\n",
       " [16, 'ashamed', 'guilty'],\n",
       " [16, 'angry', 'amused'],\n",
       " [15, 'fearful', 'upset', 'guilty'],\n",
       " [15, 'disappointed', 'passionate'],\n",
       " [14, 'surprised', 'passionate'],\n",
       " [14, 'disappointed', 'ashamed'],\n",
       " [14, 'angry', 'smitten'],\n",
       " [12, 'sad', 'sympathetic', 'guilty'],\n",
       " [12, 'anxious', 'upset', 'passionate'],\n",
       " [12, 'amused', 'affectionate'],\n",
       " [11, 'surprised', 'jealous'],\n",
       " [11, 'smitten', 'jealous'],\n",
       " [11, 'angry', 'anxious', 'affectionate'],\n",
       " [10, 'upset', 'affectionate'],\n",
       " [10, 'fluttered', 'fulfilled'],\n",
       " [10, 'anxious', 'fluttered', 'affectionate'],\n",
       " [9, 'surprised', 'guilty'],\n",
       " [9, 'passionate', 'happy'],\n",
       " [9, 'disappointed', 'amused'],\n",
       " [9, 'anxious', 'fulfilled'],\n",
       " [8, 'surprised', 'angry', 'sad', 'upset'],\n",
       " [8, 'moved', 'smitten', 'fluttered'],\n",
       " [8, 'bored', 'upset'],\n",
       " [8, 'anxious', 'smitten'],\n",
       " [7, 'surprised', 'happy'],\n",
       " [7, 'fluttered', 'ashamed'],\n",
       " [7, 'fearful', 'surprised', 'upset'],\n",
       " [7, 'fearful', 'angry', 'upset'],\n",
       " [7, 'anxious', 'sympathetic'],\n",
       " [7, 'anxious', 'guilty'],\n",
       " [7, 'anxious', 'ashamed'],\n",
       " [7, 'angry', 'sad', 'guilty'],\n",
       " [6, 'moved', 'guilty'],\n",
       " [6, 'anxious', 'fluttered'],\n",
       " [5, 'fulfilled', 'peaceful'],\n",
       " [4, 'upset', 'disgusted'],\n",
       " [4, 'smitten', 'fluttered', 'amused'],\n",
       " [4, 'smitten', 'disappointed'],\n",
       " [4, 'sad', 'disgusted'],\n",
       " [4, 'moved', 'happy'],\n",
       " [4, 'fluttered', 'upset'],\n",
       " [4, 'angry', 'anxious', 'upset'],\n",
       " [3, 'anxious', 'happy'],\n",
       " [3, 'amused', 'affectionate', 'happy'],\n",
       " [2, 'fearful', 'angry'],\n",
       " [2, 'anxious', 'sad', 'upset'],\n",
       " [2, 'amused', 'peaceful'],\n",
       " [1, 'surprised', 'smitten'],\n",
       " [1, 'smitten', 'sympathetic', 'peaceful'],\n",
       " [1, 'sad', 'jealous']]"
      ]
     },
     "execution_count": 20,
     "metadata": {},
     "output_type": "execute_result"
    },
    {
     "name": "stdout",
     "output_type": "stream",
     "text": [
      "time: 18.8 ms (started: 2021-12-07 12:50:57 +00:00)\n"
     ]
    }
   ],
   "source": [
    "count_multi_emotion.sort(reverse=True)\n",
    "print(\"--- Multi-label total:\", count_multi_emotion_sum)\n",
    "print(\"--- Multi-label uniq:\", len(count_multi_emotion))\n",
    "count_multi_emotion"
   ]
  },
  {
   "cell_type": "code",
   "execution_count": 21,
   "metadata": {},
   "outputs": [
    {
     "data": {
      "text/plain": [
       "38817"
      ]
     },
     "execution_count": 21,
     "metadata": {},
     "output_type": "execute_result"
    },
    {
     "name": "stdout",
     "output_type": "stream",
     "text": [
      "time: 2.56 ms (started: 2021-12-07 12:50:57 +00:00)\n"
     ]
    }
   ],
   "source": [
    "# Double check total count.\n",
    "\n",
    "total_count = count_1_emotion_sum + count_2_emotion_sum + count_3_emotion_sum + count_4_emotion_sum\n",
    "total_count"
   ]
  },
  {
   "cell_type": "code",
   "execution_count": 22,
   "metadata": {},
   "outputs": [
    {
     "data": {
      "text/plain": [
       "158"
      ]
     },
     "execution_count": 22,
     "metadata": {},
     "output_type": "execute_result"
    },
    {
     "name": "stdout",
     "output_type": "stream",
     "text": [
      "time: 2.91 ms (started: 2021-12-07 12:50:57 +00:00)\n"
     ]
    }
   ],
   "source": [
    "# Double check unique emotion labels.\n",
    "\n",
    "total_uniq_emotion = len(count_1_emotion) + len(count_2_emotion) + len(count_3_emotion) + len(count_4_emotion)\n",
    "total_uniq_emotion"
   ]
  },
  {
   "cell_type": "code",
   "execution_count": null,
   "metadata": {},
   "outputs": [],
   "source": []
  }
 ],
 "metadata": {
  "kernelspec": {
   "display_name": "Python 3",
   "language": "python",
   "name": "python3"
  },
  "language_info": {
   "codemirror_mode": {
    "name": "ipython",
    "version": 3
   },
   "file_extension": ".py",
   "mimetype": "text/x-python",
   "name": "python",
   "nbconvert_exporter": "python",
   "pygments_lexer": "ipython3",
   "version": "3.6.9"
  }
 },
 "nbformat": 4,
 "nbformat_minor": 2
}
