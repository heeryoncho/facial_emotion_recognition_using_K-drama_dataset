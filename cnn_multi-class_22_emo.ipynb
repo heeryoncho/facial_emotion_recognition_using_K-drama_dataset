{
 "cells": [
  {
   "cell_type": "markdown",
   "metadata": {},
   "source": [
    "This notebook contains the code used in the BigComp 2022 paper: <br>\n",
    "<b>Heeryon Cho, Woo-Kyu Kang, Younsoo Park, Sungeu Chae, and Seong-joon Kim, \"Multi-label Facial Emotion Recognition Using Korean Drama Movie Clips,\" BigComp 2022.</b>\n",
    "### Convolutional Neural Network (CNN) /  Classify 22 Emotions"
   ]
  },
  {
   "cell_type": "code",
   "execution_count": 1,
   "metadata": {},
   "outputs": [],
   "source": [
    "import tensorflow as tf\n",
    "from tensorflow import keras\n",
    "import matplotlib.pyplot as plt\n",
    "import numpy as np\n",
    "import pandas as pd\n",
    "import random as rn\n",
    "import os"
   ]
  },
  {
   "cell_type": "code",
   "execution_count": 2,
   "metadata": {},
   "outputs": [],
   "source": [
    "import warnings\n",
    "import logging\n",
    "logging.getLogger('tensorflow').disabled = True\n",
    "warnings.filterwarnings(\"ignore\")\n",
    "os.environ['TF_CPP_MIN_LOG_LEVEL'] = '3'"
   ]
  },
  {
   "cell_type": "code",
   "execution_count": 3,
   "metadata": {},
   "outputs": [
    {
     "name": "stdout",
     "output_type": "stream",
     "text": [
      "time: 519 µs (started: 2021-12-07 04:59:16 +00:00)\n"
     ]
    }
   ],
   "source": [
    "# Record cell run time.\n",
    "#!pip install ipython-autotime\n",
    "\n",
    "%load_ext autotime"
   ]
  },
  {
   "cell_type": "code",
   "execution_count": 4,
   "metadata": {},
   "outputs": [
    {
     "name": "stdout",
     "output_type": "stream",
     "text": [
      "time: 2.07 ms (started: 2021-12-07 04:59:16 +00:00)\n"
     ]
    }
   ],
   "source": [
    "# Set seed for reproducibility.\n",
    "\n",
    "set_seed = 46\n",
    "np.random.seed(set_seed)\n",
    "rn.seed(set_seed)\n",
    "tf.random.set_seed(set_seed)"
   ]
  },
  {
   "cell_type": "markdown",
   "metadata": {},
   "source": [
    "### Load label data."
   ]
  },
  {
   "cell_type": "code",
   "execution_count": 5,
   "metadata": {},
   "outputs": [
    {
     "name": "stdout",
     "output_type": "stream",
     "text": [
      "Index(['img_id', 'clip_id', 'moved', 'fearful', 'surprised', 'angry',\n",
      "       'anxious', 'smitten', 'fluttered', 'disappointed', 'fulfilled',\n",
      "       'ashamed', 'sad', 'upset', 'sympathetic', 'passionate', 'depressed',\n",
      "       'amused', 'affectionate', 'guilty', 'jealous', 'peaceful', 'happy',\n",
      "       'disgusted'],\n",
      "      dtype='object')\n",
      "(19800, 24)\n",
      "LABELS= ['moved', 'fearful', 'surprised', 'angry', 'anxious', 'smitten', 'fluttered', 'disappointed', 'fulfilled', 'ashamed', 'sad', 'upset', 'sympathetic', 'passionate', 'depressed', 'amused', 'affectionate', 'guilty', 'jealous', 'peaceful', 'happy', 'disgusted']\n",
      "All classes: 22\n",
      "TRAIN_DATA_SIZE: 15840\n",
      "VALID_DATA_SIZE: 1980\n",
      "TEST_DATA_SIZE: 1980\n",
      "time: 90.8 ms (started: 2021-12-07 04:59:16 +00:00)\n"
     ]
    }
   ],
   "source": [
    "# Load labels, check headers, check data shape.\n",
    "\n",
    "df_label = pd.read_csv('label/label_22_emo.csv')\n",
    "print(df_label.columns)\n",
    "print(df_label.shape)\n",
    "\n",
    "LABELS = list(df_label.columns[2:])\n",
    "print(\"LABELS=\", LABELS)\n",
    "print(\"All classes:\", len(LABELS))\n",
    "\n",
    "label_valid = pd.read_csv('label/label_22_emo_valid.csv')\n",
    "label_train = pd.read_csv('label/label_22_emo_train.csv')\n",
    "label_test = pd.read_csv('label/label_22_emo_test.csv')\n",
    "\n",
    "VALID_DATA_SIZE = label_valid.shape[0]\n",
    "TRAIN_DATA_SIZE = label_train.shape[0]\n",
    "TEST_DATA_SIZE = label_test.shape[0]\n",
    "\n",
    "print(\"TRAIN_DATA_SIZE:\", label_train.shape[0])\n",
    "print(\"VALID_DATA_SIZE:\", label_valid.shape[0])\n",
    "print(\"TEST_DATA_SIZE:\", label_test.shape[0])"
   ]
  },
  {
   "cell_type": "markdown",
   "metadata": {},
   "source": [
    "### Calculate class weights."
   ]
  },
  {
   "cell_type": "code",
   "execution_count": 6,
   "metadata": {},
   "outputs": [
    {
     "data": {
      "text/plain": [
       "15840"
      ]
     },
     "execution_count": 6,
     "metadata": {},
     "output_type": "execute_result"
    },
    {
     "name": "stdout",
     "output_type": "stream",
     "text": [
      "time: 3.24 s (started: 2021-12-07 04:59:16 +00:00)\n"
     ]
    }
   ],
   "source": [
    "dict_label_train = {}\n",
    "for idx, row in label_train.iterrows():\n",
    "    dict_label_train[row['img_id']] = list(row['moved':'disgusted'].values)\n",
    "len(dict_label_train)"
   ]
  },
  {
   "cell_type": "code",
   "execution_count": 7,
   "metadata": {},
   "outputs": [
    {
     "name": "stdout",
     "output_type": "stream",
     "text": [
      "time: 633 µs (started: 2021-12-07 04:59:19 +00:00)\n"
     ]
    }
   ],
   "source": [
    "y_train_ls = list(dict_label_train.values())\n",
    "#y_train_ls"
   ]
  },
  {
   "cell_type": "code",
   "execution_count": 8,
   "metadata": {},
   "outputs": [
    {
     "name": "stdout",
     "output_type": "stream",
     "text": [
      "time: 22.2 ms (started: 2021-12-07 04:59:19 +00:00)\n"
     ]
    }
   ],
   "source": [
    "y_train_ints = [y.index(1) for y in y_train_ls]\n",
    "#y_train_ints"
   ]
  },
  {
   "cell_type": "code",
   "execution_count": 9,
   "metadata": {},
   "outputs": [
    {
     "data": {
      "text/plain": [
       "{0: 2.88,\n",
       " 1: 3.2142857142857144,\n",
       " 2: 0.3314917127071823,\n",
       " 3: 0.11865524060646011,\n",
       " 4: 0.9461235216819974,\n",
       " 5: 3.0,\n",
       " 6: 5.625,\n",
       " 7: 0.9809264305177112,\n",
       " 8: 6.050420168067227,\n",
       " 9: 12.203389830508474,\n",
       " 10: 0.46632124352331605,\n",
       " 11: 0.5286343612334802,\n",
       " 12: 1.769041769041769,\n",
       " 13: 32.72727272727273,\n",
       " 14: 4.444444444444445,\n",
       " 15: 1.978021978021978,\n",
       " 16: 2.1114369501466275,\n",
       " 17: 1.894736842105263,\n",
       " 18: 5.142857142857143,\n",
       " 19: 5.853658536585366,\n",
       " 20: 4.8979591836734695,\n",
       " 21: 7.741935483870968}"
      ]
     },
     "execution_count": 9,
     "metadata": {},
     "output_type": "execute_result"
    },
    {
     "name": "stdout",
     "output_type": "stream",
     "text": [
      "time: 365 ms (started: 2021-12-07 04:59:19 +00:00)\n"
     ]
    }
   ],
   "source": [
    "from sklearn.utils import class_weight\n",
    "\n",
    "class_weights = class_weight.compute_class_weight('balanced',\n",
    "                                                  np.unique(y_train_ints),\n",
    "                                                  y_train_ints)\n",
    "class_weight_dict = dict(enumerate(class_weights))\n",
    "class_weight_dict"
   ]
  },
  {
   "cell_type": "code",
   "execution_count": 10,
   "metadata": {},
   "outputs": [
    {
     "data": {
      "text/plain": [
       "array([ 2.88      ,  3.21428571,  0.33149171,  0.11865524,  0.94612352,\n",
       "        3.        ,  5.625     ,  0.98092643,  6.05042017, 12.20338983,\n",
       "        0.46632124,  0.52863436,  1.76904177, 32.72727273,  4.44444444,\n",
       "        1.97802198,  2.11143695,  1.89473684,  5.14285714,  5.85365854,\n",
       "        4.89795918,  7.74193548])"
      ]
     },
     "execution_count": 10,
     "metadata": {},
     "output_type": "execute_result"
    },
    {
     "name": "stdout",
     "output_type": "stream",
     "text": [
      "time: 2.66 ms (started: 2021-12-07 04:59:19 +00:00)\n"
     ]
    }
   ],
   "source": [
    "class_weights"
   ]
  },
  {
   "cell_type": "code",
   "execution_count": 11,
   "metadata": {},
   "outputs": [
    {
     "name": "stdout",
     "output_type": "stream",
     "text": [
      "time: 5.16 ms (started: 2021-12-07 04:59:19 +00:00)\n"
     ]
    }
   ],
   "source": [
    "n_samples = len(dict_label_train)\n",
    "n_classes = len(set(y_train_ints))"
   ]
  },
  {
   "cell_type": "code",
   "execution_count": 12,
   "metadata": {},
   "outputs": [
    {
     "data": {
      "text/plain": [
       "array([0.39272727, 0.43831169, 0.04520342, 0.01618026, 0.12901684,\n",
       "       0.40909091, 0.76704545, 0.1337627 , 0.8250573 , 1.66409861,\n",
       "       0.06358926, 0.0720865 , 0.24123297, 4.46280992, 0.60606061,\n",
       "       0.26973027, 0.28792322, 0.25837321, 0.7012987 , 0.79822616,\n",
       "       0.66790353, 1.05571848])"
      ]
     },
     "execution_count": 12,
     "metadata": {},
     "output_type": "execute_result"
    },
    {
     "name": "stdout",
     "output_type": "stream",
     "text": [
      "time: 4.9 ms (started: 2021-12-07 04:59:19 +00:00)\n"
     ]
    }
   ],
   "source": [
    "multiplier = 3\n",
    "adjusted_cw = class_weights / n_classes * multiplier\n",
    "adjusted_cw"
   ]
  },
  {
   "cell_type": "code",
   "execution_count": 13,
   "metadata": {},
   "outputs": [
    {
     "data": {
      "text/plain": [
       "array([0.04463074, 0.0455364 , 0.03207262, 0.02828986, 0.03714251,\n",
       "       0.04496317, 0.05078841, 0.03734585, 0.0515632 , 0.06043523,\n",
       "       0.0335634 , 0.03414671, 0.04101091, 0.07972291, 0.0484368 ,\n",
       "       0.04178743, 0.04225512, 0.04148481, 0.04986741, 0.05120895,\n",
       "       0.04937987, 0.05436768])"
      ]
     },
     "execution_count": 13,
     "metadata": {},
     "output_type": "execute_result"
    },
    {
     "name": "stdout",
     "output_type": "stream",
     "text": [
      "time: 6.71 ms (started: 2021-12-07 04:59:19 +00:00)\n"
     ]
    }
   ],
   "source": [
    "log_weights = n_samples / (n_classes * np.log(np.bincount(y_train_ints)))\n",
    "sum_weights = sum(log_weights)\n",
    "sum_weights\n",
    "custom_class_weights = log_weights / sum_weights\n",
    "custom_class_weights"
   ]
  },
  {
   "cell_type": "code",
   "execution_count": 14,
   "metadata": {},
   "outputs": [
    {
     "data": {
      "text/plain": [
       "array([0.43735802, 0.48384809, 0.07727604, 0.04447012, 0.16615935,\n",
       "       0.45405408, 0.81783386, 0.17110854, 0.8766205 , 1.72453384,\n",
       "       0.09715266, 0.10623322, 0.28224388, 4.54253283, 0.65449741,\n",
       "       0.3115177 , 0.33017834, 0.29985802, 0.75116611, 0.84943511,\n",
       "       0.71728339, 1.11008615])"
      ]
     },
     "execution_count": 14,
     "metadata": {},
     "output_type": "execute_result"
    },
    {
     "name": "stdout",
     "output_type": "stream",
     "text": [
      "time: 3.4 ms (started: 2021-12-07 04:59:19 +00:00)\n"
     ]
    }
   ],
   "source": [
    "custom_class_weights += adjusted_cw\n",
    "custom_class_weights"
   ]
  },
  {
   "cell_type": "code",
   "execution_count": 15,
   "metadata": {},
   "outputs": [
    {
     "data": {
      "text/plain": [
       "{0: 0.43735801571868704,\n",
       " 1: 0.48384809272560536,\n",
       " 2: 0.07727603752877807,\n",
       " 3: 0.04447012394919416,\n",
       " 4: 0.16615934894029083,\n",
       " 5: 0.45405407973744055,\n",
       " 6: 0.8178338647074261,\n",
       " 7: 0.17110854124487898,\n",
       " 8: 0.876620496202587,\n",
       " 9: 1.7245338407756894,\n",
       " 10: 0.09715266034914719,\n",
       " 11: 0.10623321618311929,\n",
       " 12: 0.28224387957200436,\n",
       " 13: 4.542532828599931,\n",
       " 14: 0.6544974094004671,\n",
       " 15: 0.31151769951307157,\n",
       " 16: 0.3301783420621469,\n",
       " 17: 0.29985802035019415,\n",
       " 18: 0.7511661101655956,\n",
       " 19: 0.8494351130651482,\n",
       " 20: 0.7172833931995184,\n",
       " 21: 1.1100861516206217}"
      ]
     },
     "execution_count": 15,
     "metadata": {},
     "output_type": "execute_result"
    },
    {
     "name": "stdout",
     "output_type": "stream",
     "text": [
      "time: 3.86 ms (started: 2021-12-07 04:59:19 +00:00)\n"
     ]
    }
   ],
   "source": [
    "class_weight_dict = dict(enumerate(custom_class_weights))\n",
    "class_weight_dict"
   ]
  },
  {
   "cell_type": "markdown",
   "metadata": {},
   "source": [
    "### Define training pipeline."
   ]
  },
  {
   "cell_type": "code",
   "execution_count": 16,
   "metadata": {},
   "outputs": [
    {
     "name": "stdout",
     "output_type": "stream",
     "text": [
      "time: 89.5 ms (started: 2021-12-07 04:59:19 +00:00)\n"
     ]
    }
   ],
   "source": [
    "from nvidia.dali.pipeline import Pipeline\n",
    "import nvidia.dali.ops as ops\n",
    "import nvidia.dali.fn as fn\n",
    "import nvidia.dali.types as types\n",
    "import nvidia.dali.tfrecord as tfrec\n",
    "import nvidia.dali.plugin.tf as dali_tf\n",
    "\n",
    "class TFRecordPipelineTrain(Pipeline):\n",
    "    def __init__(self, batch_size, num_threads,\n",
    "                 device = 'cpu', device_id = 0):\n",
    "        super(TFRecordPipelineTrain, self).__init__(batch_size,\n",
    "                                         num_threads,\n",
    "                                         device_id)\n",
    "        self.input = fn.readers.tfrecord(        \n",
    "             features = {\"image_raw\": tfrec.FixedLenFeature((), tfrec.string, \"\"),\n",
    "                         \"label\": tfrec.FixedLenFeature([22], tfrec.int64,  22)},\n",
    "             path = ['./tfrecords/22_emo_train.tfrecords'],\n",
    "             index_path = ['./tfrecords/22_emo_train.idx'],\n",
    "             random_shuffle=True,\n",
    "             seed = set_seed)\n",
    "        self.iter = 0\n",
    "    def define_graph(self):\n",
    "        inputs = self.input\n",
    "        images = fn.decoders.image(inputs[\"image_raw\"], device = \"mixed\", output_type = types.RGB) / 255.\n",
    "        labels = inputs[\"label\"].gpu()\n",
    "        return (images, labels)\n",
    "    def iter_setup(self):\n",
    "        pass"
   ]
  },
  {
   "cell_type": "markdown",
   "metadata": {},
   "source": [
    "### Define validation pipeline."
   ]
  },
  {
   "cell_type": "code",
   "execution_count": 17,
   "metadata": {},
   "outputs": [
    {
     "name": "stdout",
     "output_type": "stream",
     "text": [
      "time: 1.7 ms (started: 2021-12-07 04:59:20 +00:00)\n"
     ]
    }
   ],
   "source": [
    "class TFRecordPipelineValid(Pipeline):\n",
    "    def __init__(self, batch_size, num_threads,\n",
    "                 device = 'cpu', device_id = 0):\n",
    "        super(TFRecordPipelineValid, self).__init__(batch_size,\n",
    "                                         num_threads,\n",
    "                                         device_id)\n",
    "        self.input = fn.readers.tfrecord(        \n",
    "             features = {\"image_raw\": tfrec.FixedLenFeature((), tfrec.string, \"\"),\n",
    "                         \"label\": tfrec.FixedLenFeature([22], tfrec.int64,  22)},\n",
    "             path = ['./tfrecords/22_emo_valid.tfrecords'],\n",
    "             index_path = ['./tfrecords/22_emo_valid.idx'],\n",
    "             random_shuffle=False,\n",
    "             seed = set_seed)\n",
    "        self.iter = 0\n",
    "    def define_graph(self):\n",
    "        inputs = self.input\n",
    "        images = fn.decoders.image(inputs[\"image_raw\"], device = \"mixed\", output_type = types.RGB) / 255.\n",
    "        labels = inputs[\"label\"].gpu()\n",
    "        return (images, labels)\n",
    "    def iter_setup(self):\n",
    "        pass"
   ]
  },
  {
   "cell_type": "markdown",
   "metadata": {},
   "source": [
    "### Train CNN model for classifying 22 emotions."
   ]
  },
  {
   "cell_type": "code",
   "execution_count": 18,
   "metadata": {},
   "outputs": [
    {
     "name": "stdout",
     "output_type": "stream",
     "text": [
      "Model: \"model\"\n",
      "_________________________________________________________________\n",
      "Layer (type)                 Output Shape              Param #   \n",
      "=================================================================\n",
      "input_1 (InputLayer)         [(None, 64, 64, 3)]       0         \n",
      "_________________________________________________________________\n",
      "conv2d (Conv2D)              (None, 64, 64, 128)       3584      \n",
      "_________________________________________________________________\n",
      "dropout (Dropout)            (None, 64, 64, 128)       0         \n",
      "_________________________________________________________________\n",
      "conv2d_1 (Conv2D)            (None, 64, 64, 64)        73792     \n",
      "_________________________________________________________________\n",
      "dropout_1 (Dropout)          (None, 64, 64, 64)        0         \n",
      "_________________________________________________________________\n",
      "conv2d_2 (Conv2D)            (None, 64, 64, 32)        18464     \n",
      "_________________________________________________________________\n",
      "dropout_2 (Dropout)          (None, 64, 64, 32)        0         \n",
      "_________________________________________________________________\n",
      "flatten (Flatten)            (None, 131072)            0         \n",
      "_________________________________________________________________\n",
      "dense (Dense)                (None, 22)                2883606   \n",
      "=================================================================\n",
      "Total params: 2,979,446\n",
      "Trainable params: 2,979,446\n",
      "Non-trainable params: 0\n",
      "_________________________________________________________________\n",
      "Epoch 1/1000\n",
      "247/247 [==============================] - 8s 18ms/step - loss: 2.2873 - accuracy: 0.3687 - val_loss: 2.2899 - val_accuracy: 0.3859\n",
      "Epoch 2/1000\n",
      "247/247 [==============================] - 4s 18ms/step - loss: 2.1941 - accuracy: 0.3844 - val_loss: 2.2613 - val_accuracy: 0.3891\n",
      "Epoch 3/1000\n",
      "247/247 [==============================] - 4s 18ms/step - loss: 2.1576 - accuracy: 0.3880 - val_loss: 2.1952 - val_accuracy: 0.3901\n",
      "Epoch 4/1000\n",
      "247/247 [==============================] - 4s 18ms/step - loss: 2.1227 - accuracy: 0.3879 - val_loss: 2.1502 - val_accuracy: 0.3896\n",
      "Epoch 5/1000\n",
      "247/247 [==============================] - 4s 18ms/step - loss: 2.0852 - accuracy: 0.3906 - val_loss: 2.1220 - val_accuracy: 0.3885\n",
      "Epoch 6/1000\n",
      "247/247 [==============================] - 4s 18ms/step - loss: 2.0530 - accuracy: 0.3931 - val_loss: 2.0793 - val_accuracy: 0.4057\n",
      "Epoch 7/1000\n",
      "247/247 [==============================] - 4s 18ms/step - loss: 2.0167 - accuracy: 0.3996 - val_loss: 2.0944 - val_accuracy: 0.3953\n",
      "Epoch 8/1000\n",
      "247/247 [==============================] - 4s 18ms/step - loss: 1.9842 - accuracy: 0.4109 - val_loss: 2.0266 - val_accuracy: 0.4375\n",
      "Epoch 9/1000\n",
      "247/247 [==============================] - 4s 18ms/step - loss: 1.9444 - accuracy: 0.4274 - val_loss: 2.0129 - val_accuracy: 0.4344\n",
      "Epoch 10/1000\n",
      "247/247 [==============================] - 4s 18ms/step - loss: 1.9123 - accuracy: 0.4331 - val_loss: 2.0131 - val_accuracy: 0.4255\n",
      "Epoch 11/1000\n",
      "247/247 [==============================] - 4s 18ms/step - loss: 1.8752 - accuracy: 0.4432 - val_loss: 1.9434 - val_accuracy: 0.4521\n",
      "Epoch 12/1000\n",
      "247/247 [==============================] - 4s 18ms/step - loss: 1.8486 - accuracy: 0.4479 - val_loss: 1.9461 - val_accuracy: 0.4594\n",
      "Epoch 13/1000\n",
      "247/247 [==============================] - 4s 18ms/step - loss: 1.8182 - accuracy: 0.4577 - val_loss: 1.9227 - val_accuracy: 0.4391\n",
      "Epoch 14/1000\n",
      "247/247 [==============================] - 4s 18ms/step - loss: 1.7851 - accuracy: 0.4639 - val_loss: 1.8768 - val_accuracy: 0.4667\n",
      "Epoch 15/1000\n",
      "247/247 [==============================] - 4s 18ms/step - loss: 1.7592 - accuracy: 0.4746 - val_loss: 1.8453 - val_accuracy: 0.4818\n",
      "Epoch 16/1000\n",
      "247/247 [==============================] - 4s 18ms/step - loss: 1.7277 - accuracy: 0.4848 - val_loss: 1.8772 - val_accuracy: 0.4682\n",
      "Epoch 17/1000\n",
      "247/247 [==============================] - 4s 18ms/step - loss: 1.7055 - accuracy: 0.4911 - val_loss: 1.8208 - val_accuracy: 0.4844\n",
      "Epoch 18/1000\n",
      "247/247 [==============================] - 4s 18ms/step - loss: 1.6838 - accuracy: 0.4978 - val_loss: 1.7854 - val_accuracy: 0.4901\n",
      "Epoch 19/1000\n",
      "247/247 [==============================] - 4s 18ms/step - loss: 1.6481 - accuracy: 0.5090 - val_loss: 1.7278 - val_accuracy: 0.5130\n",
      "Epoch 20/1000\n",
      "247/247 [==============================] - 4s 18ms/step - loss: 1.6358 - accuracy: 0.5085 - val_loss: 1.6834 - val_accuracy: 0.5214\n",
      "Epoch 21/1000\n",
      "247/247 [==============================] - 4s 18ms/step - loss: 1.6135 - accuracy: 0.5181 - val_loss: 1.6629 - val_accuracy: 0.5307\n",
      "Epoch 22/1000\n",
      "247/247 [==============================] - 4s 18ms/step - loss: 1.5950 - accuracy: 0.5228 - val_loss: 1.6936 - val_accuracy: 0.5193\n",
      "Epoch 23/1000\n",
      "247/247 [==============================] - 4s 18ms/step - loss: 1.5640 - accuracy: 0.5328 - val_loss: 1.6146 - val_accuracy: 0.5458\n",
      "Epoch 24/1000\n",
      "247/247 [==============================] - 4s 18ms/step - loss: 1.5483 - accuracy: 0.5358 - val_loss: 1.6338 - val_accuracy: 0.5333\n",
      "Epoch 25/1000\n",
      "247/247 [==============================] - 4s 18ms/step - loss: 1.5308 - accuracy: 0.5423 - val_loss: 1.5587 - val_accuracy: 0.5599\n",
      "Epoch 26/1000\n",
      "247/247 [==============================] - 4s 18ms/step - loss: 1.5060 - accuracy: 0.5474 - val_loss: 1.5503 - val_accuracy: 0.5594\n",
      "Epoch 27/1000\n",
      "247/247 [==============================] - 4s 18ms/step - loss: 1.4933 - accuracy: 0.5511 - val_loss: 1.5378 - val_accuracy: 0.5615\n",
      "Epoch 28/1000\n",
      "247/247 [==============================] - 4s 18ms/step - loss: 1.4701 - accuracy: 0.5538 - val_loss: 1.5036 - val_accuracy: 0.5724\n",
      "Epoch 29/1000\n",
      "247/247 [==============================] - 4s 18ms/step - loss: 1.4556 - accuracy: 0.5607 - val_loss: 1.5135 - val_accuracy: 0.5724\n",
      "Epoch 30/1000\n",
      "247/247 [==============================] - 4s 18ms/step - loss: 1.4294 - accuracy: 0.5685 - val_loss: 1.4857 - val_accuracy: 0.5708\n",
      "Epoch 31/1000\n",
      "247/247 [==============================] - 4s 18ms/step - loss: 1.4199 - accuracy: 0.5684 - val_loss: 1.4756 - val_accuracy: 0.5682\n",
      "Epoch 32/1000\n",
      "247/247 [==============================] - 4s 18ms/step - loss: 1.4002 - accuracy: 0.5736 - val_loss: 1.4079 - val_accuracy: 0.5917\n",
      "Epoch 33/1000\n",
      "247/247 [==============================] - 4s 18ms/step - loss: 1.3791 - accuracy: 0.5838 - val_loss: 1.4025 - val_accuracy: 0.5927\n",
      "Epoch 34/1000\n",
      "247/247 [==============================] - 4s 18ms/step - loss: 1.3567 - accuracy: 0.5882 - val_loss: 1.3650 - val_accuracy: 0.6109\n",
      "Epoch 35/1000\n",
      "247/247 [==============================] - 4s 18ms/step - loss: 1.3477 - accuracy: 0.5896 - val_loss: 1.3381 - val_accuracy: 0.6130\n",
      "Epoch 36/1000\n",
      "247/247 [==============================] - 4s 18ms/step - loss: 1.3274 - accuracy: 0.5975 - val_loss: 1.3510 - val_accuracy: 0.6094\n",
      "Epoch 37/1000\n",
      "247/247 [==============================] - 4s 18ms/step - loss: 1.3079 - accuracy: 0.6037 - val_loss: 1.3245 - val_accuracy: 0.6167\n",
      "Epoch 38/1000\n",
      "247/247 [==============================] - 4s 18ms/step - loss: 1.2817 - accuracy: 0.6083 - val_loss: 1.3008 - val_accuracy: 0.6208\n",
      "Epoch 39/1000\n",
      "247/247 [==============================] - 4s 18ms/step - loss: 1.2705 - accuracy: 0.6129 - val_loss: 1.2774 - val_accuracy: 0.6292\n",
      "Epoch 40/1000\n",
      "247/247 [==============================] - 4s 18ms/step - loss: 1.2483 - accuracy: 0.6192 - val_loss: 1.2635 - val_accuracy: 0.6281\n",
      "Epoch 41/1000\n",
      "247/247 [==============================] - 4s 18ms/step - loss: 1.2349 - accuracy: 0.6265 - val_loss: 1.2665 - val_accuracy: 0.6328\n",
      "Epoch 42/1000\n",
      "247/247 [==============================] - 4s 18ms/step - loss: 1.2192 - accuracy: 0.6244 - val_loss: 1.2267 - val_accuracy: 0.6411\n",
      "Epoch 43/1000\n",
      "247/247 [==============================] - 4s 18ms/step - loss: 1.2001 - accuracy: 0.6294 - val_loss: 1.2324 - val_accuracy: 0.6380\n",
      "Epoch 44/1000\n",
      "247/247 [==============================] - 4s 18ms/step - loss: 1.1833 - accuracy: 0.6373 - val_loss: 1.2091 - val_accuracy: 0.6391\n",
      "Epoch 45/1000\n",
      "247/247 [==============================] - 4s 18ms/step - loss: 1.1672 - accuracy: 0.6395 - val_loss: 1.1875 - val_accuracy: 0.6479\n",
      "Epoch 46/1000\n"
     ]
    },
    {
     "name": "stdout",
     "output_type": "stream",
     "text": [
      "247/247 [==============================] - 4s 18ms/step - loss: 1.1527 - accuracy: 0.6490 - val_loss: 1.1740 - val_accuracy: 0.6484\n",
      "Epoch 47/1000\n",
      "247/247 [==============================] - 4s 18ms/step - loss: 1.1401 - accuracy: 0.6507 - val_loss: 1.1614 - val_accuracy: 0.6536\n",
      "Epoch 48/1000\n",
      "247/247 [==============================] - 4s 18ms/step - loss: 1.1312 - accuracy: 0.6546 - val_loss: 1.1533 - val_accuracy: 0.6615\n",
      "Epoch 49/1000\n",
      "247/247 [==============================] - 4s 18ms/step - loss: 1.1081 - accuracy: 0.6580 - val_loss: 1.1395 - val_accuracy: 0.6672\n",
      "Epoch 50/1000\n",
      "247/247 [==============================] - 4s 18ms/step - loss: 1.0952 - accuracy: 0.6657 - val_loss: 1.1179 - val_accuracy: 0.6651\n",
      "Epoch 51/1000\n",
      "247/247 [==============================] - 4s 18ms/step - loss: 1.0773 - accuracy: 0.6672 - val_loss: 1.1072 - val_accuracy: 0.6661\n",
      "Epoch 52/1000\n",
      "247/247 [==============================] - 4s 18ms/step - loss: 1.0632 - accuracy: 0.6759 - val_loss: 1.1066 - val_accuracy: 0.6734\n",
      "Epoch 53/1000\n",
      "247/247 [==============================] - 4s 18ms/step - loss: 1.0544 - accuracy: 0.6753 - val_loss: 1.0865 - val_accuracy: 0.6797\n",
      "Epoch 54/1000\n",
      "247/247 [==============================] - 4s 18ms/step - loss: 1.0298 - accuracy: 0.6829 - val_loss: 1.0802 - val_accuracy: 0.6786\n",
      "Epoch 55/1000\n",
      "247/247 [==============================] - 4s 18ms/step - loss: 1.0217 - accuracy: 0.6890 - val_loss: 1.0876 - val_accuracy: 0.6781\n",
      "Epoch 56/1000\n",
      "247/247 [==============================] - 4s 18ms/step - loss: 1.0085 - accuracy: 0.6940 - val_loss: 1.0632 - val_accuracy: 0.6833\n",
      "Epoch 57/1000\n",
      "247/247 [==============================] - 5s 18ms/step - loss: 0.9886 - accuracy: 0.6950 - val_loss: 1.0537 - val_accuracy: 0.6906\n",
      "Epoch 58/1000\n",
      "247/247 [==============================] - 4s 18ms/step - loss: 0.9863 - accuracy: 0.6992 - val_loss: 1.0459 - val_accuracy: 0.6917\n",
      "Epoch 59/1000\n",
      "247/247 [==============================] - 4s 18ms/step - loss: 0.9733 - accuracy: 0.6960 - val_loss: 1.0316 - val_accuracy: 0.6953\n",
      "Epoch 60/1000\n",
      "247/247 [==============================] - 4s 18ms/step - loss: 0.9574 - accuracy: 0.7048 - val_loss: 1.0203 - val_accuracy: 0.6917\n",
      "Epoch 61/1000\n",
      "247/247 [==============================] - 4s 18ms/step - loss: 0.9446 - accuracy: 0.7081 - val_loss: 1.0148 - val_accuracy: 0.7000\n",
      "Epoch 62/1000\n",
      "247/247 [==============================] - 4s 18ms/step - loss: 0.9319 - accuracy: 0.7098 - val_loss: 1.0102 - val_accuracy: 0.7057\n",
      "Epoch 63/1000\n",
      "247/247 [==============================] - 4s 18ms/step - loss: 0.9208 - accuracy: 0.7171 - val_loss: 1.0029 - val_accuracy: 0.7010\n",
      "Epoch 64/1000\n",
      "247/247 [==============================] - 4s 18ms/step - loss: 0.9158 - accuracy: 0.7165 - val_loss: 0.9899 - val_accuracy: 0.7068\n",
      "Epoch 65/1000\n",
      "247/247 [==============================] - 4s 18ms/step - loss: 0.9062 - accuracy: 0.7201 - val_loss: 0.9777 - val_accuracy: 0.7094\n",
      "Epoch 66/1000\n",
      "247/247 [==============================] - 4s 18ms/step - loss: 0.8979 - accuracy: 0.7234 - val_loss: 0.9787 - val_accuracy: 0.7120\n",
      "Epoch 67/1000\n",
      "247/247 [==============================] - 4s 18ms/step - loss: 0.8762 - accuracy: 0.7278 - val_loss: 0.9642 - val_accuracy: 0.7094\n",
      "Epoch 68/1000\n",
      "247/247 [==============================] - 4s 18ms/step - loss: 0.8742 - accuracy: 0.7294 - val_loss: 0.9616 - val_accuracy: 0.7125\n",
      "Epoch 69/1000\n",
      "247/247 [==============================] - 4s 18ms/step - loss: 0.8614 - accuracy: 0.7345 - val_loss: 0.9514 - val_accuracy: 0.7182\n",
      "Epoch 70/1000\n",
      "247/247 [==============================] - 4s 18ms/step - loss: 0.8526 - accuracy: 0.7363 - val_loss: 0.9468 - val_accuracy: 0.7141\n",
      "Epoch 71/1000\n",
      "247/247 [==============================] - 4s 17ms/step - loss: 0.8379 - accuracy: 0.7370 - val_loss: 0.9344 - val_accuracy: 0.7203\n",
      "Epoch 72/1000\n",
      "247/247 [==============================] - 4s 18ms/step - loss: 0.8287 - accuracy: 0.7415 - val_loss: 0.9348 - val_accuracy: 0.7172\n",
      "Epoch 73/1000\n",
      "247/247 [==============================] - 4s 18ms/step - loss: 0.8252 - accuracy: 0.7425 - val_loss: 0.9258 - val_accuracy: 0.7245\n",
      "Epoch 74/1000\n",
      "247/247 [==============================] - 4s 18ms/step - loss: 0.8114 - accuracy: 0.7453 - val_loss: 0.9252 - val_accuracy: 0.7224\n",
      "Epoch 75/1000\n",
      "247/247 [==============================] - 4s 18ms/step - loss: 0.8049 - accuracy: 0.7487 - val_loss: 0.9071 - val_accuracy: 0.7276\n",
      "Epoch 76/1000\n",
      "247/247 [==============================] - 4s 18ms/step - loss: 0.7981 - accuracy: 0.7473 - val_loss: 0.9047 - val_accuracy: 0.7224\n",
      "Epoch 77/1000\n",
      "247/247 [==============================] - 4s 18ms/step - loss: 0.7900 - accuracy: 0.7549 - val_loss: 0.8887 - val_accuracy: 0.7328\n",
      "Epoch 78/1000\n",
      "247/247 [==============================] - 4s 18ms/step - loss: 0.7755 - accuracy: 0.7566 - val_loss: 0.8898 - val_accuracy: 0.7344\n",
      "Epoch 79/1000\n",
      "247/247 [==============================] - 4s 17ms/step - loss: 0.7734 - accuracy: 0.7603 - val_loss: 0.8862 - val_accuracy: 0.7323\n",
      "Epoch 80/1000\n",
      "247/247 [==============================] - 4s 18ms/step - loss: 0.7630 - accuracy: 0.7591 - val_loss: 0.8851 - val_accuracy: 0.7354\n",
      "Epoch 81/1000\n",
      "247/247 [==============================] - 4s 18ms/step - loss: 0.7491 - accuracy: 0.7589 - val_loss: 0.8769 - val_accuracy: 0.7391\n",
      "Epoch 82/1000\n",
      "247/247 [==============================] - 4s 17ms/step - loss: 0.7385 - accuracy: 0.7651 - val_loss: 0.8754 - val_accuracy: 0.7380\n",
      "Epoch 83/1000\n",
      "247/247 [==============================] - 4s 18ms/step - loss: 0.7384 - accuracy: 0.7678 - val_loss: 0.8622 - val_accuracy: 0.7401\n",
      "Epoch 84/1000\n",
      "247/247 [==============================] - 5s 18ms/step - loss: 0.7279 - accuracy: 0.7747 - val_loss: 0.8566 - val_accuracy: 0.7401\n",
      "Epoch 85/1000\n",
      "247/247 [==============================] - 5s 18ms/step - loss: 0.7252 - accuracy: 0.7695 - val_loss: 0.8567 - val_accuracy: 0.7411\n",
      "Epoch 86/1000\n",
      "247/247 [==============================] - 5s 18ms/step - loss: 0.7157 - accuracy: 0.7730 - val_loss: 0.8444 - val_accuracy: 0.7490\n",
      "Epoch 87/1000\n",
      "247/247 [==============================] - 4s 18ms/step - loss: 0.7002 - accuracy: 0.7826 - val_loss: 0.8356 - val_accuracy: 0.7599\n",
      "Epoch 88/1000\n",
      "247/247 [==============================] - 4s 18ms/step - loss: 0.6871 - accuracy: 0.7792 - val_loss: 0.8493 - val_accuracy: 0.7474\n",
      "Epoch 89/1000\n",
      "247/247 [==============================] - 4s 18ms/step - loss: 0.6918 - accuracy: 0.7819 - val_loss: 0.8314 - val_accuracy: 0.7526\n",
      "Epoch 90/1000\n",
      "247/247 [==============================] - 4s 18ms/step - loss: 0.6829 - accuracy: 0.7811 - val_loss: 0.8274 - val_accuracy: 0.7547\n",
      "Epoch 91/1000\n",
      "247/247 [==============================] - 5s 18ms/step - loss: 0.6749 - accuracy: 0.7857 - val_loss: 0.8216 - val_accuracy: 0.7568\n",
      "Epoch 92/1000\n",
      "247/247 [==============================] - 4s 18ms/step - loss: 0.6687 - accuracy: 0.7861 - val_loss: 0.8189 - val_accuracy: 0.7573\n",
      "Epoch 93/1000\n",
      "247/247 [==============================] - 4s 18ms/step - loss: 0.6620 - accuracy: 0.7892 - val_loss: 0.8137 - val_accuracy: 0.7547\n",
      "Epoch 94/1000\n",
      "247/247 [==============================] - 4s 18ms/step - loss: 0.6575 - accuracy: 0.7917 - val_loss: 0.8243 - val_accuracy: 0.7531\n",
      "Epoch 95/1000\n",
      "247/247 [==============================] - 4s 18ms/step - loss: 0.6469 - accuracy: 0.7963 - val_loss: 0.8061 - val_accuracy: 0.7625\n",
      "Epoch 96/1000\n",
      "247/247 [==============================] - 5s 18ms/step - loss: 0.6337 - accuracy: 0.7991 - val_loss: 0.8061 - val_accuracy: 0.7615\n",
      "Epoch 97/1000\n",
      "247/247 [==============================] - 5s 18ms/step - loss: 0.6390 - accuracy: 0.7971 - val_loss: 0.7959 - val_accuracy: 0.7708\n",
      "Epoch 98/1000\n",
      "247/247 [==============================] - 4s 18ms/step - loss: 0.6243 - accuracy: 0.7998 - val_loss: 0.8043 - val_accuracy: 0.7641\n",
      "Epoch 99/1000\n",
      "247/247 [==============================] - 5s 18ms/step - loss: 0.6157 - accuracy: 0.8029 - val_loss: 0.7888 - val_accuracy: 0.7708\n",
      "Epoch 100/1000\n",
      "247/247 [==============================] - 5s 18ms/step - loss: 0.6183 - accuracy: 0.8033 - val_loss: 0.7814 - val_accuracy: 0.7740\n",
      "Epoch 101/1000\n",
      "247/247 [==============================] - 4s 18ms/step - loss: 0.6096 - accuracy: 0.8044 - val_loss: 0.7790 - val_accuracy: 0.7740\n",
      "Epoch 102/1000\n"
     ]
    },
    {
     "name": "stdout",
     "output_type": "stream",
     "text": [
      "247/247 [==============================] - 4s 18ms/step - loss: 0.6015 - accuracy: 0.8093 - val_loss: 0.7752 - val_accuracy: 0.7734\n",
      "Epoch 103/1000\n",
      "247/247 [==============================] - 4s 18ms/step - loss: 0.5961 - accuracy: 0.8104 - val_loss: 0.7837 - val_accuracy: 0.7688\n",
      "Epoch 104/1000\n",
      "247/247 [==============================] - 4s 18ms/step - loss: 0.5985 - accuracy: 0.8108 - val_loss: 0.7783 - val_accuracy: 0.7719\n",
      "Epoch 105/1000\n",
      "247/247 [==============================] - 4s 18ms/step - loss: 0.5781 - accuracy: 0.8152 - val_loss: 0.7696 - val_accuracy: 0.7740\n",
      "Epoch 106/1000\n",
      "247/247 [==============================] - 4s 18ms/step - loss: 0.5817 - accuracy: 0.8147 - val_loss: 0.7645 - val_accuracy: 0.7755\n",
      "Epoch 107/1000\n",
      "247/247 [==============================] - 4s 18ms/step - loss: 0.5728 - accuracy: 0.8187 - val_loss: 0.7732 - val_accuracy: 0.7740\n",
      "Epoch 108/1000\n",
      "247/247 [==============================] - 5s 18ms/step - loss: 0.5731 - accuracy: 0.8164 - val_loss: 0.7565 - val_accuracy: 0.7766\n",
      "Epoch 109/1000\n",
      "247/247 [==============================] - 5s 19ms/step - loss: 0.5564 - accuracy: 0.8229 - val_loss: 0.7526 - val_accuracy: 0.7823\n",
      "Epoch 110/1000\n",
      "247/247 [==============================] - 5s 18ms/step - loss: 0.5583 - accuracy: 0.8206 - val_loss: 0.7555 - val_accuracy: 0.7786\n",
      "Epoch 111/1000\n",
      "247/247 [==============================] - 4s 18ms/step - loss: 0.5569 - accuracy: 0.8203 - val_loss: 0.7554 - val_accuracy: 0.7812\n",
      "Epoch 112/1000\n",
      "247/247 [==============================] - 5s 18ms/step - loss: 0.5430 - accuracy: 0.8225 - val_loss: 0.7426 - val_accuracy: 0.7828\n",
      "Epoch 113/1000\n",
      "247/247 [==============================] - 5s 18ms/step - loss: 0.5392 - accuracy: 0.8265 - val_loss: 0.7509 - val_accuracy: 0.7771\n",
      "Epoch 114/1000\n",
      "247/247 [==============================] - 5s 18ms/step - loss: 0.5360 - accuracy: 0.8292 - val_loss: 0.7434 - val_accuracy: 0.7839\n",
      "Epoch 115/1000\n",
      "247/247 [==============================] - 5s 18ms/step - loss: 0.5284 - accuracy: 0.8326 - val_loss: 0.7473 - val_accuracy: 0.7792\n",
      "Epoch 116/1000\n",
      "247/247 [==============================] - 5s 18ms/step - loss: 0.5268 - accuracy: 0.8312 - val_loss: 0.7349 - val_accuracy: 0.7833\n",
      "Epoch 117/1000\n",
      "247/247 [==============================] - 5s 18ms/step - loss: 0.5179 - accuracy: 0.8332 - val_loss: 0.7420 - val_accuracy: 0.7812\n",
      "Epoch 118/1000\n",
      "247/247 [==============================] - 5s 18ms/step - loss: 0.5106 - accuracy: 0.8401 - val_loss: 0.7398 - val_accuracy: 0.7802\n",
      "Epoch 119/1000\n",
      "247/247 [==============================] - 5s 18ms/step - loss: 0.5125 - accuracy: 0.8354 - val_loss: 0.7317 - val_accuracy: 0.7870\n",
      "Epoch 120/1000\n",
      "247/247 [==============================] - 4s 18ms/step - loss: 0.5085 - accuracy: 0.8360 - val_loss: 0.7259 - val_accuracy: 0.7854\n",
      "Epoch 121/1000\n",
      "247/247 [==============================] - 4s 18ms/step - loss: 0.5012 - accuracy: 0.8404 - val_loss: 0.7371 - val_accuracy: 0.7802\n",
      "Epoch 122/1000\n",
      "247/247 [==============================] - 5s 18ms/step - loss: 0.5039 - accuracy: 0.8384 - val_loss: 0.7275 - val_accuracy: 0.7870\n",
      "Epoch 123/1000\n",
      "247/247 [==============================] - 5s 18ms/step - loss: 0.4957 - accuracy: 0.8386 - val_loss: 0.7201 - val_accuracy: 0.7870\n",
      "Epoch 124/1000\n",
      "247/247 [==============================] - 5s 18ms/step - loss: 0.4923 - accuracy: 0.8424 - val_loss: 0.7129 - val_accuracy: 0.7891\n",
      "Epoch 125/1000\n",
      "247/247 [==============================] - 5s 18ms/step - loss: 0.4836 - accuracy: 0.8443 - val_loss: 0.7225 - val_accuracy: 0.7823\n",
      "Epoch 126/1000\n",
      "247/247 [==============================] - 4s 17ms/step - loss: 0.4817 - accuracy: 0.8467 - val_loss: 0.7121 - val_accuracy: 0.7896\n",
      "Epoch 127/1000\n",
      "247/247 [==============================] - 4s 18ms/step - loss: 0.4750 - accuracy: 0.8487 - val_loss: 0.7081 - val_accuracy: 0.7958\n",
      "Epoch 128/1000\n",
      "247/247 [==============================] - 5s 18ms/step - loss: 0.4716 - accuracy: 0.8504 - val_loss: 0.7112 - val_accuracy: 0.7885\n",
      "Epoch 129/1000\n",
      "247/247 [==============================] - 4s 18ms/step - loss: 0.4677 - accuracy: 0.8493 - val_loss: 0.7098 - val_accuracy: 0.7885\n",
      "Epoch 130/1000\n",
      "247/247 [==============================] - 4s 18ms/step - loss: 0.4687 - accuracy: 0.8498 - val_loss: 0.7107 - val_accuracy: 0.7891\n",
      "Epoch 131/1000\n",
      "247/247 [==============================] - 4s 18ms/step - loss: 0.4630 - accuracy: 0.8509 - val_loss: 0.7092 - val_accuracy: 0.7870\n",
      "Epoch 132/1000\n",
      "247/247 [==============================] - 5s 18ms/step - loss: 0.4577 - accuracy: 0.8552 - val_loss: 0.7111 - val_accuracy: 0.7854\n",
      "Epoch 133/1000\n",
      "247/247 [==============================] - 5s 18ms/step - loss: 0.4647 - accuracy: 0.8498 - val_loss: 0.7076 - val_accuracy: 0.7922\n",
      "Epoch 134/1000\n",
      "247/247 [==============================] - 5s 18ms/step - loss: 0.4489 - accuracy: 0.8580 - val_loss: 0.6998 - val_accuracy: 0.7958\n",
      "Epoch 135/1000\n",
      "247/247 [==============================] - 4s 18ms/step - loss: 0.4487 - accuracy: 0.8539 - val_loss: 0.6967 - val_accuracy: 0.7974\n",
      "Epoch 136/1000\n",
      "247/247 [==============================] - 4s 18ms/step - loss: 0.4403 - accuracy: 0.8575 - val_loss: 0.6905 - val_accuracy: 0.7948\n",
      "Epoch 137/1000\n",
      "247/247 [==============================] - 4s 18ms/step - loss: 0.4437 - accuracy: 0.8567 - val_loss: 0.6937 - val_accuracy: 0.7932\n",
      "Epoch 138/1000\n",
      "247/247 [==============================] - 4s 18ms/step - loss: 0.4346 - accuracy: 0.8596 - val_loss: 0.6872 - val_accuracy: 0.7958\n",
      "Epoch 139/1000\n",
      "247/247 [==============================] - 4s 18ms/step - loss: 0.4338 - accuracy: 0.8613 - val_loss: 0.6961 - val_accuracy: 0.7927\n",
      "Epoch 140/1000\n",
      "247/247 [==============================] - 4s 18ms/step - loss: 0.4201 - accuracy: 0.8666 - val_loss: 0.6891 - val_accuracy: 0.8000\n",
      "Epoch 141/1000\n",
      "247/247 [==============================] - 4s 18ms/step - loss: 0.4242 - accuracy: 0.8636 - val_loss: 0.6839 - val_accuracy: 0.7995\n",
      "Epoch 142/1000\n",
      "247/247 [==============================] - 4s 17ms/step - loss: 0.4218 - accuracy: 0.8668 - val_loss: 0.6855 - val_accuracy: 0.7969\n",
      "Epoch 143/1000\n",
      "247/247 [==============================] - 5s 18ms/step - loss: 0.4201 - accuracy: 0.8648 - val_loss: 0.6877 - val_accuracy: 0.7964\n",
      "Epoch 144/1000\n",
      "247/247 [==============================] - 5s 18ms/step - loss: 0.4201 - accuracy: 0.8651 - val_loss: 0.6927 - val_accuracy: 0.7958\n",
      "Epoch 145/1000\n",
      "247/247 [==============================] - 5s 18ms/step - loss: 0.4151 - accuracy: 0.8688 - val_loss: 0.6776 - val_accuracy: 0.7995\n",
      "Epoch 146/1000\n",
      "247/247 [==============================] - 4s 18ms/step - loss: 0.4071 - accuracy: 0.8727 - val_loss: 0.6790 - val_accuracy: 0.8000\n",
      "Epoch 147/1000\n",
      "247/247 [==============================] - 5s 18ms/step - loss: 0.4059 - accuracy: 0.8689 - val_loss: 0.6794 - val_accuracy: 0.7964\n",
      "Epoch 148/1000\n",
      "247/247 [==============================] - 4s 18ms/step - loss: 0.4033 - accuracy: 0.8735 - val_loss: 0.6787 - val_accuracy: 0.8010\n",
      "Epoch 149/1000\n",
      "247/247 [==============================] - 5s 18ms/step - loss: 0.3954 - accuracy: 0.8722 - val_loss: 0.6858 - val_accuracy: 0.8005\n",
      "Epoch 150/1000\n",
      "247/247 [==============================] - 4s 18ms/step - loss: 0.4011 - accuracy: 0.8711 - val_loss: 0.6788 - val_accuracy: 0.7979\n",
      "Epoch 151/1000\n",
      "247/247 [==============================] - 4s 18ms/step - loss: 0.3950 - accuracy: 0.8735 - val_loss: 0.6789 - val_accuracy: 0.7995\n",
      "Epoch 152/1000\n",
      "247/247 [==============================] - 5s 18ms/step - loss: 0.3933 - accuracy: 0.8759 - val_loss: 0.6750 - val_accuracy: 0.8031\n",
      "Epoch 153/1000\n",
      "247/247 [==============================] - 4s 18ms/step - loss: 0.3932 - accuracy: 0.8753 - val_loss: 0.6707 - val_accuracy: 0.8016\n",
      "Epoch 154/1000\n",
      "247/247 [==============================] - 4s 18ms/step - loss: 0.3796 - accuracy: 0.8797 - val_loss: 0.6732 - val_accuracy: 0.8026\n",
      "Epoch 155/1000\n",
      "247/247 [==============================] - 4s 18ms/step - loss: 0.3849 - accuracy: 0.8762 - val_loss: 0.6691 - val_accuracy: 0.8021\n",
      "Epoch 156/1000\n",
      "247/247 [==============================] - 4s 18ms/step - loss: 0.3800 - accuracy: 0.8794 - val_loss: 0.6682 - val_accuracy: 0.8016\n",
      "Epoch 157/1000\n",
      "247/247 [==============================] - 4s 18ms/step - loss: 0.3727 - accuracy: 0.8791 - val_loss: 0.6710 - val_accuracy: 0.8031\n"
     ]
    },
    {
     "name": "stdout",
     "output_type": "stream",
     "text": [
      "Epoch 158/1000\n",
      "247/247 [==============================] - 4s 18ms/step - loss: 0.3720 - accuracy: 0.8816 - val_loss: 0.6665 - val_accuracy: 0.8026\n",
      "Epoch 159/1000\n",
      "247/247 [==============================] - 4s 18ms/step - loss: 0.3716 - accuracy: 0.8802 - val_loss: 0.6721 - val_accuracy: 0.8026\n",
      "Epoch 160/1000\n",
      "247/247 [==============================] - 5s 18ms/step - loss: 0.3650 - accuracy: 0.8835 - val_loss: 0.6689 - val_accuracy: 0.8042\n",
      "Epoch 161/1000\n",
      "247/247 [==============================] - 5s 18ms/step - loss: 0.3689 - accuracy: 0.8819 - val_loss: 0.6595 - val_accuracy: 0.8047\n",
      "Epoch 162/1000\n",
      "247/247 [==============================] - 4s 18ms/step - loss: 0.3670 - accuracy: 0.8829 - val_loss: 0.6693 - val_accuracy: 0.8062\n",
      "Epoch 163/1000\n",
      "247/247 [==============================] - 4s 18ms/step - loss: 0.3598 - accuracy: 0.8815 - val_loss: 0.6688 - val_accuracy: 0.8047\n",
      "Epoch 164/1000\n",
      "247/247 [==============================] - 4s 18ms/step - loss: 0.3600 - accuracy: 0.8865 - val_loss: 0.6590 - val_accuracy: 0.8073\n",
      "Epoch 165/1000\n",
      "247/247 [==============================] - 4s 17ms/step - loss: 0.3592 - accuracy: 0.8854 - val_loss: 0.6560 - val_accuracy: 0.8094\n",
      "Epoch 166/1000\n",
      "247/247 [==============================] - 4s 18ms/step - loss: 0.3520 - accuracy: 0.8858 - val_loss: 0.6664 - val_accuracy: 0.8057\n",
      "Epoch 167/1000\n",
      "247/247 [==============================] - 4s 18ms/step - loss: 0.3529 - accuracy: 0.8840 - val_loss: 0.6612 - val_accuracy: 0.8036\n",
      "Epoch 168/1000\n",
      "247/247 [==============================] - 4s 17ms/step - loss: 0.3456 - accuracy: 0.8908 - val_loss: 0.6572 - val_accuracy: 0.8089\n",
      "Epoch 169/1000\n",
      "247/247 [==============================] - 4s 17ms/step - loss: 0.3445 - accuracy: 0.8897 - val_loss: 0.6576 - val_accuracy: 0.8062\n",
      "Epoch 170/1000\n",
      "247/247 [==============================] - 4s 18ms/step - loss: 0.3459 - accuracy: 0.8886 - val_loss: 0.6564 - val_accuracy: 0.8068\n",
      "Epoch 171/1000\n",
      "247/247 [==============================] - 5s 18ms/step - loss: 0.3425 - accuracy: 0.8899 - val_loss: 0.6574 - val_accuracy: 0.8130\n",
      "Epoch 172/1000\n",
      "247/247 [==============================] - 5s 18ms/step - loss: 0.3418 - accuracy: 0.8890 - val_loss: 0.6620 - val_accuracy: 0.8078\n",
      "Epoch 173/1000\n",
      "247/247 [==============================] - 5s 18ms/step - loss: 0.3371 - accuracy: 0.8908 - val_loss: 0.6659 - val_accuracy: 0.8115\n",
      "Epoch 174/1000\n",
      "247/247 [==============================] - 4s 18ms/step - loss: 0.3401 - accuracy: 0.8901 - val_loss: 0.6546 - val_accuracy: 0.8062\n",
      "Epoch 175/1000\n",
      "247/247 [==============================] - 4s 18ms/step - loss: 0.3351 - accuracy: 0.8907 - val_loss: 0.6549 - val_accuracy: 0.8115\n",
      "Epoch 176/1000\n",
      "247/247 [==============================] - 4s 18ms/step - loss: 0.3254 - accuracy: 0.8964 - val_loss: 0.6486 - val_accuracy: 0.8120\n",
      "Epoch 177/1000\n",
      "247/247 [==============================] - 4s 18ms/step - loss: 0.3242 - accuracy: 0.8954 - val_loss: 0.6553 - val_accuracy: 0.8115\n",
      "Epoch 178/1000\n",
      "247/247 [==============================] - 5s 18ms/step - loss: 0.3308 - accuracy: 0.8935 - val_loss: 0.6527 - val_accuracy: 0.8099\n",
      "Epoch 179/1000\n",
      "247/247 [==============================] - 5s 18ms/step - loss: 0.3179 - accuracy: 0.8987 - val_loss: 0.6483 - val_accuracy: 0.8141\n",
      "Epoch 180/1000\n",
      "247/247 [==============================] - 5s 18ms/step - loss: 0.3284 - accuracy: 0.8927 - val_loss: 0.6486 - val_accuracy: 0.8141\n",
      "Epoch 181/1000\n",
      "247/247 [==============================] - 5s 18ms/step - loss: 0.3177 - accuracy: 0.8983 - val_loss: 0.6486 - val_accuracy: 0.8161\n",
      "Epoch 182/1000\n",
      "247/247 [==============================] - 4s 18ms/step - loss: 0.3190 - accuracy: 0.8964 - val_loss: 0.6475 - val_accuracy: 0.8141\n",
      "Epoch 183/1000\n",
      "247/247 [==============================] - 4s 17ms/step - loss: 0.3229 - accuracy: 0.8954 - val_loss: 0.6463 - val_accuracy: 0.8130\n",
      "Epoch 184/1000\n",
      "247/247 [==============================] - 4s 17ms/step - loss: 0.3170 - accuracy: 0.8967 - val_loss: 0.6585 - val_accuracy: 0.8146\n",
      "Epoch 185/1000\n",
      "247/247 [==============================] - 5s 18ms/step - loss: 0.3060 - accuracy: 0.9011 - val_loss: 0.6527 - val_accuracy: 0.8099\n",
      "Epoch 186/1000\n",
      "247/247 [==============================] - 5s 18ms/step - loss: 0.3117 - accuracy: 0.8974 - val_loss: 0.6592 - val_accuracy: 0.8109\n",
      "Epoch 187/1000\n",
      "247/247 [==============================] - 5s 18ms/step - loss: 0.3047 - accuracy: 0.9018 - val_loss: 0.6472 - val_accuracy: 0.8161\n",
      "Epoch 188/1000\n",
      "247/247 [==============================] - 5s 18ms/step - loss: 0.3172 - accuracy: 0.8975 - val_loss: 0.6437 - val_accuracy: 0.8151\n",
      "Epoch 189/1000\n",
      "247/247 [==============================] - 5s 18ms/step - loss: 0.3027 - accuracy: 0.9030 - val_loss: 0.6559 - val_accuracy: 0.8130\n",
      "Epoch 190/1000\n",
      "247/247 [==============================] - 5s 18ms/step - loss: 0.3023 - accuracy: 0.9026 - val_loss: 0.6501 - val_accuracy: 0.8177\n",
      "Epoch 191/1000\n",
      "247/247 [==============================] - 4s 18ms/step - loss: 0.2981 - accuracy: 0.9029 - val_loss: 0.6455 - val_accuracy: 0.8182\n",
      "Epoch 192/1000\n",
      "247/247 [==============================] - 4s 18ms/step - loss: 0.2983 - accuracy: 0.9039 - val_loss: 0.6532 - val_accuracy: 0.8188\n",
      "Epoch 193/1000\n",
      "247/247 [==============================] - 4s 17ms/step - loss: 0.3003 - accuracy: 0.9037 - val_loss: 0.6508 - val_accuracy: 0.8156\n",
      "Epoch 194/1000\n",
      "247/247 [==============================] - 4s 17ms/step - loss: 0.2975 - accuracy: 0.9028 - val_loss: 0.6469 - val_accuracy: 0.8208\n",
      "Epoch 195/1000\n",
      "247/247 [==============================] - 4s 17ms/step - loss: 0.2950 - accuracy: 0.9032 - val_loss: 0.6478 - val_accuracy: 0.8161\n",
      "Epoch 196/1000\n",
      "247/247 [==============================] - 4s 18ms/step - loss: 0.2978 - accuracy: 0.9023 - val_loss: 0.6465 - val_accuracy: 0.8161\n",
      "Epoch 197/1000\n",
      "247/247 [==============================] - 4s 18ms/step - loss: 0.2940 - accuracy: 0.9070 - val_loss: 0.6580 - val_accuracy: 0.8151\n",
      "Epoch 198/1000\n",
      "247/247 [==============================] - 4s 18ms/step - loss: 0.2872 - accuracy: 0.9085 - val_loss: 0.6438 - val_accuracy: 0.8156\n",
      "time: 14min 47s (started: 2021-12-07 04:59:20 +00:00)\n"
     ]
    }
   ],
   "source": [
    "if __name__ == \"__main__\":\n",
    "    batch_size = 64\n",
    "    shapes = ((batch_size, 64, 64, 3),\n",
    "              (batch_size, 22))\n",
    "    pipe_train = TFRecordPipelineTrain(batch_size=batch_size, \n",
    "                                 num_threads=1, \n",
    "                                 device='gpu', \n",
    "                                 device_id=0)\n",
    "    \n",
    "    batch_size_valid = 64\n",
    "    shapes_valid = ((batch_size_valid, 64, 64, 3),\n",
    "                    (batch_size_valid, 22))\n",
    "    pipe_valid = TFRecordPipelineValid(batch_size=batch_size_valid, \n",
    "                                 num_threads=1, \n",
    "                                 device='gpu', \n",
    "                                 device_id=0)     \n",
    "\n",
    "    with tf.device('/gpu:0'):\n",
    "        ds_train = dali_tf.DALIDataset(\n",
    "            pipeline=pipe_train,\n",
    "            batch_size=batch_size,\n",
    "            output_shapes=shapes,\n",
    "            output_dtypes=(tf.float32, tf.int64),\n",
    "            device_id=0)\n",
    "\n",
    "        ds_valid = dali_tf.DALIDataset(\n",
    "            pipeline=pipe_valid,\n",
    "            batch_size=batch_size_valid,\n",
    "            output_shapes=shapes_valid,\n",
    "            output_dtypes=(tf.float32, tf.int64),\n",
    "            device_id=0)  \n",
    "        \n",
    "        initializer = keras.initializers.GlorotUniform(seed=set_seed)\n",
    "        activation =  keras.activations.softmax \n",
    "        lr_schedule = keras.optimizers.schedules.ExponentialDecay(\n",
    "            initial_learning_rate=1e-5,\n",
    "            decay_steps=TRAIN_DATA_SIZE // batch_size * 10,\n",
    "            decay_rate=0.95)\n",
    "        \n",
    "        number_of_classes = 22\n",
    "        \n",
    "        inputs = keras.Input(shape=(64, 64, 3))\n",
    "        conv1 = keras.layers.Conv2D(128,(3, 3), padding='same', activation='relu')(inputs)\n",
    "        do1 = keras.layers.Dropout(0.5, seed=set_seed)(conv1)         \n",
    "        conv2 = keras.layers.Conv2D(64,(3, 3), padding='same', activation='relu')(do1)\n",
    "        do2 = keras.layers.Dropout(0.5, seed=set_seed)(conv2)         \n",
    "        conv3 = keras.layers.Conv2D(32,(3, 3), padding='same', activation='relu')(do2)\n",
    "        do3 = keras.layers.Dropout(0.5, seed=set_seed)(conv3)       \n",
    "        flatten = keras.layers.Flatten()(do3)   \n",
    "        outputs = keras.layers.Dense(number_of_classes,\n",
    "                             kernel_initializer=initializer,\n",
    "                             activation=activation)(flatten) \n",
    "        clf = keras.Model(inputs, outputs)\n",
    "        \n",
    "        clf.summary()\n",
    "\n",
    "        # Apply early stopping.        \n",
    "        es_callback = tf.keras.callbacks.EarlyStopping(monitor='val_loss', patience=10,\n",
    "                                                       restore_best_weights=True)\n",
    "        \n",
    "        clf.compile(optimizer=keras.optimizers.Adam(learning_rate=lr_schedule),\n",
    "              loss=keras.losses.CategoricalCrossentropy(),\n",
    "              metrics=['accuracy'])\n",
    "        \n",
    "        history = clf.fit(ds_train, steps_per_epoch=TRAIN_DATA_SIZE // batch_size, \n",
    "                          validation_data=ds_valid.take(VALID_DATA_SIZE // batch_size_valid),\n",
    "                          epochs=1000,\n",
    "                          callbacks=[es_callback])          "
   ]
  },
  {
   "cell_type": "code",
   "execution_count": 19,
   "metadata": {},
   "outputs": [
    {
     "name": "stdout",
     "output_type": "stream",
     "text": [
      "dict_keys(['loss', 'accuracy', 'val_loss', 'val_accuracy'])\n",
      "time: 1.08 ms (started: 2021-12-07 05:14:07 +00:00)\n"
     ]
    }
   ],
   "source": [
    "# List all data in history.\n",
    "\n",
    "print(history.history.keys())"
   ]
  },
  {
   "cell_type": "code",
   "execution_count": 20,
   "metadata": {},
   "outputs": [
    {
     "data": {
      "image/png": "[encoded data removed]",
      "text/plain": [
       "<Figure size 432x288 with 1 Axes>"
      ]
     },
     "metadata": {
      "needs_background": "light"
     },
     "output_type": "display_data"
    },
    {
     "name": "stdout",
     "output_type": "stream",
     "text": [
      "time: 203 ms (started: 2021-12-07 05:14:07 +00:00)\n"
     ]
    }
   ],
   "source": [
    "# Summarize history for accuracy.\n",
    "\n",
    "plt.plot(history.history['accuracy'])\n",
    "plt.plot(history.history['val_accuracy'])\n",
    "plt.title('model accuracy')\n",
    "plt.ylabel('accuracy')\n",
    "plt.xlabel('epoch')\n",
    "plt.legend(['train', 'valid'], loc='upper left')\n",
    "plt.show()"
   ]
  },
  {
   "cell_type": "code",
   "execution_count": 21,
   "metadata": {},
   "outputs": [
    {
     "data": {
      "image/png": "[encoded data removed]",
      "text/plain": [
       "<Figure size 432x288 with 1 Axes>"
      ]
     },
     "metadata": {
      "needs_background": "light"
     },
     "output_type": "display_data"
    },
    {
     "name": "stdout",
     "output_type": "stream",
     "text": [
      "time: 158 ms (started: 2021-12-07 05:14:07 +00:00)\n"
     ]
    }
   ],
   "source": [
    "# Summarize history for loss.\n",
    "\n",
    "plt.plot(history.history['loss'])\n",
    "plt.plot(history.history['val_loss'])\n",
    "plt.title('model loss')\n",
    "plt.ylabel('loss')\n",
    "plt.xlabel('epoch')\n",
    "plt.legend(['train', 'val'], loc='upper right')\n",
    "plt.show()"
   ]
  },
  {
   "cell_type": "markdown",
   "metadata": {},
   "source": [
    "### Define test pipeline."
   ]
  },
  {
   "cell_type": "code",
   "execution_count": 22,
   "metadata": {},
   "outputs": [
    {
     "name": "stdout",
     "output_type": "stream",
     "text": [
      "time: 1.76 ms (started: 2021-12-07 05:14:07 +00:00)\n"
     ]
    }
   ],
   "source": [
    "class TFRecordPipelineTest(Pipeline):\n",
    "    def __init__(self, batch_size, num_threads,\n",
    "                 device = 'cpu', device_id = 0):\n",
    "        super(TFRecordPipelineTest, self).__init__(batch_size,\n",
    "                                         num_threads,\n",
    "                                         device_id)\n",
    "        self.input = fn.readers.tfrecord(        \n",
    "             features = {\"image_raw\": tfrec.FixedLenFeature((), tfrec.string, \"\"),\n",
    "                         \"label\": tfrec.FixedLenFeature([22], tfrec.int64,  22)},\n",
    "             path = ['./tfrecords/22_emo_test.tfrecords'],\n",
    "             index_path = ['./tfrecords/22_emo_test.idx'],\n",
    "             random_shuffle=False,\n",
    "             seed = set_seed)\n",
    "        self.iter = 0\n",
    "    def define_graph(self):\n",
    "        inputs = self.input\n",
    "        images = fn.decoders.image(inputs[\"image_raw\"], device = \"mixed\", output_type = types.RGB) / 255.\n",
    "        labels = inputs[\"label\"].gpu()\n",
    "        return (images, labels)\n",
    "    def iter_setup(self):\n",
    "        pass"
   ]
  },
  {
   "cell_type": "markdown",
   "metadata": {},
   "source": [
    "### Check test data accuracy."
   ]
  },
  {
   "cell_type": "code",
   "execution_count": 23,
   "metadata": {
    "scrolled": false
   },
   "outputs": [
    {
     "name": "stdout",
     "output_type": "stream",
     "text": [
      "<DALIDataset shapes: ((1, 64, 64, 3), (1, 22)), types: (tf.float32, tf.int64)>\n",
      "1980/1980 [==============================] - 10s 5ms/step - loss: 0.6443 - accuracy: 0.8202\n",
      "Test accuracy: 0.8202019929885864\n",
      "A test output from the last layer: [4.55030415e-04 3.46465458e-06 3.08487862e-02 6.02742970e-01\n",
      " 9.59964003e-04 1.84694193e-06 5.72029307e-07 1.92538369e-03\n",
      " 1.84838214e-07 8.43602095e-07 2.44762450e-02 2.14706268e-03\n",
      " 4.23749071e-03 5.19338698e-07 7.08693729e-11 3.31916422e-01\n",
      " 3.15816942e-05 7.82901843e-05 5.25234609e-05 2.44807353e-07\n",
      " 1.49325560e-05 1.05648265e-04]\n",
      "Index of the maximum value: 3\n",
      "Label: angry\n",
      "time: 10.1 s (started: 2021-12-07 05:14:07 +00:00)\n"
     ]
    }
   ],
   "source": [
    "# https://docs.nvidia.com/deeplearning/dali/user-guide/docs/plugins/tensorflow_plugin_api.html\n",
    "\n",
    "if __name__ == \"__main__\":\n",
    "    batch_size = 1\n",
    "    shapes = ((batch_size, 64, 64, 3),\n",
    "              (batch_size, 22))\n",
    "    pipe_test = TFRecordPipelineTest(batch_size=batch_size, \n",
    "                            num_threads=1, \n",
    "                            device='gpu', \n",
    "                            device_id=0)\n",
    "\n",
    "    with tf.device('/gpu:0'):\n",
    "        ds_test = dali_tf.DALIDataset(\n",
    "            pipeline=pipe_test,\n",
    "            batch_size=batch_size,\n",
    "            output_shapes=shapes,\n",
    "            output_dtypes=(tf.float32, tf.int64),\n",
    "            device_id=0)\n",
    "        print(ds_test)\n",
    "        loss, acc = clf.evaluate(ds_test, steps=TEST_DATA_SIZE)\n",
    "        print(\"Test accuracy:\", acc)\n",
    "        predictions = clf.predict(ds_test.take(5))\n",
    "        print(\"A test output from the last layer:\", predictions[0])\n",
    "        print(\"Index of the maximum value:\", np.argmax(predictions[0]))\n",
    "        print(\"Label:\", LABELS[np.argmax(predictions[0])])"
   ]
  },
  {
   "cell_type": "code",
   "execution_count": 24,
   "metadata": {},
   "outputs": [
    {
     "data": {
      "text/plain": [
       "array([[4.55030415e-04, 3.46465458e-06, 3.08487862e-02, 6.02742970e-01,\n",
       "        9.59964003e-04, 1.84694193e-06, 5.72029307e-07, 1.92538369e-03,\n",
       "        1.84838214e-07, 8.43602095e-07, 2.44762450e-02, 2.14706268e-03,\n",
       "        4.23749071e-03, 5.19338698e-07, 7.08693729e-11, 3.31916422e-01,\n",
       "        3.15816942e-05, 7.82901843e-05, 5.25234609e-05, 2.44807353e-07,\n",
       "        1.49325560e-05, 1.05648265e-04],\n",
       "       [7.17194871e-06, 1.10592227e-05, 3.59092265e-01, 6.38576925e-01,\n",
       "        2.76340899e-04, 3.85553576e-04, 5.68136684e-08, 4.95624845e-05,\n",
       "        7.42186967e-05, 1.69048908e-09, 8.04048250e-05, 9.44555868e-05,\n",
       "        5.87260183e-06, 1.02237385e-11, 3.81084921e-12, 1.20191427e-03,\n",
       "        6.44524152e-06, 1.21073288e-04, 1.51683998e-05, 1.44364208e-06,\n",
       "        2.15554401e-08, 5.94438738e-08],\n",
       "       [5.46726915e-05, 3.75168020e-05, 8.59750784e-04, 1.12138100e-01,\n",
       "        8.76329243e-01, 7.89011779e-07, 1.43673464e-08, 1.70027743e-05,\n",
       "        1.98878915e-05, 2.34434856e-06, 1.83932658e-04, 1.01635847e-02,\n",
       "        2.73214264e-05, 3.54610926e-13, 2.14023558e-07, 2.59455774e-05,\n",
       "        4.47159364e-05, 3.39996291e-07, 2.70058376e-06, 4.28732676e-08,\n",
       "        1.26426147e-10, 9.18644364e-05],\n",
       "       [1.45144761e-01, 6.41214342e-07, 1.28914118e-02, 6.25613928e-01,\n",
       "        1.72200671e-04, 3.05159875e-09, 8.09140488e-07, 4.32710955e-03,\n",
       "        2.64201418e-07, 7.71231043e-06, 2.03932375e-02, 9.87886935e-02,\n",
       "        1.91452145e-05, 1.00359872e-08, 3.92309062e-07, 1.72146806e-03,\n",
       "        4.15785844e-03, 1.63855319e-07, 1.12751150e-04, 2.15434571e-12,\n",
       "        6.82707139e-07, 8.66467506e-02],\n",
       "       [6.18089416e-06, 3.13087781e-07, 1.48252514e-03, 8.81863832e-01,\n",
       "        8.28128308e-03, 1.43287204e-09, 6.02899410e-04, 9.69353840e-02,\n",
       "        4.50939965e-03, 2.28672037e-09, 8.70304822e-04, 4.81015677e-03,\n",
       "        6.08598784e-05, 2.31979370e-18, 4.64016921e-05, 9.55409923e-05,\n",
       "        1.11341751e-05, 2.02917072e-05, 4.92968582e-08, 8.75721889e-06,\n",
       "        4.46040275e-07, 3.94183677e-04]], dtype=float32)"
      ]
     },
     "execution_count": 24,
     "metadata": {},
     "output_type": "execute_result"
    },
    {
     "name": "stdout",
     "output_type": "stream",
     "text": [
      "time: 4.08 ms (started: 2021-12-07 05:14:17 +00:00)\n"
     ]
    }
   ],
   "source": [
    "predictions"
   ]
  },
  {
   "cell_type": "code",
   "execution_count": 25,
   "metadata": {
    "scrolled": false
   },
   "outputs": [
    {
     "data": {
      "text/plain": [
       "<matplotlib.image.AxesImage at 0x7fc48412f278>"
      ]
     },
     "execution_count": 25,
     "metadata": {},
     "output_type": "execute_result"
    },
    {
     "data": {
      "image/png": "[encoded data removed]",
      "text/plain": [
       "<Figure size 432x288 with 1 Axes>"
      ]
     },
     "metadata": {
      "needs_background": "light"
     },
     "output_type": "display_data"
    },
    {
     "name": "stdout",
     "output_type": "stream",
     "text": [
      "time: 195 ms (started: 2021-12-07 05:14:17 +00:00)\n"
     ]
    }
   ],
   "source": [
    "# Display the tested image.\n",
    "\n",
    "import matplotlib.pyplot as plt\n",
    "\n",
    "data, = ds_test.take(1)\n",
    "plt.imshow(data[0][0])"
   ]
  },
  {
   "cell_type": "code",
   "execution_count": 26,
   "metadata": {},
   "outputs": [
    {
     "data": {
      "text/plain": [
       "<tf.Tensor: shape=(1, 22), dtype=int64, numpy=array([[0, 0, 0, 1, 0, 0, 0, 0, 0, 0, 0, 0, 0, 0, 0, 0, 0, 0, 0, 0, 0, 0]])>"
      ]
     },
     "execution_count": 26,
     "metadata": {},
     "output_type": "execute_result"
    },
    {
     "name": "stdout",
     "output_type": "stream",
     "text": [
      "time: 2.68 ms (started: 2021-12-07 05:14:17 +00:00)\n"
     ]
    }
   ],
   "source": [
    "# Check the test data's true label.\n",
    "data[1]"
   ]
  },
  {
   "cell_type": "code",
   "execution_count": 27,
   "metadata": {},
   "outputs": [
    {
     "data": {
      "text/plain": [
       "(<tf.Tensor: shape=(1, 64, 64, 3), dtype=float32, numpy=\n",
       " array([[[[0.19607843, 0.15686275, 0.10588235],\n",
       "          [0.18431373, 0.14509805, 0.09411765],\n",
       "          [0.13725491, 0.10588235, 0.05098039],\n",
       "          ...,\n",
       "          [0.07058824, 0.0627451 , 0.05098039],\n",
       "          [0.10588235, 0.09019608, 0.09019608],\n",
       "          [0.08235294, 0.06666667, 0.06666667]],\n",
       " \n",
       "         [[0.1764706 , 0.13725491, 0.08627451],\n",
       "          [0.17254902, 0.13333334, 0.08235294],\n",
       "          [0.12941177, 0.09803922, 0.04313726],\n",
       "          ...,\n",
       "          [0.0627451 , 0.05490196, 0.04313726],\n",
       "          [0.09411765, 0.07843138, 0.07843138],\n",
       "          [0.09411765, 0.07843138, 0.07843138]],\n",
       " \n",
       "         [[0.18039216, 0.14901961, 0.09411765],\n",
       "          [0.15686275, 0.1254902 , 0.07058824],\n",
       "          [0.1254902 , 0.09019608, 0.04705882],\n",
       "          ...,\n",
       "          [0.08627451, 0.07843138, 0.06666667],\n",
       "          [0.09411765, 0.08627451, 0.08235294],\n",
       "          [0.07450981, 0.06666667, 0.0627451 ]],\n",
       " \n",
       "         ...,\n",
       " \n",
       "         [[0.34509805, 0.34901962, 0.28235295],\n",
       "          [0.34117648, 0.34509805, 0.2784314 ],\n",
       "          [0.32941177, 0.34901962, 0.28627452],\n",
       "          ...,\n",
       "          [0.44705883, 0.36862746, 0.30980393],\n",
       "          [0.42352942, 0.3529412 , 0.2901961 ],\n",
       "          [0.35686275, 0.28627452, 0.22352941]],\n",
       " \n",
       "         [[0.34117648, 0.34509805, 0.2784314 ],\n",
       "          [0.3372549 , 0.34117648, 0.27450982],\n",
       "          [0.3254902 , 0.34509805, 0.28235295],\n",
       "          ...,\n",
       "          [0.44705883, 0.36078432, 0.3137255 ],\n",
       "          [0.40784314, 0.3372549 , 0.28235295],\n",
       "          [0.29803923, 0.22745098, 0.17254902]],\n",
       " \n",
       "         [[0.34117648, 0.34509805, 0.2784314 ],\n",
       "          [0.3372549 , 0.34117648, 0.27450982],\n",
       "          [0.3254902 , 0.34509805, 0.28235295],\n",
       "          ...,\n",
       "          [0.4392157 , 0.3529412 , 0.30588236],\n",
       "          [0.3882353 , 0.31764707, 0.2627451 ],\n",
       "          [0.24705882, 0.1764706 , 0.12156863]]]], dtype=float32)>,\n",
       " <tf.Tensor: shape=(1, 22), dtype=int64, numpy=array([[0, 0, 0, 1, 0, 0, 0, 0, 0, 0, 0, 0, 0, 0, 0, 0, 0, 0, 0, 0, 0, 0]])>)"
      ]
     },
     "execution_count": 27,
     "metadata": {},
     "output_type": "execute_result"
    },
    {
     "name": "stdout",
     "output_type": "stream",
     "text": [
      "time: 8.78 ms (started: 2021-12-07 05:14:17 +00:00)\n"
     ]
    }
   ],
   "source": [
    "data"
   ]
  },
  {
   "cell_type": "code",
   "execution_count": 28,
   "metadata": {},
   "outputs": [
    {
     "name": "stdout",
     "output_type": "stream",
     "text": [
      "time: 5.58 s (started: 2021-12-07 05:14:17 +00:00)\n"
     ]
    }
   ],
   "source": [
    "pred_test = clf.predict(ds_test.take(TEST_DATA_SIZE))"
   ]
  },
  {
   "cell_type": "code",
   "execution_count": 29,
   "metadata": {},
   "outputs": [
    {
     "name": "stdout",
     "output_type": "stream",
     "text": [
      "time: 894 ms (started: 2021-12-07 05:14:23 +00:00)\n"
     ]
    }
   ],
   "source": [
    "true_test = np.concatenate([y for x, y in ds_test.take(TEST_DATA_SIZE)], axis=0)"
   ]
  },
  {
   "cell_type": "code",
   "execution_count": 30,
   "metadata": {},
   "outputs": [
    {
     "data": {
      "text/plain": [
       "(1980, 22)"
      ]
     },
     "execution_count": 30,
     "metadata": {},
     "output_type": "execute_result"
    },
    {
     "name": "stdout",
     "output_type": "stream",
     "text": [
      "time: 2.44 ms (started: 2021-12-07 05:14:24 +00:00)\n"
     ]
    }
   ],
   "source": [
    "true_test.shape"
   ]
  },
  {
   "cell_type": "code",
   "execution_count": 31,
   "metadata": {},
   "outputs": [
    {
     "data": {
      "text/plain": [
       "array([[ 23,   0,   0,   3,   0,   0,   0,   0,   1,   0,   0,   3,   0,\n",
       "          0,   0,   1,   0,   0,   0,   0,   0,   0],\n",
       "       [  0,  26,   1,   0,   0,   0,   0,   0,   0,   0,   1,   0,   0,\n",
       "          0,   0,   0,   0,   0,   0,   0,   0,   0],\n",
       "       [  2,   0, 211,  39,   5,   1,   0,   2,   1,   0,   1,   7,   0,\n",
       "          0,   0,   0,   1,   0,   0,   0,   0,   1],\n",
       "       [  1,   1,  10, 668,   6,   2,   4,  12,   2,   0,  14,  20,   3,\n",
       "          0,   1,   5,   1,   2,   7,   0,   0,   0],\n",
       "       [  0,   1,   2,  15,  69,   0,   0,   1,   0,   0,   1,   4,   1,\n",
       "          0,   0,   0,   1,   0,   0,   0,   0,   0],\n",
       "       [  0,   0,   2,   2,   0,  25,   0,   0,   0,   0,   1,   0,   0,\n",
       "          0,   0,   0,   0,   0,   0,   0,   0,   0],\n",
       "       [  0,   0,   0,   4,   0,   0,  10,   2,   0,   0,   0,   0,   0,\n",
       "          0,   0,   0,   0,   0,   0,   0,   0,   0],\n",
       "       [  1,   0,   1,  12,   2,   0,   0,  71,   0,   0,   1,   3,   0,\n",
       "          0,   0,   1,   0,   0,   0,   0,   0,   0],\n",
       "       [  0,   0,   0,   2,   0,   0,   0,   1,  10,   0,   1,   0,   0,\n",
       "          0,   0,   1,   0,   0,   0,   0,   0,   0],\n",
       "       [  0,   0,   0,   0,   0,   0,   0,   0,   0,   6,   0,   0,   0,\n",
       "          0,   0,   1,   0,   0,   0,   0,   0,   0],\n",
       "       [  1,   0,   7,  24,   0,   0,   0,   0,   0,   0, 156,   2,   0,\n",
       "          0,   0,   2,   0,   1,   0,   0,   0,   0],\n",
       "       [  1,   0,   3,  17,   1,   0,   0,   2,   0,   0,   1, 141,   0,\n",
       "          0,   0,   2,   0,   0,   1,   0,   1,   0],\n",
       "       [  0,   0,   0,   4,   0,   0,   0,   1,   0,   0,   0,   1,  45,\n",
       "          0,   0,   0,   0,   0,   0,   0,   0,   0],\n",
       "       [  0,   0,   0,   0,   0,   0,   0,   0,   0,   0,   0,   0,   0,\n",
       "          3,   0,   0,   0,   0,   0,   0,   0,   0],\n",
       "       [  0,   0,   0,   4,   0,   0,   0,   1,   0,   0,   0,   0,   0,\n",
       "          0,  15,   0,   0,   0,   0,   0,   0,   0],\n",
       "       [  0,   0,   3,  10,   1,   0,   0,   0,   1,   0,   0,   1,   0,\n",
       "          0,   0,  30,   0,   0,   0,   0,   0,   0],\n",
       "       [  1,   0,   0,   4,   1,   0,   0,   1,   0,   0,   0,   1,   0,\n",
       "          0,   0,   0,  35,   0,   0,   0,   0,   0],\n",
       "       [  0,   0,   1,   4,   2,   0,   0,   1,   0,   0,   4,   1,   0,\n",
       "          0,   0,   0,   0,  34,   0,   0,   0,   0],\n",
       "       [  0,   0,   0,   4,   1,   0,   0,   0,   0,   0,   1,   1,   0,\n",
       "          0,   0,   0,   0,   0,  10,   0,   0,   0],\n",
       "       [  0,   0,   0,   0,   0,   0,   0,   0,   0,   0,   0,   1,   0,\n",
       "          0,   0,   0,   0,   0,   0,  14,   0,   0],\n",
       "       [  0,   0,   0,   1,   0,   0,   0,   1,   0,   0,   0,   0,   0,\n",
       "          0,   0,   0,   0,   0,   0,   0,  17,   0],\n",
       "       [  0,   0,   2,   3,   0,   0,   0,   2,   0,   0,   0,   0,   0,\n",
       "          0,   0,   0,   0,   0,   0,   0,   0,   5]])"
      ]
     },
     "execution_count": 31,
     "metadata": {},
     "output_type": "execute_result"
    },
    {
     "name": "stdout",
     "output_type": "stream",
     "text": [
      "time: 45.1 ms (started: 2021-12-07 05:14:24 +00:00)\n"
     ]
    }
   ],
   "source": [
    "from sklearn.metrics import confusion_matrix\n",
    "\n",
    "pred_test_ls = []\n",
    "true_test_ls = []\n",
    "for (pred, true) in zip(pred_test, true_test):\n",
    "    pred_test_ls.append(np.argmax(pred))\n",
    "    true_test_ls.append(np.argmax(true))\n",
    "\n",
    "cf_matrix_test = confusion_matrix(true_test_ls, pred_test_ls)\n",
    "cf_matrix_test"
   ]
  },
  {
   "cell_type": "code",
   "execution_count": 32,
   "metadata": {},
   "outputs": [
    {
     "data": {
      "text/plain": [
       "Text(123.0, 0.5, 'True')"
      ]
     },
     "execution_count": 32,
     "metadata": {},
     "output_type": "execute_result"
    },
    {
     "data": {
      "image/png": "[encoded data removed]",
      "text/plain": [
       "<Figure size 1152x1152 with 2 Axes>"
      ]
     },
     "metadata": {
      "needs_background": "light"
     },
     "output_type": "display_data"
    },
    {
     "name": "stdout",
     "output_type": "stream",
     "text": [
      "time: 2.29 s (started: 2021-12-07 05:14:24 +00:00)\n"
     ]
    }
   ],
   "source": [
    "import seaborn as sns\n",
    "\n",
    "plt.figure(figsize = (16,16))\n",
    "sns.heatmap(cf_matrix_test, annot=True, cmap='Blues', xticklabels=LABELS, yticklabels=LABELS, fmt='g')\n",
    "plt.title('ConvNN: 22 Class FER')\n",
    "plt.xlabel('Predicted')\n",
    "plt.ylabel('True')"
   ]
  },
  {
   "cell_type": "code",
   "execution_count": 33,
   "metadata": {},
   "outputs": [
    {
     "name": "stdout",
     "output_type": "stream",
     "text": [
      "15840/15840 [==============================] - 77s 5ms/step - loss: 0.2000 - accuracy: 0.9472\n",
      "Train accuracy: 0.9472222328186035\n",
      "time: 1min 17s (started: 2021-12-07 05:14:26 +00:00)\n"
     ]
    }
   ],
   "source": [
    "# https://docs.nvidia.com/deeplearning/dali/user-guide/docs/plugins/tensorflow_plugin_api.html\n",
    "\n",
    "if __name__ == \"__main__\":\n",
    "    batch_size = 1\n",
    "    shapes = ((batch_size, 64, 64, 3),\n",
    "              (batch_size, 22))\n",
    "    pipe_train = TFRecordPipelineTrain(batch_size=batch_size, \n",
    "                            num_threads=4, \n",
    "                            device='gpu', \n",
    "                            device_id=0)\n",
    "\n",
    "    with tf.device('/gpu:0'):\n",
    "        ds_train = dali_tf.DALIDataset(\n",
    "            pipeline=pipe_train,\n",
    "            batch_size=batch_size,\n",
    "            output_shapes=shapes,\n",
    "            output_dtypes=(tf.float32, tf.int64),\n",
    "            device_id=0)\n",
    "        loss, acc = clf.evaluate(ds_train, steps=TRAIN_DATA_SIZE)\n",
    "        print(\"Train accuracy:\", acc)\n",
    "        #predictions = clf.predict(ds_train.take(1))\n",
    "        #print(\"A test output from the last layer:\", predictions[0])\n",
    "        #print(\"Index of the maximum value:\", np.argmax(predictions[0]))\n",
    "        #print(\"Label:\", LABELS[np.argmax(predictions[0])])"
   ]
  },
  {
   "cell_type": "code",
   "execution_count": 34,
   "metadata": {},
   "outputs": [
    {
     "name": "stdout",
     "output_type": "stream",
     "text": [
      "time: 45.1 s (started: 2021-12-07 05:15:44 +00:00)\n"
     ]
    }
   ],
   "source": [
    "pred_train = clf.predict(ds_train.take(TRAIN_DATA_SIZE))"
   ]
  },
  {
   "cell_type": "code",
   "execution_count": 35,
   "metadata": {},
   "outputs": [
    {
     "name": "stdout",
     "output_type": "stream",
     "text": [
      "time: 5.94 s (started: 2021-12-07 05:16:29 +00:00)\n"
     ]
    }
   ],
   "source": [
    "true_train = np.concatenate([y for x, y in ds_train.take(TRAIN_DATA_SIZE)], axis=0)"
   ]
  },
  {
   "cell_type": "code",
   "execution_count": 36,
   "metadata": {},
   "outputs": [
    {
     "data": {
      "text/plain": [
       "(15840, 22)"
      ]
     },
     "execution_count": 36,
     "metadata": {},
     "output_type": "execute_result"
    },
    {
     "name": "stdout",
     "output_type": "stream",
     "text": [
      "time: 2.45 ms (started: 2021-12-07 05:16:35 +00:00)\n"
     ]
    }
   ],
   "source": [
    "true_train.shape"
   ]
  },
  {
   "cell_type": "code",
   "execution_count": 37,
   "metadata": {},
   "outputs": [
    {
     "data": {
      "text/plain": [
       "array([[ 248,    0,    0,    1,    0,    0,    0,    0,    0,    0,    0,\n",
       "           0,    1,    0,    0,    0,    0,    0,    0,    0,    0,    0],\n",
       "       [   0,  224,    0,    0,    0,    0,    0,    0,    0,    0,    0,\n",
       "           0,    0,    0,    0,    0,    0,    0,    0,    0,    0,    0],\n",
       "       [   0,    0, 1937,  175,    4,    0,    0,    8,    0,    0,   12,\n",
       "          31,    3,    0,    0,    2,    0,    0,    0,    0,    0,    0],\n",
       "       [   0,    0,   56, 5874,   12,    0,    0,   14,    0,    0,   21,\n",
       "          74,    4,    0,    0,   12,    0,    0,    1,    0,    0,    0],\n",
       "       [   0,    0,    6,   53,  678,    0,    0,    2,    0,    0,    4,\n",
       "          13,    3,    0,    0,    1,    0,    0,    1,    0,    0,    0],\n",
       "       [   0,    0,    0,    0,    0,  240,    0,    0,    0,    0,    0,\n",
       "           0,    0,    0,    0,    0,    0,    0,    0,    0,    0,    0],\n",
       "       [   0,    0,    0,    0,    0,    0,  128,    0,    0,    0,    0,\n",
       "           0,    0,    0,    0,    0,    0,    0,    0,    0,    0,    0],\n",
       "       [   0,    0,    5,   37,    3,    0,    0,  676,    0,    0,    2,\n",
       "           8,    1,    0,    0,    2,    0,    0,    0,    0,    0,    0],\n",
       "       [   0,    0,    0,    0,    0,    0,    0,    0,  119,    0,    0,\n",
       "           0,    0,    0,    0,    0,    0,    0,    0,    0,    0,    0],\n",
       "       [   0,    0,    0,    0,    0,    0,    0,    0,    0,   59,    0,\n",
       "           0,    0,    0,    0,    0,    0,    0,    0,    0,    0,    0],\n",
       "       [   3,    0,   20,   92,    2,    0,    0,    1,    0,    0, 1399,\n",
       "          18,    4,    0,    0,    3,    1,    0,    0,    0,    1,    0],\n",
       "       [   0,    0,    9,   57,    2,    0,    0,    4,    0,    0,    3,\n",
       "        1282,    2,    0,    0,    2,    0,    0,    1,    0,    0,    0],\n",
       "       [   0,    0,    1,    9,    1,    0,    0,    0,    0,    0,    0,\n",
       "           1,  394,    0,    0,    1,    0,    0,    0,    0,    0,    0],\n",
       "       [   0,    0,    0,    0,    0,    0,    0,    0,    0,    0,    0,\n",
       "           0,    0,   22,    0,    0,    0,    0,    0,    0,    0,    0],\n",
       "       [   0,    0,    0,    0,    0,    0,    0,    0,    0,    0,    0,\n",
       "           0,    0,    0,  162,    0,    0,    0,    0,    0,    0,    0],\n",
       "       [   0,    0,    2,   11,    1,    0,    0,    0,    0,    0,    0,\n",
       "           1,    0,    0,    0,  349,    0,    0,    0,    0,    0,    0],\n",
       "       [   0,    0,    1,    2,    0,    0,    0,    1,    0,    0,    0,\n",
       "           0,    0,    0,    0,    0,  337,    0,    0,    0,    0,    0],\n",
       "       [   0,    0,    3,    2,    0,    0,    0,    0,    0,    0,    1,\n",
       "           1,    0,    0,    0,    0,    0,  373,    0,    0,    0,    0],\n",
       "       [   0,    0,    0,    0,    0,    0,    0,    0,    0,    0,    0,\n",
       "           0,    0,    0,    0,    0,    0,    0,  140,    0,    0,    0],\n",
       "       [   0,    0,    0,    0,    0,    0,    0,    0,    0,    0,    0,\n",
       "           0,    0,    0,    0,    0,    0,    0,    0,  123,    0,    0],\n",
       "       [   0,    0,    0,    0,    0,    0,    0,    0,    0,    0,    0,\n",
       "           0,    0,    0,    0,    0,    0,    0,    0,    0,  147,    0],\n",
       "       [   0,    0,    0,    0,    0,    0,    0,    0,    0,    0,    0,\n",
       "           0,    0,    0,    0,    0,    0,    0,    0,    0,    0,   93]])"
      ]
     },
     "execution_count": 37,
     "metadata": {},
     "output_type": "execute_result"
    },
    {
     "name": "stdout",
     "output_type": "stream",
     "text": [
      "time: 92.4 ms (started: 2021-12-07 05:16:35 +00:00)\n"
     ]
    }
   ],
   "source": [
    "pred_train_ls = []\n",
    "true_train_ls = []\n",
    "for (pred, true) in zip(pred_train, true_train):\n",
    "    pred_train_ls.append(np.argmax(pred))\n",
    "    true_train_ls.append(np.argmax(true))\n",
    "\n",
    "cf_matrix_train = confusion_matrix(true_train_ls, pred_train_ls)\n",
    "cf_matrix_train"
   ]
  },
  {
   "cell_type": "code",
   "execution_count": 38,
   "metadata": {},
   "outputs": [
    {
     "data": {
      "text/plain": [
       "Text(123.0, 0.5, 'True')"
      ]
     },
     "execution_count": 38,
     "metadata": {},
     "output_type": "execute_result"
    },
    {
     "data": {
      "image/png": "[encoded data removed]",
      "text/plain": [
       "<Figure size 1152x1152 with 2 Axes>"
      ]
     },
     "metadata": {
      "needs_background": "light"
     },
     "output_type": "display_data"
    },
    {
     "name": "stdout",
     "output_type": "stream",
     "text": [
      "time: 2.24 s (started: 2021-12-07 05:16:35 +00:00)\n"
     ]
    }
   ],
   "source": [
    "plt.figure(figsize = (16,16))\n",
    "sns.heatmap(cf_matrix_train, annot=True, cmap='Blues', xticklabels=LABELS, yticklabels=LABELS, fmt='g')\n",
    "plt.title('ConvNN: 22 Class FER (Train Data)')\n",
    "plt.xlabel('Predicted')\n",
    "plt.ylabel('True')"
   ]
  },
  {
   "cell_type": "code",
   "execution_count": null,
   "metadata": {},
   "outputs": [],
   "source": []
  }
 ],
 "metadata": {
  "kernelspec": {
   "display_name": "Python 3",
   "language": "python",
   "name": "python3"
  },
  "language_info": {
   "codemirror_mode": {
    "name": "ipython",
    "version": 3
   },
   "file_extension": ".py",
   "mimetype": "text/x-python",
   "name": "python",
   "nbconvert_exporter": "python",
   "pygments_lexer": "ipython3",
   "version": "3.6.9"
  }
 },
 "nbformat": 4,
 "nbformat_minor": 2
}
