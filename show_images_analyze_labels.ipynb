{
  "cells": [
    {
      "cell_type": "markdown",
      "metadata": {
        "id": "xiT1eWl6YfhZ"
      },
      "source": [
        "This notebook contains the code used in the BigComp 2022 paper: <br>\n",
        "<b>Heeryon Cho, Woo-Kyu Kang, Younsoo Park, Sungeu Chae, and Seong-joon Kim, \"Multi-label Facial Emotion Recognition Using Korean Drama Movie Clips,\" BigComp 2022.</b>\n",
        "### Convert tfrecords into images & Analyze image labels"
      ]
    },
    {
      "cell_type": "code",
      "source": [
        "from google.colab import drive\n",
        "drive.mount('/content/drive')"
      ],
      "metadata": {
        "colab": {
          "base_uri": "https://localhost:8080/"
        },
        "id": "XjDkvqKLfGFd",
        "outputId": "087e41a5-dc6e-46bf-b0d3-8b62a4dfbfae"
      },
      "execution_count": 1,
      "outputs": [
        {
          "output_type": "stream",
          "name": "stdout",
          "text": [
            "Drive already mounted at /content/drive; to attempt to forcibly remount, call drive.mount(\"/content/drive\", force_remount=True).\n"
          ]
        }
      ]
    },
    {
      "cell_type": "code",
      "source": [
        "!pip install ipython-autotime"
      ],
      "metadata": {
        "colab": {
          "base_uri": "https://localhost:8080/"
        },
        "id": "X4GgckCPZNSa",
        "outputId": "c62358a8-50bb-4266-b2db-acb20030c01f"
      },
      "execution_count": 2,
      "outputs": [
        {
          "output_type": "stream",
          "name": "stdout",
          "text": [
            "Requirement already satisfied: ipython-autotime in /usr/local/lib/python3.7/dist-packages (0.3.1)\n",
            "Requirement already satisfied: ipython in /usr/local/lib/python3.7/dist-packages (from ipython-autotime) (5.5.0)\n",
            "Requirement already satisfied: setuptools>=18.5 in /usr/local/lib/python3.7/dist-packages (from ipython->ipython-autotime) (57.4.0)\n",
            "Requirement already satisfied: prompt-toolkit<2.0.0,>=1.0.4 in /usr/local/lib/python3.7/dist-packages (from ipython->ipython-autotime) (1.0.18)\n",
            "Requirement already satisfied: traitlets>=4.2 in /usr/local/lib/python3.7/dist-packages (from ipython->ipython-autotime) (5.1.1)\n",
            "Requirement already satisfied: pexpect in /usr/local/lib/python3.7/dist-packages (from ipython->ipython-autotime) (4.8.0)\n",
            "Requirement already satisfied: pygments in /usr/local/lib/python3.7/dist-packages (from ipython->ipython-autotime) (2.6.1)\n",
            "Requirement already satisfied: simplegeneric>0.8 in /usr/local/lib/python3.7/dist-packages (from ipython->ipython-autotime) (0.8.1)\n",
            "Requirement already satisfied: pickleshare in /usr/local/lib/python3.7/dist-packages (from ipython->ipython-autotime) (0.7.5)\n",
            "Requirement already satisfied: decorator in /usr/local/lib/python3.7/dist-packages (from ipython->ipython-autotime) (4.4.2)\n",
            "Requirement already satisfied: wcwidth in /usr/local/lib/python3.7/dist-packages (from prompt-toolkit<2.0.0,>=1.0.4->ipython->ipython-autotime) (0.2.5)\n",
            "Requirement already satisfied: six>=1.9.0 in /usr/local/lib/python3.7/dist-packages (from prompt-toolkit<2.0.0,>=1.0.4->ipython->ipython-autotime) (1.15.0)\n",
            "Requirement already satisfied: ptyprocess>=0.5 in /usr/local/lib/python3.7/dist-packages (from pexpect->ipython->ipython-autotime) (0.7.0)\n"
          ]
        }
      ]
    },
    {
      "cell_type": "code",
      "execution_count": 3,
      "metadata": {
        "id": "wrw4xdJDYfhc"
      },
      "outputs": [],
      "source": [
        "import os\n",
        "import pandas as pd\n",
        "import random as rn\n",
        "import numpy as np\n",
        "from collections import Counter\n",
        "from IPython.display import display, Image\n",
        "import tensorflow as tf"
      ]
    },
    {
      "cell_type": "code",
      "execution_count": 4,
      "metadata": {
        "colab": {
          "base_uri": "https://localhost:8080/"
        },
        "id": "k3l_XyWQYfhd",
        "outputId": "b4608512-8592-4778-cfb9-0a694f69f6c6"
      },
      "outputs": [
        {
          "output_type": "stream",
          "name": "stdout",
          "text": [
            "time: 418 µs (started: 2022-05-09 11:20:04 +00:00)\n"
          ]
        }
      ],
      "source": [
        "# Record cell run time.\n",
        "#!pip install ipython-autotime\n",
        "\n",
        "%load_ext autotime"
      ]
    },
    {
      "cell_type": "markdown",
      "metadata": {
        "id": "AFczW1gJYfhe"
      },
      "source": [
        "## 1. Convert tfrecord file into images"
      ]
    },
    {
      "cell_type": "code",
      "execution_count": 5,
      "metadata": {
        "colab": {
          "base_uri": "https://localhost:8080/"
        },
        "id": "-i_C407LYfhf",
        "outputId": "fc4cd10e-825a-4590-9f42-b667f5606cf0"
      },
      "outputs": [
        {
          "output_type": "execute_result",
          "data": {
            "text/plain": [
              "<MapDataset element_spec={'depth': TensorSpec(shape=(), dtype=tf.int64, name=None), 'height': TensorSpec(shape=(), dtype=tf.int64, name=None), 'image_raw': TensorSpec(shape=(), dtype=tf.string, name=None), 'label': TensorSpec(shape=(24,), dtype=tf.int64, name=None), 'width': TensorSpec(shape=(), dtype=tf.int64, name=None)}>"
            ]
          },
          "metadata": {},
          "execution_count": 5
        },
        {
          "output_type": "stream",
          "name": "stdout",
          "text": [
            "time: 162 ms (started: 2022-05-09 11:20:04 +00:00)\n"
          ]
        }
      ],
      "source": [
        "# Create a dictionary describing the features.\n",
        "image_feature_description = {\n",
        "    'height': tf.io.FixedLenFeature([], tf.int64),\n",
        "    'width': tf.io.FixedLenFeature([], tf.int64),\n",
        "    'depth': tf.io.FixedLenFeature([], tf.int64),\n",
        "    'label': tf.io.FixedLenFeature([24], tf.int64),  # adjust the number with [6, 22, 24] labels (6_basic_emo, 22_emo, multi-label)\n",
        "    'image_raw': tf.io.FixedLenFeature([], tf.string),\n",
        "}\n",
        "\n",
        "def _parse_image_function(example_proto):\n",
        "    # Parse the input tf.train.Example proto using the dictionary above.\n",
        "    return tf.io.parse_single_example(example_proto, image_feature_description)\n",
        "\n",
        "raw_image_dataset = tf.data.TFRecordDataset('/content/sample_data/multi-label_test.tfrecords')\n",
        "\n",
        "parsed_image_dataset = raw_image_dataset.map(_parse_image_function)\n",
        "parsed_image_dataset"
      ]
    },
    {
      "cell_type": "code",
      "execution_count": 6,
      "metadata": {
        "colab": {
          "base_uri": "https://localhost:8080/",
          "height": 246
        },
        "id": "3ZDtMUF1Yfhf",
        "outputId": "21543357-45b2-4d0f-932e-7d5293de0556"
      },
      "outputs": [
        {
          "output_type": "display_data",
          "data": {
            "text/plain": [
              "<IPython.core.display.Image object>"
            ],
            "image/jpeg": "[encoded data removed]"
          },
          "metadata": {}
        },
        {
          "output_type": "display_data",
          "data": {
            "text/plain": [
              "<IPython.core.display.Image object>"
            ],
            "image/jpeg": "[encoded data removed]"
          },
          "metadata": {}
        },
        {
          "output_type": "display_data",
          "data": {
            "text/plain": [
              "<IPython.core.display.Image object>"
            ],
            "image/jpeg": "[encoded data removed]"
          },
          "metadata": {}
        },
        {
          "output_type": "stream",
          "name": "stdout",
          "text": [
            "Number of images displayed: 3\n",
            "time: 67.4 ms (started: 2022-05-09 11:20:04 +00:00)\n"
          ]
        }
      ],
      "source": [
        "n = 0\n",
        "for image_features in parsed_image_dataset.take(3):\n",
        "    image_raw = image_features['image_raw'].numpy()\n",
        "    display(Image(data=image_raw))\n",
        "    n += 1\n",
        "print(\"Number of images displayed:\", n)"
      ]
    },
    {
      "cell_type": "markdown",
      "metadata": {
        "id": "BgffeJIEYfhg"
      },
      "source": [
        "## 2. Analyze emotion labels."
      ]
    },
    {
      "cell_type": "markdown",
      "metadata": {
        "id": "Gg5uiNk0Yfhg"
      },
      "source": [
        "### Read emotion labels."
      ]
    },
    {
      "cell_type": "code",
      "execution_count": 7,
      "metadata": {
        "colab": {
          "base_uri": "https://localhost:8080/"
        },
        "id": "RDv6rbTdYfhh",
        "outputId": "a62f4b73-4e50-4653-c898-565f4d9375e3"
      },
      "outputs": [
        {
          "output_type": "stream",
          "name": "stdout",
          "text": [
            "Index(['img_id', 'clip_id', 'moved', 'fearful', 'bored', 'surprised', 'angry',\n",
            "       'anxious', 'smitten', 'fluttered', 'disappointed', 'fulfilled',\n",
            "       'ashamed', 'sad', 'upset', 'sympathetic', 'passionate', 'depressed',\n",
            "       'amused', 'affectionate', 'guilty', 'neutral', 'jealous', 'peaceful',\n",
            "       'happy', 'disgusted'],\n",
            "      dtype='object')\n",
            "(3882, 26)\n",
            "LABELS= ['moved', 'fearful', 'bored', 'surprised', 'angry', 'anxious', 'smitten', 'fluttered', 'disappointed', 'fulfilled', 'ashamed', 'sad', 'upset', 'sympathetic', 'passionate', 'depressed', 'amused', 'affectionate', 'guilty', 'neutral', 'jealous', 'peaceful', 'happy', 'disgusted']\n",
            "24\n",
            "time: 61.3 ms (started: 2022-05-09 11:20:04 +00:00)\n"
          ]
        }
      ],
      "source": [
        "# Load labels, check headers, check data shape.\n",
        "\n",
        "df_label = pd.read_csv('/content/sample_data/label_multi-label_test.csv')\n",
        "print(df_label.columns)\n",
        "print(df_label.shape)\n",
        "\n",
        "LABELS = list(df_label.columns[2:])\n",
        "print(\"LABELS=\", LABELS)\n",
        "print(len(LABELS))"
      ]
    },
    {
      "cell_type": "code",
      "execution_count": 8,
      "metadata": {
        "colab": {
          "base_uri": "https://localhost:8080/"
        },
        "id": "f05YWOqbYfhi",
        "outputId": "b4091f44-aca6-4074-ca99-ebc4eaa82330"
      },
      "outputs": [
        {
          "output_type": "execute_result",
          "data": {
            "text/plain": [
              "3882"
            ]
          },
          "metadata": {},
          "execution_count": 8
        },
        {
          "output_type": "stream",
          "name": "stdout",
          "text": [
            "time: 1.14 s (started: 2022-05-09 11:20:04 +00:00)\n"
          ]
        }
      ],
      "source": [
        "# Place label data into a dictionary.\n",
        "\n",
        "dict_label = {}\n",
        "for idx, row in df_label.iterrows():\n",
        "    dict_label[row['img_id']] = list(row['moved':'disgusted'].values)\n",
        "len(dict_label)"
      ]
    },
    {
      "cell_type": "code",
      "source": [
        "dict_label.keys()"
      ],
      "metadata": {
        "colab": {
          "base_uri": "https://localhost:8080/"
        },
        "id": "0jV7v39raCnK",
        "outputId": "0e0f29e6-2e52-4e24-8920-b02da11f31e8"
      },
      "execution_count": 9,
      "outputs": [
        {
          "output_type": "execute_result",
          "data": {
            "text/plain": [
              "dict_keys(['06_0001055_00003.jpg', '16_0032-19_00004.jpg', '03_0010-18_00069.jpg', '12_0002-33_00024.jpg', '12_0008-45_00011.jpg', '12_0007-22_00044.jpg', '22_0000913_00002.jpg', '03_0012-55_00031.jpg', '06_0000676_00023.jpg', '12_0006-48_00006.jpg', '06_0000491_00047.jpg', '12_0015-30_00024.jpg', '06_0000846_00008.jpg', '06_0000208_00032.jpg', '06_0000989_00004.jpg', '03_0009-44_00054.jpg', '12_0013-12_00003.jpg', '22_0000753_00006.jpg', '06_0001079_00007.jpg', '06_0000965_00028.jpg', '22_0000923_00021.jpg', '22_0000663_00010.jpg', '06_0000449_00005.jpg', '06_0000989_00030.jpg', '03_001-103_00008.jpg', '06_0000854_00016.jpg', '06_0000987_00023.jpg', '12_0002-82_00008.jpg', '03_0009-81_00018.jpg', '03_0010-88_00018.jpg', '12_0003-12_00002.jpg', '22_0000054_00020.jpg', '06_0000134_00038.jpg', '12_0011-21_00001.jpg', '12_0001-40_00010.jpg', '03_0002-87_00007.jpg', '03_0003-15_00006.jpg', '06_0000686_00020.jpg', '12_0004-57_00004.jpg', '16_0026-10_00001.jpg', '06_0000031_00033.jpg', '16_00033-8_00001.jpg', '03_0007-70_00017.jpg', '06_0000328_00006.jpg', '03_0007-42_00020.jpg', '03_0010-20_00004.jpg', '12_0007-47_00004.jpg', '12_0011-23_00007.jpg', '06_0000227_00044.jpg', '16_00019-9_00007.jpg', '06_0001088_00011.jpg', '06_0001003_00001.jpg', '03_0014-11_00050.jpg', '12_0008-27_00012.jpg', '06_0000241_00044.jpg', '03_0001-27_00015.jpg', '06_0000856_00027.jpg', '12_0008-20_00044.jpg', '03_0003-55_00041.jpg', '06_0000106_00001.jpg', '03_0003-57_00099.jpg', '12_0016-57_00003.jpg', '03_0010-39_00024.jpg', '06_0000210_00005.jpg', '03_0005-67_00013.jpg', '03_0008-26_00047.jpg', '22_0000973_00006.jpg', '12_0012-12_00044.jpg', '12_0012-11_00010.jpg', '03_0007-35_00013.jpg', '12_0012-10_00008.jpg', '22_0000851_00001.jpg', '03_0010-89_00022.jpg', '22_0000971_00044.jpg', '12_0011-72_00025.jpg', '06_0000023_00006.jpg', '16_0019-20_00089.jpg', '12_00006-9_00010.jpg', '06_0001081_00019.jpg', '22_0000901_00010.jpg', '16_0016-17_00008.jpg', '12_0010-38_00030.jpg', '06_0000987_00040.jpg', '03_0004-56_00019.jpg', '12_0007-52_00003.jpg', '06_0000808_00062.jpg', '06_0000353_00009.jpg', '16_00014-1_00024.jpg', '22_0001015_00021.jpg', '06_0000602_00013.jpg', '16_00027-7_00002.jpg', '03_0013-51_00015.jpg', '12_0012-33_00049.jpg', '22_0000273_00014.jpg', '12_0003-43_00028.jpg', '12_0004-12_00003.jpg', '16_00007-1_00010.jpg', '12_0010-15_00026.jpg', '12_0008-26_00004.jpg', '12_0003-68_00008.jpg', '03_0014-12_00020.jpg', '06_0000590_00009.jpg', '06_0000787_00007.jpg', '06_0000408_00047.jpg', '03_0013-73_00004.jpg', '06_0001049_00030.jpg', '12_00002-9_00001.jpg', '06_0000434_00006.jpg', '16_00014-4_00005.jpg', '03_0005-51_00001.jpg', '12_0002-67_00052.jpg', '22_0000059_00018.jpg', '03_0004-71_00023.jpg', '22_0000920_00001.jpg', '16_00018-2_00020.jpg', '06_0001061_00033.jpg', '03_0007-46_00017.jpg', '12_00016-3_00005.jpg', '06_0000809_00023.jpg', '12_0016-35_00005.jpg', '03_0004-50_00057.jpg', '03_0006-61_00008.jpg', '22_0000117_00010.jpg', '16_0035-13_00014.jpg', '03_0006-18_00016.jpg', '16_0035-15_00013.jpg', '03_0011-71_00012.jpg', '12_0012-12_00046.jpg', '12_0002-73_00005.jpg', '06_0000963_00044.jpg', '06_0000207_00004.jpg', '06_0000510_00005.jpg', '03_0006-37_00032.jpg', '03_0004-31_00036.jpg', '03_0006-83_00016.jpg', '16_0033-15_00005.jpg', '16_0026-11_00010.jpg', '03_0009-37_00008.jpg', '12_0007-39_00008.jpg', '22_0000831_00003.jpg', '06_0000649_00100.jpg', '06_0000424_00028.jpg', '06_0001068_00007.jpg', '06_0001018_00011.jpg', '16_0031-11_00008.jpg', '22_0000457_00026.jpg', '16_0023-17_00008.jpg', '03_001-119_00014.jpg', '06_0000735_00134.jpg', '16_00011-7_00006.jpg', '03_0007-59_00019.jpg', '06_0000707_00011.jpg', '03_0006-17_00013.jpg', '12_0011-12_00002.jpg', '06_0000224_00021.jpg', '03_0009-68_00056.jpg', '12_0010-42_00025.jpg', '03_0010-46_00036.jpg', '12_00010-8_00009.jpg', '12_0007-39_00007.jpg', '22_0001060_00008.jpg', '06_0000416_00048.jpg', '03_0005-21_00026.jpg', '06_0001082_00007.jpg', '12_0013-57_00015.jpg', '12_0001-67_00026.jpg', '03_00011-1_00011.jpg', '22_0000852_00014.jpg', '16_00035-7_00010.jpg', '06_0000521_00006.jpg', '03_0007-24_00003.jpg', '03_0007-69_00021.jpg', '12_0001-64_00007.jpg', '12_0003-67_00020.jpg', '06_0000941_00005.jpg', '12_0012-29_00019.jpg', '03_0001-14_00010.jpg', '22_0000740_00010.jpg', '12_0010-49_00002.jpg', '12_0009-37_00021.jpg', '12_0011-76_00018.jpg', '03_0012-84_00015.jpg', '06_0000851_00016.jpg', '16_0033-10_00006.jpg', '03_0005-68_00032.jpg', '03_0001-19_00002.jpg', '03_001-134_00022.jpg', '12_0013-13_00002.jpg', '12_0010-10_00015.jpg', '12_0013-57_00037.jpg', '22_0000971_00028.jpg', '22_0001068_00019.jpg', '06_0000794_00006.jpg', '16_0014-21_00004.jpg', '03_0005-59_00012.jpg', '12_0013-42_00037.jpg', '06_0000959_00038.jpg', '12_0004-51_00004.jpg', '16_0031-11_00010.jpg', '06_0000491_00070.jpg', '12_0010-54_00002.jpg', '22_0000057_00020.jpg', '16_00015-6_00003.jpg', '22_0000301_00004.jpg', '03_011-103_00042.jpg', '03_0009-42_00017.jpg', '12_00002-5_00028.jpg', '22_0000881_00075.jpg', '22_0000525_00033.jpg', '16_0014-24_00005.jpg', '06_0000896_00011.jpg', '06_0000675_00026.jpg', '03_0005-99_00018.jpg', '12_0009-51_00005.jpg', '03_0004-56_00008.jpg', '03_0013-56_00009.jpg', '03_0005-27_00028.jpg', '03_0008-55_00014.jpg', '22_0000150_00008.jpg', '12_0005-55_00009.jpg', '22_0000981_00026.jpg', '12_0008-42_00036.jpg', '06_0000209_00010.jpg', '22_0000750_00046.jpg', '12_0004-16_00029.jpg', '06_0001116_00113.jpg', '22_0000585_00004.jpg', '16_0029-11_00004.jpg', '22_0000729_00006.jpg', '06_0000737_00087.jpg', '03_0008-44_00026.jpg', '22_0001033_00014.jpg', '03_0013-42_00031.jpg', '16_0031-11_00007.jpg', '03_0009-37_00046.jpg', '12_0016-33_00002.jpg', '22_0000825_00014.jpg', '03_0004-45_00024.jpg', '16_0003-38_00002.jpg', '16_00015-9_00008.jpg', '12_0015-60_00006.jpg', '12_00006-3_00002.jpg', '12_0002-44_00016.jpg', '22_0000803_00001.jpg', '12_0012-31_00002.jpg', '22_0000866_00052.jpg', '16_0005-26_00004.jpg', '12_0001-61_00012.jpg', '22_0000074_00006.jpg', '03_0012-88_00010.jpg', '03_0010-45_00003.jpg', '12_0010-18_00008.jpg', '12_0016-45_00008.jpg', '03_0008-49_00043.jpg', '16_0003-22_00006.jpg', '03_0010-97_00042.jpg', '12_00014-9_00004.jpg', '03_0009-44_00011.jpg', '12_00016-6_00004.jpg', '06_0000695_00006.jpg', '06_0000039_00032.jpg', '12_0016-52_00013.jpg', '03_0007-67_00009.jpg', '22_0000520_00016.jpg', '06_0001067_00014.jpg', '06_0000459_00003.jpg', '16_0026-28_00013.jpg', '06_0001086_00017.jpg', '22_0000624_00009.jpg', '16_00014-7_00008.jpg', '22_0000972_00069.jpg', '12_0011-24_00023.jpg', '12_0002-68_00022.jpg', '22_0000391_00003.jpg', '03_0006-52_00007.jpg', '03_0005-62_00025.jpg', '12_0015-66_00025.jpg', '06_0000103_00008.jpg', '03_0008-43_00001.jpg', '03_0004-66_00002.jpg', '03_0004-76_00040.jpg', '16_00007-7_00002.jpg', '06_0000847_00011.jpg', '06_0000491_00057.jpg', '22_0000072_00033.jpg', '22_0000673_00005.jpg', '12_0010-16_00016.jpg', '12_00015-3_00013.jpg', '12_0003-60_00016.jpg', '22_0001015_00006.jpg', '22_0000750_00069.jpg', '03_0013-62_00002.jpg', '06_0001082_00018.jpg', '12_0011-18_00009.jpg', '03_0014-63_00037.jpg', '16_00026-4_00029.jpg', '06_0000077_00003.jpg', '03_0006-45_00008.jpg', '06_0000885_00024.jpg', '06_0001002_00002.jpg', '06_0000179_00005.jpg', '12_0001-62_00013.jpg', '06_0000551_00038.jpg', '22_0000923_00020.jpg', '12_0015-14_00005.jpg', '03_0014-58_00015.jpg', '06_0000126_00040.jpg', '03_0005-68_00015.jpg', '03_0003-54_00026.jpg', '03_0007-49_00007.jpg', '06_0000739_00009.jpg', '03_0009-34_00047.jpg', '06_0000768_00011.jpg', '06_0000847_00017.jpg', '12_0006-20_00023.jpg', '12_0001-52_00032.jpg', '12_0004-31_00012.jpg', '22_0000866_00025.jpg', '16_0027-12_00004.jpg', '03_00007-4_00002.jpg', '03_0007-51_00007.jpg', '03_0001-14_00015.jpg', '12_0008-49_00019.jpg', '12_0012-35_00025.jpg', '03_0009-29_00018.jpg', '16_00015-6_00015.jpg', '06_0000038_00005.jpg', '03_0013-68_00001.jpg', '12_0002-71_00014.jpg', '22_0000541_00002.jpg', '12_0006-43_00010.jpg', '06_0000989_00005.jpg', '12_0008-40_00004.jpg', '22_0000728_00007.jpg', '03_003-119_00026.jpg', '06_0001010_00019.jpg', '03_0005-61_00022.jpg', '22_0000798_00009.jpg', '06_0001086_00070.jpg', '03_0014-37_00032.jpg', '06_0000698_00006.jpg', '12_0003-34_00010.jpg', '22_0000054_00008.jpg', '03_0012-90_00019.jpg', '12_0014-30_00026.jpg', '03_0001-87_00004.jpg', '06_0000863_00002.jpg', '12_0002-11_00010.jpg', '03_0010-20_00022.jpg', '06_0000481_00058.jpg', '06_0000534_00026.jpg', '16_0007-18_00002.jpg', '06_0000082_00041.jpg', '03_0003-80_00003.jpg', '12_0012-35_00040.jpg', '03_0004-23_00015.jpg', '16_0027-12_00001.jpg', '03_0003-60_00001.jpg', '22_0000522_00036.jpg', '12_0014-43_00016.jpg', '03_0012-90_00004.jpg', '12_00005-6_00021.jpg', '03_0005-30_00005.jpg', '03_0014-45_00034.jpg', '06_0000511_00033.jpg', '03_00007-3_00004.jpg', '12_00012-3_00011.jpg', '22_0000865_00013.jpg', '12_0016-69_00011.jpg', '03_001-119_00012.jpg', '03_0005-60_00029.jpg', '06_0001083_00009.jpg', '06_0000212_00016.jpg', '12_0014-40_00010.jpg', '12_0006-43_00015.jpg', '12_0004-58_00020.jpg', '03_001-124_00013.jpg', '22_0000094_00029.jpg', '12_0005-19_00010.jpg', '22_0000366_00009.jpg', '12_0015-15_00005.jpg', '06_0001012_00008.jpg', '12_0007-64_00008.jpg', '16_0015-16_00006.jpg', '12_0011-22_00001.jpg', '12_0006-47_00038.jpg', '22_0000549_00013.jpg', '03_0009-29_00021.jpg', '12_00007-8_00013.jpg', '03_0011-48_00003.jpg', '06_0000734_00012.jpg', '06_0000735_00139.jpg', '12_0001-47_00011.jpg', '16_0026-19_00016.jpg', '03_0005-46_00016.jpg', '06_0000739_00037.jpg', '22_0001008_00033.jpg', '12_0004-30_00021.jpg', '03_0014-44_00006.jpg', '06_0001140_00006.jpg', '12_0016-31_00002.jpg', '22_0000893_00008.jpg', '12_0016-35_00008.jpg', '06_0000690_00045.jpg', '22_0000618_00043.jpg', '12_0010-20_00011.jpg', '16_0001-56_00011.jpg', '22_0000902_00096.jpg', '06_0000461_00001.jpg', '16_00030-1_00014.jpg', '06_0000758_00004.jpg', '12_0003-60_00049.jpg', '12_0015-72_00006.jpg', '03_0007-69_00003.jpg', '06_0001102_00025.jpg', '06_0001012_00019.jpg', '22_0000164_00063.jpg', '06_0000788_00017.jpg', '06_0000206_00010.jpg', '16_0030-20_00003.jpg', '22_0000981_00028.jpg', '06_0000248_00001.jpg', '03_003-109_00013.jpg', '12_0002-32_00015.jpg', '06_0000871_00008.jpg', '06_0000456_00007.jpg', '12_0002-50_00012.jpg', '12_0015-43_00006.jpg', '12_0003-66_00032.jpg', '06_0000014_00004.jpg', '12_0005-69_00020.jpg', '12_0007-22_00057.jpg', '16_0025-28_00006.jpg', '06_0000754_00020.jpg', '06_0000885_00004.jpg', '12_0008-42_00007.jpg', '06_0000735_00104.jpg', '06_0000040_00001.jpg', '16_0036-22_00001.jpg', '03_0003-57_00106.jpg', '03_0005-88_00008.jpg', '12_0014-19_00044.jpg', '16_0032-18_00024.jpg', '06_0001116_00039.jpg', '22_0000578_00006.jpg', '12_0007-60_00004.jpg', '12_0016-15_00009.jpg', '03_0008-10_00004.jpg', '22_0000570_00002.jpg', '16_00027-5_00001.jpg', '06_0000491_00045.jpg', '12_0011-30_00008.jpg', '12_0014-76_00005.jpg', '03_0002-36_00023.jpg', '12_0003-43_00007.jpg', '16_0031-22_00005.jpg', '12_0009-46_00029.jpg', '06_0000775_00046.jpg', '12_0001-52_00021.jpg', '22_0000881_00047.jpg', '22_0000949_00045.jpg', '06_0000153_00002.jpg', '06_0000694_00045.jpg', '03_0011-60_00017.jpg', '12_0003-29_00003.jpg', '03_0010-20_00032.jpg', '12_0014-30_00033.jpg', '06_0001001_00001.jpg', '12_0012-12_00025.jpg', '22_0000071_00015.jpg', '03_0004-56_00013.jpg', '12_0004-35_00023.jpg', '03_001-137_00013.jpg', '16_0036-22_00005.jpg', '06_0000365_00054.jpg', '06_0000765_00025.jpg', '12_0009-46_00007.jpg', '06_0000602_00005.jpg', '12_0007-29_00033.jpg', '22_0000439_00014.jpg', '03_0005-50_00001.jpg', '16_0003-41_00002.jpg', '03_0006-85_00021.jpg', '03_0011-49_00002.jpg', '03_0004-81_00075.jpg', '03_0009-33_00028.jpg', '06_0000134_00014.jpg', '16_00035-8_00005.jpg', '06_0000707_00008.jpg', '03_0006-82_00083.jpg', '12_0007-51_00013.jpg', '06_0000471_00004.jpg', '22_0000457_00007.jpg', '16_0033-10_00010.jpg', '12_0006-71_00016.jpg', '16_00030-9_00015.jpg', '06_0001067_00008.jpg', '22_0000312_00006.jpg', '16_0024-31_00005.jpg', '06_0000616_00005.jpg', '22_0000562_00005.jpg', '16_00005-8_00001.jpg', '03_0009-46_00004.jpg', '06_0000517_00010.jpg', '12_0006-29_00003.jpg', '12_0012-35_00029.jpg', '06_0000761_00036.jpg', '12_00001-3_00014.jpg', '16_0025-26_00006.jpg', '12_0004-67_00039.jpg', '12_0006-26_00072.jpg', '12_0012-37_00074.jpg', '16_0024-39_00009.jpg', '12_0005-19_00001.jpg', '12_00014-7_00002.jpg', '12_0001-60_00008.jpg', '06_0001086_00082.jpg', '12_0016-12_00025.jpg', '06_0000882_00061.jpg', '03_0013-59_00002.jpg', '12_0014-43_00007.jpg', '16_00022-8_00010.jpg', '03_0004-50_00061.jpg', '06_0001081_00010.jpg', '06_0000572_00009.jpg', '12_0009-42_00005.jpg', '16_0001-13_00022.jpg', '06_0000589_00029.jpg', '06_0000930_00012.jpg', '12_0008-15_00008.jpg', '16_00029-6_00013.jpg', '06_0000818_00012.jpg', '03_0004-78_00010.jpg', '06_0000881_00011.jpg', '06_0000429_00004.jpg', '03_0014-11_00058.jpg', '12_00014-2_00059.jpg', '12_0012-37_00021.jpg', '12_0008-20_00040.jpg', '06_0000301_00013.jpg', '06_0000319_00020.jpg', '03_0005-14_00035.jpg', '12_0013-38_00057.jpg', '03_0008-20_00019.jpg', '16_00026-6_00003.jpg', '12_0009-71_00005.jpg', '03_0008-20_00018.jpg', '06_0000123_00009.jpg', '22_0000921_00010.jpg', '12_00003-8_00015.jpg', '22_0000383_00037.jpg', '16_0033-17_00002.jpg', '22_0001086_00020.jpg', '03_0013-17_00012.jpg', '16_0027-28_00004.jpg', '03_0004-26_00009.jpg', '22_0000705_00019.jpg', '12_0008-20_00045.jpg', '06_0001124_00034.jpg', '12_0016-40_00009.jpg', '06_0001018_00014.jpg', '03_0001-20_00008.jpg', '12_0015-71_00014.jpg', '06_0000223_00005.jpg', '03_0009-18_00014.jpg', '22_0000075_00026.jpg', '16_0001-40_00005.jpg', '22_0000076_00014.jpg', '22_0000627_00033.jpg', '16_0024-31_00017.jpg', '12_0009-45_00011.jpg', '03_0010-51_00006.jpg', '03_0003-54_00068.jpg', '12_0016-64_00016.jpg', '12_00014-4_00062.jpg', '12_0002-73_00013.jpg', '16_00030-8_00006.jpg', '12_0010-61_00053.jpg', '06_0000494_00017.jpg', '16_00031-7_00036.jpg', '22_0000995_00034.jpg', '06_0000584_00020.jpg', '03_0003-73_00015.jpg', '12_0002-52_00003.jpg', '22_0000921_00005.jpg', '06_0000521_00008.jpg', '03_003-106_00008.jpg', '16_00007-5_00001.jpg', '22_0001017_00019.jpg', '06_0001116_00118.jpg', '12_00012-5_00003.jpg', '22_0000920_00009.jpg', '12_0003-37_00006.jpg', '06_0000307_00018.jpg', '06_0000274_00069.jpg', '12_0001-45_00001.jpg', '06_0000523_00042.jpg', '06_0000183_00007.jpg', '03_0004-21_00008.jpg', '12_0014-42_00001.jpg', '06_0000844_00005.jpg', '16_0003-34_00003.jpg', '06_0000808_00061.jpg', '12_0016-61_00028.jpg', '03_0012-33_00007.jpg', '06_0001117_00031.jpg', '22_0000050_00009.jpg', '22_0000152_00004.jpg', '03_0006-56_00005.jpg', '03_0006-52_00006.jpg', '03_0013-16_00026.jpg', '22_0000971_00039.jpg', '22_0000995_00033.jpg', '03_0011-69_00003.jpg', '06_0000692_00024.jpg', '12_0013-41_00026.jpg', '06_0000870_00011.jpg', '12_0016-48_00073.jpg', '12_0007-53_00009.jpg', '03_00011-8_00021.jpg', '12_0007-17_00011.jpg', '22_0000024_00010.jpg', '12_0004-10_00008.jpg', '12_0004-19_00008.jpg', '06_0000452_00019.jpg', '06_0000590_00011.jpg', '16_00030-3_00008.jpg', '22_0000287_00032.jpg', '03_0001-78_00017.jpg', '22_0000993_00011.jpg', '12_00006-5_00013.jpg', '03_0002-91_00039.jpg', '06_0000379_00007.jpg', '03_0013-66_00034.jpg', '12_0006-26_00024.jpg', '06_0000153_00011.jpg', '03_0007-72_00011.jpg', '12_0003-32_00017.jpg', '12_0004-27_00004.jpg', '12_0014-32_00001.jpg', '22_0000754_00002.jpg', '03_0003-60_00082.jpg', '16_00031-7_00023.jpg', '06_0000820_00023.jpg', '06_0001077_00001.jpg', '03_0009-13_00007.jpg', '03_00003-5_00118.jpg', '12_0012-12_00060.jpg', '22_0000905_00054.jpg', '12_00004-8_00002.jpg', '06_0001021_00011.jpg', '06_0000518_00028.jpg', '12_0015-22_00001.jpg', '03_0014-46_00009.jpg', '03_0002-57_00021.jpg', '03_0014-46_00005.jpg', '12_0012-25_00026.jpg', '03_0001-14_00013.jpg', '12_0012-37_00013.jpg', '22_0000031_00029.jpg', '12_0012-28_00002.jpg', '12_0010-50_00005.jpg', '06_0001141_00006.jpg', '22_0000777_00006.jpg', '06_0001095_00057.jpg', '12_0013-40_00016.jpg', '12_0003-61_00022.jpg', '12_0011-26_00001.jpg', '06_0000765_00020.jpg', '06_0000543_00023.jpg', '12_0009-56_00007.jpg', '03_0009-33_00073.jpg', '03_0011-99_00014.jpg', '03_0013-72_00006.jpg', '12_0016-23_00014.jpg', '03_0003-55_00038.jpg', '16_0021-11_00006.jpg', '03_0005-64_00002.jpg', '06_0000946_00006.jpg', '06_0000617_00012.jpg', '16_0029-11_00001.jpg', '12_0012-37_00017.jpg', '06_0000062_00006.jpg', '22_0000190_00015.jpg', '03_0003-31_00003.jpg', '12_00003-5_00003.jpg', '06_0000306_00008.jpg', '22_0000447_00013.jpg', '12_00015-3_00015.jpg', '03_0012-39_00011.jpg', '22_0001098_00004.jpg', '06_0000175_00017.jpg', '12_00003-2_00029.jpg', '12_0004-64_00016.jpg', '06_0001083_00022.jpg', '12_0012-32_00096.jpg', '06_0000459_00018.jpg', '22_0000624_00010.jpg', '22_0000893_00010.jpg', '03_0012-93_00007.jpg', '12_0002-43_00030.jpg', '12_0013-57_00043.jpg', '12_0011-21_00012.jpg', '03_0010-15_00027.jpg', '12_0007-22_00051.jpg', '03_0003-54_00076.jpg', '06_0000924_00008.jpg', '03_0005-67_00019.jpg', '06_0000408_00034.jpg', '12_00016-2_00011.jpg', '03_0012-37_00017.jpg', '03_0005-13_00045.jpg', '22_0000523_00002.jpg', '22_0000447_00044.jpg', '22_0000872_00011.jpg', '16_00014-9_00008.jpg', '16_00013-3_00013.jpg', '06_0001028_00017.jpg', '03_001-111_00016.jpg', '12_0002-67_00074.jpg', '03_0006-93_00006.jpg', '06_0000808_00060.jpg', '16_0030-13_00005.jpg', '12_0015-22_00015.jpg', '06_0000034_00007.jpg', '12_0010-38_00037.jpg', '12_0005-13_00004.jpg', '16_0015-15_00005.jpg', '03_0005-65_00036.jpg', '03_0002-74_00005.jpg', '06_0000846_00009.jpg', '03_0012-45_00009.jpg', '06_0001010_00016.jpg', '06_0001054_00083.jpg', '16_0022-18_00010.jpg', '03_0001-58_00007.jpg', '06_0000877_00008.jpg', '12_00013-7_00022.jpg', '12_0002-20_00021.jpg', '22_0000527_00004.jpg', '12_0016-57_00011.jpg', '22_0000402_00006.jpg', '12_0002-21_00016.jpg', '03_0003-55_00037.jpg', '03_0004-47_00001.jpg', '03_0002-68_00052.jpg', '03_0012-90_00024.jpg', '12_0002-25_00004.jpg', '06_0001102_00016.jpg', '12_0009-56_00012.jpg', '06_0000198_00009.jpg', '12_0011-75_00004.jpg', '03_001-104_00014.jpg', '03_0010-59_00038.jpg', '12_0001-62_00019.jpg', '03_00013-4_00007.jpg', '03_0011-14_00005.jpg', '22_0000866_00032.jpg', '03_0014-46_00015.jpg', '03_0007-28_00008.jpg', '06_0000451_00032.jpg', '12_0010-11_00016.jpg', '12_0011-15_00007.jpg', '12_0006-12_00012.jpg', '12_00012-3_00014.jpg', '16_0026-11_00006.jpg', '06_0000775_00022.jpg', '12_0015-33_00069.jpg', '03_0001-67_00031.jpg', '03_00008-9_00014.jpg', '03_0006-54_00004.jpg', '12_0016-39_00053.jpg', '03_0009-39_00015.jpg', '06_0000919_00001.jpg', '12_00014-9_00029.jpg', '12_0002-20_00006.jpg', '06_0000584_00063.jpg', '12_0008-21_00006.jpg', '16_00026-4_00022.jpg', '03_0012-93_00038.jpg', '06_0000675_00031.jpg', '06_0000453_00015.jpg', '22_0000871_00025.jpg', '03_00012-6_00002.jpg', '03_0005-14_00039.jpg', '03_0010-58_00077.jpg', '03_0013-37_00024.jpg', '06_0000735_00091.jpg', '06_0000584_00017.jpg', '06_0000775_00047.jpg', '06_0000737_00025.jpg', '12_0010-11_00027.jpg', '12_0014-30_00023.jpg', '06_0000808_00030.jpg', '03_0007-53_00017.jpg', '03_0014-38_00044.jpg', '12_0016-40_00013.jpg', '03_0008-40_00009.jpg', '16_00021-2_00009.jpg', '16_0001-50_00006.jpg', '12_0015-35_00017.jpg', '06_0000809_00022.jpg', '03_0007-28_00001.jpg', '12_0005-25_00020.jpg', '22_0000046_00001.jpg', '16_0036-22_00010.jpg', '12_0002-12_00006.jpg', '06_0000854_00011.jpg', '12_0015-33_00133.jpg', '22_0000829_00013.jpg', '16_00030-4_00002.jpg', '03_0011-42_00004.jpg', '12_0015-34_00032.jpg', '16_0024-19_00009.jpg', '03_0007-46_00039.jpg', '06_0000489_00003.jpg', '12_0010-63_00004.jpg', '06_0001064_00008.jpg', '12_0001-63_00040.jpg', '12_0002-50_00035.jpg', '06_0001111_00007.jpg', '03_0002-28_00008.jpg', '06_0000440_00005.jpg', '03_0012-30_00054.jpg', '03_0003-14_00035.jpg', '16_00014-4_00003.jpg', '22_0000624_00019.jpg', '06_0000215_00013.jpg', '22_0000866_00012.jpg', '12_00011-7_00014.jpg', '16_00024-4_00014.jpg', '06_0000408_00033.jpg', '06_0000591_00055.jpg', '12_0006-34_00004.jpg', '16_0007-16_00003.jpg', '12_0010-38_00035.jpg', '06_0000541_00008.jpg', '12_0012-31_00014.jpg', '16_0002-21_00006.jpg', '06_0000690_00017.jpg', '12_0003-14_00008.jpg', '12_0011-15_00001.jpg', '03_0003-87_00014.jpg', '03_002-101_00002.jpg', '22_0000871_00029.jpg', '06_0000778_00006.jpg', '12_0002-68_00016.jpg', '16_0029-12_00011.jpg', '06_0000563_00005.jpg', '03_0010-59_00033.jpg', '12_0014-42_00005.jpg', '12_0008-39_00027.jpg', '06_0000294_00038.jpg', '03_0010-27_00026.jpg', '22_0000908_00017.jpg', '22_0000921_00004.jpg', '03_0009-33_00078.jpg', '03_0012-77_00009.jpg', '12_0010-18_00001.jpg', '06_0000274_00057.jpg', '03_0010-42_00005.jpg', '03_001-111_00005.jpg', '12_0012-37_00003.jpg', '03_0009-13_00002.jpg', '03_0009-33_00088.jpg', '16_00014-8_00013.jpg', '06_0000739_00031.jpg', '22_0000660_00004.jpg', '22_0000577_00008.jpg', '06_0000736_00010.jpg', '16_0035-12_00010.jpg', '03_0003-54_00008.jpg', '12_0006-40_00003.jpg', '03_0002-32_00026.jpg', '06_0000854_00031.jpg', '12_0003-32_00016.jpg', '16_0032-15_00003.jpg', '12_0014-42_00025.jpg', '22_0001013_00006.jpg', '03_0010-91_00002.jpg', '06_0000775_00053.jpg', '03_0011-61_00003.jpg', '03_0003-51_00006.jpg', '22_0000549_00021.jpg', '12_0012-37_00047.jpg', '12_0001-38_00006.jpg', '03_0009-37_00016.jpg', '12_0006-71_00001.jpg', '06_0000589_00015.jpg', '06_0000321_00003.jpg', '06_0001016_00008.jpg', '06_0000695_00018.jpg', '03_0012-11_00016.jpg', '06_0001008_00019.jpg', '22_0000914_00003.jpg', '06_0000570_00020.jpg', '12_0014-30_00008.jpg', '12_0015-24_00013.jpg', '12_0015-33_00025.jpg', '16_0012-21_00006.jpg', '12_0010-12_00058.jpg', '16_0021-12_00006.jpg', '12_0002-74_00001.jpg', '03_0010-97_00011.jpg', '12_0012-36_00092.jpg', '12_0001-26_00004.jpg', '03_00001-5_00003.jpg', '12_0010-42_00027.jpg', '03_0002-51_00006.jpg', '06_0000451_00013.jpg', '06_0001129_00009.jpg', '03_0002-33_00013.jpg', '12_0010-15_00009.jpg', '22_0000545_00004.jpg', '12_0006-51_00013.jpg', '03_0009-11_00005.jpg', '12_0010-15_00006.jpg', '06_0000192_00004.jpg', '03_00002-3_00004.jpg', '22_0000750_00072.jpg', '06_0000761_00051.jpg', '12_0014-74_00014.jpg', '03_0010-20_00011.jpg', '12_0010-31_00006.jpg', '06_0000913_00003.jpg', '16_0002-21_00005.jpg', '06_0000033_00019.jpg', '16_0025-19_00005.jpg', '06_0000075_00002.jpg', '16_0029-15_00005.jpg', '06_0001054_00013.jpg', '06_0000410_00014.jpg', '03_0014-13_00020.jpg', '16_00026-3_00004.jpg', '12_0014-19_00003.jpg', '03_0001-62_00023.jpg', '12_0013-38_00054.jpg', '03_0003-14_00002.jpg', '12_0004-59_00006.jpg', '03_00009-2_00031.jpg', '03_0003-80_00006.jpg', '12_0013-18_00027.jpg', '16_00009-8_00046.jpg', '12_0016-19_00010.jpg', '03_0009-72_00038.jpg', '03_0003-10_00016.jpg', '03_0005-98_00020.jpg', '22_0000893_00001.jpg', '06_0000142_00003.jpg', '16_00006-9_00010.jpg', '03_0010-49_00002.jpg', '03_0007-46_00041.jpg', '12_0013-63_00018.jpg', '12_0007-28_00007.jpg', '22_0000981_00024.jpg', '06_0000545_00002.jpg', '16_00026-5_00002.jpg', '06_0000783_00007.jpg', '16_00029-2_00007.jpg', '12_0013-38_00067.jpg', '03_00004-5_00004.jpg', '06_0000613_00004.jpg', '03_0013-45_00063.jpg', '06_0001057_00008.jpg', '06_0000584_00003.jpg', '16_0017-12_00009.jpg', '06_0000963_00024.jpg', '03_0014-45_00036.jpg', '16_0024-39_00004.jpg', '16_0029-16_00005.jpg', '12_0016-66_00005.jpg', '12_0009-46_00030.jpg', '06_0000663_00014.jpg', '06_0001067_00004.jpg', '12_0012-32_00088.jpg', '03_00014-8_00005.jpg', '12_0015-36_00004.jpg', '16_00004-4_00011.jpg', '12_0002-76_00017.jpg', '12_0010-10_00037.jpg', '16_0001-12_00020.jpg', '06_0000655_00003.jpg', '12_0006-36_00010.jpg', '03_0004-29_00005.jpg', '06_0001064_00025.jpg', '16_0019-20_00046.jpg', '06_0000525_00048.jpg', '06_0001052_00015.jpg', '12_0002-77_00014.jpg', '03_0003-55_00032.jpg', '12_00016-8_00018.jpg', '16_0001-56_00006.jpg', '03_0011-27_00025.jpg', '06_0001119_00002.jpg', '03_0014-28_00043.jpg', '12_0005-10_00013.jpg', '12_00005-7_00001.jpg', '03_0008-45_00012.jpg', '03_0005-63_00002.jpg', '12_0004-23_00018.jpg', '16_0013-17_00002.jpg', '06_0000514_00007.jpg', '12_0002-34_00030.jpg', '12_0015-33_00011.jpg', '03_0004-23_00041.jpg', '12_0002-60_00053.jpg', '12_0004-57_00005.jpg', '03_0011-30_00005.jpg', '03_0010-49_00001.jpg', '03_0012-24_00016.jpg', '22_0000578_00002.jpg', '16_00022-9_00001.jpg', '16_0029-32_00006.jpg', '12_0010-71_00001.jpg', '12_0005-42_00003.jpg', '22_0000050_00004.jpg', '22_0000919_00052.jpg', '16_00011-7_00005.jpg', '12_0013-64_00038.jpg', '03_0012-88_00013.jpg', '22_0000414_00010.jpg', '16_0029-15_00004.jpg', '03_0013-16_00027.jpg', '03_00014-2_00003.jpg', '12_0016-50_00006.jpg', '06_0000656_00014.jpg', '06_0001070_00004.jpg', '16_0027-28_00002.jpg', '06_0000408_00083.jpg', '12_00016-6_00007.jpg', '12_0001-29_00007.jpg', '03_0013-13_00011.jpg', '12_0005-41_00015.jpg', '06_0000735_00129.jpg', '12_0010-42_00019.jpg', '22_0000990_00027.jpg', '06_0001068_00035.jpg', '03_0011-64_00001.jpg', '22_0000472_00011.jpg', '12_0003-20_00012.jpg', '16_0025-33_00006.jpg', '12_0009-73_00026.jpg', '06_0000593_00041.jpg', '03_0005-62_00027.jpg', '06_0000785_00014.jpg', '16_0010-12_00001.jpg', '16_00002-3_00002.jpg', '06_0000408_00039.jpg', '12_0003-59_00075.jpg', '06_0000872_00006.jpg', '03_0011-16_00010.jpg', '06_0000768_00007.jpg', '22_0000592_00008.jpg', '16_0009-25_00002.jpg', '03_0005-99_00042.jpg', '12_0002-72_00057.jpg', '12_0008-51_00052.jpg', '03_0002-58_00016.jpg', '12_0010-63_00027.jpg', '03_0004-39_00001.jpg', '03_0005-43_00008.jpg', '06_0000453_00040.jpg', '12_0016-29_00002.jpg', '22_0000618_00015.jpg', '22_0000326_00003.jpg', '12_0007-29_00011.jpg', '12_0011-24_00005.jpg', '06_0001117_00045.jpg', '03_0002-91_00010.jpg', '06_0000337_00044.jpg', '12_0002-59_00025.jpg', '12_0016-58_00004.jpg', '16_00022-7_00003.jpg', '03_0004-50_00010.jpg', '06_0000440_00025.jpg', '12_0008-52_00062.jpg', '12_0003-20_00026.jpg', '22_0000341_00004.jpg', '06_0000709_00015.jpg', '06_0001043_00014.jpg', '16_00005-3_00010.jpg', '06_0000769_00033.jpg', '06_0000241_00046.jpg', '06_0000424_00034.jpg', '03_0006-11_00004.jpg', '12_0009-67_00001.jpg', '03_011-103_00030.jpg', '06_0000179_00001.jpg', '16_0003-28_00002.jpg', '03_0004-10_00018.jpg', '06_0001167_00001.jpg', '06_0000545_00009.jpg', '16_0020-10_00007.jpg', '12_0015-33_00098.jpg', '22_0001060_00011.jpg', '06_0000881_00010.jpg', '16_0015-18_00012.jpg', '03_0009-10_00014.jpg', '06_0000429_00013.jpg', '12_00011-8_00013.jpg', '12_00012-1_00002.jpg', '22_0000550_00005.jpg', '03_0012-36_00005.jpg', '06_0001080_00006.jpg', '12_0001-27_00010.jpg', '12_0015-35_00004.jpg', '06_0001037_00004.jpg', '22_0000567_00005.jpg', '12_00001-3_00010.jpg', '06_0001107_00052.jpg', '12_0001-44_00005.jpg', '22_0000421_00002.jpg', '16_0036-14_00025.jpg', '06_0001086_00089.jpg', '12_0002-86_00015.jpg', '06_0001086_00109.jpg', '12_0004-69_00010.jpg', '06_0000739_00005.jpg', '22_0001089_00008.jpg', '03_00002-3_00005.jpg', '12_0013-42_00013.jpg', '06_0000591_00049.jpg', '12_0010-12_00015.jpg', '22_0000554_00111.jpg', '03_010-105_00003.jpg', '06_0000543_00029.jpg', '22_0000936_00029.jpg', '03_0014-55_00028.jpg', '12_0016-53_00003.jpg', '16_00011-4_00001.jpg', '12_0009-70_00012.jpg', '12_0012-33_00033.jpg', '03_0004-70_00040.jpg', '12_0001-50_00005.jpg', '12_0002-10_00021.jpg', '12_0004-12_00014.jpg', '06_0000301_00012.jpg', '06_0000737_00039.jpg', '22_0000990_00058.jpg', '12_00015-2_00005.jpg', '16_0024-19_00001.jpg', '22_0000055_00009.jpg', '16_0026-16_00023.jpg', '12_0002-44_00019.jpg', '12_0010-10_00045.jpg', '22_0000908_00010.jpg', '12_0013-44_00008.jpg', '12_0008-13_00041.jpg', '12_0005-63_00011.jpg', '12_0006-68_00011.jpg', '03_0007-46_00049.jpg', '06_0000736_00008.jpg', '03_001-141_00004.jpg', '22_0000025_00004.jpg', '03_0014-56_00100.jpg', '22_0000881_00073.jpg', '12_0010-17_00025.jpg', '12_0011-76_00014.jpg', '06_0000713_00008.jpg', '03_0013-45_00071.jpg', '06_0000093_00002.jpg', '22_0000068_00002.jpg', '03_0012-64_00006.jpg', '06_0000223_00074.jpg', '22_0000516_00008.jpg', '16_00002-7_00002.jpg', '22_0000050_00014.jpg', '16_0009-17_00015.jpg', '12_0001-47_00006.jpg', '22_0000477_00022.jpg', '06_0000691_00038.jpg', '12_0016-24_00007.jpg', '03_0005-88_00023.jpg', '12_0010-12_00020.jpg', '06_0000224_00085.jpg', '16_0021-23_00002.jpg', '12_00014-2_00041.jpg', '06_0000053_00015.jpg', '03_0007-34_00003.jpg', '06_0000495_00001.jpg', '22_0000176_00003.jpg', '06_0000976_00022.jpg', '12_0016-33_00001.jpg', '22_0000054_00021.jpg', '22_0000447_00068.jpg', '06_0000593_00050.jpg', '06_0000775_00020.jpg', '06_0000762_00009.jpg', '12_0012-33_00035.jpg', '12_0014-54_00008.jpg', '16_0026-25_00001.jpg', '12_0002-41_00018.jpg', '12_00003-6_00005.jpg', '16_00020-7_00007.jpg', '12_0003-42_00039.jpg', '06_0000945_00019.jpg', '22_0000072_00021.jpg', '12_0016-23_00010.jpg', '03_0014-46_00044.jpg', '06_0001054_00046.jpg', '22_0001098_00003.jpg', '12_0009-71_00043.jpg', '12_0003-62_00026.jpg', '06_0000718_00011.jpg', '03_0005-16_00017.jpg', '03_0011-59_00041.jpg', '22_0000795_00029.jpg', '22_0000921_00001.jpg', '06_0001086_00079.jpg', '16_0024-13_00008.jpg', '22_0000024_00012.jpg', '12_0014-40_00007.jpg', '12_00004-1_00006.jpg', '06_0000976_00020.jpg', '06_0001016_00005.jpg', '03_0007-28_00005.jpg', '12_0003-29_00030.jpg', '12_0003-26_00001.jpg', '03_0012-34_00024.jpg', '22_0001095_00005.jpg', '03_0004-78_00004.jpg', '12_00016-8_00009.jpg', '03_0012-33_00001.jpg', '06_0000896_00009.jpg', '03_0010-97_00040.jpg', '06_0001088_00013.jpg', '06_0001117_00025.jpg', '06_0000342_00087.jpg', '12_00004-2_00002.jpg', '12_0004-58_00031.jpg', '06_0001054_00053.jpg', '22_0000682_00007.jpg', '16_00036-1_00005.jpg', '06_0000564_00031.jpg', '12_0007-41_00008.jpg', '12_0003-52_00006.jpg', '03_0009-44_00051.jpg', '06_0000178_00012.jpg', '12_0006-38_00017.jpg', '22_0001013_00001.jpg', '03_0003-53_00003.jpg', '03_0010-39_00041.jpg', '16_00030-9_00010.jpg', '06_0001128_00003.jpg', '16_0015-15_00010.jpg', '06_0001124_00029.jpg', '06_0000500_00014.jpg', '06_0000338_00008.jpg', '03_0013-14_00008.jpg', '06_0001068_00002.jpg', '12_0016-35_00019.jpg', '12_0010-38_00009.jpg', '03_0004-43_00090.jpg', '03_0013-33_00065.jpg', '06_0000735_00080.jpg', '03_0009-47_00006.jpg', '12_0014-75_00010.jpg', '12_0001-67_00015.jpg', '16_0026-19_00002.jpg', '22_0000076_00006.jpg', '22_0000609_00012.jpg', '12_0002-83_00010.jpg', '22_0000920_00011.jpg', '16_0022-24_00011.jpg', '03_0010-20_00021.jpg', '03_0009-74_00009.jpg', '22_0000609_00054.jpg', '12_0004-67_00010.jpg', '22_0000845_00015.jpg', '03_0008-12_00004.jpg', '12_0005-25_00016.jpg', '16_0025-21_00002.jpg', '06_0000960_00031.jpg', '12_0001-27_00013.jpg', '03_0013-20_00002.jpg', '16_0024-13_00013.jpg', '06_0000134_00011.jpg', '06_0000495_00006.jpg', '12_0001-59_00009.jpg', '12_00002-4_00014.jpg', '06_0001067_00016.jpg', '03_0010-60_00022.jpg', '16_00004-4_00021.jpg', '12_0015-35_00046.jpg', '16_0022-17_00005.jpg', '22_0000671_00020.jpg', '03_0010-47_00005.jpg', '12_0014-63_00010.jpg', '03_0009-45_00003.jpg', '06_0000960_00050.jpg', '22_0000387_00010.jpg', '22_0001086_00015.jpg', '16_0007-17_00003.jpg', '03_0010-18_00038.jpg', '03_0004-43_00054.jpg', '16_0001-13_00015.jpg', '12_0003-32_00018.jpg', '22_0000374_00044.jpg', '03_0004-50_00018.jpg', '16_0001-62_00004.jpg', '03_0008-45_00006.jpg', '16_0022-24_00016.jpg', '12_0004-73_00006.jpg', '06_0000584_00014.jpg', '06_0000511_00002.jpg', '06_0000491_00049.jpg', '03_00001-6_00005.jpg', '06_0000954_00026.jpg', '12_0010-16_00006.jpg', '12_0003-42_00017.jpg', '03_0010-55_00007.jpg', '12_0004-24_00003.jpg', '12_0006-69_00002.jpg', '16_00011-8_00015.jpg', '12_0014-47_00040.jpg', '06_0001079_00002.jpg', '12_0005-19_00014.jpg', '12_0005-10_00006.jpg', '06_0001037_00005.jpg', '22_0000906_00039.jpg', '22_0001019_00001.jpg', '16_0003-12_00001.jpg', '16_0035-17_00011.jpg', '06_0000223_00054.jpg', '03_0009-33_00030.jpg', '22_0000076_00023.jpg', '06_0001100_00005.jpg', '22_0000634_00005.jpg', '22_0000705_00041.jpg', '03_0001-27_00002.jpg', '03_0010-81_00013.jpg', '12_0003-59_00095.jpg', '06_0001090_00013.jpg', '22_0000770_00007.jpg', '12_0008-33_00002.jpg', '16_00036-4_00007.jpg', '06_0000018_00029.jpg', '12_00004-1_00033.jpg', '03_0002-91_00032.jpg', '22_0000387_00014.jpg', '03_0008-11_00005.jpg', '06_0000658_00032.jpg', '22_0000627_00048.jpg', '22_0000866_00022.jpg', '06_0000092_00060.jpg', '22_0000592_00001.jpg', '03_0002-51_00001.jpg', '22_0000387_00017.jpg', '06_0000946_00011.jpg', '06_0001125_00005.jpg', '06_0001136_00001.jpg', '16_0025-28_00002.jpg', '12_0016-10_00012.jpg', '03_0002-58_00009.jpg', '06_0000456_00008.jpg', '12_0003-59_00042.jpg', '03_0014-32_00002.jpg', '03_0013-27_00015.jpg', '22_0000447_00008.jpg', '03_001-102_00005.jpg', '06_0000224_00009.jpg', '12_0008-61_00007.jpg', '06_0000493_00012.jpg', '06_0000992_00001.jpg', '22_0000572_00010.jpg', '12_0007-14_00002.jpg', '16_0035-10_00007.jpg', '06_0001052_00039.jpg', '03_0009-42_00005.jpg', '03_0011-70_00013.jpg', '06_0000211_00007.jpg', '22_0000844_00003.jpg', '03_0011-63_00039.jpg', '22_0000848_00012.jpg', '12_0009-33_00001.jpg', '06_0000375_00016.jpg', '12_0010-19_00050.jpg', '03_0009-33_00009.jpg', '16_0023-12_00001.jpg', '12_0008-36_00008.jpg', '22_0000454_00008.jpg', '16_0011-23_00003.jpg', '22_0000614_00017.jpg', '22_0000945_00003.jpg', '06_0000307_00009.jpg', '12_0001-26_00012.jpg', '12_0014-30_00006.jpg', '22_0000447_00018.jpg', '03_0009-15_00001.jpg', '03_0013-28_00004.jpg', '06_0000658_00014.jpg', '22_0000609_00065.jpg', '06_0000355_00010.jpg', '12_00006-4_00005.jpg', '12_0012-31_00012.jpg', '03_0004-43_00006.jpg', '16_0025-23_00013.jpg', '03_003-107_00016.jpg', '22_0000943_00014.jpg', '12_0001-49_00004.jpg', '03_0012-11_00021.jpg', '12_0015-61_00001.jpg', '06_0001124_00027.jpg', '12_0015-56_00013.jpg', '12_0002-74_00012.jpg', '06_0000301_00006.jpg', '12_0011-76_00003.jpg', '16_0026-11_00004.jpg', '06_0001086_00080.jpg', '06_0000501_00024.jpg', '03_0001-25_00014.jpg', '12_0016-15_00023.jpg', '16_0019-16_00005.jpg', '12_0010-18_00039.jpg', '22_0000102_00007.jpg', '06_0000126_00035.jpg', '03_0002-18_00009.jpg', '06_0001036_00005.jpg', '03_0010-58_00056.jpg', '16_00030-8_00026.jpg', '03_0003-69_00001.jpg', '12_0007-21_00044.jpg', '06_0001086_00051.jpg', '12_0001-57_00010.jpg', '12_0012-30_00028.jpg', '12_0008-52_00057.jpg', '03_0012-54_00012.jpg', '12_0001-40_00002.jpg', '06_0001106_00032.jpg', '03_0010-21_00024.jpg', '03_0001-67_00033.jpg', '03_0002-91_00031.jpg', '03_001-113_00013.jpg', '12_0014-41_00004.jpg', '12_0007-43_00014.jpg', '06_0000920_00009.jpg', '22_0000059_00019.jpg', '12_0004-35_00011.jpg', '12_0008-13_00003.jpg', '06_0000523_00041.jpg', '03_00004-5_00027.jpg', '22_0000919_00092.jpg', '22_0001014_00010.jpg', '22_0000836_00018.jpg', '03_0001-82_00026.jpg', '12_0004-52_00017.jpg', '12_00016-6_00011.jpg', '06_0000771_00012.jpg', '03_0002-91_00070.jpg', '06_0001021_00020.jpg', '03_0010-90_00003.jpg', '16_0014-23_00005.jpg', '06_0001117_00069.jpg', '22_0000929_00022.jpg', '06_0000872_00020.jpg', '12_0008-50_00002.jpg', '16_0024-39_00010.jpg', '03_0005-81_00012.jpg', '16_00014-2_00002.jpg', '03_0007-51_00003.jpg', '22_0000628_00011.jpg', '12_0002-60_00055.jpg', '22_0000926_00003.jpg', '03_0007-62_00021.jpg', '22_0000548_00037.jpg', '06_0001098_00004.jpg', '12_0015-28_00007.jpg', '12_0001-32_00003.jpg', '22_0001089_00004.jpg', '03_0004-46_00009.jpg', '03_0006-14_00020.jpg', '06_0001080_00026.jpg', '06_0000129_00005.jpg', '03_0014-45_00045.jpg', '06_0000663_00010.jpg', '03_001-130_00034.jpg', '12_00012-3_00042.jpg', '06_0000787_00005.jpg', '12_0016-24_00023.jpg', '03_0011-63_00025.jpg', '06_0000818_00036.jpg', '03_0005-91_00001.jpg', '12_0011-59_00008.jpg', '22_0000492_00005.jpg', '12_0005-59_00002.jpg', '03_0014-45_00038.jpg', '12_0002-33_00049.jpg', '22_0000172_00001.jpg', '12_0015-72_00013.jpg', '22_0000542_00003.jpg', '16_0011-22_00014.jpg', '06_0001086_00097.jpg', '16_00005-6_00001.jpg', '06_0000872_00019.jpg', '12_00012-3_00066.jpg', '12_0010-16_00012.jpg', '12_00014-2_00006.jpg', '22_0000279_00008.jpg', '03_0014-37_00022.jpg', '22_0000523_00005.jpg', '12_0003-63_00015.jpg', '06_0001169_00009.jpg', '16_0019-20_00048.jpg', '12_00011-9_00014.jpg', '12_0003-62_00001.jpg', '06_0001075_00017.jpg', '06_0000223_00092.jpg', '16_0035-10_00009.jpg', '06_0000551_00039.jpg', '03_0010-51_00024.jpg', '06_0001089_00008.jpg', '22_0001020_00010.jpg', '16_0035-13_00002.jpg', '03_0005-93_00012.jpg', '12_0011-43_00002.jpg', '06_0000410_00021.jpg', '06_0000522_00003.jpg', '12_0003-67_00019.jpg', '16_0011-10_00003.jpg', '03_0013-67_00009.jpg', '22_0000906_00092.jpg', '03_0005-99_00013.jpg', '06_0000129_00032.jpg', '22_0000515_00011.jpg', '03_0014-46_00041.jpg', '16_0015-16_00008.jpg', '06_0000501_00015.jpg', '12_0012-37_00033.jpg', '12_0002-24_00028.jpg', '06_0001068_00032.jpg', '22_0000750_00065.jpg', '06_0000738_00016.jpg', '16_00021-5_00013.jpg', '16_0030-16_00031.jpg', '03_0014-25_00038.jpg', '16_0036-22_00023.jpg', '22_0001023_00025.jpg', '12_0003-32_00019.jpg', '22_0000810_00004.jpg', '06_0000224_00071.jpg', '12_0002-34_00035.jpg', '22_0000693_00008.jpg', '03_0012-68_00023.jpg', '03_0002-35_00017.jpg', '03_0010-57_00039.jpg', '03_0009-33_00076.jpg', '22_0000935_00070.jpg', '06_0000739_00017.jpg', '12_0013-15_00011.jpg', '03_0010-94_00010.jpg', '16_0001-41_00002.jpg', '12_0003-62_00017.jpg', '16_0027-25_00004.jpg', '06_0001056_00037.jpg', '03_0011-29_00001.jpg', '12_0006-69_00004.jpg', '03_00013-3_00004.jpg', '16_00016-9_00001.jpg', '06_0000612_00012.jpg', '03_0008-11_00001.jpg', '16_0024-31_00013.jpg', '16_00036-2_00007.jpg', '12_0007-11_00002.jpg', '06_0001116_00110.jpg', '06_0000979_00026.jpg', '16_0022-18_00009.jpg', '12_0009-73_00008.jpg', '06_0000973_00001.jpg', '03_0003-37_00016.jpg', '12_0001-35_00014.jpg', '03_0002-35_00007.jpg', '16_0036-21_00002.jpg', '03_0011-30_00015.jpg', '12_00006-9_00004.jpg', '12_0013-18_00002.jpg', '06_0001124_00013.jpg', '03_0005-36_00002.jpg', '22_0000518_00026.jpg', '03_0014-56_00026.jpg', '16_0005-31_00008.jpg', '03_0012-34_00031.jpg', '06_0000439_00011.jpg', '06_0000023_00013.jpg', '12_0004-17_00008.jpg', '12_0011-29_00006.jpg', '06_0000367_00008.jpg', '16_00026-1_00031.jpg', '06_0000761_00032.jpg', '22_0000303_00005.jpg', '22_0000861_00012.jpg', '03_0011-22_00010.jpg', '22_0000881_00054.jpg', '03_0012-10_00016.jpg', '12_0010-52_00007.jpg', '03_0002-81_00009.jpg', '12_0011-57_00001.jpg', '06_0000223_00036.jpg', '06_0000223_00003.jpg', '12_0012-35_00032.jpg', '12_00005-6_00002.jpg', '22_0000949_00020.jpg', '16_0025-21_00006.jpg', '06_0000146_00010.jpg', '12_0016-30_00006.jpg', '12_0009-36_00024.jpg', '03_0007-24_00012.jpg', '06_0000694_00018.jpg', '03_0009-68_00031.jpg', '12_0015-33_00044.jpg', '03_0004-37_00013.jpg', '16_0008-10_00006.jpg', '03_00004-8_00005.jpg', '06_0001141_00001.jpg', '22_0001054_00009.jpg', '03_00011-7_00024.jpg', '06_0001024_00017.jpg', '16_00004-7_00022.jpg', '06_0001131_00055.jpg', '12_0002-23_00003.jpg', '22_0000660_00023.jpg', '03_0014-46_00003.jpg', '06_0000273_00075.jpg', '06_0000048_00004.jpg', '12_0011-17_00022.jpg', '16_00021-1_00012.jpg', '06_0000593_00005.jpg', '12_0015-60_00025.jpg', '03_00008-5_00003.jpg', '12_0002-43_00016.jpg', '22_0000836_00010.jpg', '06_0000795_00005.jpg', '22_0000671_00002.jpg', '06_0000539_00008.jpg', '12_0007-50_00001.jpg', '03_0006-83_00025.jpg', '22_0000595_00006.jpg', '22_0000632_00055.jpg', '06_0000617_00009.jpg', '03_0003-55_00006.jpg', '22_0000530_00006.jpg', '12_0008-52_00051.jpg', '06_0000692_00023.jpg', '12_0013-41_00001.jpg', '03_0001-67_00016.jpg', '03_0014-37_00019.jpg', '06_0000130_00012.jpg', '12_00012-3_00009.jpg', '12_0002-71_00008.jpg', '03_0007-19_00015.jpg', '03_0013-17_00020.jpg', '22_0000961_00007.jpg', '12_0014-24_00006.jpg', '06_0001094_00007.jpg', '12_0010-19_00020.jpg', '06_0000521_00057.jpg', '12_00012-5_00031.jpg', '16_0024-12_00007.jpg', '06_0001054_00069.jpg', '12_0011-68_00006.jpg', '06_0000818_00054.jpg', '12_0015-69_00005.jpg', '12_0004-23_00003.jpg', '03_0003-14_00036.jpg', '12_0012-37_00044.jpg', '03_0003-10_00011.jpg', '03_003-121_00016.jpg', '06_0000675_00028.jpg', '06_0000709_00051.jpg', '03_0002-91_00065.jpg', '06_0000735_00107.jpg', '06_0000511_00038.jpg', '03_0003-55_00031.jpg', '16_0022-29_00008.jpg', '06_0000126_00008.jpg', '03_0011-99_00017.jpg', '22_0000906_00093.jpg', '06_0000992_00008.jpg', '03_0014-46_00004.jpg', '06_0000899_00029.jpg', '22_0000032_00027.jpg', '06_0000599_00004.jpg', '22_0000866_00028.jpg', '12_0003-62_00004.jpg', '03_0007-43_00006.jpg', '16_0019-11_00003.jpg', '06_0001103_00005.jpg', '12_0016-40_00028.jpg', '03_0006-96_00017.jpg', '06_0000491_00083.jpg', '12_0011-45_00007.jpg', '12_0010-38_00033.jpg', '03_0013-68_00015.jpg', '03_0006-52_00003.jpg', '03_0007-46_00053.jpg', '03_0010-54_00054.jpg', '03_0007-19_00014.jpg', '12_0001-67_00048.jpg', '22_0000905_00029.jpg', '06_0000072_00011.jpg', '03_0004-81_00070.jpg', '22_0000614_00005.jpg', '12_0005-34_00010.jpg', '12_0015-62_00006.jpg', '03_0005-63_00006.jpg', '16_0026-25_00004.jpg', '12_0013-38_00031.jpg', '12_0008-39_00042.jpg', '16_0021-12_00010.jpg', '12_0005-55_00011.jpg', '12_0015-51_00005.jpg', '22_0000341_00001.jpg', '12_0009-54_00005.jpg', '12_0010-19_00017.jpg', '16_0015-13_00004.jpg', '03_0013-24_00031.jpg', '12_0014-19_00002.jpg', '03_0002-38_00007.jpg', '03_0006-24_00014.jpg', '16_0014-25_00004.jpg', '12_0011-65_00006.jpg', '12_0012-29_00026.jpg', '03_00001-7_00003.jpg', '16_0027-13_00003.jpg', '12_0008-17_00011.jpg', '03_0007-45_00026.jpg', '16_00011-8_00016.jpg', '12_0014-42_00053.jpg', '16_0035-15_00015.jpg', '12_0007-64_00017.jpg', '22_0001005_00001.jpg', '06_0000591_00030.jpg', '06_0001096_00004.jpg', '22_0000204_00003.jpg', '03_0009-81_00010.jpg', '06_0000515_00003.jpg', '12_0012-29_00029.jpg', '03_0007-42_00012.jpg', '12_0015-30_00019.jpg', '12_0013-48_00002.jpg', '03_0012-55_00028.jpg', '22_0000401_00005.jpg', '06_0000958_00006.jpg', '06_0000270_00005.jpg', '06_0000521_00028.jpg', '12_0015-24_00003.jpg', '03_00014-4_00012.jpg', '03_0002-87_00014.jpg', '06_0000134_00021.jpg', '12_0004-62_00006.jpg', '12_0005-19_00007.jpg', '06_0000721_00009.jpg', '22_0000636_00026.jpg', '22_0000096_00012.jpg', '16_0019-20_00007.jpg', '16_00023-4_00006.jpg', '12_0014-16_00006.jpg', '16_0005-24_00002.jpg', '03_011-103_00020.jpg', '12_0001-54_00029.jpg', '12_0007-29_00036.jpg', '03_0014-56_00011.jpg', '22_0000770_00020.jpg', '12_0010-42_00022.jpg', '12_0015-38_00002.jpg', '03_0008-55_00001.jpg', '16_00011-2_00005.jpg', '03_0003-57_00087.jpg', '12_0014-73_00004.jpg', '12_0010-13_00006.jpg', '06_0000331_00010.jpg', '12_0005-13_00014.jpg', '16_0016-17_00002.jpg', '12_0004-44_00002.jpg', '22_0000045_00012.jpg', '03_0013-35_00018.jpg', '03_0005-41_00001.jpg', '12_0016-32_00003.jpg', '22_0000845_00017.jpg', '06_0001086_00008.jpg', '06_0000948_00018.jpg', '03_0009-22_00017.jpg', '03_0002-77_00009.jpg', '22_0000313_00003.jpg', '16_0001-31_00011.jpg', '03_0008-49_00006.jpg', '03_0002-88_00003.jpg', '06_0001055_00017.jpg', '03_0002-21_00003.jpg', '06_0000537_00004.jpg', '22_0001076_00012.jpg', '06_0000775_00013.jpg', '12_0005-19_00009.jpg', '06_0000417_00005.jpg', '03_0003-60_00102.jpg', '22_0000330_00008.jpg', '16_0024-39_00006.jpg', '12_0001-41_00020.jpg', '06_0000227_00022.jpg', '06_0001061_00010.jpg', '06_0000503_00024.jpg', '06_0000084_00063.jpg', '06_0001116_00013.jpg', '12_0003-29_00006.jpg', '16_0022-10_00029.jpg', '06_0000491_00093.jpg', '06_0000775_00044.jpg', '06_0001027_00007.jpg', '03_0004-46_00018.jpg', '12_0012-32_00058.jpg', '12_0006-74_00005.jpg', '06_0001012_00020.jpg', '03_0006-61_00003.jpg', '16_00036-2_00001.jpg', '16_00005-8_00002.jpg', '22_0000705_00031.jpg', '12_0006-49_00045.jpg', '22_0000871_00004.jpg', '16_0001-15_00011.jpg', '03_0003-80_00005.jpg', '22_0000609_00061.jpg', '12_0008-45_00001.jpg', '06_0001116_00006.jpg', '06_0000091_00017.jpg', '06_0000353_00008.jpg', '06_0000765_00019.jpg', '06_0000900_00007.jpg', '03_0004-33_00002.jpg', '12_0015-65_00008.jpg', '16_00026-1_00032.jpg', '03_0011-30_00008.jpg', '03_0013-72_00002.jpg', '12_00002-3_00034.jpg', '16_00030-9_00032.jpg', '22_0000705_00036.jpg', '22_0000556_00004.jpg', '12_0002-74_00013.jpg', '03_0009-52_00011.jpg', '03_0005-46_00017.jpg', '06_0000735_00088.jpg', '03_0002-81_00001.jpg', '12_0004-19_00010.jpg', '12_0009-71_00007.jpg', '06_0000529_00010.jpg', '12_0010-46_00004.jpg', '12_0002-32_00009.jpg', '03_0014-48_00005.jpg', '16_0035-13_00018.jpg', '06_0000084_00062.jpg', '22_0000866_00009.jpg', '06_0000515_00007.jpg', '06_0001138_00006.jpg', '16_00028-5_00003.jpg', '12_0015-49_00005.jpg', '22_0000636_00019.jpg', '12_0008-13_00007.jpg', '06_0000923_00016.jpg', '12_0002-42_00007.jpg', '06_0000737_00028.jpg', '06_0000761_00007.jpg', '12_0003-40_00016.jpg', '16_0001-19_00006.jpg', '03_0003-37_00018.jpg', '03_00014-2_00001.jpg', '12_00006-4_00018.jpg', '22_0000595_00013.jpg', '22_0000618_00018.jpg', '03_0001-90_00003.jpg', '03_00012-9_00003.jpg', '16_00029-3_00003.jpg', '12_0014-42_00026.jpg', '12_00004-3_00006.jpg', '12_0013-40_00005.jpg', '12_0011-76_00005.jpg', '03_0002-74_00016.jpg', '12_00011-5_00050.jpg', '12_0004-31_00010.jpg', '03_0004-58_00020.jpg', '06_0000245_00007.jpg', '03_0009-48_00009.jpg', '12_0010-47_00003.jpg', '12_0014-41_00005.jpg', '12_0016-47_00002.jpg', '12_0006-47_00008.jpg', '12_0002-43_00017.jpg', '12_0015-62_00002.jpg', '16_00025-9_00006.jpg', '06_0000695_00037.jpg', '12_0009-70_00007.jpg', '12_0002-12_00002.jpg', '06_0000331_00006.jpg', '22_0000382_00003.jpg', '03_0012-78_00025.jpg', '22_0000861_00004.jpg', '12_0002-11_00016.jpg', '12_0004-15_00012.jpg', '06_0000761_00042.jpg', '12_0014-42_00040.jpg', '16_0025-32_00001.jpg', '22_0000525_00028.jpg', '06_0000785_00001.jpg', '06_0000721_00025.jpg', '06_0000934_00004.jpg', '03_0004-81_00074.jpg', '03_0013-45_00065.jpg', '03_0013-61_00060.jpg', '06_0000899_00003.jpg', '03_0003-60_00045.jpg', '03_0004-50_00043.jpg', '03_0004-30_00024.jpg', '12_0006-26_00086.jpg', '06_0001054_00017.jpg', '12_0003-53_00006.jpg', '06_0000128_00004.jpg', '03_0004-76_00020.jpg', '22_0000919_00047.jpg', '06_0000589_00024.jpg', '12_0001-47_00033.jpg', '12_00007-8_00032.jpg', '06_0001124_00060.jpg', '03_0007-70_00020.jpg', '06_0000367_00018.jpg', '03_0008-44_00008.jpg', '12_0010-42_00072.jpg', '12_0007-62_00002.jpg', '06_0000224_00037.jpg', '12_00007-8_00049.jpg', '12_0009-69_00019.jpg', '06_0000854_00002.jpg', '12_0006-41_00008.jpg', '16_0035-14_00007.jpg', '12_0012-37_00048.jpg', '22_0000677_00031.jpg', '22_0000632_00008.jpg', '06_0000617_00010.jpg', '06_0000564_00011.jpg', '12_0009-25_00016.jpg', '03_0001-82_00016.jpg', '12_0012-30_00005.jpg', '06_0000721_00003.jpg', '03_0005-36_00013.jpg', '06_0001141_00004.jpg', '22_0000990_00051.jpg', '03_0004-69_00064.jpg', '22_0000651_00004.jpg', '12_0007-51_00017.jpg', '06_0001064_00042.jpg', '06_0000638_00032.jpg', '12_0010-10_00070.jpg', '22_0000673_00026.jpg', '06_0001083_00020.jpg', '06_0000474_00007.jpg', '06_0000429_00011.jpg', '16_0005-35_00002.jpg', '06_0000223_00067.jpg', '06_0000273_00084.jpg', '03_0008-19_00039.jpg', '22_0000538_00031.jpg', '06_0000794_00002.jpg', '03_0013-61_00003.jpg', '03_0002-16_00003.jpg', '16_0027-17_00004.jpg', '06_0001064_00028.jpg', '12_0003-66_00004.jpg', '03_0011-16_00011.jpg', '12_0001-54_00010.jpg', '12_00012-3_00073.jpg', '06_0000794_00007.jpg', '06_0000495_00012.jpg', '03_0010-94_00028.jpg', '06_0000273_00033.jpg', '06_0000784_00006.jpg', '22_0000521_00003.jpg', '12_00002-5_00010.jpg', '03_0012-74_00021.jpg', '03_0005-69_00035.jpg', '03_0007-14_00031.jpg', '22_0000747_00007.jpg', '22_0000871_00040.jpg', '16_0033-16_00007.jpg', '22_0000032_00008.jpg', '22_0000897_00006.jpg', '06_0000545_00008.jpg', '03_0002-81_00015.jpg', '06_0000075_00005.jpg', '06_0000286_00029.jpg', '12_0006-43_00014.jpg', '16_0026-11_00021.jpg', '12_0002-39_00004.jpg', '12_00011-5_00027.jpg', '22_0000384_00005.jpg', '16_00026-4_00031.jpg', '06_0000944_00025.jpg', '12_0001-31_00057.jpg', '03_0004-37_00001.jpg', '12_0014-10_00009.jpg', '12_0015-33_00089.jpg', '12_0003-52_00007.jpg', '22_0000526_00002.jpg', '12_0014-27_00012.jpg', '12_0013-63_00024.jpg', '06_0000658_00016.jpg', '16_0014-21_00002.jpg', '03_0006-93_00010.jpg', '16_0004-21_00004.jpg', '06_0000496_00004.jpg', '12_0016-68_00012.jpg', '03_0012-34_00008.jpg', '22_0001015_00068.jpg', '12_0010-20_00002.jpg', '12_0001-67_00009.jpg', '03_0010-96_00002.jpg', '12_0015-61_00011.jpg', '16_0035-14_00031.jpg', '22_0000076_00009.jpg', '12_0016-40_00048.jpg', '12_0004-19_00006.jpg', '12_0013-48_00010.jpg', '16_0036-19_00004.jpg', '06_0000051_00001.jpg', '03_0013-61_00004.jpg', '06_0000337_00024.jpg', '06_0000514_00005.jpg', '16_00032-1_00041.jpg', '22_0000554_00079.jpg', '06_0000424_00016.jpg', '16_0003-34_00012.jpg', '16_0019-18_00011.jpg', '03_00007-4_00007.jpg', '12_00014-9_00006.jpg', '12_0006-26_00094.jpg', '12_0010-62_00031.jpg', '12_0006-17_00012.jpg', '12_0013-35_00039.jpg', '12_0012-35_00013.jpg', '12_0006-55_00023.jpg', '22_0000057_00003.jpg', '12_00004-9_00003.jpg', '22_0000010_00020.jpg', '03_0014-43_00005.jpg', '16_0024-39_00002.jpg', '03_0005-35_00006.jpg', '16_0014-21_00003.jpg', '03_0012-88_00031.jpg', '06_0000183_00031.jpg', '12_0010-12_00037.jpg', '06_0000944_00027.jpg', '06_0000941_00003.jpg', '06_0000198_00012.jpg', '12_0006-26_00096.jpg', '12_0010-62_00009.jpg', '12_0015-31_00007.jpg', '12_0010-19_00060.jpg', '12_0002-59_00005.jpg', '06_0000491_00068.jpg', '06_0000101_00019.jpg', '12_00006-4_00020.jpg', '12_0001-52_00006.jpg', '06_0001056_00031.jpg', '22_0000190_00003.jpg', '03_0001-63_00021.jpg', '06_0000307_00022.jpg', '03_0010-46_00037.jpg', '16_00009-5_00025.jpg', '22_0000804_00002.jpg', '06_0001135_00007.jpg', '12_0005-61_00002.jpg', '03_0006-11_00005.jpg', '22_0000522_00026.jpg', '03_0005-50_00007.jpg', '22_0001033_00001.jpg', '22_0000935_00075.jpg', '03_0003-17_00025.jpg', '12_0012-11_00007.jpg', '12_0004-73_00014.jpg', '06_0001169_00031.jpg', '16_00032-1_00016.jpg', '22_0000671_00001.jpg', '12_0004-31_00005.jpg', '06_0000618_00002.jpg', '06_0000724_00001.jpg', '16_0019-12_00012.jpg', '03_0004-65_00008.jpg', '06_0000609_00001.jpg', '16_00004-4_00007.jpg', '03_0004-81_00073.jpg', '22_0000973_00014.jpg', '06_0000468_00064.jpg', '06_0000602_00012.jpg', '03_0010-55_00026.jpg', '12_0002-72_00029.jpg', '03_0004-46_00013.jpg', '12_0011-30_00022.jpg', '03_0004-23_00027.jpg', '03_0010-59_00025.jpg', '03_0014-56_00056.jpg', '03_0012-11_00019.jpg', '03_0007-46_00005.jpg', '03_0009-70_00002.jpg', '06_0000976_00021.jpg', '06_0000408_00053.jpg', '03_0014-38_00055.jpg', '12_0002-25_00017.jpg', '06_0000899_00001.jpg', '06_0000407_00007.jpg', '06_0001090_00014.jpg', '06_0000049_00002.jpg', '16_00030-9_00029.jpg', '16_0020-18_00024.jpg', '12_0016-20_00006.jpg', '03_0013-25_00020.jpg', '03_0004-75_00002.jpg', '12_0002-67_00016.jpg', '12_0010-42_00047.jpg', '03_0013-72_00007.jpg', '16_00013-1_00006.jpg', '16_0032-14_00004.jpg', '03_0009-51_00020.jpg', '06_0000959_00032.jpg', '06_0000673_00005.jpg', '16_0023-11_00011.jpg', '12_0001-67_00051.jpg', '22_0000169_00004.jpg', '12_0002-32_00010.jpg', '06_0001032_00031.jpg', '22_0000792_00006.jpg', '12_0001-64_00034.jpg', '22_0000518_00024.jpg', '06_0000408_00080.jpg', '06_0000583_00038.jpg', '03_0003-55_00052.jpg', '03_0010-39_00023.jpg', '16_00022-9_00013.jpg', '03_001-147_00001.jpg', '22_0000912_00035.jpg', '03_0012-90_00003.jpg', '06_0001052_00021.jpg', '06_0000146_00004.jpg', '06_0000207_00016.jpg', '12_0006-15_00002.jpg', '12_0014-76_00009.jpg', '12_0004-67_00012.jpg', '03_0014-63_00038.jpg', '06_0000274_00038.jpg', '12_0005-65_00004.jpg', '03_0012-69_00007.jpg', '22_0000751_00041.jpg', '06_0000420_00042.jpg', '12_0001-63_00021.jpg', '22_0000134_00015.jpg', '22_0000916_00005.jpg', '16_0029-18_00002.jpg', '12_0016-57_00034.jpg', '06_0001055_00015.jpg', '12_0009-44_00007.jpg', '22_0000077_00011.jpg', '06_0000227_00064.jpg', '03_0002-90_00033.jpg', '03_0002-90_00017.jpg', '12_0012-30_00041.jpg', '03_0002-90_00004.jpg', '06_0000276_00003.jpg', '03_0005-97_00004.jpg', '06_0000563_00001.jpg', '12_00010-7_00006.jpg', '03_0012-38_00021.jpg', '03_00010-2_00003.jpg', '06_0000690_00016.jpg', '12_0001-60_00005.jpg', '12_0013-38_00030.jpg', '12_0015-34_00009.jpg', '16_0027-15_00004.jpg', '16_00030-2_00007.jpg', '12_0013-41_00019.jpg', '16_0019-11_00001.jpg', '03_00010-1_00005.jpg', '03_0005-59_00016.jpg', '03_0002-35_00013.jpg', '22_0000032_00028.jpg', '06_0001090_00011.jpg', '06_0000534_00002.jpg', '12_0001-52_00049.jpg', '03_0010-54_00056.jpg', '06_0000129_00058.jpg', '03_0012-18_00001.jpg', '12_0011-54_00003.jpg', '22_0000426_00010.jpg', '03_0003-54_00043.jpg', '03_0006-81_00009.jpg', '12_0003-10_00002.jpg', '12_0012-29_00014.jpg', '03_0003-98_00005.jpg', '12_0010-54_00008.jpg', '03_0010-18_00075.jpg', '22_0000632_00053.jpg', '06_0001102_00067.jpg', '06_0001056_00032.jpg', '03_0011-71_00025.jpg', '03_0012-58_00032.jpg', '12_0016-32_00004.jpg', '16_0005-24_00005.jpg', '12_0015-51_00004.jpg', '06_0000468_00030.jpg', '12_0015-38_00001.jpg', '16_00036-7_00007.jpg', '12_0002-72_00054.jpg', '12_0004-16_00017.jpg', '06_0000564_00025.jpg', '06_0000675_00024.jpg', '16_00036-6_00018.jpg', '22_0000336_00004.jpg', '22_0000627_00042.jpg', '22_0000330_00003.jpg', '03_0003-85_00010.jpg', '06_0001100_00003.jpg', '12_0007-49_00022.jpg', '12_0011-48_00004.jpg', '06_0001103_00021.jpg', '16_0024-29_00011.jpg', '12_0010-15_00035.jpg', '06_0000591_00035.jpg', '03_0009-51_00012.jpg', '12_0014-75_00045.jpg', '03_0005-46_00034.jpg', '03_00010-2_00002.jpg', '12_0013-48_00003.jpg', '03_0004-70_00029.jpg', '22_0000905_00040.jpg', '12_0015-65_00002.jpg', '22_0000609_00043.jpg', '16_0023-17_00007.jpg', '12_00011-1_00013.jpg', '12_0002-67_00064.jpg', '03_0013-45_00032.jpg', '06_0000737_00081.jpg', '06_0000555_00006.jpg', '03_0002-74_00011.jpg', '03_0009-79_00026.jpg', '12_0014-45_00051.jpg', '12_0015-33_00023.jpg', '03_00013-6_00009.jpg', '22_0001068_00007.jpg', '12_0001-50_00031.jpg', '12_0014-43_00004.jpg', '06_0000183_00026.jpg', '16_0029-12_00008.jpg', '12_0002-82_00004.jpg', '06_0000164_00004.jpg', '22_0000919_00054.jpg', '22_0000859_00006.jpg', '12_0010-41_00007.jpg', '03_0002-35_00014.jpg', '12_0015-60_00043.jpg', '06_0000720_00001.jpg', '06_0000565_00011.jpg', '06_0001106_00008.jpg', '22_0000677_00040.jpg', '12_0015-33_00050.jpg', '16_00035-8_00023.jpg', '12_0016-18_00033.jpg', '12_0004-49_00011.jpg', '03_0006-96_00014.jpg', '06_0000781_00003.jpg', '22_0000538_00036.jpg', '16_00007-1_00019.jpg', '16_00020-7_00010.jpg', '22_0000068_00001.jpg', '06_0000448_00004.jpg', '06_0000427_00007.jpg', '22_0000072_00014.jpg', '16_0016-15_00010.jpg', '12_0015-33_00051.jpg', '03_0010-19_00009.jpg', '12_0006-51_00012.jpg', '16_0025-35_00008.jpg', '03_00011-7_00006.jpg', '06_0000619_00024.jpg', '06_0000142_00021.jpg', '12_0014-41_00026.jpg', '06_0001061_00032.jpg', '03_0002-84_00021.jpg', '03_0012-88_00033.jpg', '06_0000208_00034.jpg', '03_001-106_00018.jpg', '12_0014-76_00017.jpg', '12_0007-50_00007.jpg', '03_0009-45_00046.jpg', '03_0002-85_00019.jpg', '06_0000514_00009.jpg', '06_0000494_00021.jpg', '06_0001016_00002.jpg', '12_00014-2_00029.jpg', '12_0003-28_00004.jpg', '06_0000974_00024.jpg', '06_0000948_00008.jpg', '12_0013-63_00022.jpg', '03_0010-51_00013.jpg', '12_0015-12_00029.jpg', '06_0000591_00075.jpg', '22_0000447_00067.jpg', '06_0000193_00003.jpg', '06_0000958_00003.jpg', '03_00007-7_00026.jpg', '12_0005-16_00002.jpg', '12_0003-68_00002.jpg', '12_00011-7_00022.jpg', '22_0000897_00007.jpg', '03_0007-46_00045.jpg', '03_0011-63_00027.jpg', '03_00014-4_00008.jpg', '03_0004-52_00003.jpg', '06_0000342_00070.jpg', '03_0011-52_00016.jpg', '12_0010-15_00060.jpg', '22_0000439_00029.jpg', '03_0012-39_00009.jpg', '12_0009-17_00027.jpg', '06_0000796_00005.jpg', '06_0000691_00052.jpg', '12_00004-6_00021.jpg', '03_0005-14_00033.jpg', '16_0025-28_00011.jpg', '22_0000755_00009.jpg', '03_001-145_00020.jpg', '03_0005-12_00028.jpg', '03_0009-75_00016.jpg', '03_0005-60_00020.jpg', '03_0005-38_00005.jpg', '06_0000093_00009.jpg', '06_0001054_00065.jpg', '03_0010-58_00034.jpg', '03_0002-48_00023.jpg', '16_00031-9_00001.jpg', '16_00035-8_00002.jpg', '06_0000976_00018.jpg', '03_0014-28_00076.jpg', '03_0010-82_00005.jpg', '12_0009-36_00035.jpg', '16_0032-22_00004.jpg', '12_0002-33_00045.jpg', '06_0000649_00016.jpg', '06_0000273_00094.jpg', '16_00036-4_00005.jpg', '03_0005-65_00096.jpg', '03_0002-39_00001.jpg', '06_0001164_00007.jpg', '22_0000539_00018.jpg', '03_00013-7_00005.jpg', '12_0010-35_00001.jpg', '12_0001-59_00017.jpg', '22_0000381_00004.jpg', '03_00014-5_00007.jpg', '03_0004-56_00003.jpg', '12_0015-42_00025.jpg', '03_0001-67_00006.jpg', '03_0013-73_00024.jpg', '12_0006-45_00020.jpg', '03_00001-1_00011.jpg', '06_0001048_00004.jpg', '06_0000120_00005.jpg', '12_0010-62_00012.jpg', '03_0009-63_00028.jpg', '03_00013-6_00003.jpg', '16_0030-16_00029.jpg', '06_0000785_00011.jpg', '16_0024-28_00006.jpg', '12_0008-13_00020.jpg', '16_0022-10_00030.jpg', '16_00022-1_00003.jpg', '03_0005-66_00005.jpg', '06_0000039_00033.jpg', '06_0000534_00041.jpg', '12_0006-20_00024.jpg', '03_00005-9_00003.jpg', '12_0009-27_00002.jpg', '16_00022-6_00001.jpg', '22_0000273_00015.jpg', '12_0005-38_00029.jpg', '03_0009-33_00023.jpg', '03_0005-16_00028.jpg', '12_0010-48_00005.jpg', '03_0001-78_00001.jpg', '12_0004-54_00006.jpg', '12_0003-20_00006.jpg', '03_0002-87_00005.jpg', '16_0023-22_00008.jpg', '12_00007-6_00002.jpg', '03_003-106_00001.jpg', '03_0013-52_00026.jpg', '06_0000420_00037.jpg', '12_00004-9_00006.jpg', '22_0000753_00004.jpg', '16_00035-4_00010.jpg', '12_0014-45_00029.jpg', '12_0015-34_00008.jpg', '22_0000627_00005.jpg', '06_0000688_00081.jpg', '12_0005-42_00004.jpg', '06_0000998_00007.jpg', '03_0003-10_00015.jpg', '03_0004-50_00022.jpg', '12_0005-52_00005.jpg', '12_0001-20_00001.jpg', '06_0000002_00010.jpg', '12_0003-59_00018.jpg', '22_0000055_00010.jpg', '06_0000884_00013.jpg', '12_0004-30_00001.jpg', '03_0005-59_00006.jpg', '06_0000493_00030.jpg', '03_0004-81_00010.jpg', '12_0003-54_00010.jpg', '12_0010-12_00056.jpg', '03_0005-84_00014.jpg', '16_00004-7_00018.jpg', '06_0000752_00015.jpg', '03_0006-61_00013.jpg', '12_00004-3_00017.jpg', '22_0000401_00001.jpg', '03_0003-55_00046.jpg', '06_0001022_00005.jpg', '12_0001-66_00009.jpg', '06_0000766_00019.jpg', '03_0001-87_00006.jpg', '06_0000084_00023.jpg', '12_0007-39_00015.jpg', '12_0010-66_00006.jpg', '03_0010-21_00020.jpg', '06_0000907_00009.jpg', '22_0000973_00010.jpg', '06_0000617_00033.jpg', '06_0001016_00007.jpg', '03_0011-30_00011.jpg', '22_0000864_00002.jpg', '03_0008-20_00008.jpg', '12_0001-47_00005.jpg', '03_0003-32_00009.jpg', '12_0010-10_00065.jpg', '16_00035-1_00001.jpg', '03_0010-39_00009.jpg', '12_0009-37_00019.jpg', '06_0000675_00009.jpg', '12_0010-15_00097.jpg', '16_0012-22_00016.jpg', '22_0001052_00020.jpg', '12_0001-32_00001.jpg', '06_0000919_00059.jpg', '16_00026-1_00022.jpg', '03_0012-13_00006.jpg', '06_0000591_00018.jpg', '12_0004-30_00004.jpg', '12_0010-42_00066.jpg', '12_0002-70_00002.jpg', '12_0002-41_00025.jpg', '12_0009-36_00039.jpg', '16_0017-13_00021.jpg', '03_0010-18_00014.jpg', '16_00012-9_00002.jpg', '03_0010-57_00048.jpg', '12_0008-13_00026.jpg', '03_00009-1_00010.jpg', '16_0036-22_00024.jpg', '06_0000809_00049.jpg', '06_0000919_00010.jpg', '16_0019-18_00014.jpg', '03_0014-56_00101.jpg', '03_0014-19_00006.jpg', '03_0002-63_00007.jpg', '12_0005-23_00012.jpg', '06_0000808_00083.jpg', '12_0015-33_00125.jpg', '03_0014-46_00011.jpg', '12_0014-64_00016.jpg', '12_0015-35_00031.jpg', '06_0000439_00001.jpg', '12_0001-36_00001.jpg', '03_00004-9_00005.jpg', '12_0004-31_00006.jpg', '03_0014-42_00005.jpg', '06_0000408_00061.jpg', '12_0016-10_00009.jpg', '12_00004-3_00013.jpg', '12_0011-15_00016.jpg', '22_0000494_00003.jpg', '16_0036-10_00006.jpg', '12_0015-30_00002.jpg', '03_001-144_00005.jpg', '03_0005-30_00003.jpg', '16_0003-34_00001.jpg', '03_0012-25_00003.jpg', '12_0003-51_00032.jpg', '03_0012-55_00001.jpg', '16_0026-21_00010.jpg', '06_0000273_00098.jpg', '12_0010-10_00020.jpg', '03_0012-53_00002.jpg', '03_0010-54_00020.jpg', '06_0000062_00008.jpg', '12_0016-24_00020.jpg', '03_00007-9_00026.jpg', '03_0002-26_00002.jpg', '06_0000183_00025.jpg', '16_0014-14_00004.jpg', '12_0004-58_00013.jpg', '22_0000660_00010.jpg', '16_0033-15_00006.jpg', '06_0000922_00009.jpg', '22_0000881_00048.jpg', '03_0010-92_00004.jpg', '22_0000457_00025.jpg', '03_0001-62_00006.jpg', '12_0013-38_00028.jpg', '22_0000770_00059.jpg', '16_00026-1_00002.jpg', '03_0014-43_00017.jpg', '03_0012-55_00029.jpg', '03_0006-50_00016.jpg', '06_0000224_00117.jpg', '03_0005-46_00009.jpg', '03_0013-37_00025.jpg', '22_0000633_00005.jpg', '03_0005-84_00006.jpg', '06_0000273_00057.jpg', '12_0005-42_00033.jpg', '06_0001080_00013.jpg', '12_0014-70_00006.jpg', '22_0000778_00005.jpg', '12_0012-12_00061.jpg', '12_0006-45_00014.jpg', '03_0014-64_00010.jpg', '22_0000049_00004.jpg', '03_00009-2_00027.jpg', '03_00014-8_00033.jpg', '03_0001-23_00013.jpg', '12_0004-66_00009.jpg', '06_0001023_00001.jpg', '22_0000020_00013.jpg', '22_0000518_00025.jpg', '12_0002-25_00007.jpg', '12_0001-28_00030.jpg', '12_0010-16_00004.jpg', '03_0004-58_00008.jpg', '12_0014-42_00041.jpg', '03_001-153_00003.jpg', '06_0000694_00019.jpg', '12_0012-12_00009.jpg', '12_0002-34_00027.jpg', '03_0005-13_00022.jpg', '12_0002-34_00029.jpg', '16_0015-19_00004.jpg', '12_0003-12_00001.jpg', '12_0010-63_00023.jpg', '06_0000355_00036.jpg', '12_0012-37_00039.jpg', '03_0012-59_00029.jpg', '16_00030-8_00022.jpg', '03_0008-49_00026.jpg', '03_0010-80_00006.jpg', '06_0000342_00069.jpg', '03_0010-80_00021.jpg', '12_0005-26_00005.jpg', '12_0015-43_00007.jpg', '16_0024-30_00004.jpg', '06_0000241_00041.jpg', '12_0005-70_00016.jpg', '03_0007-23_00004.jpg', '12_0001-64_00031.jpg', '03_0013-42_00029.jpg', '22_0001033_00006.jpg', '12_0001-61_00018.jpg', '22_0000725_00006.jpg', '06_0001104_00004.jpg', '06_0001054_00018.jpg', '22_0000627_00049.jpg', '12_0007-28_00003.jpg', '06_0000274_00051.jpg', '03_0005-56_00001.jpg', '22_0000614_00014.jpg', '06_0000961_00016.jpg', '16_00026-1_00016.jpg', '06_0000448_00011.jpg', '06_0000130_00009.jpg', '12_0012-12_00031.jpg', '06_0000775_00009.jpg', '03_0012-11_00008.jpg', '03_0003-87_00002.jpg', '12_0010-10_00019.jpg', '06_0001103_00020.jpg', '03_0010-59_00016.jpg', '06_0000031_00029.jpg', '16_0019-12_00009.jpg', '16_0001-31_00002.jpg', '06_0000511_00030.jpg', '22_0000549_00004.jpg', '03_0011-62_00003.jpg', '03_0004-30_00037.jpg', '12_00014-7_00001.jpg', '06_0000618_00005.jpg', '03_0013-52_00011.jpg', '06_0001090_00002.jpg', '12_0013-60_00009.jpg', '12_0010-15_00020.jpg', '16_0005-26_00006.jpg', '03_0007-12_00001.jpg', '06_0000367_00011.jpg', '12_0016-57_00033.jpg', '12_0002-69_00008.jpg', '16_00026-4_00003.jpg', '16_0003-38_00003.jpg', '12_0002-33_00022.jpg', '06_0000695_00010.jpg', '22_0000770_00005.jpg', '22_0000923_00002.jpg', '03_0013-33_00071.jpg', '06_0000785_00002.jpg', '22_0000905_00112.jpg', '06_0000662_00001.jpg', '03_0003-69_00011.jpg', '12_0004-29_00005.jpg', '22_0000554_00039.jpg', '12_00011-8_00001.jpg', '06_0001057_00011.jpg', '06_0000591_00046.jpg', '03_0008-44_00020.jpg', '06_0000515_00008.jpg', '12_0015-15_00007.jpg', '16_00025-1_00011.jpg', '12_0015-12_00011.jpg', '06_0000665_00001.jpg', '03_0010-89_00039.jpg', '06_0000899_00005.jpg', '12_0015-13_00007.jpg', '03_0007-31_00004.jpg', '03_0012-22_00023.jpg', '12_0010-12_00064.jpg', '03_0009-39_00013.jpg', '12_00012-5_00002.jpg', '06_0000183_00010.jpg', '03_0013-45_00053.jpg', '12_00014-9_00033.jpg', '03_0010-96_00009.jpg', '12_0015-15_00011.jpg', '12_0009-74_00014.jpg', '12_00011-9_00007.jpg', '12_00012-3_00020.jpg', '06_0000273_00104.jpg', '03_0010-87_00009.jpg', '16_0024-31_00009.jpg', '03_00007-4_00008.jpg', '16_00002-4_00006.jpg', '03_0013-61_00008.jpg', '06_0000943_00012.jpg', '12_0011-15_00021.jpg', '16_00025-4_00005.jpg', '22_0001100_00050.jpg', '12_00013-7_00046.jpg', '22_0000611_00005.jpg', '06_0000771_00005.jpg', '06_0000491_00091.jpg', '03_0011-24_00009.jpg', '03_0010-80_00005.jpg', '16_0001-34_00004.jpg', '22_0000803_00011.jpg', '22_0000928_00002.jpg', '12_0002-59_00018.jpg', '12_0015-28_00009.jpg', '12_0002-41_00008.jpg', '12_0010-67_00005.jpg', '16_00015-2_00001.jpg', '12_00012-2_00017.jpg', '06_0000307_00004.jpg', '12_0004-58_00001.jpg', '03_0002-48_00029.jpg', '22_0000522_00062.jpg', '06_0000709_00039.jpg', '06_0000524_00027.jpg', '12_0009-69_00013.jpg', '22_0000609_00028.jpg', '12_0012-32_00067.jpg', '12_0002-69_00002.jpg', '06_0000524_00017.jpg', '12_0009-36_00017.jpg', '03_0009-33_00022.jpg', '06_0000481_00062.jpg', '03_0010-81_00009.jpg', '22_0000585_00018.jpg', '06_0000851_00009.jpg', '12_0012-25_00029.jpg', '03_0007-34_00006.jpg', '12_0002-20_00002.jpg', '22_0000330_00010.jpg', '03_0004-78_00011.jpg', '12_0006-53_00001.jpg', '16_00028-5_00006.jpg', '03_0010-97_00025.jpg', '12_0004-44_00004.jpg', '12_0013-48_00006.jpg', '16_0033-26_00003.jpg', '12_0010-15_00061.jpg', '12_00003-2_00007.jpg', '12_0001-67_00027.jpg', '22_0000866_00059.jpg', '06_0000735_00132.jpg', '06_0000183_00013.jpg', '12_0004-66_00011.jpg', '22_0000611_00003.jpg', '06_0000825_00008.jpg', '03_0006-13_00004.jpg', '16_0005-33_00005.jpg', '16_00022-8_00008.jpg', '12_0006-40_00008.jpg', '22_0000429_00013.jpg', '12_0014-10_00022.jpg', '22_0001015_00020.jpg', '16_00007-7_00001.jpg', '12_0008-49_00020.jpg', '06_0000273_00111.jpg', '12_0011-77_00005.jpg', '06_0000818_00047.jpg', '16_0024-39_00012.jpg', '12_0013-13_00007.jpg', '03_0013-37_00020.jpg', '06_0000783_00002.jpg', '03_0014-37_00027.jpg', '22_0000057_00016.jpg', '22_0000614_00015.jpg', '22_0000168_00001.jpg', '12_0009-17_00013.jpg', '06_0000649_00087.jpg', '22_0000671_00008.jpg', '16_0014-21_00005.jpg', '03_0004-50_00016.jpg', '06_0001094_00005.jpg', '03_0005-69_00021.jpg', '03_001-137_00007.jpg', '12_00011-1_00003.jpg', '06_0000965_00030.jpg', '22_0000628_00012.jpg', '12_0007-29_00006.jpg', '12_0002-27_00008.jpg', '12_0011-23_00001.jpg', '12_0003-68_00005.jpg', '16_0029-17_00002.jpg', '06_0000336_00007.jpg', '06_0000186_00001.jpg', '12_0014-10_00021.jpg', '12_0009-38_00009.jpg', '12_0004-49_00012.jpg', '03_0005-25_00024.jpg', '03_0009-68_00074.jpg', '03_0002-48_00004.jpg', '12_0012-15_00007.jpg', '03_0005-21_00019.jpg', '22_0000949_00021.jpg', '06_0000856_00001.jpg', '06_0000589_00016.jpg', '12_0002-69_00010.jpg', '16_0001-13_00018.jpg', '06_0000048_00011.jpg', '06_0000933_00011.jpg', '06_0000775_00093.jpg', '06_0001098_00009.jpg', '12_0016-60_00014.jpg', '03_0012-34_00022.jpg', '06_0000818_00044.jpg', '22_0000934_00011.jpg', '06_0000794_00003.jpg', '22_0000686_00003.jpg', '06_0000503_00023.jpg', '06_0000948_00010.jpg', '22_0000753_00008.jpg', '12_0014-74_00043.jpg', '06_0000808_00023.jpg', '16_0022-21_00008.jpg', '12_0001-28_00002.jpg', '12_0006-20_00002.jpg', '22_0000902_00092.jpg', '12_00011-1_00014.jpg', '06_0000038_00001.jpg', '06_0000503_00015.jpg', '12_0004-31_00035.jpg', '22_0000285_00006.jpg', '03_0002-87_00008.jpg', '22_0001009_00001.jpg', '03_0014-55_00030.jpg', '16_00005-5_00011.jpg', '12_0010-12_00059.jpg', '12_0014-47_00016.jpg', '12_0011-24_00017.jpg', '12_0002-15_00009.jpg', '03_0013-45_00056.jpg', '22_0001008_00038.jpg', '12_0014-30_00021.jpg', '06_0001088_00014.jpg', '03_0013-59_00001.jpg', '03_0014-35_00007.jpg', '12_0002-69_00023.jpg', '03_0005-27_00012.jpg', '06_0000870_00008.jpg', '03_0009-37_00009.jpg', '03_0005-65_00087.jpg', '16_00036-1_00002.jpg', '03_0008-53_00006.jpg', '06_0001107_00001.jpg', '12_0013-41_00004.jpg', '22_0000728_00001.jpg', '06_0000775_00054.jpg', '12_0006-16_00002.jpg', '06_0000963_00031.jpg', '12_0007-18_00030.jpg', '12_0002-16_00016.jpg', '16_0015-15_00001.jpg', '06_0000521_00025.jpg', '16_0033-18_00003.jpg', '03_0010-43_00007.jpg', '16_00031-6_00001.jpg', '22_0000659_00002.jpg', '12_00016-6_00012.jpg', '03_0014-15_00015.jpg', '16_0026-11_00014.jpg', '12_0012-33_00036.jpg', '03_0013-73_00009.jpg', '06_0000592_00044.jpg', '12_0004-50_00024.jpg', '12_0014-75_00031.jpg', '12_0013-14_00005.jpg', '03_00014-8_00015.jpg', '06_0000841_00004.jpg', '22_0000312_00001.jpg', '06_0001032_00013.jpg', '12_0006-55_00026.jpg', '06_0000126_00009.jpg', '22_0000634_00006.jpg', '03_0010-88_00024.jpg', '12_0016-10_00001.jpg', '12_0007-18_00023.jpg', '03_0001-89_00016.jpg', '03_0006-56_00006.jpg', '06_0000975_00004.jpg', '03_0014-48_00010.jpg', '12_0014-65_00001.jpg', '03_0008-49_00015.jpg', '03_0013-45_00025.jpg', '03_0005-47_00012.jpg', '16_00004-3_00016.jpg', '22_0000984_00017.jpg', '03_0009-68_00085.jpg', '06_0001125_00009.jpg', '06_0000961_00014.jpg', '12_0015-12_00024.jpg', '06_0000737_00058.jpg', '06_0001106_00019.jpg', '12_00014-7_00011.jpg', '12_0016-19_00001.jpg', '06_0000854_00012.jpg', '03_0012-74_00029.jpg', '12_00011-1_00004.jpg', '12_0002-10_00014.jpg', '16_00011-8_00014.jpg', '03_0006-93_00007.jpg', '03_00013-8_00028.jpg', '06_0000960_00004.jpg', '03_0003-60_00033.jpg', '12_0002-59_00003.jpg', '03_0010-81_00011.jpg', '12_00002-3_00030.jpg', '16_0035-13_00004.jpg', '12_0006-67_00008.jpg', '12_0011-16_00012.jpg', '12_00012-3_00077.jpg', '06_0000301_00005.jpg', '12_0010-15_00047.jpg', '06_0000583_00024.jpg', '16_00026-1_00006.jpg', '12_00008-6_00008.jpg', '12_0005-56_00011.jpg', '03_0008-26_00001.jpg', '06_0000972_00002.jpg', '12_0002-26_00010.jpg', '12_00003-8_00003.jpg', '12_0015-27_00004.jpg', '06_0000153_00012.jpg', '06_0000001_00010.jpg', '12_00012-8_00014.jpg', '06_0000224_00069.jpg', '16_00022-6_00008.jpg', '12_0006-70_00003.jpg', '12_0006-49_00041.jpg', '22_0000060_00002.jpg', '16_0027-10_00002.jpg', '03_0005-68_00035.jpg', '22_0000637_00003.jpg', '03_0003-76_00012.jpg', '12_0006-38_00014.jpg', '03_0007-26_00032.jpg', '12_0013-64_00043.jpg', '03_0008-59_00012.jpg', '22_0000920_00026.jpg', '12_0001-57_00005.jpg', '03_0013-16_00007.jpg', '03_00013-4_00004.jpg', '03_0010-28_00012.jpg', '12_0010-34_00003.jpg', '12_0005-31_00025.jpg', '03_0013-71_00002.jpg', '12_0010-34_00002.jpg', '22_0000789_00009.jpg', '22_0000671_00009.jpg', '06_0001012_00017.jpg', '16_00014-2_00001.jpg', '12_0008-16_00009.jpg', '03_0010-18_00026.jpg', '12_0005-68_00003.jpg', '12_0004-30_00025.jpg', '22_0000908_00005.jpg', '03_0011-37_00023.jpg', '22_0000458_00002.jpg', '22_0000454_00006.jpg', '12_00016-5_00001.jpg', '22_0000368_00003.jpg', '16_0031-28_00026.jpg', '06_0000553_00005.jpg', '06_0001015_00001.jpg', '03_0010-88_00007.jpg', '12_0001-47_00040.jpg', '22_0000991_00013.jpg', '12_0011-44_00002.jpg', '12_0011-23_00006.jpg', '06_0000120_00014.jpg', '22_0000094_00024.jpg', '12_0002-86_00003.jpg', '12_0016-12_00023.jpg', '03_0003-48_00008.jpg', '22_0000880_00003.jpg', '06_0000265_00001.jpg', '22_0000554_00036.jpg', '06_0000913_00005.jpg', '22_0000673_00010.jpg', '16_0033-18_00013.jpg', '06_0000775_00038.jpg', '16_0026-30_00010.jpg', '06_0000591_00063.jpg', '03_0012-24_00018.jpg', '06_0001054_00077.jpg', '22_0000673_00003.jpg', '12_0008-42_00028.jpg', '03_0010-17_00002.jpg', '03_0008-26_00009.jpg', '06_0001063_00004.jpg', '16_0027-29_00004.jpg', '22_0000483_00001.jpg', '06_0000457_00046.jpg', '12_0014-10_00005.jpg', '12_0007-54_00010.jpg', '06_0000786_00016.jpg', '03_00011-7_00020.jpg', '22_0000613_00020.jpg', '12_0002-20_00001.jpg', '06_0000023_00018.jpg', '03_0005-65_00056.jpg', '03_0005-21_00002.jpg', '16_0022-18_00013.jpg', '06_0000083_00064.jpg', '12_00012-1_00004.jpg', '03_00003-5_00123.jpg', '03_0008-26_00022.jpg', '12_0003-43_00013.jpg', '12_0003-12_00013.jpg', '12_0012-37_00037.jpg', '03_0007-12_00014.jpg', '03_0007-42_00017.jpg', '12_0003-32_00013.jpg', '06_0000739_00036.jpg', '22_0000525_00029.jpg', '22_0001020_00005.jpg', '12_0004-16_00026.jpg', '03_00014-8_00039.jpg', '06_0000377_00015.jpg', '22_0000609_00059.jpg', '03_0010-20_00027.jpg', '03_0004-36_00005.jpg', '12_0007-22_00043.jpg', '03_0012-77_00014.jpg', '22_0000945_00016.jpg', '12_0010-63_00014.jpg', '12_0003-10_00018.jpg', '03_0013-16_00016.jpg', '03_0014-37_00006.jpg', '06_0000770_00015.jpg', '12_0005-13_00019.jpg', '12_0002-47_00006.jpg', '03_0006-37_00001.jpg', '06_0001110_00003.jpg', '22_0000764_00001.jpg', '06_0001069_00002.jpg', '16_0036-20_00006.jpg', '06_0000761_00017.jpg', '12_0006-40_00011.jpg', '03_0003-54_00053.jpg', '06_0000457_00064.jpg', '12_0003-66_00029.jpg', '12_0016-69_00004.jpg', '03_0013-55_00003.jpg', '06_0000053_00004.jpg', '22_0000673_00012.jpg', '06_0000193_00008.jpg', '22_0000936_00027.jpg', '16_00022-8_00014.jpg', '22_0001095_00003.jpg', '06_0001061_00018.jpg', '12_0002-11_00004.jpg', '03_0010-51_00018.jpg', '12_0011-45_00002.jpg', '03_0009-18_00007.jpg', '16_00025-9_00019.jpg', '12_0005-58_00014.jpg', '06_0000126_00032.jpg', '12_0015-69_00001.jpg', '03_0014-38_00035.jpg', '12_00014-7_00004.jpg', '03_0002-26_00001.jpg', '06_0001141_00009.jpg', '12_0009-37_00002.jpg', '03_0011-47_00015.jpg', '06_0000739_00018.jpg', '12_0012-33_00006.jpg', '12_0004-52_00022.jpg', '06_0000898_00008.jpg', '03_0006-14_00005.jpg', '16_0010-11_00005.jpg', '06_0000151_00005.jpg', '16_00018-6_00006.jpg', '03_0002-21_00019.jpg', '06_0000736_00006.jpg', '06_0000062_00005.jpg', '12_0013-54_00001.jpg', '16_0024-22_00010.jpg', '12_0008-20_00073.jpg', '12_0002-73_00023.jpg', '12_0010-57_00001.jpg', '12_00004-1_00012.jpg', '03_0007-39_00001.jpg', '03_0002-48_00006.jpg', '12_0016-24_00016.jpg', '12_0005-27_00016.jpg', '06_0001038_00039.jpg', '03_00011-8_00005.jpg', '16_0032-19_00028.jpg', '06_0000739_00020.jpg', '06_0001075_00015.jpg', '16_0004-10_00009.jpg', '16_0004-10_00001.jpg', '06_0000944_00010.jpg', '12_0016-15_00021.jpg', '03_0014-37_00010.jpg', '16_00022-2_00006.jpg', '12_0013-11_00015.jpg', '22_0000866_00014.jpg', '06_0000818_00020.jpg', '12_0001-27_00014.jpg', '06_0000482_00011.jpg', '12_00013-7_00032.jpg', '12_0016-66_00008.jpg', '22_0000518_00008.jpg', '12_0012-30_00013.jpg', '06_0000453_00052.jpg', '12_0002-67_00070.jpg', '22_0000871_00044.jpg', '03_0011-30_00019.jpg', '03_0004-78_00009.jpg', '16_0021-17_00031.jpg', '12_0010-36_00009.jpg', '06_0000920_00010.jpg', '12_0006-68_00014.jpg', '12_00006-1_00044.jpg', '03_0014-55_00023.jpg', '06_0000818_00038.jpg', '16_00007-8_00006.jpg', '03_0010-80_00022.jpg', '06_0000564_00034.jpg', '16_0019-12_00010.jpg', '22_0000935_00025.jpg', '03_001-128_00022.jpg', '16_00035-7_00006.jpg', '06_0000301_00003.jpg', '16_0029-16_00007.jpg', '03_0005-68_00002.jpg', '06_0000663_00035.jpg', '06_0000224_00022.jpg', '12_0002-38_00007.jpg', '22_0000926_00029.jpg', '06_0000252_00001.jpg', '22_0000673_00022.jpg', '03_0007-19_00004.jpg', '06_0000049_00001.jpg', '03_0010-29_00016.jpg', '03_0012-49_00006.jpg', '03_0006-34_00007.jpg', '16_0007-14_00001.jpg', '22_0000555_00001.jpg', '06_0000543_00026.jpg', '06_0000925_00007.jpg', '16_00025-6_00019.jpg', '03_0014-37_00028.jpg', '06_0000386_00002.jpg', '12_0010-29_00007.jpg', '16_00014-2_00003.jpg', '22_0000758_00009.jpg', '12_0014-47_00034.jpg', '22_0000881_00023.jpg', '06_0000539_00006.jpg', '03_0005-38_00008.jpg', '03_0007-10_00005.jpg', '22_0000077_00021.jpg', '12_0012-32_00042.jpg', '22_0000865_00001.jpg', '03_0005-59_00005.jpg', '06_0000900_00010.jpg', '12_0013-38_00058.jpg', '12_0004-68_00017.jpg', '03_0009-43_00016.jpg', '03_0013-61_00002.jpg', '22_0001015_00008.jpg', '06_0000209_00007.jpg', '06_0000493_00024.jpg', '12_0003-42_00042.jpg', '12_0012-37_00072.jpg', '03_0010-54_00003.jpg', '06_0000695_00011.jpg', '06_0001168_00044.jpg', '22_0000150_00004.jpg', '03_0013-52_00025.jpg', '22_0000475_00011.jpg', '12_0004-58_00015.jpg', '06_0001096_00002.jpg', '03_0006-96_00005.jpg', '16_00033-8_00028.jpg', '06_0000457_00044.jpg', '12_0013-38_00019.jpg', '06_0000153_00013.jpg', '12_0006-26_00092.jpg', '12_00006-6_00001.jpg', '22_0000050_00002.jpg', '06_0000093_00011.jpg', '06_0000761_00046.jpg', '03_0010-26_00011.jpg', '03_0012-88_00020.jpg', '03_0012-88_00048.jpg', '06_0000919_00070.jpg', '12_0013-38_00064.jpg', '03_0010-94_00038.jpg', '12_0004-31_00018.jpg', '22_0000725_00010.jpg', '12_00014-9_00001.jpg', '12_0016-12_00003.jpg', '03_0008-25_00013.jpg', '06_0000453_00035.jpg', '22_0000836_00033.jpg', '12_0011-73_00005.jpg', '12_0009-46_00001.jpg', '06_0000779_00001.jpg', '22_0001010_00012.jpg', '03_0004-43_00096.jpg', '12_0009-58_00005.jpg', '03_00014-4_00022.jpg', '12_0005-59_00003.jpg', '12_0015-60_00038.jpg', '16_0021-12_00013.jpg', '12_0010-10_00044.jpg', '06_0000519_00044.jpg', '12_0008-11_00011.jpg', '06_0001086_00012.jpg', '12_0009-36_00018.jpg', '06_0001102_00056.jpg', '03_0001-67_00026.jpg', '12_0015-24_00007.jpg', '06_0000143_00009.jpg', '22_0000845_00041.jpg', '12_0002-20_00003.jpg', '03_0008-11_00002.jpg', '22_0000908_00016.jpg', '12_0007-38_00007.jpg', '12_0014-42_00016.jpg', '22_0001089_00005.jpg', '12_0006-17_00009.jpg', '03_0012-13_00008.jpg', '06_0000457_00050.jpg', '12_0006-36_00008.jpg', '03_0009-37_00026.jpg', '12_0001-38_00004.jpg', '12_00004-6_00002.jpg', '16_0035-13_00012.jpg', '03_0010-21_00029.jpg', '12_0010-50_00020.jpg', '06_0001061_00053.jpg', '03_001-128_00012.jpg', '12_0008-42_00021.jpg', '06_0000775_00069.jpg', '12_0015-65_00006.jpg', '12_0002-73_00016.jpg', '22_0000642_00023.jpg', '16_0015-10_00013.jpg', '03_0009-45_00029.jpg', '16_0012-23_00003.jpg', '12_0006-10_00025.jpg', '12_0016-56_00009.jpg', '12_0009-32_00002.jpg', '16_0025-28_00010.jpg', '03_0012-41_00004.jpg', '12_0005-57_00001.jpg', '06_0001090_00008.jpg', '06_0001075_00003.jpg', '03_00004-8_00016.jpg', '06_0000334_00022.jpg', '16_0006-13_00007.jpg', '03_0013-53_00026.jpg', '12_00015-2_00004.jpg', '12_0015-13_00001.jpg', '12_0008-29_00006.jpg', '16_00036-5_00007.jpg', '12_0012-12_00007.jpg', '22_0000384_00004.jpg', '16_0005-14_00004.jpg', '06_0001131_00062.jpg', '06_0000619_00027.jpg', '12_00012-3_00068.jpg', '12_0014-75_00021.jpg', '16_0029-27_00008.jpg', '16_0026-11_00003.jpg', '06_0000989_00013.jpg', '06_0000511_00037.jpg', '12_0001-52_00023.jpg', '16_0017-17_00002.jpg', '06_0000451_00006.jpg', '06_0000771_00013.jpg', '12_0003-51_00026.jpg', '06_0000227_00048.jpg', '12_00002-5_00022.jpg', '03_0007-45_00014.jpg', '12_0012-28_00003.jpg', '12_0006-38_00012.jpg', '16_0019-19_00012.jpg', '22_0000442_00002.jpg', '12_0012-32_00062.jpg', '12_0002-33_00053.jpg', '03_0010-89_00028.jpg', '06_0000408_00043.jpg', '12_0016-56_00006.jpg', '22_0000762_00010.jpg', '16_0003-22_00004.jpg', '03_0012-33_00008.jpg', '12_00016-8_00017.jpg', '12_00012-5_00037.jpg', '12_0001-64_00027.jpg', '12_0015-66_00006.jpg', '22_0000518_00033.jpg', '06_0000933_00008.jpg', '06_0000734_00007.jpg', '22_0000384_00006.jpg', '06_0000049_00006.jpg', '06_0000223_00076.jpg', '03_0014-43_00023.jpg', '03_0012-78_00038.jpg', '12_0002-71_00006.jpg', '03_00006-7_00019.jpg', '22_0001076_00017.jpg', '06_0000651_00037.jpg', '12_00013-7_00031.jpg', '03_0010-40_00015.jpg', '03_0002-91_00066.jpg', '16_0036-14_00006.jpg', '12_0010-54_00022.jpg', '12_0002-16_00017.jpg', '12_0010-18_00009.jpg', '03_0012-77_00005.jpg', '06_0000181_00006.jpg', '03_0001-89_00004.jpg', '12_0003-21_00003.jpg', '03_0009-37_00034.jpg', '12_0013-11_00008.jpg', '03_0009-81_00027.jpg', '06_0000319_00003.jpg', '16_00003-9_00002.jpg', '06_0000039_00044.jpg', '03_001-150_00001.jpg', '12_0003-62_00009.jpg', '16_00025-7_00015.jpg', '22_0000673_00007.jpg', '12_00014-6_00005.jpg', '12_0012-12_00067.jpg', '12_0016-14_00004.jpg', '22_0001028_00006.jpg', '12_0006-26_00045.jpg', '06_0001122_00003.jpg', '16_0020-14_00009.jpg', '16_0032-19_00022.jpg', '03_0013-52_00045.jpg', '06_0000272_00011.jpg', '16_0024-13_00014.jpg', '22_0000402_00010.jpg', '06_0000450_00008.jpg', '12_00009-6_00009.jpg', '22_0000077_00041.jpg', '22_0000865_00017.jpg', '06_0000851_00018.jpg', '06_0000408_00060.jpg', '06_0000365_00055.jpg', '16_0020-14_00006.jpg', '12_0010-62_00001.jpg', '03_00012-6_00003.jpg', '22_0000549_00014.jpg', '22_0000144_00007.jpg', '06_0000688_00071.jpg', '22_0000861_00013.jpg', '03_0004-64_00004.jpg', '06_0001168_00040.jpg', '06_0001049_00028.jpg', '12_0003-67_00024.jpg', '12_0011-59_00005.jpg', '03_00010-3_00004.jpg', '03_0013-24_00007.jpg', '06_0000941_00006.jpg', '06_0001012_00014.jpg', '12_0007-51_00015.jpg', '06_0000876_00004.jpg', '03_0006-36_00043.jpg', '03_0008-36_00007.jpg', '22_0000968_00007.jpg', '22_0000762_00012.jpg', '03_0010-20_00020.jpg', '06_0000519_00055.jpg', '06_0000491_00089.jpg', '12_0008-51_00058.jpg', '03_0009-81_00011.jpg', '16_00022-2_00007.jpg', '16_00022-4_00004.jpg', '22_0000750_00068.jpg', '06_0000785_00006.jpg', '12_0011-23_00034.jpg', '12_0008-49_00021.jpg', '06_0000264_00001.jpg', '03_0009-33_00005.jpg', '16_00032-3_00012.jpg', '03_0014-56_00058.jpg', '12_0010-51_00013.jpg', '03_0010-15_00010.jpg', '03_0013-62_00011.jpg', '16_00012-4_00001.jpg', '16_00031-7_00005.jpg', '12_0010-47_00012.jpg', '12_0010-15_00036.jpg', '03_0013-33_00074.jpg', '06_0000735_00133.jpg', '12_0004-34_00009.jpg', '12_0004-30_00012.jpg', '12_0012-31_00005.jpg', '22_0000961_00005.jpg', '06_0000440_00023.jpg', '06_0000408_00051.jpg', '06_0001008_00001.jpg', '12_0013-29_00005.jpg', '06_0000303_00013.jpg', '03_0003-55_00001.jpg', '03_0013-72_00012.jpg', '16_0031-28_00011.jpg', '22_0000381_00013.jpg', '12_0002-72_00011.jpg', '12_0005-58_00013.jpg', '12_0010-66_00009.jpg', '03_0006-61_00002.jpg', '06_0000722_00004.jpg', '03_0012-27_00003.jpg', '03_0001-19_00004.jpg', '03_0009-37_00004.jpg', '12_0008-36_00014.jpg', '12_0002-33_00010.jpg', '06_0000459_00015.jpg', '16_00030-7_00001.jpg', '03_0012-90_00041.jpg', '12_0004-20_00004.jpg', '12_0005-38_00012.jpg', '06_0000171_00009.jpg', '22_0000289_00005.jpg', '12_0002-24_00004.jpg', '03_0006-85_00060.jpg', '12_0014-11_00014.jpg', '12_0004-60_00009.jpg', '03_00009-1_00055.jpg', '16_0019-20_00066.jpg', '06_0000880_00006.jpg', '22_0000845_00004.jpg', '06_0000565_00051.jpg', '03_003-109_00018.jpg', '06_0001046_00008.jpg', '22_0001052_00004.jpg', '16_0001-15_00028.jpg', '06_0000820_00047.jpg', '03_0013-72_00011.jpg', '12_0008-20_00006.jpg', '12_0011-30_00010.jpg', '22_0001008_00001.jpg', '06_0000619_00016.jpg', '16_0003-11_00005.jpg', '12_0001-42_00001.jpg', '06_0000741_00036.jpg', '16_00030-5_00002.jpg', '12_0004-52_00012.jpg', '16_0015-15_00007.jpg', '06_0000453_00032.jpg', '06_0000520_00008.jpg', '03_0005-51_00010.jpg', '12_0008-27_00009.jpg', '03_0012-24_00001.jpg', '16_0036-22_00011.jpg', '12_0009-68_00012.jpg', '06_0001116_00004.jpg', '12_0011-23_00023.jpg', '22_0001069_00048.jpg', '12_0007-38_00023.jpg', '22_0000901_00028.jpg', '06_0000077_00011.jpg', '03_0002-46_00002.jpg', '03_00011-7_00017.jpg', '12_0003-66_00028.jpg', '06_0000946_00012.jpg', '03_0012-44_00024.jpg', '22_0001054_00013.jpg', '22_0000050_00012.jpg', '06_0001036_00013.jpg', '12_0005-38_00056.jpg', '16_0017-16_00023.jpg', '03_0009-37_00010.jpg', '12_00012-5_00006.jpg', '12_00015-3_00014.jpg', '03_0011-30_00020.jpg', '12_00011-7_00006.jpg', '12_0005-26_00004.jpg', '12_0006-38_00009.jpg', '16_0033-15_00004.jpg', '03_0009-21_00009.jpg', '03_0010-43_00006.jpg', '03_0014-56_00020.jpg', '22_0000057_00004.jpg', '22_0000923_00009.jpg', '16_0026-28_00020.jpg', '22_0000598_00010.jpg', '16_00030-9_00019.jpg', '06_0000099_00004.jpg', '03_0007-12_00003.jpg', '16_0033-15_00009.jpg', '22_0000077_00019.jpg', '16_0017-17_00010.jpg', '12_00012-5_00036.jpg', '03_001-116_00006.jpg', '12_00005-9_00005.jpg', '06_0000762_00001.jpg', '12_0010-42_00060.jpg', '06_0000852_00051.jpg', '03_0003-31_00001.jpg', '12_0004-31_00030.jpg', '12_0015-56_00011.jpg', '12_0010-10_00035.jpg', '06_0000649_00049.jpg', '12_0014-47_00002.jpg', '03_0005-76_00026.jpg', '16_0027-16_00011.jpg', '03_0005-91_00003.jpg', '06_0001068_00006.jpg', '12_0004-35_00020.jpg', '03_0010-89_00006.jpg', '12_0009-42_00006.jpg', '12_0010-77_00006.jpg', '12_0015-61_00010.jpg', '22_0001009_00008.jpg', '22_0000075_00038.jpg', '12_0002-34_00044.jpg', '12_0008-11_00010.jpg', '12_0002-35_00006.jpg', '12_0002-77_00010.jpg', '06_0000602_00002.jpg', '06_0000619_00051.jpg', '12_0010-12_00016.jpg', '06_0000676_00007.jpg', '22_0000544_00016.jpg', '06_0000960_00019.jpg', '06_0000416_00049.jpg', '03_0008-35_00001.jpg', '12_0008-42_00041.jpg', '06_0000107_00005.jpg', '12_0001-47_00041.jpg', '06_0000448_00007.jpg', '12_0004-63_00020.jpg', '12_0008-32_00003.jpg', '16_0026-11_00016.jpg', '06_0000072_00010.jpg', '22_0000905_00037.jpg', '12_0009-21_00010.jpg', '03_0010-97_00023.jpg', '12_0010-18_00005.jpg', '03_0010-89_00038.jpg', '22_0000936_00031.jpg', '16_0001-37_00008.jpg', '06_0000592_00043.jpg', '06_0001122_00017.jpg', '12_0003-59_00052.jpg', '06_0001124_00067.jpg', '12_0006-43_00011.jpg', '12_00001-1_00001.jpg', '06_0001014_00016.jpg', '03_0005-77_00006.jpg', '06_0000053_00021.jpg', '03_0010-18_00066.jpg', '12_0004-54_00012.jpg', '16_0029-28_00002.jpg', '03_0003-87_00012.jpg', '06_0001068_00024.jpg', '06_0001140_00002.jpg', '22_0000934_00010.jpg', '06_0000039_00001.jpg', '06_0001086_00075.jpg', '12_0007-22_00039.jpg', '06_0000722_00006.jpg', '12_0004-47_00005.jpg', '03_0009-42_00004.jpg', '03_0009-70_00006.jpg', '03_0005-46_00020.jpg', '06_0000765_00001.jpg', '12_0001-26_00011.jpg', '06_0000134_00025.jpg', '06_0000001_00003.jpg', '12_0012-30_00025.jpg', '06_0001070_00003.jpg', '16_00007-5_00002.jpg', '03_0011-68_00014.jpg', '16_0001-50_00009.jpg', '12_0012-35_00054.jpg', '12_0001-19_00011.jpg', '03_0006-18_00003.jpg', '12_0001-59_00004.jpg', '12_0008-50_00006.jpg', '06_0000897_00002.jpg', '22_0000381_00012.jpg', '03_0003-49_00008.jpg', '22_0000642_00020.jpg', '06_0000500_00022.jpg', '22_0000544_00015.jpg', '12_0002-45_00010.jpg', '03_0003-49_00002.jpg', '03_0010-91_00001.jpg', '12_0016-15_00015.jpg', '16_00031-7_00007.jpg', '06_0000617_00008.jpg', '06_0000730_00029.jpg', '12_0016-47_00023.jpg', '12_0001-52_00026.jpg', '22_0000737_00016.jpg', '06_0001107_00042.jpg', '12_0004-34_00007.jpg', '12_0015-35_00034.jpg', '06_0001054_00087.jpg', '16_00032-3_00013.jpg', '12_0016-20_00002.jpg', '16_0033-16_00002.jpg', '06_0000074_00007.jpg', '06_0001080_00036.jpg', '16_0001-41_00012.jpg', '03_001-122_00040.jpg', '03_0011-28_00005.jpg', '12_0007-42_00002.jpg', '06_0001115_00047.jpg', '06_0000447_00022.jpg', '03_0010-96_00004.jpg', '03_001-118_00001.jpg', '12_0002-57_00031.jpg', '06_0000981_00006.jpg', '16_0032-18_00008.jpg', '12_0004-67_00040.jpg', '03_0004-69_00042.jpg', '06_0000591_00021.jpg', '03_0012-90_00015.jpg', '06_0001080_00004.jpg', '16_00001-1_00016.jpg', '22_0000609_00023.jpg', '12_0013-38_00045.jpg', '16_00026-6_00007.jpg', '06_0000541_00013.jpg', '03_0010-25_00011.jpg', '06_0000587_00010.jpg', '12_0014-24_00009.jpg', '03_0006-18_00023.jpg', '03_0011-41_00024.jpg', '06_0001065_00008.jpg', '12_0005-38_00037.jpg', '12_0003-59_00068.jpg', '12_0013-12_00002.jpg', '12_0005-43_00006.jpg', '12_00001-3_00013.jpg', '22_0000747_00011.jpg', '16_0024-28_00008.jpg', '06_0000108_00003.jpg', '03_0013-68_00002.jpg', '12_0011-68_00005.jpg', '12_0008-55_00001.jpg', '12_0001-26_00005.jpg', '22_0000848_00020.jpg', '06_0000592_00045.jpg', '12_0016-57_00060.jpg', '12_0014-40_00015.jpg', '06_0000920_00005.jpg', '03_0014-46_00036.jpg', '22_0000161_00015.jpg', '03_011-103_00022.jpg', '03_0005-77_00008.jpg', '22_0000439_00010.jpg', '12_00014-4_00037.jpg', '12_0003-68_00011.jpg', '03_0002-55_00006.jpg', '16_0026-28_00023.jpg', '03_0004-50_00056.jpg', '06_0000274_00058.jpg', '12_0002-63_00006.jpg', '06_0000453_00036.jpg', '12_0013-56_00011.jpg', '22_0000955_00017.jpg', '22_0000916_00011.jpg', '12_0013-59_00002.jpg', '06_0001125_00007.jpg', '12_0007-52_00002.jpg', '03_0007-29_00009.jpg', '06_0000495_00007.jpg', '12_0005-14_00016.jpg', '06_0000455_00013.jpg', '06_0001055_00004.jpg', '06_0000462_00024.jpg', '12_0005-69_00022.jpg', '22_0000144_00009.jpg', '03_0006-23_00029.jpg', '06_0000754_00025.jpg', '12_0013-38_00027.jpg', '22_0000058_00003.jpg', '12_0006-12_00008.jpg', '22_0000577_00010.jpg', '22_0000585_00010.jpg', '03_0014-10_00003.jpg', '06_0001028_00007.jpg', '06_0000808_00045.jpg', '03_0005-69_00027.jpg', '06_0000534_00009.jpg', '16_0024-23_00012.jpg', '12_0015-60_00028.jpg', '16_0024-29_00010.jpg', '06_0000033_00017.jpg', '12_0015-66_00026.jpg', '06_0000076_00005.jpg', '12_00007-8_00012.jpg', '03_0010-89_00030.jpg', '06_0001021_00019.jpg', '12_0015-66_00028.jpg', '06_0000591_00014.jpg', '12_0006-68_00005.jpg', '03_0010-54_00049.jpg', '12_0011-45_00005.jpg', '12_0014-30_00031.jpg', '03_0005-98_00021.jpg', '03_0004-64_00018.jpg', '06_0000307_00014.jpg', '22_0000969_00020.jpg', '03_0010-60_00027.jpg', '16_0026-27_00001.jpg', '22_0000955_00004.jpg', '22_0000825_00008.jpg', '03_0009-51_00011.jpg', '03_00008-9_00002.jpg', '03_00006-8_00041.jpg', '03_0005-63_00008.jpg', '03_0014-17_00008.jpg', '06_0000685_00019.jpg', '12_0013-42_00040.jpg', '16_0032-10_00008.jpg', '06_0000663_00018.jpg', '06_0000517_00004.jpg', '06_0001082_00002.jpg', '03_0005-46_00030.jpg', '12_0003-58_00003.jpg', '03_0009-39_00016.jpg', '22_0000861_00005.jpg', '12_00003-8_00004.jpg', '03_0006-83_00009.jpg', '06_0001098_00002.jpg', '03_0004-58_00007.jpg', '22_0000520_00001.jpg', '12_0002-38_00001.jpg', '22_0000753_00007.jpg', '12_0001-62_00017.jpg', '12_0007-64_00010.jpg', '12_0004-60_00002.jpg', '03_0006-85_00051.jpg', '03_0007-67_00008.jpg', '03_0008-25_00011.jpg', '03_0004-71_00002.jpg', '12_0007-48_00003.jpg', '06_0000224_00023.jpg', '03_0008-24_00017.jpg', '12_0001-60_00029.jpg', '12_0002-61_00009.jpg', '06_0000989_00040.jpg', '03_0004-56_00011.jpg', '06_0000189_00002.jpg', '03_0005-61_00003.jpg', '16_0030-16_00039.jpg', '12_0005-10_00004.jpg', '06_0000513_00007.jpg', '03_0012-93_00047.jpg', '22_0001089_00006.jpg', '16_0032-18_00017.jpg', '22_0000740_00002.jpg', '06_0000294_00033.jpg', '22_0000923_00015.jpg', '12_0009-71_00032.jpg', '06_0000519_00026.jpg', '03_0002-21_00013.jpg', '22_0000474_00001.jpg', '03_0012-91_00029.jpg', '06_0001107_00031.jpg', '03_0004-10_00001.jpg', '06_0000871_00003.jpg', '22_0000289_00003.jpg', '12_0001-54_00027.jpg', '06_0000482_00009.jpg', '22_0000705_00010.jpg', '22_0000921_00009.jpg', '12_0012-36_00124.jpg', '12_0006-37_00032.jpg', '22_0000618_00046.jpg', '12_0016-45_00013.jpg', '03_0014-24_00013.jpg', '06_0000763_00003.jpg', '06_0001038_00014.jpg', '12_0004-37_00004.jpg', '06_0000093_00006.jpg', '16_0001-38_00010.jpg', '12_0016-57_00006.jpg', '06_0000737_00053.jpg', '06_0000523_00023.jpg', '03_0004-14_00002.jpg', '03_0007-14_00011.jpg', '12_0001-36_00004.jpg', '03_0007-14_00029.jpg', '03_0008-55_00019.jpg', '12_0011-43_00005.jpg', '12_0003-59_00028.jpg', '03_0010-89_00021.jpg', '12_00016-9_00006.jpg', '16_00035-6_00009.jpg', '22_0000755_00005.jpg', '06_0000612_00010.jpg', '03_0004-81_00048.jpg', '12_0010-56_00005.jpg', '03_0004-50_00040.jpg', '03_00001-1_00001.jpg', '06_0000440_00014.jpg', '06_0000737_00091.jpg', '06_0000198_00011.jpg', '03_0011-40_00001.jpg', '06_0000179_00004.jpg', '03_0012-93_00026.jpg', '12_00015-2_00018.jpg', '12_0016-24_00017.jpg', '03_0010-73_00003.jpg', '06_0000964_00015.jpg', '12_0010-42_00028.jpg', '06_0000943_00015.jpg', '06_0000920_00011.jpg', '16_0022-18_00017.jpg', '22_0000494_00002.jpg', '12_0015-33_00122.jpg', '22_0000312_00020.jpg', '22_0000892_00014.jpg', '12_0006-20_00021.jpg', '06_0000453_00031.jpg', '06_0001088_00004.jpg', '06_0001098_00005.jpg', '16_00004-8_00004.jpg', '12_0013-56_00007.jpg', '12_0016-24_00022.jpg', '12_0009-21_00016.jpg', '06_0000273_00065.jpg', '03_0002-38_00041.jpg', '22_0000585_00025.jpg', '03_0013-45_00036.jpg', '16_0001-12_00028.jpg', '06_0000375_00007.jpg', '12_0006-37_00030.jpg', '03_0004-43_00058.jpg', '06_0000108_00005.jpg', '12_0002-59_00038.jpg', '16_00003-8_00003.jpg', '12_0009-42_00001.jpg', '06_0000511_00023.jpg', '12_0008-48_00016.jpg', '06_0000420_00026.jpg', '12_0005-38_00010.jpg', '06_0000602_00011.jpg', '12_0013-34_00005.jpg', '03_0007-34_00005.jpg', '12_00016-8_00001.jpg', '03_0011-56_00007.jpg', '06_0001086_00046.jpg', '16_0001-26_00008.jpg', '12_0016-12_00062.jpg', '22_0000737_00005.jpg', '22_0000134_00014.jpg', '12_0002-34_00016.jpg', '16_00012-9_00016.jpg', '12_0012-32_00098.jpg', '06_0000584_00062.jpg', '03_0008-49_00012.jpg', '03_00006-7_00033.jpg', '03_00014-5_00006.jpg', '06_0000724_00013.jpg', '12_0013-11_00016.jpg', '12_0002-71_00022.jpg', '06_0000690_00038.jpg', '22_0001096_00001.jpg', '16_0025-35_00006.jpg', '22_0000072_00009.jpg', '12_0002-65_00001.jpg', '12_0005-65_00003.jpg', '12_0009-50_00012.jpg', '03_0013-66_00035.jpg', '16_00022-9_00011.jpg', '06_0000189_00007.jpg', '22_0000724_00001.jpg', '03_0008-21_00008.jpg', '12_0010-42_00077.jpg', '22_0000301_00003.jpg', '12_0011-73_00006.jpg', '16_00013-3_00017.jpg', '12_0014-40_00016.jpg', '03_0006-56_00001.jpg', '12_0007-47_00015.jpg', '06_0000849_00028.jpg', '12_0006-12_00013.jpg', '03_003-119_00015.jpg', '03_0012-26_00016.jpg', '06_0001010_00018.jpg', '06_0000223_00045.jpg', '03_0003-54_00046.jpg', '03_0007-12_00006.jpg', '03_00009-7_00004.jpg', '12_0002-86_00018.jpg', '06_0000334_00021.jpg', '22_0000728_00005.jpg', '06_0000736_00002.jpg', '22_0000750_00062.jpg', '06_0000841_00002.jpg', '16_0033-12_00006.jpg', '03_0001-27_00016.jpg', '22_0000370_00004.jpg', '12_0016-57_00010.jpg', '12_0008-45_00002.jpg', '16_0001-11_00003.jpg', '12_0004-70_00004.jpg', '03_0012-22_00054.jpg', '03_00014-4_00020.jpg', '12_0002-34_00028.jpg', '06_0000449_00017.jpg', '06_0000961_00011.jpg', '12_0001-63_00007.jpg', '06_0000989_00016.jpg', '03_0014-36_00008.jpg', '06_0001117_00034.jpg', '03_0003-85_00007.jpg', '16_0030-16_00037.jpg', '06_0000599_00003.jpg', '06_0000092_00061.jpg', '22_0000728_00004.jpg', '03_0005-22_00010.jpg', '16_0014-19_00004.jpg', '12_00009-6_00005.jpg', '12_0015-52_00003.jpg', '22_0000100_00006.jpg', '03_0003-55_00025.jpg'])"
            ]
          },
          "metadata": {},
          "execution_count": 9
        },
        {
          "output_type": "stream",
          "name": "stdout",
          "text": [
            "time: 9.87 ms (started: 2022-05-09 11:20:05 +00:00)\n"
          ]
        }
      ]
    },
    {
      "cell_type": "code",
      "execution_count": 10,
      "metadata": {
        "colab": {
          "base_uri": "https://localhost:8080/"
        },
        "id": "Q8KNyuTXYfhi",
        "outputId": "01d2f499-4e8e-41f6-b370-545d491334bf"
      },
      "outputs": [
        {
          "output_type": "execute_result",
          "data": {
            "text/plain": [
              "[0, 0, 0, 0, 0, 0, 0, 0, 0, 0, 0, 0, 1, 0, 0, 0, 0, 0, 0, 0, 0, 0, 0, 0]"
            ]
          },
          "metadata": {},
          "execution_count": 10
        },
        {
          "output_type": "stream",
          "name": "stdout",
          "text": [
            "time: 7.17 ms (started: 2022-05-09 11:20:05 +00:00)\n"
          ]
        }
      ],
      "source": [
        "# Display one image label.\n",
        "\n",
        "dict_label['06_0001055_00003.jpg']"
      ]
    },
    {
      "cell_type": "code",
      "execution_count": 11,
      "metadata": {
        "colab": {
          "base_uri": "https://localhost:8080/"
        },
        "id": "jmoCaMnTYfhj",
        "outputId": "0dd51c27-96ca-4155-edb0-ceef0218194c"
      },
      "outputs": [
        {
          "output_type": "execute_result",
          "data": {
            "text/plain": [
              "131"
            ]
          },
          "metadata": {},
          "execution_count": 11
        },
        {
          "output_type": "stream",
          "name": "stdout",
          "text": [
            "time: 20 ms (started: 2022-05-09 11:20:05 +00:00)\n"
          ]
        }
      ],
      "source": [
        "# List unique labels.\n",
        "\n",
        "uniq_labels = [list(x) for x in set(tuple(x) for x in list(dict_label.values()))]\n",
        "uniq_labels.sort()\n",
        "len(uniq_labels)"
      ]
    },
    {
      "cell_type": "code",
      "execution_count": 12,
      "metadata": {
        "colab": {
          "base_uri": "https://localhost:8080/",
          "height": 35
        },
        "id": "5wUAyVeeYfhj",
        "outputId": "3ac60ffa-7554-4f30-912b-5731a001508a"
      },
      "outputs": [
        {
          "output_type": "execute_result",
          "data": {
            "text/plain": [
              "'[0, 0, 0, 0, 0, 0, 0, 0, 0, 0, 0, 0, 1, 0, 0, 0, 0, 0, 0, 0, 0, 0, 0, 0]'"
            ],
            "application/vnd.google.colaboratory.intrinsic+json": {
              "type": "string"
            }
          },
          "metadata": {},
          "execution_count": 12
        },
        {
          "output_type": "stream",
          "name": "stdout",
          "text": [
            "time: 25.4 ms (started: 2022-05-09 11:20:05 +00:00)\n"
          ]
        }
      ],
      "source": [
        "# Convert list-format labels into string-format labels.\n",
        "\n",
        "uniq_labels_strs = [str(x) for x in list(dict_label.values())]\n",
        "uniq_labels_strs[0]"
      ]
    },
    {
      "cell_type": "code",
      "execution_count": 13,
      "metadata": {
        "colab": {
          "base_uri": "https://localhost:8080/"
        },
        "id": "PVurvsh8Yfhk",
        "outputId": "43f9d873-125c-4476-f9b9-e65174d01dba"
      },
      "outputs": [
        {
          "output_type": "execute_result",
          "data": {
            "text/plain": [
              "{'[0, 0, 0, 0, 0, 0, 0, 0, 0, 0, 0, 0, 0, 0, 0, 0, 0, 0, 0, 0, 0, 0, 0, 1]': 8,\n",
              " '[0, 0, 0, 0, 0, 0, 0, 0, 0, 0, 0, 0, 0, 0, 0, 0, 0, 0, 0, 0, 0, 0, 1, 0]': 23,\n",
              " '[0, 0, 0, 0, 0, 0, 0, 0, 0, 0, 0, 0, 0, 0, 0, 0, 0, 0, 0, 0, 0, 1, 0, 0]': 15,\n",
              " '[0, 0, 0, 0, 0, 0, 0, 0, 0, 0, 0, 0, 0, 0, 0, 0, 0, 0, 0, 0, 0, 1, 1, 0]': 25,\n",
              " '[0, 0, 0, 0, 0, 0, 0, 0, 0, 0, 0, 0, 0, 0, 0, 0, 0, 0, 0, 0, 1, 0, 0, 0]': 17,\n",
              " '[0, 0, 0, 0, 0, 0, 0, 0, 0, 0, 0, 0, 0, 0, 0, 0, 0, 0, 1, 0, 0, 0, 0, 0]': 38,\n",
              " '[0, 0, 0, 0, 0, 0, 0, 0, 0, 0, 0, 0, 0, 0, 0, 0, 0, 1, 0, 0, 0, 0, 0, 0]': 38,\n",
              " '[0, 0, 0, 0, 0, 0, 0, 0, 0, 0, 0, 0, 0, 0, 0, 0, 0, 1, 0, 0, 0, 0, 1, 0]': 6,\n",
              " '[0, 0, 0, 0, 0, 0, 0, 0, 0, 0, 0, 0, 0, 0, 0, 0, 0, 1, 1, 0, 0, 0, 0, 0]': 2,\n",
              " '[0, 0, 0, 0, 0, 0, 0, 0, 0, 0, 0, 0, 0, 0, 0, 0, 1, 0, 0, 0, 0, 0, 0, 0]': 43,\n",
              " '[0, 0, 0, 0, 0, 0, 0, 0, 0, 0, 0, 0, 0, 0, 0, 0, 1, 0, 0, 0, 0, 0, 1, 0]': 93,\n",
              " '[0, 0, 0, 0, 0, 0, 0, 0, 0, 0, 0, 0, 0, 0, 0, 0, 1, 1, 0, 0, 0, 0, 0, 0]': 1,\n",
              " '[0, 0, 0, 0, 0, 0, 0, 0, 0, 0, 0, 0, 0, 0, 0, 1, 0, 0, 0, 0, 0, 0, 0, 0]': 21,\n",
              " '[0, 0, 0, 0, 0, 0, 0, 0, 0, 0, 0, 0, 0, 0, 1, 0, 0, 0, 0, 0, 0, 0, 0, 0]': 3,\n",
              " '[0, 0, 0, 0, 0, 0, 0, 0, 0, 0, 0, 0, 0, 0, 1, 0, 0, 0, 0, 0, 0, 0, 1, 0]': 4,\n",
              " '[0, 0, 0, 0, 0, 0, 0, 0, 0, 0, 0, 0, 0, 1, 0, 0, 0, 0, 0, 0, 0, 0, 0, 0]': 54,\n",
              " '[0, 0, 0, 0, 0, 0, 0, 0, 0, 0, 0, 0, 0, 1, 0, 0, 0, 0, 1, 0, 0, 0, 0, 0]': 11,\n",
              " '[0, 0, 0, 0, 0, 0, 0, 0, 0, 0, 0, 0, 0, 1, 0, 0, 0, 1, 0, 0, 0, 0, 0, 0]': 11,\n",
              " '[0, 0, 0, 0, 0, 0, 0, 0, 0, 0, 0, 0, 0, 1, 0, 0, 1, 0, 0, 0, 0, 0, 0, 0]': 1,\n",
              " '[0, 0, 0, 0, 0, 0, 0, 0, 0, 0, 0, 0, 1, 0, 0, 0, 0, 0, 0, 0, 0, 0, 0, 0]': 188,\n",
              " '[0, 0, 0, 0, 0, 0, 0, 0, 0, 0, 0, 0, 1, 0, 0, 0, 0, 0, 0, 0, 0, 0, 0, 1]': 1,\n",
              " '[0, 0, 0, 0, 0, 0, 0, 0, 0, 0, 0, 0, 1, 0, 0, 0, 0, 0, 0, 0, 1, 0, 0, 0]': 10,\n",
              " '[0, 0, 0, 0, 0, 0, 0, 0, 0, 0, 0, 0, 1, 0, 0, 0, 0, 0, 1, 0, 0, 0, 0, 0]': 48,\n",
              " '[0, 0, 0, 0, 0, 0, 0, 0, 0, 0, 0, 0, 1, 0, 0, 0, 0, 1, 0, 0, 0, 0, 0, 0]': 2,\n",
              " '[0, 0, 0, 0, 0, 0, 0, 0, 0, 0, 0, 0, 1, 0, 0, 1, 0, 0, 0, 0, 0, 0, 0, 0]': 74,\n",
              " '[0, 0, 0, 0, 0, 0, 0, 0, 0, 0, 0, 0, 1, 1, 0, 0, 0, 0, 0, 0, 0, 0, 0, 0]': 9,\n",
              " '[0, 0, 0, 0, 0, 0, 0, 0, 0, 0, 0, 1, 0, 0, 0, 0, 0, 0, 0, 0, 0, 0, 0, 0]': 181,\n",
              " '[0, 0, 0, 0, 0, 0, 0, 0, 0, 0, 0, 1, 0, 0, 0, 0, 0, 0, 0, 0, 0, 0, 0, 1]': 1,\n",
              " '[0, 0, 0, 0, 0, 0, 0, 0, 0, 0, 0, 1, 0, 0, 0, 0, 0, 0, 0, 0, 0, 1, 0, 0]': 2,\n",
              " '[0, 0, 0, 0, 0, 0, 0, 0, 0, 0, 0, 1, 0, 0, 0, 0, 0, 0, 1, 0, 0, 0, 0, 0]': 27,\n",
              " '[0, 0, 0, 0, 0, 0, 0, 0, 0, 0, 0, 1, 0, 0, 0, 0, 0, 1, 0, 0, 0, 0, 0, 0]': 17,\n",
              " '[0, 0, 0, 0, 0, 0, 0, 0, 0, 0, 0, 1, 0, 0, 0, 1, 0, 0, 0, 0, 0, 0, 0, 0]': 158,\n",
              " '[0, 0, 0, 0, 0, 0, 0, 0, 0, 0, 0, 1, 0, 1, 0, 0, 0, 0, 0, 0, 0, 0, 0, 0]': 93,\n",
              " '[0, 0, 0, 0, 0, 0, 0, 0, 0, 0, 0, 1, 0, 1, 0, 0, 0, 0, 1, 0, 0, 0, 0, 0]': 3,\n",
              " '[0, 0, 0, 0, 0, 0, 0, 0, 0, 0, 0, 1, 0, 1, 0, 0, 0, 1, 0, 0, 0, 0, 0, 0]': 8,\n",
              " '[0, 0, 0, 0, 0, 0, 0, 0, 0, 0, 0, 1, 1, 0, 0, 0, 0, 0, 0, 0, 0, 0, 0, 0]': 175,\n",
              " '[0, 0, 0, 0, 0, 0, 0, 0, 0, 0, 0, 1, 1, 0, 0, 1, 0, 0, 0, 0, 0, 0, 0, 0]': 20,\n",
              " '[0, 0, 0, 0, 0, 0, 0, 0, 0, 0, 0, 1, 1, 1, 0, 0, 0, 0, 0, 0, 0, 0, 0, 0]': 4,\n",
              " '[0, 0, 0, 0, 0, 0, 0, 0, 0, 0, 1, 0, 0, 0, 0, 0, 0, 0, 0, 0, 0, 0, 0, 0]': 7,\n",
              " '[0, 0, 0, 0, 0, 0, 0, 0, 0, 0, 1, 0, 0, 0, 0, 0, 0, 0, 1, 0, 0, 0, 0, 0]': 3,\n",
              " '[0, 0, 0, 0, 0, 0, 0, 0, 0, 0, 1, 0, 1, 0, 0, 0, 0, 0, 0, 0, 0, 0, 0, 0]': 7,\n",
              " '[0, 0, 0, 0, 0, 0, 0, 0, 0, 0, 1, 1, 0, 0, 0, 0, 0, 0, 0, 0, 0, 0, 0, 0]': 11,\n",
              " '[0, 0, 0, 0, 0, 0, 0, 0, 0, 1, 0, 0, 0, 0, 0, 0, 0, 0, 0, 0, 0, 0, 0, 0]': 14,\n",
              " '[0, 0, 0, 0, 0, 0, 0, 0, 0, 1, 0, 0, 0, 0, 0, 0, 0, 0, 0, 0, 0, 0, 1, 0]': 6,\n",
              " '[0, 0, 0, 0, 0, 0, 0, 0, 0, 1, 0, 0, 0, 0, 0, 0, 0, 0, 0, 0, 0, 1, 0, 0]': 2,\n",
              " '[0, 0, 0, 0, 0, 0, 0, 0, 0, 1, 0, 0, 0, 0, 1, 0, 0, 0, 0, 0, 0, 0, 0, 0]': 1,\n",
              " '[0, 0, 0, 0, 0, 0, 0, 0, 1, 0, 0, 0, 0, 0, 0, 0, 0, 0, 0, 0, 0, 0, 0, 0]': 87,\n",
              " '[0, 0, 0, 0, 0, 0, 0, 0, 1, 0, 0, 0, 0, 0, 0, 0, 0, 0, 0, 0, 1, 0, 0, 0]': 16,\n",
              " '[0, 0, 0, 0, 0, 0, 0, 0, 1, 0, 0, 0, 0, 0, 0, 0, 0, 1, 0, 0, 0, 0, 0, 0]': 6,\n",
              " '[0, 0, 0, 0, 0, 0, 0, 0, 1, 0, 0, 0, 0, 0, 0, 1, 0, 0, 0, 0, 0, 0, 0, 0]': 9,\n",
              " '[0, 0, 0, 0, 0, 0, 0, 0, 1, 0, 0, 0, 1, 0, 0, 0, 0, 0, 0, 0, 0, 0, 0, 0]': 53,\n",
              " '[0, 0, 0, 0, 0, 0, 0, 0, 1, 0, 0, 1, 0, 0, 0, 0, 0, 0, 0, 0, 0, 0, 0, 0]': 36,\n",
              " '[0, 0, 0, 0, 0, 0, 0, 0, 1, 0, 0, 1, 0, 0, 0, 0, 0, 0, 0, 0, 0, 0, 0, 1]': 2,\n",
              " '[0, 0, 0, 0, 0, 0, 0, 0, 1, 0, 0, 1, 1, 0, 0, 0, 0, 0, 0, 0, 0, 0, 0, 0]': 5,\n",
              " '[0, 0, 0, 0, 0, 0, 0, 1, 0, 0, 0, 0, 0, 0, 0, 0, 0, 0, 0, 0, 0, 0, 0, 0]': 11,\n",
              " '[0, 0, 0, 0, 0, 0, 0, 1, 0, 0, 0, 0, 0, 0, 0, 0, 0, 0, 0, 0, 0, 0, 1, 0]': 7,\n",
              " '[0, 0, 0, 0, 0, 0, 0, 1, 0, 0, 0, 0, 0, 0, 0, 0, 0, 0, 0, 0, 1, 0, 0, 0]': 5,\n",
              " '[0, 0, 0, 0, 0, 0, 0, 1, 0, 0, 0, 0, 0, 0, 0, 0, 0, 1, 0, 0, 0, 0, 0, 0]': 1,\n",
              " '[0, 0, 0, 0, 0, 0, 0, 1, 0, 0, 0, 0, 0, 0, 0, 0, 1, 0, 0, 0, 0, 0, 0, 0]': 4,\n",
              " '[0, 0, 0, 0, 0, 0, 0, 1, 0, 0, 0, 0, 0, 0, 1, 0, 0, 0, 0, 0, 0, 0, 0, 0]': 2,\n",
              " '[0, 0, 0, 0, 0, 0, 0, 1, 0, 0, 0, 0, 0, 1, 0, 0, 0, 0, 0, 0, 0, 0, 0, 0]': 5,\n",
              " '[0, 0, 0, 0, 0, 0, 1, 0, 0, 0, 0, 0, 0, 0, 0, 0, 0, 0, 0, 0, 0, 0, 0, 0]': 26,\n",
              " '[0, 0, 0, 0, 0, 0, 1, 0, 0, 0, 0, 0, 0, 0, 0, 0, 0, 0, 0, 0, 0, 0, 1, 0]': 94,\n",
              " '[0, 0, 0, 0, 0, 0, 1, 0, 0, 0, 0, 0, 0, 0, 0, 0, 0, 0, 0, 0, 1, 0, 0, 0]': 1,\n",
              " '[0, 0, 0, 0, 0, 0, 1, 0, 0, 0, 0, 0, 0, 0, 0, 0, 0, 1, 0, 0, 0, 0, 0, 0]': 9,\n",
              " '[0, 0, 0, 0, 0, 0, 1, 0, 0, 0, 0, 0, 0, 0, 0, 0, 1, 0, 0, 0, 0, 0, 0, 0]': 16,\n",
              " '[0, 0, 0, 0, 0, 0, 1, 0, 0, 0, 0, 0, 0, 0, 0, 0, 1, 0, 0, 0, 0, 0, 1, 0]': 1,\n",
              " '[0, 0, 0, 0, 0, 0, 1, 0, 0, 0, 0, 0, 0, 1, 0, 0, 0, 0, 0, 0, 0, 0, 0, 0]': 39,\n",
              " '[0, 0, 0, 0, 0, 0, 1, 0, 0, 0, 0, 0, 1, 0, 0, 0, 0, 0, 0, 0, 0, 0, 0, 0]': 3,\n",
              " '[0, 0, 0, 0, 0, 0, 1, 0, 0, 0, 0, 1, 0, 0, 0, 0, 0, 0, 0, 0, 0, 0, 0, 0]': 18,\n",
              " '[0, 0, 0, 0, 0, 0, 1, 0, 1, 0, 0, 0, 0, 0, 0, 0, 0, 1, 0, 0, 0, 0, 0, 0]': 5,\n",
              " '[0, 0, 0, 0, 0, 0, 1, 1, 0, 0, 0, 0, 0, 0, 0, 0, 0, 0, 0, 0, 0, 0, 0, 0]': 71,\n",
              " '[0, 0, 0, 0, 0, 0, 1, 1, 0, 0, 0, 0, 0, 0, 0, 0, 1, 0, 0, 0, 0, 0, 0, 0]': 1,\n",
              " '[0, 0, 0, 0, 0, 0, 1, 1, 0, 0, 0, 0, 0, 1, 0, 0, 0, 0, 0, 0, 0, 0, 0, 0]': 2,\n",
              " '[0, 0, 0, 0, 0, 1, 0, 0, 0, 0, 0, 0, 0, 0, 0, 0, 0, 0, 0, 0, 0, 0, 0, 0]': 97,\n",
              " '[0, 0, 0, 0, 0, 1, 0, 0, 0, 0, 0, 0, 0, 0, 0, 0, 0, 0, 0, 0, 1, 0, 0, 0]': 2,\n",
              " '[0, 0, 0, 0, 0, 1, 0, 0, 0, 0, 0, 0, 0, 0, 0, 0, 0, 0, 1, 0, 0, 0, 0, 0]': 1,\n",
              " '[0, 0, 0, 0, 0, 1, 0, 0, 0, 0, 0, 0, 0, 0, 0, 0, 0, 1, 0, 0, 0, 0, 0, 0]': 2,\n",
              " '[0, 0, 0, 0, 0, 1, 0, 0, 0, 0, 0, 0, 1, 0, 0, 0, 0, 0, 0, 0, 0, 0, 0, 0]': 13,\n",
              " '[0, 0, 0, 0, 0, 1, 0, 0, 0, 0, 0, 0, 1, 0, 0, 0, 0, 0, 0, 0, 0, 0, 1, 0]': 1,\n",
              " '[0, 0, 0, 0, 0, 1, 0, 0, 0, 0, 0, 0, 1, 0, 1, 0, 0, 0, 0, 0, 0, 0, 0, 0]': 1,\n",
              " '[0, 0, 0, 0, 0, 1, 0, 0, 0, 0, 0, 1, 0, 0, 0, 0, 0, 0, 0, 0, 0, 0, 0, 0]': 17,\n",
              " '[0, 0, 0, 0, 0, 1, 0, 1, 0, 0, 0, 0, 0, 0, 0, 0, 0, 0, 0, 0, 0, 0, 0, 0]': 1,\n",
              " '[0, 0, 0, 0, 0, 1, 0, 1, 0, 0, 0, 0, 0, 0, 0, 0, 0, 1, 0, 0, 0, 0, 0, 0]': 2,\n",
              " '[0, 0, 0, 0, 0, 1, 1, 0, 0, 0, 0, 0, 0, 0, 0, 0, 0, 0, 0, 0, 0, 0, 0, 0]': 2,\n",
              " '[0, 0, 0, 0, 1, 0, 0, 0, 0, 0, 0, 0, 0, 0, 0, 0, 0, 0, 0, 0, 0, 0, 0, 0]': 762,\n",
              " '[0, 0, 0, 0, 1, 0, 0, 0, 0, 0, 0, 0, 0, 0, 0, 0, 0, 0, 0, 0, 0, 0, 0, 1]': 57,\n",
              " '[0, 0, 0, 0, 1, 0, 0, 0, 0, 0, 0, 0, 0, 0, 0, 0, 0, 0, 0, 0, 1, 0, 0, 0]': 31,\n",
              " '[0, 0, 0, 0, 1, 0, 0, 0, 0, 0, 0, 0, 0, 0, 0, 0, 0, 0, 1, 0, 0, 0, 0, 0]': 23,\n",
              " '[0, 0, 0, 0, 1, 0, 0, 0, 0, 0, 0, 0, 0, 0, 0, 0, 0, 1, 0, 0, 0, 0, 0, 0]': 1,\n",
              " '[0, 0, 0, 0, 1, 0, 0, 0, 0, 0, 0, 0, 0, 0, 0, 0, 1, 0, 0, 0, 0, 0, 0, 0]': 1,\n",
              " '[0, 0, 0, 0, 1, 0, 0, 0, 0, 0, 0, 0, 0, 0, 0, 1, 0, 0, 0, 0, 0, 0, 0, 0]': 13,\n",
              " '[0, 0, 0, 0, 1, 0, 0, 0, 0, 0, 0, 0, 0, 1, 0, 0, 0, 0, 0, 0, 0, 0, 0, 0]': 7,\n",
              " '[0, 0, 0, 0, 1, 0, 0, 0, 0, 0, 0, 0, 1, 0, 0, 0, 0, 0, 0, 0, 0, 0, 0, 0]': 129,\n",
              " '[0, 0, 0, 0, 1, 0, 0, 0, 0, 0, 0, 0, 1, 0, 0, 0, 0, 0, 0, 0, 0, 0, 0, 1]': 1,\n",
              " '[0, 0, 0, 0, 1, 0, 0, 0, 0, 0, 0, 1, 0, 0, 0, 0, 0, 0, 0, 0, 0, 0, 0, 0]': 101,\n",
              " '[0, 0, 0, 0, 1, 0, 0, 0, 0, 0, 0, 1, 0, 0, 0, 0, 0, 0, 1, 0, 0, 0, 0, 0]': 1,\n",
              " '[0, 0, 0, 0, 1, 0, 0, 0, 0, 0, 0, 1, 1, 0, 0, 0, 0, 0, 0, 0, 0, 0, 0, 0]': 4,\n",
              " '[0, 0, 0, 0, 1, 0, 0, 0, 0, 0, 1, 0, 0, 0, 0, 0, 0, 0, 0, 0, 0, 0, 0, 0]': 10,\n",
              " '[0, 0, 0, 0, 1, 0, 0, 0, 1, 0, 0, 0, 0, 0, 0, 0, 0, 0, 0, 0, 0, 0, 0, 0]': 55,\n",
              " '[0, 0, 0, 0, 1, 0, 1, 0, 0, 0, 0, 0, 0, 0, 0, 0, 0, 0, 0, 0, 0, 0, 0, 0]': 1,\n",
              " '[0, 0, 0, 0, 1, 1, 0, 0, 0, 0, 0, 0, 0, 0, 0, 0, 0, 0, 0, 0, 0, 0, 0, 0]': 5,\n",
              " '[0, 0, 0, 1, 0, 0, 0, 0, 0, 0, 0, 0, 0, 0, 0, 0, 0, 0, 0, 0, 0, 0, 0, 0]': 275,\n",
              " '[0, 0, 0, 1, 0, 0, 0, 0, 0, 0, 0, 0, 0, 0, 0, 0, 0, 0, 0, 0, 1, 0, 0, 0]': 2,\n",
              " '[0, 0, 0, 1, 0, 0, 0, 0, 0, 0, 0, 0, 0, 0, 1, 0, 0, 0, 0, 0, 0, 0, 0, 0]': 1,\n",
              " '[0, 0, 0, 1, 0, 0, 0, 0, 0, 0, 0, 0, 0, 1, 0, 0, 0, 0, 0, 0, 0, 0, 0, 0]': 4,\n",
              " '[0, 0, 0, 1, 0, 0, 0, 0, 0, 0, 0, 0, 1, 0, 0, 0, 0, 0, 0, 0, 0, 0, 0, 0]': 19,\n",
              " '[0, 0, 0, 1, 0, 0, 0, 0, 0, 0, 0, 1, 0, 0, 0, 0, 0, 0, 0, 0, 0, 0, 0, 0]': 12,\n",
              " '[0, 0, 0, 1, 0, 0, 0, 0, 0, 0, 1, 0, 0, 0, 0, 0, 0, 0, 0, 0, 0, 0, 0, 0]': 6,\n",
              " '[0, 0, 0, 1, 0, 0, 0, 0, 1, 0, 0, 0, 0, 0, 0, 0, 0, 0, 0, 0, 0, 0, 0, 0]': 4,\n",
              " '[0, 0, 0, 1, 0, 1, 0, 0, 0, 0, 0, 0, 0, 0, 0, 0, 0, 0, 0, 0, 0, 0, 0, 0]': 8,\n",
              " '[0, 0, 0, 1, 1, 0, 0, 0, 0, 0, 0, 0, 0, 0, 0, 0, 0, 0, 0, 0, 0, 0, 0, 0]': 8,\n",
              " '[0, 0, 1, 0, 0, 0, 0, 0, 0, 0, 0, 0, 1, 0, 0, 0, 0, 0, 0, 0, 0, 0, 0, 0]': 1,\n",
              " '[0, 1, 0, 0, 0, 0, 0, 0, 0, 0, 0, 0, 0, 0, 0, 0, 0, 0, 0, 0, 0, 0, 0, 0]': 28,\n",
              " '[0, 1, 0, 0, 0, 0, 0, 0, 0, 0, 0, 0, 0, 1, 0, 0, 0, 0, 0, 0, 0, 0, 0, 0]': 1,\n",
              " '[0, 1, 0, 0, 0, 0, 0, 0, 0, 0, 0, 0, 1, 0, 0, 0, 0, 0, 0, 0, 0, 0, 0, 0]': 1,\n",
              " '[0, 1, 0, 0, 0, 0, 0, 0, 0, 0, 0, 0, 1, 0, 0, 0, 0, 0, 1, 0, 0, 0, 0, 0]': 3,\n",
              " '[0, 1, 0, 0, 0, 0, 0, 0, 0, 0, 0, 1, 0, 0, 0, 0, 0, 0, 0, 0, 0, 0, 0, 0]': 13,\n",
              " '[0, 1, 0, 0, 0, 1, 0, 0, 0, 0, 0, 0, 0, 0, 0, 0, 0, 0, 0, 0, 0, 0, 0, 0]': 16,\n",
              " '[0, 1, 0, 0, 0, 1, 0, 0, 0, 0, 0, 0, 0, 0, 1, 0, 0, 0, 0, 0, 0, 0, 0, 0]': 18,\n",
              " '[0, 1, 0, 0, 0, 1, 0, 0, 0, 0, 0, 1, 0, 0, 0, 0, 0, 0, 0, 0, 0, 0, 0, 0]': 5,\n",
              " '[0, 1, 0, 1, 0, 0, 0, 0, 0, 0, 0, 0, 0, 0, 0, 0, 0, 0, 0, 0, 0, 0, 0, 0]': 20,\n",
              " '[1, 0, 0, 0, 0, 0, 0, 0, 0, 0, 0, 0, 0, 0, 0, 0, 0, 0, 0, 0, 0, 0, 0, 0]': 40,\n",
              " '[1, 0, 0, 0, 0, 0, 0, 0, 0, 0, 0, 0, 0, 0, 0, 0, 0, 0, 0, 0, 0, 0, 1, 0]': 1,\n",
              " '[1, 0, 0, 0, 0, 0, 0, 0, 0, 0, 0, 0, 0, 0, 0, 0, 0, 0, 0, 0, 0, 1, 0, 0]': 3,\n",
              " '[1, 0, 0, 0, 0, 0, 0, 0, 0, 0, 0, 0, 0, 0, 0, 0, 0, 1, 0, 0, 0, 0, 0, 0]': 7,\n",
              " '[1, 0, 0, 0, 0, 0, 0, 0, 0, 0, 0, 0, 0, 1, 0, 0, 0, 0, 0, 0, 0, 0, 0, 0]': 2,\n",
              " '[1, 0, 0, 0, 0, 0, 0, 0, 0, 0, 0, 1, 0, 0, 0, 0, 0, 0, 0, 0, 0, 0, 0, 0]': 11,\n",
              " '[1, 0, 0, 0, 0, 0, 0, 1, 0, 0, 0, 0, 0, 0, 0, 0, 0, 0, 0, 0, 0, 0, 0, 0]': 5,\n",
              " '[1, 0, 0, 0, 0, 0, 1, 0, 0, 0, 0, 0, 0, 0, 0, 0, 0, 0, 0, 0, 0, 0, 0, 0]': 5,\n",
              " '[1, 0, 0, 0, 0, 0, 1, 1, 0, 0, 0, 0, 0, 0, 0, 0, 0, 0, 0, 0, 0, 0, 0, 0]': 1}"
            ]
          },
          "metadata": {},
          "execution_count": 13
        },
        {
          "output_type": "stream",
          "name": "stdout",
          "text": [
            "time: 17.1 ms (started: 2022-05-09 11:20:05 +00:00)\n"
          ]
        }
      ],
      "source": [
        "# Count unique label frequency.\n",
        "\n",
        "uniq_label_counts = Counter(uniq_labels_strs)\n",
        "uniq_label_counts\n",
        "sorted_uniq_label_counts = dict(sorted(uniq_label_counts.items()))\n",
        "sorted_uniq_label_counts"
      ]
    },
    {
      "cell_type": "code",
      "execution_count": 14,
      "metadata": {
        "scrolled": true,
        "colab": {
          "base_uri": "https://localhost:8080/"
        },
        "id": "0icCwrYRYfhk",
        "outputId": "fb72ae0b-580b-4360-b5fb-cf9d02d7a7b5"
      },
      "outputs": [
        {
          "output_type": "execute_result",
          "data": {
            "text/plain": [
              "3882"
            ]
          },
          "metadata": {},
          "execution_count": 14
        },
        {
          "output_type": "stream",
          "name": "stdout",
          "text": [
            "time: 5.95 ms (started: 2022-05-09 11:20:05 +00:00)\n"
          ]
        }
      ],
      "source": [
        "# Double check the total numbers.\n",
        "\n",
        "sum(sorted_uniq_label_counts.values())"
      ]
    },
    {
      "cell_type": "code",
      "execution_count": 15,
      "metadata": {
        "colab": {
          "base_uri": "https://localhost:8080/"
        },
        "id": "a1XRXS4GYfhk",
        "outputId": "a04193d0-5a49-495d-fac0-5ecf2dd72648"
      },
      "outputs": [
        {
          "output_type": "execute_result",
          "data": {
            "text/plain": [
              "[0, 0, 0, 0, 0, 0, 0, 0, 0, 0, 0, 0, 0, 0, 0, 0, 0, 0, 0, 0, 0, 1, 1, 0]"
            ]
          },
          "metadata": {},
          "execution_count": 15
        },
        {
          "output_type": "stream",
          "name": "stdout",
          "text": [
            "time: 5.41 ms (started: 2022-05-09 11:20:05 +00:00)\n"
          ]
        }
      ],
      "source": [
        "# Select one unique label.\n",
        "\n",
        "uniq_labels[3]"
      ]
    },
    {
      "cell_type": "code",
      "execution_count": 16,
      "metadata": {
        "scrolled": true,
        "id": "FitGt3bEYfhl",
        "outputId": "e09bcb10-9adf-4839-d5a6-477b91fb2cf0",
        "colab": {
          "base_uri": "https://localhost:8080/"
        }
      },
      "outputs": [
        {
          "output_type": "execute_result",
          "data": {
            "text/plain": [
              "[21, 22]"
            ]
          },
          "metadata": {},
          "execution_count": 16
        },
        {
          "output_type": "stream",
          "name": "stdout",
          "text": [
            "time: 9.12 ms (started: 2022-05-09 11:20:05 +00:00)\n"
          ]
        }
      ],
      "source": [
        "# Retrieve index where label value equals one.\n",
        "\n",
        "all_indices = [i for i,x in enumerate(uniq_labels[3]) if x == 1]\n",
        "all_indices"
      ]
    },
    {
      "cell_type": "code",
      "execution_count": 17,
      "metadata": {
        "id": "K7uOd7YyYfhl",
        "outputId": "b93a3123-3ffc-4074-cf8a-72ce807283d9",
        "colab": {
          "base_uri": "https://localhost:8080/"
        }
      },
      "outputs": [
        {
          "output_type": "execute_result",
          "data": {
            "text/plain": [
              "['peaceful', 'happy']"
            ]
          },
          "metadata": {},
          "execution_count": 17
        },
        {
          "output_type": "stream",
          "name": "stdout",
          "text": [
            "time: 11 ms (started: 2022-05-09 11:20:05 +00:00)\n"
          ]
        }
      ],
      "source": [
        "# Retrieve emotion words using indices.\n",
        "\n",
        "emotions = [LABELS[i] for i in all_indices]\n",
        "emotions"
      ]
    },
    {
      "cell_type": "markdown",
      "metadata": {
        "id": "s8ThklffYfhl"
      },
      "source": [
        "### Count total number of labels with 1, 2, 3, and 4 emotions."
      ]
    },
    {
      "cell_type": "code",
      "execution_count": 18,
      "metadata": {
        "id": "57RiybC_Yfhm",
        "outputId": "a4347d80-7090-4ff6-fddd-500bc60878b0",
        "colab": {
          "base_uri": "https://localhost:8080/"
        }
      },
      "outputs": [
        {
          "output_type": "stream",
          "name": "stdout",
          "text": [
            "131\n"
          ]
        },
        {
          "output_type": "execute_result",
          "data": {
            "text/plain": [
              "[[762, 'angry'],\n",
              " [275, 'surprised'],\n",
              " [188, 'upset'],\n",
              " [181, 'sad'],\n",
              " [175, 'sad', 'upset'],\n",
              " [158, 'sad', 'depressed'],\n",
              " [129, 'angry', 'upset'],\n",
              " [101, 'angry', 'sad'],\n",
              " [97, 'anxious'],\n",
              " [94, 'smitten', 'happy'],\n",
              " [93, 'sad', 'sympathetic'],\n",
              " [93, 'amused', 'happy'],\n",
              " [87, 'disappointed'],\n",
              " [74, 'upset', 'depressed'],\n",
              " [71, 'smitten', 'fluttered'],\n",
              " [57, 'angry', 'disgusted'],\n",
              " [55, 'angry', 'disappointed'],\n",
              " [54, 'sympathetic'],\n",
              " [53, 'disappointed', 'upset'],\n",
              " [48, 'upset', 'guilty'],\n",
              " [43, 'amused'],\n",
              " [40, 'moved'],\n",
              " [39, 'smitten', 'sympathetic'],\n",
              " [38, 'guilty'],\n",
              " [38, 'affectionate'],\n",
              " [36, 'disappointed', 'sad'],\n",
              " [31, 'angry', 'jealous'],\n",
              " [28, 'fearful'],\n",
              " [27, 'sad', 'guilty'],\n",
              " [26, 'smitten'],\n",
              " [25, 'peaceful', 'happy'],\n",
              " [23, 'happy'],\n",
              " [23, 'angry', 'guilty'],\n",
              " [21, 'depressed'],\n",
              " [20, 'sad', 'upset', 'depressed'],\n",
              " [20, 'fearful', 'surprised'],\n",
              " [19, 'surprised', 'upset'],\n",
              " [18, 'smitten', 'sad'],\n",
              " [18, 'fearful', 'anxious', 'passionate'],\n",
              " [17, 'sad', 'affectionate'],\n",
              " [17, 'jealous'],\n",
              " [17, 'anxious', 'sad'],\n",
              " [16, 'smitten', 'amused'],\n",
              " [16, 'fearful', 'anxious'],\n",
              " [16, 'disappointed', 'jealous'],\n",
              " [15, 'peaceful'],\n",
              " [14, 'fulfilled'],\n",
              " [13, 'fearful', 'sad'],\n",
              " [13, 'anxious', 'upset'],\n",
              " [13, 'angry', 'depressed'],\n",
              " [12, 'surprised', 'sad'],\n",
              " [11, 'sympathetic', 'guilty'],\n",
              " [11, 'sympathetic', 'affectionate'],\n",
              " [11, 'moved', 'sad'],\n",
              " [11, 'fluttered'],\n",
              " [11, 'ashamed', 'sad'],\n",
              " [10, 'upset', 'jealous'],\n",
              " [10, 'angry', 'ashamed'],\n",
              " [9, 'upset', 'sympathetic'],\n",
              " [9, 'smitten', 'affectionate'],\n",
              " [9, 'disappointed', 'depressed'],\n",
              " [8, 'surprised', 'anxious'],\n",
              " [8, 'surprised', 'angry'],\n",
              " [8, 'sad', 'sympathetic', 'affectionate'],\n",
              " [8, 'disgusted'],\n",
              " [7, 'moved', 'affectionate'],\n",
              " [7, 'fluttered', 'happy'],\n",
              " [7, 'ashamed', 'upset'],\n",
              " [7, 'ashamed'],\n",
              " [7, 'angry', 'sympathetic'],\n",
              " [6, 'surprised', 'ashamed'],\n",
              " [6, 'fulfilled', 'happy'],\n",
              " [6, 'disappointed', 'affectionate'],\n",
              " [6, 'affectionate', 'happy'],\n",
              " [5, 'smitten', 'disappointed', 'affectionate'],\n",
              " [5, 'moved', 'smitten'],\n",
              " [5, 'moved', 'fluttered'],\n",
              " [5, 'fluttered', 'sympathetic'],\n",
              " [5, 'fluttered', 'jealous'],\n",
              " [5, 'fearful', 'anxious', 'sad'],\n",
              " [5, 'disappointed', 'sad', 'upset'],\n",
              " [5, 'angry', 'anxious'],\n",
              " [4, 'surprised', 'sympathetic'],\n",
              " [4, 'surprised', 'disappointed'],\n",
              " [4, 'sad', 'upset', 'sympathetic'],\n",
              " [4, 'passionate', 'happy'],\n",
              " [4, 'fluttered', 'amused'],\n",
              " [4, 'angry', 'sad', 'upset'],\n",
              " [3, 'smitten', 'upset'],\n",
              " [3, 'sad', 'sympathetic', 'guilty'],\n",
              " [3, 'passionate'],\n",
              " [3, 'moved', 'peaceful'],\n",
              " [3, 'fearful', 'upset', 'guilty'],\n",
              " [3, 'ashamed', 'guilty'],\n",
              " [2, 'upset', 'affectionate'],\n",
              " [2, 'surprised', 'jealous'],\n",
              " [2, 'smitten', 'fluttered', 'sympathetic'],\n",
              " [2, 'sad', 'peaceful'],\n",
              " [2, 'moved', 'sympathetic'],\n",
              " [2, 'fulfilled', 'peaceful'],\n",
              " [2, 'fluttered', 'passionate'],\n",
              " [2, 'disappointed', 'sad', 'disgusted'],\n",
              " [2, 'anxious', 'smitten'],\n",
              " [2, 'anxious', 'jealous'],\n",
              " [2, 'anxious', 'fluttered', 'affectionate'],\n",
              " [2, 'anxious', 'affectionate'],\n",
              " [2, 'affectionate', 'guilty'],\n",
              " [1, 'upset', 'disgusted'],\n",
              " [1, 'sympathetic', 'amused'],\n",
              " [1, 'surprised', 'passionate'],\n",
              " [1, 'smitten', 'jealous'],\n",
              " [1, 'smitten', 'fluttered', 'amused'],\n",
              " [1, 'smitten', 'amused', 'happy'],\n",
              " [1, 'sad', 'disgusted'],\n",
              " [1, 'moved', 'smitten', 'fluttered'],\n",
              " [1, 'moved', 'happy'],\n",
              " [1, 'fulfilled', 'passionate'],\n",
              " [1, 'fluttered', 'affectionate'],\n",
              " [1, 'fearful', 'upset'],\n",
              " [1, 'fearful', 'sympathetic'],\n",
              " [1, 'bored', 'upset'],\n",
              " [1, 'anxious', 'upset', 'passionate'],\n",
              " [1, 'anxious', 'upset', 'happy'],\n",
              " [1, 'anxious', 'guilty'],\n",
              " [1, 'anxious', 'fluttered'],\n",
              " [1, 'angry', 'upset', 'disgusted'],\n",
              " [1, 'angry', 'smitten'],\n",
              " [1, 'angry', 'sad', 'guilty'],\n",
              " [1, 'angry', 'amused'],\n",
              " [1, 'angry', 'affectionate'],\n",
              " [1, 'amused', 'affectionate']]"
            ]
          },
          "metadata": {},
          "execution_count": 18
        },
        {
          "output_type": "stream",
          "name": "stdout",
          "text": [
            "time: 50 ms (started: 2022-05-09 11:20:05 +00:00)\n"
          ]
        }
      ],
      "source": [
        "count_n_labels = []\n",
        "count_1_emotion = []\n",
        "count_1_emotion_sum = 0\n",
        "count_2_emotion = []\n",
        "count_2_emotion_sum = 0\n",
        "count_3_emotion = []\n",
        "count_3_emotion_sum = 0\n",
        "count_4_emotion = []\n",
        "count_4_emotion_sum = 0\n",
        "count_multi_emotion = []\n",
        "count_multi_emotion_sum = 0\n",
        "for k, v in sorted_uniq_label_counts.items():\n",
        "    str_list = k[1:-1].split(', ')\n",
        "    label_list = [int(i) for i in str_list]\n",
        "    all_indices = [i for i,x in enumerate(label_list) if x == 1]\n",
        "    emotions = [LABELS[i] for i in all_indices]\n",
        "    count_n_labels.append([v] + emotions)\n",
        "    \n",
        "    if len(emotions) == 1:\n",
        "        count_1_emotion.append([v] + emotions)\n",
        "        count_1_emotion_sum += v\n",
        "    \n",
        "    if len(emotions) == 2:\n",
        "        count_2_emotion.append([v] + emotions)\n",
        "        count_2_emotion_sum += v\n",
        "\n",
        "    if len(emotions) == 3:\n",
        "        count_3_emotion.append([v] + emotions)\n",
        "        count_3_emotion_sum += v\n",
        "\n",
        "    if len(emotions) == 4:\n",
        "        count_4_emotion.append([v] + emotions)\n",
        "        count_4_emotion_sum += v\n",
        "        \n",
        "    if len(emotions) > 1:\n",
        "        count_multi_emotion.append([v] + emotions)\n",
        "        count_multi_emotion_sum += v    \n",
        "        \n",
        "count_n_labels.sort(reverse=True)\n",
        "print(len(count_n_labels))\n",
        "count_n_labels"
      ]
    },
    {
      "cell_type": "markdown",
      "metadata": {
        "id": "503El8zPYfhm"
      },
      "source": [
        "<b>1. Number of labels with one emotion only.</b>"
      ]
    },
    {
      "cell_type": "code",
      "execution_count": 19,
      "metadata": {
        "id": "-4FTJ7BiYfhm",
        "outputId": "a9121d6b-d54c-479b-cb0b-09d8ed115444",
        "colab": {
          "base_uri": "https://localhost:8080/"
        }
      },
      "outputs": [
        {
          "output_type": "stream",
          "name": "stdout",
          "text": [
            "--- 1 label total: 1976\n",
            "--- 1 label uniq: 22\n"
          ]
        },
        {
          "output_type": "execute_result",
          "data": {
            "text/plain": [
              "[[762, 'angry'],\n",
              " [275, 'surprised'],\n",
              " [188, 'upset'],\n",
              " [181, 'sad'],\n",
              " [97, 'anxious'],\n",
              " [87, 'disappointed'],\n",
              " [54, 'sympathetic'],\n",
              " [43, 'amused'],\n",
              " [40, 'moved'],\n",
              " [38, 'guilty'],\n",
              " [38, 'affectionate'],\n",
              " [28, 'fearful'],\n",
              " [26, 'smitten'],\n",
              " [23, 'happy'],\n",
              " [21, 'depressed'],\n",
              " [17, 'jealous'],\n",
              " [15, 'peaceful'],\n",
              " [14, 'fulfilled'],\n",
              " [11, 'fluttered'],\n",
              " [8, 'disgusted'],\n",
              " [7, 'ashamed'],\n",
              " [3, 'passionate']]"
            ]
          },
          "metadata": {},
          "execution_count": 19
        },
        {
          "output_type": "stream",
          "name": "stdout",
          "text": [
            "time: 8.56 ms (started: 2022-05-09 11:20:05 +00:00)\n"
          ]
        }
      ],
      "source": [
        "count_1_emotion.sort(reverse=True)\n",
        "print(\"--- 1 label total:\", count_1_emotion_sum)\n",
        "print(\"--- 1 label uniq:\", len(count_1_emotion))\n",
        "count_1_emotion"
      ]
    },
    {
      "cell_type": "markdown",
      "metadata": {
        "id": "84_akeRiYfhm"
      },
      "source": [
        "<b>2. Number of labels with two emotions.</b>"
      ]
    },
    {
      "cell_type": "code",
      "execution_count": 20,
      "metadata": {
        "id": "B9PWzRZtYfhn",
        "outputId": "a2813f02-b5de-4aad-e016-933a9519ca3e",
        "colab": {
          "base_uri": "https://localhost:8080/"
        }
      },
      "outputs": [
        {
          "output_type": "stream",
          "name": "stdout",
          "text": [
            "--- 2 labels total: 1818\n",
            "--- 2 labels uniq: 89\n"
          ]
        },
        {
          "output_type": "execute_result",
          "data": {
            "text/plain": [
              "[[175, 'sad', 'upset'],\n",
              " [158, 'sad', 'depressed'],\n",
              " [129, 'angry', 'upset'],\n",
              " [101, 'angry', 'sad'],\n",
              " [94, 'smitten', 'happy'],\n",
              " [93, 'sad', 'sympathetic'],\n",
              " [93, 'amused', 'happy'],\n",
              " [74, 'upset', 'depressed'],\n",
              " [71, 'smitten', 'fluttered'],\n",
              " [57, 'angry', 'disgusted'],\n",
              " [55, 'angry', 'disappointed'],\n",
              " [53, 'disappointed', 'upset'],\n",
              " [48, 'upset', 'guilty'],\n",
              " [39, 'smitten', 'sympathetic'],\n",
              " [36, 'disappointed', 'sad'],\n",
              " [31, 'angry', 'jealous'],\n",
              " [27, 'sad', 'guilty'],\n",
              " [25, 'peaceful', 'happy'],\n",
              " [23, 'angry', 'guilty'],\n",
              " [20, 'fearful', 'surprised'],\n",
              " [19, 'surprised', 'upset'],\n",
              " [18, 'smitten', 'sad'],\n",
              " [17, 'sad', 'affectionate'],\n",
              " [17, 'anxious', 'sad'],\n",
              " [16, 'smitten', 'amused'],\n",
              " [16, 'fearful', 'anxious'],\n",
              " [16, 'disappointed', 'jealous'],\n",
              " [13, 'fearful', 'sad'],\n",
              " [13, 'anxious', 'upset'],\n",
              " [13, 'angry', 'depressed'],\n",
              " [12, 'surprised', 'sad'],\n",
              " [11, 'sympathetic', 'guilty'],\n",
              " [11, 'sympathetic', 'affectionate'],\n",
              " [11, 'moved', 'sad'],\n",
              " [11, 'ashamed', 'sad'],\n",
              " [10, 'upset', 'jealous'],\n",
              " [10, 'angry', 'ashamed'],\n",
              " [9, 'upset', 'sympathetic'],\n",
              " [9, 'smitten', 'affectionate'],\n",
              " [9, 'disappointed', 'depressed'],\n",
              " [8, 'surprised', 'anxious'],\n",
              " [8, 'surprised', 'angry'],\n",
              " [7, 'moved', 'affectionate'],\n",
              " [7, 'fluttered', 'happy'],\n",
              " [7, 'ashamed', 'upset'],\n",
              " [7, 'angry', 'sympathetic'],\n",
              " [6, 'surprised', 'ashamed'],\n",
              " [6, 'fulfilled', 'happy'],\n",
              " [6, 'disappointed', 'affectionate'],\n",
              " [6, 'affectionate', 'happy'],\n",
              " [5, 'moved', 'smitten'],\n",
              " [5, 'moved', 'fluttered'],\n",
              " [5, 'fluttered', 'sympathetic'],\n",
              " [5, 'fluttered', 'jealous'],\n",
              " [5, 'angry', 'anxious'],\n",
              " [4, 'surprised', 'sympathetic'],\n",
              " [4, 'surprised', 'disappointed'],\n",
              " [4, 'passionate', 'happy'],\n",
              " [4, 'fluttered', 'amused'],\n",
              " [3, 'smitten', 'upset'],\n",
              " [3, 'moved', 'peaceful'],\n",
              " [3, 'ashamed', 'guilty'],\n",
              " [2, 'upset', 'affectionate'],\n",
              " [2, 'surprised', 'jealous'],\n",
              " [2, 'sad', 'peaceful'],\n",
              " [2, 'moved', 'sympathetic'],\n",
              " [2, 'fulfilled', 'peaceful'],\n",
              " [2, 'fluttered', 'passionate'],\n",
              " [2, 'anxious', 'smitten'],\n",
              " [2, 'anxious', 'jealous'],\n",
              " [2, 'anxious', 'affectionate'],\n",
              " [2, 'affectionate', 'guilty'],\n",
              " [1, 'upset', 'disgusted'],\n",
              " [1, 'sympathetic', 'amused'],\n",
              " [1, 'surprised', 'passionate'],\n",
              " [1, 'smitten', 'jealous'],\n",
              " [1, 'sad', 'disgusted'],\n",
              " [1, 'moved', 'happy'],\n",
              " [1, 'fulfilled', 'passionate'],\n",
              " [1, 'fluttered', 'affectionate'],\n",
              " [1, 'fearful', 'upset'],\n",
              " [1, 'fearful', 'sympathetic'],\n",
              " [1, 'bored', 'upset'],\n",
              " [1, 'anxious', 'guilty'],\n",
              " [1, 'anxious', 'fluttered'],\n",
              " [1, 'angry', 'smitten'],\n",
              " [1, 'angry', 'amused'],\n",
              " [1, 'angry', 'affectionate'],\n",
              " [1, 'amused', 'affectionate']]"
            ]
          },
          "metadata": {},
          "execution_count": 20
        },
        {
          "output_type": "stream",
          "name": "stdout",
          "text": [
            "time: 21.6 ms (started: 2022-05-09 11:20:05 +00:00)\n"
          ]
        }
      ],
      "source": [
        "count_2_emotion.sort(reverse=True)\n",
        "print(\"--- 2 labels total:\", count_2_emotion_sum)\n",
        "print(\"--- 2 labels uniq:\", len(count_2_emotion))\n",
        "count_2_emotion"
      ]
    },
    {
      "cell_type": "markdown",
      "metadata": {
        "id": "aZJe3qSfYfhn"
      },
      "source": [
        "<b>3. Number of labels with three emotions.</b>"
      ]
    },
    {
      "cell_type": "code",
      "execution_count": 21,
      "metadata": {
        "id": "naiBe87wYfhn",
        "outputId": "45c9a1e0-50e4-406b-d3da-c0199388dc32",
        "colab": {
          "base_uri": "https://localhost:8080/"
        }
      },
      "outputs": [
        {
          "output_type": "stream",
          "name": "stdout",
          "text": [
            "--- 3 labels total: 88\n",
            "--- 3 labels uniq: 20\n"
          ]
        },
        {
          "output_type": "execute_result",
          "data": {
            "text/plain": [
              "[[20, 'sad', 'upset', 'depressed'],\n",
              " [18, 'fearful', 'anxious', 'passionate'],\n",
              " [8, 'sad', 'sympathetic', 'affectionate'],\n",
              " [5, 'smitten', 'disappointed', 'affectionate'],\n",
              " [5, 'fearful', 'anxious', 'sad'],\n",
              " [5, 'disappointed', 'sad', 'upset'],\n",
              " [4, 'sad', 'upset', 'sympathetic'],\n",
              " [4, 'angry', 'sad', 'upset'],\n",
              " [3, 'sad', 'sympathetic', 'guilty'],\n",
              " [3, 'fearful', 'upset', 'guilty'],\n",
              " [2, 'smitten', 'fluttered', 'sympathetic'],\n",
              " [2, 'disappointed', 'sad', 'disgusted'],\n",
              " [2, 'anxious', 'fluttered', 'affectionate'],\n",
              " [1, 'smitten', 'fluttered', 'amused'],\n",
              " [1, 'smitten', 'amused', 'happy'],\n",
              " [1, 'moved', 'smitten', 'fluttered'],\n",
              " [1, 'anxious', 'upset', 'passionate'],\n",
              " [1, 'anxious', 'upset', 'happy'],\n",
              " [1, 'angry', 'upset', 'disgusted'],\n",
              " [1, 'angry', 'sad', 'guilty']]"
            ]
          },
          "metadata": {},
          "execution_count": 21
        },
        {
          "output_type": "stream",
          "name": "stdout",
          "text": [
            "time: 12.6 ms (started: 2022-05-09 11:20:05 +00:00)\n"
          ]
        }
      ],
      "source": [
        "count_3_emotion.sort(reverse=True)\n",
        "print(\"--- 3 labels total:\", count_3_emotion_sum)\n",
        "print(\"--- 3 labels uniq:\", len(count_3_emotion))\n",
        "count_3_emotion"
      ]
    },
    {
      "cell_type": "markdown",
      "metadata": {
        "id": "OpiMEF4WYfhn"
      },
      "source": [
        "<b>4. Number of labels with four emotions.</b>"
      ]
    },
    {
      "cell_type": "code",
      "execution_count": 22,
      "metadata": {
        "id": "5J0MEeFZYfhn",
        "outputId": "e6c9f9be-2531-4e23-e1fe-ead417f81196",
        "colab": {
          "base_uri": "https://localhost:8080/"
        }
      },
      "outputs": [
        {
          "output_type": "stream",
          "name": "stdout",
          "text": [
            "--- 4 labels total: 0\n",
            "--- 4 labels uniq: 0\n"
          ]
        },
        {
          "output_type": "execute_result",
          "data": {
            "text/plain": [
              "[]"
            ]
          },
          "metadata": {},
          "execution_count": 22
        },
        {
          "output_type": "stream",
          "name": "stdout",
          "text": [
            "time: 9.78 ms (started: 2022-05-09 11:20:05 +00:00)\n"
          ]
        }
      ],
      "source": [
        "count_4_emotion.sort(reverse=True)\n",
        "print(\"--- 4 labels total:\", count_4_emotion_sum)\n",
        "print(\"--- 4 labels uniq:\", len(count_4_emotion))\n",
        "count_4_emotion"
      ]
    },
    {
      "cell_type": "code",
      "execution_count": 23,
      "metadata": {
        "id": "32hGXIV1Yfho",
        "outputId": "908ff719-b0a1-48b9-9d9b-f5bc9c1da387",
        "colab": {
          "base_uri": "https://localhost:8080/"
        }
      },
      "outputs": [
        {
          "output_type": "stream",
          "name": "stdout",
          "text": [
            "--- Multi-label total: 1906\n",
            "--- Multi-label uniq: 109\n"
          ]
        },
        {
          "output_type": "execute_result",
          "data": {
            "text/plain": [
              "[[175, 'sad', 'upset'],\n",
              " [158, 'sad', 'depressed'],\n",
              " [129, 'angry', 'upset'],\n",
              " [101, 'angry', 'sad'],\n",
              " [94, 'smitten', 'happy'],\n",
              " [93, 'sad', 'sympathetic'],\n",
              " [93, 'amused', 'happy'],\n",
              " [74, 'upset', 'depressed'],\n",
              " [71, 'smitten', 'fluttered'],\n",
              " [57, 'angry', 'disgusted'],\n",
              " [55, 'angry', 'disappointed'],\n",
              " [53, 'disappointed', 'upset'],\n",
              " [48, 'upset', 'guilty'],\n",
              " [39, 'smitten', 'sympathetic'],\n",
              " [36, 'disappointed', 'sad'],\n",
              " [31, 'angry', 'jealous'],\n",
              " [27, 'sad', 'guilty'],\n",
              " [25, 'peaceful', 'happy'],\n",
              " [23, 'angry', 'guilty'],\n",
              " [20, 'sad', 'upset', 'depressed'],\n",
              " [20, 'fearful', 'surprised'],\n",
              " [19, 'surprised', 'upset'],\n",
              " [18, 'smitten', 'sad'],\n",
              " [18, 'fearful', 'anxious', 'passionate'],\n",
              " [17, 'sad', 'affectionate'],\n",
              " [17, 'anxious', 'sad'],\n",
              " [16, 'smitten', 'amused'],\n",
              " [16, 'fearful', 'anxious'],\n",
              " [16, 'disappointed', 'jealous'],\n",
              " [13, 'fearful', 'sad'],\n",
              " [13, 'anxious', 'upset'],\n",
              " [13, 'angry', 'depressed'],\n",
              " [12, 'surprised', 'sad'],\n",
              " [11, 'sympathetic', 'guilty'],\n",
              " [11, 'sympathetic', 'affectionate'],\n",
              " [11, 'moved', 'sad'],\n",
              " [11, 'ashamed', 'sad'],\n",
              " [10, 'upset', 'jealous'],\n",
              " [10, 'angry', 'ashamed'],\n",
              " [9, 'upset', 'sympathetic'],\n",
              " [9, 'smitten', 'affectionate'],\n",
              " [9, 'disappointed', 'depressed'],\n",
              " [8, 'surprised', 'anxious'],\n",
              " [8, 'surprised', 'angry'],\n",
              " [8, 'sad', 'sympathetic', 'affectionate'],\n",
              " [7, 'moved', 'affectionate'],\n",
              " [7, 'fluttered', 'happy'],\n",
              " [7, 'ashamed', 'upset'],\n",
              " [7, 'angry', 'sympathetic'],\n",
              " [6, 'surprised', 'ashamed'],\n",
              " [6, 'fulfilled', 'happy'],\n",
              " [6, 'disappointed', 'affectionate'],\n",
              " [6, 'affectionate', 'happy'],\n",
              " [5, 'smitten', 'disappointed', 'affectionate'],\n",
              " [5, 'moved', 'smitten'],\n",
              " [5, 'moved', 'fluttered'],\n",
              " [5, 'fluttered', 'sympathetic'],\n",
              " [5, 'fluttered', 'jealous'],\n",
              " [5, 'fearful', 'anxious', 'sad'],\n",
              " [5, 'disappointed', 'sad', 'upset'],\n",
              " [5, 'angry', 'anxious'],\n",
              " [4, 'surprised', 'sympathetic'],\n",
              " [4, 'surprised', 'disappointed'],\n",
              " [4, 'sad', 'upset', 'sympathetic'],\n",
              " [4, 'passionate', 'happy'],\n",
              " [4, 'fluttered', 'amused'],\n",
              " [4, 'angry', 'sad', 'upset'],\n",
              " [3, 'smitten', 'upset'],\n",
              " [3, 'sad', 'sympathetic', 'guilty'],\n",
              " [3, 'moved', 'peaceful'],\n",
              " [3, 'fearful', 'upset', 'guilty'],\n",
              " [3, 'ashamed', 'guilty'],\n",
              " [2, 'upset', 'affectionate'],\n",
              " [2, 'surprised', 'jealous'],\n",
              " [2, 'smitten', 'fluttered', 'sympathetic'],\n",
              " [2, 'sad', 'peaceful'],\n",
              " [2, 'moved', 'sympathetic'],\n",
              " [2, 'fulfilled', 'peaceful'],\n",
              " [2, 'fluttered', 'passionate'],\n",
              " [2, 'disappointed', 'sad', 'disgusted'],\n",
              " [2, 'anxious', 'smitten'],\n",
              " [2, 'anxious', 'jealous'],\n",
              " [2, 'anxious', 'fluttered', 'affectionate'],\n",
              " [2, 'anxious', 'affectionate'],\n",
              " [2, 'affectionate', 'guilty'],\n",
              " [1, 'upset', 'disgusted'],\n",
              " [1, 'sympathetic', 'amused'],\n",
              " [1, 'surprised', 'passionate'],\n",
              " [1, 'smitten', 'jealous'],\n",
              " [1, 'smitten', 'fluttered', 'amused'],\n",
              " [1, 'smitten', 'amused', 'happy'],\n",
              " [1, 'sad', 'disgusted'],\n",
              " [1, 'moved', 'smitten', 'fluttered'],\n",
              " [1, 'moved', 'happy'],\n",
              " [1, 'fulfilled', 'passionate'],\n",
              " [1, 'fluttered', 'affectionate'],\n",
              " [1, 'fearful', 'upset'],\n",
              " [1, 'fearful', 'sympathetic'],\n",
              " [1, 'bored', 'upset'],\n",
              " [1, 'anxious', 'upset', 'passionate'],\n",
              " [1, 'anxious', 'upset', 'happy'],\n",
              " [1, 'anxious', 'guilty'],\n",
              " [1, 'anxious', 'fluttered'],\n",
              " [1, 'angry', 'upset', 'disgusted'],\n",
              " [1, 'angry', 'smitten'],\n",
              " [1, 'angry', 'sad', 'guilty'],\n",
              " [1, 'angry', 'amused'],\n",
              " [1, 'angry', 'affectionate'],\n",
              " [1, 'amused', 'affectionate']]"
            ]
          },
          "metadata": {},
          "execution_count": 23
        },
        {
          "output_type": "stream",
          "name": "stdout",
          "text": [
            "time: 25.8 ms (started: 2022-05-09 11:20:05 +00:00)\n"
          ]
        }
      ],
      "source": [
        "count_multi_emotion.sort(reverse=True)\n",
        "print(\"--- Multi-label total:\", count_multi_emotion_sum)\n",
        "print(\"--- Multi-label uniq:\", len(count_multi_emotion))\n",
        "count_multi_emotion"
      ]
    },
    {
      "cell_type": "code",
      "execution_count": 24,
      "metadata": {
        "id": "R-B0s6KLYfho",
        "outputId": "b6686503-7b4d-4e8c-8add-ea3b17850c22",
        "colab": {
          "base_uri": "https://localhost:8080/"
        }
      },
      "outputs": [
        {
          "output_type": "execute_result",
          "data": {
            "text/plain": [
              "3882"
            ]
          },
          "metadata": {},
          "execution_count": 24
        },
        {
          "output_type": "stream",
          "name": "stdout",
          "text": [
            "time: 5.26 ms (started: 2022-05-09 11:20:05 +00:00)\n"
          ]
        }
      ],
      "source": [
        "# Double check total count.\n",
        "\n",
        "total_count = count_1_emotion_sum + count_2_emotion_sum + count_3_emotion_sum + count_4_emotion_sum\n",
        "total_count"
      ]
    },
    {
      "cell_type": "code",
      "execution_count": 25,
      "metadata": {
        "id": "WlSyqhrVYfho",
        "outputId": "ba688223-ad9c-4ebd-cb42-f1184fe590a6",
        "colab": {
          "base_uri": "https://localhost:8080/"
        }
      },
      "outputs": [
        {
          "output_type": "execute_result",
          "data": {
            "text/plain": [
              "131"
            ]
          },
          "metadata": {},
          "execution_count": 25
        },
        {
          "output_type": "stream",
          "name": "stdout",
          "text": [
            "time: 5.66 ms (started: 2022-05-09 11:20:05 +00:00)\n"
          ]
        }
      ],
      "source": [
        "# Double check unique emotion labels.\n",
        "\n",
        "total_uniq_emotion = len(count_1_emotion) + len(count_2_emotion) + len(count_3_emotion) + len(count_4_emotion)\n",
        "total_uniq_emotion"
      ]
    },
    {
      "cell_type": "code",
      "execution_count": 25,
      "metadata": {
        "id": "t-MFkYJ0Yfho"
      },
      "outputs": [],
      "source": [
        ""
      ]
    }
  ],
  "metadata": {
    "kernelspec": {
      "display_name": "Python 3",
      "language": "python",
      "name": "python3"
    },
    "language_info": {
      "codemirror_mode": {
        "name": "ipython",
        "version": 3
      },
      "file_extension": ".py",
      "mimetype": "text/x-python",
      "name": "python",
      "nbconvert_exporter": "python",
      "pygments_lexer": "ipython3",
      "version": "3.6.9"
    },
    "colab": {
      "name": "show_images_analyze_labels.ipynb",
      "provenance": [],
      "collapsed_sections": []
    }
  },
  "nbformat": 4,
  "nbformat_minor": 0
}