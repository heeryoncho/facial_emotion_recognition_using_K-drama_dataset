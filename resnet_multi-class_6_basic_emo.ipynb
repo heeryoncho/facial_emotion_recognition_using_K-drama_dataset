{
 "cells": [
  {
   "cell_type": "markdown",
   "metadata": {},
   "source": [
    "This notebook contains the code used in the BigComp 2022 paper: <br>\n",
    "<b>Heeryon Cho, Woo-Kyu Kang, Younsoo Park, Sungeu Chae, and Seong-joon Kim, \"Multi-label Facial Emotion Recognition Using Korean Drama Movie Clips,\" BigComp 2022.</b>\n",
    "### ResNet50 /  Classify 6 Basic Emotions"
   ]
  },
  {
   "cell_type": "code",
   "execution_count": 1,
   "metadata": {
    "id": "cWXrCR9kFphX"
   },
   "outputs": [],
   "source": [
    "import tensorflow as tf\n",
    "from tensorflow import keras\n",
    "import matplotlib.pyplot as plt\n",
    "import numpy as np\n",
    "import pandas as pd\n",
    "import random as rn\n",
    "import os"
   ]
  },
  {
   "cell_type": "code",
   "execution_count": 2,
   "metadata": {},
   "outputs": [],
   "source": [
    "import warnings\n",
    "import logging\n",
    "logging.getLogger('tensorflow').disabled = True\n",
    "warnings.filterwarnings(\"ignore\")\n",
    "os.environ['TF_CPP_MIN_LOG_LEVEL'] = '3'"
   ]
  },
  {
   "cell_type": "code",
   "execution_count": 3,
   "metadata": {
    "colab": {
     "base_uri": "https://localhost:8080/"
    },
    "id": "gOqGiFjx7BVs",
    "outputId": "6e17c1f0-3979-4753-df9a-90cd6b5c4202"
   },
   "outputs": [
    {
     "name": "stdout",
     "output_type": "stream",
     "text": [
      "time: 511 µs (started: 2021-12-07 06:54:22 +00:00)\n"
     ]
    }
   ],
   "source": [
    "# Record cell run time.\n",
    "#!pip install ipython-autotime\n",
    "\n",
    "%load_ext autotime"
   ]
  },
  {
   "cell_type": "code",
   "execution_count": 4,
   "metadata": {
    "scrolled": false
   },
   "outputs": [
    {
     "name": "stdout",
     "output_type": "stream",
     "text": [
      "time: 1.8 ms (started: 2021-12-07 06:54:22 +00:00)\n"
     ]
    }
   ],
   "source": [
    "# Set seed for reproducibility.\n",
    "\n",
    "set_seed = 46\n",
    "np.random.seed(set_seed)\n",
    "rn.seed(set_seed)\n",
    "tf.random.set_seed(set_seed)"
   ]
  },
  {
   "cell_type": "markdown",
   "metadata": {},
   "source": [
    "### Load label data."
   ]
  },
  {
   "cell_type": "code",
   "execution_count": 5,
   "metadata": {
    "colab": {
     "base_uri": "https://localhost:8080/"
    },
    "id": "uyVuGmJLCOqD",
    "outputId": "6e27494c-1af6-4886-a887-f82392b6fddf"
   },
   "outputs": [
    {
     "name": "stdout",
     "output_type": "stream",
     "text": [
      "Index(['img_id', 'clip_id', 'angry', 'disgusted', 'surprised', 'fearful',\n",
      "       'happy', 'sad'],\n",
      "      dtype='object')\n",
      "(12813, 8)\n",
      "LABELS= ['angry', 'disgusted', 'surprised', 'fearful', 'happy', 'sad']\n",
      "All class: 6\n",
      "TRAIN_DATA_SIZE: 10249\n",
      "VALID_DATA_SIZE: 1282\n",
      "TEST_DATA_SIZE: 1282\n",
      "time: 48.7 ms (started: 2021-12-07 06:54:22 +00:00)\n"
     ]
    }
   ],
   "source": [
    "# Load labels, check headers, check data shape.\n",
    "\n",
    "df_label = pd.read_csv('label/label_6_basic_emo.csv')\n",
    "print(df_label.columns)\n",
    "print(df_label.shape)\n",
    "\n",
    "LABELS = list(df_label.columns[2:])\n",
    "print(\"LABELS=\", LABELS)\n",
    "print(\"All class:\", len(LABELS))\n",
    "\n",
    "label_valid = pd.read_csv('label/label_6_basic_emo_valid.csv')\n",
    "label_train = pd.read_csv('label/label_6_basic_emo_train.csv')\n",
    "label_test = pd.read_csv('label/label_6_basic_emo_test.csv')\n",
    "\n",
    "VALID_DATA_SIZE = label_valid.shape[0]\n",
    "TRAIN_DATA_SIZE = label_train.shape[0]\n",
    "TEST_DATA_SIZE = label_test.shape[0]\n",
    "\n",
    "print(\"TRAIN_DATA_SIZE:\", label_train.shape[0])\n",
    "print(\"VALID_DATA_SIZE:\", label_valid.shape[0])\n",
    "print(\"TEST_DATA_SIZE:\", label_test.shape[0])"
   ]
  },
  {
   "cell_type": "markdown",
   "metadata": {},
   "source": [
    "### Calculate class weights."
   ]
  },
  {
   "cell_type": "code",
   "execution_count": 6,
   "metadata": {},
   "outputs": [
    {
     "data": {
      "text/plain": [
       "10249"
      ]
     },
     "execution_count": 6,
     "metadata": {},
     "output_type": "execute_result"
    },
    {
     "name": "stdout",
     "output_type": "stream",
     "text": [
      "time: 2.07 s (started: 2021-12-07 06:54:22 +00:00)\n"
     ]
    }
   ],
   "source": [
    "dict_label_train = {}\n",
    "for idx, row in label_train.iterrows():\n",
    "    dict_label_train[row['img_id']] = list(row['angry':'sad'].values)\n",
    "len(dict_label_train)"
   ]
  },
  {
   "cell_type": "code",
   "execution_count": 7,
   "metadata": {},
   "outputs": [
    {
     "name": "stdout",
     "output_type": "stream",
     "text": [
      "time: 531 µs (started: 2021-12-07 06:54:24 +00:00)\n"
     ]
    }
   ],
   "source": [
    "y_train_ls = list(dict_label_train.values())\n",
    "#y_train_ls"
   ]
  },
  {
   "cell_type": "code",
   "execution_count": 8,
   "metadata": {},
   "outputs": [
    {
     "name": "stdout",
     "output_type": "stream",
     "text": [
      "time: 22.9 ms (started: 2021-12-07 06:54:24 +00:00)\n"
     ]
    }
   ],
   "source": [
    "y_train_ints = [y.index(1) for y in y_train_ls]\n",
    "#y_train_ints"
   ]
  },
  {
   "cell_type": "code",
   "execution_count": 9,
   "metadata": {},
   "outputs": [
    {
     "data": {
      "text/plain": [
       "{0: 0.2815040650406504,\n",
       " 1: 18.3673835125448,\n",
       " 2: 0.7868109933978198,\n",
       " 3: 7.6257440476190474,\n",
       " 4: 11.46420581655481,\n",
       " 5: 1.106325561312608}"
      ]
     },
     "execution_count": 9,
     "metadata": {},
     "output_type": "execute_result"
    },
    {
     "name": "stdout",
     "output_type": "stream",
     "text": [
      "time: 361 ms (started: 2021-12-07 06:54:24 +00:00)\n"
     ]
    }
   ],
   "source": [
    "from sklearn.utils import class_weight\n",
    "\n",
    "class_weights = class_weight.compute_class_weight('balanced',\n",
    "                                                  np.unique(y_train_ints),\n",
    "                                                  y_train_ints)\n",
    "class_weight_dict = dict(enumerate(class_weights))\n",
    "class_weight_dict"
   ]
  },
  {
   "cell_type": "code",
   "execution_count": 10,
   "metadata": {},
   "outputs": [
    {
     "data": {
      "text/plain": [
       "array([ 0.28150407, 18.36738351,  0.78681099,  7.62574405, 11.46420582,\n",
       "        1.10632556])"
      ]
     },
     "execution_count": 10,
     "metadata": {},
     "output_type": "execute_result"
    },
    {
     "name": "stdout",
     "output_type": "stream",
     "text": [
      "time: 2.42 ms (started: 2021-12-07 06:54:24 +00:00)\n"
     ]
    }
   ],
   "source": [
    "class_weights"
   ]
  },
  {
   "cell_type": "code",
   "execution_count": 11,
   "metadata": {},
   "outputs": [
    {
     "name": "stdout",
     "output_type": "stream",
     "text": [
      "time: 4.58 ms (started: 2021-12-07 06:54:24 +00:00)\n"
     ]
    }
   ],
   "source": [
    "n_samples = len(dict_label_train)\n",
    "n_classes = len(set(y_train_ints))"
   ]
  },
  {
   "cell_type": "code",
   "execution_count": 12,
   "metadata": {},
   "outputs": [
    {
     "data": {
      "text/plain": [
       "array([0.14075203, 9.18369176, 0.3934055 , 3.81287202, 5.73210291,\n",
       "       0.55316278])"
      ]
     },
     "execution_count": 12,
     "metadata": {},
     "output_type": "execute_result"
    },
    {
     "name": "stdout",
     "output_type": "stream",
     "text": [
      "time: 5.59 ms (started: 2021-12-07 06:54:24 +00:00)\n"
     ]
    }
   ],
   "source": [
    "multiplier = 3\n",
    "adjusted_cw = class_weights / n_classes * multiplier\n",
    "adjusted_cw"
   ]
  },
  {
   "cell_type": "code",
   "execution_count": 13,
   "metadata": {},
   "outputs": [
    {
     "data": {
      "text/plain": [
       "array([0.11638164, 0.22366313, 0.13195144, 0.18733217, 0.20259518,\n",
       "       0.13807644])"
      ]
     },
     "execution_count": 13,
     "metadata": {},
     "output_type": "execute_result"
    },
    {
     "name": "stdout",
     "output_type": "stream",
     "text": [
      "time: 5.06 ms (started: 2021-12-07 06:54:24 +00:00)\n"
     ]
    }
   ],
   "source": [
    "log_weights = n_samples / (n_classes * np.log(np.bincount(y_train_ints)))\n",
    "sum_weights = sum(log_weights)\n",
    "sum_weights\n",
    "custom_class_weights = log_weights / sum_weights\n",
    "custom_class_weights"
   ]
  },
  {
   "cell_type": "code",
   "execution_count": 14,
   "metadata": {},
   "outputs": [
    {
     "data": {
      "text/plain": [
       "array([0.25713368, 9.40735489, 0.52535693, 4.00020419, 5.93469809,\n",
       "       0.69123922])"
      ]
     },
     "execution_count": 14,
     "metadata": {},
     "output_type": "execute_result"
    },
    {
     "name": "stdout",
     "output_type": "stream",
     "text": [
      "time: 3.18 ms (started: 2021-12-07 06:54:24 +00:00)\n"
     ]
    }
   ],
   "source": [
    "custom_class_weights += adjusted_cw\n",
    "custom_class_weights"
   ]
  },
  {
   "cell_type": "code",
   "execution_count": 15,
   "metadata": {},
   "outputs": [
    {
     "data": {
      "text/plain": [
       "{0: 0.25713367600252574,\n",
       " 1: 9.407354888012607,\n",
       " 2: 0.5253569344678802,\n",
       " 3: 4.0002041936980595,\n",
       " 4: 5.934698087278068,\n",
       " 5: 0.6912392187757267}"
      ]
     },
     "execution_count": 15,
     "metadata": {},
     "output_type": "execute_result"
    },
    {
     "name": "stdout",
     "output_type": "stream",
     "text": [
      "time: 3.38 ms (started: 2021-12-07 06:54:24 +00:00)\n"
     ]
    }
   ],
   "source": [
    "class_weight_dict = dict(enumerate(custom_class_weights))\n",
    "class_weight_dict"
   ]
  },
  {
   "cell_type": "markdown",
   "metadata": {},
   "source": [
    "### Define training pipeline."
   ]
  },
  {
   "cell_type": "code",
   "execution_count": 16,
   "metadata": {},
   "outputs": [
    {
     "name": "stdout",
     "output_type": "stream",
     "text": [
      "time: 89.2 ms (started: 2021-12-07 06:54:24 +00:00)\n"
     ]
    }
   ],
   "source": [
    "from nvidia.dali.pipeline import Pipeline\n",
    "import nvidia.dali.fn as fn\n",
    "import nvidia.dali.types as types\n",
    "import nvidia.dali.tfrecord as tfrec\n",
    "import nvidia.dali.plugin.tf as dali_tf\n",
    "\n",
    "class TFRecordPipelineTrain(Pipeline):\n",
    "    def __init__(self, batch_size, num_threads,\n",
    "                 device = 'cpu', device_id = 0):\n",
    "        super(TFRecordPipelineTrain, self).__init__(batch_size,\n",
    "                                         num_threads,\n",
    "                                         device_id)\n",
    "        self.input = fn.readers.tfrecord(        \n",
    "             features = {\"image_raw\": tfrec.FixedLenFeature((), tfrec.string, \"\"),\n",
    "                         \"label\": tfrec.FixedLenFeature([6], tfrec.int64,  6)},\n",
    "             path = ['./tfrecords/6_basic_emo_train.tfrecords'],\n",
    "             index_path = ['./tfrecords/6_basic_emo_train.idx'],\n",
    "             random_shuffle=True,\n",
    "             seed = set_seed)\n",
    "        self.iter = 0\n",
    "    def define_graph(self):\n",
    "        inputs = self.input\n",
    "        images = fn.decoders.image(inputs[\"image_raw\"], device = \"mixed\", output_type = types.RGB) / 255.\n",
    "        labels = inputs[\"label\"].gpu()\n",
    "        return (images, labels)\n",
    "    def iter_setup(self):\n",
    "        pass"
   ]
  },
  {
   "cell_type": "markdown",
   "metadata": {},
   "source": [
    "### Define validation pipeline."
   ]
  },
  {
   "cell_type": "code",
   "execution_count": 17,
   "metadata": {},
   "outputs": [
    {
     "name": "stdout",
     "output_type": "stream",
     "text": [
      "time: 1.76 ms (started: 2021-12-07 06:54:24 +00:00)\n"
     ]
    }
   ],
   "source": [
    "class TFRecordPipelineValid(Pipeline):\n",
    "    def __init__(self, batch_size, num_threads,\n",
    "                 device = 'cpu', device_id = 0):\n",
    "        super(TFRecordPipelineValid, self).__init__(batch_size,\n",
    "                                         num_threads,\n",
    "                                         device_id)\n",
    "        self.input = fn.readers.tfrecord(        \n",
    "             features = {\"image_raw\": tfrec.FixedLenFeature((), tfrec.string, \"\"),\n",
    "                         \"label\": tfrec.FixedLenFeature([6], tfrec.int64,  6)},\n",
    "             path = ['./tfrecords/6_basic_emo_valid.tfrecords'],\n",
    "             index_path = ['./tfrecords/6_basic_emo_valid.idx'],\n",
    "             random_shuffle=False,\n",
    "             seed = set_seed)\n",
    "        self.iter = 0\n",
    "    def define_graph(self):\n",
    "        inputs = self.input\n",
    "        images = fn.decoders.image(inputs[\"image_raw\"], device = \"mixed\", output_type = types.RGB) / 255.\n",
    "        labels = inputs[\"label\"].gpu()\n",
    "        return (images, labels)\n",
    "    def iter_setup(self):\n",
    "        pass"
   ]
  },
  {
   "cell_type": "markdown",
   "metadata": {},
   "source": [
    "### Train ResNet50 model for classifying 6 basic emotions."
   ]
  },
  {
   "cell_type": "code",
   "execution_count": 18,
   "metadata": {},
   "outputs": [
    {
     "name": "stdout",
     "output_type": "stream",
     "text": [
      "Number of layers in the base model:  176\n",
      "Model: \"model\"\n",
      "_________________________________________________________________\n",
      "Layer (type)                 Output Shape              Param #   \n",
      "=================================================================\n",
      "input_2 (InputLayer)         [(None, 64, 64, 3)]       0         \n",
      "_________________________________________________________________\n",
      "resnet50 (Functional)        (None, 2048)              23587712  \n",
      "_________________________________________________________________\n",
      "dense (Dense)                (None, 6)                 12294     \n",
      "_________________________________________________________________\n",
      "dropout (Dropout)            (None, 6)                 0         \n",
      "_________________________________________________________________\n",
      "dense_1 (Dense)              (None, 6)                 42        \n",
      "=================================================================\n",
      "Total params: 23,600,048\n",
      "Trainable params: 17,227,824\n",
      "Non-trainable params: 6,372,224\n",
      "_________________________________________________________________\n",
      "Epoch 1/1000\n",
      "160/160 [==============================] - 13s 46ms/step - loss: 1.1817 - accuracy: 0.2725 - val_loss: 1.7827 - val_accuracy: 0.2469\n",
      "Epoch 2/1000\n",
      "160/160 [==============================] - 6s 37ms/step - loss: 0.9871 - accuracy: 0.3299 - val_loss: 1.4770 - val_accuracy: 0.3883\n",
      "Epoch 3/1000\n",
      "160/160 [==============================] - 6s 40ms/step - loss: 0.8903 - accuracy: 0.3728 - val_loss: 1.3930 - val_accuracy: 0.4437\n",
      "Epoch 4/1000\n",
      "160/160 [==============================] - 6s 39ms/step - loss: 0.8435 - accuracy: 0.4191 - val_loss: 1.4886 - val_accuracy: 0.3617\n",
      "Epoch 5/1000\n",
      "160/160 [==============================] - 6s 37ms/step - loss: 0.7910 - accuracy: 0.4330 - val_loss: 1.2054 - val_accuracy: 0.5594\n",
      "Epoch 6/1000\n",
      "160/160 [==============================] - 6s 38ms/step - loss: 0.7307 - accuracy: 0.4606 - val_loss: 1.1459 - val_accuracy: 0.5859\n",
      "Epoch 7/1000\n",
      "160/160 [==============================] - 6s 40ms/step - loss: 0.6888 - accuracy: 0.4908 - val_loss: 1.1709 - val_accuracy: 0.5609\n",
      "Epoch 8/1000\n",
      "160/160 [==============================] - 6s 39ms/step - loss: 0.6734 - accuracy: 0.5153 - val_loss: 1.1641 - val_accuracy: 0.5180\n",
      "Epoch 9/1000\n",
      "160/160 [==============================] - 6s 38ms/step - loss: 0.6330 - accuracy: 0.5209 - val_loss: 1.2174 - val_accuracy: 0.5266\n",
      "Epoch 10/1000\n",
      "160/160 [==============================] - 6s 39ms/step - loss: 0.6114 - accuracy: 0.5352 - val_loss: 0.9862 - val_accuracy: 0.6711\n",
      "Epoch 11/1000\n",
      "160/160 [==============================] - 6s 38ms/step - loss: 0.5853 - accuracy: 0.5658 - val_loss: 0.9793 - val_accuracy: 0.6641\n",
      "Epoch 12/1000\n",
      "160/160 [==============================] - 6s 39ms/step - loss: 0.5513 - accuracy: 0.5737 - val_loss: 0.9398 - val_accuracy: 0.6844\n",
      "Epoch 13/1000\n",
      "160/160 [==============================] - 6s 38ms/step - loss: 0.5295 - accuracy: 0.6000 - val_loss: 0.8731 - val_accuracy: 0.7273\n",
      "Epoch 14/1000\n",
      "160/160 [==============================] - 6s 37ms/step - loss: 0.5225 - accuracy: 0.5902 - val_loss: 1.0975 - val_accuracy: 0.6273\n",
      "Epoch 15/1000\n",
      "160/160 [==============================] - 6s 39ms/step - loss: 0.5351 - accuracy: 0.5892 - val_loss: 1.0826 - val_accuracy: 0.6148\n",
      "Epoch 16/1000\n",
      "160/160 [==============================] - 6s 40ms/step - loss: 0.5393 - accuracy: 0.5820 - val_loss: 0.9933 - val_accuracy: 0.6211\n",
      "Epoch 17/1000\n",
      "160/160 [==============================] - 6s 40ms/step - loss: 0.5098 - accuracy: 0.6066 - val_loss: 1.0448 - val_accuracy: 0.6047\n",
      "Epoch 18/1000\n",
      "160/160 [==============================] - 6s 39ms/step - loss: 0.4886 - accuracy: 0.6276 - val_loss: 0.8534 - val_accuracy: 0.7086\n",
      "Epoch 19/1000\n",
      "160/160 [==============================] - 6s 40ms/step - loss: 0.4741 - accuracy: 0.6378 - val_loss: 0.7591 - val_accuracy: 0.7453\n",
      "Epoch 20/1000\n",
      "160/160 [==============================] - 6s 39ms/step - loss: 0.5517 - accuracy: 0.6045 - val_loss: 2.6106 - val_accuracy: 0.2602\n",
      "Epoch 21/1000\n",
      "160/160 [==============================] - 6s 39ms/step - loss: 0.6906 - accuracy: 0.5269 - val_loss: 1.3451 - val_accuracy: 0.4711\n",
      "Epoch 22/1000\n",
      "160/160 [==============================] - 6s 40ms/step - loss: 0.5677 - accuracy: 0.5766 - val_loss: 1.1871 - val_accuracy: 0.6211\n",
      "Epoch 23/1000\n",
      "160/160 [==============================] - 6s 39ms/step - loss: 0.5346 - accuracy: 0.5955 - val_loss: 0.8762 - val_accuracy: 0.7227\n",
      "Epoch 24/1000\n",
      "160/160 [==============================] - 6s 38ms/step - loss: 0.4834 - accuracy: 0.6236 - val_loss: 0.8652 - val_accuracy: 0.6773\n",
      "Epoch 25/1000\n",
      "160/160 [==============================] - 6s 39ms/step - loss: 0.4739 - accuracy: 0.6312 - val_loss: 0.8961 - val_accuracy: 0.6711\n",
      "Epoch 26/1000\n",
      "160/160 [==============================] - 6s 38ms/step - loss: 0.4652 - accuracy: 0.6443 - val_loss: 0.6846 - val_accuracy: 0.7891\n",
      "Epoch 27/1000\n",
      "160/160 [==============================] - 6s 39ms/step - loss: 0.4201 - accuracy: 0.6664 - val_loss: 0.7447 - val_accuracy: 0.7469\n",
      "Epoch 28/1000\n",
      "160/160 [==============================] - 6s 39ms/step - loss: 0.4981 - accuracy: 0.6342 - val_loss: 0.9072 - val_accuracy: 0.6797\n",
      "Epoch 29/1000\n",
      "160/160 [==============================] - 6s 39ms/step - loss: 0.4751 - accuracy: 0.6533 - val_loss: 0.7520 - val_accuracy: 0.7312\n",
      "Epoch 30/1000\n",
      "160/160 [==============================] - 6s 39ms/step - loss: 0.4571 - accuracy: 0.6582 - val_loss: 0.7109 - val_accuracy: 0.7750\n",
      "Epoch 31/1000\n",
      "160/160 [==============================] - 6s 39ms/step - loss: 0.4182 - accuracy: 0.6740 - val_loss: 0.6719 - val_accuracy: 0.7937\n",
      "Epoch 32/1000\n",
      "160/160 [==============================] - 6s 39ms/step - loss: 0.4128 - accuracy: 0.6852 - val_loss: 0.8663 - val_accuracy: 0.7211\n",
      "Epoch 33/1000\n",
      "160/160 [==============================] - 6s 37ms/step - loss: 0.4002 - accuracy: 0.6909 - val_loss: 0.6539 - val_accuracy: 0.8031\n",
      "Epoch 34/1000\n",
      "160/160 [==============================] - 6s 40ms/step - loss: 0.3915 - accuracy: 0.6983 - val_loss: 0.8991 - val_accuracy: 0.6531\n",
      "Epoch 35/1000\n",
      "160/160 [==============================] - 6s 40ms/step - loss: 0.3893 - accuracy: 0.7022 - val_loss: 0.5403 - val_accuracy: 0.8484\n",
      "Epoch 36/1000\n",
      "160/160 [==============================] - 6s 39ms/step - loss: 0.3841 - accuracy: 0.7045 - val_loss: 0.6997 - val_accuracy: 0.7305\n",
      "Epoch 37/1000\n",
      "160/160 [==============================] - 6s 39ms/step - loss: 0.4219 - accuracy: 0.6910 - val_loss: 1.4068 - val_accuracy: 0.6484\n",
      "Epoch 38/1000\n",
      "160/160 [==============================] - 6s 39ms/step - loss: 0.5186 - accuracy: 0.6298 - val_loss: 1.9989 - val_accuracy: 0.6055\n",
      "Epoch 39/1000\n",
      "160/160 [==============================] - 6s 39ms/step - loss: 0.4527 - accuracy: 0.6429 - val_loss: 0.8096 - val_accuracy: 0.7141\n",
      "Epoch 40/1000\n",
      "160/160 [==============================] - 6s 40ms/step - loss: 0.3999 - accuracy: 0.6934 - val_loss: 0.8526 - val_accuracy: 0.7305\n",
      "Epoch 41/1000\n",
      "160/160 [==============================] - 6s 39ms/step - loss: 0.3884 - accuracy: 0.7012 - val_loss: 0.6930 - val_accuracy: 0.7969\n",
      "Epoch 42/1000\n",
      "160/160 [==============================] - 6s 39ms/step - loss: 0.3714 - accuracy: 0.7179 - val_loss: 0.6109 - val_accuracy: 0.8164\n",
      "Epoch 43/1000\n",
      "160/160 [==============================] - 6s 39ms/step - loss: 0.3546 - accuracy: 0.7200 - val_loss: 0.6432 - val_accuracy: 0.7867\n",
      "Epoch 44/1000\n",
      "160/160 [==============================] - 6s 39ms/step - loss: 0.3538 - accuracy: 0.7198 - val_loss: 0.9671 - val_accuracy: 0.7375\n",
      "Epoch 45/1000\n",
      "160/160 [==============================] - 6s 40ms/step - loss: 0.3675 - accuracy: 0.7251 - val_loss: 0.7302 - val_accuracy: 0.7484\n",
      "time: 4min 52s (started: 2021-12-07 06:54:24 +00:00)\n"
     ]
    }
   ],
   "source": [
    "# https://www.tensorflow.org/tutorials/images/transfer_learning\n",
    "# https://keras.io/guides/transfer_learning/\n",
    "\n",
    "if __name__ == \"__main__\":\n",
    "    batch_size = 64\n",
    "    shapes = ((batch_size, 64, 64, 3),\n",
    "              (batch_size, 6))\n",
    "    pipe_train = TFRecordPipelineTrain(batch_size=batch_size, \n",
    "                                 num_threads=1, \n",
    "                                 device='gpu', \n",
    "                                 device_id=0)\n",
    "    \n",
    "    batch_size_valid = 64\n",
    "    shapes_valid = ((batch_size_valid, 64, 64, 3),\n",
    "              (batch_size_valid, 6))\n",
    "    pipe_valid = TFRecordPipelineValid(batch_size=batch_size_valid, \n",
    "                                 num_threads=1, \n",
    "                                 device='gpu', \n",
    "                                 device_id=0)   \n",
    "\n",
    "    with tf.device('/gpu:0'):\n",
    "        ds_train = dali_tf.DALIDataset(\n",
    "            pipeline=pipe_train,\n",
    "            batch_size=batch_size,\n",
    "            output_shapes=shapes,\n",
    "            output_dtypes=(tf.float32, tf.int64),\n",
    "            device_id=0)\n",
    "\n",
    "        ds_valid = dali_tf.DALIDataset(\n",
    "            pipeline=pipe_valid,\n",
    "            batch_size=batch_size_valid,\n",
    "            output_shapes=shapes_valid,\n",
    "            output_dtypes=(tf.float32, tf.int64),\n",
    "            device_id=0)  \n",
    "      \n",
    "        initializer = keras.initializers.GlorotUniform(seed=set_seed)\n",
    "        activation =  keras.activations.softmax\n",
    "        lr_schedule = keras.optimizers.schedules.ExponentialDecay(\n",
    "            initial_learning_rate=1e-5,\n",
    "            decay_steps=TRAIN_DATA_SIZE // batch_size * 10,\n",
    "            decay_rate=0.95)       \n",
    "\n",
    "        number_of_classes = 6        \n",
    "        \n",
    "        base_model = keras.applications.ResNet50(\n",
    "            weights='imagenet',  # Load weights pre-trained on ImageNet.\n",
    "            input_shape=(64, 64, 3), # VGG16 expects min 32 x 32\n",
    "            include_top=False, # Do not include the ImageNet classifier at the top.\n",
    "            pooling='avg') # average pooling added \n",
    "        \n",
    "        base_model.trainable = True   # Unfreeze ResNet50 weights.        \n",
    "        \n",
    "        # See how many layers are in the base model.\n",
    "        print(\"Number of layers in the base model: \", len(base_model.layers))\n",
    "        \n",
    "        # Fine-tune from this layer onwards.\n",
    "        fine_tune_at = 120\n",
    "        \n",
    "        # Freeze all the layers before the `fine_tune_at` layer.\n",
    "        for layer in base_model.layers[:fine_tune_at]:\n",
    "            layer.trainable =  False    \n",
    "       \n",
    "        inputs = keras.Input(shape=(64, 64, 3))\n",
    "        x = base_model(inputs)\n",
    "        fc1 = keras.layers.Dense(number_of_classes,\n",
    "                             kernel_initializer=initializer)(x)\n",
    "        do1 = keras.layers.Dropout(0.5, seed=set_seed)(fc1)\n",
    "        outputs = keras.layers.Dense(number_of_classes,\n",
    "                             kernel_initializer=initializer,\n",
    "                             activation=activation)(do1) \n",
    "        clf = keras.Model(inputs, outputs)\n",
    "        \n",
    "        clf.summary()\n",
    "              \n",
    "        # Apply early stopping.        \n",
    "        es_callback = tf.keras.callbacks.EarlyStopping(monitor='val_loss', patience=10,\n",
    "                                                       restore_best_weights=True)\n",
    "       \n",
    "        clf.compile(optimizer=keras.optimizers.Adam(learning_rate=lr_schedule),\n",
    "              loss=keras.losses.CategoricalCrossentropy(),\n",
    "              metrics=['accuracy'])\n",
    "        \n",
    "        history = clf.fit(ds_train, steps_per_epoch=TRAIN_DATA_SIZE // batch_size,\n",
    "                          validation_data=ds_valid.take(VALID_DATA_SIZE // batch_size_valid),\n",
    "                          epochs=1000,\n",
    "                          class_weight=class_weight_dict,\n",
    "                          callbacks=[es_callback])"
   ]
  },
  {
   "cell_type": "code",
   "execution_count": 19,
   "metadata": {},
   "outputs": [
    {
     "name": "stdout",
     "output_type": "stream",
     "text": [
      "dict_keys(['loss', 'accuracy', 'val_loss', 'val_accuracy'])\n",
      "time: 625 µs (started: 2021-12-07 06:59:17 +00:00)\n"
     ]
    }
   ],
   "source": [
    "# List all data in history.\n",
    "\n",
    "print(history.history.keys())"
   ]
  },
  {
   "cell_type": "code",
   "execution_count": 20,
   "metadata": {},
   "outputs": [
    {
     "data": {
      "image/png": "[encoded data removed]",
      "text/plain": [
       "<Figure size 432x288 with 1 Axes>"
      ]
     },
     "metadata": {
      "needs_background": "light"
     },
     "output_type": "display_data"
    },
    {
     "name": "stdout",
     "output_type": "stream",
     "text": [
      "time: 182 ms (started: 2021-12-07 06:59:17 +00:00)\n"
     ]
    }
   ],
   "source": [
    "# Summarize history for accuracy.\n",
    "\n",
    "plt.plot(history.history['accuracy'])\n",
    "plt.plot(history.history['val_accuracy'])\n",
    "plt.title('model accuracy')\n",
    "plt.ylabel('accuracy')\n",
    "plt.xlabel('epoch')\n",
    "plt.legend(['train', 'valid'], loc='upper left')\n",
    "plt.show()"
   ]
  },
  {
   "cell_type": "code",
   "execution_count": 21,
   "metadata": {},
   "outputs": [
    {
     "data": {
      "image/png": "[encoded data removed]",
      "text/plain": [
       "<Figure size 432x288 with 1 Axes>"
      ]
     },
     "metadata": {
      "needs_background": "light"
     },
     "output_type": "display_data"
    },
    {
     "name": "stdout",
     "output_type": "stream",
     "text": [
      "time: 124 ms (started: 2021-12-07 06:59:17 +00:00)\n"
     ]
    }
   ],
   "source": [
    "# Summarize history for loss.\n",
    "\n",
    "plt.plot(history.history['loss'])\n",
    "plt.plot(history.history['val_loss'])\n",
    "plt.title('model loss')\n",
    "plt.ylabel('loss')\n",
    "plt.xlabel('epoch')\n",
    "plt.legend(['train', 'val'], loc='upper right')\n",
    "plt.show()"
   ]
  },
  {
   "cell_type": "markdown",
   "metadata": {
    "id": "wXhmX3trwKF4"
   },
   "source": [
    "### Define test pipeline."
   ]
  },
  {
   "cell_type": "code",
   "execution_count": 22,
   "metadata": {},
   "outputs": [
    {
     "name": "stdout",
     "output_type": "stream",
     "text": [
      "time: 1.89 ms (started: 2021-12-07 06:59:18 +00:00)\n"
     ]
    }
   ],
   "source": [
    "class TFRecordPipelineTest(Pipeline):\n",
    "    def __init__(self, batch_size, num_threads,\n",
    "                 device = 'cpu', device_id = 0):\n",
    "        super(TFRecordPipelineTest, self).__init__(batch_size,\n",
    "                                         num_threads,\n",
    "                                         device_id)\n",
    "        self.input = fn.readers.tfrecord(        \n",
    "             features = {\"image_raw\": tfrec.FixedLenFeature((), tfrec.string, \"\"),\n",
    "                         \"label\": tfrec.FixedLenFeature([6], tfrec.int64,  6)},\n",
    "             path = ['./tfrecords/6_basic_emo_test.tfrecords'],\n",
    "             index_path = ['./tfrecords/6_basic_emo_test.idx'],\n",
    "             random_shuffle=False,\n",
    "             seed = set_seed)\n",
    "        self.iter = 0\n",
    "    def define_graph(self):\n",
    "        inputs = self.input\n",
    "        images = fn.decoders.image(inputs[\"image_raw\"], device = \"mixed\", output_type = types.RGB) / 255.\n",
    "        labels = inputs[\"label\"].gpu()\n",
    "        return (images, labels)\n",
    "    def iter_setup(self):\n",
    "        pass"
   ]
  },
  {
   "cell_type": "markdown",
   "metadata": {},
   "source": [
    "### Check test data accuracy."
   ]
  },
  {
   "cell_type": "code",
   "execution_count": 23,
   "metadata": {},
   "outputs": [
    {
     "name": "stdout",
     "output_type": "stream",
     "text": [
      "1282/1282 [==============================] - 28s 21ms/step - loss: 0.5711 - accuracy: 0.8424\n",
      "Test accuracy: 0.8424336910247803\n",
      "A test output from the last layer: [0.64214194 0.00271216 0.13963872 0.00854037 0.1988728  0.00809407]\n",
      "Index of the maximum value: 0\n",
      "Label: angry\n",
      "time: 28.9 s (started: 2021-12-07 06:59:18 +00:00)\n"
     ]
    }
   ],
   "source": [
    "# https://docs.nvidia.com/deeplearning/dali/user-guide/docs/plugins/tensorflow_plugin_api.html\n",
    "\n",
    "if __name__ == \"__main__\":\n",
    "    batch_size = 1\n",
    "    shapes = ((batch_size, 64, 64, 3),\n",
    "              (batch_size, 6))\n",
    "    pipe_test = TFRecordPipelineTest(batch_size=batch_size, \n",
    "                            num_threads=4, \n",
    "                            device='gpu', \n",
    "                            device_id=0)\n",
    "\n",
    "    with tf.device('/gpu:0'):\n",
    "        ds_test = dali_tf.DALIDataset(\n",
    "            pipeline=pipe_test,\n",
    "            batch_size=batch_size,\n",
    "            output_shapes=shapes,\n",
    "            output_dtypes=(tf.float32, tf.int64),\n",
    "            device_id=0)\n",
    "        loss, acc = clf.evaluate(ds_test, steps=TEST_DATA_SIZE)\n",
    "        print(\"Test accuracy:\", acc)\n",
    "        predictions = clf.predict(ds_test.take(5))\n",
    "        print(\"A test output from the last layer:\", predictions[0])\n",
    "        print(\"Index of the maximum value:\", np.argmax(predictions[0]))\n",
    "        print(\"Label:\", LABELS[np.argmax(predictions[0])])"
   ]
  },
  {
   "cell_type": "code",
   "execution_count": 24,
   "metadata": {},
   "outputs": [
    {
     "data": {
      "text/plain": [
       "array([[6.4214194e-01, 2.7121601e-03, 1.3963872e-01, 8.5403668e-03,\n",
       "        1.9887280e-01, 8.0940723e-03],\n",
       "       [8.0819870e-04, 3.3999883e-02, 8.2448563e-03, 3.0838130e-02,\n",
       "        3.0486906e-04, 9.2580408e-01],\n",
       "       [8.4516369e-02, 1.3494930e-03, 4.9728316e-01, 2.8727522e-01,\n",
       "        4.0620685e-02, 8.8955060e-02],\n",
       "       [8.8690978e-01, 2.7387799e-05, 4.1348979e-02, 1.8968941e-04,\n",
       "        7.1452722e-02, 7.1428905e-05],\n",
       "       [9.3051058e-01, 1.4037379e-06, 3.4980308e-02, 5.0381153e-05,\n",
       "        3.4448598e-02, 8.6462524e-06]], dtype=float32)"
      ]
     },
     "execution_count": 24,
     "metadata": {},
     "output_type": "execute_result"
    },
    {
     "name": "stdout",
     "output_type": "stream",
     "text": [
      "time: 2.97 ms (started: 2021-12-07 06:59:46 +00:00)\n"
     ]
    }
   ],
   "source": [
    "predictions"
   ]
  },
  {
   "cell_type": "code",
   "execution_count": 25,
   "metadata": {},
   "outputs": [
    {
     "data": {
      "text/plain": [
       "<matplotlib.image.AxesImage at 0x7f8434216cf8>"
      ]
     },
     "execution_count": 25,
     "metadata": {},
     "output_type": "execute_result"
    },
    {
     "data": {
      "image/png": "[encoded data removed]",
      "text/plain": [
       "<Figure size 432x288 with 1 Axes>"
      ]
     },
     "metadata": {
      "needs_background": "light"
     },
     "output_type": "display_data"
    },
    {
     "name": "stdout",
     "output_type": "stream",
     "text": [
      "time: 196 ms (started: 2021-12-07 06:59:47 +00:00)\n"
     ]
    }
   ],
   "source": [
    "# Display the tested image.\n",
    "\n",
    "import matplotlib.pyplot as plt\n",
    "\n",
    "data, = ds_test.take(1)\n",
    "plt.imshow(data[0][0])"
   ]
  },
  {
   "cell_type": "code",
   "execution_count": 26,
   "metadata": {},
   "outputs": [
    {
     "data": {
      "text/plain": [
       "<tf.Tensor: shape=(1, 6), dtype=int64, numpy=array([[1, 0, 0, 0, 0, 0]])>"
      ]
     },
     "execution_count": 26,
     "metadata": {},
     "output_type": "execute_result"
    },
    {
     "name": "stdout",
     "output_type": "stream",
     "text": [
      "time: 2.47 ms (started: 2021-12-07 06:59:47 +00:00)\n"
     ]
    }
   ],
   "source": [
    "# Check the test data's true label.\n",
    "data[1]"
   ]
  },
  {
   "cell_type": "code",
   "execution_count": 27,
   "metadata": {},
   "outputs": [
    {
     "data": {
      "text/plain": [
       "(<tf.Tensor: shape=(1, 64, 64, 3), dtype=float32, numpy=\n",
       " array([[[[0.03921569, 0.03529412, 0.01176471],\n",
       "          [0.05098039, 0.04705882, 0.02352941],\n",
       "          [0.04705882, 0.05098039, 0.02352941],\n",
       "          ...,\n",
       "          [0.14509805, 0.08627451, 0.05882353],\n",
       "          [0.08235294, 0.0627451 , 0.03137255],\n",
       "          [0.09411765, 0.07450981, 0.04313726]],\n",
       " \n",
       "         [[0.03921569, 0.03529412, 0.01176471],\n",
       "          [0.04313726, 0.03921569, 0.01568628],\n",
       "          [0.03529412, 0.03921569, 0.01176471],\n",
       "          ...,\n",
       "          [0.17254902, 0.11372549, 0.08627451],\n",
       "          [0.08627451, 0.06666667, 0.03529412],\n",
       "          [0.09411765, 0.07450981, 0.04313726]],\n",
       " \n",
       "         [[0.04313726, 0.04313726, 0.02745098],\n",
       "          [0.04313726, 0.04313726, 0.02745098],\n",
       "          [0.03137255, 0.04313726, 0.02352941],\n",
       "          ...,\n",
       "          [0.21568628, 0.12941177, 0.09411765],\n",
       "          [0.11372549, 0.06666667, 0.03529412],\n",
       "          [0.15294118, 0.10588235, 0.07450981]],\n",
       " \n",
       "         ...,\n",
       " \n",
       "         [[0.38431373, 0.36862746, 0.3764706 ],\n",
       "          [0.33333334, 0.31764707, 0.3254902 ],\n",
       "          [0.27058825, 0.2627451 , 0.26666668],\n",
       "          ...,\n",
       "          [0.4509804 , 0.36078432, 0.28235295],\n",
       "          [0.42352942, 0.3372549 , 0.23921569],\n",
       "          [0.39607844, 0.30980393, 0.21176471]],\n",
       " \n",
       "         [[0.30980393, 0.30588236, 0.3137255 ],\n",
       "          [0.27058825, 0.26666668, 0.27450982],\n",
       "          [0.23137255, 0.23529412, 0.25882354],\n",
       "          ...,\n",
       "          [0.43137255, 0.37254903, 0.3372549 ],\n",
       "          [0.38039216, 0.3764706 , 0.3529412 ],\n",
       "          [0.43529412, 0.43137255, 0.40784314]],\n",
       " \n",
       "         [[0.27450982, 0.27058825, 0.2784314 ],\n",
       "          [0.22745098, 0.22352941, 0.23137255],\n",
       "          [0.21568628, 0.21960784, 0.24313726],\n",
       "          ...,\n",
       "          [0.34901962, 0.2901961 , 0.25490198],\n",
       "          [0.29803923, 0.29411766, 0.27058825],\n",
       "          [0.2627451 , 0.25882354, 0.23529412]]]], dtype=float32)>,\n",
       " <tf.Tensor: shape=(1, 6), dtype=int64, numpy=array([[1, 0, 0, 0, 0, 0]])>)"
      ]
     },
     "execution_count": 27,
     "metadata": {},
     "output_type": "execute_result"
    },
    {
     "name": "stdout",
     "output_type": "stream",
     "text": [
      "time: 6.46 ms (started: 2021-12-07 06:59:47 +00:00)\n"
     ]
    }
   ],
   "source": [
    "data"
   ]
  },
  {
   "cell_type": "code",
   "execution_count": 28,
   "metadata": {},
   "outputs": [
    {
     "name": "stdout",
     "output_type": "stream",
     "text": [
      "time: 19.6 s (started: 2021-12-07 06:59:47 +00:00)\n"
     ]
    }
   ],
   "source": [
    "pred_test = clf.predict(ds_test.take(TEST_DATA_SIZE))"
   ]
  },
  {
   "cell_type": "code",
   "execution_count": 29,
   "metadata": {},
   "outputs": [
    {
     "name": "stdout",
     "output_type": "stream",
     "text": [
      "time: 524 ms (started: 2021-12-07 07:00:06 +00:00)\n"
     ]
    }
   ],
   "source": [
    "true_test = np.concatenate([y for x, y in ds_test.take(TEST_DATA_SIZE)], axis=0)"
   ]
  },
  {
   "cell_type": "code",
   "execution_count": 30,
   "metadata": {},
   "outputs": [
    {
     "data": {
      "text/plain": [
       "(1282, 6)"
      ]
     },
     "execution_count": 30,
     "metadata": {},
     "output_type": "execute_result"
    },
    {
     "name": "stdout",
     "output_type": "stream",
     "text": [
      "time: 2.54 ms (started: 2021-12-07 07:00:07 +00:00)\n"
     ]
    }
   ],
   "source": [
    "true_test.shape"
   ]
  },
  {
   "cell_type": "code",
   "execution_count": 31,
   "metadata": {},
   "outputs": [
    {
     "data": {
      "text/plain": [
       "array([[689,   1,  43,   7,   5,  14],\n",
       "       [  1,  10,   0,   0,   1,   0],\n",
       "       [ 69,   0, 188,   4,   0,  11],\n",
       "       [  0,   0,   2,  26,   0,   0],\n",
       "       [  1,   0,   0,   0,  17,   0],\n",
       "       [ 27,   1,  13,   2,   0, 150]])"
      ]
     },
     "execution_count": 31,
     "metadata": {},
     "output_type": "execute_result"
    },
    {
     "name": "stdout",
     "output_type": "stream",
     "text": [
      "time: 26.4 ms (started: 2021-12-07 07:00:07 +00:00)\n"
     ]
    }
   ],
   "source": [
    "from sklearn.metrics import confusion_matrix\n",
    "\n",
    "pred_test_ls = []\n",
    "true_test_ls = []\n",
    "for (pred, true) in zip(pred_test, true_test):\n",
    "    pred_test_ls.append(np.argmax(pred))\n",
    "    true_test_ls.append(np.argmax(true))\n",
    "\n",
    "cf_matrix_test = confusion_matrix(true_test_ls, pred_test_ls)\n",
    "cf_matrix_test"
   ]
  },
  {
   "cell_type": "code",
   "execution_count": 32,
   "metadata": {},
   "outputs": [
    {
     "data": {
      "text/plain": [
       "Text(33.0, 0.5, 'True')"
      ]
     },
     "execution_count": 32,
     "metadata": {},
     "output_type": "execute_result"
    },
    {
     "data": {
      "image/png": "[encoded data removed]",
      "text/plain": [
       "<Figure size 432x288 with 2 Axes>"
      ]
     },
     "metadata": {
      "needs_background": "light"
     },
     "output_type": "display_data"
    },
    {
     "name": "stdout",
     "output_type": "stream",
     "text": [
      "time: 383 ms (started: 2021-12-07 07:00:07 +00:00)\n"
     ]
    }
   ],
   "source": [
    "import seaborn as sns\n",
    "\n",
    "sns.heatmap(cf_matrix_test, annot=True, cmap='Blues', xticklabels=LABELS, yticklabels=LABELS, fmt='g')\n",
    "plt.title('ResNet50: 6 Class FER')\n",
    "plt.xlabel('Predicted')\n",
    "plt.ylabel('True')"
   ]
  },
  {
   "cell_type": "markdown",
   "metadata": {},
   "source": [
    "### Check train data accuracy."
   ]
  },
  {
   "cell_type": "code",
   "execution_count": 33,
   "metadata": {},
   "outputs": [
    {
     "name": "stdout",
     "output_type": "stream",
     "text": [
      "10249/10249 [==============================] - 207s 20ms/step - loss: 0.4533 - accuracy: 0.8865\n",
      "Train accuracy: 0.8865255117416382\n",
      "time: 3min 27s (started: 2021-12-07 07:00:07 +00:00)\n"
     ]
    }
   ],
   "source": [
    "# https://docs.nvidia.com/deeplearning/dali/user-guide/docs/plugins/tensorflow_plugin_api.html\n",
    "\n",
    "if __name__ == \"__main__\":\n",
    "    batch_size = 1\n",
    "    shapes = ((batch_size, 64, 64, 3),\n",
    "              (batch_size, 6))\n",
    "    pipe_train = TFRecordPipelineTrain(batch_size=batch_size, \n",
    "                            num_threads=4, \n",
    "                            device='gpu', \n",
    "                            device_id=0)\n",
    "\n",
    "    with tf.device('/gpu:0'):\n",
    "    #with strategy.scope():        \n",
    "        # Create dataset\n",
    "        ds_train = dali_tf.DALIDataset(\n",
    "            pipeline=pipe_train,\n",
    "            batch_size=batch_size,\n",
    "            output_shapes=shapes,\n",
    "            output_dtypes=(tf.float32, tf.int64),\n",
    "            device_id=0)\n",
    "        loss, acc = clf.evaluate(ds_train, steps=TRAIN_DATA_SIZE)\n",
    "        print(\"Train accuracy:\", acc)\n",
    "        #predictions = clf.predict(ds_train.take(1))\n",
    "        #print(\"A test output from the last layer:\", predictions[0])\n",
    "        #print(\"Index of the maximum value:\", np.argmax(predictions[0]))\n",
    "        #print(\"Label:\", LABELS[np.argmax(predictions[0])])"
   ]
  },
  {
   "cell_type": "code",
   "execution_count": 34,
   "metadata": {},
   "outputs": [
    {
     "name": "stdout",
     "output_type": "stream",
     "text": [
      "time: 2min 34s (started: 2021-12-07 07:03:35 +00:00)\n"
     ]
    }
   ],
   "source": [
    "pred_train = clf.predict(ds_train.take(TRAIN_DATA_SIZE))"
   ]
  },
  {
   "cell_type": "code",
   "execution_count": 35,
   "metadata": {},
   "outputs": [
    {
     "name": "stdout",
     "output_type": "stream",
     "text": [
      "time: 3.85 s (started: 2021-12-07 07:06:09 +00:00)\n"
     ]
    }
   ],
   "source": [
    "true_train = np.concatenate([y for x, y in ds_train.take(TRAIN_DATA_SIZE)], axis=0)"
   ]
  },
  {
   "cell_type": "code",
   "execution_count": 36,
   "metadata": {},
   "outputs": [
    {
     "data": {
      "text/plain": [
       "(10249, 6)"
      ]
     },
     "execution_count": 36,
     "metadata": {},
     "output_type": "execute_result"
    },
    {
     "name": "stdout",
     "output_type": "stream",
     "text": [
      "time: 2 ms (started: 2021-12-07 07:06:13 +00:00)\n"
     ]
    }
   ],
   "source": [
    "true_train.shape"
   ]
  },
  {
   "cell_type": "code",
   "execution_count": 37,
   "metadata": {},
   "outputs": [
    {
     "data": {
      "text/plain": [
       "array([[5753,    6,  189,   20,   53,   47],\n",
       "       [   0,   93,    0,    0,    0,    0],\n",
       "       [ 522,    0, 1582,    8,   20,   39],\n",
       "       [   0,    0,    1,  223,    0,    0],\n",
       "       [   3,    0,    0,    0,  146,    0],\n",
       "       [ 134,    8,   77,   23,   13, 1289]])"
      ]
     },
     "execution_count": 37,
     "metadata": {},
     "output_type": "execute_result"
    },
    {
     "name": "stdout",
     "output_type": "stream",
     "text": [
      "time: 86.8 ms (started: 2021-12-07 07:06:13 +00:00)\n"
     ]
    }
   ],
   "source": [
    "pred_train_ls = []\n",
    "true_train_ls = []\n",
    "for (pred, true) in zip(pred_train, true_train):\n",
    "    pred_train_ls.append(np.argmax(pred))\n",
    "    true_train_ls.append(np.argmax(true))\n",
    "\n",
    "cf_matrix_train = confusion_matrix(true_train_ls, pred_train_ls)\n",
    "cf_matrix_train"
   ]
  },
  {
   "cell_type": "code",
   "execution_count": 38,
   "metadata": {},
   "outputs": [
    {
     "data": {
      "text/plain": [
       "Text(33.0, 0.5, 'True')"
      ]
     },
     "execution_count": 38,
     "metadata": {},
     "output_type": "execute_result"
    },
    {
     "data": {
      "image/png": "[encoded data removed]",
      "text/plain": [
       "<Figure size 432x288 with 2 Axes>"
      ]
     },
     "metadata": {
      "needs_background": "light"
     },
     "output_type": "display_data"
    },
    {
     "name": "stdout",
     "output_type": "stream",
     "text": [
      "time: 346 ms (started: 2021-12-07 07:06:13 +00:00)\n"
     ]
    }
   ],
   "source": [
    "sns.heatmap(cf_matrix_train, annot=True, cmap='Blues', xticklabels=LABELS, yticklabels=LABELS, fmt='g')\n",
    "plt.title('ResNet50: 6 Class FER (Train Data)')\n",
    "plt.xlabel('Predicted')\n",
    "plt.ylabel('True')"
   ]
  },
  {
   "cell_type": "code",
   "execution_count": null,
   "metadata": {},
   "outputs": [],
   "source": []
  }
 ],
 "metadata": {
  "accelerator": "GPU",
  "colab": {
   "collapsed_sections": [
    "cTp8rILehFDd"
   ],
   "name": "How to solve Multi-Label Classification Problems in Deep Learning with Tensorflow & Keras.ipynb",
   "provenance": []
  },
  "kernelspec": {
   "display_name": "Python 3",
   "language": "python",
   "name": "python3"
  },
  "language_info": {
   "codemirror_mode": {
    "name": "ipython",
    "version": 3
   },
   "file_extension": ".py",
   "mimetype": "text/x-python",
   "name": "python",
   "nbconvert_exporter": "python",
   "pygments_lexer": "ipython3",
   "version": "3.6.9"
  }
 },
 "nbformat": 4,
 "nbformat_minor": 1
}
