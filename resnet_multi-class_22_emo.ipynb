{
 "cells": [
  {
   "cell_type": "markdown",
   "metadata": {},
   "source": [
    "This notebook contains the code used in the BigComp 2022 paper: <br>\n",
    "<b>Heeryon Cho, Woo-Kyu Kang, Younsoo Park, Sungeu Chae, and Seong-joon Kim, \"Multi-label Facial Emotion Recognition Using Korean Drama Movie Clips,\" BigComp 2022.</b>\n",
    "### ResNet50 /  Classify 22 Emotions"
   ]
  },
  {
   "cell_type": "code",
   "execution_count": 1,
   "metadata": {
    "id": "cWXrCR9kFphX"
   },
   "outputs": [],
   "source": [
    "import tensorflow as tf\n",
    "from tensorflow import keras\n",
    "import matplotlib.pyplot as plt\n",
    "import numpy as np\n",
    "import pandas as pd\n",
    "import random as rn\n",
    "import os"
   ]
  },
  {
   "cell_type": "code",
   "execution_count": 2,
   "metadata": {},
   "outputs": [],
   "source": [
    "import warnings\n",
    "import logging\n",
    "logging.getLogger('tensorflow').disabled = True\n",
    "warnings.filterwarnings(\"ignore\")\n",
    "os.environ['TF_CPP_MIN_LOG_LEVEL'] = '3'"
   ]
  },
  {
   "cell_type": "code",
   "execution_count": 3,
   "metadata": {
    "colab": {
     "base_uri": "https://localhost:8080/"
    },
    "id": "gOqGiFjx7BVs",
    "outputId": "6e17c1f0-3979-4753-df9a-90cd6b5c4202"
   },
   "outputs": [
    {
     "name": "stdout",
     "output_type": "stream",
     "text": [
      "time: 518 µs (started: 2021-12-07 07:10:39 +00:00)\n"
     ]
    }
   ],
   "source": [
    "# Record cell run time.\n",
    "#!pip install ipython-autotime\n",
    "\n",
    "%load_ext autotime"
   ]
  },
  {
   "cell_type": "code",
   "execution_count": 4,
   "metadata": {
    "scrolled": false
   },
   "outputs": [
    {
     "name": "stdout",
     "output_type": "stream",
     "text": [
      "time: 2.22 ms (started: 2021-12-07 07:10:39 +00:00)\n"
     ]
    }
   ],
   "source": [
    "# Set seed for reproducibility.\n",
    "\n",
    "set_seed = 46\n",
    "np.random.seed(set_seed)\n",
    "rn.seed(set_seed)\n",
    "tf.random.set_seed(set_seed)"
   ]
  },
  {
   "cell_type": "markdown",
   "metadata": {
    "id": "DGaP1tWlaW2E"
   },
   "source": [
    "### Load label data."
   ]
  },
  {
   "cell_type": "code",
   "execution_count": 5,
   "metadata": {
    "colab": {
     "base_uri": "https://localhost:8080/"
    },
    "id": "uyVuGmJLCOqD",
    "outputId": "6e27494c-1af6-4886-a887-f82392b6fddf",
    "scrolled": true
   },
   "outputs": [
    {
     "name": "stdout",
     "output_type": "stream",
     "text": [
      "Index(['img_id', 'clip_id', 'moved', 'fearful', 'surprised', 'angry',\n",
      "       'anxious', 'smitten', 'fluttered', 'disappointed', 'fulfilled',\n",
      "       'ashamed', 'sad', 'upset', 'sympathetic', 'passionate', 'depressed',\n",
      "       'amused', 'affectionate', 'guilty', 'jealous', 'peaceful', 'happy',\n",
      "       'disgusted'],\n",
      "      dtype='object')\n",
      "(19800, 24)\n",
      "LABELS= ['moved', 'fearful', 'surprised', 'angry', 'anxious', 'smitten', 'fluttered', 'disappointed', 'fulfilled', 'ashamed', 'sad', 'upset', 'sympathetic', 'passionate', 'depressed', 'amused', 'affectionate', 'guilty', 'jealous', 'peaceful', 'happy', 'disgusted']\n",
      "All classes: 22\n",
      "TRAIN_DATA_SIZE: 15840\n",
      "VALID_DATA_SIZE: 1980\n",
      "TEST_DATA_SIZE: 1980\n",
      "time: 89.4 ms (started: 2021-12-07 07:10:39 +00:00)\n"
     ]
    }
   ],
   "source": [
    "# Load labels, check headers, check data shape.\n",
    "\n",
    "df_label = pd.read_csv('label/label_22_emo.csv')\n",
    "print(df_label.columns)\n",
    "print(df_label.shape)\n",
    "\n",
    "LABELS = list(df_label.columns[2:])\n",
    "print(\"LABELS=\", LABELS)\n",
    "print(\"All classes:\", len(LABELS))\n",
    "\n",
    "label_valid = pd.read_csv('label/label_22_emo_valid.csv')\n",
    "label_train = pd.read_csv('label/label_22_emo_train.csv')\n",
    "label_test = pd.read_csv('label/label_22_emo_test.csv')\n",
    "\n",
    "VALID_DATA_SIZE = label_valid.shape[0]\n",
    "TRAIN_DATA_SIZE = label_train.shape[0]\n",
    "TEST_DATA_SIZE = label_test.shape[0]\n",
    "\n",
    "print(\"TRAIN_DATA_SIZE:\", label_train.shape[0])\n",
    "print(\"VALID_DATA_SIZE:\", label_valid.shape[0])\n",
    "print(\"TEST_DATA_SIZE:\", label_test.shape[0])"
   ]
  },
  {
   "cell_type": "markdown",
   "metadata": {},
   "source": [
    "### Calculate class weights."
   ]
  },
  {
   "cell_type": "code",
   "execution_count": 6,
   "metadata": {},
   "outputs": [
    {
     "data": {
      "text/plain": [
       "15840"
      ]
     },
     "execution_count": 6,
     "metadata": {},
     "output_type": "execute_result"
    },
    {
     "name": "stdout",
     "output_type": "stream",
     "text": [
      "time: 3.14 s (started: 2021-12-07 07:10:39 +00:00)\n"
     ]
    }
   ],
   "source": [
    "dict_label_train = {}\n",
    "for idx, row in label_train.iterrows():\n",
    "    dict_label_train[row['img_id']] = list(row['moved':'disgusted'].values)\n",
    "len(dict_label_train)"
   ]
  },
  {
   "cell_type": "code",
   "execution_count": 7,
   "metadata": {},
   "outputs": [
    {
     "name": "stdout",
     "output_type": "stream",
     "text": [
      "time: 629 µs (started: 2021-12-07 07:10:42 +00:00)\n"
     ]
    }
   ],
   "source": [
    "y_train_ls = list(dict_label_train.values())\n",
    "#y_train_ls"
   ]
  },
  {
   "cell_type": "code",
   "execution_count": 8,
   "metadata": {},
   "outputs": [
    {
     "name": "stdout",
     "output_type": "stream",
     "text": [
      "time: 27.3 ms (started: 2021-12-07 07:10:42 +00:00)\n"
     ]
    }
   ],
   "source": [
    "y_train_ints = [y.index(1) for y in y_train_ls]\n",
    "#y_train_ints"
   ]
  },
  {
   "cell_type": "code",
   "execution_count": 9,
   "metadata": {},
   "outputs": [
    {
     "data": {
      "text/plain": [
       "{0: 2.88,\n",
       " 1: 3.2142857142857144,\n",
       " 2: 0.3314917127071823,\n",
       " 3: 0.11865524060646011,\n",
       " 4: 0.9461235216819974,\n",
       " 5: 3.0,\n",
       " 6: 5.625,\n",
       " 7: 0.9809264305177112,\n",
       " 8: 6.050420168067227,\n",
       " 9: 12.203389830508474,\n",
       " 10: 0.46632124352331605,\n",
       " 11: 0.5286343612334802,\n",
       " 12: 1.769041769041769,\n",
       " 13: 32.72727272727273,\n",
       " 14: 4.444444444444445,\n",
       " 15: 1.978021978021978,\n",
       " 16: 2.1114369501466275,\n",
       " 17: 1.894736842105263,\n",
       " 18: 5.142857142857143,\n",
       " 19: 5.853658536585366,\n",
       " 20: 4.8979591836734695,\n",
       " 21: 7.741935483870968}"
      ]
     },
     "execution_count": 9,
     "metadata": {},
     "output_type": "execute_result"
    },
    {
     "name": "stdout",
     "output_type": "stream",
     "text": [
      "time: 366 ms (started: 2021-12-07 07:10:42 +00:00)\n"
     ]
    }
   ],
   "source": [
    "from sklearn.utils import class_weight\n",
    "\n",
    "class_weights = class_weight.compute_class_weight('balanced',\n",
    "                                                  np.unique(y_train_ints),\n",
    "                                                  y_train_ints)\n",
    "class_weight_dict = dict(enumerate(class_weights))\n",
    "class_weight_dict"
   ]
  },
  {
   "cell_type": "code",
   "execution_count": 10,
   "metadata": {},
   "outputs": [
    {
     "data": {
      "text/plain": [
       "array([ 2.88      ,  3.21428571,  0.33149171,  0.11865524,  0.94612352,\n",
       "        3.        ,  5.625     ,  0.98092643,  6.05042017, 12.20338983,\n",
       "        0.46632124,  0.52863436,  1.76904177, 32.72727273,  4.44444444,\n",
       "        1.97802198,  2.11143695,  1.89473684,  5.14285714,  5.85365854,\n",
       "        4.89795918,  7.74193548])"
      ]
     },
     "execution_count": 10,
     "metadata": {},
     "output_type": "execute_result"
    },
    {
     "name": "stdout",
     "output_type": "stream",
     "text": [
      "time: 2.98 ms (started: 2021-12-07 07:10:43 +00:00)\n"
     ]
    }
   ],
   "source": [
    "class_weights"
   ]
  },
  {
   "cell_type": "code",
   "execution_count": 11,
   "metadata": {},
   "outputs": [
    {
     "name": "stdout",
     "output_type": "stream",
     "text": [
      "time: 3.62 ms (started: 2021-12-07 07:10:43 +00:00)\n"
     ]
    }
   ],
   "source": [
    "n_samples = len(dict_label_train)\n",
    "n_classes = len(set(y_train_ints))"
   ]
  },
  {
   "cell_type": "code",
   "execution_count": 12,
   "metadata": {},
   "outputs": [
    {
     "data": {
      "text/plain": [
       "array([0.39272727, 0.43831169, 0.04520342, 0.01618026, 0.12901684,\n",
       "       0.40909091, 0.76704545, 0.1337627 , 0.8250573 , 1.66409861,\n",
       "       0.06358926, 0.0720865 , 0.24123297, 4.46280992, 0.60606061,\n",
       "       0.26973027, 0.28792322, 0.25837321, 0.7012987 , 0.79822616,\n",
       "       0.66790353, 1.05571848])"
      ]
     },
     "execution_count": 12,
     "metadata": {},
     "output_type": "execute_result"
    },
    {
     "name": "stdout",
     "output_type": "stream",
     "text": [
      "time: 4.45 ms (started: 2021-12-07 07:10:43 +00:00)\n"
     ]
    }
   ],
   "source": [
    "multiplier = 3\n",
    "adjusted_cw = class_weights / n_classes * multiplier\n",
    "adjusted_cw"
   ]
  },
  {
   "cell_type": "code",
   "execution_count": 13,
   "metadata": {},
   "outputs": [
    {
     "data": {
      "text/plain": [
       "array([0.04463074, 0.0455364 , 0.03207262, 0.02828986, 0.03714251,\n",
       "       0.04496317, 0.05078841, 0.03734585, 0.0515632 , 0.06043523,\n",
       "       0.0335634 , 0.03414671, 0.04101091, 0.07972291, 0.0484368 ,\n",
       "       0.04178743, 0.04225512, 0.04148481, 0.04986741, 0.05120895,\n",
       "       0.04937987, 0.05436768])"
      ]
     },
     "execution_count": 13,
     "metadata": {},
     "output_type": "execute_result"
    },
    {
     "name": "stdout",
     "output_type": "stream",
     "text": [
      "time: 6.46 ms (started: 2021-12-07 07:10:43 +00:00)\n"
     ]
    }
   ],
   "source": [
    "log_weights = n_samples / (n_classes * np.log(np.bincount(y_train_ints)))\n",
    "sum_weights = sum(log_weights)\n",
    "sum_weights\n",
    "custom_class_weights = log_weights / sum_weights\n",
    "custom_class_weights"
   ]
  },
  {
   "cell_type": "code",
   "execution_count": 14,
   "metadata": {},
   "outputs": [
    {
     "data": {
      "text/plain": [
       "array([0.43735802, 0.48384809, 0.07727604, 0.04447012, 0.16615935,\n",
       "       0.45405408, 0.81783386, 0.17110854, 0.8766205 , 1.72453384,\n",
       "       0.09715266, 0.10623322, 0.28224388, 4.54253283, 0.65449741,\n",
       "       0.3115177 , 0.33017834, 0.29985802, 0.75116611, 0.84943511,\n",
       "       0.71728339, 1.11008615])"
      ]
     },
     "execution_count": 14,
     "metadata": {},
     "output_type": "execute_result"
    },
    {
     "name": "stdout",
     "output_type": "stream",
     "text": [
      "time: 3.72 ms (started: 2021-12-07 07:10:43 +00:00)\n"
     ]
    }
   ],
   "source": [
    "custom_class_weights += adjusted_cw\n",
    "custom_class_weights"
   ]
  },
  {
   "cell_type": "code",
   "execution_count": 15,
   "metadata": {},
   "outputs": [
    {
     "data": {
      "text/plain": [
       "{0: 0.43735801571868704,\n",
       " 1: 0.48384809272560536,\n",
       " 2: 0.07727603752877807,\n",
       " 3: 0.04447012394919416,\n",
       " 4: 0.16615934894029083,\n",
       " 5: 0.45405407973744055,\n",
       " 6: 0.8178338647074261,\n",
       " 7: 0.17110854124487898,\n",
       " 8: 0.876620496202587,\n",
       " 9: 1.7245338407756894,\n",
       " 10: 0.09715266034914719,\n",
       " 11: 0.10623321618311929,\n",
       " 12: 0.28224387957200436,\n",
       " 13: 4.542532828599931,\n",
       " 14: 0.6544974094004671,\n",
       " 15: 0.31151769951307157,\n",
       " 16: 0.3301783420621469,\n",
       " 17: 0.29985802035019415,\n",
       " 18: 0.7511661101655956,\n",
       " 19: 0.8494351130651482,\n",
       " 20: 0.7172833931995184,\n",
       " 21: 1.1100861516206217}"
      ]
     },
     "execution_count": 15,
     "metadata": {},
     "output_type": "execute_result"
    },
    {
     "name": "stdout",
     "output_type": "stream",
     "text": [
      "time: 4.06 ms (started: 2021-12-07 07:10:43 +00:00)\n"
     ]
    }
   ],
   "source": [
    "class_weight_dict = dict(enumerate(custom_class_weights))\n",
    "class_weight_dict"
   ]
  },
  {
   "cell_type": "markdown",
   "metadata": {},
   "source": [
    "### Define training pipeline."
   ]
  },
  {
   "cell_type": "code",
   "execution_count": 16,
   "metadata": {},
   "outputs": [
    {
     "name": "stdout",
     "output_type": "stream",
     "text": [
      "time: 89.5 ms (started: 2021-12-07 07:10:43 +00:00)\n"
     ]
    }
   ],
   "source": [
    "from nvidia.dali.pipeline import Pipeline\n",
    "import nvidia.dali.fn as fn\n",
    "import nvidia.dali.types as types\n",
    "import nvidia.dali.tfrecord as tfrec\n",
    "import nvidia.dali.plugin.tf as dali_tf\n",
    "\n",
    "class TFRecordPipelineTrain(Pipeline):\n",
    "    def __init__(self, batch_size, num_threads,\n",
    "                 device = 'cpu', device_id = 0):\n",
    "        super(TFRecordPipelineTrain, self).__init__(batch_size,\n",
    "                                         num_threads,\n",
    "                                         device_id)\n",
    "        self.input = fn.readers.tfrecord(        \n",
    "             features = {\"image_raw\": tfrec.FixedLenFeature((), tfrec.string, \"\"),\n",
    "                         \"label\": tfrec.FixedLenFeature([22], tfrec.int64,  22)},\n",
    "             path = ['./tfrecords/22_emo_train.tfrecords'],\n",
    "             index_path = ['./tfrecords/22_emo_train.idx'],\n",
    "             random_shuffle=True,\n",
    "             seed = set_seed)\n",
    "        self.iter = 0\n",
    "    def define_graph(self):\n",
    "        inputs = self.input\n",
    "        images = fn.decoders.image(inputs[\"image_raw\"], device = \"mixed\", output_type = types.RGB) / 255.\n",
    "        labels = inputs[\"label\"].gpu()\n",
    "        return (images, labels)\n",
    "    def iter_setup(self):\n",
    "        pass"
   ]
  },
  {
   "cell_type": "markdown",
   "metadata": {},
   "source": [
    "### Define validation pipeline."
   ]
  },
  {
   "cell_type": "code",
   "execution_count": 17,
   "metadata": {},
   "outputs": [
    {
     "name": "stdout",
     "output_type": "stream",
     "text": [
      "time: 1.77 ms (started: 2021-12-07 07:10:43 +00:00)\n"
     ]
    }
   ],
   "source": [
    "class TFRecordPipelineValid(Pipeline):\n",
    "    def __init__(self, batch_size, num_threads,\n",
    "                 device = 'cpu', device_id = 0):\n",
    "        super(TFRecordPipelineValid, self).__init__(batch_size,\n",
    "                                         num_threads,\n",
    "                                         device_id)\n",
    "        self.input = fn.readers.tfrecord(        \n",
    "             features = {\"image_raw\": tfrec.FixedLenFeature((), tfrec.string, \"\"),\n",
    "                         \"label\": tfrec.FixedLenFeature([22], tfrec.int64,  22)},\n",
    "             path = ['./tfrecords/22_emo_valid.tfrecords'],\n",
    "             index_path = ['./tfrecords/22_emo_valid.idx'],\n",
    "             random_shuffle=False,\n",
    "             seed = set_seed)\n",
    "        self.iter = 0\n",
    "    def define_graph(self):\n",
    "        inputs = self.input\n",
    "        images = fn.decoders.image(inputs[\"image_raw\"], device = \"mixed\", output_type = types.RGB) / 255.\n",
    "        labels = inputs[\"label\"].gpu()\n",
    "        return (images, labels)\n",
    "    def iter_setup(self):\n",
    "        pass"
   ]
  },
  {
   "cell_type": "markdown",
   "metadata": {},
   "source": [
    "### Train ResNet50 model for classifying 22 emotions."
   ]
  },
  {
   "cell_type": "code",
   "execution_count": 18,
   "metadata": {},
   "outputs": [
    {
     "name": "stdout",
     "output_type": "stream",
     "text": [
      "Number of layers in the base model:  176\n",
      "Model: \"model\"\n",
      "_________________________________________________________________\n",
      "Layer (type)                 Output Shape              Param #   \n",
      "=================================================================\n",
      "input_2 (InputLayer)         [(None, 64, 64, 3)]       0         \n",
      "_________________________________________________________________\n",
      "resnet50 (Functional)        (None, 2048)              23587712  \n",
      "_________________________________________________________________\n",
      "dense (Dense)                (None, 22)                45078     \n",
      "_________________________________________________________________\n",
      "dropout (Dropout)            (None, 22)                0         \n",
      "_________________________________________________________________\n",
      "dense_1 (Dense)              (None, 22)                506       \n",
      "=================================================================\n",
      "Total params: 23,633,296\n",
      "Trainable params: 17,261,072\n",
      "Non-trainable params: 6,372,224\n",
      "_________________________________________________________________\n",
      "Epoch 1/1000\n",
      "247/247 [==============================] - 16s 42ms/step - loss: 2.7659 - accuracy: 0.2411 - val_loss: 2.8346 - val_accuracy: 0.2297\n",
      "Epoch 2/1000\n",
      "247/247 [==============================] - 10s 39ms/step - loss: 2.2268 - accuracy: 0.3950 - val_loss: 2.2126 - val_accuracy: 0.4391\n",
      "Epoch 3/1000\n",
      "247/247 [==============================] - 9s 35ms/step - loss: 1.9566 - accuracy: 0.4696 - val_loss: 1.8305 - val_accuracy: 0.5234\n",
      "Epoch 4/1000\n",
      "247/247 [==============================] - 9s 38ms/step - loss: 1.7774 - accuracy: 0.5197 - val_loss: 1.6798 - val_accuracy: 0.5615\n",
      "Epoch 5/1000\n",
      "247/247 [==============================] - 9s 38ms/step - loss: 1.5985 - accuracy: 0.5754 - val_loss: 1.6071 - val_accuracy: 0.5729\n",
      "Epoch 6/1000\n",
      "247/247 [==============================] - 9s 38ms/step - loss: 1.4568 - accuracy: 0.6142 - val_loss: 1.5990 - val_accuracy: 0.5813\n",
      "Epoch 7/1000\n",
      "247/247 [==============================] - 9s 36ms/step - loss: 1.3237 - accuracy: 0.6478 - val_loss: 1.6268 - val_accuracy: 0.5714\n",
      "Epoch 8/1000\n",
      "247/247 [==============================] - 9s 38ms/step - loss: 1.2016 - accuracy: 0.6844 - val_loss: 1.3016 - val_accuracy: 0.6526\n",
      "Epoch 9/1000\n",
      "247/247 [==============================] - 10s 39ms/step - loss: 1.0939 - accuracy: 0.7141 - val_loss: 1.4555 - val_accuracy: 0.6068\n",
      "Epoch 10/1000\n",
      "247/247 [==============================] - 9s 38ms/step - loss: 1.0125 - accuracy: 0.7332 - val_loss: 1.3627 - val_accuracy: 0.6438\n",
      "Epoch 11/1000\n",
      "247/247 [==============================] - 9s 38ms/step - loss: 0.9293 - accuracy: 0.7558 - val_loss: 1.1538 - val_accuracy: 0.6953\n",
      "Epoch 12/1000\n",
      "247/247 [==============================] - 9s 38ms/step - loss: 0.8600 - accuracy: 0.7729 - val_loss: 1.5184 - val_accuracy: 0.6156\n",
      "Epoch 13/1000\n",
      "247/247 [==============================] - 10s 39ms/step - loss: 0.7848 - accuracy: 0.7969 - val_loss: 1.2351 - val_accuracy: 0.6641\n",
      "Epoch 14/1000\n",
      "247/247 [==============================] - 10s 39ms/step - loss: 0.7145 - accuracy: 0.8159 - val_loss: 1.0969 - val_accuracy: 0.7172\n",
      "Epoch 15/1000\n",
      "247/247 [==============================] - 10s 40ms/step - loss: 0.6576 - accuracy: 0.8281 - val_loss: 0.9452 - val_accuracy: 0.7516\n",
      "Epoch 16/1000\n",
      "247/247 [==============================] - 10s 39ms/step - loss: 0.5958 - accuracy: 0.8455 - val_loss: 1.2254 - val_accuracy: 0.6740\n",
      "Epoch 17/1000\n",
      "247/247 [==============================] - 10s 39ms/step - loss: 0.5703 - accuracy: 0.8482 - val_loss: 1.1384 - val_accuracy: 0.7047\n",
      "Epoch 18/1000\n",
      "247/247 [==============================] - 9s 38ms/step - loss: 0.5325 - accuracy: 0.8606 - val_loss: 1.2023 - val_accuracy: 0.6734\n",
      "Epoch 19/1000\n",
      "247/247 [==============================] - 9s 38ms/step - loss: 0.4872 - accuracy: 0.8749 - val_loss: 1.5167 - val_accuracy: 0.6021\n",
      "Epoch 20/1000\n",
      "247/247 [==============================] - 9s 35ms/step - loss: 0.4474 - accuracy: 0.8827 - val_loss: 1.2267 - val_accuracy: 0.6740\n",
      "Epoch 21/1000\n",
      "247/247 [==============================] - 10s 39ms/step - loss: 0.4288 - accuracy: 0.8870 - val_loss: 1.2458 - val_accuracy: 0.6828\n",
      "Epoch 22/1000\n",
      "247/247 [==============================] - 9s 38ms/step - loss: 0.3947 - accuracy: 0.8956 - val_loss: 1.1161 - val_accuracy: 0.7167\n",
      "Epoch 23/1000\n",
      "247/247 [==============================] - 9s 38ms/step - loss: 0.3689 - accuracy: 0.9038 - val_loss: 1.1499 - val_accuracy: 0.6979\n",
      "Epoch 24/1000\n",
      "247/247 [==============================] - 10s 39ms/step - loss: 0.3520 - accuracy: 0.9069 - val_loss: 1.0820 - val_accuracy: 0.7370\n",
      "Epoch 25/1000\n",
      "247/247 [==============================] - 10s 39ms/step - loss: 0.3284 - accuracy: 0.9128 - val_loss: 0.8999 - val_accuracy: 0.7688\n",
      "Epoch 26/1000\n",
      "247/247 [==============================] - 10s 40ms/step - loss: 0.3036 - accuracy: 0.9217 - val_loss: 0.8709 - val_accuracy: 0.7755\n",
      "Epoch 27/1000\n",
      "247/247 [==============================] - 10s 40ms/step - loss: 0.2893 - accuracy: 0.9245 - val_loss: 1.1971 - val_accuracy: 0.7359\n",
      "Epoch 28/1000\n",
      "247/247 [==============================] - 10s 39ms/step - loss: 0.2648 - accuracy: 0.9295 - val_loss: 0.8338 - val_accuracy: 0.7875\n",
      "Epoch 29/1000\n",
      "247/247 [==============================] - 10s 39ms/step - loss: 0.2495 - accuracy: 0.9332 - val_loss: 1.1280 - val_accuracy: 0.7396\n",
      "Epoch 30/1000\n",
      "247/247 [==============================] - 10s 39ms/step - loss: 0.2467 - accuracy: 0.9348 - val_loss: 1.4352 - val_accuracy: 0.6974\n",
      "Epoch 31/1000\n",
      "247/247 [==============================] - 10s 40ms/step - loss: 0.2493 - accuracy: 0.9360 - val_loss: 0.9104 - val_accuracy: 0.7677\n",
      "Epoch 32/1000\n",
      "247/247 [==============================] - 10s 40ms/step - loss: 0.2269 - accuracy: 0.9386 - val_loss: 0.9123 - val_accuracy: 0.7755\n",
      "Epoch 33/1000\n",
      "247/247 [==============================] - 10s 39ms/step - loss: 0.2271 - accuracy: 0.9402 - val_loss: 1.0121 - val_accuracy: 0.7635\n",
      "Epoch 34/1000\n",
      "247/247 [==============================] - 10s 39ms/step - loss: 0.2109 - accuracy: 0.9446 - val_loss: 0.9821 - val_accuracy: 0.7688\n",
      "Epoch 35/1000\n",
      "247/247 [==============================] - 9s 38ms/step - loss: 0.1962 - accuracy: 0.9468 - val_loss: 1.2082 - val_accuracy: 0.7078\n",
      "Epoch 36/1000\n",
      "247/247 [==============================] - 9s 38ms/step - loss: 0.1969 - accuracy: 0.9479 - val_loss: 0.7238 - val_accuracy: 0.8245\n",
      "Epoch 37/1000\n",
      "247/247 [==============================] - 10s 40ms/step - loss: 0.1817 - accuracy: 0.9528 - val_loss: 1.1772 - val_accuracy: 0.7021\n",
      "Epoch 38/1000\n",
      "247/247 [==============================] - 9s 35ms/step - loss: 0.1856 - accuracy: 0.9498 - val_loss: 1.1892 - val_accuracy: 0.7260\n",
      "Epoch 39/1000\n",
      "247/247 [==============================] - 9s 36ms/step - loss: 0.1731 - accuracy: 0.9529 - val_loss: 0.8921 - val_accuracy: 0.7807\n",
      "Epoch 40/1000\n",
      "247/247 [==============================] - 9s 38ms/step - loss: 0.1628 - accuracy: 0.9557 - val_loss: 1.1680 - val_accuracy: 0.7286\n",
      "Epoch 41/1000\n",
      "247/247 [==============================] - 9s 38ms/step - loss: 0.1584 - accuracy: 0.9577 - val_loss: 0.7146 - val_accuracy: 0.8229\n",
      "Epoch 42/1000\n",
      "247/247 [==============================] - 10s 38ms/step - loss: 0.1435 - accuracy: 0.9612 - val_loss: 1.1608 - val_accuracy: 0.7823\n",
      "Epoch 43/1000\n",
      "247/247 [==============================] - 9s 38ms/step - loss: 0.1380 - accuracy: 0.9634 - val_loss: 0.8748 - val_accuracy: 0.7917\n",
      "Epoch 44/1000\n",
      "247/247 [==============================] - 10s 39ms/step - loss: 0.1414 - accuracy: 0.9617 - val_loss: 1.0137 - val_accuracy: 0.7547\n",
      "Epoch 45/1000\n",
      "247/247 [==============================] - 9s 38ms/step - loss: 0.1464 - accuracy: 0.9596 - val_loss: 1.0495 - val_accuracy: 0.7755\n",
      "Epoch 46/1000\n",
      "247/247 [==============================] - 10s 39ms/step - loss: 0.1326 - accuracy: 0.9657 - val_loss: 1.2428 - val_accuracy: 0.7542\n",
      "Epoch 47/1000\n",
      "247/247 [==============================] - 10s 39ms/step - loss: 0.1396 - accuracy: 0.9618 - val_loss: 0.9908 - val_accuracy: 0.7589\n",
      "Epoch 48/1000\n",
      "247/247 [==============================] - 9s 37ms/step - loss: 0.1134 - accuracy: 0.9702 - val_loss: 0.6872 - val_accuracy: 0.8161\n",
      "Epoch 49/1000\n",
      "247/247 [==============================] - 10s 39ms/step - loss: 0.1319 - accuracy: 0.9642 - val_loss: 1.3938 - val_accuracy: 0.6990\n"
     ]
    },
    {
     "name": "stdout",
     "output_type": "stream",
     "text": [
      "Epoch 50/1000\n",
      "247/247 [==============================] - 10s 39ms/step - loss: 0.1279 - accuracy: 0.9659 - val_loss: 1.2541 - val_accuracy: 0.7422\n",
      "Epoch 51/1000\n",
      "247/247 [==============================] - 10s 39ms/step - loss: 0.1272 - accuracy: 0.9663 - val_loss: 1.3200 - val_accuracy: 0.6943\n",
      "Epoch 52/1000\n",
      "247/247 [==============================] - 10s 39ms/step - loss: 0.1132 - accuracy: 0.9699 - val_loss: 1.1401 - val_accuracy: 0.7365\n",
      "Epoch 53/1000\n",
      "247/247 [==============================] - 10s 38ms/step - loss: 0.1161 - accuracy: 0.9689 - val_loss: 0.9002 - val_accuracy: 0.7906\n",
      "Epoch 54/1000\n",
      "247/247 [==============================] - 10s 39ms/step - loss: 0.1079 - accuracy: 0.9721 - val_loss: 1.1074 - val_accuracy: 0.7589\n",
      "Epoch 55/1000\n",
      "247/247 [==============================] - 10s 38ms/step - loss: 0.0936 - accuracy: 0.9734 - val_loss: 0.7179 - val_accuracy: 0.8422\n",
      "Epoch 56/1000\n",
      "247/247 [==============================] - 9s 38ms/step - loss: 0.0990 - accuracy: 0.9707 - val_loss: 1.1976 - val_accuracy: 0.7385\n",
      "Epoch 57/1000\n",
      "247/247 [==============================] - 8s 34ms/step - loss: 0.0954 - accuracy: 0.9738 - val_loss: 1.2587 - val_accuracy: 0.7193\n",
      "Epoch 58/1000\n",
      "247/247 [==============================] - 9s 37ms/step - loss: 0.0937 - accuracy: 0.9722 - val_loss: 0.9910 - val_accuracy: 0.7948\n",
      "time: 9min 20s (started: 2021-12-07 07:10:43 +00:00)\n"
     ]
    }
   ],
   "source": [
    "# https://www.tensorflow.org/tutorials/images/transfer_learning\n",
    "# https://keras.io/guides/transfer_learning/\n",
    "\n",
    "if __name__ == \"__main__\":\n",
    "    batch_size = 64\n",
    "    shapes = ((batch_size, 64, 64, 3),\n",
    "              (batch_size, 22))\n",
    "    pipe_train = TFRecordPipelineTrain(batch_size=batch_size, \n",
    "                                 num_threads=1, \n",
    "                                 device='gpu', \n",
    "                                 device_id=0)\n",
    "    \n",
    "    batch_size_valid = 64\n",
    "    shapes_valid = ((batch_size_valid, 64, 64, 3),\n",
    "                    (batch_size_valid, 22))\n",
    "    pipe_valid = TFRecordPipelineValid(batch_size=batch_size_valid, \n",
    "                                 num_threads=1, \n",
    "                                 device='gpu', \n",
    "                                 device_id=0)        \n",
    "\n",
    "    with tf.device('/gpu:0'):\n",
    "        ds_train = dali_tf.DALIDataset(\n",
    "            pipeline=pipe_train,\n",
    "            batch_size=batch_size,\n",
    "            output_shapes=shapes,\n",
    "            output_dtypes=(tf.float32, tf.int64),\n",
    "            device_id=0)\n",
    "        \n",
    "        ds_valid = dali_tf.DALIDataset(\n",
    "            pipeline=pipe_valid,\n",
    "            batch_size=batch_size_valid,\n",
    "            output_shapes=shapes_valid,\n",
    "            output_dtypes=(tf.float32, tf.int64),\n",
    "            device_id=0)     \n",
    "      \n",
    "        initializer = keras.initializers.GlorotUniform(seed=set_seed)\n",
    "        activation =  keras.activations.softmax        \n",
    "        lr_schedule = keras.optimizers.schedules.ExponentialDecay(\n",
    "            initial_learning_rate=1e-5,\n",
    "            decay_steps=TRAIN_DATA_SIZE // batch_size * 10,\n",
    "            decay_rate=0.95)\n",
    "        \n",
    "        number_of_classes = 22   \n",
    "        \n",
    "        base_model = keras.applications.ResNet50(\n",
    "            weights='imagenet',  # Load weights pre-trained on ImageNet.\n",
    "            input_shape=(64, 64, 3), # VGG16 expects min 32 x 32\n",
    "            include_top=False, # Do not include the ImageNet classifier at the top.\n",
    "            pooling='avg') # average pooling added \n",
    "        \n",
    "        base_model.trainable = True   # Unfreeze ResNet50 weights.        \n",
    "        \n",
    "        # See how many layers are in the base model.\n",
    "        print(\"Number of layers in the base model: \", len(base_model.layers))\n",
    "        \n",
    "        # Fine-tune from this layer onwards.\n",
    "        fine_tune_at = 120\n",
    "        \n",
    "        # Freeze all the layers before the `fine_tune_at` layer.\n",
    "        for layer in base_model.layers[:fine_tune_at]:\n",
    "            layer.trainable =  False    \n",
    "            \n",
    "        inputs = keras.Input(shape=(64, 64, 3))\n",
    "        x = base_model(inputs)\n",
    "        fc1 = keras.layers.Dense(number_of_classes,\n",
    "                             kernel_initializer=initializer)(x)\n",
    "        do1 = keras.layers.Dropout(0.5, seed=set_seed)(fc1)\n",
    "        outputs = keras.layers.Dense(number_of_classes,\n",
    "                             kernel_initializer=initializer,\n",
    "                             activation=activation)(do1) \n",
    "        clf = keras.Model(inputs, outputs)\n",
    "        \n",
    "        clf.summary()\n",
    "              \n",
    "        # Apply early stopping.        \n",
    "        es_callback = tf.keras.callbacks.EarlyStopping(monitor='val_loss', patience=10,\n",
    "                                                       restore_best_weights=True)\n",
    "        \n",
    "        clf.compile(optimizer=keras.optimizers.Adam(learning_rate=lr_schedule),\n",
    "              loss=keras.losses.CategoricalCrossentropy(),\n",
    "              metrics=['accuracy'])\n",
    "        \n",
    "        history = clf.fit(ds_train, steps_per_epoch=TRAIN_DATA_SIZE // batch_size, \n",
    "                          validation_data=ds_valid.take(VALID_DATA_SIZE // batch_size_valid),\n",
    "                          epochs=1000,\n",
    "                          callbacks=[es_callback])      "
   ]
  },
  {
   "cell_type": "code",
   "execution_count": 19,
   "metadata": {},
   "outputs": [
    {
     "name": "stdout",
     "output_type": "stream",
     "text": [
      "dict_keys(['loss', 'accuracy', 'val_loss', 'val_accuracy'])\n",
      "time: 762 µs (started: 2021-12-07 07:20:03 +00:00)\n"
     ]
    }
   ],
   "source": [
    "# List all data in history.\n",
    "\n",
    "print(history.history.keys())"
   ]
  },
  {
   "cell_type": "code",
   "execution_count": 20,
   "metadata": {},
   "outputs": [
    {
     "data": {
      "image/png": "[encoded data removed]",
      "text/plain": [
       "<Figure size 432x288 with 1 Axes>"
      ]
     },
     "metadata": {
      "needs_background": "light"
     },
     "output_type": "display_data"
    },
    {
     "name": "stdout",
     "output_type": "stream",
     "text": [
      "time: 177 ms (started: 2021-12-07 07:20:03 +00:00)\n"
     ]
    }
   ],
   "source": [
    "# Summarize history for accuracy.\n",
    "\n",
    "plt.plot(history.history['accuracy'])\n",
    "plt.plot(history.history['val_accuracy'])\n",
    "plt.title('model accuracy')\n",
    "plt.ylabel('accuracy')\n",
    "plt.xlabel('epoch')\n",
    "plt.legend(['train', 'valid'], loc='upper left')\n",
    "plt.show()"
   ]
  },
  {
   "cell_type": "code",
   "execution_count": 21,
   "metadata": {},
   "outputs": [
    {
     "data": {
      "image/png": "[encoded data removed]",
      "text/plain": [
       "<Figure size 432x288 with 1 Axes>"
      ]
     },
     "metadata": {
      "needs_background": "light"
     },
     "output_type": "display_data"
    },
    {
     "name": "stdout",
     "output_type": "stream",
     "text": [
      "time: 132 ms (started: 2021-12-07 07:20:03 +00:00)\n"
     ]
    }
   ],
   "source": [
    "# Summarize history for loss.\n",
    "\n",
    "plt.plot(history.history['loss'])\n",
    "plt.plot(history.history['val_loss'])\n",
    "plt.title('model loss')\n",
    "plt.ylabel('loss')\n",
    "plt.xlabel('epoch')\n",
    "plt.legend(['train', 'val'], loc='upper right')\n",
    "plt.show()"
   ]
  },
  {
   "cell_type": "markdown",
   "metadata": {
    "id": "wXhmX3trwKF4"
   },
   "source": [
    "### Define test pipeline."
   ]
  },
  {
   "cell_type": "code",
   "execution_count": 22,
   "metadata": {},
   "outputs": [
    {
     "name": "stdout",
     "output_type": "stream",
     "text": [
      "time: 1.76 ms (started: 2021-12-07 07:20:03 +00:00)\n"
     ]
    }
   ],
   "source": [
    "class TFRecordPipelineTest(Pipeline):\n",
    "    def __init__(self, batch_size, num_threads,\n",
    "                 device = 'cpu', device_id = 0):\n",
    "        super(TFRecordPipelineTest, self).__init__(batch_size,\n",
    "                                         num_threads,\n",
    "                                         device_id)\n",
    "        self.input = fn.readers.tfrecord(        \n",
    "             features = {\"image_raw\": tfrec.FixedLenFeature((), tfrec.string, \"\"),\n",
    "                         \"label\": tfrec.FixedLenFeature([22], tfrec.int64,  22)},\n",
    "             path = ['./tfrecords/22_emo_test.tfrecords'],\n",
    "             index_path = ['./tfrecords/22_emo_test.idx'],\n",
    "             random_shuffle=False,\n",
    "             seed = set_seed)\n",
    "        self.iter = 0\n",
    "    def define_graph(self):\n",
    "        inputs = self.input\n",
    "        images = fn.decoders.image(inputs[\"image_raw\"], device = \"mixed\", output_type = types.RGB) / 255.\n",
    "        labels = inputs[\"label\"].gpu()\n",
    "        return (images, labels)\n",
    "    def iter_setup(self):\n",
    "        pass"
   ]
  },
  {
   "cell_type": "markdown",
   "metadata": {},
   "source": [
    "### Check test data accuracy."
   ]
  },
  {
   "cell_type": "code",
   "execution_count": 23,
   "metadata": {},
   "outputs": [
    {
     "name": "stdout",
     "output_type": "stream",
     "text": [
      "<DALIDataset shapes: ((1, 64, 64, 3), (1, 22)), types: (tf.float32, tf.int64)>\n",
      "1980/1980 [==============================] - 39s 19ms/step - loss: 0.6248 - accuracy: 0.8369\n",
      "Test accuracy: 0.8368687033653259\n",
      "A test output from the last layer: [9.7669819e-03 2.9222169e-03 1.3035601e-01 7.4579656e-01 1.6887341e-02\n",
      " 6.1761108e-03 1.2118698e-02 1.4269519e-02 5.8708899e-04 5.6397100e-04\n",
      " 4.6801302e-04 3.2359057e-03 1.2025675e-02 6.6783498e-03 7.8768766e-04\n",
      " 6.6068146e-04 2.3487723e-02 1.1790029e-03 2.2647252e-04 9.0635074e-03\n",
      " 2.1644398e-03 5.7808653e-04]\n",
      "Index of the maximum value: 3\n",
      "Label: angry\n",
      "time: 39.7 s (started: 2021-12-07 07:20:03 +00:00)\n"
     ]
    }
   ],
   "source": [
    "# https://docs.nvidia.com/deeplearning/dali/user-guide/docs/plugins/tensorflow_plugin_api.html\n",
    "\n",
    "if __name__ == \"__main__\":\n",
    "    batch_size = 1\n",
    "    shapes = ((batch_size, 64, 64, 3),\n",
    "              (batch_size, 22))\n",
    "    pipe_test = TFRecordPipelineTest(batch_size=batch_size, \n",
    "                            num_threads=4, \n",
    "                            device='gpu', \n",
    "                            device_id=0)\n",
    "\n",
    "    with tf.device('/gpu:0'):\n",
    "        ds_test = dali_tf.DALIDataset(\n",
    "            pipeline=pipe_test,\n",
    "            batch_size=batch_size,\n",
    "            output_shapes=shapes,\n",
    "            output_dtypes=(tf.float32, tf.int64),\n",
    "            device_id=0)\n",
    "        print(ds_test)\n",
    "        loss, acc = clf.evaluate(ds_test, steps=TEST_DATA_SIZE)\n",
    "        print(\"Test accuracy:\", acc)\n",
    "        predictions = clf.predict(ds_test.take(5))\n",
    "        print(\"A test output from the last layer:\", predictions[0])\n",
    "        print(\"Index of the maximum value:\", np.argmax(predictions[0]))\n",
    "        print(\"Label:\", LABELS[np.argmax(predictions[0])])"
   ]
  },
  {
   "cell_type": "code",
   "execution_count": 24,
   "metadata": {},
   "outputs": [
    {
     "data": {
      "text/plain": [
       "array([[9.7669819e-03, 2.9222169e-03, 1.3035601e-01, 7.4579656e-01,\n",
       "        1.6887341e-02, 6.1761108e-03, 1.2118698e-02, 1.4269519e-02,\n",
       "        5.8708899e-04, 5.6397100e-04, 4.6801302e-04, 3.2359057e-03,\n",
       "        1.2025675e-02, 6.6783498e-03, 7.8768766e-04, 6.6068146e-04,\n",
       "        2.3487723e-02, 1.1790029e-03, 2.2647252e-04, 9.0635074e-03,\n",
       "        2.1644398e-03, 5.7808653e-04],\n",
       "       [9.7627099e-06, 8.2581073e-06, 1.0031070e-04, 9.9810684e-01,\n",
       "        2.7093229e-05, 9.7586570e-05, 6.8793941e-04, 3.9918348e-05,\n",
       "        9.3704130e-06, 7.7606339e-05, 5.1347149e-04, 2.6696956e-05,\n",
       "        1.8509104e-06, 9.7180986e-05, 1.8169905e-05, 8.5424144e-05,\n",
       "        7.1843260e-06, 1.4212952e-05, 1.5973865e-05, 6.4745163e-06,\n",
       "        3.3881784e-05, 1.4838532e-05],\n",
       "       [5.0432889e-05, 2.3761582e-04, 2.9894193e-06, 4.7102704e-04,\n",
       "        9.6760118e-01, 2.1489475e-04, 1.2583245e-02, 2.9424191e-03,\n",
       "        1.0032858e-04, 4.5243371e-07, 1.9383106e-05, 9.2204800e-07,\n",
       "        4.4973136e-04, 8.6585521e-07, 9.6374053e-05, 1.6546885e-03,\n",
       "        4.4618191e-06, 1.4577613e-03, 8.8949033e-05, 6.2812796e-06,\n",
       "        1.8707381e-04, 1.1828848e-02],\n",
       "       [5.3007396e-05, 7.5331365e-05, 2.4872838e-04, 9.9388123e-01,\n",
       "        7.4356802e-05, 4.1237602e-04, 1.7049466e-03, 6.2140651e-05,\n",
       "        9.1401962e-06, 2.8781442e-05, 1.0318052e-03, 1.8433038e-05,\n",
       "        4.7513822e-06, 1.6147982e-04, 5.3180869e-05, 1.9531153e-03,\n",
       "        1.3786854e-05, 3.4139877e-05, 9.9954726e-05, 8.4645126e-06,\n",
       "        2.0296522e-05, 5.0581697e-05],\n",
       "       [1.0678481e-03, 1.8034189e-03, 3.1980192e-03, 7.7775156e-01,\n",
       "        3.2860518e-02, 4.5738765e-04, 2.2972571e-02, 1.1075006e-01,\n",
       "        1.8733312e-04, 6.2424608e-04, 3.0494940e-03, 1.7463099e-02,\n",
       "        3.1461887e-04, 1.1358595e-03, 2.4308015e-03, 5.0078920e-04,\n",
       "        1.2903649e-04, 7.8600701e-03, 7.5358292e-03, 1.7029982e-03,\n",
       "        1.7147991e-03, 4.4896766e-03]], dtype=float32)"
      ]
     },
     "execution_count": 24,
     "metadata": {},
     "output_type": "execute_result"
    },
    {
     "name": "stdout",
     "output_type": "stream",
     "text": [
      "time: 4.09 ms (started: 2021-12-07 07:20:43 +00:00)\n"
     ]
    }
   ],
   "source": [
    "predictions"
   ]
  },
  {
   "cell_type": "code",
   "execution_count": 25,
   "metadata": {},
   "outputs": [
    {
     "data": {
      "text/plain": [
       "<matplotlib.image.AxesImage at 0x7f8cb46f53c8>"
      ]
     },
     "execution_count": 25,
     "metadata": {},
     "output_type": "execute_result"
    },
    {
     "data": {
      "image/png": "[encoded data removed]",
      "text/plain": [
       "<Figure size 432x288 with 1 Axes>"
      ]
     },
     "metadata": {
      "needs_background": "light"
     },
     "output_type": "display_data"
    },
    {
     "name": "stdout",
     "output_type": "stream",
     "text": [
      "time: 199 ms (started: 2021-12-07 07:20:43 +00:00)\n"
     ]
    }
   ],
   "source": [
    "# Display the tested image.\n",
    "\n",
    "import matplotlib.pyplot as plt\n",
    "\n",
    "data, = ds_test.take(1)\n",
    "plt.imshow(data[0][0])"
   ]
  },
  {
   "cell_type": "code",
   "execution_count": 26,
   "metadata": {},
   "outputs": [
    {
     "data": {
      "text/plain": [
       "<tf.Tensor: shape=(1, 22), dtype=int64, numpy=array([[0, 0, 0, 1, 0, 0, 0, 0, 0, 0, 0, 0, 0, 0, 0, 0, 0, 0, 0, 0, 0, 0]])>"
      ]
     },
     "execution_count": 26,
     "metadata": {},
     "output_type": "execute_result"
    },
    {
     "name": "stdout",
     "output_type": "stream",
     "text": [
      "time: 2.78 ms (started: 2021-12-07 07:20:43 +00:00)\n"
     ]
    }
   ],
   "source": [
    "# Check the test data's true label.\n",
    "data[1]"
   ]
  },
  {
   "cell_type": "code",
   "execution_count": 27,
   "metadata": {},
   "outputs": [
    {
     "data": {
      "text/plain": [
       "(<tf.Tensor: shape=(1, 64, 64, 3), dtype=float32, numpy=\n",
       " array([[[[0.19607843, 0.15686275, 0.10588235],\n",
       "          [0.18431373, 0.14509805, 0.09411765],\n",
       "          [0.13725491, 0.10588235, 0.05098039],\n",
       "          ...,\n",
       "          [0.07058824, 0.0627451 , 0.05098039],\n",
       "          [0.10588235, 0.09019608, 0.09019608],\n",
       "          [0.08235294, 0.06666667, 0.06666667]],\n",
       " \n",
       "         [[0.1764706 , 0.13725491, 0.08627451],\n",
       "          [0.17254902, 0.13333334, 0.08235294],\n",
       "          [0.12941177, 0.09803922, 0.04313726],\n",
       "          ...,\n",
       "          [0.0627451 , 0.05490196, 0.04313726],\n",
       "          [0.09411765, 0.07843138, 0.07843138],\n",
       "          [0.09411765, 0.07843138, 0.07843138]],\n",
       " \n",
       "         [[0.18039216, 0.14901961, 0.09411765],\n",
       "          [0.15686275, 0.1254902 , 0.07058824],\n",
       "          [0.1254902 , 0.09019608, 0.04705882],\n",
       "          ...,\n",
       "          [0.08627451, 0.07843138, 0.06666667],\n",
       "          [0.09411765, 0.08627451, 0.08235294],\n",
       "          [0.07450981, 0.06666667, 0.0627451 ]],\n",
       " \n",
       "         ...,\n",
       " \n",
       "         [[0.34509805, 0.34901962, 0.28235295],\n",
       "          [0.34117648, 0.34509805, 0.2784314 ],\n",
       "          [0.32941177, 0.34901962, 0.28627452],\n",
       "          ...,\n",
       "          [0.44705883, 0.36862746, 0.30980393],\n",
       "          [0.42352942, 0.3529412 , 0.2901961 ],\n",
       "          [0.35686275, 0.28627452, 0.22352941]],\n",
       " \n",
       "         [[0.34117648, 0.34509805, 0.2784314 ],\n",
       "          [0.3372549 , 0.34117648, 0.27450982],\n",
       "          [0.3254902 , 0.34509805, 0.28235295],\n",
       "          ...,\n",
       "          [0.44705883, 0.36078432, 0.3137255 ],\n",
       "          [0.40784314, 0.3372549 , 0.28235295],\n",
       "          [0.29803923, 0.22745098, 0.17254902]],\n",
       " \n",
       "         [[0.34117648, 0.34509805, 0.2784314 ],\n",
       "          [0.3372549 , 0.34117648, 0.27450982],\n",
       "          [0.3254902 , 0.34509805, 0.28235295],\n",
       "          ...,\n",
       "          [0.4392157 , 0.3529412 , 0.30588236],\n",
       "          [0.3882353 , 0.31764707, 0.2627451 ],\n",
       "          [0.24705882, 0.1764706 , 0.12156863]]]], dtype=float32)>,\n",
       " <tf.Tensor: shape=(1, 22), dtype=int64, numpy=array([[0, 0, 0, 1, 0, 0, 0, 0, 0, 0, 0, 0, 0, 0, 0, 0, 0, 0, 0, 0, 0, 0]])>)"
      ]
     },
     "execution_count": 27,
     "metadata": {},
     "output_type": "execute_result"
    },
    {
     "name": "stdout",
     "output_type": "stream",
     "text": [
      "time: 8.21 ms (started: 2021-12-07 07:20:43 +00:00)\n"
     ]
    }
   ],
   "source": [
    "data"
   ]
  },
  {
   "cell_type": "code",
   "execution_count": 28,
   "metadata": {},
   "outputs": [
    {
     "name": "stdout",
     "output_type": "stream",
     "text": [
      "time: 31.3 s (started: 2021-12-07 07:20:43 +00:00)\n"
     ]
    }
   ],
   "source": [
    "pred_test = clf.predict(ds_test.take(TEST_DATA_SIZE))"
   ]
  },
  {
   "cell_type": "code",
   "execution_count": 29,
   "metadata": {},
   "outputs": [
    {
     "name": "stdout",
     "output_type": "stream",
     "text": [
      "time: 773 ms (started: 2021-12-07 07:21:14 +00:00)\n"
     ]
    }
   ],
   "source": [
    "true_test = np.concatenate([y for x, y in ds_test.take(TEST_DATA_SIZE)], axis=0)"
   ]
  },
  {
   "cell_type": "code",
   "execution_count": 30,
   "metadata": {},
   "outputs": [
    {
     "data": {
      "text/plain": [
       "(1980, 22)"
      ]
     },
     "execution_count": 30,
     "metadata": {},
     "output_type": "execute_result"
    },
    {
     "name": "stdout",
     "output_type": "stream",
     "text": [
      "time: 2.44 ms (started: 2021-12-07 07:21:15 +00:00)\n"
     ]
    }
   ],
   "source": [
    "true_test.shape"
   ]
  },
  {
   "cell_type": "code",
   "execution_count": 31,
   "metadata": {},
   "outputs": [
    {
     "data": {
      "text/plain": [
       "array([[ 25,   0,   4,   0,   0,   0,   0,   0,   0,   0,   0,   2,   0,\n",
       "          0,   0,   0,   0,   0,   0,   0,   0,   0],\n",
       "       [  0,  24,   1,   1,   0,   0,   0,   0,   0,   0,   0,   1,   0,\n",
       "          0,   0,   0,   0,   1,   0,   0,   0,   0],\n",
       "       [  0,   0, 244,  16,   3,   0,   0,   1,   0,   0,   2,   4,   0,\n",
       "          0,   0,   0,   1,   0,   0,   0,   0,   0],\n",
       "       [  1,   0,  46, 664,   9,   0,   2,   1,   0,   0,  22,   6,   1,\n",
       "          0,   1,   3,   0,   2,   0,   0,   0,   1],\n",
       "       [  2,   0,   5,   8,  72,   0,   0,   0,   0,   0,   3,   1,   0,\n",
       "          0,   0,   0,   0,   2,   0,   2,   0,   0],\n",
       "       [  0,   0,   3,   0,   2,  24,   0,   0,   0,   0,   1,   0,   0,\n",
       "          0,   0,   0,   0,   0,   0,   0,   0,   0],\n",
       "       [  0,   0,   1,   4,   0,   0,   9,   0,   0,   0,   1,   1,   0,\n",
       "          0,   0,   0,   0,   0,   0,   0,   0,   0],\n",
       "       [  0,   0,   7,  10,   0,   0,   0,  63,   0,   0,   4,   2,   0,\n",
       "          0,   0,   0,   2,   3,   1,   0,   0,   0],\n",
       "       [  0,   0,   0,   1,   0,   0,   0,   0,   9,   0,   2,   1,   0,\n",
       "          0,   0,   0,   0,   2,   0,   0,   0,   0],\n",
       "       [  0,   0,   1,   3,   0,   0,   0,   0,   0,   2,   1,   0,   0,\n",
       "          0,   0,   0,   0,   0,   0,   0,   0,   0],\n",
       "       [  0,   0,  13,   6,   0,   0,   0,   1,   0,   0, 169,   3,   0,\n",
       "          0,   0,   1,   0,   0,   0,   0,   0,   0],\n",
       "       [  0,   0,   7,   8,   2,   0,   0,   0,   0,   0,   2, 149,   1,\n",
       "          0,   0,   1,   0,   0,   0,   0,   0,   0],\n",
       "       [  0,   0,   5,   5,   1,   0,   0,   0,   0,   0,   0,   0,  40,\n",
       "          0,   0,   0,   0,   0,   0,   0,   0,   0],\n",
       "       [  0,   0,   0,   1,   0,   0,   0,   0,   0,   0,   0,   0,   0,\n",
       "          2,   0,   0,   0,   0,   0,   0,   0,   0],\n",
       "       [  0,   0,   2,   1,   0,   0,   0,   0,   0,   0,   0,   3,   0,\n",
       "          0,  14,   0,   0,   0,   0,   0,   0,   0],\n",
       "       [  0,   0,   3,   2,   1,   0,   0,   0,   1,   0,   2,   0,   0,\n",
       "          0,   0,  35,   0,   1,   0,   0,   1,   0],\n",
       "       [  0,   0,   2,   2,   0,   0,   0,   1,   0,   0,   0,   2,   2,\n",
       "          0,   0,   1,  33,   0,   0,   0,   0,   0],\n",
       "       [  0,   0,   5,   3,   0,   0,   0,   0,   0,   0,   2,   1,   0,\n",
       "          0,   0,   0,   0,  36,   0,   0,   0,   0],\n",
       "       [  0,   0,   2,   1,   0,   0,   0,   1,   0,   0,   1,   0,   1,\n",
       "          0,   0,   0,   0,   0,  11,   0,   0,   0],\n",
       "       [  0,   0,   1,   1,   0,   0,   0,   0,   0,   0,   0,   1,   0,\n",
       "          0,   0,   0,   0,   0,   1,  11,   0,   0],\n",
       "       [  1,   0,   0,   2,   1,   0,   0,   0,   0,   0,   0,   0,   0,\n",
       "          0,   0,   0,   0,   0,   0,   0,  15,   0],\n",
       "       [  0,   0,   2,   1,   0,   0,   0,   0,   0,   0,   1,   2,   0,\n",
       "          0,   0,   0,   0,   0,   0,   0,   0,   6]])"
      ]
     },
     "execution_count": 31,
     "metadata": {},
     "output_type": "execute_result"
    },
    {
     "name": "stdout",
     "output_type": "stream",
     "text": [
      "time: 44.9 ms (started: 2021-12-07 07:21:15 +00:00)\n"
     ]
    }
   ],
   "source": [
    "from sklearn.metrics import confusion_matrix\n",
    "\n",
    "pred_test_ls = []\n",
    "true_test_ls = []\n",
    "for (pred, true) in zip(pred_test, true_test):\n",
    "    pred_test_ls.append(np.argmax(pred))\n",
    "    true_test_ls.append(np.argmax(true))\n",
    "\n",
    "cf_matrix_test = confusion_matrix(true_test_ls, pred_test_ls)\n",
    "cf_matrix_test"
   ]
  },
  {
   "cell_type": "code",
   "execution_count": 32,
   "metadata": {},
   "outputs": [
    {
     "data": {
      "text/plain": [
       "Text(123.0, 0.5, 'True')"
      ]
     },
     "execution_count": 32,
     "metadata": {},
     "output_type": "execute_result"
    },
    {
     "data": {
      "image/png": "[encoded data removed]",
      "text/plain": [
       "<Figure size 1152x1152 with 2 Axes>"
      ]
     },
     "metadata": {
      "needs_background": "light"
     },
     "output_type": "display_data"
    },
    {
     "name": "stdout",
     "output_type": "stream",
     "text": [
      "time: 2.3 s (started: 2021-12-07 07:21:15 +00:00)\n"
     ]
    }
   ],
   "source": [
    "import seaborn as sns\n",
    "\n",
    "plt.figure(figsize = (16,16))\n",
    "sns.heatmap(cf_matrix_test, annot=True, cmap='Blues', xticklabels=LABELS, yticklabels=LABELS, fmt='g')\n",
    "plt.title('ResNet50: 22 Class FER')\n",
    "plt.xlabel('Predicted')\n",
    "plt.ylabel('True')"
   ]
  },
  {
   "cell_type": "markdown",
   "metadata": {},
   "source": [
    "### Check train data accuracy."
   ]
  },
  {
   "cell_type": "code",
   "execution_count": 33,
   "metadata": {},
   "outputs": [
    {
     "name": "stdout",
     "output_type": "stream",
     "text": [
      "15840/15840 [==============================] - 310s 20ms/step - loss: 0.2591 - accuracy: 0.9242\n",
      "Train accuracy: 0.9242424368858337\n",
      "time: 5min 10s (started: 2021-12-07 07:21:18 +00:00)\n"
     ]
    }
   ],
   "source": [
    "# https://docs.nvidia.com/deeplearning/dali/user-guide/docs/plugins/tensorflow_plugin_api.html\n",
    "\n",
    "if __name__ == \"__main__\":\n",
    "    batch_size = 1\n",
    "    shapes = ((batch_size, 64, 64, 3),\n",
    "              (batch_size, 22))\n",
    "    pipe_train = TFRecordPipelineTrain(batch_size=batch_size, \n",
    "                            num_threads=4, \n",
    "                            device='gpu', \n",
    "                            device_id=0)\n",
    "\n",
    "    with tf.device('/gpu:0'):\n",
    "        ds_train = dali_tf.DALIDataset(\n",
    "            pipeline=pipe_train,\n",
    "            batch_size=batch_size,\n",
    "            output_shapes=shapes,\n",
    "            output_dtypes=(tf.float32, tf.int64),\n",
    "            device_id=0)\n",
    "        loss, acc = clf.evaluate(ds_train, steps=TRAIN_DATA_SIZE)\n",
    "        print(\"Train accuracy:\", acc)\n",
    "        #predictions = clf.predict(ds_train.take(1))\n",
    "        #print(\"A test output from the last layer:\", predictions[0])\n",
    "        #print(\"Index of the maximum value:\", np.argmax(predictions[0]))\n",
    "        #print(\"Label:\", LABELS[np.argmax(predictions[0])])"
   ]
  },
  {
   "cell_type": "code",
   "execution_count": 34,
   "metadata": {},
   "outputs": [
    {
     "name": "stdout",
     "output_type": "stream",
     "text": [
      "time: 4min 7s (started: 2021-12-07 07:26:28 +00:00)\n"
     ]
    }
   ],
   "source": [
    "pred_train = clf.predict(ds_train.take(TRAIN_DATA_SIZE))"
   ]
  },
  {
   "cell_type": "code",
   "execution_count": 35,
   "metadata": {},
   "outputs": [
    {
     "name": "stdout",
     "output_type": "stream",
     "text": [
      "time: 5.85 s (started: 2021-12-07 07:30:35 +00:00)\n"
     ]
    }
   ],
   "source": [
    "true_train = np.concatenate([y for x, y in ds_train.take(TRAIN_DATA_SIZE)], axis=0)"
   ]
  },
  {
   "cell_type": "code",
   "execution_count": 36,
   "metadata": {},
   "outputs": [
    {
     "data": {
      "text/plain": [
       "(15840, 22)"
      ]
     },
     "execution_count": 36,
     "metadata": {},
     "output_type": "execute_result"
    },
    {
     "name": "stdout",
     "output_type": "stream",
     "text": [
      "time: 2.6 ms (started: 2021-12-07 07:30:41 +00:00)\n"
     ]
    }
   ],
   "source": [
    "true_train.shape"
   ]
  },
  {
   "cell_type": "code",
   "execution_count": 37,
   "metadata": {},
   "outputs": [
    {
     "data": {
      "text/plain": [
       "array([[ 218,    0,   10,    5,    0,    1,    0,    1,    0,    0,    4,\n",
       "          11,    0,    0,    0,    0,    0,    0,    0,    0,    0,    0],\n",
       "       [   0,  200,    0,    5,   10,    0,    0,    0,    0,    0,    1,\n",
       "           4,    0,    0,    0,    1,    0,    2,    0,    1,    0,    0],\n",
       "       [   0,    0, 2125,   19,    0,    0,    2,    0,    0,    0,   19,\n",
       "           5,    1,    0,    0,    0,    0,    1,    0,    0,    0,    0],\n",
       "       [   2,    0,  152, 5699,   40,    5,    7,    4,    0,    0,  112,\n",
       "          27,    4,    0,    1,    3,    0,    6,    5,    0,    0,    1],\n",
       "       [   1,    0,   13,   10,  703,    0,    0,    0,    0,    0,    3,\n",
       "          12,    3,    0,    0,    1,    0,    8,    0,    7,    0,    0],\n",
       "       [   0,    0,   25,   16,    0,  196,    0,    0,    0,    0,    2,\n",
       "           0,    0,    0,    0,    0,    0,    0,    0,    0,    0,    1],\n",
       "       [   0,    0,    6,    5,    5,    0,  107,    2,    0,    0,    2,\n",
       "           1,    0,    0,    0,    0,    0,    0,    0,    0,    0,    0],\n",
       "       [   0,    0,   28,   27,   25,    0,    0,  626,    0,    0,   11,\n",
       "          10,    0,    0,    0,    0,    0,    1,    5,    1,    0,    0],\n",
       "       [   0,    0,    5,    0,    3,    0,    1,    0,   89,    0,   13,\n",
       "           3,    1,    0,    0,    0,    1,    0,    3,    0,    0,    0],\n",
       "       [   0,    0,    2,    4,    0,    0,    0,    1,    0,   51,    1,\n",
       "           0,    0,    0,    0,    0,    0,    0,    0,    0,    0,    0],\n",
       "       [   0,    0,   32,   17,    3,    0,    1,    3,    0,    0, 1471,\n",
       "          14,    0,    0,    0,    1,    0,    1,    0,    0,    0,    1],\n",
       "       [   0,    0,   11,   13,    9,    0,    0,    3,    0,    0,   16,\n",
       "        1303,    3,    0,    0,    0,    0,    2,    0,    2,    0,    0],\n",
       "       [   1,    0,   15,   20,   11,    3,    0,    3,    0,    0,    1,\n",
       "           3,  344,    0,    0,    0,    0,    1,    2,    2,    0,    1],\n",
       "       [   0,    0,    2,    1,    0,    0,    0,    0,    0,    0,    0,\n",
       "           3,    0,   16,    0,    0,    0,    0,    0,    0,    0,    0],\n",
       "       [   0,    0,    2,    0,    1,    0,    0,    1,    0,    0,    6,\n",
       "           4,    0,    0,  147,    0,    0,    0,    1,    0,    0,    0],\n",
       "       [   0,    0,   19,   20,    2,    1,    1,    1,    0,    0,   17,\n",
       "           0,    1,    0,    0,  300,    0,    1,    0,    0,    1,    0],\n",
       "       [   0,    0,   19,   10,    0,    0,    0,    3,    2,    0,    3,\n",
       "           3,    6,    0,    0,    0,  294,    0,    0,    1,    0,    0],\n",
       "       [   0,    0,   14,   20,    5,    0,    0,    1,    0,    0,    5,\n",
       "           2,    0,    0,    0,    4,    0,  328,    1,    0,    0,    0],\n",
       "       [   0,    0,    4,    0,    0,    0,    0,    2,    0,    0,    4,\n",
       "           1,    0,    0,    0,    0,    0,    0,  128,    0,    0,    1],\n",
       "       [   0,    0,   10,    2,    0,    0,    0,    0,    0,    0,    1,\n",
       "           6,    0,    0,    0,    0,    0,    0,    0,  104,    0,    0],\n",
       "       [   1,    0,    8,   20,    2,    0,    0,    2,    0,    0,    2,\n",
       "           5,    0,    0,    0,    0,    0,    0,    0,    0,  107,    0],\n",
       "       [   0,    0,    2,    1,    1,    0,    2,    0,    0,    0,    2,\n",
       "           0,    0,    0,    0,    1,    0,    0,    0,    0,    0,   84]])"
      ]
     },
     "execution_count": 37,
     "metadata": {},
     "output_type": "execute_result"
    },
    {
     "name": "stdout",
     "output_type": "stream",
     "text": [
      "time: 123 ms (started: 2021-12-07 07:30:41 +00:00)\n"
     ]
    }
   ],
   "source": [
    "pred_train_ls = []\n",
    "true_train_ls = []\n",
    "for (pred, true) in zip(pred_train, true_train):\n",
    "    pred_train_ls.append(np.argmax(pred))\n",
    "    true_train_ls.append(np.argmax(true))\n",
    "\n",
    "cf_matrix_train = confusion_matrix(true_train_ls, pred_train_ls)\n",
    "cf_matrix_train"
   ]
  },
  {
   "cell_type": "code",
   "execution_count": 38,
   "metadata": {},
   "outputs": [
    {
     "data": {
      "text/plain": [
       "Text(123.0, 0.5, 'True')"
      ]
     },
     "execution_count": 38,
     "metadata": {},
     "output_type": "execute_result"
    },
    {
     "data": {
      "image/png": "[encoded data removed]",
      "text/plain": [
       "<Figure size 1152x1152 with 2 Axes>"
      ]
     },
     "metadata": {
      "needs_background": "light"
     },
     "output_type": "display_data"
    },
    {
     "name": "stdout",
     "output_type": "stream",
     "text": [
      "time: 2.42 s (started: 2021-12-07 07:30:41 +00:00)\n"
     ]
    }
   ],
   "source": [
    "plt.figure(figsize = (16,16))\n",
    "sns.heatmap(cf_matrix_train, annot=True, cmap='Blues', xticklabels=LABELS, yticklabels=LABELS, fmt='g')\n",
    "plt.title('ResNet50: 22 Class FER (Train Data)')\n",
    "plt.xlabel('Predicted')\n",
    "plt.ylabel('True')"
   ]
  },
  {
   "cell_type": "code",
   "execution_count": null,
   "metadata": {},
   "outputs": [],
   "source": []
  }
 ],
 "metadata": {
  "accelerator": "GPU",
  "colab": {
   "collapsed_sections": [
    "cTp8rILehFDd"
   ],
   "name": "How to solve Multi-Label Classification Problems in Deep Learning with Tensorflow & Keras.ipynb",
   "provenance": []
  },
  "kernelspec": {
   "display_name": "Python 3",
   "language": "python",
   "name": "python3"
  },
  "language_info": {
   "codemirror_mode": {
    "name": "ipython",
    "version": 3
   },
   "file_extension": ".py",
   "mimetype": "text/x-python",
   "name": "python",
   "nbconvert_exporter": "python",
   "pygments_lexer": "ipython3",
   "version": "3.6.9"
  }
 },
 "nbformat": 4,
 "nbformat_minor": 1
}
