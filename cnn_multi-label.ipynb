{
 "cells": [
  {
   "cell_type": "markdown",
   "metadata": {},
   "source": [
    "This notebook contains the code used in the BigComp 2022 paper:\n",
    "Heeryon Cho, Woo-Kyu Kang, Younsoo Park, Sungeu Chae, and Seong-joon Kim, \"Multi-label Facial Emotion Recognition Using Korean Drama Movie Clips,\" BigComp 2022.\n",
    "\n",
    "### Convolutional Neural Network (CNN) / Classify Multi-label Emotions"
   ]
  },
  {
   "cell_type": "code",
   "execution_count": 1,
   "metadata": {},
   "outputs": [],
   "source": [
    "import tensorflow as tf\n",
    "from tensorflow import keras\n",
    "import matplotlib.pyplot as plt\n",
    "import numpy as np\n",
    "import pandas as pd\n",
    "import random as rn\n",
    "import os"
   ]
  },
  {
   "cell_type": "code",
   "execution_count": 2,
   "metadata": {},
   "outputs": [],
   "source": [
    "import warnings\n",
    "import logging\n",
    "logging.getLogger('tensorflow').disabled = True\n",
    "warnings.filterwarnings(\"ignore\")\n",
    "os.environ['TF_CPP_MIN_LOG_LEVEL'] = '3'"
   ]
  },
  {
   "cell_type": "code",
   "execution_count": 3,
   "metadata": {},
   "outputs": [
    {
     "name": "stdout",
     "output_type": "stream",
     "text": [
      "time: 224 µs (started: 2021-12-07 10:48:36 +00:00)\n"
     ]
    }
   ],
   "source": [
    "# Record cell run time.\n",
    "#!pip install ipython-autotime\n",
    "\n",
    "%load_ext autotime"
   ]
  },
  {
   "cell_type": "code",
   "execution_count": 4,
   "metadata": {},
   "outputs": [
    {
     "name": "stdout",
     "output_type": "stream",
     "text": [
      "time: 1.48 ms (started: 2021-12-07 10:48:36 +00:00)\n"
     ]
    }
   ],
   "source": [
    "# Set seed for reproducibility.\n",
    "\n",
    "set_seed = 46\n",
    "np.random.seed(set_seed)\n",
    "rn.seed(set_seed)\n",
    "tf.random.set_seed(set_seed)"
   ]
  },
  {
   "cell_type": "markdown",
   "metadata": {},
   "source": [
    "### Load label data."
   ]
  },
  {
   "cell_type": "code",
   "execution_count": 5,
   "metadata": {},
   "outputs": [
    {
     "name": "stdout",
     "output_type": "stream",
     "text": [
      "Index(['img_id', 'clip_id', 'moved', 'fearful', 'bored', 'surprised', 'angry',\n",
      "       'anxious', 'smitten', 'fluttered', 'disappointed', 'fulfilled',\n",
      "       'ashamed', 'sad', 'upset', 'sympathetic', 'passionate', 'depressed',\n",
      "       'amused', 'affectionate', 'guilty', 'neutral', 'jealous', 'peaceful',\n",
      "       'happy', 'disgusted'],\n",
      "      dtype='object')\n",
      "(38817, 26)\n",
      "LABELS= ['moved', 'fearful', 'bored', 'surprised', 'angry', 'anxious', 'smitten', 'fluttered', 'disappointed', 'fulfilled', 'ashamed', 'sad', 'upset', 'sympathetic', 'passionate', 'depressed', 'amused', 'affectionate', 'guilty', 'neutral', 'jealous', 'peaceful', 'happy', 'disgusted']\n",
      "All classes: 24\n",
      "TRAIN_DATA_SIZE: 31053\n",
      "VALID_DATA_SIZE: 3882\n",
      "TEST_DATA_SIZE: 3882\n",
      "time: 162 ms (started: 2021-12-07 10:48:36 +00:00)\n"
     ]
    }
   ],
   "source": [
    "# Load labels, check headers, check data shape.\n",
    "\n",
    "df_label = pd.read_csv('label/label_multi-label.csv')\n",
    "print(df_label.columns)\n",
    "print(df_label.shape)\n",
    "\n",
    "LABELS = list(df_label.columns[2:])\n",
    "print(\"LABELS=\", LABELS)\n",
    "print(\"All classes:\", len(LABELS))\n",
    "\n",
    "label_valid = pd.read_csv('label/label_multi-label_valid.csv')\n",
    "label_train = pd.read_csv('label/label_multi-label_train.csv')\n",
    "label_test = pd.read_csv('label/label_multi-label_test.csv')\n",
    "\n",
    "VALID_DATA_SIZE = label_valid.shape[0]\n",
    "TRAIN_DATA_SIZE = label_train.shape[0]\n",
    "TEST_DATA_SIZE = label_test.shape[0]\n",
    "\n",
    "print(\"TRAIN_DATA_SIZE:\", label_train.shape[0])\n",
    "print(\"VALID_DATA_SIZE:\", label_valid.shape[0])\n",
    "print(\"TEST_DATA_SIZE:\", label_test.shape[0])"
   ]
  },
  {
   "cell_type": "markdown",
   "metadata": {},
   "source": [
    "### Define training pipeline."
   ]
  },
  {
   "cell_type": "code",
   "execution_count": 6,
   "metadata": {},
   "outputs": [
    {
     "name": "stdout",
     "output_type": "stream",
     "text": [
      "time: 90.1 ms (started: 2021-12-07 10:48:36 +00:00)\n"
     ]
    }
   ],
   "source": [
    "from nvidia.dali.pipeline import Pipeline\n",
    "import nvidia.dali.ops as ops\n",
    "import nvidia.dali.fn as fn\n",
    "import nvidia.dali.types as types\n",
    "import nvidia.dali.tfrecord as tfrec\n",
    "import nvidia.dali.plugin.tf as dali_tf\n",
    "\n",
    "class TFRecordPipelineTrain(Pipeline):\n",
    "    def __init__(self, batch_size, num_threads,\n",
    "                 device = 'cpu', device_id = 0):\n",
    "        super(TFRecordPipelineTrain, self).__init__(batch_size,\n",
    "                                         num_threads,\n",
    "                                         device_id)\n",
    "        self.input = fn.readers.tfrecord(        \n",
    "             features = {\"image_raw\": tfrec.FixedLenFeature((), tfrec.string, \"\"),\n",
    "                         \"label\": tfrec.FixedLenFeature([24], tfrec.int64,  24)},\n",
    "             path = ['./tfrecords/multi-label_train.tfrecords'],\n",
    "             index_path = ['./tfrecords/multi-label_train.idx'],\n",
    "             random_shuffle=True,\n",
    "             seed = set_seed)\n",
    "        self.iter = 0\n",
    "    def define_graph(self):\n",
    "        inputs = self.input\n",
    "        images = fn.decoders.image(inputs[\"image_raw\"], device = \"mixed\", output_type = types.RGB) / 255.\n",
    "        labels = inputs[\"label\"].gpu()\n",
    "        return (images, labels)\n",
    "    def iter_setup(self):\n",
    "        pass"
   ]
  },
  {
   "cell_type": "markdown",
   "metadata": {},
   "source": [
    "### Define validation pipeline."
   ]
  },
  {
   "cell_type": "code",
   "execution_count": 7,
   "metadata": {},
   "outputs": [
    {
     "name": "stdout",
     "output_type": "stream",
     "text": [
      "time: 1.74 ms (started: 2021-12-07 10:48:36 +00:00)\n"
     ]
    }
   ],
   "source": [
    "class TFRecordPipelineValid(Pipeline):\n",
    "    def __init__(self, batch_size, num_threads,\n",
    "                 device = 'cpu', device_id = 0):\n",
    "        super(TFRecordPipelineValid, self).__init__(batch_size,\n",
    "                                         num_threads,\n",
    "                                         device_id)\n",
    "        self.input = fn.readers.tfrecord(        \n",
    "             features = {\"image_raw\": tfrec.FixedLenFeature((), tfrec.string, \"\"),\n",
    "                         \"label\": tfrec.FixedLenFeature([24], tfrec.int64,  24)},\n",
    "             path = ['./tfrecords/multi-label_valid.tfrecords'],\n",
    "             index_path = ['./tfrecords/multi-label_valid.idx'],\n",
    "             random_shuffle=False,\n",
    "             seed = set_seed)\n",
    "        self.iter = 0\n",
    "    def define_graph(self):\n",
    "        inputs = self.input\n",
    "        images = fn.decoders.image(inputs[\"image_raw\"], device = \"mixed\", output_type = types.RGB) / 255.\n",
    "        labels = inputs[\"label\"].gpu()\n",
    "        return (images, labels)\n",
    "    def iter_setup(self):\n",
    "        pass"
   ]
  },
  {
   "cell_type": "markdown",
   "metadata": {},
   "source": [
    "### Train CNN model for classifying multi-label emotions."
   ]
  },
  {
   "cell_type": "code",
   "execution_count": 8,
   "metadata": {},
   "outputs": [
    {
     "name": "stdout",
     "output_type": "stream",
     "text": [
      "Model: \"model\"\n",
      "_________________________________________________________________\n",
      "Layer (type)                 Output Shape              Param #   \n",
      "=================================================================\n",
      "input_1 (InputLayer)         [(None, 64, 64, 3)]       0         \n",
      "_________________________________________________________________\n",
      "conv2d (Conv2D)              (None, 64, 64, 128)       9728      \n",
      "_________________________________________________________________\n",
      "dropout (Dropout)            (None, 64, 64, 128)       0         \n",
      "_________________________________________________________________\n",
      "conv2d_1 (Conv2D)            (None, 64, 64, 64)        204864    \n",
      "_________________________________________________________________\n",
      "dropout_1 (Dropout)          (None, 64, 64, 64)        0         \n",
      "_________________________________________________________________\n",
      "conv2d_2 (Conv2D)            (None, 64, 64, 32)        51232     \n",
      "_________________________________________________________________\n",
      "dropout_2 (Dropout)          (None, 64, 64, 32)        0         \n",
      "_________________________________________________________________\n",
      "flatten (Flatten)            (None, 131072)            0         \n",
      "_________________________________________________________________\n",
      "dense (Dense)                (None, 24)                3145752   \n",
      "=================================================================\n",
      "Total params: 3,411,576\n",
      "Trainable params: 3,411,576\n",
      "Non-trainable params: 0\n",
      "_________________________________________________________________\n",
      "Epoch 1/1000\n",
      "485/485 [==============================] - 14s 22ms/step - loss: 0.2189 - accuracy: 0.2827 - val_loss: 0.2068 - val_accuracy: 0.3076\n",
      "Epoch 2/1000\n",
      "485/485 [==============================] - 10s 22ms/step - loss: 0.1996 - accuracy: 0.2963 - val_loss: 0.2015 - val_accuracy: 0.3063\n",
      "Epoch 3/1000\n",
      "485/485 [==============================] - 10s 22ms/step - loss: 0.1940 - accuracy: 0.3064 - val_loss: 0.1995 - val_accuracy: 0.2977\n",
      "Epoch 4/1000\n",
      "485/485 [==============================] - 11s 22ms/step - loss: 0.1891 - accuracy: 0.3091 - val_loss: 0.1921 - val_accuracy: 0.3208\n",
      "Epoch 5/1000\n",
      "485/485 [==============================] - 11s 22ms/step - loss: 0.1846 - accuracy: 0.3166 - val_loss: 0.1849 - val_accuracy: 0.3352\n",
      "Epoch 6/1000\n",
      "485/485 [==============================] - 10s 22ms/step - loss: 0.1801 - accuracy: 0.3279 - val_loss: 0.1805 - val_accuracy: 0.3456\n",
      "Epoch 7/1000\n",
      "485/485 [==============================] - 10s 22ms/step - loss: 0.1756 - accuracy: 0.3397 - val_loss: 0.1784 - val_accuracy: 0.3453\n",
      "Epoch 8/1000\n",
      "485/485 [==============================] - 11s 22ms/step - loss: 0.1717 - accuracy: 0.3468 - val_loss: 0.1732 - val_accuracy: 0.3578\n",
      "Epoch 9/1000\n",
      "485/485 [==============================] - 11s 22ms/step - loss: 0.1680 - accuracy: 0.3543 - val_loss: 0.1675 - val_accuracy: 0.3745\n",
      "Epoch 10/1000\n",
      "485/485 [==============================] - 11s 22ms/step - loss: 0.1648 - accuracy: 0.3612 - val_loss: 0.1665 - val_accuracy: 0.3648\n",
      "Epoch 11/1000\n",
      "485/485 [==============================] - 11s 22ms/step - loss: 0.1613 - accuracy: 0.3704 - val_loss: 0.1616 - val_accuracy: 0.3812\n",
      "Epoch 12/1000\n",
      "485/485 [==============================] - 11s 22ms/step - loss: 0.1582 - accuracy: 0.3765 - val_loss: 0.1594 - val_accuracy: 0.3745\n",
      "Epoch 13/1000\n",
      "485/485 [==============================] - 11s 22ms/step - loss: 0.1549 - accuracy: 0.3830 - val_loss: 0.1556 - val_accuracy: 0.3880\n",
      "Epoch 14/1000\n",
      "485/485 [==============================] - 11s 22ms/step - loss: 0.1519 - accuracy: 0.3919 - val_loss: 0.1526 - val_accuracy: 0.4047\n",
      "Epoch 15/1000\n",
      "485/485 [==============================] - 11s 22ms/step - loss: 0.1487 - accuracy: 0.3992 - val_loss: 0.1493 - val_accuracy: 0.4182\n",
      "Epoch 16/1000\n",
      "485/485 [==============================] - 11s 22ms/step - loss: 0.1457 - accuracy: 0.4071 - val_loss: 0.1463 - val_accuracy: 0.4159\n",
      "Epoch 17/1000\n",
      "485/485 [==============================] - 11s 22ms/step - loss: 0.1423 - accuracy: 0.4150 - val_loss: 0.1438 - val_accuracy: 0.4339\n",
      "Epoch 18/1000\n",
      "485/485 [==============================] - 11s 22ms/step - loss: 0.1394 - accuracy: 0.4248 - val_loss: 0.1403 - val_accuracy: 0.4320\n",
      "Epoch 19/1000\n",
      "485/485 [==============================] - 11s 22ms/step - loss: 0.1364 - accuracy: 0.4315 - val_loss: 0.1378 - val_accuracy: 0.4461\n",
      "Epoch 20/1000\n",
      "485/485 [==============================] - 11s 22ms/step - loss: 0.1334 - accuracy: 0.4404 - val_loss: 0.1343 - val_accuracy: 0.4523\n",
      "Epoch 21/1000\n",
      "485/485 [==============================] - 11s 22ms/step - loss: 0.1305 - accuracy: 0.4464 - val_loss: 0.1323 - val_accuracy: 0.4620\n",
      "Epoch 22/1000\n",
      "485/485 [==============================] - 11s 22ms/step - loss: 0.1272 - accuracy: 0.4569 - val_loss: 0.1295 - val_accuracy: 0.4661\n",
      "Epoch 23/1000\n",
      "485/485 [==============================] - 11s 22ms/step - loss: 0.1248 - accuracy: 0.4615 - val_loss: 0.1274 - val_accuracy: 0.4591\n",
      "Epoch 24/1000\n",
      "485/485 [==============================] - 11s 22ms/step - loss: 0.1223 - accuracy: 0.4649 - val_loss: 0.1250 - val_accuracy: 0.4750\n",
      "Epoch 25/1000\n",
      "485/485 [==============================] - 11s 22ms/step - loss: 0.1197 - accuracy: 0.4740 - val_loss: 0.1229 - val_accuracy: 0.4810\n",
      "Epoch 26/1000\n",
      "485/485 [==============================] - 11s 22ms/step - loss: 0.1173 - accuracy: 0.4841 - val_loss: 0.1205 - val_accuracy: 0.4732\n",
      "Epoch 27/1000\n",
      "485/485 [==============================] - 11s 22ms/step - loss: 0.1148 - accuracy: 0.4872 - val_loss: 0.1186 - val_accuracy: 0.4896\n",
      "Epoch 28/1000\n",
      "485/485 [==============================] - 11s 22ms/step - loss: 0.1128 - accuracy: 0.4881 - val_loss: 0.1172 - val_accuracy: 0.4878\n",
      "Epoch 29/1000\n",
      "485/485 [==============================] - 10s 22ms/step - loss: 0.1106 - accuracy: 0.4982 - val_loss: 0.1147 - val_accuracy: 0.5021\n",
      "Epoch 30/1000\n",
      "485/485 [==============================] - 10s 22ms/step - loss: 0.1085 - accuracy: 0.5065 - val_loss: 0.1133 - val_accuracy: 0.4958\n",
      "Epoch 31/1000\n",
      "485/485 [==============================] - 11s 22ms/step - loss: 0.1062 - accuracy: 0.5067 - val_loss: 0.1112 - val_accuracy: 0.5042\n",
      "Epoch 32/1000\n",
      "485/485 [==============================] - 11s 22ms/step - loss: 0.1043 - accuracy: 0.5116 - val_loss: 0.1097 - val_accuracy: 0.5161\n",
      "Epoch 33/1000\n",
      "485/485 [==============================] - 11s 22ms/step - loss: 0.1025 - accuracy: 0.5170 - val_loss: 0.1079 - val_accuracy: 0.5125\n",
      "Epoch 34/1000\n",
      "485/485 [==============================] - 11s 23ms/step - loss: 0.1003 - accuracy: 0.5247 - val_loss: 0.1067 - val_accuracy: 0.5148\n",
      "Epoch 35/1000\n",
      "485/485 [==============================] - 11s 22ms/step - loss: 0.0989 - accuracy: 0.5255 - val_loss: 0.1055 - val_accuracy: 0.5138\n",
      "Epoch 36/1000\n",
      "485/485 [==============================] - 11s 22ms/step - loss: 0.0971 - accuracy: 0.5324 - val_loss: 0.1040 - val_accuracy: 0.5198\n",
      "Epoch 37/1000\n",
      "485/485 [==============================] - 11s 22ms/step - loss: 0.0955 - accuracy: 0.5331 - val_loss: 0.1029 - val_accuracy: 0.5151\n",
      "Epoch 38/1000\n",
      "485/485 [==============================] - 11s 22ms/step - loss: 0.0940 - accuracy: 0.5358 - val_loss: 0.1017 - val_accuracy: 0.5122\n",
      "Epoch 39/1000\n",
      "485/485 [==============================] - 11s 22ms/step - loss: 0.0920 - accuracy: 0.5411 - val_loss: 0.1007 - val_accuracy: 0.5203\n",
      "Epoch 40/1000\n",
      "485/485 [==============================] - 11s 22ms/step - loss: 0.0909 - accuracy: 0.5452 - val_loss: 0.0995 - val_accuracy: 0.5224\n",
      "Epoch 41/1000\n",
      "485/485 [==============================] - 11s 22ms/step - loss: 0.0893 - accuracy: 0.5505 - val_loss: 0.0983 - val_accuracy: 0.5307\n",
      "Epoch 42/1000\n",
      "485/485 [==============================] - 10s 22ms/step - loss: 0.0876 - accuracy: 0.5532 - val_loss: 0.0973 - val_accuracy: 0.5253\n",
      "Epoch 43/1000\n",
      "485/485 [==============================] - 11s 22ms/step - loss: 0.0866 - accuracy: 0.5563 - val_loss: 0.0962 - val_accuracy: 0.5276\n",
      "Epoch 44/1000\n",
      "485/485 [==============================] - 11s 22ms/step - loss: 0.0855 - accuracy: 0.5577 - val_loss: 0.0955 - val_accuracy: 0.5352\n",
      "Epoch 45/1000\n",
      "485/485 [==============================] - 11s 22ms/step - loss: 0.0839 - accuracy: 0.5594 - val_loss: 0.0944 - val_accuracy: 0.5331\n",
      "Epoch 46/1000\n"
     ]
    },
    {
     "name": "stdout",
     "output_type": "stream",
     "text": [
      "485/485 [==============================] - 11s 22ms/step - loss: 0.0827 - accuracy: 0.5637 - val_loss: 0.0935 - val_accuracy: 0.5349\n",
      "Epoch 47/1000\n",
      "485/485 [==============================] - 11s 22ms/step - loss: 0.0813 - accuracy: 0.5692 - val_loss: 0.0930 - val_accuracy: 0.5378\n",
      "Epoch 48/1000\n",
      "485/485 [==============================] - 11s 22ms/step - loss: 0.0799 - accuracy: 0.5715 - val_loss: 0.0921 - val_accuracy: 0.5344\n",
      "Epoch 49/1000\n",
      "485/485 [==============================] - 11s 22ms/step - loss: 0.0792 - accuracy: 0.5736 - val_loss: 0.0909 - val_accuracy: 0.5302\n",
      "Epoch 50/1000\n",
      "485/485 [==============================] - 11s 22ms/step - loss: 0.0777 - accuracy: 0.5744 - val_loss: 0.0905 - val_accuracy: 0.5354\n",
      "Epoch 51/1000\n",
      "485/485 [==============================] - 11s 22ms/step - loss: 0.0768 - accuracy: 0.5786 - val_loss: 0.0901 - val_accuracy: 0.5440\n",
      "Epoch 52/1000\n",
      "485/485 [==============================] - 11s 22ms/step - loss: 0.0758 - accuracy: 0.5790 - val_loss: 0.0895 - val_accuracy: 0.5448\n",
      "Epoch 53/1000\n",
      "485/485 [==============================] - 11s 22ms/step - loss: 0.0747 - accuracy: 0.5821 - val_loss: 0.0881 - val_accuracy: 0.5357\n",
      "Epoch 54/1000\n",
      "485/485 [==============================] - 11s 22ms/step - loss: 0.0740 - accuracy: 0.5856 - val_loss: 0.0883 - val_accuracy: 0.5437\n",
      "Epoch 55/1000\n",
      "485/485 [==============================] - 11s 22ms/step - loss: 0.0729 - accuracy: 0.5857 - val_loss: 0.0875 - val_accuracy: 0.5461\n",
      "Epoch 56/1000\n",
      "485/485 [==============================] - 11s 22ms/step - loss: 0.0718 - accuracy: 0.5880 - val_loss: 0.0870 - val_accuracy: 0.5435\n",
      "Epoch 57/1000\n",
      "485/485 [==============================] - 11s 22ms/step - loss: 0.0711 - accuracy: 0.5894 - val_loss: 0.0863 - val_accuracy: 0.5365\n",
      "Epoch 58/1000\n",
      "485/485 [==============================] - 11s 22ms/step - loss: 0.0700 - accuracy: 0.5905 - val_loss: 0.0855 - val_accuracy: 0.5464\n",
      "Epoch 59/1000\n",
      "485/485 [==============================] - 11s 22ms/step - loss: 0.0692 - accuracy: 0.5935 - val_loss: 0.0849 - val_accuracy: 0.5482\n",
      "Epoch 60/1000\n",
      "485/485 [==============================] - 11s 22ms/step - loss: 0.0683 - accuracy: 0.5975 - val_loss: 0.0847 - val_accuracy: 0.5534\n",
      "Epoch 61/1000\n",
      "485/485 [==============================] - 11s 22ms/step - loss: 0.0673 - accuracy: 0.5980 - val_loss: 0.0841 - val_accuracy: 0.5560\n",
      "Epoch 62/1000\n",
      "485/485 [==============================] - 11s 22ms/step - loss: 0.0663 - accuracy: 0.6008 - val_loss: 0.0836 - val_accuracy: 0.5505\n",
      "Epoch 63/1000\n",
      "485/485 [==============================] - 11s 22ms/step - loss: 0.0657 - accuracy: 0.6025 - val_loss: 0.0829 - val_accuracy: 0.5482\n",
      "Epoch 64/1000\n",
      "485/485 [==============================] - 11s 22ms/step - loss: 0.0646 - accuracy: 0.6040 - val_loss: 0.0829 - val_accuracy: 0.5586\n",
      "Epoch 65/1000\n",
      "485/485 [==============================] - 11s 22ms/step - loss: 0.0643 - accuracy: 0.6066 - val_loss: 0.0823 - val_accuracy: 0.5479\n",
      "Epoch 66/1000\n",
      "485/485 [==============================] - 11s 22ms/step - loss: 0.0636 - accuracy: 0.6054 - val_loss: 0.0817 - val_accuracy: 0.5500\n",
      "Epoch 67/1000\n",
      "485/485 [==============================] - 11s 22ms/step - loss: 0.0625 - accuracy: 0.6094 - val_loss: 0.0819 - val_accuracy: 0.5448\n",
      "Epoch 68/1000\n",
      "485/485 [==============================] - 11s 22ms/step - loss: 0.0619 - accuracy: 0.6111 - val_loss: 0.0819 - val_accuracy: 0.5505\n",
      "Epoch 69/1000\n",
      "485/485 [==============================] - 11s 22ms/step - loss: 0.0615 - accuracy: 0.6120 - val_loss: 0.0809 - val_accuracy: 0.5503\n",
      "Epoch 70/1000\n",
      "485/485 [==============================] - 11s 22ms/step - loss: 0.0607 - accuracy: 0.6139 - val_loss: 0.0802 - val_accuracy: 0.5503\n",
      "Epoch 71/1000\n",
      "485/485 [==============================] - 11s 22ms/step - loss: 0.0597 - accuracy: 0.6168 - val_loss: 0.0805 - val_accuracy: 0.5591\n",
      "Epoch 72/1000\n",
      "485/485 [==============================] - 11s 22ms/step - loss: 0.0593 - accuracy: 0.6156 - val_loss: 0.0798 - val_accuracy: 0.5544\n",
      "Epoch 73/1000\n",
      "485/485 [==============================] - 11s 22ms/step - loss: 0.0585 - accuracy: 0.6177 - val_loss: 0.0795 - val_accuracy: 0.5549\n",
      "Epoch 74/1000\n",
      "485/485 [==============================] - 11s 22ms/step - loss: 0.0579 - accuracy: 0.6190 - val_loss: 0.0794 - val_accuracy: 0.5596\n",
      "Epoch 75/1000\n",
      "485/485 [==============================] - 11s 22ms/step - loss: 0.0573 - accuracy: 0.6209 - val_loss: 0.0788 - val_accuracy: 0.5521\n",
      "Epoch 76/1000\n",
      "485/485 [==============================] - 11s 22ms/step - loss: 0.0567 - accuracy: 0.6208 - val_loss: 0.0786 - val_accuracy: 0.5570\n",
      "Epoch 77/1000\n",
      "485/485 [==============================] - 11s 22ms/step - loss: 0.0560 - accuracy: 0.6234 - val_loss: 0.0788 - val_accuracy: 0.5628\n",
      "Epoch 78/1000\n",
      "485/485 [==============================] - 11s 22ms/step - loss: 0.0553 - accuracy: 0.6254 - val_loss: 0.0783 - val_accuracy: 0.5654\n",
      "Epoch 79/1000\n",
      "485/485 [==============================] - 11s 22ms/step - loss: 0.0549 - accuracy: 0.6235 - val_loss: 0.0777 - val_accuracy: 0.5661\n",
      "Epoch 80/1000\n",
      "485/485 [==============================] - 11s 22ms/step - loss: 0.0543 - accuracy: 0.6250 - val_loss: 0.0774 - val_accuracy: 0.5615\n",
      "Epoch 81/1000\n",
      "485/485 [==============================] - 11s 22ms/step - loss: 0.0536 - accuracy: 0.6253 - val_loss: 0.0773 - val_accuracy: 0.5573\n",
      "Epoch 82/1000\n",
      "485/485 [==============================] - 11s 22ms/step - loss: 0.0533 - accuracy: 0.6302 - val_loss: 0.0772 - val_accuracy: 0.5622\n",
      "Epoch 83/1000\n",
      "485/485 [==============================] - 11s 22ms/step - loss: 0.0527 - accuracy: 0.6287 - val_loss: 0.0767 - val_accuracy: 0.5628\n",
      "Epoch 84/1000\n",
      "485/485 [==============================] - 11s 22ms/step - loss: 0.0523 - accuracy: 0.6291 - val_loss: 0.0767 - val_accuracy: 0.5674\n",
      "Epoch 85/1000\n",
      "485/485 [==============================] - 11s 22ms/step - loss: 0.0517 - accuracy: 0.6353 - val_loss: 0.0766 - val_accuracy: 0.5576\n",
      "Epoch 86/1000\n",
      "485/485 [==============================] - 11s 22ms/step - loss: 0.0511 - accuracy: 0.6328 - val_loss: 0.0762 - val_accuracy: 0.5688\n",
      "Epoch 87/1000\n",
      "485/485 [==============================] - 11s 22ms/step - loss: 0.0509 - accuracy: 0.6348 - val_loss: 0.0766 - val_accuracy: 0.5646\n",
      "Epoch 88/1000\n",
      "485/485 [==============================] - 11s 22ms/step - loss: 0.0504 - accuracy: 0.6339 - val_loss: 0.0758 - val_accuracy: 0.5547\n",
      "Epoch 89/1000\n",
      "485/485 [==============================] - 11s 23ms/step - loss: 0.0499 - accuracy: 0.6384 - val_loss: 0.0755 - val_accuracy: 0.5612\n",
      "Epoch 90/1000\n",
      "485/485 [==============================] - 11s 22ms/step - loss: 0.0490 - accuracy: 0.6370 - val_loss: 0.0754 - val_accuracy: 0.5648\n",
      "Epoch 91/1000\n",
      "485/485 [==============================] - 11s 22ms/step - loss: 0.0485 - accuracy: 0.6444 - val_loss: 0.0754 - val_accuracy: 0.5648\n",
      "Epoch 92/1000\n",
      "485/485 [==============================] - 11s 22ms/step - loss: 0.0485 - accuracy: 0.6389 - val_loss: 0.0753 - val_accuracy: 0.5771\n",
      "Epoch 93/1000\n",
      "485/485 [==============================] - 11s 22ms/step - loss: 0.0482 - accuracy: 0.6392 - val_loss: 0.0750 - val_accuracy: 0.5693\n",
      "Epoch 94/1000\n",
      "485/485 [==============================] - 11s 22ms/step - loss: 0.0476 - accuracy: 0.6400 - val_loss: 0.0748 - val_accuracy: 0.5628\n",
      "Epoch 95/1000\n",
      "485/485 [==============================] - 11s 22ms/step - loss: 0.0469 - accuracy: 0.6432 - val_loss: 0.0753 - val_accuracy: 0.5714\n",
      "Epoch 96/1000\n",
      "485/485 [==============================] - 11s 22ms/step - loss: 0.0466 - accuracy: 0.6429 - val_loss: 0.0746 - val_accuracy: 0.5719\n",
      "Epoch 97/1000\n",
      "485/485 [==============================] - 11s 22ms/step - loss: 0.0467 - accuracy: 0.6399 - val_loss: 0.0746 - val_accuracy: 0.5612\n",
      "Epoch 98/1000\n",
      "485/485 [==============================] - 11s 22ms/step - loss: 0.0463 - accuracy: 0.6441 - val_loss: 0.0745 - val_accuracy: 0.5630\n",
      "Epoch 99/1000\n",
      "485/485 [==============================] - 11s 22ms/step - loss: 0.0458 - accuracy: 0.6448 - val_loss: 0.0745 - val_accuracy: 0.5758\n",
      "Epoch 100/1000\n",
      "485/485 [==============================] - 11s 22ms/step - loss: 0.0449 - accuracy: 0.6467 - val_loss: 0.0746 - val_accuracy: 0.5672\n",
      "Epoch 101/1000\n",
      "485/485 [==============================] - 11s 22ms/step - loss: 0.0450 - accuracy: 0.6424 - val_loss: 0.0739 - val_accuracy: 0.5633\n"
     ]
    },
    {
     "name": "stdout",
     "output_type": "stream",
     "text": [
      "Epoch 102/1000\n",
      "485/485 [==============================] - 11s 22ms/step - loss: 0.0444 - accuracy: 0.6458 - val_loss: 0.0740 - val_accuracy: 0.5690\n",
      "Epoch 103/1000\n",
      "485/485 [==============================] - 11s 22ms/step - loss: 0.0440 - accuracy: 0.6477 - val_loss: 0.0737 - val_accuracy: 0.5674\n",
      "Epoch 104/1000\n",
      "485/485 [==============================] - 11s 22ms/step - loss: 0.0435 - accuracy: 0.6497 - val_loss: 0.0734 - val_accuracy: 0.5690\n",
      "Epoch 105/1000\n",
      "485/485 [==============================] - 11s 22ms/step - loss: 0.0431 - accuracy: 0.6482 - val_loss: 0.0735 - val_accuracy: 0.5685\n",
      "Epoch 106/1000\n",
      "485/485 [==============================] - 11s 22ms/step - loss: 0.0431 - accuracy: 0.6471 - val_loss: 0.0735 - val_accuracy: 0.5740\n",
      "Epoch 107/1000\n",
      "485/485 [==============================] - 11s 22ms/step - loss: 0.0424 - accuracy: 0.6521 - val_loss: 0.0732 - val_accuracy: 0.5688\n",
      "Epoch 108/1000\n",
      "485/485 [==============================] - 11s 22ms/step - loss: 0.0426 - accuracy: 0.6475 - val_loss: 0.0735 - val_accuracy: 0.5724\n",
      "Epoch 109/1000\n",
      "485/485 [==============================] - 11s 22ms/step - loss: 0.0421 - accuracy: 0.6496 - val_loss: 0.0732 - val_accuracy: 0.5589\n",
      "Epoch 110/1000\n",
      "485/485 [==============================] - 11s 22ms/step - loss: 0.0419 - accuracy: 0.6517 - val_loss: 0.0732 - val_accuracy: 0.5688\n",
      "Epoch 111/1000\n",
      "485/485 [==============================] - 11s 22ms/step - loss: 0.0411 - accuracy: 0.6547 - val_loss: 0.0731 - val_accuracy: 0.5724\n",
      "Epoch 112/1000\n",
      "485/485 [==============================] - 11s 22ms/step - loss: 0.0412 - accuracy: 0.6540 - val_loss: 0.0729 - val_accuracy: 0.5698\n",
      "Epoch 113/1000\n",
      "485/485 [==============================] - 11s 22ms/step - loss: 0.0408 - accuracy: 0.6536 - val_loss: 0.0729 - val_accuracy: 0.5716\n",
      "Epoch 114/1000\n",
      "485/485 [==============================] - 11s 22ms/step - loss: 0.0404 - accuracy: 0.6534 - val_loss: 0.0729 - val_accuracy: 0.5758\n",
      "Epoch 115/1000\n",
      "485/485 [==============================] - 11s 22ms/step - loss: 0.0404 - accuracy: 0.6532 - val_loss: 0.0728 - val_accuracy: 0.5753\n",
      "Epoch 116/1000\n",
      "485/485 [==============================] - 11s 22ms/step - loss: 0.0402 - accuracy: 0.6543 - val_loss: 0.0728 - val_accuracy: 0.5674\n",
      "Epoch 117/1000\n",
      "485/485 [==============================] - 11s 22ms/step - loss: 0.0396 - accuracy: 0.6576 - val_loss: 0.0730 - val_accuracy: 0.5784\n",
      "Epoch 118/1000\n",
      "485/485 [==============================] - 11s 22ms/step - loss: 0.0396 - accuracy: 0.6538 - val_loss: 0.0727 - val_accuracy: 0.5792\n",
      "Epoch 119/1000\n",
      "485/485 [==============================] - 11s 22ms/step - loss: 0.0393 - accuracy: 0.6549 - val_loss: 0.0729 - val_accuracy: 0.5802\n",
      "Epoch 120/1000\n",
      "485/485 [==============================] - 11s 22ms/step - loss: 0.0391 - accuracy: 0.6604 - val_loss: 0.0723 - val_accuracy: 0.5721\n",
      "Epoch 121/1000\n",
      "485/485 [==============================] - 11s 22ms/step - loss: 0.0382 - accuracy: 0.6589 - val_loss: 0.0728 - val_accuracy: 0.5680\n",
      "Epoch 122/1000\n",
      "485/485 [==============================] - 11s 22ms/step - loss: 0.0387 - accuracy: 0.6555 - val_loss: 0.0725 - val_accuracy: 0.5745\n",
      "Epoch 123/1000\n",
      "485/485 [==============================] - 11s 22ms/step - loss: 0.0378 - accuracy: 0.6592 - val_loss: 0.0724 - val_accuracy: 0.5742\n",
      "Epoch 124/1000\n",
      "485/485 [==============================] - 11s 22ms/step - loss: 0.0377 - accuracy: 0.6591 - val_loss: 0.0725 - val_accuracy: 0.5729\n",
      "Epoch 125/1000\n",
      "485/485 [==============================] - 11s 22ms/step - loss: 0.0374 - accuracy: 0.6598 - val_loss: 0.0723 - val_accuracy: 0.5719\n",
      "Epoch 126/1000\n",
      "485/485 [==============================] - 11s 22ms/step - loss: 0.0371 - accuracy: 0.6603 - val_loss: 0.0724 - val_accuracy: 0.5758\n",
      "Epoch 127/1000\n",
      "485/485 [==============================] - 11s 22ms/step - loss: 0.0367 - accuracy: 0.6633 - val_loss: 0.0725 - val_accuracy: 0.5805\n",
      "Epoch 128/1000\n",
      "485/485 [==============================] - 11s 22ms/step - loss: 0.0370 - accuracy: 0.6625 - val_loss: 0.0723 - val_accuracy: 0.5820\n",
      "Epoch 129/1000\n",
      "485/485 [==============================] - 11s 22ms/step - loss: 0.0366 - accuracy: 0.6614 - val_loss: 0.0722 - val_accuracy: 0.5768\n",
      "Epoch 130/1000\n",
      "485/485 [==============================] - 11s 22ms/step - loss: 0.0364 - accuracy: 0.6616 - val_loss: 0.0722 - val_accuracy: 0.5831\n",
      "Epoch 131/1000\n",
      "485/485 [==============================] - 11s 22ms/step - loss: 0.0363 - accuracy: 0.6617 - val_loss: 0.0720 - val_accuracy: 0.5763\n",
      "Epoch 132/1000\n",
      "485/485 [==============================] - 11s 22ms/step - loss: 0.0357 - accuracy: 0.6663 - val_loss: 0.0723 - val_accuracy: 0.5742\n",
      "Epoch 133/1000\n",
      "485/485 [==============================] - 11s 22ms/step - loss: 0.0357 - accuracy: 0.6612 - val_loss: 0.0719 - val_accuracy: 0.5794\n",
      "Epoch 134/1000\n",
      "485/485 [==============================] - 11s 22ms/step - loss: 0.0353 - accuracy: 0.6647 - val_loss: 0.0723 - val_accuracy: 0.5763\n",
      "Epoch 135/1000\n",
      "485/485 [==============================] - 11s 22ms/step - loss: 0.0354 - accuracy: 0.6614 - val_loss: 0.0724 - val_accuracy: 0.5839\n",
      "Epoch 136/1000\n",
      "485/485 [==============================] - 11s 22ms/step - loss: 0.0349 - accuracy: 0.6656 - val_loss: 0.0719 - val_accuracy: 0.5839\n",
      "Epoch 137/1000\n",
      "485/485 [==============================] - 11s 22ms/step - loss: 0.0344 - accuracy: 0.6657 - val_loss: 0.0723 - val_accuracy: 0.5792\n",
      "Epoch 138/1000\n",
      "485/485 [==============================] - 11s 22ms/step - loss: 0.0345 - accuracy: 0.6675 - val_loss: 0.0720 - val_accuracy: 0.5768\n",
      "Epoch 139/1000\n",
      "485/485 [==============================] - 11s 22ms/step - loss: 0.0348 - accuracy: 0.6625 - val_loss: 0.0719 - val_accuracy: 0.5786\n",
      "Epoch 140/1000\n",
      "485/485 [==============================] - 11s 22ms/step - loss: 0.0341 - accuracy: 0.6674 - val_loss: 0.0720 - val_accuracy: 0.5839\n",
      "Epoch 141/1000\n",
      "485/485 [==============================] - 11s 22ms/step - loss: 0.0342 - accuracy: 0.6654 - val_loss: 0.0718 - val_accuracy: 0.5820\n",
      "Epoch 142/1000\n",
      "485/485 [==============================] - 11s 22ms/step - loss: 0.0339 - accuracy: 0.6627 - val_loss: 0.0716 - val_accuracy: 0.5813\n",
      "Epoch 143/1000\n",
      "485/485 [==============================] - 11s 22ms/step - loss: 0.0337 - accuracy: 0.6689 - val_loss: 0.0717 - val_accuracy: 0.5810\n",
      "Epoch 144/1000\n",
      "485/485 [==============================] - 11s 22ms/step - loss: 0.0335 - accuracy: 0.6652 - val_loss: 0.0722 - val_accuracy: 0.5781\n",
      "Epoch 145/1000\n",
      "485/485 [==============================] - 11s 22ms/step - loss: 0.0333 - accuracy: 0.6639 - val_loss: 0.0719 - val_accuracy: 0.5826\n",
      "Epoch 146/1000\n",
      "485/485 [==============================] - 11s 22ms/step - loss: 0.0332 - accuracy: 0.6648 - val_loss: 0.0716 - val_accuracy: 0.5768\n",
      "Epoch 147/1000\n",
      "485/485 [==============================] - 11s 22ms/step - loss: 0.0330 - accuracy: 0.6636 - val_loss: 0.0721 - val_accuracy: 0.5836\n",
      "Epoch 148/1000\n",
      "485/485 [==============================] - 11s 22ms/step - loss: 0.0329 - accuracy: 0.6654 - val_loss: 0.0720 - val_accuracy: 0.5901\n",
      "Epoch 149/1000\n",
      "485/485 [==============================] - 11s 22ms/step - loss: 0.0324 - accuracy: 0.6672 - val_loss: 0.0720 - val_accuracy: 0.5849\n",
      "Epoch 150/1000\n",
      "485/485 [==============================] - 11s 22ms/step - loss: 0.0322 - accuracy: 0.6674 - val_loss: 0.0718 - val_accuracy: 0.5807\n",
      "Epoch 151/1000\n",
      "485/485 [==============================] - 11s 22ms/step - loss: 0.0323 - accuracy: 0.6727 - val_loss: 0.0719 - val_accuracy: 0.5857\n",
      "Epoch 152/1000\n",
      "485/485 [==============================] - 11s 23ms/step - loss: 0.0318 - accuracy: 0.6736 - val_loss: 0.0722 - val_accuracy: 0.5862\n",
      "time: 27min 8s (started: 2021-12-07 10:48:36 +00:00)\n"
     ]
    }
   ],
   "source": [
    "if __name__ == \"__main__\":\n",
    "    batch_size = 64\n",
    "    shapes = ((batch_size, 64, 64, 3),\n",
    "              (batch_size, 24))\n",
    "    pipe_train = TFRecordPipelineTrain(batch_size=batch_size, \n",
    "                                 num_threads=1, \n",
    "                                 device='gpu', \n",
    "                                 device_id=0)\n",
    "\n",
    "    batch_size_valid = 64\n",
    "    shapes_valid = ((batch_size_valid, 64, 64, 3),\n",
    "                    (batch_size_valid, 24))\n",
    "    pipe_valid = TFRecordPipelineValid(batch_size=batch_size_valid, \n",
    "                                 num_threads=1, \n",
    "                                 device='gpu', \n",
    "                                 device_id=0)   \n",
    "    with tf.device('/gpu:0'):\n",
    "        ds_train = dali_tf.DALIDataset(\n",
    "            pipeline=pipe_train,\n",
    "            batch_size=batch_size,\n",
    "            output_shapes=shapes,\n",
    "            output_dtypes=(tf.float32, tf.int64),\n",
    "            device_id=0)\n",
    "\n",
    "        ds_valid = dali_tf.DALIDataset(\n",
    "            pipeline=pipe_valid,\n",
    "            batch_size=batch_size_valid,\n",
    "            output_shapes=shapes_valid,\n",
    "            output_dtypes=(tf.float32, tf.int64),\n",
    "            device_id=0)  \n",
    "      \n",
    "        initializer = keras.initializers.GlorotUniform(seed=set_seed)\n",
    "        activation =  keras.activations.sigmoid\n",
    "        lr_schedule = keras.optimizers.schedules.ExponentialDecay(\n",
    "            initial_learning_rate=1e-5,\n",
    "            decay_steps=TRAIN_DATA_SIZE // batch_size * 10,\n",
    "            decay_rate=0.95)        \n",
    "        \n",
    "        number_of_classes = 24\n",
    "        \n",
    "        inputs = keras.Input(shape=(64, 64, 3))\n",
    "        conv1 = keras.layers.Conv2D(128,(5, 5), padding='same', activation='relu')(inputs)\n",
    "        do1 = keras.layers.Dropout(0.5, seed=set_seed)(conv1)         \n",
    "        conv2 = keras.layers.Conv2D(64,(5, 5), padding='same', activation='relu')(do1)\n",
    "        do2 = keras.layers.Dropout(0.5, seed=set_seed)(conv2)         \n",
    "        conv3 = keras.layers.Conv2D(32,(5, 5), padding='same', activation='relu')(do2)\n",
    "        do3 = keras.layers.Dropout(0.5, seed=set_seed)(conv3)       \n",
    "        flatten = keras.layers.Flatten()(do3)   \n",
    "        outputs = keras.layers.Dense(number_of_classes,\n",
    "                             kernel_initializer=initializer,\n",
    "                             activation=activation)(flatten) \n",
    "        clf = keras.Model(inputs, outputs)\n",
    "        \n",
    "        clf.summary()\n",
    "\n",
    "        # Apply early stopping.        \n",
    "        es_callback = tf.keras.callbacks.EarlyStopping(monitor='val_loss', patience=10,\n",
    "                                                       restore_best_weights=True)          \n",
    "       \n",
    "        clf.compile(optimizer=keras.optimizers.Adam(learning_rate=lr_schedule),\n",
    "              loss=keras.losses.BinaryCrossentropy(), \n",
    "              metrics=['accuracy'])\n",
    "        \n",
    "        history = clf.fit(ds_train, steps_per_epoch=TRAIN_DATA_SIZE // batch_size, \n",
    "                          validation_data=ds_valid.take(VALID_DATA_SIZE // batch_size_valid),\n",
    "                          epochs=1000,\n",
    "                          callbacks=[es_callback])      "
   ]
  },
  {
   "cell_type": "code",
   "execution_count": 9,
   "metadata": {},
   "outputs": [
    {
     "name": "stdout",
     "output_type": "stream",
     "text": [
      "dict_keys(['loss', 'accuracy', 'val_loss', 'val_accuracy'])\n",
      "time: 638 µs (started: 2021-12-07 11:15:44 +00:00)\n"
     ]
    }
   ],
   "source": [
    "# List all data in history.\n",
    "\n",
    "print(history.history.keys())"
   ]
  },
  {
   "cell_type": "code",
   "execution_count": 10,
   "metadata": {},
   "outputs": [
    {
     "data": {
      "image/png": "[encoded data removed]",
      "text/plain": [
       "<Figure size 432x288 with 1 Axes>"
      ]
     },
     "metadata": {
      "needs_background": "light"
     },
     "output_type": "display_data"
    },
    {
     "name": "stdout",
     "output_type": "stream",
     "text": [
      "time: 213 ms (started: 2021-12-07 11:15:44 +00:00)\n"
     ]
    }
   ],
   "source": [
    "# Summarize history for accuracy.\n",
    "\n",
    "plt.plot(history.history['accuracy'])\n",
    "plt.plot(history.history['val_accuracy'])\n",
    "plt.title('model accuracy')\n",
    "plt.ylabel('accuracy')\n",
    "plt.xlabel('epoch')\n",
    "plt.legend(['train', 'valid'], loc='upper left')\n",
    "plt.show()"
   ]
  },
  {
   "cell_type": "code",
   "execution_count": 11,
   "metadata": {},
   "outputs": [
    {
     "data": {
      "image/png": "[encoded data removed]",
      "text/plain": [
       "<Figure size 432x288 with 1 Axes>"
      ]
     },
     "metadata": {
      "needs_background": "light"
     },
     "output_type": "display_data"
    },
    {
     "name": "stdout",
     "output_type": "stream",
     "text": [
      "time: 150 ms (started: 2021-12-07 11:15:44 +00:00)\n"
     ]
    }
   ],
   "source": [
    "# Summarize history for loss.\n",
    "\n",
    "plt.plot(history.history['loss'])\n",
    "plt.plot(history.history['val_loss'])\n",
    "plt.title('model loss')\n",
    "plt.ylabel('loss')\n",
    "plt.xlabel('epoch')\n",
    "plt.legend(['train', 'val'], loc='upper right')\n",
    "plt.show()"
   ]
  },
  {
   "cell_type": "markdown",
   "metadata": {},
   "source": [
    "### Define test pipeline."
   ]
  },
  {
   "cell_type": "code",
   "execution_count": 12,
   "metadata": {},
   "outputs": [
    {
     "name": "stdout",
     "output_type": "stream",
     "text": [
      "time: 1.89 ms (started: 2021-12-07 11:15:44 +00:00)\n"
     ]
    }
   ],
   "source": [
    "class TFRecordPipelineTest(Pipeline):\n",
    "    def __init__(self, batch_size, num_threads,\n",
    "                 device = 'cpu', device_id = 0):\n",
    "        super(TFRecordPipelineTest, self).__init__(batch_size,\n",
    "                                         num_threads,\n",
    "                                         device_id)\n",
    "        self.input = fn.readers.tfrecord(        \n",
    "             features = {\"image_raw\": tfrec.FixedLenFeature((), tfrec.string, \"\"),\n",
    "                         \"label\": tfrec.FixedLenFeature([24], tfrec.int64,  24)},\n",
    "             path = ['./tfrecords/multi-label_test.tfrecords'],\n",
    "             index_path = ['./tfrecords/multi-label_test.idx'],\n",
    "             random_shuffle=False,\n",
    "             seed = set_seed)\n",
    "        self.iter = 0\n",
    "    def define_graph(self):\n",
    "        inputs = self.input\n",
    "        images = fn.decoders.image(inputs[\"image_raw\"], device = \"mixed\", output_type = types.RGB) / 255.\n",
    "        labels = inputs[\"label\"].gpu()\n",
    "        return (images, labels)\n",
    "    def iter_setup(self):\n",
    "        pass"
   ]
  },
  {
   "cell_type": "markdown",
   "metadata": {},
   "source": [
    "### Check test data accuracy."
   ]
  },
  {
   "cell_type": "code",
   "execution_count": 13,
   "metadata": {
    "scrolled": false
   },
   "outputs": [
    {
     "name": "stdout",
     "output_type": "stream",
     "text": [
      "<DALIDataset shapes: ((1, 64, 64, 3), (1, 24)), types: (tf.float32, tf.int64)>\n",
      "3882/3882 [==============================] - 21s 5ms/step - loss: 0.0682 - accuracy: 0.6061\n",
      "Test accuracy: 0.606130838394165\n",
      "A test output from the last layer: [1.7845138e-14 5.4248648e-07 1.3473613e-32 1.5023798e-02 1.2129932e-04\n",
      " 5.5551818e-06 3.3501708e-06 4.6319892e-07 7.5123592e-07 4.1929221e-10\n",
      " 2.6213532e-17 5.0499834e-02 9.9431205e-01 6.1369947e-06 1.2279854e-24\n",
      " 3.2687569e-01 9.7859186e-08 3.9467153e-07 1.8556879e-05 7.1484659e-19\n",
      " 6.5860212e-10 1.3962802e-17 2.1574854e-04 3.6818907e-08]\n",
      "Index of the maximum value: 12\n",
      "Label: upset\n",
      "time: 20.9 s (started: 2021-12-07 11:15:44 +00:00)\n"
     ]
    }
   ],
   "source": [
    "# https://docs.nvidia.com/deeplearning/dali/user-guide/docs/plugins/tensorflow_plugin_api.html\n",
    "\n",
    "if __name__ == \"__main__\":\n",
    "    batch_size = 1\n",
    "    shapes = ((batch_size, 64, 64, 3),\n",
    "              (batch_size, 24))\n",
    "    pipe_test = TFRecordPipelineTest(batch_size=batch_size, \n",
    "                            num_threads=4, \n",
    "                            device='gpu', \n",
    "                            device_id=0)\n",
    "\n",
    "    with tf.device('/gpu:0'):\n",
    "    #with strategy.scope():        \n",
    "        # Create dataset\n",
    "        ds_test = dali_tf.DALIDataset(\n",
    "            pipeline=pipe_test,\n",
    "            batch_size=batch_size,\n",
    "            output_shapes=shapes,\n",
    "            output_dtypes=(tf.float32, tf.int64),\n",
    "            device_id=0)\n",
    "        print(ds_test)\n",
    "        loss, acc = clf.evaluate(ds_test, steps=TEST_DATA_SIZE)\n",
    "        print(\"Test accuracy:\", acc)\n",
    "        predictions = clf.predict(ds_test.take(5))\n",
    "        print(\"A test output from the last layer:\", predictions[0])\n",
    "        print(\"Index of the maximum value:\", np.argmax(predictions[0]))\n",
    "        print(\"Label:\", LABELS[np.argmax(predictions[0])])"
   ]
  },
  {
   "cell_type": "code",
   "execution_count": 14,
   "metadata": {},
   "outputs": [
    {
     "data": {
      "text/plain": [
       "array([[1.78451377e-14, 5.42486475e-07, 1.34736132e-32, 1.50237978e-02,\n",
       "        1.21299323e-04, 5.55518181e-06, 3.35017080e-06, 4.63198916e-07,\n",
       "        7.51235916e-07, 4.19292212e-10, 2.62135323e-17, 5.04998341e-02,\n",
       "        9.94312048e-01, 6.13699467e-06, 1.22798536e-24, 3.26875687e-01,\n",
       "        9.78591856e-08, 3.94671531e-07, 1.85568788e-05, 7.14846590e-19,\n",
       "        6.58602117e-10, 1.39628021e-17, 2.15748543e-04, 3.68189070e-08],\n",
       "       [2.84890112e-09, 2.26739416e-04, 2.47562597e-24, 4.06175241e-04,\n",
       "        4.35661059e-04, 6.81737840e-01, 4.62038145e-07, 1.16446072e-05,\n",
       "        1.28189079e-03, 2.01959315e-15, 1.31352226e-05, 6.69757873e-02,\n",
       "        2.49310769e-02, 9.84710695e-08, 1.20489436e-26, 5.24288684e-04,\n",
       "        2.77279206e-02, 9.33531851e-07, 1.63904659e-03, 2.13664993e-15,\n",
       "        7.92732635e-07, 4.44893167e-12, 5.10839466e-03, 7.47908734e-06],\n",
       "       [2.09295931e-11, 8.14947014e-13, 1.25577469e-30, 9.39604288e-05,\n",
       "        1.19693294e-01, 1.51922301e-04, 1.74770733e-07, 5.34009130e-04,\n",
       "        2.03326531e-02, 3.49764770e-22, 1.46422096e-14, 7.51681983e-01,\n",
       "        5.83770275e-01, 1.61761420e-07, 2.62048199e-33, 2.53188682e-06,\n",
       "        4.96550911e-07, 3.90203212e-08, 6.85507525e-03, 4.17864638e-18,\n",
       "        2.25794423e-08, 2.44202158e-11, 2.51647467e-08, 6.53671486e-06],\n",
       "       [4.48155222e-15, 1.84470910e-08, 6.26355112e-30, 1.74527868e-05,\n",
       "        9.68567729e-01, 1.65630482e-07, 2.22518997e-06, 2.11866558e-04,\n",
       "        6.69650675e-04, 9.93670690e-27, 5.56808176e-11, 6.80361700e-04,\n",
       "        6.61567505e-03, 5.82018911e-05, 1.43553149e-28, 1.80102279e-03,\n",
       "        7.21054603e-05, 1.11432499e-04, 1.54585198e-08, 1.31950649e-19,\n",
       "        1.93064776e-03, 2.30391557e-11, 2.06050812e-04, 8.31757024e-11],\n",
       "       [1.93665084e-17, 4.40384618e-09, 0.00000000e+00, 1.42315328e-01,\n",
       "        2.65159004e-04, 1.13919690e-07, 1.78037374e-09, 6.34435366e-07,\n",
       "        6.57810073e-04, 5.59911530e-26, 1.27600095e-18, 5.92020433e-03,\n",
       "        6.14349186e-01, 2.70689807e-12, 2.37023077e-38, 3.51752169e-05,\n",
       "        9.99938011e-01, 7.13073437e-12, 9.12479095e-07, 2.41080416e-20,\n",
       "        2.12351126e-11, 4.54102467e-12, 1.26885101e-01, 1.39723065e-14]],\n",
       "      dtype=float32)"
      ]
     },
     "execution_count": 14,
     "metadata": {},
     "output_type": "execute_result"
    },
    {
     "name": "stdout",
     "output_type": "stream",
     "text": [
      "time: 3.94 ms (started: 2021-12-07 11:16:05 +00:00)\n"
     ]
    }
   ],
   "source": [
    "predictions"
   ]
  },
  {
   "cell_type": "code",
   "execution_count": 15,
   "metadata": {},
   "outputs": [
    {
     "data": {
      "text/plain": [
       "<matplotlib.image.AxesImage at 0x7f7b0c307e48>"
      ]
     },
     "execution_count": 15,
     "metadata": {},
     "output_type": "execute_result"
    },
    {
     "data": {
      "image/png": "[encoded data removed]",
      "text/plain": [
       "<Figure size 432x288 with 1 Axes>"
      ]
     },
     "metadata": {
      "needs_background": "light"
     },
     "output_type": "display_data"
    },
    {
     "name": "stdout",
     "output_type": "stream",
     "text": [
      "time: 193 ms (started: 2021-12-07 11:16:05 +00:00)\n"
     ]
    }
   ],
   "source": [
    "# Display the tested image.\n",
    "\n",
    "import matplotlib.pyplot as plt\n",
    "\n",
    "data, = ds_test.take(1)\n",
    "plt.imshow(data[0][0])"
   ]
  },
  {
   "cell_type": "code",
   "execution_count": 16,
   "metadata": {},
   "outputs": [
    {
     "data": {
      "text/plain": [
       "<tf.Tensor: shape=(1, 24), dtype=int64, numpy=\n",
       "array([[0, 0, 0, 0, 0, 0, 0, 0, 0, 0, 0, 0, 1, 0, 0, 0, 0, 0, 0, 0, 0, 0,\n",
       "        0, 0]])>"
      ]
     },
     "execution_count": 16,
     "metadata": {},
     "output_type": "execute_result"
    },
    {
     "name": "stdout",
     "output_type": "stream",
     "text": [
      "time: 2.75 ms (started: 2021-12-07 11:16:05 +00:00)\n"
     ]
    }
   ],
   "source": [
    "# Check the test data's true label.\n",
    "data[1]"
   ]
  },
  {
   "cell_type": "code",
   "execution_count": 17,
   "metadata": {},
   "outputs": [
    {
     "name": "stdout",
     "output_type": "stream",
     "text": [
      "time: 4.66 ms (started: 2021-12-07 11:16:05 +00:00)\n"
     ]
    }
   ],
   "source": [
    "### Result: Argmax Accuracy & Micro F1-score"
   ]
  },
  {
   "cell_type": "code",
   "execution_count": 18,
   "metadata": {},
   "outputs": [
    {
     "name": "stdout",
     "output_type": "stream",
     "text": [
      "time: 12.3 s (started: 2021-12-07 11:16:05 +00:00)\n"
     ]
    }
   ],
   "source": [
    "pred_test = clf.predict(ds_test.take(TEST_DATA_SIZE))"
   ]
  },
  {
   "cell_type": "code",
   "execution_count": 19,
   "metadata": {},
   "outputs": [
    {
     "name": "stdout",
     "output_type": "stream",
     "text": [
      "time: 1.41 s (started: 2021-12-07 11:16:18 +00:00)\n"
     ]
    }
   ],
   "source": [
    "true_test = np.concatenate([y for x, y in ds_test.take(TEST_DATA_SIZE)], axis=0)"
   ]
  },
  {
   "cell_type": "code",
   "execution_count": 20,
   "metadata": {},
   "outputs": [
    {
     "data": {
      "text/plain": [
       "(3882, 24)"
      ]
     },
     "execution_count": 20,
     "metadata": {},
     "output_type": "execute_result"
    },
    {
     "name": "stdout",
     "output_type": "stream",
     "text": [
      "time: 2.6 ms (started: 2021-12-07 11:16:19 +00:00)\n"
     ]
    }
   ],
   "source": [
    "true_test.shape"
   ]
  },
  {
   "cell_type": "code",
   "execution_count": 21,
   "metadata": {},
   "outputs": [
    {
     "name": "stdout",
     "output_type": "stream",
     "text": [
      "argmax accuracy: 0.6061308603812467\n",
      "f1_micro: 0.6061308603812467\n",
      "time: 434 ms (started: 2021-12-07 11:16:19 +00:00)\n"
     ]
    }
   ],
   "source": [
    "from sklearn.metrics import accuracy_score, f1_score\n",
    "\n",
    "true_test_ls = []\n",
    "pred_test_ls = []\n",
    "\n",
    "for (true, pred) in zip(true_test, pred_test):\n",
    "    true_test_ls.append(np.argmax(true))\n",
    "    pred_test_ls.append(np.argmax(pred))\n",
    "\n",
    "argmax_acc = accuracy_score(true_test_ls, pred_test_ls)\n",
    "f1_micro = f1_score(true_test_ls, pred_test_ls, average='micro')\n",
    "\n",
    "print(\"argmax accuracy:\", argmax_acc)\n",
    "print(\"f1_micro:\", f1_micro)"
   ]
  },
  {
   "cell_type": "code",
   "execution_count": 22,
   "metadata": {},
   "outputs": [
    {
     "name": "stdout",
     "output_type": "stream",
     "text": [
      "time: 287 µs (started: 2021-12-07 11:16:20 +00:00)\n"
     ]
    }
   ],
   "source": [
    "### Result: Threshold=0.5 Accuracy & Micro F1-score"
   ]
  },
  {
   "cell_type": "code",
   "execution_count": 23,
   "metadata": {},
   "outputs": [
    {
     "data": {
      "text/plain": [
       "array([[1.7845138e-14, 5.4248648e-07, 1.3473613e-32, ..., 1.3962802e-17,\n",
       "        2.1574854e-04, 3.6818907e-08],\n",
       "       [2.8489011e-09, 2.2673942e-04, 2.4756260e-24, ..., 4.4489317e-12,\n",
       "        5.1083947e-03, 7.4790873e-06],\n",
       "       [2.0929593e-11, 8.1494701e-13, 1.2557747e-30, ..., 2.4420216e-11,\n",
       "        2.5164747e-08, 6.5367149e-06],\n",
       "       ...,\n",
       "       [3.2484158e-11, 1.7965787e-15, 9.4863014e-35, ..., 4.7793208e-08,\n",
       "        2.1064534e-07, 5.1592296e-11],\n",
       "       [1.7019466e-06, 9.9877876e-01, 2.9815326e-23, ..., 3.4558769e-11,\n",
       "        3.4597480e-05, 2.8817269e-05],\n",
       "       [2.4636336e-06, 5.4651500e-10, 3.8468305e-27, ..., 1.1229651e-07,\n",
       "        4.9137385e-03, 3.4955049e-12]], dtype=float32)"
      ]
     },
     "execution_count": 23,
     "metadata": {},
     "output_type": "execute_result"
    },
    {
     "name": "stdout",
     "output_type": "stream",
     "text": [
      "time: 6.71 ms (started: 2021-12-07 11:16:20 +00:00)\n"
     ]
    }
   ],
   "source": [
    "pred_05 = pred_test.copy()\n",
    "pred_05"
   ]
  },
  {
   "cell_type": "code",
   "execution_count": 24,
   "metadata": {},
   "outputs": [
    {
     "data": {
      "text/plain": [
       "array([0., 0., 0., 0., 0., 0., 0., 0., 0., 0., 0., 0., 1., 0., 0., 0., 0.,\n",
       "       0., 0., 0., 0., 0., 0., 0.], dtype=float32)"
      ]
     },
     "execution_count": 24,
     "metadata": {},
     "output_type": "execute_result"
    },
    {
     "name": "stdout",
     "output_type": "stream",
     "text": [
      "time: 1.4 s (started: 2021-12-07 11:16:20 +00:00)\n"
     ]
    }
   ],
   "source": [
    "for ls in pred_05:\n",
    "    thres = 0.5\n",
    "    pred_05[pred_05 >= thres] = 1\n",
    "    pred_05[pred_05 < thres] = 0\n",
    "pred_05[0] "
   ]
  },
  {
   "cell_type": "code",
   "execution_count": 25,
   "metadata": {},
   "outputs": [
    {
     "data": {
      "text/plain": [
       "0.6803194229778464"
      ]
     },
     "execution_count": 25,
     "metadata": {},
     "output_type": "execute_result"
    },
    {
     "name": "stdout",
     "output_type": "stream",
     "text": [
      "time: 8.64 ms (started: 2021-12-07 11:16:21 +00:00)\n"
     ]
    }
   ],
   "source": [
    "accuracy_score(true_test, pred_05)"
   ]
  },
  {
   "cell_type": "code",
   "execution_count": 26,
   "metadata": {},
   "outputs": [
    {
     "data": {
      "text/plain": [
       "0.8333034272384712"
      ]
     },
     "execution_count": 26,
     "metadata": {},
     "output_type": "execute_result"
    },
    {
     "name": "stdout",
     "output_type": "stream",
     "text": [
      "time: 25.5 ms (started: 2021-12-07 11:16:21 +00:00)\n"
     ]
    }
   ],
   "source": [
    "f1_score(true_test, pred_05, average='micro')"
   ]
  },
  {
   "cell_type": "code",
   "execution_count": 27,
   "metadata": {},
   "outputs": [
    {
     "name": "stdout",
     "output_type": "stream",
     "text": [
      "time: 256 µs (started: 2021-12-07 11:16:21 +00:00)\n"
     ]
    }
   ],
   "source": [
    "### Result: Threshold=0.4 Accuracy & Micro F1-score"
   ]
  },
  {
   "cell_type": "code",
   "execution_count": 28,
   "metadata": {},
   "outputs": [
    {
     "data": {
      "text/plain": [
       "array([0., 0., 0., 0., 0., 0., 0., 0., 0., 0., 0., 0., 1., 0., 0., 0., 0.,\n",
       "       0., 0., 0., 0., 0., 0., 0.], dtype=float32)"
      ]
     },
     "execution_count": 28,
     "metadata": {},
     "output_type": "execute_result"
    },
    {
     "name": "stdout",
     "output_type": "stream",
     "text": [
      "time: 1.44 s (started: 2021-12-07 11:16:21 +00:00)\n"
     ]
    }
   ],
   "source": [
    "pred_04 = pred_test.copy()\n",
    "for ls in pred_04:\n",
    "    thres = 0.4\n",
    "    pred_04[pred_04 >= thres] = 1\n",
    "    pred_04[pred_04 < thres] = 0\n",
    "pred_04[0]"
   ]
  },
  {
   "cell_type": "code",
   "execution_count": 29,
   "metadata": {},
   "outputs": [
    {
     "data": {
      "text/plain": [
       "0.6764554353426069"
      ]
     },
     "execution_count": 29,
     "metadata": {},
     "output_type": "execute_result"
    },
    {
     "name": "stdout",
     "output_type": "stream",
     "text": [
      "time: 8.43 ms (started: 2021-12-07 11:16:23 +00:00)\n"
     ]
    }
   ],
   "source": [
    "accuracy_score(true_test, pred_04)"
   ]
  },
  {
   "cell_type": "code",
   "execution_count": 30,
   "metadata": {},
   "outputs": [
    {
     "data": {
      "text/plain": [
       "0.8306039338012304"
      ]
     },
     "execution_count": 30,
     "metadata": {},
     "output_type": "execute_result"
    },
    {
     "name": "stdout",
     "output_type": "stream",
     "text": [
      "time: 25.4 ms (started: 2021-12-07 11:16:23 +00:00)\n"
     ]
    }
   ],
   "source": [
    "f1_score(true_test, pred_04, average='micro')"
   ]
  },
  {
   "cell_type": "code",
   "execution_count": 31,
   "metadata": {},
   "outputs": [
    {
     "name": "stdout",
     "output_type": "stream",
     "text": [
      "time: 259 µs (started: 2021-12-07 11:16:23 +00:00)\n"
     ]
    }
   ],
   "source": [
    "### Result: Threshold=0.3 Accuracy & Micro F1-score"
   ]
  },
  {
   "cell_type": "code",
   "execution_count": 32,
   "metadata": {},
   "outputs": [
    {
     "data": {
      "text/plain": [
       "array([0., 0., 0., 0., 0., 0., 0., 0., 0., 0., 0., 0., 1., 0., 0., 1., 0.,\n",
       "       0., 0., 0., 0., 0., 0., 0.], dtype=float32)"
      ]
     },
     "execution_count": 32,
     "metadata": {},
     "output_type": "execute_result"
    },
    {
     "name": "stdout",
     "output_type": "stream",
     "text": [
      "time: 1.5 s (started: 2021-12-07 11:16:23 +00:00)\n"
     ]
    }
   ],
   "source": [
    "pred_03 = pred_test.copy()\n",
    "for ls in pred_03:\n",
    "    thres = 0.3\n",
    "    pred_03[pred_03 >= thres] = 1\n",
    "    pred_03[pred_03 < thres] = 0\n",
    "pred_03[0] "
   ]
  },
  {
   "cell_type": "code",
   "execution_count": 33,
   "metadata": {},
   "outputs": [
    {
     "data": {
      "text/plain": [
       "0.6530139103554868"
      ]
     },
     "execution_count": 33,
     "metadata": {},
     "output_type": "execute_result"
    },
    {
     "name": "stdout",
     "output_type": "stream",
     "text": [
      "time: 8.31 ms (started: 2021-12-07 11:16:24 +00:00)\n"
     ]
    }
   ],
   "source": [
    "accuracy_score(true_test, pred_03)"
   ]
  },
  {
   "cell_type": "code",
   "execution_count": 34,
   "metadata": {},
   "outputs": [
    {
     "data": {
      "text/plain": [
       "0.822706842017646"
      ]
     },
     "execution_count": 34,
     "metadata": {},
     "output_type": "execute_result"
    },
    {
     "name": "stdout",
     "output_type": "stream",
     "text": [
      "time: 25.7 ms (started: 2021-12-07 11:16:24 +00:00)\n"
     ]
    }
   ],
   "source": [
    "f1_score(true_test, pred_03, average='micro')"
   ]
  },
  {
   "cell_type": "code",
   "execution_count": 35,
   "metadata": {},
   "outputs": [
    {
     "name": "stdout",
     "output_type": "stream",
     "text": [
      "time: 256 µs (started: 2021-12-07 11:16:24 +00:00)\n"
     ]
    }
   ],
   "source": [
    "### Result: Threshold=0.2 Accuracy & Micro F1-score"
   ]
  },
  {
   "cell_type": "code",
   "execution_count": 36,
   "metadata": {},
   "outputs": [
    {
     "data": {
      "text/plain": [
       "array([0., 0., 0., 0., 0., 0., 0., 0., 0., 0., 0., 0., 1., 0., 0., 1., 0.,\n",
       "       0., 0., 0., 0., 0., 0., 0.], dtype=float32)"
      ]
     },
     "execution_count": 36,
     "metadata": {},
     "output_type": "execute_result"
    },
    {
     "name": "stdout",
     "output_type": "stream",
     "text": [
      "time: 1.57 s (started: 2021-12-07 11:16:24 +00:00)\n"
     ]
    }
   ],
   "source": [
    "pred_02 = pred_test.copy()\n",
    "for ls in pred_02:\n",
    "    thres = 0.2\n",
    "    pred_02[pred_02 >= thres] = 1\n",
    "    pred_02[pred_02 < thres] = 0\n",
    "pred_02[0] "
   ]
  },
  {
   "cell_type": "code",
   "execution_count": 37,
   "metadata": {},
   "outputs": [
    {
     "data": {
      "text/plain": [
       "0.6081916537867079"
      ]
     },
     "execution_count": 37,
     "metadata": {},
     "output_type": "execute_result"
    },
    {
     "name": "stdout",
     "output_type": "stream",
     "text": [
      "time: 8.31 ms (started: 2021-12-07 11:16:26 +00:00)\n"
     ]
    }
   ],
   "source": [
    "accuracy_score(true_test, pred_02)"
   ]
  },
  {
   "cell_type": "code",
   "execution_count": 38,
   "metadata": {},
   "outputs": [
    {
     "data": {
      "text/plain": [
       "0.8069205245694423"
      ]
     },
     "execution_count": 38,
     "metadata": {},
     "output_type": "execute_result"
    },
    {
     "name": "stdout",
     "output_type": "stream",
     "text": [
      "time: 27.4 ms (started: 2021-12-07 11:16:26 +00:00)\n"
     ]
    }
   ],
   "source": [
    "f1_score(true_test, pred_02, average='micro')"
   ]
  },
  {
   "cell_type": "code",
   "execution_count": 39,
   "metadata": {},
   "outputs": [
    {
     "name": "stdout",
     "output_type": "stream",
     "text": [
      "time: 257 µs (started: 2021-12-07 11:16:26 +00:00)\n"
     ]
    }
   ],
   "source": [
    "### Result: Threshold=0.1 Accuracy & Micro F1-score"
   ]
  },
  {
   "cell_type": "code",
   "execution_count": 40,
   "metadata": {},
   "outputs": [
    {
     "data": {
      "text/plain": [
       "array([0., 0., 0., 0., 0., 0., 0., 0., 0., 0., 0., 0., 1., 0., 0., 1., 0.,\n",
       "       0., 0., 0., 0., 0., 0., 0.], dtype=float32)"
      ]
     },
     "execution_count": 40,
     "metadata": {},
     "output_type": "execute_result"
    },
    {
     "name": "stdout",
     "output_type": "stream",
     "text": [
      "time: 1.71 s (started: 2021-12-07 11:16:26 +00:00)\n"
     ]
    }
   ],
   "source": [
    "pred_01 = pred_test.copy()\n",
    "for ls in pred_01:\n",
    "    thres = 0.1\n",
    "    pred_01[pred_01 >= thres] = 1\n",
    "    pred_01[pred_01 < thres] = 0\n",
    "pred_01[0] "
   ]
  },
  {
   "cell_type": "code",
   "execution_count": 41,
   "metadata": {},
   "outputs": [
    {
     "data": {
      "text/plain": [
       "0.48815043791859863"
      ]
     },
     "execution_count": 41,
     "metadata": {},
     "output_type": "execute_result"
    },
    {
     "name": "stdout",
     "output_type": "stream",
     "text": [
      "time: 8.4 ms (started: 2021-12-07 11:16:28 +00:00)\n"
     ]
    }
   ],
   "source": [
    "accuracy_score(true_test, pred_01)"
   ]
  },
  {
   "cell_type": "code",
   "execution_count": 42,
   "metadata": {},
   "outputs": [
    {
     "data": {
      "text/plain": [
       "0.7612745450622168"
      ]
     },
     "execution_count": 42,
     "metadata": {},
     "output_type": "execute_result"
    },
    {
     "name": "stdout",
     "output_type": "stream",
     "text": [
      "time: 28.9 ms (started: 2021-12-07 11:16:28 +00:00)\n"
     ]
    }
   ],
   "source": [
    "f1_score(true_test, pred_01, average='micro')"
   ]
  },
  {
   "cell_type": "code",
   "execution_count": null,
   "metadata": {},
   "outputs": [],
   "source": []
  }
 ],
 "metadata": {
  "kernelspec": {
   "display_name": "Python 3",
   "language": "python",
   "name": "python3"
  },
  "language_info": {
   "codemirror_mode": {
    "name": "ipython",
    "version": 3
   },
   "file_extension": ".py",
   "mimetype": "text/x-python",
   "name": "python",
   "nbconvert_exporter": "python",
   "pygments_lexer": "ipython3",
   "version": "3.6.9"
  }
 },
 "nbformat": 4,
 "nbformat_minor": 2
}
