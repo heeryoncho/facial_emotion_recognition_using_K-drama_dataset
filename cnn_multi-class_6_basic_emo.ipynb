{
 "cells": [
  {
   "cell_type": "markdown",
   "metadata": {},
   "source": [
    "This notebook contains the code used in the BigComp 2022 paper: <br>\n",
    "<b>Heeryon Cho, Woo-Kyu Kang, Younsoo Park, Sungeu Chae, and Seong-joon Kim, \"Multi-label Facial Emotion Recognition Using Korean Drama Movie Clips,\" BigComp 2022.</b>\n",
    "### Convolutional Neural Network (CNN) /  Classify 6 Basic Emotions"
   ]
  },
  {
   "cell_type": "code",
   "execution_count": 1,
   "metadata": {},
   "outputs": [],
   "source": [
    "import tensorflow as tf\n",
    "from tensorflow import keras\n",
    "import matplotlib.pyplot as plt\n",
    "import numpy as np\n",
    "import pandas as pd\n",
    "import random as rn\n",
    "import os"
   ]
  },
  {
   "cell_type": "code",
   "execution_count": 2,
   "metadata": {},
   "outputs": [],
   "source": [
    "import warnings\n",
    "import logging\n",
    "logging.getLogger('tensorflow').disabled = True\n",
    "warnings.filterwarnings(\"ignore\")\n",
    "os.environ['TF_CPP_MIN_LOG_LEVEL'] = '3'"
   ]
  },
  {
   "cell_type": "code",
   "execution_count": 3,
   "metadata": {},
   "outputs": [
    {
     "name": "stdout",
     "output_type": "stream",
     "text": [
      "time: 233 µs (started: 2021-12-07 04:46:41 +00:00)\n"
     ]
    }
   ],
   "source": [
    "# Record cell run time.\n",
    "#!pip install ipython-autotime\n",
    "\n",
    "%load_ext autotime"
   ]
  },
  {
   "cell_type": "code",
   "execution_count": 4,
   "metadata": {
    "scrolled": true
   },
   "outputs": [
    {
     "name": "stdout",
     "output_type": "stream",
     "text": [
      "time: 1.25 ms (started: 2021-12-07 04:46:41 +00:00)\n"
     ]
    }
   ],
   "source": [
    "# Set seed for reproducibility.\n",
    "\n",
    "set_seed = 46\n",
    "np.random.seed(set_seed)\n",
    "rn.seed(set_seed)\n",
    "tf.random.set_seed(set_seed)"
   ]
  },
  {
   "cell_type": "markdown",
   "metadata": {},
   "source": [
    "### Load label data."
   ]
  },
  {
   "cell_type": "code",
   "execution_count": 5,
   "metadata": {},
   "outputs": [
    {
     "name": "stdout",
     "output_type": "stream",
     "text": [
      "Index(['img_id', 'clip_id', 'angry', 'disgusted', 'surprised', 'fearful',\n",
      "       'happy', 'sad'],\n",
      "      dtype='object')\n",
      "(12813, 8)\n",
      "LABELS= ['angry', 'disgusted', 'surprised', 'fearful', 'happy', 'sad']\n",
      "All class: 6\n",
      "TRAIN_DATA_SIZE: 10249\n",
      "VALID_DATA_SIZE: 1282\n",
      "TEST_DATA_SIZE: 1282\n",
      "time: 47.5 ms (started: 2021-12-07 04:46:41 +00:00)\n"
     ]
    }
   ],
   "source": [
    "# Load labels, check headers, check data shape.\n",
    "\n",
    "df_label = pd.read_csv('label/label_6_basic_emo.csv')\n",
    "print(df_label.columns)\n",
    "print(df_label.shape)\n",
    "\n",
    "LABELS = list(df_label.columns[2:])\n",
    "print(\"LABELS=\", LABELS)\n",
    "print(\"All class:\", len(LABELS))\n",
    "\n",
    "label_valid = pd.read_csv('label/label_6_basic_emo_valid.csv')\n",
    "label_train = pd.read_csv('label/label_6_basic_emo_train.csv')\n",
    "label_test = pd.read_csv('label/label_6_basic_emo_test.csv')\n",
    "\n",
    "VALID_DATA_SIZE = label_valid.shape[0]\n",
    "TRAIN_DATA_SIZE = label_train.shape[0]\n",
    "TEST_DATA_SIZE = label_test.shape[0]\n",
    "\n",
    "print(\"TRAIN_DATA_SIZE:\", label_train.shape[0])\n",
    "print(\"VALID_DATA_SIZE:\", label_valid.shape[0])\n",
    "print(\"TEST_DATA_SIZE:\", label_test.shape[0])"
   ]
  },
  {
   "cell_type": "markdown",
   "metadata": {},
   "source": [
    "### Calculate class weights."
   ]
  },
  {
   "cell_type": "code",
   "execution_count": 6,
   "metadata": {},
   "outputs": [
    {
     "data": {
      "text/plain": [
       "10249"
      ]
     },
     "execution_count": 6,
     "metadata": {},
     "output_type": "execute_result"
    },
    {
     "name": "stdout",
     "output_type": "stream",
     "text": [
      "time: 2.09 s (started: 2021-12-07 04:46:41 +00:00)\n"
     ]
    }
   ],
   "source": [
    "dict_label_train = {}\n",
    "for idx, row in label_train.iterrows():\n",
    "    dict_label_train[row['img_id']] = list(row['angry':'sad'].values)\n",
    "len(dict_label_train)"
   ]
  },
  {
   "cell_type": "code",
   "execution_count": 7,
   "metadata": {},
   "outputs": [
    {
     "name": "stdout",
     "output_type": "stream",
     "text": [
      "time: 513 µs (started: 2021-12-07 04:46:43 +00:00)\n"
     ]
    }
   ],
   "source": [
    "y_train_ls = list(dict_label_train.values())\n",
    "#y_train_ls"
   ]
  },
  {
   "cell_type": "code",
   "execution_count": 8,
   "metadata": {},
   "outputs": [
    {
     "name": "stdout",
     "output_type": "stream",
     "text": [
      "time: 23.6 ms (started: 2021-12-07 04:46:43 +00:00)\n"
     ]
    }
   ],
   "source": [
    "y_train_ints = [y.index(1) for y in y_train_ls]\n",
    "#y_train_ints"
   ]
  },
  {
   "cell_type": "code",
   "execution_count": 9,
   "metadata": {},
   "outputs": [
    {
     "data": {
      "text/plain": [
       "{0: 0.2815040650406504,\n",
       " 1: 18.3673835125448,\n",
       " 2: 0.7868109933978198,\n",
       " 3: 7.6257440476190474,\n",
       " 4: 11.46420581655481,\n",
       " 5: 1.106325561312608}"
      ]
     },
     "execution_count": 9,
     "metadata": {},
     "output_type": "execute_result"
    },
    {
     "name": "stdout",
     "output_type": "stream",
     "text": [
      "time: 365 ms (started: 2021-12-07 04:46:44 +00:00)\n"
     ]
    }
   ],
   "source": [
    "from sklearn.utils import class_weight\n",
    "\n",
    "class_weights = class_weight.compute_class_weight('balanced',\n",
    "                                                  np.unique(y_train_ints),\n",
    "                                                  y_train_ints)\n",
    "class_weight_dict = dict(enumerate(class_weights))\n",
    "class_weight_dict"
   ]
  },
  {
   "cell_type": "code",
   "execution_count": 10,
   "metadata": {},
   "outputs": [
    {
     "data": {
      "text/plain": [
       "array([ 0.28150407, 18.36738351,  0.78681099,  7.62574405, 11.46420582,\n",
       "        1.10632556])"
      ]
     },
     "execution_count": 10,
     "metadata": {},
     "output_type": "execute_result"
    },
    {
     "name": "stdout",
     "output_type": "stream",
     "text": [
      "time: 2.43 ms (started: 2021-12-07 04:46:44 +00:00)\n"
     ]
    }
   ],
   "source": [
    "class_weights"
   ]
  },
  {
   "cell_type": "code",
   "execution_count": 11,
   "metadata": {},
   "outputs": [
    {
     "name": "stdout",
     "output_type": "stream",
     "text": [
      "time: 4.36 ms (started: 2021-12-07 04:46:44 +00:00)\n"
     ]
    }
   ],
   "source": [
    "n_samples = len(dict_label_train)\n",
    "n_classes = len(set(y_train_ints))"
   ]
  },
  {
   "cell_type": "code",
   "execution_count": 12,
   "metadata": {},
   "outputs": [
    {
     "data": {
      "text/plain": [
       "array([0.14075203, 9.18369176, 0.3934055 , 3.81287202, 5.73210291,\n",
       "       0.55316278])"
      ]
     },
     "execution_count": 12,
     "metadata": {},
     "output_type": "execute_result"
    },
    {
     "name": "stdout",
     "output_type": "stream",
     "text": [
      "time: 4.71 ms (started: 2021-12-07 04:46:44 +00:00)\n"
     ]
    }
   ],
   "source": [
    "multiplier = 3\n",
    "adjusted_cw = class_weights / n_classes * multiplier\n",
    "adjusted_cw"
   ]
  },
  {
   "cell_type": "code",
   "execution_count": 13,
   "metadata": {},
   "outputs": [
    {
     "data": {
      "text/plain": [
       "array([0.11638164, 0.22366313, 0.13195144, 0.18733217, 0.20259518,\n",
       "       0.13807644])"
      ]
     },
     "execution_count": 13,
     "metadata": {},
     "output_type": "execute_result"
    },
    {
     "name": "stdout",
     "output_type": "stream",
     "text": [
      "time: 5.78 ms (started: 2021-12-07 04:46:44 +00:00)\n"
     ]
    }
   ],
   "source": [
    "log_weights = n_samples / (n_classes * np.log(np.bincount(y_train_ints)))\n",
    "sum_weights = sum(log_weights)\n",
    "sum_weights\n",
    "custom_class_weights = log_weights / sum_weights\n",
    "custom_class_weights"
   ]
  },
  {
   "cell_type": "code",
   "execution_count": 14,
   "metadata": {},
   "outputs": [
    {
     "data": {
      "text/plain": [
       "array([0.25713368, 9.40735489, 0.52535693, 4.00020419, 5.93469809,\n",
       "       0.69123922])"
      ]
     },
     "execution_count": 14,
     "metadata": {},
     "output_type": "execute_result"
    },
    {
     "name": "stdout",
     "output_type": "stream",
     "text": [
      "time: 3.27 ms (started: 2021-12-07 04:46:44 +00:00)\n"
     ]
    }
   ],
   "source": [
    "custom_class_weights += adjusted_cw\n",
    "custom_class_weights"
   ]
  },
  {
   "cell_type": "code",
   "execution_count": 15,
   "metadata": {},
   "outputs": [
    {
     "data": {
      "text/plain": [
       "{0: 0.25713367600252574,\n",
       " 1: 9.407354888012607,\n",
       " 2: 0.5253569344678802,\n",
       " 3: 4.0002041936980595,\n",
       " 4: 5.934698087278068,\n",
       " 5: 0.6912392187757267}"
      ]
     },
     "execution_count": 15,
     "metadata": {},
     "output_type": "execute_result"
    },
    {
     "name": "stdout",
     "output_type": "stream",
     "text": [
      "time: 3.55 ms (started: 2021-12-07 04:46:44 +00:00)\n"
     ]
    }
   ],
   "source": [
    "class_weight_dict = dict(enumerate(custom_class_weights))\n",
    "class_weight_dict"
   ]
  },
  {
   "cell_type": "markdown",
   "metadata": {},
   "source": [
    "### Define training pipeline."
   ]
  },
  {
   "cell_type": "code",
   "execution_count": 16,
   "metadata": {
    "scrolled": true
   },
   "outputs": [
    {
     "name": "stdout",
     "output_type": "stream",
     "text": [
      "time: 91.7 ms (started: 2021-12-07 04:46:44 +00:00)\n"
     ]
    }
   ],
   "source": [
    "from nvidia.dali.pipeline import Pipeline\n",
    "import nvidia.dali.ops as ops\n",
    "import nvidia.dali.fn as fn\n",
    "import nvidia.dali.types as types\n",
    "import nvidia.dali.tfrecord as tfrec\n",
    "import nvidia.dali.plugin.tf as dali_tf\n",
    "\n",
    "class TFRecordPipelineTrain(Pipeline):\n",
    "    def __init__(self, batch_size, num_threads,\n",
    "                 device = 'cpu', device_id = 0):\n",
    "        super(TFRecordPipelineTrain, self).__init__(batch_size,\n",
    "                                         num_threads,\n",
    "                                         device_id)\n",
    "        self.input = fn.readers.tfrecord(        \n",
    "             features = {\"image_raw\": tfrec.FixedLenFeature((), tfrec.string, \"\"),\n",
    "                         \"label\": tfrec.FixedLenFeature([6], tfrec.int64,  6)},\n",
    "             path = ['./tfrecords/6_basic_emo_train.tfrecords'],\n",
    "             index_path = ['./tfrecords/6_basic_emo_train.idx'],\n",
    "             random_shuffle=True,\n",
    "             seed = set_seed)\n",
    "        self.iter = 0\n",
    "    def define_graph(self):\n",
    "        inputs = self.input\n",
    "        images = fn.decoders.image(inputs[\"image_raw\"], device = \"mixed\", output_type = types.RGB) / 255.\n",
    "        labels = inputs[\"label\"].gpu()\n",
    "        return (images, labels)\n",
    "    def iter_setup(self):\n",
    "        pass"
   ]
  },
  {
   "cell_type": "markdown",
   "metadata": {},
   "source": [
    "### Define validation pipeline."
   ]
  },
  {
   "cell_type": "code",
   "execution_count": 17,
   "metadata": {},
   "outputs": [
    {
     "name": "stdout",
     "output_type": "stream",
     "text": [
      "time: 1.69 ms (started: 2021-12-07 04:46:44 +00:00)\n"
     ]
    }
   ],
   "source": [
    "class TFRecordPipelineValid(Pipeline):\n",
    "    def __init__(self, batch_size, num_threads,\n",
    "                 device = 'cpu', device_id = 0):\n",
    "        super(TFRecordPipelineValid, self).__init__(batch_size,\n",
    "                                         num_threads,\n",
    "                                         device_id)\n",
    "        self.input = fn.readers.tfrecord(        \n",
    "             features = {\"image_raw\": tfrec.FixedLenFeature((), tfrec.string, \"\"),\n",
    "                         \"label\": tfrec.FixedLenFeature([6], tfrec.int64,  6)},\n",
    "             path = ['./tfrecords/6_basic_emo_valid.tfrecords'],\n",
    "             index_path = ['./tfrecords/6_basic_emo_valid.idx'],\n",
    "             random_shuffle=False,\n",
    "             seed = set_seed)\n",
    "        self.iter = 0\n",
    "    def define_graph(self):\n",
    "        inputs = self.input\n",
    "        images = fn.decoders.image(inputs[\"image_raw\"], device = \"mixed\", output_type = types.RGB) / 255.\n",
    "        labels = inputs[\"label\"].gpu()\n",
    "        return (images, labels)\n",
    "    def iter_setup(self):\n",
    "        pass"
   ]
  },
  {
   "cell_type": "markdown",
   "metadata": {},
   "source": [
    "### Train CNN model for classifying 6 basic emotions."
   ]
  },
  {
   "cell_type": "code",
   "execution_count": 18,
   "metadata": {},
   "outputs": [
    {
     "name": "stdout",
     "output_type": "stream",
     "text": [
      "Model: \"model\"\n",
      "_________________________________________________________________\n",
      "Layer (type)                 Output Shape              Param #   \n",
      "=================================================================\n",
      "input_1 (InputLayer)         [(None, 64, 64, 3)]       0         \n",
      "_________________________________________________________________\n",
      "conv2d (Conv2D)              (None, 64, 64, 128)       3584      \n",
      "_________________________________________________________________\n",
      "dropout (Dropout)            (None, 64, 64, 128)       0         \n",
      "_________________________________________________________________\n",
      "conv2d_1 (Conv2D)            (None, 64, 64, 64)        73792     \n",
      "_________________________________________________________________\n",
      "dropout_1 (Dropout)          (None, 64, 64, 64)        0         \n",
      "_________________________________________________________________\n",
      "conv2d_2 (Conv2D)            (None, 64, 64, 32)        18464     \n",
      "_________________________________________________________________\n",
      "dropout_2 (Dropout)          (None, 64, 64, 32)        0         \n",
      "_________________________________________________________________\n",
      "flatten (Flatten)            (None, 131072)            0         \n",
      "_________________________________________________________________\n",
      "dense (Dense)                (None, 6)                 786438    \n",
      "=================================================================\n",
      "Total params: 882,278\n",
      "Trainable params: 882,278\n",
      "Non-trainable params: 0\n",
      "_________________________________________________________________\n",
      "Epoch 1/1000\n",
      "160/160 [==============================] - 7s 21ms/step - loss: 1.1138 - accuracy: 0.5234 - val_loss: 1.7223 - val_accuracy: 0.6008\n",
      "Epoch 2/1000\n",
      "160/160 [==============================] - 3s 20ms/step - loss: 1.0971 - accuracy: 0.5334 - val_loss: 1.6999 - val_accuracy: 0.5820\n",
      "Epoch 3/1000\n",
      "160/160 [==============================] - 3s 20ms/step - loss: 1.0793 - accuracy: 0.5157 - val_loss: 1.6762 - val_accuracy: 0.5063\n",
      "Epoch 4/1000\n",
      "160/160 [==============================] - 3s 20ms/step - loss: 1.0658 - accuracy: 0.4877 - val_loss: 1.6732 - val_accuracy: 0.3844\n",
      "Epoch 5/1000\n",
      "160/160 [==============================] - 3s 20ms/step - loss: 1.0542 - accuracy: 0.4418 - val_loss: 1.6469 - val_accuracy: 0.3688\n",
      "Epoch 6/1000\n",
      "160/160 [==============================] - 3s 20ms/step - loss: 1.0339 - accuracy: 0.4313 - val_loss: 1.6310 - val_accuracy: 0.3602\n",
      "Epoch 7/1000\n",
      "160/160 [==============================] - 3s 20ms/step - loss: 1.0137 - accuracy: 0.4281 - val_loss: 1.5711 - val_accuracy: 0.3727\n",
      "Epoch 8/1000\n",
      "160/160 [==============================] - 3s 20ms/step - loss: 1.0061 - accuracy: 0.4118 - val_loss: 1.5766 - val_accuracy: 0.3461\n",
      "Epoch 9/1000\n",
      "160/160 [==============================] - 3s 20ms/step - loss: 0.9823 - accuracy: 0.4181 - val_loss: 1.5487 - val_accuracy: 0.3477\n",
      "Epoch 10/1000\n",
      "160/160 [==============================] - 3s 20ms/step - loss: 0.9689 - accuracy: 0.4250 - val_loss: 1.5780 - val_accuracy: 0.3336\n",
      "Epoch 11/1000\n",
      "160/160 [==============================] - 3s 21ms/step - loss: 0.9600 - accuracy: 0.4209 - val_loss: 1.5316 - val_accuracy: 0.3430\n",
      "Epoch 12/1000\n",
      "160/160 [==============================] - 3s 21ms/step - loss: 0.9377 - accuracy: 0.4396 - val_loss: 1.4685 - val_accuracy: 0.4031\n",
      "Epoch 13/1000\n",
      "160/160 [==============================] - 3s 20ms/step - loss: 0.9207 - accuracy: 0.4472 - val_loss: 1.5734 - val_accuracy: 0.3172\n",
      "Epoch 14/1000\n",
      "160/160 [==============================] - 3s 21ms/step - loss: 0.9054 - accuracy: 0.4515 - val_loss: 1.4707 - val_accuracy: 0.3750\n",
      "Epoch 15/1000\n",
      "160/160 [==============================] - 3s 20ms/step - loss: 0.8981 - accuracy: 0.4640 - val_loss: 1.5049 - val_accuracy: 0.3641\n",
      "Epoch 16/1000\n",
      "160/160 [==============================] - 3s 20ms/step - loss: 0.8836 - accuracy: 0.4715 - val_loss: 1.5935 - val_accuracy: 0.3148\n",
      "Epoch 17/1000\n",
      "160/160 [==============================] - 3s 21ms/step - loss: 0.8728 - accuracy: 0.4742 - val_loss: 1.4418 - val_accuracy: 0.3984\n",
      "Epoch 18/1000\n",
      "160/160 [==============================] - 3s 21ms/step - loss: 0.8659 - accuracy: 0.4791 - val_loss: 1.4631 - val_accuracy: 0.3938\n",
      "Epoch 19/1000\n",
      "160/160 [==============================] - 3s 21ms/step - loss: 0.8408 - accuracy: 0.4951 - val_loss: 1.5550 - val_accuracy: 0.3313\n",
      "Epoch 20/1000\n",
      "160/160 [==============================] - 3s 21ms/step - loss: 0.8426 - accuracy: 0.4974 - val_loss: 1.5156 - val_accuracy: 0.3445\n",
      "Epoch 21/1000\n",
      "160/160 [==============================] - 3s 21ms/step - loss: 0.8409 - accuracy: 0.4988 - val_loss: 1.5047 - val_accuracy: 0.3562\n",
      "Epoch 22/1000\n",
      "160/160 [==============================] - 3s 21ms/step - loss: 0.8154 - accuracy: 0.5145 - val_loss: 1.5196 - val_accuracy: 0.3531\n",
      "Epoch 23/1000\n",
      "160/160 [==============================] - 3s 21ms/step - loss: 0.8153 - accuracy: 0.5232 - val_loss: 1.4462 - val_accuracy: 0.3969\n",
      "Epoch 24/1000\n",
      "160/160 [==============================] - 3s 21ms/step - loss: 0.8012 - accuracy: 0.5292 - val_loss: 1.4977 - val_accuracy: 0.3633\n",
      "Epoch 25/1000\n",
      "160/160 [==============================] - 3s 21ms/step - loss: 0.7829 - accuracy: 0.5403 - val_loss: 1.5173 - val_accuracy: 0.3703\n",
      "Epoch 26/1000\n",
      "160/160 [==============================] - 3s 21ms/step - loss: 0.7881 - accuracy: 0.5330 - val_loss: 1.4685 - val_accuracy: 0.3836\n",
      "Epoch 27/1000\n",
      "160/160 [==============================] - 3s 21ms/step - loss: 0.7927 - accuracy: 0.5410 - val_loss: 1.4396 - val_accuracy: 0.4141\n",
      "Epoch 28/1000\n",
      "160/160 [==============================] - 3s 21ms/step - loss: 0.7623 - accuracy: 0.5532 - val_loss: 1.4137 - val_accuracy: 0.4242\n",
      "Epoch 29/1000\n",
      "160/160 [==============================] - 3s 21ms/step - loss: 0.7567 - accuracy: 0.5589 - val_loss: 1.3602 - val_accuracy: 0.4531\n",
      "Epoch 30/1000\n",
      "160/160 [==============================] - 3s 21ms/step - loss: 0.7569 - accuracy: 0.5548 - val_loss: 1.4202 - val_accuracy: 0.4313\n",
      "Epoch 31/1000\n",
      "160/160 [==============================] - 3s 21ms/step - loss: 0.7458 - accuracy: 0.5669 - val_loss: 1.3751 - val_accuracy: 0.4406\n",
      "Epoch 32/1000\n",
      "160/160 [==============================] - 3s 20ms/step - loss: 0.7435 - accuracy: 0.5609 - val_loss: 1.2932 - val_accuracy: 0.4969\n",
      "Epoch 33/1000\n",
      "160/160 [==============================] - 3s 21ms/step - loss: 0.7309 - accuracy: 0.5662 - val_loss: 1.3231 - val_accuracy: 0.4664\n",
      "Epoch 34/1000\n",
      "160/160 [==============================] - 3s 21ms/step - loss: 0.7286 - accuracy: 0.5694 - val_loss: 1.3432 - val_accuracy: 0.4570\n",
      "Epoch 35/1000\n",
      "160/160 [==============================] - 3s 20ms/step - loss: 0.7102 - accuracy: 0.5789 - val_loss: 1.2203 - val_accuracy: 0.5461\n",
      "Epoch 36/1000\n",
      "160/160 [==============================] - 3s 20ms/step - loss: 0.7214 - accuracy: 0.5856 - val_loss: 1.3930 - val_accuracy: 0.4414\n",
      "Epoch 37/1000\n",
      "160/160 [==============================] - 3s 21ms/step - loss: 0.7013 - accuracy: 0.5936 - val_loss: 1.4085 - val_accuracy: 0.4477\n",
      "Epoch 38/1000\n",
      "160/160 [==============================] - 3s 21ms/step - loss: 0.6930 - accuracy: 0.5912 - val_loss: 1.3183 - val_accuracy: 0.4703\n",
      "Epoch 39/1000\n",
      "160/160 [==============================] - 3s 21ms/step - loss: 0.6918 - accuracy: 0.6005 - val_loss: 1.3716 - val_accuracy: 0.4602\n",
      "Epoch 40/1000\n",
      "160/160 [==============================] - 3s 20ms/step - loss: 0.6848 - accuracy: 0.5983 - val_loss: 1.3792 - val_accuracy: 0.4633\n",
      "Epoch 41/1000\n",
      "160/160 [==============================] - 3s 20ms/step - loss: 0.6824 - accuracy: 0.6004 - val_loss: 1.2584 - val_accuracy: 0.5211\n",
      "Epoch 42/1000\n",
      "160/160 [==============================] - 3s 20ms/step - loss: 0.6762 - accuracy: 0.6014 - val_loss: 1.3506 - val_accuracy: 0.4742\n",
      "Epoch 43/1000\n",
      "160/160 [==============================] - 3s 20ms/step - loss: 0.6686 - accuracy: 0.6092 - val_loss: 1.2953 - val_accuracy: 0.5031\n",
      "Epoch 44/1000\n",
      "160/160 [==============================] - 3s 20ms/step - loss: 0.6548 - accuracy: 0.6092 - val_loss: 1.1459 - val_accuracy: 0.5805\n",
      "Epoch 45/1000\n",
      "160/160 [==============================] - 3s 21ms/step - loss: 0.6570 - accuracy: 0.6181 - val_loss: 1.2370 - val_accuracy: 0.5266\n",
      "Epoch 46/1000\n"
     ]
    },
    {
     "name": "stdout",
     "output_type": "stream",
     "text": [
      "160/160 [==============================] - 3s 21ms/step - loss: 0.6590 - accuracy: 0.6116 - val_loss: 1.2452 - val_accuracy: 0.5352\n",
      "Epoch 47/1000\n",
      "160/160 [==============================] - 3s 21ms/step - loss: 0.6419 - accuracy: 0.6202 - val_loss: 1.0995 - val_accuracy: 0.5945\n",
      "Epoch 48/1000\n",
      "160/160 [==============================] - 3s 21ms/step - loss: 0.6227 - accuracy: 0.6250 - val_loss: 1.1587 - val_accuracy: 0.5617\n",
      "Epoch 49/1000\n",
      "160/160 [==============================] - 3s 21ms/step - loss: 0.6427 - accuracy: 0.6237 - val_loss: 1.1109 - val_accuracy: 0.5914\n",
      "Epoch 50/1000\n",
      "160/160 [==============================] - 3s 20ms/step - loss: 0.6271 - accuracy: 0.6241 - val_loss: 1.1912 - val_accuracy: 0.5477\n",
      "Epoch 51/1000\n",
      "160/160 [==============================] - 3s 21ms/step - loss: 0.6249 - accuracy: 0.6257 - val_loss: 1.1534 - val_accuracy: 0.5672\n",
      "Epoch 52/1000\n",
      "160/160 [==============================] - 3s 21ms/step - loss: 0.6277 - accuracy: 0.6237 - val_loss: 1.2562 - val_accuracy: 0.5172\n",
      "Epoch 53/1000\n",
      "160/160 [==============================] - 3s 21ms/step - loss: 0.6125 - accuracy: 0.6285 - val_loss: 1.1087 - val_accuracy: 0.5930\n",
      "Epoch 54/1000\n",
      "160/160 [==============================] - 3s 21ms/step - loss: 0.6189 - accuracy: 0.6271 - val_loss: 1.1215 - val_accuracy: 0.5898\n",
      "Epoch 55/1000\n",
      "160/160 [==============================] - 3s 21ms/step - loss: 0.6079 - accuracy: 0.6368 - val_loss: 1.2246 - val_accuracy: 0.5406\n",
      "Epoch 56/1000\n",
      "160/160 [==============================] - 3s 21ms/step - loss: 0.6050 - accuracy: 0.6313 - val_loss: 1.1392 - val_accuracy: 0.5711\n",
      "Epoch 57/1000\n",
      "160/160 [==============================] - 3s 21ms/step - loss: 0.5872 - accuracy: 0.6406 - val_loss: 1.0756 - val_accuracy: 0.6016\n",
      "Epoch 58/1000\n",
      "160/160 [==============================] - 3s 21ms/step - loss: 0.5948 - accuracy: 0.6343 - val_loss: 1.1322 - val_accuracy: 0.5797\n",
      "Epoch 59/1000\n",
      "160/160 [==============================] - 3s 21ms/step - loss: 0.5796 - accuracy: 0.6444 - val_loss: 1.0342 - val_accuracy: 0.6258\n",
      "Epoch 60/1000\n",
      "160/160 [==============================] - 3s 21ms/step - loss: 0.5919 - accuracy: 0.6392 - val_loss: 1.1902 - val_accuracy: 0.5516\n",
      "Epoch 61/1000\n",
      "160/160 [==============================] - 3s 21ms/step - loss: 0.5777 - accuracy: 0.6456 - val_loss: 1.1296 - val_accuracy: 0.5789\n",
      "Epoch 62/1000\n",
      "160/160 [==============================] - 3s 21ms/step - loss: 0.5636 - accuracy: 0.6542 - val_loss: 1.1230 - val_accuracy: 0.5844\n",
      "Epoch 63/1000\n",
      "160/160 [==============================] - 3s 21ms/step - loss: 0.5684 - accuracy: 0.6500 - val_loss: 1.0956 - val_accuracy: 0.5883\n",
      "Epoch 64/1000\n",
      "160/160 [==============================] - 3s 20ms/step - loss: 0.5676 - accuracy: 0.6431 - val_loss: 1.0780 - val_accuracy: 0.6023\n",
      "Epoch 65/1000\n",
      "160/160 [==============================] - 3s 20ms/step - loss: 0.5613 - accuracy: 0.6504 - val_loss: 1.0677 - val_accuracy: 0.6023\n",
      "Epoch 66/1000\n",
      "160/160 [==============================] - 3s 20ms/step - loss: 0.5583 - accuracy: 0.6540 - val_loss: 1.0378 - val_accuracy: 0.6117\n",
      "Epoch 67/1000\n",
      "160/160 [==============================] - 3s 20ms/step - loss: 0.5492 - accuracy: 0.6633 - val_loss: 1.0128 - val_accuracy: 0.6375\n",
      "Epoch 68/1000\n",
      "160/160 [==============================] - 3s 21ms/step - loss: 0.5452 - accuracy: 0.6543 - val_loss: 1.0346 - val_accuracy: 0.6219\n",
      "Epoch 69/1000\n",
      "160/160 [==============================] - 3s 21ms/step - loss: 0.5486 - accuracy: 0.6618 - val_loss: 1.0367 - val_accuracy: 0.6234\n",
      "Epoch 70/1000\n",
      "160/160 [==============================] - 3s 21ms/step - loss: 0.5477 - accuracy: 0.6567 - val_loss: 1.0450 - val_accuracy: 0.6156\n",
      "Epoch 71/1000\n",
      "160/160 [==============================] - 3s 21ms/step - loss: 0.5359 - accuracy: 0.6610 - val_loss: 0.9701 - val_accuracy: 0.6430\n",
      "Epoch 72/1000\n",
      "160/160 [==============================] - 3s 21ms/step - loss: 0.5355 - accuracy: 0.6660 - val_loss: 1.0074 - val_accuracy: 0.6297\n",
      "Epoch 73/1000\n",
      "160/160 [==============================] - 3s 21ms/step - loss: 0.5319 - accuracy: 0.6620 - val_loss: 1.0037 - val_accuracy: 0.6297\n",
      "Epoch 74/1000\n",
      "160/160 [==============================] - 3s 21ms/step - loss: 0.5343 - accuracy: 0.6629 - val_loss: 0.9991 - val_accuracy: 0.6352\n",
      "Epoch 75/1000\n",
      "160/160 [==============================] - 3s 21ms/step - loss: 0.5178 - accuracy: 0.6692 - val_loss: 1.0464 - val_accuracy: 0.6094\n",
      "Epoch 76/1000\n",
      "160/160 [==============================] - 3s 21ms/step - loss: 0.5286 - accuracy: 0.6648 - val_loss: 0.9297 - val_accuracy: 0.6609\n",
      "Epoch 77/1000\n",
      "160/160 [==============================] - 3s 21ms/step - loss: 0.5131 - accuracy: 0.6724 - val_loss: 1.0370 - val_accuracy: 0.6148\n",
      "Epoch 78/1000\n",
      "160/160 [==============================] - 3s 21ms/step - loss: 0.5098 - accuracy: 0.6701 - val_loss: 0.9955 - val_accuracy: 0.6313\n",
      "Epoch 79/1000\n",
      "160/160 [==============================] - 3s 21ms/step - loss: 0.5046 - accuracy: 0.6712 - val_loss: 1.0097 - val_accuracy: 0.6313\n",
      "Epoch 80/1000\n",
      "160/160 [==============================] - 3s 20ms/step - loss: 0.5051 - accuracy: 0.6785 - val_loss: 1.0073 - val_accuracy: 0.6305\n",
      "Epoch 81/1000\n",
      "160/160 [==============================] - 3s 21ms/step - loss: 0.4990 - accuracy: 0.6740 - val_loss: 0.9524 - val_accuracy: 0.6555\n",
      "Epoch 82/1000\n",
      "160/160 [==============================] - 3s 21ms/step - loss: 0.5005 - accuracy: 0.6776 - val_loss: 0.9981 - val_accuracy: 0.6398\n",
      "Epoch 83/1000\n",
      "160/160 [==============================] - 3s 21ms/step - loss: 0.5006 - accuracy: 0.6704 - val_loss: 0.9218 - val_accuracy: 0.6664\n",
      "Epoch 84/1000\n",
      "160/160 [==============================] - 3s 21ms/step - loss: 0.4933 - accuracy: 0.6793 - val_loss: 0.9353 - val_accuracy: 0.6586\n",
      "Epoch 85/1000\n",
      "160/160 [==============================] - 3s 21ms/step - loss: 0.4886 - accuracy: 0.6867 - val_loss: 1.0119 - val_accuracy: 0.6266\n",
      "Epoch 86/1000\n",
      "160/160 [==============================] - 3s 20ms/step - loss: 0.4866 - accuracy: 0.6791 - val_loss: 0.9352 - val_accuracy: 0.6641\n",
      "Epoch 87/1000\n",
      "160/160 [==============================] - 3s 20ms/step - loss: 0.4872 - accuracy: 0.6817 - val_loss: 0.9660 - val_accuracy: 0.6555\n",
      "Epoch 88/1000\n",
      "160/160 [==============================] - 3s 20ms/step - loss: 0.4724 - accuracy: 0.6848 - val_loss: 0.8893 - val_accuracy: 0.6844\n",
      "Epoch 89/1000\n",
      "160/160 [==============================] - 3s 21ms/step - loss: 0.4708 - accuracy: 0.6890 - val_loss: 0.9485 - val_accuracy: 0.6508\n",
      "Epoch 90/1000\n",
      "160/160 [==============================] - 3s 21ms/step - loss: 0.4599 - accuracy: 0.6898 - val_loss: 0.9418 - val_accuracy: 0.6562\n",
      "Epoch 91/1000\n",
      "160/160 [==============================] - 3s 21ms/step - loss: 0.4637 - accuracy: 0.6950 - val_loss: 0.8781 - val_accuracy: 0.6859\n",
      "Epoch 92/1000\n",
      "160/160 [==============================] - 3s 21ms/step - loss: 0.4605 - accuracy: 0.6929 - val_loss: 0.8944 - val_accuracy: 0.6773\n",
      "Epoch 93/1000\n",
      "160/160 [==============================] - 3s 21ms/step - loss: 0.4619 - accuracy: 0.6961 - val_loss: 0.9175 - val_accuracy: 0.6664\n",
      "Epoch 94/1000\n",
      "160/160 [==============================] - 3s 20ms/step - loss: 0.4579 - accuracy: 0.6945 - val_loss: 0.8699 - val_accuracy: 0.6852\n",
      "Epoch 95/1000\n",
      "160/160 [==============================] - 3s 20ms/step - loss: 0.4536 - accuracy: 0.7016 - val_loss: 0.8656 - val_accuracy: 0.6867\n",
      "Epoch 96/1000\n",
      "160/160 [==============================] - 3s 20ms/step - loss: 0.4613 - accuracy: 0.6917 - val_loss: 0.9459 - val_accuracy: 0.6516\n",
      "Epoch 97/1000\n",
      "160/160 [==============================] - 3s 20ms/step - loss: 0.4517 - accuracy: 0.7011 - val_loss: 0.8843 - val_accuracy: 0.6797\n",
      "Epoch 98/1000\n",
      "160/160 [==============================] - 3s 20ms/step - loss: 0.4392 - accuracy: 0.7074 - val_loss: 0.8878 - val_accuracy: 0.6820\n",
      "Epoch 99/1000\n",
      "160/160 [==============================] - 3s 20ms/step - loss: 0.4442 - accuracy: 0.7021 - val_loss: 0.9428 - val_accuracy: 0.6531\n",
      "Epoch 100/1000\n",
      "160/160 [==============================] - 3s 20ms/step - loss: 0.4424 - accuracy: 0.7045 - val_loss: 0.9551 - val_accuracy: 0.6500\n",
      "Epoch 101/1000\n",
      "160/160 [==============================] - 3s 20ms/step - loss: 0.4414 - accuracy: 0.7045 - val_loss: 0.9506 - val_accuracy: 0.6461\n",
      "Epoch 102/1000\n"
     ]
    },
    {
     "name": "stdout",
     "output_type": "stream",
     "text": [
      "160/160 [==============================] - 3s 20ms/step - loss: 0.4259 - accuracy: 0.7103 - val_loss: 0.8829 - val_accuracy: 0.6805\n",
      "Epoch 103/1000\n",
      "160/160 [==============================] - 3s 20ms/step - loss: 0.4323 - accuracy: 0.7061 - val_loss: 0.9236 - val_accuracy: 0.6633\n",
      "Epoch 104/1000\n",
      "160/160 [==============================] - 3s 20ms/step - loss: 0.4341 - accuracy: 0.7056 - val_loss: 0.9452 - val_accuracy: 0.6531\n",
      "Epoch 105/1000\n",
      "160/160 [==============================] - 3s 20ms/step - loss: 0.4217 - accuracy: 0.7086 - val_loss: 0.8652 - val_accuracy: 0.6883\n",
      "Epoch 106/1000\n",
      "160/160 [==============================] - 3s 20ms/step - loss: 0.4166 - accuracy: 0.7135 - val_loss: 0.8632 - val_accuracy: 0.6859\n",
      "Epoch 107/1000\n",
      "160/160 [==============================] - 3s 20ms/step - loss: 0.4251 - accuracy: 0.7107 - val_loss: 0.9346 - val_accuracy: 0.6539\n",
      "Epoch 108/1000\n",
      "160/160 [==============================] - 3s 20ms/step - loss: 0.4170 - accuracy: 0.7133 - val_loss: 0.8820 - val_accuracy: 0.6805\n",
      "Epoch 109/1000\n",
      "160/160 [==============================] - 3s 20ms/step - loss: 0.4172 - accuracy: 0.7138 - val_loss: 0.9277 - val_accuracy: 0.6562\n",
      "Epoch 110/1000\n",
      "160/160 [==============================] - 3s 20ms/step - loss: 0.4044 - accuracy: 0.7171 - val_loss: 0.8712 - val_accuracy: 0.6750\n",
      "Epoch 111/1000\n",
      "160/160 [==============================] - 3s 20ms/step - loss: 0.4016 - accuracy: 0.7211 - val_loss: 0.8816 - val_accuracy: 0.6742\n",
      "Epoch 112/1000\n",
      "160/160 [==============================] - 3s 20ms/step - loss: 0.4039 - accuracy: 0.7153 - val_loss: 0.8480 - val_accuracy: 0.6875\n",
      "Epoch 113/1000\n",
      "160/160 [==============================] - 3s 20ms/step - loss: 0.3970 - accuracy: 0.7178 - val_loss: 0.8940 - val_accuracy: 0.6664\n",
      "Epoch 114/1000\n",
      "160/160 [==============================] - 3s 20ms/step - loss: 0.4079 - accuracy: 0.7178 - val_loss: 0.8914 - val_accuracy: 0.6750\n",
      "Epoch 115/1000\n",
      "160/160 [==============================] - 3s 20ms/step - loss: 0.3940 - accuracy: 0.7170 - val_loss: 0.8809 - val_accuracy: 0.6805\n",
      "Epoch 116/1000\n",
      "160/160 [==============================] - 3s 20ms/step - loss: 0.3923 - accuracy: 0.7191 - val_loss: 0.8932 - val_accuracy: 0.6766\n",
      "Epoch 117/1000\n",
      "160/160 [==============================] - 3s 20ms/step - loss: 0.3924 - accuracy: 0.7169 - val_loss: 0.9222 - val_accuracy: 0.6586\n",
      "Epoch 118/1000\n",
      "160/160 [==============================] - 3s 20ms/step - loss: 0.3834 - accuracy: 0.7222 - val_loss: 0.8679 - val_accuracy: 0.6805\n",
      "Epoch 119/1000\n",
      "160/160 [==============================] - 3s 20ms/step - loss: 0.3866 - accuracy: 0.7288 - val_loss: 0.8897 - val_accuracy: 0.6711\n",
      "Epoch 120/1000\n",
      "160/160 [==============================] - 3s 20ms/step - loss: 0.3883 - accuracy: 0.7273 - val_loss: 0.8752 - val_accuracy: 0.6805\n",
      "Epoch 121/1000\n",
      "160/160 [==============================] - 3s 20ms/step - loss: 0.3710 - accuracy: 0.7341 - val_loss: 0.8037 - val_accuracy: 0.7156\n",
      "Epoch 122/1000\n",
      "160/160 [==============================] - 3s 20ms/step - loss: 0.3781 - accuracy: 0.7340 - val_loss: 0.8799 - val_accuracy: 0.6711\n",
      "Epoch 123/1000\n",
      "160/160 [==============================] - 3s 20ms/step - loss: 0.3742 - accuracy: 0.7235 - val_loss: 0.8491 - val_accuracy: 0.6961\n",
      "Epoch 124/1000\n",
      "160/160 [==============================] - 3s 20ms/step - loss: 0.3745 - accuracy: 0.7338 - val_loss: 0.8373 - val_accuracy: 0.6969\n",
      "Epoch 125/1000\n",
      "160/160 [==============================] - 3s 20ms/step - loss: 0.3754 - accuracy: 0.7322 - val_loss: 0.7794 - val_accuracy: 0.7211\n",
      "Epoch 126/1000\n",
      "160/160 [==============================] - 3s 20ms/step - loss: 0.3626 - accuracy: 0.7400 - val_loss: 0.8517 - val_accuracy: 0.6898\n",
      "Epoch 127/1000\n",
      "160/160 [==============================] - 3s 20ms/step - loss: 0.3639 - accuracy: 0.7347 - val_loss: 0.8188 - val_accuracy: 0.7055\n",
      "Epoch 128/1000\n",
      "160/160 [==============================] - 3s 20ms/step - loss: 0.3666 - accuracy: 0.7374 - val_loss: 0.8298 - val_accuracy: 0.7016\n",
      "Epoch 129/1000\n",
      "160/160 [==============================] - 3s 20ms/step - loss: 0.3586 - accuracy: 0.7387 - val_loss: 0.7895 - val_accuracy: 0.7164\n",
      "Epoch 130/1000\n",
      "160/160 [==============================] - 3s 20ms/step - loss: 0.3627 - accuracy: 0.7349 - val_loss: 0.8430 - val_accuracy: 0.6938\n",
      "Epoch 131/1000\n",
      "160/160 [==============================] - 3s 20ms/step - loss: 0.3529 - accuracy: 0.7400 - val_loss: 0.8192 - val_accuracy: 0.7047\n",
      "Epoch 132/1000\n",
      "160/160 [==============================] - 3s 21ms/step - loss: 0.3528 - accuracy: 0.7400 - val_loss: 0.7987 - val_accuracy: 0.7117\n",
      "Epoch 133/1000\n",
      "160/160 [==============================] - 3s 20ms/step - loss: 0.3516 - accuracy: 0.7463 - val_loss: 0.8352 - val_accuracy: 0.7008\n",
      "Epoch 134/1000\n",
      "160/160 [==============================] - 3s 20ms/step - loss: 0.3469 - accuracy: 0.7418 - val_loss: 0.8270 - val_accuracy: 0.6977\n",
      "Epoch 135/1000\n",
      "160/160 [==============================] - 3s 20ms/step - loss: 0.3504 - accuracy: 0.7401 - val_loss: 0.8436 - val_accuracy: 0.6914\n",
      "time: 7min 28s (started: 2021-12-07 04:46:44 +00:00)\n"
     ]
    }
   ],
   "source": [
    "if __name__ == \"__main__\":\n",
    "    batch_size = 64\n",
    "    shapes = ((batch_size, 64, 64, 3),\n",
    "              (batch_size, 6))\n",
    "    pipe_train = TFRecordPipelineTrain(batch_size=batch_size, \n",
    "                                 num_threads=1, \n",
    "                                 device='gpu', \n",
    "                                 device_id=0)\n",
    "\n",
    "    batch_size_valid = 64\n",
    "    shapes_valid = ((batch_size_valid, 64, 64, 3),\n",
    "              (batch_size_valid, 6))\n",
    "    pipe_valid = TFRecordPipelineValid(batch_size=batch_size_valid, \n",
    "                                 num_threads=1, \n",
    "                                 device='gpu', \n",
    "                                 device_id=0)  \n",
    "    \n",
    "    with tf.device('/gpu:0'):\n",
    "        ds_train = dali_tf.DALIDataset(\n",
    "            pipeline=pipe_train,\n",
    "            batch_size=batch_size,\n",
    "            output_shapes=shapes,\n",
    "            output_dtypes=(tf.float32, tf.int64),\n",
    "            device_id=0)\n",
    "        \n",
    "        ds_valid = dali_tf.DALIDataset(\n",
    "            pipeline=pipe_valid,\n",
    "            batch_size=batch_size_valid,\n",
    "            output_shapes=shapes_valid,\n",
    "            output_dtypes=(tf.float32, tf.int64),\n",
    "            device_id=0)    \n",
    "        \n",
    "        initializer = keras.initializers.GlorotUniform(seed=set_seed)\n",
    "        activation =  keras.activations.softmax\n",
    "        lr_schedule = keras.optimizers.schedules.ExponentialDecay(\n",
    "            initial_learning_rate=1e-5,\n",
    "            decay_steps=TRAIN_DATA_SIZE // batch_size * 10,\n",
    "            decay_rate=0.95)\n",
    "\n",
    "        number_of_classes = 6\n",
    "        \n",
    "        inputs = keras.Input(shape=(64, 64, 3))\n",
    "        conv1 = keras.layers.Conv2D(128,(3, 3), padding='same', activation='relu')(inputs)\n",
    "        do1 = keras.layers.Dropout(0.5, seed=set_seed)(conv1)         \n",
    "        conv2 = keras.layers.Conv2D(64,(3, 3), padding='same', activation='relu')(do1)\n",
    "        do2 = keras.layers.Dropout(0.5, seed=set_seed)(conv2)         \n",
    "        conv3 = keras.layers.Conv2D(32,(3, 3), padding='same', activation='relu')(do2)\n",
    "        do3 = keras.layers.Dropout(0.5, seed=set_seed)(conv3)       \n",
    "        flatten = keras.layers.Flatten()(do3)    \n",
    "        outputs = keras.layers.Dense(number_of_classes,\n",
    "                             kernel_initializer=initializer,\n",
    "                             activation=activation)(flatten) \n",
    "        clf = keras.Model(inputs, outputs)\n",
    "        \n",
    "        clf.summary()\n",
    "\n",
    "        # Apply early stopping.        \n",
    "        es_callback = tf.keras.callbacks.EarlyStopping(monitor='val_loss', patience=10,\n",
    "                                                       restore_best_weights=True)\n",
    "        \n",
    "        clf.compile(optimizer=keras.optimizers.Adam(learning_rate=lr_schedule),\n",
    "              loss=keras.losses.CategoricalCrossentropy(),\n",
    "              metrics=['accuracy'])\n",
    "        \n",
    "        history = clf.fit(ds_train, steps_per_epoch=TRAIN_DATA_SIZE // batch_size,\n",
    "                          validation_data=ds_valid.take(VALID_DATA_SIZE // batch_size_valid),\n",
    "                          epochs=1000,\n",
    "                          class_weight=class_weight_dict,\n",
    "                          callbacks=[es_callback])    "
   ]
  },
  {
   "cell_type": "code",
   "execution_count": 19,
   "metadata": {},
   "outputs": [
    {
     "name": "stdout",
     "output_type": "stream",
     "text": [
      "dict_keys(['loss', 'accuracy', 'val_loss', 'val_accuracy'])\n",
      "time: 1.07 ms (started: 2021-12-07 04:54:12 +00:00)\n"
     ]
    }
   ],
   "source": [
    "# List all data in history.\n",
    "\n",
    "print(history.history.keys())"
   ]
  },
  {
   "cell_type": "code",
   "execution_count": 20,
   "metadata": {},
   "outputs": [
    {
     "data": {
      "image/png": "[encoded data removed]",
      "text/plain": [
       "<Figure size 432x288 with 1 Axes>"
      ]
     },
     "metadata": {
      "needs_background": "light"
     },
     "output_type": "display_data"
    },
    {
     "name": "stdout",
     "output_type": "stream",
     "text": [
      "time: 203 ms (started: 2021-12-07 04:54:12 +00:00)\n"
     ]
    }
   ],
   "source": [
    "# Summarize history for accuracy.\n",
    "\n",
    "plt.plot(history.history['accuracy'])\n",
    "plt.plot(history.history['val_accuracy'])\n",
    "plt.title('model accuracy')\n",
    "plt.ylabel('accuracy')\n",
    "plt.xlabel('epoch')\n",
    "plt.legend(['train', 'valid'], loc='upper left')\n",
    "plt.show()"
   ]
  },
  {
   "cell_type": "code",
   "execution_count": 21,
   "metadata": {},
   "outputs": [
    {
     "data": {
      "image/png": "[encoded data removed]",
      "text/plain": [
       "<Figure size 432x288 with 1 Axes>"
      ]
     },
     "metadata": {
      "needs_background": "light"
     },
     "output_type": "display_data"
    },
    {
     "name": "stdout",
     "output_type": "stream",
     "text": [
      "time: 142 ms (started: 2021-12-07 04:54:13 +00:00)\n"
     ]
    }
   ],
   "source": [
    "# Summarize history for loss.\n",
    "\n",
    "plt.plot(history.history['loss'])\n",
    "plt.plot(history.history['val_loss'])\n",
    "plt.title('model loss')\n",
    "plt.ylabel('loss')\n",
    "plt.xlabel('epoch')\n",
    "plt.legend(['train', 'val'], loc='upper right')\n",
    "plt.show()"
   ]
  },
  {
   "cell_type": "markdown",
   "metadata": {},
   "source": [
    "### Define test pipeline."
   ]
  },
  {
   "cell_type": "code",
   "execution_count": 22,
   "metadata": {},
   "outputs": [
    {
     "name": "stdout",
     "output_type": "stream",
     "text": [
      "time: 1.82 ms (started: 2021-12-07 04:54:13 +00:00)\n"
     ]
    }
   ],
   "source": [
    "class TFRecordPipelineTest(Pipeline):\n",
    "    def __init__(self, batch_size, num_threads,\n",
    "                 device = 'cpu', device_id = 0):\n",
    "        super(TFRecordPipelineTest, self).__init__(batch_size,\n",
    "                                         num_threads,\n",
    "                                         device_id)\n",
    "        self.input = fn.readers.tfrecord(        \n",
    "             features = {\"image_raw\": tfrec.FixedLenFeature((), tfrec.string, \"\"),\n",
    "                         \"label\": tfrec.FixedLenFeature([6], tfrec.int64,  6)},\n",
    "             path = ['./tfrecords/6_basic_emo_test.tfrecords'],\n",
    "             index_path = ['./tfrecords/6_basic_emo_test.idx'],\n",
    "             random_shuffle=False,\n",
    "             seed = set_seed)\n",
    "        self.iter = 0\n",
    "    def define_graph(self):\n",
    "        inputs = self.input\n",
    "        images = fn.decoders.image(inputs[\"image_raw\"], device = \"mixed\", output_type = types.RGB) / 255.\n",
    "        labels = inputs[\"label\"].gpu()\n",
    "        return (images, labels)\n",
    "    def iter_setup(self):\n",
    "        pass"
   ]
  },
  {
   "cell_type": "markdown",
   "metadata": {},
   "source": [
    "### Check test data accuracy."
   ]
  },
  {
   "cell_type": "code",
   "execution_count": 23,
   "metadata": {
    "scrolled": false
   },
   "outputs": [
    {
     "name": "stdout",
     "output_type": "stream",
     "text": [
      "<DALIDataset shapes: ((1, 64, 64, 3), (1, 6)), types: (tf.float32, tf.int64)>\n",
      "1282/1282 [==============================] - 7s 5ms/step - loss: 0.7353 - accuracy: 0.7293\n",
      "Test accuracy: 0.7293291687965393\n",
      "A test output from the last layer: [0.35157943 0.34732985 0.1809497  0.04843338 0.02260682 0.04910081]\n",
      "Index of the maximum value: 0\n",
      "Label: angry\n",
      "time: 6.86 s (started: 2021-12-07 04:54:13 +00:00)\n"
     ]
    }
   ],
   "source": [
    "# https://docs.nvidia.com/deeplearning/dali/user-guide/docs/plugins/tensorflow_plugin_api.html\n",
    "\n",
    "if __name__ == \"__main__\":\n",
    "    batch_size = 1\n",
    "    shapes = ((batch_size, 64, 64, 3),\n",
    "              (batch_size, 6))\n",
    "    pipe_test = TFRecordPipelineTest(batch_size=batch_size, \n",
    "                            num_threads=4, \n",
    "                            device='gpu', \n",
    "                            device_id=0)\n",
    "\n",
    "    with tf.device('/gpu:0'):\n",
    "    #with strategy.scope():        \n",
    "        # Create dataset\n",
    "        ds_test = dali_tf.DALIDataset(\n",
    "            pipeline=pipe_test,\n",
    "            batch_size=batch_size,\n",
    "            output_shapes=shapes,\n",
    "            output_dtypes=(tf.float32, tf.int64),\n",
    "            device_id=0)\n",
    "        print(ds_test)\n",
    "        loss, acc = clf.evaluate(ds_test, steps=TEST_DATA_SIZE)\n",
    "        print(\"Test accuracy:\", acc)\n",
    "        predictions = clf.predict(ds_test.take(5))\n",
    "        print(\"A test output from the last layer:\", predictions[0])\n",
    "        print(\"Index of the maximum value:\", np.argmax(predictions[0]))\n",
    "        print(\"Label:\", LABELS[np.argmax(predictions[0])])"
   ]
  },
  {
   "cell_type": "code",
   "execution_count": 24,
   "metadata": {
    "scrolled": true
   },
   "outputs": [
    {
     "data": {
      "text/plain": [
       "array([[3.5157943e-01, 3.4732985e-01, 1.8094970e-01, 4.8433382e-02,\n",
       "        2.2606820e-02, 4.9100805e-02],\n",
       "       [3.1515525e-03, 9.7281451e-04, 3.5567471e-04, 1.0886308e-02,\n",
       "        1.0919165e-04, 9.8452455e-01],\n",
       "       [6.4840472e-01, 2.1486215e-01, 3.5345495e-02, 1.1877639e-02,\n",
       "        1.9013369e-02, 7.0496656e-02],\n",
       "       [6.4402097e-01, 5.7905507e-03, 1.9980711e-01, 4.1813268e-03,\n",
       "        6.6452082e-03, 1.3955475e-01],\n",
       "       [9.6675485e-01, 2.0001614e-06, 2.8023208e-02, 2.0221896e-03,\n",
       "        3.4129002e-07, 3.1974684e-03]], dtype=float32)"
      ]
     },
     "execution_count": 24,
     "metadata": {},
     "output_type": "execute_result"
    },
    {
     "name": "stdout",
     "output_type": "stream",
     "text": [
      "time: 3.89 ms (started: 2021-12-07 04:54:20 +00:00)\n"
     ]
    }
   ],
   "source": [
    "predictions"
   ]
  },
  {
   "cell_type": "code",
   "execution_count": 25,
   "metadata": {
    "scrolled": true
   },
   "outputs": [
    {
     "data": {
      "text/plain": [
       "<matplotlib.image.AxesImage at 0x7f24ac13ea20>"
      ]
     },
     "execution_count": 25,
     "metadata": {},
     "output_type": "execute_result"
    },
    {
     "data": {
      "image/png": "[encoded data removed]",
      "text/plain": [
       "<Figure size 432x288 with 1 Axes>"
      ]
     },
     "metadata": {
      "needs_background": "light"
     },
     "output_type": "display_data"
    },
    {
     "name": "stdout",
     "output_type": "stream",
     "text": [
      "time: 195 ms (started: 2021-12-07 04:54:20 +00:00)\n"
     ]
    }
   ],
   "source": [
    "# Display the tested image.\n",
    "\n",
    "import matplotlib.pyplot as plt\n",
    "\n",
    "data, = ds_test.take(1)\n",
    "plt.imshow(data[0][0])"
   ]
  },
  {
   "cell_type": "code",
   "execution_count": 26,
   "metadata": {},
   "outputs": [
    {
     "data": {
      "text/plain": [
       "<tf.Tensor: shape=(1, 6), dtype=int64, numpy=array([[1, 0, 0, 0, 0, 0]])>"
      ]
     },
     "execution_count": 26,
     "metadata": {},
     "output_type": "execute_result"
    },
    {
     "name": "stdout",
     "output_type": "stream",
     "text": [
      "time: 3.03 ms (started: 2021-12-07 04:54:20 +00:00)\n"
     ]
    }
   ],
   "source": [
    "# Check the test data's true label.\n",
    "data[1]"
   ]
  },
  {
   "cell_type": "code",
   "execution_count": 27,
   "metadata": {},
   "outputs": [
    {
     "data": {
      "text/plain": [
       "(<tf.Tensor: shape=(1, 64, 64, 3), dtype=float32, numpy=\n",
       " array([[[[0.03921569, 0.03529412, 0.01176471],\n",
       "          [0.05098039, 0.04705882, 0.02352941],\n",
       "          [0.04705882, 0.05098039, 0.02352941],\n",
       "          ...,\n",
       "          [0.14509805, 0.08627451, 0.05882353],\n",
       "          [0.08235294, 0.0627451 , 0.03137255],\n",
       "          [0.09411765, 0.07450981, 0.04313726]],\n",
       " \n",
       "         [[0.03921569, 0.03529412, 0.01176471],\n",
       "          [0.04313726, 0.03921569, 0.01568628],\n",
       "          [0.03529412, 0.03921569, 0.01176471],\n",
       "          ...,\n",
       "          [0.17254902, 0.11372549, 0.08627451],\n",
       "          [0.08627451, 0.06666667, 0.03529412],\n",
       "          [0.09411765, 0.07450981, 0.04313726]],\n",
       " \n",
       "         [[0.04313726, 0.04313726, 0.02745098],\n",
       "          [0.04313726, 0.04313726, 0.02745098],\n",
       "          [0.03137255, 0.04313726, 0.02352941],\n",
       "          ...,\n",
       "          [0.21568628, 0.12941177, 0.09411765],\n",
       "          [0.11372549, 0.06666667, 0.03529412],\n",
       "          [0.15294118, 0.10588235, 0.07450981]],\n",
       " \n",
       "         ...,\n",
       " \n",
       "         [[0.38431373, 0.36862746, 0.3764706 ],\n",
       "          [0.33333334, 0.31764707, 0.3254902 ],\n",
       "          [0.27058825, 0.2627451 , 0.26666668],\n",
       "          ...,\n",
       "          [0.4509804 , 0.36078432, 0.28235295],\n",
       "          [0.42352942, 0.3372549 , 0.23921569],\n",
       "          [0.39607844, 0.30980393, 0.21176471]],\n",
       " \n",
       "         [[0.30980393, 0.30588236, 0.3137255 ],\n",
       "          [0.27058825, 0.26666668, 0.27450982],\n",
       "          [0.23137255, 0.23529412, 0.25882354],\n",
       "          ...,\n",
       "          [0.43137255, 0.37254903, 0.3372549 ],\n",
       "          [0.38039216, 0.3764706 , 0.3529412 ],\n",
       "          [0.43529412, 0.43137255, 0.40784314]],\n",
       " \n",
       "         [[0.27450982, 0.27058825, 0.2784314 ],\n",
       "          [0.22745098, 0.22352941, 0.23137255],\n",
       "          [0.21568628, 0.21960784, 0.24313726],\n",
       "          ...,\n",
       "          [0.34901962, 0.2901961 , 0.25490198],\n",
       "          [0.29803923, 0.29411766, 0.27058825],\n",
       "          [0.2627451 , 0.25882354, 0.23529412]]]], dtype=float32)>,\n",
       " <tf.Tensor: shape=(1, 6), dtype=int64, numpy=array([[1, 0, 0, 0, 0, 0]])>)"
      ]
     },
     "execution_count": 27,
     "metadata": {},
     "output_type": "execute_result"
    },
    {
     "name": "stdout",
     "output_type": "stream",
     "text": [
      "time: 9 ms (started: 2021-12-07 04:54:20 +00:00)\n"
     ]
    }
   ],
   "source": [
    "data"
   ]
  },
  {
   "cell_type": "code",
   "execution_count": 28,
   "metadata": {},
   "outputs": [
    {
     "name": "stdout",
     "output_type": "stream",
     "text": [
      "time: 3.76 s (started: 2021-12-07 04:54:20 +00:00)\n"
     ]
    }
   ],
   "source": [
    "pred_test = clf.predict(ds_test.take(TEST_DATA_SIZE))"
   ]
  },
  {
   "cell_type": "code",
   "execution_count": 29,
   "metadata": {},
   "outputs": [
    {
     "name": "stdout",
     "output_type": "stream",
     "text": [
      "time: 724 ms (started: 2021-12-07 04:54:24 +00:00)\n"
     ]
    }
   ],
   "source": [
    "true_test = np.concatenate([y for x, y in ds_test.take(TEST_DATA_SIZE)], axis=0)"
   ]
  },
  {
   "cell_type": "code",
   "execution_count": 30,
   "metadata": {},
   "outputs": [
    {
     "data": {
      "text/plain": [
       "(1282, 6)"
      ]
     },
     "execution_count": 30,
     "metadata": {},
     "output_type": "execute_result"
    },
    {
     "name": "stdout",
     "output_type": "stream",
     "text": [
      "time: 2.36 ms (started: 2021-12-07 04:54:24 +00:00)\n"
     ]
    }
   ],
   "source": [
    "true_test.shape"
   ]
  },
  {
   "cell_type": "code",
   "execution_count": 31,
   "metadata": {},
   "outputs": [
    {
     "data": {
      "text/plain": [
       "array([[589,  34,  49,  11,  21,  55],\n",
       "       [  1,  10,   0,   0,   1,   0],\n",
       "       [ 54,  11, 170,  15,   3,  19],\n",
       "       [  1,   0,   2,  24,   1,   0],\n",
       "       [  1,   0,   0,   0,  17,   0],\n",
       "       [ 41,   8,  12,   2,   5, 125]])"
      ]
     },
     "execution_count": 31,
     "metadata": {},
     "output_type": "execute_result"
    },
    {
     "name": "stdout",
     "output_type": "stream",
     "text": [
      "time: 40.8 ms (started: 2021-12-07 04:54:24 +00:00)\n"
     ]
    }
   ],
   "source": [
    "from sklearn.metrics import confusion_matrix\n",
    "\n",
    "pred_test_ls = []\n",
    "true_test_ls = []\n",
    "for (pred, true) in zip(pred_test, true_test):\n",
    "    pred_test_ls.append(np.argmax(pred))\n",
    "    true_test_ls.append(np.argmax(true))\n",
    "\n",
    "cf_matrix_test = confusion_matrix(true_test_ls, pred_test_ls)\n",
    "cf_matrix_test"
   ]
  },
  {
   "cell_type": "code",
   "execution_count": 32,
   "metadata": {},
   "outputs": [
    {
     "data": {
      "text/plain": [
       "Text(33.0, 0.5, 'True')"
      ]
     },
     "execution_count": 32,
     "metadata": {},
     "output_type": "execute_result"
    },
    {
     "data": {
      "image/png": "[encoded data removed]",
      "text/plain": [
       "<Figure size 432x288 with 2 Axes>"
      ]
     },
     "metadata": {
      "needs_background": "light"
     },
     "output_type": "display_data"
    },
    {
     "name": "stdout",
     "output_type": "stream",
     "text": [
      "time: 369 ms (started: 2021-12-07 04:54:24 +00:00)\n"
     ]
    }
   ],
   "source": [
    "import seaborn as sns\n",
    "\n",
    "sns.heatmap(cf_matrix_test, annot=True, cmap='Blues', xticklabels=LABELS, yticklabels=LABELS, fmt='g')\n",
    "plt.title('ConvNN: 6 Class FER')\n",
    "plt.xlabel('Predicted')\n",
    "plt.ylabel('True')"
   ]
  },
  {
   "cell_type": "markdown",
   "metadata": {},
   "source": [
    "### Check train data accuracy."
   ]
  },
  {
   "cell_type": "code",
   "execution_count": 33,
   "metadata": {},
   "outputs": [
    {
     "name": "stdout",
     "output_type": "stream",
     "text": [
      "10249/10249 [==============================] - 51s 5ms/step - loss: 0.6700 - accuracy: 0.7647\n",
      "Train accuracy: 0.7646599411964417\n",
      "time: 50.7 s (started: 2021-12-07 04:54:25 +00:00)\n"
     ]
    }
   ],
   "source": [
    "# https://docs.nvidia.com/deeplearning/dali/user-guide/docs/plugins/tensorflow_plugin_api.html\n",
    "\n",
    "if __name__ == \"__main__\":\n",
    "    batch_size = 1\n",
    "    shapes = ((batch_size, 64, 64, 3),\n",
    "              (batch_size, 6))\n",
    "    pipe_train = TFRecordPipelineTrain(batch_size=batch_size, \n",
    "                            num_threads=4, \n",
    "                            device='gpu', \n",
    "                            device_id=0)\n",
    "\n",
    "    with tf.device('/gpu:0'):\n",
    "        ds_train = dali_tf.DALIDataset(\n",
    "            pipeline=pipe_train,\n",
    "            batch_size=batch_size,\n",
    "            output_shapes=shapes,\n",
    "            output_dtypes=(tf.float32, tf.int64),\n",
    "            device_id=0)\n",
    "        loss, acc = clf.evaluate(ds_train, steps=TRAIN_DATA_SIZE)\n",
    "        print(\"Train accuracy:\", acc)\n",
    "        #predictions = clf.predict(ds_train.take(1))\n",
    "        #print(\"A test output from the last layer:\", predictions[0])\n",
    "        #print(\"Index of the maximum value:\", np.argmax(predictions[0]))\n",
    "        #print(\"Label:\", LABELS[np.argmax(predictions[0])])"
   ]
  },
  {
   "cell_type": "code",
   "execution_count": 34,
   "metadata": {},
   "outputs": [
    {
     "name": "stdout",
     "output_type": "stream",
     "text": [
      "time: 28.9 s (started: 2021-12-07 04:55:15 +00:00)\n"
     ]
    }
   ],
   "source": [
    "pred_train = clf.predict(ds_train.take(TRAIN_DATA_SIZE))"
   ]
  },
  {
   "cell_type": "code",
   "execution_count": 35,
   "metadata": {},
   "outputs": [
    {
     "name": "stdout",
     "output_type": "stream",
     "text": [
      "time: 4.11 s (started: 2021-12-07 04:55:44 +00:00)\n"
     ]
    }
   ],
   "source": [
    "true_train = np.concatenate([y for x, y in ds_train.take(TRAIN_DATA_SIZE)], axis=0)"
   ]
  },
  {
   "cell_type": "code",
   "execution_count": 36,
   "metadata": {},
   "outputs": [
    {
     "data": {
      "text/plain": [
       "(10249, 6)"
      ]
     },
     "execution_count": 36,
     "metadata": {},
     "output_type": "execute_result"
    },
    {
     "name": "stdout",
     "output_type": "stream",
     "text": [
      "time: 2.79 ms (started: 2021-12-07 04:55:48 +00:00)\n"
     ]
    }
   ],
   "source": [
    "true_train.shape"
   ]
  },
  {
   "cell_type": "code",
   "execution_count": 37,
   "metadata": {},
   "outputs": [
    {
     "data": {
      "text/plain": [
       "array([[4899,  298,  303,   85,  163,  320],\n",
       "       [   2,   91,    0,    0,    0,    0],\n",
       "       [ 412,   67, 1439,   84,   31,  138],\n",
       "       [   7,    1,    1,  212,    0,    3],\n",
       "       [   4,    2,    1,    2,  140,    0],\n",
       "       [ 244,   53,  105,   55,   31, 1056]])"
      ]
     },
     "execution_count": 37,
     "metadata": {},
     "output_type": "execute_result"
    },
    {
     "name": "stdout",
     "output_type": "stream",
     "text": [
      "time: 82.2 ms (started: 2021-12-07 04:55:48 +00:00)\n"
     ]
    }
   ],
   "source": [
    "pred_train_ls = []\n",
    "true_train_ls = []\n",
    "for (pred, true) in zip(pred_train, true_train):\n",
    "    pred_train_ls.append(np.argmax(pred))\n",
    "    true_train_ls.append(np.argmax(true))\n",
    "\n",
    "cf_matrix_train = confusion_matrix(true_train_ls, pred_train_ls)\n",
    "cf_matrix_train"
   ]
  },
  {
   "cell_type": "code",
   "execution_count": 38,
   "metadata": {},
   "outputs": [
    {
     "data": {
      "text/plain": [
       "Text(33.0, 0.5, 'True')"
      ]
     },
     "execution_count": 38,
     "metadata": {},
     "output_type": "execute_result"
    },
    {
     "data": {
      "image/png": "[encoded data removed]",
      "text/plain": [
       "<Figure size 432x288 with 2 Axes>"
      ]
     },
     "metadata": {
      "needs_background": "light"
     },
     "output_type": "display_data"
    },
    {
     "name": "stdout",
     "output_type": "stream",
     "text": [
      "time: 341 ms (started: 2021-12-07 04:55:49 +00:00)\n"
     ]
    }
   ],
   "source": [
    "sns.heatmap(cf_matrix_train, annot=True, cmap='Blues', xticklabels=LABELS, yticklabels=LABELS, fmt='g')\n",
    "plt.title('ConvNN: 6 Class FER (Train Data)')\n",
    "plt.xlabel('Predicted')\n",
    "plt.ylabel('True')"
   ]
  },
  {
   "cell_type": "code",
   "execution_count": null,
   "metadata": {},
   "outputs": [],
   "source": []
  }
 ],
 "metadata": {
  "kernelspec": {
   "display_name": "Python 3",
   "language": "python",
   "name": "python3"
  },
  "language_info": {
   "codemirror_mode": {
    "name": "ipython",
    "version": 3
   },
   "file_extension": ".py",
   "mimetype": "text/x-python",
   "name": "python",
   "nbconvert_exporter": "python",
   "pygments_lexer": "ipython3",
   "version": "3.6.9"
  }
 },
 "nbformat": 4,
 "nbformat_minor": 2
}
