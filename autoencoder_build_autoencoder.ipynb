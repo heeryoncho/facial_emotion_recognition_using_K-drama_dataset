{
 "cells": [
  {
   "cell_type": "markdown",
   "metadata": {},
   "source": [
    "This notebook contains the code used in the BigComp 2022 paper: <br>\n",
    "<b>Heeryon Cho, Woo-Kyu Kang, Younsoo Park, Sungeu Chae, and Seong-joon Kim, \"Multi-label Facial Emotion Recognition Using Korean Drama Movie Clips,\" BigComp 2022.</b>\n",
    "### This code builds an autoencoder model from color, cropped face images. "
   ]
  },
  {
   "cell_type": "code",
   "execution_count": 1,
   "metadata": {},
   "outputs": [],
   "source": [
    "import tensorflow as tf\n",
    "from tensorflow import keras\n",
    "from tensorflow.keras.models import Sequential\n",
    "from tensorflow.keras.layers import Activation, Input\n",
    "from tensorflow.keras.layers import Conv2D, MaxPooling2D, UpSampling2D, Conv2DTranspose\n",
    "import matplotlib.pyplot as plt\n",
    "import numpy as np\n",
    "from tensorflow.keras.preprocessing.image import ImageDataGenerator"
   ]
  },
  {
   "cell_type": "code",
   "execution_count": 2,
   "metadata": {},
   "outputs": [],
   "source": [
    "import warnings\n",
    "warnings.filterwarnings(\"ignore\")\n",
    "import os\n",
    "import random as rn"
   ]
  },
  {
   "cell_type": "code",
   "execution_count": 3,
   "metadata": {},
   "outputs": [
    {
     "name": "stdout",
     "output_type": "stream",
     "text": [
      "time: 497 µs (started: 2021-12-03 04:26:49 +00:00)\n"
     ]
    }
   ],
   "source": [
    "# Record cell run time.\n",
    "#!pip install ipython-autotime\n",
    "\n",
    "%load_ext autotime"
   ]
  },
  {
   "cell_type": "code",
   "execution_count": 4,
   "metadata": {},
   "outputs": [
    {
     "name": "stdout",
     "output_type": "stream",
     "text": [
      "time: 1.81 ms (started: 2021-12-03 04:26:49 +00:00)\n"
     ]
    }
   ],
   "source": [
    "# Set seed for reproducibility.\n",
    "\n",
    "set_seed = 42\n",
    "np.random.seed(set_seed)\n",
    "rn.seed(set_seed)\n",
    "tf.random.set_seed(set_seed)"
   ]
  },
  {
   "cell_type": "code",
   "execution_count": 5,
   "metadata": {},
   "outputs": [
    {
     "name": "stdout",
     "output_type": "stream",
     "text": [
      "time: 4.93 ms (started: 2021-12-03 04:26:49 +00:00)\n"
     ]
    }
   ],
   "source": [
    "# Some reference codes for building autoencoders for color images.\n",
    "# https://blog.keras.io/building-autoencoders-in-keras.html\n",
    "# https://keras.io/examples/vision/autoencoder/\n",
    "\n",
    "def create_autoencoder():\n",
    "    # Define the model\n",
    "    model = Sequential()\n",
    "\n",
    "    #1st convolution layer\n",
    "    model.add(Conv2D(32, (3, 3), padding='same', input_shape=(64,64,3)))\n",
    "    model.add(Activation('relu'))\n",
    "    model.add(MaxPooling2D(pool_size=(2,2), padding='same'))\n",
    "\n",
    "    #2nd convolution layer\n",
    "    model.add(Conv2D(32,(3, 3), padding='same'))\n",
    "    model.add(Activation('relu'))\n",
    "    model.add(MaxPooling2D(pool_size=(2,2), padding='same'))\n",
    "\n",
    "    #3rd convolution layer\n",
    "    model.add(Conv2D(32,(3, 3), padding='same'))\n",
    "    model.add(Activation('relu'))\n",
    "    model.add(MaxPooling2D(pool_size=(2,2), padding='same'))    \n",
    "\n",
    "    #1st deconvolution layer\n",
    "    model.add(Conv2DTranspose(32,(3, 3), padding='same'))\n",
    "    model.add(Activation('relu'))\n",
    "    model.add(UpSampling2D((2, 2)))\n",
    "    \n",
    "    #2nd deconvolution layer\n",
    "    model.add(Conv2DTranspose(32,(3, 3), padding='same'))\n",
    "    model.add(Activation('relu'))\n",
    "    model.add(UpSampling2D((2, 2)))\n",
    "\n",
    "    #3rd deconvolution layer\n",
    "    model.add(Conv2DTranspose(32,(3, 3), padding='same'))\n",
    "    model.add(Activation('relu'))\n",
    "    model.add(UpSampling2D((2, 2)))    \n",
    "\n",
    "    model.add(Conv2D(3,(3, 3), padding='same'))\n",
    "    model.add(Activation('sigmoid'))\n",
    "    \n",
    "    # Compile the model\n",
    "    model.compile(optimizer='adam', loss='binary_crossentropy')\n",
    "    model.summary()\n",
    "    \n",
    "    return model"
   ]
  },
  {
   "cell_type": "code",
   "execution_count": 6,
   "metadata": {},
   "outputs": [
    {
     "name": "stdout",
     "output_type": "stream",
     "text": [
      "Found 34936 images belonging to 1 classes.\n",
      "Found 3881 images belonging to 1 classes.\n",
      "time: 1.02 s (started: 2021-12-03 04:26:49 +00:00)\n"
     ]
    }
   ],
   "source": [
    "# Generate data from the images in a folder.\n",
    "# https://www.tensorflow.org/api_docs/python/tf/keras/preprocessing/image/ImageDataGenerator\n",
    "\n",
    "batch_size = 64\n",
    "train_datagen = ImageDataGenerator(rescale=1./255, data_format='channels_last', validation_split=0.1)\n",
    "train_generator = train_datagen.flow_from_directory(\n",
    "    './image',\n",
    "    target_size=(64, 64),\n",
    "    batch_size=batch_size,\n",
    "    class_mode='input',\n",
    "    classes=[''],\n",
    "    subset='training'\n",
    "    )\n",
    "test_datagen = ImageDataGenerator(rescale=1./255, data_format='channels_last', validation_split=0.1)\n",
    "validation_generator = test_datagen.flow_from_directory(\n",
    "    './image',\n",
    "    target_size=(64, 64),\n",
    "    batch_size=batch_size,\n",
    "    class_mode='input',\n",
    "    classes=[''],\n",
    "    subset='validation'\n",
    "    )"
   ]
  },
  {
   "cell_type": "code",
   "execution_count": 7,
   "metadata": {},
   "outputs": [
    {
     "name": "stdout",
     "output_type": "stream",
     "text": [
      "Model: \"sequential\"\n",
      "_________________________________________________________________\n",
      "Layer (type)                 Output Shape              Param #   \n",
      "=================================================================\n",
      "conv2d (Conv2D)              (None, 64, 64, 32)        896       \n",
      "_________________________________________________________________\n",
      "activation (Activation)      (None, 64, 64, 32)        0         \n",
      "_________________________________________________________________\n",
      "max_pooling2d (MaxPooling2D) (None, 32, 32, 32)        0         \n",
      "_________________________________________________________________\n",
      "conv2d_1 (Conv2D)            (None, 32, 32, 32)        9248      \n",
      "_________________________________________________________________\n",
      "activation_1 (Activation)    (None, 32, 32, 32)        0         \n",
      "_________________________________________________________________\n",
      "max_pooling2d_1 (MaxPooling2 (None, 16, 16, 32)        0         \n",
      "_________________________________________________________________\n",
      "conv2d_2 (Conv2D)            (None, 16, 16, 32)        9248      \n",
      "_________________________________________________________________\n",
      "activation_2 (Activation)    (None, 16, 16, 32)        0         \n",
      "_________________________________________________________________\n",
      "max_pooling2d_2 (MaxPooling2 (None, 8, 8, 32)          0         \n",
      "_________________________________________________________________\n",
      "conv2d_transpose (Conv2DTran (None, 8, 8, 32)          9248      \n",
      "_________________________________________________________________\n",
      "activation_3 (Activation)    (None, 8, 8, 32)          0         \n",
      "_________________________________________________________________\n",
      "up_sampling2d (UpSampling2D) (None, 16, 16, 32)        0         \n",
      "_________________________________________________________________\n",
      "conv2d_transpose_1 (Conv2DTr (None, 16, 16, 32)        9248      \n",
      "_________________________________________________________________\n",
      "activation_4 (Activation)    (None, 16, 16, 32)        0         \n",
      "_________________________________________________________________\n",
      "up_sampling2d_1 (UpSampling2 (None, 32, 32, 32)        0         \n",
      "_________________________________________________________________\n",
      "conv2d_transpose_2 (Conv2DTr (None, 32, 32, 32)        9248      \n",
      "_________________________________________________________________\n",
      "activation_5 (Activation)    (None, 32, 32, 32)        0         \n",
      "_________________________________________________________________\n",
      "up_sampling2d_2 (UpSampling2 (None, 64, 64, 32)        0         \n",
      "_________________________________________________________________\n",
      "conv2d_3 (Conv2D)            (None, 64, 64, 3)         867       \n",
      "_________________________________________________________________\n",
      "activation_6 (Activation)    (None, 64, 64, 3)         0         \n",
      "=================================================================\n",
      "Total params: 48,003\n",
      "Trainable params: 48,003\n",
      "Non-trainable params: 0\n",
      "_________________________________________________________________\n",
      "Epoch 1/100\n",
      "545/545 [==============================] - 25s 40ms/step - loss: 0.5490 - val_loss: 0.5660\n",
      "\n",
      "Epoch 00001: saving model to ./model/autoencoder.ckpt\n",
      "Epoch 2/100\n",
      "545/545 [==============================] - 21s 38ms/step - loss: 0.5370 - val_loss: 0.5647\n",
      "\n",
      "Epoch 00002: saving model to ./model/autoencoder.ckpt\n",
      "Epoch 3/100\n",
      "545/545 [==============================] - 21s 38ms/step - loss: 0.5358 - val_loss: 0.5638\n",
      "\n",
      "Epoch 00003: saving model to ./model/autoencoder.ckpt\n",
      "Epoch 4/100\n",
      "545/545 [==============================] - 21s 39ms/step - loss: 0.5351 - val_loss: 0.5631\n",
      "\n",
      "Epoch 00004: saving model to ./model/autoencoder.ckpt\n",
      "Epoch 5/100\n",
      "545/545 [==============================] - 21s 38ms/step - loss: 0.5345 - val_loss: 0.5627\n",
      "\n",
      "Epoch 00005: saving model to ./model/autoencoder.ckpt\n",
      "Epoch 6/100\n",
      "545/545 [==============================] - 21s 39ms/step - loss: 0.5340 - val_loss: 0.5624\n",
      "\n",
      "Epoch 00006: saving model to ./model/autoencoder.ckpt\n",
      "Epoch 7/100\n",
      "545/545 [==============================] - 21s 38ms/step - loss: 0.5336 - val_loss: 0.5625\n",
      "\n",
      "Epoch 00007: saving model to ./model/autoencoder.ckpt\n",
      "Epoch 8/100\n",
      "545/545 [==============================] - 20s 37ms/step - loss: 0.5334 - val_loss: 0.5623\n",
      "\n",
      "Epoch 00008: saving model to ./model/autoencoder.ckpt\n",
      "Epoch 9/100\n",
      "545/545 [==============================] - 20s 37ms/step - loss: 0.5332 - val_loss: 0.5621\n",
      "\n",
      "Epoch 00009: saving model to ./model/autoencoder.ckpt\n",
      "Epoch 10/100\n",
      "545/545 [==============================] - 20s 37ms/step - loss: 0.5331 - val_loss: 0.5621\n",
      "\n",
      "Epoch 00010: saving model to ./model/autoencoder.ckpt\n",
      "Epoch 11/100\n",
      "545/545 [==============================] - 20s 37ms/step - loss: 0.5329 - val_loss: 0.5622\n",
      "\n",
      "Epoch 00011: saving model to ./model/autoencoder.ckpt\n",
      "Epoch 12/100\n",
      "545/545 [==============================] - 20s 37ms/step - loss: 0.5329 - val_loss: 0.5618\n",
      "\n",
      "Epoch 00012: saving model to ./model/autoencoder.ckpt\n",
      "Epoch 13/100\n",
      "545/545 [==============================] - 21s 38ms/step - loss: 0.5327 - val_loss: 0.5619\n",
      "\n",
      "Epoch 00013: saving model to ./model/autoencoder.ckpt\n",
      "Epoch 14/100\n",
      "545/545 [==============================] - 21s 39ms/step - loss: 0.5326 - val_loss: 0.5625\n",
      "\n",
      "Epoch 00014: saving model to ./model/autoencoder.ckpt\n",
      "Epoch 15/100\n",
      "545/545 [==============================] - 21s 38ms/step - loss: 0.5325 - val_loss: 0.5616\n",
      "\n",
      "Epoch 00015: saving model to ./model/autoencoder.ckpt\n",
      "Epoch 16/100\n",
      "545/545 [==============================] - 21s 38ms/step - loss: 0.5325 - val_loss: 0.5615\n",
      "\n",
      "Epoch 00016: saving model to ./model/autoencoder.ckpt\n",
      "Epoch 17/100\n",
      "545/545 [==============================] - 21s 38ms/step - loss: 0.5324 - val_loss: 0.5617\n",
      "\n",
      "Epoch 00017: saving model to ./model/autoencoder.ckpt\n",
      "Epoch 18/100\n",
      "545/545 [==============================] - 21s 38ms/step - loss: 0.5323 - val_loss: 0.5619\n",
      "\n",
      "Epoch 00018: saving model to ./model/autoencoder.ckpt\n",
      "Epoch 19/100\n",
      "545/545 [==============================] - 21s 39ms/step - loss: 0.5323 - val_loss: 0.5615\n",
      "\n",
      "Epoch 00019: saving model to ./model/autoencoder.ckpt\n",
      "Epoch 20/100\n",
      "545/545 [==============================] - 20s 37ms/step - loss: 0.5322 - val_loss: 0.5615\n",
      "\n",
      "Epoch 00020: saving model to ./model/autoencoder.ckpt\n",
      "Epoch 21/100\n",
      "545/545 [==============================] - 21s 38ms/step - loss: 0.5322 - val_loss: 0.5614\n",
      "\n",
      "Epoch 00021: saving model to ./model/autoencoder.ckpt\n",
      "Epoch 22/100\n",
      "545/545 [==============================] - 20s 37ms/step - loss: 0.5321 - val_loss: 0.5617\n",
      "\n",
      "Epoch 00022: saving model to ./model/autoencoder.ckpt\n",
      "Epoch 23/100\n",
      "545/545 [==============================] - 22s 39ms/step - loss: 0.5321 - val_loss: 0.5618\n",
      "\n",
      "Epoch 00023: saving model to ./model/autoencoder.ckpt\n",
      "Epoch 24/100\n",
      "545/545 [==============================] - 21s 38ms/step - loss: 0.5320 - val_loss: 0.5615\n",
      "\n",
      "Epoch 00024: saving model to ./model/autoencoder.ckpt\n",
      "Epoch 25/100\n",
      "545/545 [==============================] - 22s 40ms/step - loss: 0.5320 - val_loss: 0.5617\n",
      "\n",
      "Epoch 00025: saving model to ./model/autoencoder.ckpt\n",
      "Epoch 26/100\n",
      "545/545 [==============================] - 21s 39ms/step - loss: 0.5320 - val_loss: 0.5614\n",
      "\n",
      "Epoch 00026: saving model to ./model/autoencoder.ckpt\n",
      "Epoch 27/100\n",
      "545/545 [==============================] - 21s 38ms/step - loss: 0.5319 - val_loss: 0.5613\n",
      "\n",
      "Epoch 00027: saving model to ./model/autoencoder.ckpt\n",
      "Epoch 28/100\n",
      "545/545 [==============================] - 21s 38ms/step - loss: 0.5319 - val_loss: 0.5611\n",
      "\n",
      "Epoch 00028: saving model to ./model/autoencoder.ckpt\n",
      "Epoch 29/100\n",
      "545/545 [==============================] - 21s 39ms/step - loss: 0.5319 - val_loss: 0.5614\n",
      "\n",
      "Epoch 00029: saving model to ./model/autoencoder.ckpt\n",
      "Epoch 30/100\n",
      "545/545 [==============================] - 21s 38ms/step - loss: 0.5319 - val_loss: 0.5612\n",
      "\n",
      "Epoch 00030: saving model to ./model/autoencoder.ckpt\n",
      "Epoch 31/100\n",
      "545/545 [==============================] - 21s 38ms/step - loss: 0.5318 - val_loss: 0.5612\n",
      "\n",
      "Epoch 00031: saving model to ./model/autoencoder.ckpt\n",
      "Epoch 32/100\n",
      "545/545 [==============================] - 21s 38ms/step - loss: 0.5318 - val_loss: 0.5619\n",
      "\n",
      "Epoch 00032: saving model to ./model/autoencoder.ckpt\n",
      "Epoch 33/100\n",
      "545/545 [==============================] - 21s 38ms/step - loss: 0.5318 - val_loss: 0.5613\n",
      "\n",
      "Epoch 00033: saving model to ./model/autoencoder.ckpt\n",
      "Epoch 34/100\n"
     ]
    },
    {
     "name": "stdout",
     "output_type": "stream",
     "text": [
      "545/545 [==============================] - 20s 37ms/step - loss: 0.5318 - val_loss: 0.5611\n",
      "\n",
      "Epoch 00034: saving model to ./model/autoencoder.ckpt\n",
      "Epoch 35/100\n",
      "545/545 [==============================] - 20s 36ms/step - loss: 0.5317 - val_loss: 0.5611\n",
      "\n",
      "Epoch 00035: saving model to ./model/autoencoder.ckpt\n",
      "Epoch 36/100\n",
      "545/545 [==============================] - 20s 37ms/step - loss: 0.5317 - val_loss: 0.5612\n",
      "\n",
      "Epoch 00036: saving model to ./model/autoencoder.ckpt\n",
      "Epoch 37/100\n",
      "545/545 [==============================] - 20s 37ms/step - loss: 0.5317 - val_loss: 0.5612\n",
      "\n",
      "Epoch 00037: saving model to ./model/autoencoder.ckpt\n",
      "Epoch 38/100\n",
      "545/545 [==============================] - 20s 36ms/step - loss: 0.5317 - val_loss: 0.5610\n",
      "\n",
      "Epoch 00038: saving model to ./model/autoencoder.ckpt\n",
      "Epoch 39/100\n",
      "545/545 [==============================] - 21s 38ms/step - loss: 0.5316 - val_loss: 0.5611\n",
      "\n",
      "Epoch 00039: saving model to ./model/autoencoder.ckpt\n",
      "Epoch 40/100\n",
      "545/545 [==============================] - 21s 38ms/step - loss: 0.5316 - val_loss: 0.5610\n",
      "\n",
      "Epoch 00040: saving model to ./model/autoencoder.ckpt\n",
      "Epoch 41/100\n",
      "545/545 [==============================] - 21s 38ms/step - loss: 0.5316 - val_loss: 0.5612\n",
      "\n",
      "Epoch 00041: saving model to ./model/autoencoder.ckpt\n",
      "Epoch 42/100\n",
      "545/545 [==============================] - 21s 38ms/step - loss: 0.5316 - val_loss: 0.5608\n",
      "\n",
      "Epoch 00042: saving model to ./model/autoencoder.ckpt\n",
      "Epoch 43/100\n",
      "545/545 [==============================] - 21s 38ms/step - loss: 0.5316 - val_loss: 0.5612\n",
      "\n",
      "Epoch 00043: saving model to ./model/autoencoder.ckpt\n",
      "Epoch 44/100\n",
      "545/545 [==============================] - 21s 38ms/step - loss: 0.5315 - val_loss: 0.5608\n",
      "\n",
      "Epoch 00044: saving model to ./model/autoencoder.ckpt\n",
      "Epoch 45/100\n",
      "545/545 [==============================] - 21s 39ms/step - loss: 0.5315 - val_loss: 0.5611\n",
      "\n",
      "Epoch 00045: saving model to ./model/autoencoder.ckpt\n",
      "Epoch 46/100\n",
      "545/545 [==============================] - 21s 39ms/step - loss: 0.5315 - val_loss: 0.5610\n",
      "\n",
      "Epoch 00046: saving model to ./model/autoencoder.ckpt\n",
      "Epoch 47/100\n",
      "545/545 [==============================] - 21s 39ms/step - loss: 0.5315 - val_loss: 0.5609\n",
      "\n",
      "Epoch 00047: saving model to ./model/autoencoder.ckpt\n",
      "Epoch 48/100\n",
      "545/545 [==============================] - 21s 39ms/step - loss: 0.5315 - val_loss: 0.5608\n",
      "\n",
      "Epoch 00048: saving model to ./model/autoencoder.ckpt\n",
      "Epoch 49/100\n",
      "545/545 [==============================] - 21s 39ms/step - loss: 0.5314 - val_loss: 0.5615\n",
      "\n",
      "Epoch 00049: saving model to ./model/autoencoder.ckpt\n",
      "Epoch 50/100\n",
      "545/545 [==============================] - 20s 37ms/step - loss: 0.5315 - val_loss: 0.5609\n",
      "\n",
      "Epoch 00050: saving model to ./model/autoencoder.ckpt\n",
      "Epoch 51/100\n",
      "545/545 [==============================] - 21s 39ms/step - loss: 0.5314 - val_loss: 0.5615\n",
      "\n",
      "Epoch 00051: saving model to ./model/autoencoder.ckpt\n",
      "Epoch 52/100\n",
      "545/545 [==============================] - 20s 37ms/step - loss: 0.5314 - val_loss: 0.5609\n",
      "\n",
      "Epoch 00052: saving model to ./model/autoencoder.ckpt\n",
      "Epoch 53/100\n",
      "545/545 [==============================] - 21s 38ms/step - loss: 0.5314 - val_loss: 0.5613\n",
      "\n",
      "Epoch 00053: saving model to ./model/autoencoder.ckpt\n",
      "Epoch 54/100\n",
      "545/545 [==============================] - 20s 37ms/step - loss: 0.5314 - val_loss: 0.5609\n",
      "\n",
      "Epoch 00054: saving model to ./model/autoencoder.ckpt\n",
      "Epoch 55/100\n",
      "545/545 [==============================] - 20s 37ms/step - loss: 0.5314 - val_loss: 0.5612\n",
      "\n",
      "Epoch 00055: saving model to ./model/autoencoder.ckpt\n",
      "Epoch 56/100\n",
      "545/545 [==============================] - 21s 38ms/step - loss: 0.5314 - val_loss: 0.5611\n",
      "\n",
      "Epoch 00056: saving model to ./model/autoencoder.ckpt\n",
      "Epoch 57/100\n",
      "545/545 [==============================] - 20s 37ms/step - loss: 0.5313 - val_loss: 0.5609\n",
      "\n",
      "Epoch 00057: saving model to ./model/autoencoder.ckpt\n",
      "Epoch 58/100\n",
      "545/545 [==============================] - 21s 38ms/step - loss: 0.5313 - val_loss: 0.5609\n",
      "\n",
      "Epoch 00058: saving model to ./model/autoencoder.ckpt\n",
      "Epoch 59/100\n",
      "545/545 [==============================] - 21s 39ms/step - loss: 0.5313 - val_loss: 0.5611\n",
      "\n",
      "Epoch 00059: saving model to ./model/autoencoder.ckpt\n",
      "Epoch 60/100\n",
      "545/545 [==============================] - 21s 38ms/step - loss: 0.5313 - val_loss: 0.5607\n",
      "\n",
      "Epoch 00060: saving model to ./model/autoencoder.ckpt\n",
      "Epoch 61/100\n",
      "545/545 [==============================] - 20s 37ms/step - loss: 0.5313 - val_loss: 0.5613\n",
      "\n",
      "Epoch 00061: saving model to ./model/autoencoder.ckpt\n",
      "Epoch 62/100\n",
      "545/545 [==============================] - 20s 37ms/step - loss: 0.5313 - val_loss: 0.5607\n",
      "\n",
      "Epoch 00062: saving model to ./model/autoencoder.ckpt\n",
      "Epoch 63/100\n",
      "545/545 [==============================] - 20s 37ms/step - loss: 0.5313 - val_loss: 0.5608\n",
      "\n",
      "Epoch 00063: saving model to ./model/autoencoder.ckpt\n",
      "Epoch 64/100\n",
      "545/545 [==============================] - 21s 38ms/step - loss: 0.5313 - val_loss: 0.5607\n",
      "\n",
      "Epoch 00064: saving model to ./model/autoencoder.ckpt\n",
      "Epoch 65/100\n",
      "545/545 [==============================] - 21s 39ms/step - loss: 0.5313 - val_loss: 0.5606\n",
      "\n",
      "Epoch 00065: saving model to ./model/autoencoder.ckpt\n",
      "Epoch 66/100\n",
      "545/545 [==============================] - 21s 38ms/step - loss: 0.5313 - val_loss: 0.5608\n",
      "\n",
      "Epoch 00066: saving model to ./model/autoencoder.ckpt\n",
      "Epoch 67/100\n",
      "545/545 [==============================] - 21s 39ms/step - loss: 0.5312 - val_loss: 0.5607\n",
      "\n",
      "Epoch 00067: saving model to ./model/autoencoder.ckpt\n",
      "Epoch 68/100\n",
      "545/545 [==============================] - 21s 39ms/step - loss: 0.5312 - val_loss: 0.5607\n",
      "\n",
      "Epoch 00068: saving model to ./model/autoencoder.ckpt\n",
      "Epoch 69/100\n",
      "545/545 [==============================] - 21s 38ms/step - loss: 0.5312 - val_loss: 0.5610\n",
      "\n",
      "Epoch 00069: saving model to ./model/autoencoder.ckpt\n",
      "Epoch 70/100\n",
      "545/545 [==============================] - 21s 38ms/step - loss: 0.5312 - val_loss: 0.5609\n",
      "\n",
      "Epoch 00070: saving model to ./model/autoencoder.ckpt\n",
      "Epoch 71/100\n",
      "545/545 [==============================] - 22s 39ms/step - loss: 0.5312 - val_loss: 0.5609\n",
      "\n",
      "Epoch 00071: saving model to ./model/autoencoder.ckpt\n",
      "Epoch 72/100\n",
      "545/545 [==============================] - 21s 39ms/step - loss: 0.5312 - val_loss: 0.5607\n",
      "\n",
      "Epoch 00072: saving model to ./model/autoencoder.ckpt\n",
      "Epoch 73/100\n",
      "545/545 [==============================] - 21s 38ms/step - loss: 0.5312 - val_loss: 0.5607\n",
      "\n",
      "Epoch 00073: saving model to ./model/autoencoder.ckpt\n",
      "Epoch 74/100\n",
      "545/545 [==============================] - 21s 39ms/step - loss: 0.5312 - val_loss: 0.5608\n",
      "\n",
      "Epoch 00074: saving model to ./model/autoencoder.ckpt\n",
      "Epoch 75/100\n",
      "545/545 [==============================] - 20s 37ms/step - loss: 0.5312 - val_loss: 0.5609\n",
      "\n",
      "Epoch 00075: saving model to ./model/autoencoder.ckpt\n",
      "Epoch 76/100\n",
      "545/545 [==============================] - 21s 39ms/step - loss: 0.5312 - val_loss: 0.5607\n",
      "\n",
      "Epoch 00076: saving model to ./model/autoencoder.ckpt\n",
      "Epoch 77/100\n",
      "545/545 [==============================] - 20s 37ms/step - loss: 0.5312 - val_loss: 0.5610\n",
      "\n",
      "Epoch 00077: saving model to ./model/autoencoder.ckpt\n",
      "Epoch 78/100\n",
      "545/545 [==============================] - 21s 38ms/step - loss: 0.5312 - val_loss: 0.5608\n",
      "\n",
      "Epoch 00078: saving model to ./model/autoencoder.ckpt\n",
      "Epoch 79/100\n",
      "545/545 [==============================] - 20s 37ms/step - loss: 0.5311 - val_loss: 0.5607\n",
      "\n",
      "Epoch 00079: saving model to ./model/autoencoder.ckpt\n",
      "Epoch 80/100\n",
      "545/545 [==============================] - 21s 38ms/step - loss: 0.5312 - val_loss: 0.5607\n",
      "\n",
      "Epoch 00080: saving model to ./model/autoencoder.ckpt\n",
      "Epoch 81/100\n",
      "545/545 [==============================] - 21s 39ms/step - loss: 0.5311 - val_loss: 0.5606\n",
      "\n",
      "Epoch 00081: saving model to ./model/autoencoder.ckpt\n",
      "Epoch 82/100\n",
      "545/545 [==============================] - 20s 37ms/step - loss: 0.5311 - val_loss: 0.5610\n",
      "\n",
      "Epoch 00082: saving model to ./model/autoencoder.ckpt\n",
      "Epoch 83/100\n",
      "545/545 [==============================] - 20s 37ms/step - loss: 0.5311 - val_loss: 0.5606\n",
      "\n",
      "Epoch 00083: saving model to ./model/autoencoder.ckpt\n",
      "Epoch 84/100\n",
      "545/545 [==============================] - 21s 38ms/step - loss: 0.5311 - val_loss: 0.5608\n",
      "\n",
      "Epoch 00084: saving model to ./model/autoencoder.ckpt\n",
      "Epoch 85/100\n",
      "545/545 [==============================] - 21s 38ms/step - loss: 0.5311 - val_loss: 0.5609\n"
     ]
    },
    {
     "name": "stdout",
     "output_type": "stream",
     "text": [
      "\n",
      "Epoch 00085: saving model to ./model/autoencoder.ckpt\n",
      "Epoch 86/100\n",
      "545/545 [==============================] - 21s 38ms/step - loss: 0.5311 - val_loss: 0.5605\n",
      "\n",
      "Epoch 00086: saving model to ./model/autoencoder.ckpt\n",
      "Epoch 87/100\n",
      "545/545 [==============================] - 20s 37ms/step - loss: 0.5311 - val_loss: 0.5606\n",
      "\n",
      "Epoch 00087: saving model to ./model/autoencoder.ckpt\n",
      "Epoch 88/100\n",
      "545/545 [==============================] - 21s 38ms/step - loss: 0.5311 - val_loss: 0.5608\n",
      "\n",
      "Epoch 00088: saving model to ./model/autoencoder.ckpt\n",
      "Epoch 89/100\n",
      "545/545 [==============================] - 20s 37ms/step - loss: 0.5311 - val_loss: 0.5606\n",
      "\n",
      "Epoch 00089: saving model to ./model/autoencoder.ckpt\n",
      "Epoch 90/100\n",
      "545/545 [==============================] - 20s 37ms/step - loss: 0.5311 - val_loss: 0.5608\n",
      "\n",
      "Epoch 00090: saving model to ./model/autoencoder.ckpt\n",
      "Epoch 91/100\n",
      "545/545 [==============================] - 21s 39ms/step - loss: 0.5311 - val_loss: 0.5609\n",
      "\n",
      "Epoch 00091: saving model to ./model/autoencoder.ckpt\n",
      "Epoch 92/100\n",
      "545/545 [==============================] - 21s 39ms/step - loss: 0.5311 - val_loss: 0.5607\n",
      "\n",
      "Epoch 00092: saving model to ./model/autoencoder.ckpt\n",
      "Epoch 93/100\n",
      "545/545 [==============================] - 21s 39ms/step - loss: 0.5311 - val_loss: 0.5606\n",
      "\n",
      "Epoch 00093: saving model to ./model/autoencoder.ckpt\n",
      "Epoch 94/100\n",
      "545/545 [==============================] - 21s 38ms/step - loss: 0.5311 - val_loss: 0.5607\n",
      "\n",
      "Epoch 00094: saving model to ./model/autoencoder.ckpt\n",
      "Epoch 95/100\n",
      "545/545 [==============================] - 21s 39ms/step - loss: 0.5311 - val_loss: 0.5605\n",
      "\n",
      "Epoch 00095: saving model to ./model/autoencoder.ckpt\n",
      "Epoch 96/100\n",
      "545/545 [==============================] - 20s 37ms/step - loss: 0.5310 - val_loss: 0.5606\n",
      "\n",
      "Epoch 00096: saving model to ./model/autoencoder.ckpt\n",
      "Epoch 97/100\n",
      "545/545 [==============================] - 21s 39ms/step - loss: 0.5311 - val_loss: 0.5607\n",
      "\n",
      "Epoch 00097: saving model to ./model/autoencoder.ckpt\n",
      "Epoch 98/100\n",
      "545/545 [==============================] - 21s 38ms/step - loss: 0.5310 - val_loss: 0.5610\n",
      "\n",
      "Epoch 00098: saving model to ./model/autoencoder.ckpt\n",
      "Epoch 99/100\n",
      "545/545 [==============================] - 21s 38ms/step - loss: 0.5310 - val_loss: 0.5605\n",
      "\n",
      "Epoch 00099: saving model to ./model/autoencoder.ckpt\n",
      "Epoch 100/100\n",
      "545/545 [==============================] - 21s 38ms/step - loss: 0.5310 - val_loss: 0.5605\n",
      "\n",
      "Epoch 00100: saving model to ./model/autoencoder.ckpt\n",
      "time: 34min 44s (started: 2021-12-03 04:26:50 +00:00)\n"
     ]
    }
   ],
   "source": [
    "# Train the autoencoder.\n",
    "\n",
    "checkpoint_path = \"./model/autoencoder.ckpt\"\n",
    "checkpoint_dir = os.path.dirname(checkpoint_path)\n",
    "cp_callback = tf.keras.callbacks.ModelCheckpoint(filepath=checkpoint_path,\n",
    "                                                 save_weights_only=True,\n",
    "                                                 verbose=1)    \n",
    "autoencoder = create_autoencoder()\n",
    "\n",
    "history = autoencoder.fit_generator(\n",
    "        train_generator,\n",
    "        steps_per_epoch=34936 // batch_size,\n",
    "        epochs=100,\n",
    "        validation_data=validation_generator,\n",
    "        validation_steps=3881 // batch_size,\n",
    "        callbacks=[cp_callback])    "
   ]
  },
  {
   "cell_type": "code",
   "execution_count": 18,
   "metadata": {
    "scrolled": true
   },
   "outputs": [
    {
     "name": "stdout",
     "output_type": "stream",
     "text": [
      "dict_keys(['loss', 'val_loss'])\n"
     ]
    },
    {
     "data": {
      "image/png": "[encoded data removed]",
      "text/plain": [
       "<Figure size 432x288 with 1 Axes>"
      ]
     },
     "metadata": {
      "needs_background": "light"
     },
     "output_type": "display_data"
    },
    {
     "name": "stdout",
     "output_type": "stream",
     "text": [
      "time: 155 ms (started: 2021-12-03 05:10:40 +00:00)\n"
     ]
    }
   ],
   "source": [
    "# Summarize history for loss.\n",
    "\n",
    "print(history.history.keys())\n",
    "\n",
    "plt.plot(history.history['loss'])\n",
    "plt.plot(history.history['val_loss'])\n",
    "plt.title('model loss')\n",
    "plt.ylabel('loss')\n",
    "plt.xlabel('epoch')\n",
    "plt.legend(['train', 'test'], loc='lower right')\n",
    "plt.show()"
   ]
  },
  {
   "cell_type": "code",
   "execution_count": 19,
   "metadata": {
    "scrolled": true
   },
   "outputs": [
    {
     "name": "stdout",
     "output_type": "stream",
     "text": [
      "total 592\n",
      "drwxr-xr-x 3 root root   4096 Dec  3 05:01 .\n",
      "drwxr-xr-x 7 root root   4096 Dec  3 05:01 ..\n",
      "drwxr-xr-x 2 root root   4096 Dec  3 04:26 .ipynb_checkpoints\n",
      "-rw-r--r-- 1 root root 582429 Dec  3 05:01 autoencoder.ckpt.data-00000-of-00001\n",
      "-rw-r--r-- 1 root root   3346 Dec  3 05:01 autoencoder.ckpt.index\n",
      "-rw-r--r-- 1 root root     89 Dec  3 05:01 checkpoint\n",
      "time: 359 ms (started: 2021-12-03 05:11:09 +00:00)\n"
     ]
    }
   ],
   "source": [
    "# Check that autoencoder files are created in the 'model' folder.\n",
    "\n",
    "!ls -la ./model"
   ]
  },
  {
   "cell_type": "code",
   "execution_count": 20,
   "metadata": {},
   "outputs": [
    {
     "name": "stdout",
     "output_type": "stream",
     "text": [
      "time: 179 ms (started: 2021-12-03 05:11:13 +00:00)\n"
     ]
    }
   ],
   "source": [
    "# Test the model\n",
    "\n",
    "sample = validation_generator.next()\n",
    "\n",
    "# Generate noisy image\n",
    "noisy_img = np.zeros(sample[0][0].shape, np.float32)\n",
    "\n",
    "mean = 0\n",
    "sigma = 0.05\n",
    "\n",
    "gaussian = np.random.normal(mean, sigma, (sample[0][0].shape[0], sample[0][0].shape[1]))\n",
    "gaussian = gaussian[..., np.newaxis]\n",
    "#gaussian.shape\n",
    "\n",
    "noisy_sample = []\n",
    "for img in sample[0]:\n",
    "    noisy_img = img + gaussian\n",
    "    noisy_sample.append(noisy_img)\n",
    "\n",
    "noisy_sample = np.array(noisy_sample)\n",
    "noisy_sample.shape\n",
    "\n",
    "denoised = autoencoder.predict(noisy_sample)\n",
    "#denoised.shape\n",
    "#denoised[0].shape"
   ]
  },
  {
   "cell_type": "code",
   "execution_count": 21,
   "metadata": {
    "collapsed": true
   },
   "outputs": [
    {
     "data": {
      "text/plain": [
       "<matplotlib.image.AxesImage at 0x7f5168a50390>"
      ]
     },
     "execution_count": 21,
     "metadata": {},
     "output_type": "execute_result"
    },
    {
     "data": {
      "image/png": "[encoded data removed]",
      "text/plain": [
       "<Figure size 432x288 with 1 Axes>"
      ]
     },
     "metadata": {
      "needs_background": "light"
     },
     "output_type": "display_data"
    },
    {
     "name": "stdout",
     "output_type": "stream",
     "text": [
      "time: 136 ms (started: 2021-12-03 05:11:14 +00:00)\n"
     ]
    }
   ],
   "source": [
    "# original image\n",
    "plt.imshow(sample[0][0])"
   ]
  },
  {
   "cell_type": "code",
   "execution_count": 22,
   "metadata": {
    "collapsed": true
   },
   "outputs": [
    {
     "name": "stderr",
     "output_type": "stream",
     "text": [
      "Clipping input data to the valid range for imshow with RGB data ([0..1] for floats or [0..255] for integers).\n"
     ]
    },
    {
     "data": {
      "text/plain": [
       "<matplotlib.image.AxesImage at 0x7f51689fecf8>"
      ]
     },
     "execution_count": 22,
     "metadata": {},
     "output_type": "execute_result"
    },
    {
     "data": {
      "image/png": "[encoded data removed]",
      "text/plain": [
       "<Figure size 432x288 with 1 Axes>"
      ]
     },
     "metadata": {
      "needs_background": "light"
     },
     "output_type": "display_data"
    },
    {
     "name": "stdout",
     "output_type": "stream",
     "text": [
      "time: 134 ms (started: 2021-12-03 05:11:16 +00:00)\n"
     ]
    }
   ],
   "source": [
    "# noisy image\n",
    "noisy_img = sample[0][0] + gaussian\n",
    "plt.imshow(noisy_img)"
   ]
  },
  {
   "cell_type": "code",
   "execution_count": 23,
   "metadata": {
    "collapsed": true
   },
   "outputs": [
    {
     "data": {
      "text/plain": [
       "<matplotlib.image.AxesImage at 0x7f5168972320>"
      ]
     },
     "execution_count": 23,
     "metadata": {},
     "output_type": "execute_result"
    },
    {
     "data": {
      "image/png": "[encoded data removed]",
      "text/plain": [
       "<Figure size 432x288 with 1 Axes>"
      ]
     },
     "metadata": {
      "needs_background": "light"
     },
     "output_type": "display_data"
    },
    {
     "name": "stdout",
     "output_type": "stream",
     "text": [
      "time: 134 ms (started: 2021-12-03 05:11:17 +00:00)\n"
     ]
    }
   ],
   "source": [
    "# denoised image\n",
    "plt.imshow(denoised[0])"
   ]
  },
  {
   "cell_type": "markdown",
   "metadata": {},
   "source": [
    "### Load the autoencoder weights."
   ]
  },
  {
   "cell_type": "code",
   "execution_count": 24,
   "metadata": {},
   "outputs": [
    {
     "name": "stdout",
     "output_type": "stream",
     "text": [
      "Model: \"sequential_2\"\n",
      "_________________________________________________________________\n",
      "Layer (type)                 Output Shape              Param #   \n",
      "=================================================================\n",
      "conv2d_8 (Conv2D)            (None, 64, 64, 32)        896       \n",
      "_________________________________________________________________\n",
      "activation_14 (Activation)   (None, 64, 64, 32)        0         \n",
      "_________________________________________________________________\n",
      "max_pooling2d_6 (MaxPooling2 (None, 32, 32, 32)        0         \n",
      "_________________________________________________________________\n",
      "conv2d_9 (Conv2D)            (None, 32, 32, 32)        9248      \n",
      "_________________________________________________________________\n",
      "activation_15 (Activation)   (None, 32, 32, 32)        0         \n",
      "_________________________________________________________________\n",
      "max_pooling2d_7 (MaxPooling2 (None, 16, 16, 32)        0         \n",
      "_________________________________________________________________\n",
      "conv2d_10 (Conv2D)           (None, 16, 16, 32)        9248      \n",
      "_________________________________________________________________\n",
      "activation_16 (Activation)   (None, 16, 16, 32)        0         \n",
      "_________________________________________________________________\n",
      "max_pooling2d_8 (MaxPooling2 (None, 8, 8, 32)          0         \n",
      "_________________________________________________________________\n",
      "conv2d_transpose_6 (Conv2DTr (None, 8, 8, 32)          9248      \n",
      "_________________________________________________________________\n",
      "activation_17 (Activation)   (None, 8, 8, 32)          0         \n",
      "_________________________________________________________________\n",
      "up_sampling2d_6 (UpSampling2 (None, 16, 16, 32)        0         \n",
      "_________________________________________________________________\n",
      "conv2d_transpose_7 (Conv2DTr (None, 16, 16, 32)        9248      \n",
      "_________________________________________________________________\n",
      "activation_18 (Activation)   (None, 16, 16, 32)        0         \n",
      "_________________________________________________________________\n",
      "up_sampling2d_7 (UpSampling2 (None, 32, 32, 32)        0         \n",
      "_________________________________________________________________\n",
      "conv2d_transpose_8 (Conv2DTr (None, 32, 32, 32)        9248      \n",
      "_________________________________________________________________\n",
      "activation_19 (Activation)   (None, 32, 32, 32)        0         \n",
      "_________________________________________________________________\n",
      "up_sampling2d_8 (UpSampling2 (None, 64, 64, 32)        0         \n",
      "_________________________________________________________________\n",
      "conv2d_11 (Conv2D)           (None, 64, 64, 3)         867       \n",
      "_________________________________________________________________\n",
      "activation_20 (Activation)   (None, 64, 64, 3)         0         \n",
      "=================================================================\n",
      "Total params: 48,003\n",
      "Trainable params: 48,003\n",
      "Non-trainable params: 0\n",
      "_________________________________________________________________\n",
      "time: 129 ms (started: 2021-12-03 05:11:22 +00:00)\n"
     ]
    }
   ],
   "source": [
    "# Use the crate_autoencder() function to build the model frame.\n",
    "\n",
    "autoencoder = create_autoencoder()"
   ]
  },
  {
   "cell_type": "code",
   "execution_count": 25,
   "metadata": {},
   "outputs": [
    {
     "data": {
      "text/plain": [
       "<tensorflow.python.training.tracking.util.CheckpointLoadStatus at 0x7f51688f46a0>"
      ]
     },
     "execution_count": 25,
     "metadata": {},
     "output_type": "execute_result"
    },
    {
     "name": "stdout",
     "output_type": "stream",
     "text": [
      "time: 59.4 ms (started: 2021-12-03 05:11:26 +00:00)\n"
     ]
    }
   ],
   "source": [
    "# Specify the path to autoencoder model weights and load the weights.\n",
    "checkpoint_path = \"./model/autoencoder.ckpt\"\n",
    "autoencoder.load_weights(checkpoint_path)"
   ]
  },
  {
   "cell_type": "code",
   "execution_count": null,
   "metadata": {},
   "outputs": [],
   "source": []
  }
 ],
 "metadata": {
  "kernelspec": {
   "display_name": "Python 3",
   "language": "python",
   "name": "python3"
  },
  "language_info": {
   "codemirror_mode": {
    "name": "ipython",
    "version": 3
   },
   "file_extension": ".py",
   "mimetype": "text/x-python",
   "name": "python",
   "nbconvert_exporter": "python",
   "pygments_lexer": "ipython3",
   "version": "3.6.9"
  }
 },
 "nbformat": 4,
 "nbformat_minor": 2
}
