{
 "cells": [
  {
   "cell_type": "markdown",
   "metadata": {},
   "source": [
    "This notebook contains the code used in the BigComp 2022 paper: <br>\n",
    "<b>Heeryon Cho, Woo-Kyu Kang, Younsoo Park, Sungeu Chae, and Seong-joon Kim, \"Multi-label Facial Emotion Recognition Using Korean Drama Movie Clips,\" BigComp 2022.</b>\n",
    "### ResNet50 /  Classify Multi-label Emotions"
   ]
  },
  {
   "cell_type": "code",
   "execution_count": 1,
   "metadata": {},
   "outputs": [],
   "source": [
    "import tensorflow as tf\n",
    "from tensorflow import keras\n",
    "import matplotlib.pyplot as plt\n",
    "import numpy as np\n",
    "import pandas as pd\n",
    "import random as rn\n",
    "import os"
   ]
  },
  {
   "cell_type": "code",
   "execution_count": 2,
   "metadata": {
    "id": "cWXrCR9kFphX"
   },
   "outputs": [],
   "source": [
    "import warnings\n",
    "import logging\n",
    "logging.getLogger('tensorflow').disabled = True\n",
    "warnings.filterwarnings(\"ignore\")\n",
    "os.environ['TF_CPP_MIN_LOG_LEVEL'] = '3'"
   ]
  },
  {
   "cell_type": "code",
   "execution_count": 3,
   "metadata": {
    "colab": {
     "base_uri": "https://localhost:8080/"
    },
    "id": "gOqGiFjx7BVs",
    "outputId": "6e17c1f0-3979-4753-df9a-90cd6b5c4202"
   },
   "outputs": [
    {
     "name": "stdout",
     "output_type": "stream",
     "text": [
      "time: 444 µs (started: 2021-12-07 11:27:47 +00:00)\n"
     ]
    }
   ],
   "source": [
    "# Record cell run time.\n",
    "#!pip install ipython-autotime\n",
    "\n",
    "%load_ext autotime"
   ]
  },
  {
   "cell_type": "code",
   "execution_count": 4,
   "metadata": {
    "scrolled": false
   },
   "outputs": [
    {
     "name": "stdout",
     "output_type": "stream",
     "text": [
      "time: 1.82 ms (started: 2021-12-07 11:27:47 +00:00)\n"
     ]
    }
   ],
   "source": [
    "# Set seed for reproducibility.\n",
    "\n",
    "set_seed = 46\n",
    "np.random.seed(set_seed)\n",
    "rn.seed(set_seed)\n",
    "tf.random.set_seed(set_seed)"
   ]
  },
  {
   "cell_type": "markdown",
   "metadata": {
    "id": "DGaP1tWlaW2E"
   },
   "source": [
    "### Load label data."
   ]
  },
  {
   "cell_type": "code",
   "execution_count": 5,
   "metadata": {
    "colab": {
     "base_uri": "https://localhost:8080/"
    },
    "id": "uyVuGmJLCOqD",
    "outputId": "6e27494c-1af6-4886-a887-f82392b6fddf"
   },
   "outputs": [
    {
     "name": "stdout",
     "output_type": "stream",
     "text": [
      "Index(['img_id', 'clip_id', 'moved', 'fearful', 'bored', 'surprised', 'angry',\n",
      "       'anxious', 'smitten', 'fluttered', 'disappointed', 'fulfilled',\n",
      "       'ashamed', 'sad', 'upset', 'sympathetic', 'passionate', 'depressed',\n",
      "       'amused', 'affectionate', 'guilty', 'neutral', 'jealous', 'peaceful',\n",
      "       'happy', 'disgusted'],\n",
      "      dtype='object')\n",
      "(38817, 26)\n",
      "LABELS= ['moved', 'fearful', 'bored', 'surprised', 'angry', 'anxious', 'smitten', 'fluttered', 'disappointed', 'fulfilled', 'ashamed', 'sad', 'upset', 'sympathetic', 'passionate', 'depressed', 'amused', 'affectionate', 'guilty', 'neutral', 'jealous', 'peaceful', 'happy', 'disgusted']\n",
      "All classes: 24\n",
      "TRAIN_DATA_SIZE: 31053\n",
      "VALID_DATA_SIZE: 3882\n",
      "TEST_DATA_SIZE: 3882\n",
      "time: 166 ms (started: 2021-12-07 11:27:47 +00:00)\n"
     ]
    }
   ],
   "source": [
    "# Load labels, check headers, check data shape.\n",
    "\n",
    "df_label = pd.read_csv('label/label_multi-label.csv')\n",
    "print(df_label.columns)\n",
    "print(df_label.shape)\n",
    "\n",
    "LABELS = list(df_label.columns[2:])\n",
    "print(\"LABELS=\", LABELS)\n",
    "print(\"All classes:\", len(LABELS))\n",
    "\n",
    "label_valid = pd.read_csv('label/label_multi-label_valid.csv')\n",
    "label_train = pd.read_csv('label/label_multi-label_train.csv')\n",
    "label_test = pd.read_csv('label/label_multi-label_test.csv')\n",
    "\n",
    "VALID_DATA_SIZE = label_valid.shape[0]\n",
    "TRAIN_DATA_SIZE = label_train.shape[0]\n",
    "TEST_DATA_SIZE = label_test.shape[0]\n",
    "\n",
    "print(\"TRAIN_DATA_SIZE:\", label_train.shape[0])\n",
    "print(\"VALID_DATA_SIZE:\", label_valid.shape[0])\n",
    "print(\"TEST_DATA_SIZE:\", label_test.shape[0])"
   ]
  },
  {
   "cell_type": "markdown",
   "metadata": {},
   "source": [
    "### Define training pipeline."
   ]
  },
  {
   "cell_type": "code",
   "execution_count": 6,
   "metadata": {},
   "outputs": [
    {
     "name": "stdout",
     "output_type": "stream",
     "text": [
      "time: 86.1 ms (started: 2021-12-07 11:27:47 +00:00)\n"
     ]
    }
   ],
   "source": [
    "from nvidia.dali.pipeline import Pipeline\n",
    "import nvidia.dali.fn as fn\n",
    "import nvidia.dali.types as types\n",
    "import nvidia.dali.tfrecord as tfrec\n",
    "import nvidia.dali.plugin.tf as dali_tf\n",
    "\n",
    "class TFRecordPipelineTrain(Pipeline):\n",
    "    def __init__(self, batch_size, num_threads,\n",
    "                 device = 'cpu', device_id = 0):\n",
    "        super(TFRecordPipelineTrain, self).__init__(batch_size,\n",
    "                                         num_threads,\n",
    "                                         device_id)\n",
    "        self.input = fn.readers.tfrecord(        \n",
    "             features = {\"image_raw\": tfrec.FixedLenFeature((), tfrec.string, \"\"),\n",
    "                         \"label\": tfrec.FixedLenFeature([24], tfrec.int64,  24)},\n",
    "             path = ['./tfrecords/multi-label_train.tfrecords'],\n",
    "             index_path = ['./tfrecords/multi-label_train.idx'],\n",
    "             random_shuffle=True,\n",
    "             seed = set_seed)\n",
    "        self.iter = 0\n",
    "    def define_graph(self):\n",
    "        inputs = self.input\n",
    "        images = fn.decoders.image(inputs[\"image_raw\"], device = \"mixed\", output_type = types.RGB) / 255.\n",
    "        labels = inputs[\"label\"].gpu()\n",
    "        return (images, labels)\n",
    "    def iter_setup(self):\n",
    "        pass"
   ]
  },
  {
   "cell_type": "markdown",
   "metadata": {},
   "source": [
    "### Define validation pipeline."
   ]
  },
  {
   "cell_type": "code",
   "execution_count": 7,
   "metadata": {},
   "outputs": [
    {
     "name": "stdout",
     "output_type": "stream",
     "text": [
      "time: 1.75 ms (started: 2021-12-07 11:27:47 +00:00)\n"
     ]
    }
   ],
   "source": [
    "class TFRecordPipelineValid(Pipeline):\n",
    "    def __init__(self, batch_size, num_threads,\n",
    "                 device = 'cpu', device_id = 0):\n",
    "        super(TFRecordPipelineValid, self).__init__(batch_size,\n",
    "                                         num_threads,\n",
    "                                         device_id)\n",
    "        self.input = fn.readers.tfrecord(        \n",
    "             features = {\"image_raw\": tfrec.FixedLenFeature((), tfrec.string, \"\"),\n",
    "                         \"label\": tfrec.FixedLenFeature([24], tfrec.int64,  24)},\n",
    "             path = ['./tfrecords/multi-label_valid.tfrecords'],\n",
    "             index_path = ['./tfrecords/multi-label_valid.idx'],\n",
    "             random_shuffle=False,\n",
    "             seed = set_seed)\n",
    "        self.iter = 0\n",
    "    def define_graph(self):\n",
    "        inputs = self.input\n",
    "        images = fn.decoders.image(inputs[\"image_raw\"], device = \"mixed\", output_type = types.RGB) / 255.\n",
    "        labels = inputs[\"label\"].gpu()\n",
    "        return (images, labels)\n",
    "    def iter_setup(self):\n",
    "        pass"
   ]
  },
  {
   "cell_type": "markdown",
   "metadata": {},
   "source": [
    "### Fine-tune ResNet50 model for classifying multi-label emotions."
   ]
  },
  {
   "cell_type": "code",
   "execution_count": 8,
   "metadata": {},
   "outputs": [
    {
     "name": "stdout",
     "output_type": "stream",
     "text": [
      "Number of layers in the base model:  176\n",
      "Model: \"model\"\n",
      "_________________________________________________________________\n",
      "Layer (type)                 Output Shape              Param #   \n",
      "=================================================================\n",
      "input_2 (InputLayer)         [(None, 64, 64, 3)]       0         \n",
      "_________________________________________________________________\n",
      "resnet50 (Functional)        (None, 2048)              23587712  \n",
      "_________________________________________________________________\n",
      "dense (Dense)                (None, 24)                49176     \n",
      "_________________________________________________________________\n",
      "dropout (Dropout)            (None, 24)                0         \n",
      "_________________________________________________________________\n",
      "dense_1 (Dense)              (None, 24)                600       \n",
      "=================================================================\n",
      "Total params: 23,637,488\n",
      "Trainable params: 17,265,264\n",
      "Non-trainable params: 6,372,224\n",
      "_________________________________________________________________\n",
      "Epoch 1/1000\n",
      "485/485 [==============================] - 25s 40ms/step - loss: 0.5390 - accuracy: 0.1241 - val_loss: 0.3674 - val_accuracy: 0.2966\n",
      "Epoch 2/1000\n",
      "485/485 [==============================] - 18s 37ms/step - loss: 0.4669 - accuracy: 0.1384 - val_loss: 0.3206 - val_accuracy: 0.3120\n",
      "Epoch 3/1000\n",
      "485/485 [==============================] - 18s 38ms/step - loss: 0.4330 - accuracy: 0.1468 - val_loss: 0.2953 - val_accuracy: 0.3221\n",
      "Epoch 4/1000\n",
      "485/485 [==============================] - 18s 38ms/step - loss: 0.4049 - accuracy: 0.1518 - val_loss: 0.2670 - val_accuracy: 0.3297\n",
      "Epoch 5/1000\n",
      "485/485 [==============================] - 18s 38ms/step - loss: 0.3787 - accuracy: 0.1630 - val_loss: 0.2366 - val_accuracy: 0.3461\n",
      "Epoch 6/1000\n",
      "485/485 [==============================] - 19s 38ms/step - loss: 0.3553 - accuracy: 0.1743 - val_loss: 0.2207 - val_accuracy: 0.3484\n",
      "Epoch 7/1000\n",
      "485/485 [==============================] - 18s 38ms/step - loss: 0.3342 - accuracy: 0.1844 - val_loss: 0.2105 - val_accuracy: 0.3557\n",
      "Epoch 8/1000\n",
      "485/485 [==============================] - 17s 36ms/step - loss: 0.3148 - accuracy: 0.1978 - val_loss: 0.1978 - val_accuracy: 0.3794\n",
      "Epoch 9/1000\n",
      "485/485 [==============================] - 18s 37ms/step - loss: 0.2965 - accuracy: 0.2154 - val_loss: 0.1868 - val_accuracy: 0.3966\n",
      "Epoch 10/1000\n",
      "485/485 [==============================] - 18s 36ms/step - loss: 0.2817 - accuracy: 0.2297 - val_loss: 0.1788 - val_accuracy: 0.4125\n",
      "Epoch 11/1000\n",
      "485/485 [==============================] - 18s 37ms/step - loss: 0.2668 - accuracy: 0.2457 - val_loss: 0.1718 - val_accuracy: 0.3906\n",
      "Epoch 12/1000\n",
      "485/485 [==============================] - 17s 36ms/step - loss: 0.2538 - accuracy: 0.2617 - val_loss: 0.1639 - val_accuracy: 0.4557\n",
      "Epoch 13/1000\n",
      "485/485 [==============================] - 18s 37ms/step - loss: 0.2412 - accuracy: 0.2843 - val_loss: 0.1628 - val_accuracy: 0.4263\n",
      "Epoch 14/1000\n",
      "485/485 [==============================] - 18s 38ms/step - loss: 0.2314 - accuracy: 0.2966 - val_loss: 0.1533 - val_accuracy: 0.4758\n",
      "Epoch 15/1000\n",
      "485/485 [==============================] - 18s 38ms/step - loss: 0.2210 - accuracy: 0.3142 - val_loss: 0.1524 - val_accuracy: 0.4529\n",
      "Epoch 16/1000\n",
      "485/485 [==============================] - 18s 37ms/step - loss: 0.2115 - accuracy: 0.3336 - val_loss: 0.1543 - val_accuracy: 0.4523\n",
      "Epoch 17/1000\n",
      "485/485 [==============================] - 18s 37ms/step - loss: 0.2020 - accuracy: 0.3521 - val_loss: 0.1387 - val_accuracy: 0.5195\n",
      "Epoch 18/1000\n",
      "485/485 [==============================] - 18s 37ms/step - loss: 0.1964 - accuracy: 0.3625 - val_loss: 0.1465 - val_accuracy: 0.5052\n",
      "Epoch 19/1000\n",
      "485/485 [==============================] - 18s 38ms/step - loss: 0.1870 - accuracy: 0.3869 - val_loss: 0.1354 - val_accuracy: 0.4945\n",
      "Epoch 20/1000\n",
      "485/485 [==============================] - 17s 36ms/step - loss: 0.1816 - accuracy: 0.3977 - val_loss: 0.1397 - val_accuracy: 0.4966\n",
      "Epoch 21/1000\n",
      "485/485 [==============================] - 19s 38ms/step - loss: 0.1748 - accuracy: 0.4149 - val_loss: 0.1546 - val_accuracy: 0.4669\n",
      "Epoch 22/1000\n",
      "485/485 [==============================] - 18s 38ms/step - loss: 0.1691 - accuracy: 0.4334 - val_loss: 0.1373 - val_accuracy: 0.5206\n",
      "Epoch 23/1000\n",
      "485/485 [==============================] - 19s 38ms/step - loss: 0.1639 - accuracy: 0.4428 - val_loss: 0.1361 - val_accuracy: 0.5320\n",
      "Epoch 24/1000\n",
      "485/485 [==============================] - 19s 38ms/step - loss: 0.1581 - accuracy: 0.4549 - val_loss: 0.1271 - val_accuracy: 0.5336\n",
      "Epoch 25/1000\n",
      "485/485 [==============================] - 18s 38ms/step - loss: 0.1534 - accuracy: 0.4701 - val_loss: 0.1169 - val_accuracy: 0.5596\n",
      "Epoch 26/1000\n",
      "485/485 [==============================] - 18s 38ms/step - loss: 0.1497 - accuracy: 0.4818 - val_loss: 0.1125 - val_accuracy: 0.5557\n",
      "Epoch 27/1000\n",
      "485/485 [==============================] - 19s 39ms/step - loss: 0.1453 - accuracy: 0.4908 - val_loss: 0.1360 - val_accuracy: 0.5060\n",
      "Epoch 28/1000\n",
      "485/485 [==============================] - 19s 38ms/step - loss: 0.1421 - accuracy: 0.4983 - val_loss: 0.1121 - val_accuracy: 0.6062\n",
      "Epoch 29/1000\n",
      "485/485 [==============================] - 19s 38ms/step - loss: 0.1375 - accuracy: 0.5131 - val_loss: 0.1355 - val_accuracy: 0.5443\n",
      "Epoch 30/1000\n",
      "485/485 [==============================] - 19s 39ms/step - loss: 0.1339 - accuracy: 0.5235 - val_loss: 0.1258 - val_accuracy: 0.6070\n",
      "Epoch 31/1000\n",
      "485/485 [==============================] - 18s 38ms/step - loss: 0.1301 - accuracy: 0.5305 - val_loss: 0.1058 - val_accuracy: 0.6065\n",
      "Epoch 32/1000\n",
      "485/485 [==============================] - 17s 35ms/step - loss: 0.1271 - accuracy: 0.5380 - val_loss: 0.1236 - val_accuracy: 0.5638\n",
      "Epoch 33/1000\n",
      "485/485 [==============================] - 18s 37ms/step - loss: 0.1246 - accuracy: 0.5484 - val_loss: 0.1195 - val_accuracy: 0.5669\n",
      "Epoch 34/1000\n",
      "485/485 [==============================] - 17s 35ms/step - loss: 0.1214 - accuracy: 0.5534 - val_loss: 0.1244 - val_accuracy: 0.5443\n",
      "Epoch 35/1000\n",
      "485/485 [==============================] - 19s 38ms/step - loss: 0.1177 - accuracy: 0.5639 - val_loss: 0.1093 - val_accuracy: 0.5938\n",
      "Epoch 36/1000\n",
      "485/485 [==============================] - 17s 36ms/step - loss: 0.1171 - accuracy: 0.5667 - val_loss: 0.1250 - val_accuracy: 0.5659\n",
      "Epoch 37/1000\n",
      "485/485 [==============================] - 18s 38ms/step - loss: 0.1133 - accuracy: 0.5815 - val_loss: 0.1284 - val_accuracy: 0.5938\n",
      "Epoch 38/1000\n",
      "485/485 [==============================] - 17s 36ms/step - loss: 0.1119 - accuracy: 0.5813 - val_loss: 0.1269 - val_accuracy: 0.5786\n",
      "Epoch 39/1000\n",
      "485/485 [==============================] - 18s 38ms/step - loss: 0.1098 - accuracy: 0.5824 - val_loss: 0.1082 - val_accuracy: 0.6091\n",
      "Epoch 40/1000\n",
      "485/485 [==============================] - 18s 38ms/step - loss: 0.1060 - accuracy: 0.5957 - val_loss: 0.1034 - val_accuracy: 0.5891\n",
      "Epoch 41/1000\n",
      "485/485 [==============================] - 18s 38ms/step - loss: 0.1051 - accuracy: 0.5990 - val_loss: 0.0998 - val_accuracy: 0.5836\n",
      "Epoch 42/1000\n",
      "485/485 [==============================] - 17s 35ms/step - loss: 0.1034 - accuracy: 0.6030 - val_loss: 0.1084 - val_accuracy: 0.6021\n",
      "Epoch 43/1000\n",
      "485/485 [==============================] - 19s 39ms/step - loss: 0.1024 - accuracy: 0.6025 - val_loss: 0.1224 - val_accuracy: 0.6094\n",
      "Epoch 44/1000\n",
      "485/485 [==============================] - 19s 39ms/step - loss: 0.1005 - accuracy: 0.6088 - val_loss: 0.0958 - val_accuracy: 0.6081\n",
      "Epoch 45/1000\n",
      "485/485 [==============================] - 19s 39ms/step - loss: 0.0983 - accuracy: 0.6144 - val_loss: 0.1065 - val_accuracy: 0.5914\n",
      "Epoch 46/1000\n",
      "485/485 [==============================] - 18s 36ms/step - loss: 0.0976 - accuracy: 0.6130 - val_loss: 0.0992 - val_accuracy: 0.5891\n",
      "Epoch 47/1000\n",
      "485/485 [==============================] - 17s 36ms/step - loss: 0.0950 - accuracy: 0.6217 - val_loss: 0.0947 - val_accuracy: 0.6435\n",
      "Epoch 48/1000\n",
      "485/485 [==============================] - 18s 38ms/step - loss: 0.0943 - accuracy: 0.6250 - val_loss: 0.0851 - val_accuracy: 0.6380\n",
      "Epoch 49/1000\n"
     ]
    },
    {
     "name": "stdout",
     "output_type": "stream",
     "text": [
      "485/485 [==============================] - 19s 38ms/step - loss: 0.0920 - accuracy: 0.6308 - val_loss: 0.0974 - val_accuracy: 0.6286\n",
      "Epoch 50/1000\n",
      "485/485 [==============================] - 19s 38ms/step - loss: 0.0908 - accuracy: 0.6308 - val_loss: 0.1034 - val_accuracy: 0.5911\n",
      "Epoch 51/1000\n",
      "485/485 [==============================] - 18s 38ms/step - loss: 0.0901 - accuracy: 0.6343 - val_loss: 0.1062 - val_accuracy: 0.5807\n",
      "Epoch 52/1000\n",
      "485/485 [==============================] - 19s 38ms/step - loss: 0.0887 - accuracy: 0.6413 - val_loss: 0.0898 - val_accuracy: 0.5695\n",
      "Epoch 53/1000\n",
      "485/485 [==============================] - 18s 38ms/step - loss: 0.0881 - accuracy: 0.6371 - val_loss: 0.0903 - val_accuracy: 0.6143\n",
      "Epoch 54/1000\n",
      "485/485 [==============================] - 18s 38ms/step - loss: 0.0859 - accuracy: 0.6450 - val_loss: 0.1038 - val_accuracy: 0.5612\n",
      "Epoch 55/1000\n",
      "485/485 [==============================] - 18s 38ms/step - loss: 0.0860 - accuracy: 0.6461 - val_loss: 0.0900 - val_accuracy: 0.6661\n",
      "Epoch 56/1000\n",
      "485/485 [==============================] - 19s 39ms/step - loss: 0.0845 - accuracy: 0.6484 - val_loss: 0.0893 - val_accuracy: 0.5924\n",
      "Epoch 57/1000\n",
      "485/485 [==============================] - 19s 38ms/step - loss: 0.0840 - accuracy: 0.6505 - val_loss: 0.0969 - val_accuracy: 0.5878\n",
      "Epoch 58/1000\n",
      "485/485 [==============================] - 17s 35ms/step - loss: 0.0824 - accuracy: 0.6541 - val_loss: 0.0808 - val_accuracy: 0.6622\n",
      "Epoch 59/1000\n",
      "485/485 [==============================] - 18s 37ms/step - loss: 0.0813 - accuracy: 0.6569 - val_loss: 0.0993 - val_accuracy: 0.6211\n",
      "Epoch 60/1000\n",
      "485/485 [==============================] - 18s 38ms/step - loss: 0.0801 - accuracy: 0.6582 - val_loss: 0.0975 - val_accuracy: 0.6336\n",
      "Epoch 61/1000\n",
      "485/485 [==============================] - 18s 38ms/step - loss: 0.0795 - accuracy: 0.6601 - val_loss: 0.0732 - val_accuracy: 0.6458\n",
      "Epoch 62/1000\n",
      "485/485 [==============================] - 17s 35ms/step - loss: 0.0790 - accuracy: 0.6604 - val_loss: 0.0731 - val_accuracy: 0.6906\n",
      "Epoch 63/1000\n",
      "485/485 [==============================] - 18s 38ms/step - loss: 0.0781 - accuracy: 0.6630 - val_loss: 0.1026 - val_accuracy: 0.5893\n",
      "Epoch 64/1000\n",
      "485/485 [==============================] - 19s 38ms/step - loss: 0.0770 - accuracy: 0.6665 - val_loss: 0.0740 - val_accuracy: 0.6680\n",
      "Epoch 65/1000\n",
      "485/485 [==============================] - 18s 38ms/step - loss: 0.0762 - accuracy: 0.6666 - val_loss: 0.0766 - val_accuracy: 0.6453\n",
      "Epoch 66/1000\n",
      "485/485 [==============================] - 17s 36ms/step - loss: 0.0755 - accuracy: 0.6715 - val_loss: 0.0816 - val_accuracy: 0.6763\n",
      "Epoch 67/1000\n",
      "485/485 [==============================] - 18s 36ms/step - loss: 0.0752 - accuracy: 0.6690 - val_loss: 0.0892 - val_accuracy: 0.6385\n",
      "Epoch 68/1000\n",
      "485/485 [==============================] - 18s 37ms/step - loss: 0.0739 - accuracy: 0.6718 - val_loss: 0.0798 - val_accuracy: 0.6682\n",
      "Epoch 69/1000\n",
      "485/485 [==============================] - 18s 36ms/step - loss: 0.0735 - accuracy: 0.6734 - val_loss: 0.0579 - val_accuracy: 0.6969\n",
      "Epoch 70/1000\n",
      "485/485 [==============================] - 17s 34ms/step - loss: 0.0727 - accuracy: 0.6758 - val_loss: 0.0895 - val_accuracy: 0.5909\n",
      "Epoch 71/1000\n",
      "485/485 [==============================] - 18s 37ms/step - loss: 0.0725 - accuracy: 0.6770 - val_loss: 0.0951 - val_accuracy: 0.6422\n",
      "Epoch 72/1000\n",
      "485/485 [==============================] - 17s 35ms/step - loss: 0.0718 - accuracy: 0.6761 - val_loss: 0.0760 - val_accuracy: 0.6247\n",
      "Epoch 73/1000\n",
      "485/485 [==============================] - 17s 35ms/step - loss: 0.0709 - accuracy: 0.6792 - val_loss: 0.0806 - val_accuracy: 0.6453\n",
      "Epoch 74/1000\n",
      "485/485 [==============================] - 17s 35ms/step - loss: 0.0705 - accuracy: 0.6851 - val_loss: 0.0805 - val_accuracy: 0.6271\n",
      "Epoch 75/1000\n",
      "485/485 [==============================] - 17s 35ms/step - loss: 0.0700 - accuracy: 0.6809 - val_loss: 0.0825 - val_accuracy: 0.6419\n",
      "Epoch 76/1000\n",
      "485/485 [==============================] - 17s 35ms/step - loss: 0.0690 - accuracy: 0.6875 - val_loss: 0.0700 - val_accuracy: 0.6784\n",
      "Epoch 77/1000\n",
      "485/485 [==============================] - 17s 35ms/step - loss: 0.0681 - accuracy: 0.6865 - val_loss: 0.0690 - val_accuracy: 0.6661\n",
      "Epoch 78/1000\n",
      "485/485 [==============================] - 17s 35ms/step - loss: 0.0678 - accuracy: 0.6827 - val_loss: 0.0974 - val_accuracy: 0.6057\n",
      "Epoch 79/1000\n",
      "485/485 [==============================] - 18s 38ms/step - loss: 0.0680 - accuracy: 0.6813 - val_loss: 0.0767 - val_accuracy: 0.6391\n",
      "time: 23min 56s (started: 2021-12-07 11:27:47 +00:00)\n"
     ]
    }
   ],
   "source": [
    "# https://www.tensorflow.org/tutorials/images/transfer_learning\n",
    "# https://keras.io/guides/transfer_learning/\n",
    "\n",
    "if __name__ == \"__main__\":\n",
    "    batch_size = 64\n",
    "    shapes = ((batch_size, 64, 64, 3),\n",
    "              (batch_size, 24))\n",
    "    pipe_train = TFRecordPipelineTrain(batch_size=batch_size, \n",
    "                                 num_threads=1, \n",
    "                                 device='gpu', \n",
    "                                 device_id=0)\n",
    "\n",
    "    batch_size_valid = 64\n",
    "    shapes_valid = ((batch_size_valid, 64, 64, 3),\n",
    "                    (batch_size_valid, 24))\n",
    "    pipe_valid = TFRecordPipelineValid(batch_size=batch_size, \n",
    "                                 num_threads=1, \n",
    "                                 device='gpu', \n",
    "                                 device_id=0)       \n",
    "\n",
    "    with tf.device('/gpu:0'):\n",
    "        ds_train = dali_tf.DALIDataset(\n",
    "            pipeline=pipe_train,\n",
    "            batch_size=batch_size,\n",
    "            output_shapes=shapes,\n",
    "            output_dtypes=(tf.float32, tf.int64),\n",
    "            device_id=0)\n",
    "        \n",
    "        ds_valid = dali_tf.DALIDataset(\n",
    "            pipeline=pipe_valid,\n",
    "            batch_size=batch_size_valid,\n",
    "            output_shapes=shapes_valid,\n",
    "            output_dtypes=(tf.float32, tf.int64),\n",
    "            device_id=0)      \n",
    "\n",
    "        initializer = keras.initializers.GlorotUniform(seed=set_seed)\n",
    "        activation =  keras.activations.sigmoid         \n",
    "        lr_schedule = keras.optimizers.schedules.ExponentialDecay(\n",
    "            initial_learning_rate=1e-5,\n",
    "            decay_steps=TRAIN_DATA_SIZE // batch_size * 10,\n",
    "            decay_rate=0.95)\n",
    "        \n",
    "        number_of_classes = 24\n",
    "        \n",
    "        base_model = keras.applications.ResNet50(\n",
    "            weights='imagenet',  # Load weights pre-trained on ImageNet.\n",
    "            input_shape=(64, 64, 3), # VGG16 expects min 32 x 32\n",
    "            include_top=False, # Do not include the ImageNet classifier at the top.\n",
    "            pooling='avg') # average pooling added \n",
    "        \n",
    "        base_model.trainable = True   # Unfreeze ResNet50 weights.\n",
    "\n",
    "        # See how many layers are in the base model.\n",
    "        print(\"Number of layers in the base model: \", len(base_model.layers))\n",
    "        \n",
    "        # Fine-tune from this layer onwards.\n",
    "        fine_tune_at = 120\n",
    "        \n",
    "        # Freeze all the layers before the `fine_tune_at` layer.\n",
    "        for layer in base_model.layers[:fine_tune_at]:\n",
    "            layer.trainable =  False   \n",
    "            \n",
    "        inputs = keras.Input(shape=(64, 64, 3))\n",
    "        x = base_model(inputs)\n",
    "        fc1 = keras.layers.Dense(number_of_classes,\n",
    "                             kernel_initializer=initializer)(x)        \n",
    "        do1 = keras.layers.Dropout(0.5, seed=set_seed)(fc1)          \n",
    "        outputs = keras.layers.Dense(number_of_classes,\n",
    "                             kernel_initializer=initializer,\n",
    "                             activation=activation)(do1)   \n",
    "        clf = keras.Model(inputs, outputs)\n",
    "        \n",
    "        clf.summary()\n",
    "\n",
    "        # Apply early stopping.        \n",
    "        es_callback = tf.keras.callbacks.EarlyStopping(monitor='val_loss', patience=10,\n",
    "                                                       restore_best_weights=True)  \n",
    "        \n",
    "        clf.compile(optimizer=keras.optimizers.Adam(learning_rate=lr_schedule),\n",
    "              loss=keras.losses.BinaryCrossentropy(),\n",
    "              metrics=['accuracy'])\n",
    "        \n",
    "        history = clf.fit(ds_train, steps_per_epoch=TRAIN_DATA_SIZE // batch_size, \n",
    "                          validation_data=ds_valid.take(VALID_DATA_SIZE // batch_size_valid),\n",
    "                          epochs=1000,\n",
    "                          callbacks=[es_callback])"
   ]
  },
  {
   "cell_type": "code",
   "execution_count": 9,
   "metadata": {},
   "outputs": [
    {
     "name": "stdout",
     "output_type": "stream",
     "text": [
      "dict_keys(['loss', 'accuracy', 'val_loss', 'val_accuracy'])\n",
      "time: 600 µs (started: 2021-12-07 11:51:44 +00:00)\n"
     ]
    }
   ],
   "source": [
    "# List all data in history.\n",
    "\n",
    "print(history.history.keys())"
   ]
  },
  {
   "cell_type": "code",
   "execution_count": 10,
   "metadata": {},
   "outputs": [
    {
     "data": {
      "image/png": "[encoded data removed]",
      "text/plain": [
       "<Figure size 432x288 with 1 Axes>"
      ]
     },
     "metadata": {
      "needs_background": "light"
     },
     "output_type": "display_data"
    },
    {
     "name": "stdout",
     "output_type": "stream",
     "text": [
      "time: 201 ms (started: 2021-12-07 11:51:44 +00:00)\n"
     ]
    }
   ],
   "source": [
    "# Summarize history for accuracy.\n",
    "\n",
    "plt.plot(history.history['accuracy'])\n",
    "plt.plot(history.history['val_accuracy'])\n",
    "plt.title('model accuracy')\n",
    "plt.ylabel('accuracy')\n",
    "plt.xlabel('epoch')\n",
    "plt.legend(['train', 'valid'], loc='upper left')\n",
    "plt.show()"
   ]
  },
  {
   "cell_type": "code",
   "execution_count": 11,
   "metadata": {},
   "outputs": [
    {
     "data": {
      "image/png": "[encoded data removed]",
      "text/plain": [
       "<Figure size 432x288 with 1 Axes>"
      ]
     },
     "metadata": {
      "needs_background": "light"
     },
     "output_type": "display_data"
    },
    {
     "name": "stdout",
     "output_type": "stream",
     "text": [
      "time: 141 ms (started: 2021-12-07 11:51:44 +00:00)\n"
     ]
    }
   ],
   "source": [
    "# Summarize history for loss.\n",
    "\n",
    "plt.plot(history.history['loss'])\n",
    "plt.plot(history.history['val_loss'])\n",
    "plt.title('model loss')\n",
    "plt.ylabel('loss')\n",
    "plt.xlabel('epoch')\n",
    "plt.legend(['train', 'val'], loc='upper right')\n",
    "plt.show()"
   ]
  },
  {
   "cell_type": "markdown",
   "metadata": {
    "id": "wXhmX3trwKF4"
   },
   "source": [
    "### Define test pipeline."
   ]
  },
  {
   "cell_type": "code",
   "execution_count": 12,
   "metadata": {},
   "outputs": [
    {
     "name": "stdout",
     "output_type": "stream",
     "text": [
      "time: 1.85 ms (started: 2021-12-07 11:51:44 +00:00)\n"
     ]
    }
   ],
   "source": [
    "class TFRecordPipelineTest(Pipeline):\n",
    "    def __init__(self, batch_size, num_threads,\n",
    "                 device = 'cpu', device_id = 0):\n",
    "        super(TFRecordPipelineTest, self).__init__(batch_size,\n",
    "                                         num_threads,\n",
    "                                         device_id)\n",
    "        self.input = fn.readers.tfrecord(        \n",
    "             features = {\"image_raw\": tfrec.FixedLenFeature((), tfrec.string, \"\"),\n",
    "                         \"label\": tfrec.FixedLenFeature([24], tfrec.int64,  24)},\n",
    "             path = ['./tfrecords/multi-label_test.tfrecords'],\n",
    "             index_path = ['./tfrecords/multi-label_test.idx'],\n",
    "             random_shuffle=False,\n",
    "             seed = set_seed)\n",
    "        self.iter = 0\n",
    "    def define_graph(self):\n",
    "        inputs = self.input\n",
    "        images = fn.decoders.image(inputs[\"image_raw\"], device = \"mixed\", output_type = types.RGB) / 255.\n",
    "        labels = inputs[\"label\"].gpu()\n",
    "        return (images, labels)\n",
    "    def iter_setup(self):\n",
    "        pass"
   ]
  },
  {
   "cell_type": "markdown",
   "metadata": {},
   "source": [
    "### Check test data accuracy."
   ]
  },
  {
   "cell_type": "code",
   "execution_count": 13,
   "metadata": {},
   "outputs": [
    {
     "name": "stdout",
     "output_type": "stream",
     "text": [
      "<DALIDataset shapes: ((1, 64, 64, 3), (1, 24)), types: (tf.float32, tf.int64)>\n",
      "3882/3882 [==============================] - 79s 20ms/step - loss: 0.0560 - accuracy: 0.7002\n",
      "Test accuracy: 0.7001545429229736\n",
      "A test output from the last layer: [2.8079210e-03 1.3684896e-04 1.1290014e-05 4.7948095e-03 5.6516649e-03\n",
      " 5.1911036e-04 8.0456265e-04 6.9303829e-03 1.1281243e-02 5.3536853e-05\n",
      " 7.0497685e-05 3.2799970e-02 9.0985918e-01 2.6970394e-03 5.6493073e-04\n",
      " 4.8099100e-03 5.9716762e-03 3.6861477e-04 2.2358587e-03 4.3507785e-05\n",
      " 3.5091417e-04 4.9580837e-04 3.1448400e-03 5.0320750e-04]\n",
      "Index of the maximum value: 12\n",
      "Label: upset\n",
      "time: 1min 20s (started: 2021-12-07 11:51:44 +00:00)\n"
     ]
    }
   ],
   "source": [
    "# https://docs.nvidia.com/deeplearning/dali/user-guide/docs/plugins/tensorflow_plugin_api.html\n",
    "\n",
    "if __name__ == \"__main__\":\n",
    "    batch_size = 1\n",
    "    shapes = ((batch_size, 64, 64, 3),\n",
    "              (batch_size, 24))\n",
    "    pipe_test = TFRecordPipelineTest(batch_size=batch_size, \n",
    "                            num_threads=4, \n",
    "                            device='gpu', \n",
    "                            device_id=0)\n",
    "\n",
    "    with tf.device('/gpu:0'):\n",
    "        ds_test = dali_tf.DALIDataset(\n",
    "            pipeline=pipe_test,\n",
    "            batch_size=batch_size,\n",
    "            output_shapes=shapes,\n",
    "            output_dtypes=(tf.float32, tf.int64),\n",
    "            device_id=0)\n",
    "        print(ds_test)\n",
    "        loss, acc = clf.evaluate(ds_test, steps=TEST_DATA_SIZE)\n",
    "        print(\"Test accuracy:\", acc)\n",
    "        predictions = clf.predict(ds_test.take(5))\n",
    "        print(\"A test output from the last layer:\", predictions[0])\n",
    "        print(\"Index of the maximum value:\", np.argmax(predictions[0]))\n",
    "        print(\"Label:\", LABELS[np.argmax(predictions[0])])"
   ]
  },
  {
   "cell_type": "code",
   "execution_count": 14,
   "metadata": {},
   "outputs": [
    {
     "data": {
      "text/plain": [
       "array([[2.80792103e-03, 1.36848961e-04, 1.12900143e-05, 4.79480950e-03,\n",
       "        5.65166492e-03, 5.19110356e-04, 8.04562645e-04, 6.93038292e-03,\n",
       "        1.12812426e-02, 5.35368526e-05, 7.04976846e-05, 3.27999704e-02,\n",
       "        9.09859180e-01, 2.69703940e-03, 5.64930728e-04, 4.80990997e-03,\n",
       "        5.97167620e-03, 3.68614768e-04, 2.23585870e-03, 4.35077854e-05,\n",
       "        3.50914168e-04, 4.95808374e-04, 3.14484001e-03, 5.03207499e-04],\n",
       "       [3.50502366e-03, 1.22354727e-03, 2.36885608e-04, 7.61800865e-03,\n",
       "        1.33674499e-02, 1.69247165e-01, 1.17001124e-03, 5.18594263e-03,\n",
       "        3.20317820e-02, 2.24225165e-04, 8.56870494e-04, 2.32202217e-01,\n",
       "        6.48170989e-03, 3.03415488e-03, 1.11003325e-03, 3.26100783e-03,\n",
       "        3.49375140e-03, 8.48504249e-03, 5.10796579e-03, 1.33573791e-04,\n",
       "        4.15541115e-04, 8.69195210e-05, 3.18124454e-04, 3.69604939e-04],\n",
       "       [3.49563779e-03, 4.79182322e-03, 2.71407829e-04, 1.51559478e-02,\n",
       "        4.17227186e-02, 5.02951117e-03, 2.75714509e-03, 3.03884759e-03,\n",
       "        2.74845981e-03, 4.61646030e-03, 2.02202355e-03, 6.14491403e-01,\n",
       "        6.15481079e-01, 3.65715218e-03, 1.80414505e-03, 1.85176004e-02,\n",
       "        2.13121879e-03, 1.36448594e-03, 4.02655127e-03, 2.73088488e-04,\n",
       "        1.25908107e-02, 7.05605606e-04, 9.70183592e-03, 4.96435771e-03],\n",
       "       [8.92771652e-07, 1.37664685e-07, 1.05757847e-09, 4.62083199e-06,\n",
       "        9.97565866e-01, 6.89083026e-06, 2.66355801e-06, 1.61385461e-09,\n",
       "        3.78495279e-05, 5.54520803e-08, 6.22737133e-08, 7.08897569e-05,\n",
       "        2.73835553e-06, 2.26001180e-06, 9.65697851e-08, 2.95221213e-07,\n",
       "        1.82259021e-06, 1.66930818e-06, 1.14626914e-06, 5.69909027e-08,\n",
       "        1.60974264e-06, 1.18183573e-06, 1.51436382e-06, 1.01187325e-05],\n",
       "       [2.12688949e-02, 3.78336315e-03, 1.13465218e-03, 3.46050486e-02,\n",
       "        5.49072288e-02, 1.24662789e-02, 5.89509401e-03, 2.34730951e-02,\n",
       "        5.04671969e-02, 2.64157495e-03, 4.46095131e-03, 1.04378209e-01,\n",
       "        6.45277917e-01, 2.68314872e-02, 6.61597261e-03, 3.85432951e-02,\n",
       "        6.17812015e-02, 5.84757607e-03, 7.46449009e-02, 1.66506134e-03,\n",
       "        9.21881571e-03, 6.97975373e-03, 7.39767551e-02, 1.37806972e-02]],\n",
       "      dtype=float32)"
      ]
     },
     "execution_count": 14,
     "metadata": {},
     "output_type": "execute_result"
    },
    {
     "name": "stdout",
     "output_type": "stream",
     "text": [
      "time: 4.24 ms (started: 2021-12-07 11:53:04 +00:00)\n"
     ]
    }
   ],
   "source": [
    "predictions"
   ]
  },
  {
   "cell_type": "code",
   "execution_count": 15,
   "metadata": {},
   "outputs": [
    {
     "data": {
      "text/plain": [
       "<matplotlib.image.AxesImage at 0x7fce0847b9b0>"
      ]
     },
     "execution_count": 15,
     "metadata": {},
     "output_type": "execute_result"
    },
    {
     "data": {
      "image/png": "[encoded data removed]",
      "text/plain": [
       "<Figure size 432x288 with 1 Axes>"
      ]
     },
     "metadata": {
      "needs_background": "light"
     },
     "output_type": "display_data"
    },
    {
     "name": "stdout",
     "output_type": "stream",
     "text": [
      "time: 198 ms (started: 2021-12-07 11:53:04 +00:00)\n"
     ]
    }
   ],
   "source": [
    "# Display the tested image.\n",
    "\n",
    "import matplotlib.pyplot as plt\n",
    "\n",
    "data, = ds_test.take(1)\n",
    "plt.imshow(data[0][0])"
   ]
  },
  {
   "cell_type": "code",
   "execution_count": 16,
   "metadata": {},
   "outputs": [
    {
     "data": {
      "text/plain": [
       "<tf.Tensor: shape=(1, 24), dtype=int64, numpy=\n",
       "array([[0, 0, 0, 0, 0, 0, 0, 0, 0, 0, 0, 0, 1, 0, 0, 0, 0, 0, 0, 0, 0, 0,\n",
       "        0, 0]])>"
      ]
     },
     "execution_count": 16,
     "metadata": {},
     "output_type": "execute_result"
    },
    {
     "name": "stdout",
     "output_type": "stream",
     "text": [
      "time: 2.63 ms (started: 2021-12-07 11:53:05 +00:00)\n"
     ]
    }
   ],
   "source": [
    "# Check the test data's true label.\n",
    "data[1]"
   ]
  },
  {
   "cell_type": "markdown",
   "metadata": {},
   "source": [
    "### Result: Argmax Accuracy & Micro F1-score"
   ]
  },
  {
   "cell_type": "code",
   "execution_count": 18,
   "metadata": {},
   "outputs": [
    {
     "name": "stdout",
     "output_type": "stream",
     "text": [
      "time: 59.4 s (started: 2021-12-07 11:53:05 +00:00)\n"
     ]
    }
   ],
   "source": [
    "pred_test = clf.predict(ds_test.take(TEST_DATA_SIZE))"
   ]
  },
  {
   "cell_type": "code",
   "execution_count": 19,
   "metadata": {},
   "outputs": [
    {
     "name": "stdout",
     "output_type": "stream",
     "text": [
      "time: 1.56 s (started: 2021-12-07 11:54:04 +00:00)\n"
     ]
    }
   ],
   "source": [
    "true_test = np.concatenate([y for x, y in ds_test.take(TEST_DATA_SIZE)], axis=0)"
   ]
  },
  {
   "cell_type": "code",
   "execution_count": 20,
   "metadata": {},
   "outputs": [
    {
     "data": {
      "text/plain": [
       "(3882, 24)"
      ]
     },
     "execution_count": 20,
     "metadata": {},
     "output_type": "execute_result"
    },
    {
     "name": "stdout",
     "output_type": "stream",
     "text": [
      "time: 2.39 ms (started: 2021-12-07 11:54:06 +00:00)\n"
     ]
    }
   ],
   "source": [
    "true_test.shape"
   ]
  },
  {
   "cell_type": "code",
   "execution_count": 21,
   "metadata": {},
   "outputs": [
    {
     "name": "stdout",
     "output_type": "stream",
     "text": [
      "argmax accuracy: 0.7001545595054096\n",
      "f1_micro: 0.7001545595054096\n",
      "time: 325 ms (started: 2021-12-07 11:54:06 +00:00)\n"
     ]
    }
   ],
   "source": [
    "from sklearn.metrics import accuracy_score, f1_score\n",
    "\n",
    "true_test_ls = []\n",
    "pred_test_ls = []\n",
    "\n",
    "for (true, pred) in zip(true_test, pred_test):\n",
    "    true_test_ls.append(np.argmax(true))\n",
    "    pred_test_ls.append(np.argmax(pred))\n",
    "\n",
    "argmax_acc = accuracy_score(true_test_ls, pred_test_ls)\n",
    "f1_micro = f1_score(true_test_ls, pred_test_ls, average='micro')\n",
    "\n",
    "print(\"argmax accuracy:\", argmax_acc)\n",
    "print(\"f1_micro:\", f1_micro)"
   ]
  },
  {
   "cell_type": "markdown",
   "metadata": {},
   "source": [
    "### Result: Threshold=0.5 Accuracy & Micro F1-score"
   ]
  },
  {
   "cell_type": "code",
   "execution_count": 23,
   "metadata": {},
   "outputs": [
    {
     "data": {
      "text/plain": [
       "array([[2.8079210e-03, 1.3684896e-04, 1.1290014e-05, ..., 4.9580837e-04,\n",
       "        3.1448400e-03, 5.0320750e-04],\n",
       "       [3.5050237e-03, 1.2235473e-03, 2.3688561e-04, ..., 8.6919521e-05,\n",
       "        3.1812445e-04, 3.6960494e-04],\n",
       "       [3.4956378e-03, 4.7918232e-03, 2.7140783e-04, ..., 7.0560561e-04,\n",
       "        9.7018359e-03, 4.9643577e-03],\n",
       "       ...,\n",
       "       [3.1008008e-03, 1.8239929e-03, 2.1540590e-04, ..., 1.8726942e-05,\n",
       "        2.8376859e-03, 9.4760139e-04],\n",
       "       [6.2240107e-04, 8.9555442e-01, 1.3196407e-04, ..., 3.9782738e-03,\n",
       "        5.1966934e-05, 2.6079027e-03],\n",
       "       [1.5231204e-04, 7.5336420e-06, 1.0127682e-05, ..., 1.8535071e-06,\n",
       "        2.5654903e-02, 2.1931835e-06]], dtype=float32)"
      ]
     },
     "execution_count": 23,
     "metadata": {},
     "output_type": "execute_result"
    },
    {
     "name": "stdout",
     "output_type": "stream",
     "text": [
      "time: 6.16 ms (started: 2021-12-07 11:54:06 +00:00)\n"
     ]
    }
   ],
   "source": [
    "pred_05 = pred_test.copy()\n",
    "pred_05"
   ]
  },
  {
   "cell_type": "code",
   "execution_count": 24,
   "metadata": {},
   "outputs": [
    {
     "data": {
      "text/plain": [
       "array([0., 0., 0., 0., 0., 0., 0., 0., 0., 0., 0., 0., 1., 0., 0., 0., 0.,\n",
       "       0., 0., 0., 0., 0., 0., 0.], dtype=float32)"
      ]
     },
     "execution_count": 24,
     "metadata": {},
     "output_type": "execute_result"
    },
    {
     "name": "stdout",
     "output_type": "stream",
     "text": [
      "time: 1.25 s (started: 2021-12-07 11:54:06 +00:00)\n"
     ]
    }
   ],
   "source": [
    "for ls in pred_05:\n",
    "    thres = 0.5\n",
    "    pred_05[pred_05 >= thres] = 1\n",
    "    pred_05[pred_05 < thres] = 0\n",
    "pred_05[0] "
   ]
  },
  {
   "cell_type": "code",
   "execution_count": 25,
   "metadata": {},
   "outputs": [
    {
     "data": {
      "text/plain": [
       "0.6473467284904688"
      ]
     },
     "execution_count": 25,
     "metadata": {},
     "output_type": "execute_result"
    },
    {
     "name": "stdout",
     "output_type": "stream",
     "text": [
      "time: 8.85 ms (started: 2021-12-07 11:54:07 +00:00)\n"
     ]
    }
   ],
   "source": [
    "accuracy_score(true_test, pred_05)"
   ]
  },
  {
   "cell_type": "code",
   "execution_count": 26,
   "metadata": {},
   "outputs": [
    {
     "data": {
      "text/plain": [
       "0.8201723967105915"
      ]
     },
     "execution_count": 26,
     "metadata": {},
     "output_type": "execute_result"
    },
    {
     "name": "stdout",
     "output_type": "stream",
     "text": [
      "time: 24.1 ms (started: 2021-12-07 11:54:07 +00:00)\n"
     ]
    }
   ],
   "source": [
    "f1_score(true_test, pred_05, average='micro')"
   ]
  },
  {
   "cell_type": "markdown",
   "metadata": {},
   "source": [
    "### Result: Threshold=0.4 Accuracy & Micro F1-score"
   ]
  },
  {
   "cell_type": "code",
   "execution_count": 28,
   "metadata": {},
   "outputs": [
    {
     "data": {
      "text/plain": [
       "array([0., 0., 0., 0., 0., 0., 0., 0., 0., 0., 0., 0., 1., 0., 0., 0., 0.,\n",
       "       0., 0., 0., 0., 0., 0., 0.], dtype=float32)"
      ]
     },
     "execution_count": 28,
     "metadata": {},
     "output_type": "execute_result"
    },
    {
     "name": "stdout",
     "output_type": "stream",
     "text": [
      "time: 1.29 s (started: 2021-12-07 11:54:07 +00:00)\n"
     ]
    }
   ],
   "source": [
    "pred_04 = pred_test.copy()\n",
    "for ls in pred_04:\n",
    "    thres = 0.4\n",
    "    pred_04[pred_04 >= thres] = 1\n",
    "    pred_04[pred_04 < thres] = 0\n",
    "pred_04[0]"
   ]
  },
  {
   "cell_type": "code",
   "execution_count": 29,
   "metadata": {},
   "outputs": [
    {
     "data": {
      "text/plain": [
       "0.7001545595054096"
      ]
     },
     "execution_count": 29,
     "metadata": {},
     "output_type": "execute_result"
    },
    {
     "name": "stdout",
     "output_type": "stream",
     "text": [
      "time: 8.71 ms (started: 2021-12-07 11:54:08 +00:00)\n"
     ]
    }
   ],
   "source": [
    "accuracy_score(true_test, pred_04)"
   ]
  },
  {
   "cell_type": "code",
   "execution_count": 30,
   "metadata": {},
   "outputs": [
    {
     "data": {
      "text/plain": [
       "0.8486185725249424"
      ]
     },
     "execution_count": 30,
     "metadata": {},
     "output_type": "execute_result"
    },
    {
     "name": "stdout",
     "output_type": "stream",
     "text": [
      "time: 27.2 ms (started: 2021-12-07 11:54:08 +00:00)\n"
     ]
    }
   ],
   "source": [
    "f1_score(true_test, pred_04, average='micro')"
   ]
  },
  {
   "cell_type": "markdown",
   "metadata": {},
   "source": [
    "### Result: Threshold=0.3 Accuracy & Micro F1-score"
   ]
  },
  {
   "cell_type": "code",
   "execution_count": 32,
   "metadata": {},
   "outputs": [
    {
     "data": {
      "text/plain": [
       "array([0., 0., 0., 0., 0., 0., 0., 0., 0., 0., 0., 0., 1., 0., 0., 0., 0.,\n",
       "       0., 0., 0., 0., 0., 0., 0.], dtype=float32)"
      ]
     },
     "execution_count": 32,
     "metadata": {},
     "output_type": "execute_result"
    },
    {
     "name": "stdout",
     "output_type": "stream",
     "text": [
      "time: 1.34 s (started: 2021-12-07 11:54:09 +00:00)\n"
     ]
    }
   ],
   "source": [
    "pred_03 = pred_test.copy()\n",
    "for ls in pred_03:\n",
    "    thres = 0.3\n",
    "    pred_03[pred_03 >= thres] = 1\n",
    "    pred_03[pred_03 < thres] = 0\n",
    "pred_03[0] "
   ]
  },
  {
   "cell_type": "code",
   "execution_count": 33,
   "metadata": {},
   "outputs": [
    {
     "data": {
      "text/plain": [
       "0.73827923750644"
      ]
     },
     "execution_count": 33,
     "metadata": {},
     "output_type": "execute_result"
    },
    {
     "name": "stdout",
     "output_type": "stream",
     "text": [
      "time: 8.64 ms (started: 2021-12-07 11:54:10 +00:00)\n"
     ]
    }
   ],
   "source": [
    "accuracy_score(true_test, pred_03)"
   ]
  },
  {
   "cell_type": "code",
   "execution_count": 34,
   "metadata": {},
   "outputs": [
    {
     "data": {
      "text/plain": [
       "0.8683722654801631"
      ]
     },
     "execution_count": 34,
     "metadata": {},
     "output_type": "execute_result"
    },
    {
     "name": "stdout",
     "output_type": "stream",
     "text": [
      "time: 25.2 ms (started: 2021-12-07 11:54:10 +00:00)\n"
     ]
    }
   ],
   "source": [
    "f1_score(true_test, pred_03, average='micro')"
   ]
  },
  {
   "cell_type": "markdown",
   "metadata": {},
   "source": [
    "### Result: Threshold=0.2 Accuracy & Micro F1-score"
   ]
  },
  {
   "cell_type": "code",
   "execution_count": 36,
   "metadata": {},
   "outputs": [
    {
     "data": {
      "text/plain": [
       "array([0., 0., 0., 0., 0., 0., 0., 0., 0., 0., 0., 0., 1., 0., 0., 0., 0.,\n",
       "       0., 0., 0., 0., 0., 0., 0.], dtype=float32)"
      ]
     },
     "execution_count": 36,
     "metadata": {},
     "output_type": "execute_result"
    },
    {
     "name": "stdout",
     "output_type": "stream",
     "text": [
      "time: 1.41 s (started: 2021-12-07 11:54:10 +00:00)\n"
     ]
    }
   ],
   "source": [
    "pred_02 = pred_test.copy()\n",
    "for ls in pred_02:\n",
    "    thres = 0.2\n",
    "    pred_02[pred_02 >= thres] = 1\n",
    "    pred_02[pred_02 < thres] = 0\n",
    "pred_02[0] "
   ]
  },
  {
   "cell_type": "code",
   "execution_count": 37,
   "metadata": {},
   "outputs": [
    {
     "data": {
      "text/plain": [
       "0.764554353426069"
      ]
     },
     "execution_count": 37,
     "metadata": {},
     "output_type": "execute_result"
    },
    {
     "name": "stdout",
     "output_type": "stream",
     "text": [
      "time: 8.52 ms (started: 2021-12-07 11:54:11 +00:00)\n"
     ]
    }
   ],
   "source": [
    "accuracy_score(true_test, pred_02)"
   ]
  },
  {
   "cell_type": "code",
   "execution_count": 38,
   "metadata": {},
   "outputs": [
    {
     "data": {
      "text/plain": [
       "0.8757824208763114"
      ]
     },
     "execution_count": 38,
     "metadata": {},
     "output_type": "execute_result"
    },
    {
     "name": "stdout",
     "output_type": "stream",
     "text": [
      "time: 25.5 ms (started: 2021-12-07 11:54:11 +00:00)\n"
     ]
    }
   ],
   "source": [
    "f1_score(true_test, pred_02, average='micro')"
   ]
  },
  {
   "cell_type": "markdown",
   "metadata": {},
   "source": [
    "### Result: Threshold=0.1 Accuracy & Micro F1-score"
   ]
  },
  {
   "cell_type": "code",
   "execution_count": 40,
   "metadata": {},
   "outputs": [
    {
     "data": {
      "text/plain": [
       "array([0., 0., 0., 0., 0., 0., 0., 0., 0., 0., 0., 0., 1., 0., 0., 0., 0.,\n",
       "       0., 0., 0., 0., 0., 0., 0.], dtype=float32)"
      ]
     },
     "execution_count": 40,
     "metadata": {},
     "output_type": "execute_result"
    },
    {
     "name": "stdout",
     "output_type": "stream",
     "text": [
      "time: 1.56 s (started: 2021-12-07 11:54:11 +00:00)\n"
     ]
    }
   ],
   "source": [
    "pred_01 = pred_test.copy()\n",
    "for ls in pred_01:\n",
    "    thres = 0.1\n",
    "    pred_01[pred_01 >= thres] = 1\n",
    "    pred_01[pred_01 < thres] = 0\n",
    "pred_01[0] "
   ]
  },
  {
   "cell_type": "code",
   "execution_count": 41,
   "metadata": {},
   "outputs": [
    {
     "data": {
      "text/plain": [
       "0.7156105100463679"
      ]
     },
     "execution_count": 41,
     "metadata": {},
     "output_type": "execute_result"
    },
    {
     "name": "stdout",
     "output_type": "stream",
     "text": [
      "time: 8.38 ms (started: 2021-12-07 11:54:13 +00:00)\n"
     ]
    }
   ],
   "source": [
    "accuracy_score(true_test, pred_01)"
   ]
  },
  {
   "cell_type": "code",
   "execution_count": 42,
   "metadata": {},
   "outputs": [
    {
     "data": {
      "text/plain": [
       "0.8400856259414888"
      ]
     },
     "execution_count": 42,
     "metadata": {},
     "output_type": "execute_result"
    },
    {
     "name": "stdout",
     "output_type": "stream",
     "text": [
      "time: 25.3 ms (started: 2021-12-07 11:54:13 +00:00)\n"
     ]
    }
   ],
   "source": [
    "f1_score(true_test, pred_01, average='micro')"
   ]
  },
  {
   "cell_type": "code",
   "execution_count": null,
   "metadata": {},
   "outputs": [],
   "source": []
  }
 ],
 "metadata": {
  "accelerator": "GPU",
  "colab": {
   "collapsed_sections": [
    "cTp8rILehFDd"
   ],
   "name": "How to solve Multi-Label Classification Problems in Deep Learning with Tensorflow & Keras.ipynb",
   "provenance": []
  },
  "kernelspec": {
   "display_name": "Python 3",
   "language": "python",
   "name": "python3"
  },
  "language_info": {
   "codemirror_mode": {
    "name": "ipython",
    "version": 3
   },
   "file_extension": ".py",
   "mimetype": "text/x-python",
   "name": "python",
   "nbconvert_exporter": "python",
   "pygments_lexer": "ipython3",
   "version": "3.6.9"
  }
 },
 "nbformat": 4,
 "nbformat_minor": 1
}
