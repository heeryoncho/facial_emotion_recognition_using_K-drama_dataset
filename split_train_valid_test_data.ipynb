{
 "cells": [
  {
   "cell_type": "markdown",
   "metadata": {},
   "source": [
    "This notebook contains the code used in the BigComp 2022 paper: <br>\n",
    "<b>Heeryon Cho, Woo-Kyu Kang, Younsoo Park, Sungeu Chae, and Seong-joon Kim, \"Multi-label Facial Emotion Recognition Using Korean Drama Movie Clips,\" BigComp 2022.</b>\n",
    "### Split train / valid / test data."
   ]
  },
  {
   "cell_type": "code",
   "execution_count": 1,
   "metadata": {},
   "outputs": [],
   "source": [
    "import pandas as pd\n",
    "from sklearn.model_selection import train_test_split\n",
    "import collections"
   ]
  },
  {
   "cell_type": "code",
   "execution_count": 2,
   "metadata": {},
   "outputs": [],
   "source": [
    "def create_split_dataset(dataset_name, stratify):\n",
    "    print(\"======\", dataset_name, \"======\")\n",
    "    fname = \"label/label_\" + dataset_name + \".csv\"\n",
    "    df_all = pd.read_csv(fname)\n",
    "    print(\"column_info:\", df_all.columns)\n",
    "    print(\"data_all:\", df_all.shape)\n",
    "    label_all = df_all.iloc[:, 2:]\n",
    "    \n",
    "    if stratify:\n",
    "        stratify_val = label_all\n",
    "    else:\n",
    "        stratify_val = None\n",
    "        \n",
    "    X_temp, X_valid, y_temp, y_valid = train_test_split(df_all, label_all, stratify=stratify_val, \n",
    "                                                        random_state=42, test_size=0.09999)    \n",
    "    print(\"y_temp:\", y_temp.shape)\n",
    "    print(\"y_valid:\", y_valid.shape)\n",
    "    y_valid_ints = [y.argmax() for y in y_valid.values]\n",
    "    freq_valid = collections.Counter(y_valid_ints)\n",
    "    print(\"y_valid_freq:\", freq_valid)\n",
    "    print(\"y_valid_uniq_class:\", len(freq_valid))\n",
    "    y_temp_ints = [y.argmax() for y in y_temp.values]\n",
    "    freq_temp = collections.Counter(y_temp_ints)\n",
    "    print(\"y_temp_freq:\", freq_temp)\n",
    "    print(\"y_temp_uniq_class:\", len(freq_temp))\n",
    "    \n",
    "    if stratify:\n",
    "        stratify_val = y_temp\n",
    "    else:\n",
    "        stratify_val = None    \n",
    "    \n",
    "    X_train, X_test, y_train, y_test = train_test_split(X_temp, y_temp, stratify=stratify_val, \n",
    "                                                        random_state=42, test_size=0.11111)\n",
    "    print(\"y_train:\", y_train.shape)\n",
    "    print(\"y_test:\", y_test.shape)\n",
    "    y_train_ints = [y.argmax() for y in y_train.values]\n",
    "    freq_train = collections.Counter(y_train_ints)\n",
    "    print(\"y_train_freq:\", freq_train)\n",
    "    print(\"y_train_uniq_class:\", len(freq_train))\n",
    "    y_test_ints = [y.argmax() for y in y_test.values]\n",
    "    freq_test = collections.Counter(y_test_ints)\n",
    "    print(\"y_test_freq:\", freq_test)\n",
    "    print(\"y_test_uniq_class:\", len(freq_test))\n",
    "    \n",
    "    fn_valid = \"label/label_\" + dataset_name + \"_valid.csv\"\n",
    "    X_valid.to_csv(fn_valid, index=False)\n",
    "    \n",
    "    fn_train = \"label/label_\" + dataset_name + \"_train.csv\"\n",
    "    X_train.to_csv(fn_train, index=False)\n",
    "    \n",
    "    fn_test = \"label/label_\" + dataset_name + \"_test.csv\"\n",
    "    X_test.to_csv(fn_test, index=False)"
   ]
  },
  {
   "cell_type": "code",
   "execution_count": 3,
   "metadata": {},
   "outputs": [
    {
     "name": "stdout",
     "output_type": "stream",
     "text": [
      "-rw-r--r-- 1 root root 1505005 Dec  6 11:52 label/label_22_emo.csv\r\n",
      "-rw-r--r-- 1 root root  563831 Dec  6 11:12 label/label_6_basic_emo.csv\r\n",
      "-rw-r--r-- 1 root root 3105579 Dec  6 11:12 label/label_multi-label.csv\r\n"
     ]
    }
   ],
   "source": [
    "!ls -la label/*"
   ]
  },
  {
   "cell_type": "code",
   "execution_count": 4,
   "metadata": {},
   "outputs": [
    {
     "name": "stdout",
     "output_type": "stream",
     "text": [
      "====== 6_basic_emo ======\n",
      "column_info: Index(['img_id', 'clip_id', 'angry', 'disgusted', 'surprised', 'fearful',\n",
      "       'happy', 'sad'],\n",
      "      dtype='object')\n",
      "data_all: (12813, 8)\n",
      "y_temp: (11531, 6)\n",
      "y_valid: (1282, 6)\n",
      "y_valid_freq: Counter({0: 759, 2: 272, 5: 193, 3: 28, 4: 18, 1: 12})\n",
      "y_valid_uniq_class: 6\n",
      "y_temp_freq: Counter({0: 6827, 2: 2443, 5: 1737, 3: 252, 4: 167, 1: 105})\n",
      "y_temp_uniq_class: 6\n",
      "y_train: (10249, 6)\n",
      "y_test: (1282, 6)\n",
      "y_train_freq: Counter({0: 6068, 2: 2171, 5: 1544, 3: 224, 4: 149, 1: 93})\n",
      "y_train_uniq_class: 6\n",
      "y_test_freq: Counter({0: 759, 2: 272, 5: 193, 3: 28, 4: 18, 1: 12})\n",
      "y_test_uniq_class: 6\n"
     ]
    }
   ],
   "source": [
    "create_split_dataset(\"6_basic_emo\", True)"
   ]
  },
  {
   "cell_type": "code",
   "execution_count": 5,
   "metadata": {},
   "outputs": [
    {
     "name": "stdout",
     "output_type": "stream",
     "text": [
      "====== 22_emo ======\n",
      "column_info: Index(['img_id', 'clip_id', 'moved', 'fearful', 'surprised', 'angry',\n",
      "       'anxious', 'smitten', 'fluttered', 'disappointed', 'fulfilled',\n",
      "       'ashamed', 'sad', 'upset', 'sympathetic', 'passionate', 'depressed',\n",
      "       'amused', 'affectionate', 'guilty', 'jealous', 'peaceful', 'happy',\n",
      "       'disgusted'],\n",
      "      dtype='object')\n",
      "data_all: (19800, 24)\n",
      "y_temp: (17820, 22)\n",
      "y_valid: (1980, 22)\n",
      "y_valid_freq: Counter({3: 759, 2: 272, 10: 193, 11: 170, 4: 95, 7: 92, 12: 51, 17: 47, 15: 45, 16: 43, 0: 31, 5: 30, 1: 28, 14: 20, 20: 19, 18: 17, 6: 16, 8: 15, 19: 15, 21: 12, 9: 7, 13: 3})\n",
      "y_valid_uniq_class: 22\n",
      "y_temp_freq: Counter({3: 6827, 2: 2443, 10: 1737, 11: 1532, 4: 856, 7: 826, 12: 458, 17: 427, 15: 410, 16: 384, 0: 281, 5: 270, 1: 252, 14: 182, 20: 166, 18: 157, 6: 144, 19: 138, 8: 134, 21: 105, 9: 66, 13: 25})\n",
      "y_temp_uniq_class: 22\n",
      "y_train: (15840, 22)\n",
      "y_test: (1980, 22)\n",
      "y_train_freq: Counter({3: 6068, 2: 2172, 10: 1544, 11: 1362, 4: 761, 7: 734, 12: 407, 17: 380, 15: 364, 16: 341, 0: 250, 5: 240, 1: 224, 14: 162, 20: 147, 18: 140, 6: 128, 19: 123, 8: 119, 21: 93, 9: 59, 13: 22})\n",
      "y_train_uniq_class: 22\n",
      "y_test_freq: Counter({3: 759, 2: 271, 10: 193, 11: 170, 4: 95, 7: 92, 12: 51, 17: 47, 15: 46, 16: 43, 0: 31, 5: 30, 1: 28, 14: 20, 20: 19, 18: 17, 6: 16, 19: 15, 8: 15, 21: 12, 9: 7, 13: 3})\n",
      "y_test_uniq_class: 22\n"
     ]
    }
   ],
   "source": [
    "create_split_dataset(\"22_emo\", True)"
   ]
  },
  {
   "cell_type": "code",
   "execution_count": 6,
   "metadata": {},
   "outputs": [
    {
     "name": "stdout",
     "output_type": "stream",
     "text": [
      "====== multi-label ======\n",
      "column_info: Index(['img_id', 'clip_id', 'moved', 'fearful', 'bored', 'surprised', 'angry',\n",
      "       'anxious', 'smitten', 'fluttered', 'disappointed', 'fulfilled',\n",
      "       'ashamed', 'sad', 'upset', 'sympathetic', 'passionate', 'depressed',\n",
      "       'amused', 'affectionate', 'guilty', 'neutral', 'jealous', 'peaceful',\n",
      "       'happy', 'disgusted'],\n",
      "      dtype='object')\n",
      "data_all: (38817, 26)\n",
      "y_temp: (34935, 24)\n",
      "y_valid: (3882, 24)\n",
      "y_valid_freq: Counter({4: 1196, 11: 653, 3: 318, 6: 312, 12: 309, 8: 222, 16: 160, 5: 149, 1: 90, 13: 87, 0: 58, 21: 54, 17: 54, 7: 49, 18: 47, 15: 35, 22: 24, 10: 19, 9: 16, 20: 14, 23: 11, 14: 4, 2: 1})\n",
      "y_valid_uniq_class: 23\n",
      "y_temp_freq: Counter({4: 10934, 11: 5935, 3: 3062, 12: 2852, 6: 2583, 8: 2065, 16: 1342, 5: 1217, 1: 951, 13: 691, 0: 585, 17: 442, 7: 441, 18: 427, 21: 351, 10: 215, 9: 208, 15: 167, 22: 161, 20: 160, 23: 106, 14: 33, 2: 7})\n",
      "y_temp_uniq_class: 23\n",
      "y_train: (31053, 24)\n",
      "y_test: (3882, 24)\n",
      "y_train_freq: Counter({4: 9732, 11: 5246, 3: 2723, 12: 2520, 6: 2297, 8: 1851, 16: 1205, 5: 1078, 1: 846, 13: 614, 0: 510, 7: 406, 17: 396, 18: 389, 21: 311, 10: 187, 9: 185, 15: 146, 20: 143, 22: 138, 23: 98, 14: 26, 2: 6})\n",
      "y_train_uniq_class: 23\n",
      "y_test_freq: Counter({4: 1202, 11: 689, 3: 339, 12: 332, 6: 286, 8: 214, 5: 139, 16: 137, 1: 105, 13: 77, 0: 75, 17: 46, 21: 40, 18: 38, 7: 35, 10: 28, 9: 23, 22: 23, 15: 21, 20: 17, 23: 8, 14: 7, 2: 1})\n",
      "y_test_uniq_class: 23\n"
     ]
    }
   ],
   "source": [
    "create_split_dataset(\"multi-label\", False)"
   ]
  },
  {
   "cell_type": "code",
   "execution_count": 7,
   "metadata": {},
   "outputs": [
    {
     "name": "stdout",
     "output_type": "stream",
     "text": [
      "-rw-r--r-- 1 root root 1505005 Dec  6 11:52 label/label_22_emo.csv\r\n",
      "-rw-r--r-- 1 root root  150685 Dec  6 11:55 label/label_22_emo_test.csv\r\n",
      "-rw-r--r-- 1 root root 1204045 Dec  6 11:55 label/label_22_emo_train.csv\r\n",
      "-rw-r--r-- 1 root root  150685 Dec  6 11:55 label/label_22_emo_valid.csv\r\n",
      "-rw-r--r-- 1 root root  563831 Dec  6 11:12 label/label_6_basic_emo.csv\r\n",
      "-rw-r--r-- 1 root root   56467 Dec  6 11:55 label/label_6_basic_emo_test.csv\r\n",
      "-rw-r--r-- 1 root root  451015 Dec  6 11:55 label/label_6_basic_emo_train.csv\r\n",
      "-rw-r--r-- 1 root root   56467 Dec  6 11:55 label/label_6_basic_emo_valid.csv\r\n",
      "-rw-r--r-- 1 root root 3105579 Dec  6 11:12 label/label_multi-label.csv\r\n",
      "-rw-r--r-- 1 root root  310779 Dec  6 11:55 label/label_multi-label_test.csv\r\n",
      "-rw-r--r-- 1 root root 2484459 Dec  6 11:55 label/label_multi-label_train.csv\r\n",
      "-rw-r--r-- 1 root root  310779 Dec  6 11:55 label/label_multi-label_valid.csv\r\n"
     ]
    }
   ],
   "source": [
    "!ls -la label/*"
   ]
  }
 ],
 "metadata": {
  "kernelspec": {
   "display_name": "Python 3",
   "language": "python",
   "name": "python3"
  },
  "language_info": {
   "codemirror_mode": {
    "name": "ipython",
    "version": 3
   },
   "file_extension": ".py",
   "mimetype": "text/x-python",
   "name": "python",
   "nbconvert_exporter": "python",
   "pygments_lexer": "ipython3",
   "version": "3.6.9"
  }
 },
 "nbformat": 4,
 "nbformat_minor": 2
}
