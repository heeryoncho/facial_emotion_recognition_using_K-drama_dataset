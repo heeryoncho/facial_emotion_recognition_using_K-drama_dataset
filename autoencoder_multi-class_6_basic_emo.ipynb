{
 "cells": [
  {
   "cell_type": "markdown",
   "metadata": {},
   "source": [
    "This notebook contains the code used in the BigComp 2022 paper: <br>\n",
    "<b>Heeryon Cho, Woo-Kyu Kang, Younsoo Park, Sungeu Chae, and Seong-joon Kim, \"Multi-label Facial Emotion Recognition Using Korean Drama Movie Clips,\" BigComp 2022.</b>\n",
    "### Autoencoder /  Classify 6 Basic Emotions"
   ]
  },
  {
   "cell_type": "code",
   "execution_count": 1,
   "metadata": {},
   "outputs": [],
   "source": [
    "import tensorflow as tf\n",
    "from tensorflow import keras\n",
    "from tensorflow.keras.models import Sequential\n",
    "from tensorflow.keras.layers import Activation, Input\n",
    "from tensorflow.keras.layers import Conv2D, Conv2DTranspose, MaxPooling2D, UpSampling2D\n",
    "from sklearn.utils import class_weight\n",
    "import matplotlib.pyplot as plt\n",
    "import numpy as np\n",
    "import pandas as pd\n",
    "import random as rn\n",
    "import os\n",
    "import collections"
   ]
  },
  {
   "cell_type": "code",
   "execution_count": 2,
   "metadata": {},
   "outputs": [],
   "source": [
    "import warnings\n",
    "import logging\n",
    "logging.getLogger('tensorflow').disabled = True\n",
    "warnings.filterwarnings(\"ignore\")\n",
    "os.environ['TF_CPP_MIN_LOG_LEVEL'] = '3'"
   ]
  },
  {
   "cell_type": "code",
   "execution_count": 3,
   "metadata": {},
   "outputs": [
    {
     "name": "stdout",
     "output_type": "stream",
     "text": [
      "time: 509 µs (started: 2021-12-07 04:23:22 +00:00)\n"
     ]
    }
   ],
   "source": [
    "# Record cell run time.\n",
    "#!pip install ipython-autotime\n",
    "\n",
    "%load_ext autotime"
   ]
  },
  {
   "cell_type": "code",
   "execution_count": 4,
   "metadata": {},
   "outputs": [
    {
     "name": "stdout",
     "output_type": "stream",
     "text": [
      "time: 1.84 ms (started: 2021-12-07 04:23:22 +00:00)\n"
     ]
    }
   ],
   "source": [
    "# Set seed for reproducibility.\n",
    "\n",
    "set_seed = 46\n",
    "np.random.seed(set_seed)\n",
    "rn.seed(set_seed)\n",
    "tf.random.set_seed(set_seed)"
   ]
  },
  {
   "cell_type": "markdown",
   "metadata": {},
   "source": [
    "### Load pretrained autoencoder."
   ]
  },
  {
   "cell_type": "code",
   "execution_count": 5,
   "metadata": {},
   "outputs": [
    {
     "name": "stdout",
     "output_type": "stream",
     "text": [
      "time: 5.09 ms (started: 2021-12-07 04:23:22 +00:00)\n"
     ]
    }
   ],
   "source": [
    "# Create autoencoder model (skeleton) for loading pretrained weights.\n",
    "\n",
    "def create_autoencoder():\n",
    "    # Define the model\n",
    "    model = Sequential()\n",
    "\n",
    "    #1st convolution layer\n",
    "    model.add(Conv2D(32, (3, 3), padding='same', input_shape=(64,64,3)))\n",
    "    model.add(Activation('relu'))\n",
    "    model.add(MaxPooling2D(pool_size=(2,2), padding='same'))\n",
    "\n",
    "    #2nd convolution layer\n",
    "    model.add(Conv2D(32,(3, 3), padding='same'))\n",
    "    model.add(Activation('relu'))\n",
    "    model.add(MaxPooling2D(pool_size=(2,2), padding='same'))\n",
    "\n",
    "    #3rd convolution layer\n",
    "    model.add(Conv2D(32,(3, 3), padding='same'))\n",
    "    model.add(Activation('relu'))\n",
    "    model.add(MaxPooling2D(pool_size=(2,2), padding='same'))    \n",
    "\n",
    "    #1st deconvolution layer\n",
    "    model.add(Conv2DTranspose(32,(3, 3), padding='same'))\n",
    "    model.add(Activation('relu'))\n",
    "    model.add(UpSampling2D((2, 2)))\n",
    "    \n",
    "    #2nd deconvolution layer\n",
    "    model.add(Conv2DTranspose(32,(3, 3), padding='same'))\n",
    "    model.add(Activation('relu'))\n",
    "    model.add(UpSampling2D((2, 2)))\n",
    "\n",
    "    #3rd deconvolution layer\n",
    "    model.add(Conv2DTranspose(32,(3, 3), padding='same'))\n",
    "    model.add(Activation('relu'))\n",
    "    model.add(UpSampling2D((2, 2)))    \n",
    "\n",
    "    model.add(Conv2D(3,(3, 3), padding='same'))\n",
    "    model.add(Activation('sigmoid'))\n",
    "    \n",
    "    # Compile the model\n",
    "    model.compile(optimizer='adam', loss='binary_crossentropy')\n",
    "    model.summary()\n",
    "    \n",
    "    return model"
   ]
  },
  {
   "cell_type": "code",
   "execution_count": 6,
   "metadata": {},
   "outputs": [
    {
     "name": "stdout",
     "output_type": "stream",
     "text": [
      "Model: \"sequential\"\n",
      "_________________________________________________________________\n",
      "Layer (type)                 Output Shape              Param #   \n",
      "=================================================================\n",
      "conv2d (Conv2D)              (None, 64, 64, 32)        896       \n",
      "_________________________________________________________________\n",
      "activation (Activation)      (None, 64, 64, 32)        0         \n",
      "_________________________________________________________________\n",
      "max_pooling2d (MaxPooling2D) (None, 32, 32, 32)        0         \n",
      "_________________________________________________________________\n",
      "conv2d_1 (Conv2D)            (None, 32, 32, 32)        9248      \n",
      "_________________________________________________________________\n",
      "activation_1 (Activation)    (None, 32, 32, 32)        0         \n",
      "_________________________________________________________________\n",
      "max_pooling2d_1 (MaxPooling2 (None, 16, 16, 32)        0         \n",
      "_________________________________________________________________\n",
      "conv2d_2 (Conv2D)            (None, 16, 16, 32)        9248      \n",
      "_________________________________________________________________\n",
      "activation_2 (Activation)    (None, 16, 16, 32)        0         \n",
      "_________________________________________________________________\n",
      "max_pooling2d_2 (MaxPooling2 (None, 8, 8, 32)          0         \n",
      "_________________________________________________________________\n",
      "conv2d_transpose (Conv2DTran (None, 8, 8, 32)          9248      \n",
      "_________________________________________________________________\n",
      "activation_3 (Activation)    (None, 8, 8, 32)          0         \n",
      "_________________________________________________________________\n",
      "up_sampling2d (UpSampling2D) (None, 16, 16, 32)        0         \n",
      "_________________________________________________________________\n",
      "conv2d_transpose_1 (Conv2DTr (None, 16, 16, 32)        9248      \n",
      "_________________________________________________________________\n",
      "activation_4 (Activation)    (None, 16, 16, 32)        0         \n",
      "_________________________________________________________________\n",
      "up_sampling2d_1 (UpSampling2 (None, 32, 32, 32)        0         \n",
      "_________________________________________________________________\n",
      "conv2d_transpose_2 (Conv2DTr (None, 32, 32, 32)        9248      \n",
      "_________________________________________________________________\n",
      "activation_5 (Activation)    (None, 32, 32, 32)        0         \n",
      "_________________________________________________________________\n",
      "up_sampling2d_2 (UpSampling2 (None, 64, 64, 32)        0         \n",
      "_________________________________________________________________\n",
      "conv2d_3 (Conv2D)            (None, 64, 64, 3)         867       \n",
      "_________________________________________________________________\n",
      "activation_6 (Activation)    (None, 64, 64, 3)         0         \n",
      "=================================================================\n",
      "Total params: 48,003\n",
      "Trainable params: 48,003\n",
      "Non-trainable params: 0\n",
      "_________________________________________________________________\n"
     ]
    },
    {
     "data": {
      "text/plain": [
       "<tensorflow.python.training.tracking.util.CheckpointLoadStatus at 0x7fdf280b3828>"
      ]
     },
     "execution_count": 6,
     "metadata": {},
     "output_type": "execute_result"
    },
    {
     "name": "stdout",
     "output_type": "stream",
     "text": [
      "time: 1.74 s (started: 2021-12-07 04:23:22 +00:00)\n"
     ]
    }
   ],
   "source": [
    "# Load pretrained autoencoder weights.\n",
    "\n",
    "checkpoint_path = \"./model/autoencoder.ckpt\"\n",
    "autoencoder = create_autoencoder()\n",
    "autoencoder.load_weights(checkpoint_path)"
   ]
  },
  {
   "cell_type": "markdown",
   "metadata": {},
   "source": [
    "### The below code is for creating training data tfrecord and idx file from images. (We do not use the below code in this jupyter notebook since we import tfrecords directly.)\n",
    "\n",
    "```python\n",
    "from itertools import islice\n",
    "from subprocess import call\n",
    "\n",
    "def _bytes_feature(value):\n",
    "    \"\"\"Returns a bytes_list from a string / byte.\"\"\"\n",
    "    if isinstance(value, type(tf.constant(0))):\n",
    "        value = value.numpy() # BytesList won't unpack a string from an EagerTensor.\n",
    "    return tf.train.Feature(bytes_list=tf.train.BytesList(value=[value]))\n",
    "\n",
    "#def _float_feature(value):\n",
    "#    \"\"\"Returns a float_list from a float / double.\"\"\"\n",
    "#    return tf.train.Feature(float_list=tf.train.FloatList(value=[value]))\n",
    "\n",
    "def _int64_feature(value):\n",
    "    if type(value) != list:\n",
    "        value = [value]\n",
    "    \"\"\"Returns an int64_list from a bool / enum / int / uint.\"\"\"\n",
    "    return tf.train.Feature(int64_list=tf.train.Int64List(value=value))\n",
    "\n",
    "# Create a dictionary with relevant features.\n",
    "\n",
    "def image_example(image_string, label):\n",
    "    image_shape = tf.io.decode_jpeg(image_string).shape\n",
    "\n",
    "    feature = {\n",
    "        'height': _int64_feature(image_shape[0]),\n",
    "        'width': _int64_feature(image_shape[1]),\n",
    "        'depth': _int64_feature(image_shape[2]),\n",
    "        'label': _int64_feature(label),\n",
    "        'image_raw': _bytes_feature(image_string),\n",
    "    }\n",
    "    return tf.train.Example(features=tf.train.Features(feature=feature))\n",
    "\n",
    "def gen_tfrecord_idx(tfrecord_file, dict_label, tfrecord_idx):\n",
    "    with tf.io.TFRecordWriter(tfrecord_file) as writer:\n",
    "        for filename, label in dict_label.items():\n",
    "            fname = \"./image/\" + filename\n",
    "            image_string = open(fname, 'rb').read()\n",
    "            tf_example = image_example(image_string, label)\n",
    "            writer.write(tf_example.SerializeToString())\n",
    "\n",
    "    tfrecord2idx_script = \"tfrecord2idx\"\n",
    "\n",
    "    if not os.path.isfile(tfrecord_idx):\n",
    "        call([tfrecord2idx_script, tfrecord_file, tfrecord_idx])\n",
    "\n",
    "\n",
    "#--------------------------------------------\n",
    "# VALID DATA: Load labels, check headers, check data shape.\n",
    "\n",
    "df_label_valid = pd.read_csv('label/label_6_basic_emo_valid.csv')\n",
    "print(\"valid columns:\", df_label_valid.columns)\n",
    "print(\"valid shape:\", df_label_valid.shape)\n",
    "\n",
    "# Place labels into a dictionary.\n",
    "\n",
    "dict_label_valid = {}\n",
    "for idx, row in df_label_valid.iterrows():\n",
    "    dict_label_valid[row['img_id']] = list(row['angry':'sad'].values)\n",
    "len(dict_label_valid)\n",
    "\n",
    "#--------------------------------------------\n",
    "# Create VALID tfrecord & idx files from jpg images.\n",
    "\n",
    "tfrecord_file_valid = './tfrecords/6_basic_emo_valid.tfrecords'\n",
    "tfrecord_idx_valid = './tfrecords/6_basic_emo_valid.idx'\n",
    "\n",
    "gen_tfrecord_idx(tfrecord_file_valid, dict_label_valid, tfrecord_idx_valid)\n",
    "\n",
    "#--------------------------------------------\n",
    "# TRAIN DATA: Load labels, check headers, check data shape.\n",
    "\n",
    "df_label_train = pd.read_csv('label/label_6_basic_emo_train.csv')\n",
    "print(\"train columns:\", df_label_train.columns)\n",
    "print(\"train shape:\", df_label_train.shape)\n",
    "\n",
    "# Place labels into a dictionary.\n",
    "\n",
    "dict_label_train = {}\n",
    "for idx, row in df_label_train.iterrows():\n",
    "    dict_label_train[row['img_id']] = list(row['angry':'sad'].values)\n",
    "len(dict_label_train)\n",
    "\n",
    "#--------------------------------------------\n",
    "# Create TRAIN tfrecord & idx files from jpg images.\n",
    "\n",
    "tfrecord_file_train = './tfrecords/6_basic_emo_train.tfrecords'\n",
    "tfrecord_idx_train = './tfrecords/6_basic_emo_train.idx'\n",
    "\n",
    "gen_tfrecord_idx(tfrecord_file_train, dict_label_train, tfrecord_idx_train) \n",
    "\n",
    "#--------------------------------------------\n",
    "# TEST DATA: Load labels, check headers, check data shape.\n",
    "\n",
    "df_label_test = pd.read_csv('label/label_6_basic_emo_test.csv')\n",
    "print(\"test columns:\", df_label_test.columns)\n",
    "print(\"test shape:\", df_label_test.shape)\n",
    "\n",
    "# Place labels into a dictionary.\n",
    "\n",
    "dict_label_test = {}\n",
    "for idx, row in df_label_test.iterrows():\n",
    "    dict_label_test[row['img_id']] = list(row['angry':'sad'].values)\n",
    "len(dict_label_test)\n",
    "\n",
    "#-------------------------------------------\n",
    "# Create TEST tfrecord & idx files from jpg images.\n",
    "\n",
    "tfrecord_file_test = './tfrecords/6_basic_emo_test.tfrecords'\n",
    "tfrecord_idx_test = './tfrecords/6_basic_emo_test.idx'\n",
    "\n",
    "gen_tfrecord_idx(tfrecord_file_test, dict_label_test, tfrecord_idx_test) \n",
    "\n",
    "# OUTPUT\n",
    "# valid columns: Index(['img_id', 'clip_id', 'angry', 'disgusted', 'surprised', 'fearful',\n",
    "#       'happy', 'sad'],\n",
    "#       dtype='object')\n",
    "# valid shape: (1282, 8)\n",
    "# train columns: Index(['img_id', 'clip_id', 'angry', 'disgusted', 'surprised', 'fearful',\n",
    "#       'happy', 'sad'],\n",
    "#       dtype='object')\n",
    "# train shape: (10249, 8)\n",
    "# test columns: Index(['img_id', 'clip_id', 'angry', 'disgusted', 'surprised', 'fearful',\n",
    "#       'happy', 'sad'],\n",
    "#       dtype='object')\n",
    "# test shape: (1282, 8)\n",
    "```  "
   ]
  },
  {
   "cell_type": "markdown",
   "metadata": {},
   "source": [
    "### Load label data."
   ]
  },
  {
   "cell_type": "code",
   "execution_count": 7,
   "metadata": {
    "scrolled": true
   },
   "outputs": [
    {
     "name": "stdout",
     "output_type": "stream",
     "text": [
      "Index(['img_id', 'clip_id', 'angry', 'disgusted', 'surprised', 'fearful',\n",
      "       'happy', 'sad'],\n",
      "      dtype='object')\n",
      "(12813, 8)\n",
      "LABELS= ['angry', 'disgusted', 'surprised', 'fearful', 'happy', 'sad']\n",
      "All class: 6\n",
      "TRAIN_DATA_SIZE: 10249\n",
      "VALID_DATA_SIZE: 1282\n",
      "TEST_DATA_SIZE: 1282\n",
      "time: 38.2 ms (started: 2021-12-07 04:23:23 +00:00)\n"
     ]
    }
   ],
   "source": [
    "# Load labels, check headers, check data shape.\n",
    "\n",
    "df_label = pd.read_csv('label/label_6_basic_emo.csv')\n",
    "print(df_label.columns)\n",
    "print(df_label.shape)\n",
    "\n",
    "LABELS = list(df_label.columns[2:])\n",
    "print(\"LABELS=\", LABELS)\n",
    "print(\"All class:\", len(LABELS))\n",
    "\n",
    "label_valid = pd.read_csv('label/label_6_basic_emo_valid.csv')\n",
    "label_train = pd.read_csv('label/label_6_basic_emo_train.csv')\n",
    "label_test = pd.read_csv('label/label_6_basic_emo_test.csv')\n",
    "\n",
    "VALID_DATA_SIZE = label_valid.shape[0]\n",
    "TRAIN_DATA_SIZE = label_train.shape[0]\n",
    "TEST_DATA_SIZE = label_test.shape[0]\n",
    "\n",
    "print(\"TRAIN_DATA_SIZE:\", label_train.shape[0])\n",
    "print(\"VALID_DATA_SIZE:\", label_valid.shape[0])\n",
    "print(\"TEST_DATA_SIZE:\", label_test.shape[0])"
   ]
  },
  {
   "cell_type": "markdown",
   "metadata": {},
   "source": [
    "### Calculate class weights."
   ]
  },
  {
   "cell_type": "code",
   "execution_count": 8,
   "metadata": {},
   "outputs": [
    {
     "data": {
      "text/plain": [
       "10249"
      ]
     },
     "execution_count": 8,
     "metadata": {},
     "output_type": "execute_result"
    },
    {
     "name": "stdout",
     "output_type": "stream",
     "text": [
      "time: 2.09 s (started: 2021-12-07 04:23:24 +00:00)\n"
     ]
    }
   ],
   "source": [
    "dict_label_train = {}\n",
    "for idx, row in label_train.iterrows():\n",
    "    dict_label_train[row['img_id']] = list(row['angry':'sad'].values)\n",
    "len(dict_label_train)"
   ]
  },
  {
   "cell_type": "code",
   "execution_count": 9,
   "metadata": {},
   "outputs": [
    {
     "name": "stdout",
     "output_type": "stream",
     "text": [
      "time: 534 µs (started: 2021-12-07 04:23:26 +00:00)\n"
     ]
    }
   ],
   "source": [
    "y_train_ls = list(dict_label_train.values())\n",
    "#y_train_ls"
   ]
  },
  {
   "cell_type": "code",
   "execution_count": 10,
   "metadata": {
    "scrolled": true
   },
   "outputs": [
    {
     "name": "stdout",
     "output_type": "stream",
     "text": [
      "time: 19.3 ms (started: 2021-12-07 04:23:26 +00:00)\n"
     ]
    }
   ],
   "source": [
    "y_train_ints = [y.index(1) for y in y_train_ls]\n",
    "#y_train_ints"
   ]
  },
  {
   "cell_type": "code",
   "execution_count": 11,
   "metadata": {},
   "outputs": [
    {
     "data": {
      "text/plain": [
       "{0: 0.2815040650406504,\n",
       " 1: 18.3673835125448,\n",
       " 2: 0.7868109933978198,\n",
       " 3: 7.6257440476190474,\n",
       " 4: 11.46420581655481,\n",
       " 5: 1.106325561312608}"
      ]
     },
     "execution_count": 11,
     "metadata": {},
     "output_type": "execute_result"
    },
    {
     "name": "stdout",
     "output_type": "stream",
     "text": [
      "time: 20.7 ms (started: 2021-12-07 04:23:26 +00:00)\n"
     ]
    }
   ],
   "source": [
    "from sklearn.utils import class_weight\n",
    "\n",
    "class_weights = class_weight.compute_class_weight('balanced',\n",
    "                                                  np.unique(y_train_ints),\n",
    "                                                  y_train_ints)\n",
    "class_weight_dict = dict(enumerate(class_weights))\n",
    "class_weight_dict"
   ]
  },
  {
   "cell_type": "code",
   "execution_count": 12,
   "metadata": {},
   "outputs": [
    {
     "data": {
      "text/plain": [
       "array([ 0.28150407, 18.36738351,  0.78681099,  7.62574405, 11.46420582,\n",
       "        1.10632556])"
      ]
     },
     "execution_count": 12,
     "metadata": {},
     "output_type": "execute_result"
    },
    {
     "name": "stdout",
     "output_type": "stream",
     "text": [
      "time: 2.41 ms (started: 2021-12-07 04:23:26 +00:00)\n"
     ]
    }
   ],
   "source": [
    "class_weights"
   ]
  },
  {
   "cell_type": "code",
   "execution_count": 13,
   "metadata": {},
   "outputs": [
    {
     "name": "stdout",
     "output_type": "stream",
     "text": [
      "time: 1.88 ms (started: 2021-12-07 04:23:26 +00:00)\n"
     ]
    }
   ],
   "source": [
    "n_samples = len(dict_label_train)\n",
    "n_classes = len(set(y_train_ints))"
   ]
  },
  {
   "cell_type": "code",
   "execution_count": 14,
   "metadata": {},
   "outputs": [
    {
     "data": {
      "text/plain": [
       "array([0.14075203, 9.18369176, 0.3934055 , 3.81287202, 5.73210291,\n",
       "       0.55316278])"
      ]
     },
     "execution_count": 14,
     "metadata": {},
     "output_type": "execute_result"
    },
    {
     "name": "stdout",
     "output_type": "stream",
     "text": [
      "time: 5.16 ms (started: 2021-12-07 04:23:26 +00:00)\n"
     ]
    }
   ],
   "source": [
    "multiplier = 3\n",
    "adjusted_cw = class_weights / n_classes * multiplier\n",
    "adjusted_cw"
   ]
  },
  {
   "cell_type": "code",
   "execution_count": 15,
   "metadata": {},
   "outputs": [
    {
     "data": {
      "text/plain": [
       "array([0.11638164, 0.22366313, 0.13195144, 0.18733217, 0.20259518,\n",
       "       0.13807644])"
      ]
     },
     "execution_count": 15,
     "metadata": {},
     "output_type": "execute_result"
    },
    {
     "name": "stdout",
     "output_type": "stream",
     "text": [
      "time: 5.4 ms (started: 2021-12-07 04:23:26 +00:00)\n"
     ]
    }
   ],
   "source": [
    "log_weights = n_samples / (n_classes * np.log(np.bincount(y_train_ints)))\n",
    "sum_weights = sum(log_weights)\n",
    "sum_weights\n",
    "custom_class_weights = log_weights / sum_weights\n",
    "custom_class_weights"
   ]
  },
  {
   "cell_type": "code",
   "execution_count": 16,
   "metadata": {},
   "outputs": [
    {
     "data": {
      "text/plain": [
       "array([0.25713368, 9.40735489, 0.52535693, 4.00020419, 5.93469809,\n",
       "       0.69123922])"
      ]
     },
     "execution_count": 16,
     "metadata": {},
     "output_type": "execute_result"
    },
    {
     "name": "stdout",
     "output_type": "stream",
     "text": [
      "time: 3.16 ms (started: 2021-12-07 04:23:26 +00:00)\n"
     ]
    }
   ],
   "source": [
    "custom_class_weights += adjusted_cw\n",
    "custom_class_weights"
   ]
  },
  {
   "cell_type": "code",
   "execution_count": 17,
   "metadata": {},
   "outputs": [
    {
     "data": {
      "text/plain": [
       "{0: 0.25713367600252574,\n",
       " 1: 9.407354888012607,\n",
       " 2: 0.5253569344678802,\n",
       " 3: 4.0002041936980595,\n",
       " 4: 5.934698087278068,\n",
       " 5: 0.6912392187757267}"
      ]
     },
     "execution_count": 17,
     "metadata": {},
     "output_type": "execute_result"
    },
    {
     "name": "stdout",
     "output_type": "stream",
     "text": [
      "time: 3.27 ms (started: 2021-12-07 04:23:26 +00:00)\n"
     ]
    }
   ],
   "source": [
    "class_weight_dict = dict(enumerate(custom_class_weights))\n",
    "class_weight_dict"
   ]
  },
  {
   "cell_type": "markdown",
   "metadata": {},
   "source": [
    "### Define training pipeline."
   ]
  },
  {
   "cell_type": "code",
   "execution_count": 18,
   "metadata": {},
   "outputs": [
    {
     "name": "stdout",
     "output_type": "stream",
     "text": [
      "time: 91 ms (started: 2021-12-07 04:23:26 +00:00)\n"
     ]
    }
   ],
   "source": [
    "from nvidia.dali.pipeline import Pipeline\n",
    "import nvidia.dali.fn as fn\n",
    "import nvidia.dali.types as types\n",
    "import nvidia.dali.tfrecord as tfrec\n",
    "import nvidia.dali.plugin.tf as dali_tf\n",
    "\n",
    "class TFRecordPipelineTrain(Pipeline):\n",
    "    def __init__(self, batch_size, num_threads,\n",
    "                 device = 'cpu', device_id = 0):\n",
    "        super(TFRecordPipelineTrain, self).__init__(batch_size,\n",
    "                                         num_threads,\n",
    "                                         device_id)\n",
    "        self.input = fn.readers.tfrecord(        \n",
    "             features = {\"image_raw\": tfrec.FixedLenFeature((), tfrec.string, \"\"),\n",
    "                         \"label\": tfrec.FixedLenFeature([6], tfrec.int64,  6)},\n",
    "             path = ['./tfrecords/6_basic_emo_train.tfrecords'],\n",
    "             index_path = ['./tfrecords/6_basic_emo_train.idx'],\n",
    "             random_shuffle=True,\n",
    "             seed = set_seed)\n",
    "        self.iter = 0\n",
    "    def define_graph(self):\n",
    "        inputs = self.input\n",
    "        images = fn.decoders.image(inputs[\"image_raw\"], device = \"mixed\", output_type = types.RGB) / 255.\n",
    "        labels = inputs[\"label\"].gpu()\n",
    "        return (images, labels)\n",
    "    def iter_setup(self):\n",
    "        pass"
   ]
  },
  {
   "cell_type": "markdown",
   "metadata": {},
   "source": [
    "### Define validation pipeline."
   ]
  },
  {
   "cell_type": "code",
   "execution_count": 19,
   "metadata": {
    "scrolled": true
   },
   "outputs": [
    {
     "name": "stdout",
     "output_type": "stream",
     "text": [
      "time: 1.82 ms (started: 2021-12-07 04:23:26 +00:00)\n"
     ]
    }
   ],
   "source": [
    "class TFRecordPipelineValid(Pipeline):\n",
    "    def __init__(self, batch_size, num_threads,\n",
    "                 device = 'cpu', device_id = 0):\n",
    "        super(TFRecordPipelineValid, self).__init__(batch_size,\n",
    "                                         num_threads,\n",
    "                                         device_id)\n",
    "        self.input = fn.readers.tfrecord(        \n",
    "             features = {\"image_raw\": tfrec.FixedLenFeature((), tfrec.string, \"\"),\n",
    "                         \"label\": tfrec.FixedLenFeature([6], tfrec.int64,  6)},\n",
    "             path = ['./tfrecords/6_basic_emo_valid.tfrecords'],\n",
    "             index_path = ['./tfrecords/6_basic_emo_valid.idx'],\n",
    "             random_shuffle=False,\n",
    "             seed = set_seed)\n",
    "        self.iter = 0\n",
    "    def define_graph(self):\n",
    "        inputs = self.input\n",
    "        images = fn.decoders.image(inputs[\"image_raw\"], device = \"mixed\", output_type = types.RGB) / 255.\n",
    "        labels = inputs[\"label\"].gpu()\n",
    "        return (images, labels)\n",
    "    def iter_setup(self):\n",
    "        pass"
   ]
  },
  {
   "cell_type": "markdown",
   "metadata": {},
   "source": [
    "### Train autoencoder model for classifying 6 basic emotions."
   ]
  },
  {
   "cell_type": "code",
   "execution_count": 20,
   "metadata": {
    "scrolled": true
   },
   "outputs": [
    {
     "name": "stdout",
     "output_type": "stream",
     "text": [
      "Model: \"model\"\n",
      "_________________________________________________________________\n",
      "Layer (type)                 Output Shape              Param #   \n",
      "=================================================================\n",
      "input_1 (InputLayer)         [(None, 64, 64, 3)]       0         \n",
      "_________________________________________________________________\n",
      "sequential (Sequential)      (None, 64, 64, 3)         48003     \n",
      "_________________________________________________________________\n",
      "flatten (Flatten)            (None, 12288)             0         \n",
      "_________________________________________________________________\n",
      "dense (Dense)                (None, 6)                 73734     \n",
      "_________________________________________________________________\n",
      "dropout (Dropout)            (None, 6)                 0         \n",
      "_________________________________________________________________\n",
      "dense_1 (Dense)              (None, 6)                 42        \n",
      "=================================================================\n",
      "Total params: 121,779\n",
      "Trainable params: 121,779\n",
      "Non-trainable params: 0\n",
      "_________________________________________________________________\n",
      "Epoch 1/1000\n",
      "160/160 [==============================] - 7s 21ms/step - loss: 1.1200 - accuracy: 0.4081 - val_loss: 1.7818 - val_accuracy: 0.2258\n",
      "Epoch 2/1000\n",
      "160/160 [==============================] - 3s 20ms/step - loss: 1.1157 - accuracy: 0.3814 - val_loss: 1.7826 - val_accuracy: 0.2430\n",
      "Epoch 3/1000\n",
      "160/160 [==============================] - 3s 20ms/step - loss: 1.1101 - accuracy: 0.3504 - val_loss: 1.7717 - val_accuracy: 0.2320\n",
      "Epoch 4/1000\n",
      "160/160 [==============================] - 3s 20ms/step - loss: 1.1064 - accuracy: 0.3679 - val_loss: 1.7565 - val_accuracy: 0.2281\n",
      "Epoch 5/1000\n",
      "160/160 [==============================] - 3s 20ms/step - loss: 1.1025 - accuracy: 0.3454 - val_loss: 1.7604 - val_accuracy: 0.2172\n",
      "Epoch 6/1000\n",
      "160/160 [==============================] - 3s 20ms/step - loss: 1.0860 - accuracy: 0.3926 - val_loss: 1.6505 - val_accuracy: 0.3789\n",
      "Epoch 7/1000\n",
      "160/160 [==============================] - 3s 20ms/step - loss: 1.0727 - accuracy: 0.4088 - val_loss: 1.6553 - val_accuracy: 0.3289\n",
      "Epoch 8/1000\n",
      "160/160 [==============================] - 3s 20ms/step - loss: 1.0649 - accuracy: 0.4091 - val_loss: 1.5810 - val_accuracy: 0.4094\n",
      "Epoch 9/1000\n",
      "160/160 [==============================] - 3s 20ms/step - loss: 1.0541 - accuracy: 0.4122 - val_loss: 1.5813 - val_accuracy: 0.4219\n",
      "Epoch 10/1000\n",
      "160/160 [==============================] - 3s 20ms/step - loss: 1.0619 - accuracy: 0.4345 - val_loss: 1.5874 - val_accuracy: 0.4055\n",
      "Epoch 11/1000\n",
      "160/160 [==============================] - 3s 20ms/step - loss: 1.0515 - accuracy: 0.4189 - val_loss: 1.6003 - val_accuracy: 0.4016\n",
      "Epoch 12/1000\n",
      "160/160 [==============================] - 3s 20ms/step - loss: 1.0521 - accuracy: 0.4202 - val_loss: 1.5663 - val_accuracy: 0.4016\n",
      "Epoch 13/1000\n",
      "160/160 [==============================] - 3s 20ms/step - loss: 1.0428 - accuracy: 0.4244 - val_loss: 1.5609 - val_accuracy: 0.4016\n",
      "Epoch 14/1000\n",
      "160/160 [==============================] - 3s 20ms/step - loss: 1.0350 - accuracy: 0.4243 - val_loss: 1.5606 - val_accuracy: 0.4852\n",
      "Epoch 15/1000\n",
      "160/160 [==============================] - 3s 20ms/step - loss: 1.0434 - accuracy: 0.4362 - val_loss: 1.5492 - val_accuracy: 0.4461\n",
      "Epoch 16/1000\n",
      "160/160 [==============================] - 3s 20ms/step - loss: 1.0380 - accuracy: 0.4382 - val_loss: 1.5187 - val_accuracy: 0.4711\n",
      "Epoch 17/1000\n",
      "160/160 [==============================] - 3s 20ms/step - loss: 1.0276 - accuracy: 0.4311 - val_loss: 1.5354 - val_accuracy: 0.4172\n",
      "Epoch 18/1000\n",
      "160/160 [==============================] - 3s 20ms/step - loss: 1.0258 - accuracy: 0.4299 - val_loss: 1.5228 - val_accuracy: 0.4656\n",
      "Epoch 19/1000\n",
      "160/160 [==============================] - 3s 20ms/step - loss: 1.0238 - accuracy: 0.4396 - val_loss: 1.5019 - val_accuracy: 0.4844\n",
      "Epoch 20/1000\n",
      "160/160 [==============================] - 3s 20ms/step - loss: 1.0190 - accuracy: 0.4440 - val_loss: 1.5274 - val_accuracy: 0.5102\n",
      "Epoch 21/1000\n",
      "160/160 [==============================] - 3s 20ms/step - loss: 1.0272 - accuracy: 0.4362 - val_loss: 1.4902 - val_accuracy: 0.4594\n",
      "Epoch 22/1000\n",
      "160/160 [==============================] - 3s 20ms/step - loss: 1.0106 - accuracy: 0.4368 - val_loss: 1.4914 - val_accuracy: 0.4945\n",
      "Epoch 23/1000\n",
      "160/160 [==============================] - 3s 20ms/step - loss: 1.0195 - accuracy: 0.4412 - val_loss: 1.4749 - val_accuracy: 0.4766\n",
      "Epoch 24/1000\n",
      "160/160 [==============================] - 3s 20ms/step - loss: 1.0125 - accuracy: 0.4295 - val_loss: 1.4872 - val_accuracy: 0.4805\n",
      "Epoch 25/1000\n",
      "160/160 [==============================] - 3s 20ms/step - loss: 1.0106 - accuracy: 0.4240 - val_loss: 1.4932 - val_accuracy: 0.4539\n",
      "Epoch 26/1000\n",
      "160/160 [==============================] - 3s 20ms/step - loss: 1.0087 - accuracy: 0.4284 - val_loss: 1.4650 - val_accuracy: 0.4805\n",
      "Epoch 27/1000\n",
      "160/160 [==============================] - 3s 20ms/step - loss: 1.0069 - accuracy: 0.4288 - val_loss: 1.4550 - val_accuracy: 0.4750\n",
      "Epoch 28/1000\n",
      "160/160 [==============================] - 3s 20ms/step - loss: 0.9955 - accuracy: 0.4262 - val_loss: 1.4368 - val_accuracy: 0.4695\n",
      "Epoch 29/1000\n",
      "160/160 [==============================] - 3s 20ms/step - loss: 1.0060 - accuracy: 0.4229 - val_loss: 1.4826 - val_accuracy: 0.4766\n",
      "Epoch 30/1000\n",
      "160/160 [==============================] - 3s 20ms/step - loss: 0.9869 - accuracy: 0.4279 - val_loss: 1.4525 - val_accuracy: 0.5047\n",
      "Epoch 31/1000\n",
      "160/160 [==============================] - 3s 20ms/step - loss: 0.9850 - accuracy: 0.4241 - val_loss: 1.4223 - val_accuracy: 0.5047\n",
      "Epoch 32/1000\n",
      "160/160 [==============================] - 3s 20ms/step - loss: 0.9942 - accuracy: 0.4293 - val_loss: 1.4269 - val_accuracy: 0.5008\n",
      "Epoch 33/1000\n",
      "160/160 [==============================] - 3s 21ms/step - loss: 0.9875 - accuracy: 0.4272 - val_loss: 1.4266 - val_accuracy: 0.4977\n",
      "Epoch 34/1000\n",
      "160/160 [==============================] - 3s 20ms/step - loss: 0.9812 - accuracy: 0.4360 - val_loss: 1.4210 - val_accuracy: 0.5375\n",
      "Epoch 35/1000\n",
      "160/160 [==============================] - 3s 20ms/step - loss: 0.9610 - accuracy: 0.4421 - val_loss: 1.4213 - val_accuracy: 0.4727\n",
      "Epoch 36/1000\n",
      "160/160 [==============================] - 3s 20ms/step - loss: 0.9795 - accuracy: 0.4343 - val_loss: 1.4102 - val_accuracy: 0.5586\n",
      "Epoch 37/1000\n",
      "160/160 [==============================] - 3s 20ms/step - loss: 0.9763 - accuracy: 0.4291 - val_loss: 1.4000 - val_accuracy: 0.5344\n",
      "Epoch 38/1000\n",
      "160/160 [==============================] - 3s 21ms/step - loss: 0.9681 - accuracy: 0.4313 - val_loss: 1.4171 - val_accuracy: 0.5344\n",
      "Epoch 39/1000\n",
      "160/160 [==============================] - 3s 21ms/step - loss: 0.9697 - accuracy: 0.4361 - val_loss: 1.3802 - val_accuracy: 0.5281\n",
      "Epoch 40/1000\n",
      "160/160 [==============================] - 3s 20ms/step - loss: 0.9687 - accuracy: 0.4390 - val_loss: 1.3585 - val_accuracy: 0.5352\n",
      "Epoch 41/1000\n",
      "160/160 [==============================] - 3s 20ms/step - loss: 0.9765 - accuracy: 0.4411 - val_loss: 1.3724 - val_accuracy: 0.5672\n",
      "Epoch 42/1000\n",
      "160/160 [==============================] - 3s 20ms/step - loss: 0.9719 - accuracy: 0.4509 - val_loss: 1.4044 - val_accuracy: 0.5234\n",
      "Epoch 43/1000\n",
      "160/160 [==============================] - 3s 20ms/step - loss: 0.9648 - accuracy: 0.4411 - val_loss: 1.3498 - val_accuracy: 0.5820\n",
      "Epoch 44/1000\n",
      "160/160 [==============================] - 3s 20ms/step - loss: 0.9596 - accuracy: 0.4474 - val_loss: 1.3672 - val_accuracy: 0.6062\n",
      "Epoch 45/1000\n",
      "160/160 [==============================] - 3s 20ms/step - loss: 0.9615 - accuracy: 0.4493 - val_loss: 1.3692 - val_accuracy: 0.5555\n",
      "Epoch 46/1000\n",
      "160/160 [==============================] - 3s 20ms/step - loss: 0.9659 - accuracy: 0.4415 - val_loss: 1.4005 - val_accuracy: 0.5391\n",
      "Epoch 47/1000\n",
      "160/160 [==============================] - 3s 20ms/step - loss: 0.9537 - accuracy: 0.4451 - val_loss: 1.3487 - val_accuracy: 0.5852\n",
      "Epoch 48/1000\n",
      "160/160 [==============================] - 3s 20ms/step - loss: 0.9546 - accuracy: 0.4321 - val_loss: 1.3378 - val_accuracy: 0.5664\n",
      "Epoch 49/1000\n"
     ]
    },
    {
     "name": "stdout",
     "output_type": "stream",
     "text": [
      "160/160 [==============================] - 3s 20ms/step - loss: 0.9488 - accuracy: 0.4462 - val_loss: 1.3570 - val_accuracy: 0.5727\n",
      "Epoch 50/1000\n",
      "160/160 [==============================] - 3s 20ms/step - loss: 0.9510 - accuracy: 0.4444 - val_loss: 1.3230 - val_accuracy: 0.5609\n",
      "Epoch 51/1000\n",
      "160/160 [==============================] - 3s 20ms/step - loss: 0.9413 - accuracy: 0.4434 - val_loss: 1.3598 - val_accuracy: 0.5602\n",
      "Epoch 52/1000\n",
      "160/160 [==============================] - 3s 20ms/step - loss: 0.9471 - accuracy: 0.4461 - val_loss: 1.3619 - val_accuracy: 0.6000\n",
      "Epoch 53/1000\n",
      "160/160 [==============================] - 3s 20ms/step - loss: 0.9470 - accuracy: 0.4511 - val_loss: 1.3192 - val_accuracy: 0.5781\n",
      "Epoch 54/1000\n",
      "160/160 [==============================] - 3s 20ms/step - loss: 0.9511 - accuracy: 0.4511 - val_loss: 1.3440 - val_accuracy: 0.5680\n",
      "Epoch 55/1000\n",
      "160/160 [==============================] - 3s 20ms/step - loss: 0.9553 - accuracy: 0.4465 - val_loss: 1.3358 - val_accuracy: 0.5688\n",
      "Epoch 56/1000\n",
      "160/160 [==============================] - 3s 20ms/step - loss: 0.9470 - accuracy: 0.4571 - val_loss: 1.3292 - val_accuracy: 0.5773\n",
      "Epoch 57/1000\n",
      "160/160 [==============================] - 3s 20ms/step - loss: 0.9433 - accuracy: 0.4476 - val_loss: 1.3313 - val_accuracy: 0.5797\n",
      "Epoch 58/1000\n",
      "160/160 [==============================] - 3s 20ms/step - loss: 0.9445 - accuracy: 0.4536 - val_loss: 1.3407 - val_accuracy: 0.5688\n",
      "Epoch 59/1000\n",
      "160/160 [==============================] - 3s 20ms/step - loss: 0.9381 - accuracy: 0.4526 - val_loss: 1.2960 - val_accuracy: 0.6078\n",
      "Epoch 60/1000\n",
      "160/160 [==============================] - 3s 20ms/step - loss: 0.9359 - accuracy: 0.4446 - val_loss: 1.3304 - val_accuracy: 0.5898\n",
      "Epoch 61/1000\n",
      "160/160 [==============================] - 3s 20ms/step - loss: 0.9550 - accuracy: 0.4508 - val_loss: 1.2968 - val_accuracy: 0.5906\n",
      "Epoch 62/1000\n",
      "160/160 [==============================] - 3s 20ms/step - loss: 0.9373 - accuracy: 0.4521 - val_loss: 1.3141 - val_accuracy: 0.5852\n",
      "Epoch 63/1000\n",
      "160/160 [==============================] - 3s 20ms/step - loss: 0.9383 - accuracy: 0.4526 - val_loss: 1.2966 - val_accuracy: 0.5969\n",
      "Epoch 64/1000\n",
      "160/160 [==============================] - 3s 20ms/step - loss: 0.9362 - accuracy: 0.4465 - val_loss: 1.2983 - val_accuracy: 0.6102\n",
      "Epoch 65/1000\n",
      "160/160 [==============================] - 3s 20ms/step - loss: 0.9343 - accuracy: 0.4655 - val_loss: 1.3113 - val_accuracy: 0.5914\n",
      "Epoch 66/1000\n",
      "160/160 [==============================] - 3s 20ms/step - loss: 0.9316 - accuracy: 0.4550 - val_loss: 1.3153 - val_accuracy: 0.6078\n",
      "Epoch 67/1000\n",
      "160/160 [==============================] - 3s 20ms/step - loss: 0.9247 - accuracy: 0.4602 - val_loss: 1.2789 - val_accuracy: 0.6070\n",
      "Epoch 68/1000\n",
      "160/160 [==============================] - 3s 20ms/step - loss: 0.9262 - accuracy: 0.4524 - val_loss: 1.2940 - val_accuracy: 0.5805\n",
      "Epoch 69/1000\n",
      "160/160 [==============================] - 3s 20ms/step - loss: 0.9264 - accuracy: 0.4634 - val_loss: 1.2868 - val_accuracy: 0.5750\n",
      "Epoch 70/1000\n",
      "160/160 [==============================] - 3s 21ms/step - loss: 0.9230 - accuracy: 0.4524 - val_loss: 1.2817 - val_accuracy: 0.6148\n",
      "Epoch 71/1000\n",
      "160/160 [==============================] - 3s 20ms/step - loss: 0.9245 - accuracy: 0.4551 - val_loss: 1.2610 - val_accuracy: 0.6055\n",
      "Epoch 72/1000\n",
      "160/160 [==============================] - 3s 20ms/step - loss: 0.9249 - accuracy: 0.4546 - val_loss: 1.2685 - val_accuracy: 0.6219\n",
      "Epoch 73/1000\n",
      "160/160 [==============================] - 3s 20ms/step - loss: 0.9245 - accuracy: 0.4650 - val_loss: 1.2531 - val_accuracy: 0.6273\n",
      "Epoch 74/1000\n",
      "160/160 [==============================] - 3s 20ms/step - loss: 0.9299 - accuracy: 0.4568 - val_loss: 1.2804 - val_accuracy: 0.5813\n",
      "Epoch 75/1000\n",
      "160/160 [==============================] - 3s 21ms/step - loss: 0.9313 - accuracy: 0.4690 - val_loss: 1.2512 - val_accuracy: 0.6352\n",
      "Epoch 76/1000\n",
      "160/160 [==============================] - 3s 20ms/step - loss: 0.9248 - accuracy: 0.4648 - val_loss: 1.2834 - val_accuracy: 0.5992\n",
      "Epoch 77/1000\n",
      "160/160 [==============================] - 3s 21ms/step - loss: 0.9168 - accuracy: 0.4649 - val_loss: 1.2475 - val_accuracy: 0.6266\n",
      "Epoch 78/1000\n",
      "160/160 [==============================] - 3s 20ms/step - loss: 0.9070 - accuracy: 0.4600 - val_loss: 1.2943 - val_accuracy: 0.5953\n",
      "Epoch 79/1000\n",
      "160/160 [==============================] - 3s 20ms/step - loss: 0.9221 - accuracy: 0.4663 - val_loss: 1.2684 - val_accuracy: 0.6016\n",
      "Epoch 80/1000\n",
      "160/160 [==============================] - 3s 20ms/step - loss: 0.9083 - accuracy: 0.4648 - val_loss: 1.2258 - val_accuracy: 0.6383\n",
      "Epoch 81/1000\n",
      "160/160 [==============================] - 3s 20ms/step - loss: 0.9134 - accuracy: 0.4728 - val_loss: 1.2610 - val_accuracy: 0.5945\n",
      "Epoch 82/1000\n",
      "160/160 [==============================] - 3s 20ms/step - loss: 0.9128 - accuracy: 0.4604 - val_loss: 1.2499 - val_accuracy: 0.6367\n",
      "Epoch 83/1000\n",
      "160/160 [==============================] - 3s 20ms/step - loss: 0.9165 - accuracy: 0.4610 - val_loss: 1.2339 - val_accuracy: 0.6383\n",
      "Epoch 84/1000\n",
      "160/160 [==============================] - 3s 20ms/step - loss: 0.9154 - accuracy: 0.4549 - val_loss: 1.2588 - val_accuracy: 0.6391\n",
      "Epoch 85/1000\n",
      "160/160 [==============================] - 3s 20ms/step - loss: 0.9099 - accuracy: 0.4600 - val_loss: 1.2406 - val_accuracy: 0.6375\n",
      "Epoch 86/1000\n",
      "160/160 [==============================] - 3s 20ms/step - loss: 0.9007 - accuracy: 0.4706 - val_loss: 1.2291 - val_accuracy: 0.6187\n",
      "Epoch 87/1000\n",
      "160/160 [==============================] - 3s 20ms/step - loss: 0.9255 - accuracy: 0.4548 - val_loss: 1.2361 - val_accuracy: 0.6383\n",
      "Epoch 88/1000\n",
      "160/160 [==============================] - 3s 20ms/step - loss: 0.8998 - accuracy: 0.4666 - val_loss: 1.2204 - val_accuracy: 0.6344\n",
      "Epoch 89/1000\n",
      "160/160 [==============================] - 3s 20ms/step - loss: 0.9190 - accuracy: 0.4563 - val_loss: 1.2095 - val_accuracy: 0.6242\n",
      "Epoch 90/1000\n",
      "160/160 [==============================] - 3s 20ms/step - loss: 0.9127 - accuracy: 0.4662 - val_loss: 1.2794 - val_accuracy: 0.6133\n",
      "Epoch 91/1000\n",
      "160/160 [==============================] - 3s 20ms/step - loss: 0.9160 - accuracy: 0.4595 - val_loss: 1.2228 - val_accuracy: 0.6258\n",
      "Epoch 92/1000\n",
      "160/160 [==============================] - 3s 20ms/step - loss: 0.9051 - accuracy: 0.4610 - val_loss: 1.2149 - val_accuracy: 0.6328\n",
      "Epoch 93/1000\n",
      "160/160 [==============================] - 3s 20ms/step - loss: 0.9125 - accuracy: 0.4637 - val_loss: 1.2318 - val_accuracy: 0.6141\n",
      "Epoch 94/1000\n",
      "160/160 [==============================] - 3s 20ms/step - loss: 0.9057 - accuracy: 0.4700 - val_loss: 1.2111 - val_accuracy: 0.6211\n",
      "Epoch 95/1000\n",
      "160/160 [==============================] - 3s 20ms/step - loss: 0.8946 - accuracy: 0.4621 - val_loss: 1.2299 - val_accuracy: 0.6547\n",
      "Epoch 96/1000\n",
      "160/160 [==============================] - 3s 20ms/step - loss: 0.9257 - accuracy: 0.4637 - val_loss: 1.2275 - val_accuracy: 0.6266\n",
      "Epoch 97/1000\n",
      "160/160 [==============================] - 3s 20ms/step - loss: 0.8964 - accuracy: 0.4742 - val_loss: 1.1936 - val_accuracy: 0.6492\n",
      "Epoch 98/1000\n",
      "160/160 [==============================] - 3s 20ms/step - loss: 0.8987 - accuracy: 0.4604 - val_loss: 1.2341 - val_accuracy: 0.6281\n",
      "Epoch 99/1000\n",
      "160/160 [==============================] - 3s 20ms/step - loss: 0.9003 - accuracy: 0.4637 - val_loss: 1.1946 - val_accuracy: 0.6422\n",
      "Epoch 100/1000\n",
      "160/160 [==============================] - 3s 20ms/step - loss: 0.9098 - accuracy: 0.4735 - val_loss: 1.2181 - val_accuracy: 0.6320\n",
      "Epoch 101/1000\n",
      "160/160 [==============================] - 3s 20ms/step - loss: 0.8971 - accuracy: 0.4604 - val_loss: 1.2179 - val_accuracy: 0.6195\n",
      "Epoch 102/1000\n",
      "160/160 [==============================] - 3s 20ms/step - loss: 0.8938 - accuracy: 0.4742 - val_loss: 1.2110 - val_accuracy: 0.6367\n",
      "Epoch 103/1000\n",
      "160/160 [==============================] - 3s 21ms/step - loss: 0.8989 - accuracy: 0.4649 - val_loss: 1.2036 - val_accuracy: 0.6477\n",
      "Epoch 104/1000\n",
      "160/160 [==============================] - 3s 20ms/step - loss: 0.9051 - accuracy: 0.4646 - val_loss: 1.2207 - val_accuracy: 0.6172\n",
      "Epoch 105/1000\n"
     ]
    },
    {
     "name": "stdout",
     "output_type": "stream",
     "text": [
      "160/160 [==============================] - 3s 21ms/step - loss: 0.8792 - accuracy: 0.4726 - val_loss: 1.2082 - val_accuracy: 0.6523\n",
      "Epoch 106/1000\n",
      "160/160 [==============================] - 3s 21ms/step - loss: 0.9037 - accuracy: 0.4622 - val_loss: 1.2087 - val_accuracy: 0.6234\n",
      "Epoch 107/1000\n",
      "160/160 [==============================] - 3s 20ms/step - loss: 0.8968 - accuracy: 0.4639 - val_loss: 1.2088 - val_accuracy: 0.6359\n",
      "time: 5min 48s (started: 2021-12-07 04:23:26 +00:00)\n"
     ]
    }
   ],
   "source": [
    "if __name__ == \"__main__\":\n",
    "    batch_size = 64\n",
    "    shapes = ((batch_size, 64, 64, 3),\n",
    "              (batch_size, 6))\n",
    "    pipe_train = TFRecordPipelineTrain(batch_size=batch_size, \n",
    "                                 num_threads=1, \n",
    "                                 device='gpu', \n",
    "                                 device_id=0)\n",
    "    \n",
    "    batch_size_valid = 64\n",
    "    shapes_valid = ((batch_size_valid, 64, 64, 3),\n",
    "              (batch_size_valid, 6))\n",
    "    pipe_valid = TFRecordPipelineValid(batch_size=batch_size_valid, \n",
    "                                 num_threads=1, \n",
    "                                 device='gpu', \n",
    "                                 device_id=0)    \n",
    "\n",
    "    with tf.device('/gpu:0'):\n",
    "        ds_train = dali_tf.DALIDataset(\n",
    "            pipeline=pipe_train,\n",
    "            batch_size=batch_size,\n",
    "            output_shapes=shapes,\n",
    "            output_dtypes=(tf.float32, tf.int64),\n",
    "            device_id=0)\n",
    "        \n",
    "        ds_valid = dali_tf.DALIDataset(\n",
    "            pipeline=pipe_valid,\n",
    "            batch_size=batch_size_valid,\n",
    "            output_shapes=shapes_valid,\n",
    "            output_dtypes=(tf.float32, tf.int64),\n",
    "            device_id=0)     \n",
    "       \n",
    "        initializer = keras.initializers.GlorotUniform(seed=set_seed)\n",
    "        activation =  keras.activations.softmax\n",
    "        lr_schedule = keras.optimizers.schedules.ExponentialDecay(\n",
    "            initial_learning_rate=1e-5,\n",
    "            decay_steps=TRAIN_DATA_SIZE // batch_size * 10,\n",
    "            decay_rate=0.95)\n",
    "\n",
    "        number_of_classes = 6\n",
    "        \n",
    "        inputs = keras.Input(shape=(64, 64, 3))\n",
    "        x = autoencoder(inputs, training=False)   # Fix autoencoder weights.\n",
    "        flat = keras.layers.Flatten()(x)\n",
    "        fc1 = keras.layers.Dense(number_of_classes, activation='relu',\n",
    "                             kernel_initializer=initializer)(flat)\n",
    "        do1 = keras.layers.Dropout(0.5, seed=set_seed)(fc1)    \n",
    "        outputs = keras.layers.Dense(number_of_classes,\n",
    "                             kernel_initializer=initializer,\n",
    "                             activation=activation)(do1) \n",
    "        clf = keras.Model(inputs, outputs)\n",
    "        \n",
    "        clf.summary()\n",
    "        \n",
    "        # To save the model weights, uncomment the below code.        \n",
    "        #checkpoint_path = \"./model/cp_clf_6_emo.ckpt\"\n",
    "        #cp_callback = tf.keras.callbacks.ModelCheckpoint(filepath=checkpoint_path,\n",
    "        #                                         save_weights_only=True,\n",
    "        #                                         verbose=1)\n",
    "        \n",
    "        # Apply early stopping.        \n",
    "        es_callback = tf.keras.callbacks.EarlyStopping(monitor='val_loss', patience=10,\n",
    "                                                       restore_best_weights=True)\n",
    "       \n",
    "        clf.compile(optimizer=keras.optimizers.Adam(learning_rate=lr_schedule),\n",
    "              loss=keras.losses.CategoricalCrossentropy(),\n",
    "              metrics=['accuracy'])\n",
    "        \n",
    "        history = clf.fit(ds_train, steps_per_epoch=TRAIN_DATA_SIZE // batch_size,\n",
    "                          validation_data=ds_valid.take(VALID_DATA_SIZE // batch_size_valid),\n",
    "                          epochs=1000,\n",
    "                          class_weight=class_weight_dict,\n",
    "                          callbacks=[es_callback])"
   ]
  },
  {
   "cell_type": "code",
   "execution_count": 21,
   "metadata": {},
   "outputs": [
    {
     "name": "stdout",
     "output_type": "stream",
     "text": [
      "dict_keys(['loss', 'accuracy', 'val_loss', 'val_accuracy'])\n",
      "time: 701 µs (started: 2021-12-07 04:29:15 +00:00)\n"
     ]
    }
   ],
   "source": [
    "# List all data in history.\n",
    "\n",
    "print(history.history.keys())"
   ]
  },
  {
   "cell_type": "code",
   "execution_count": 22,
   "metadata": {
    "scrolled": true
   },
   "outputs": [
    {
     "data": {
      "image/png": "[encoded data removed]",
      "text/plain": [
       "<Figure size 432x288 with 1 Axes>"
      ]
     },
     "metadata": {
      "needs_background": "light"
     },
     "output_type": "display_data"
    },
    {
     "name": "stdout",
     "output_type": "stream",
     "text": [
      "time: 181 ms (started: 2021-12-07 04:29:15 +00:00)\n"
     ]
    }
   ],
   "source": [
    "# Summarize history for accuracy.\n",
    "\n",
    "plt.plot(history.history['accuracy'])\n",
    "plt.plot(history.history['val_accuracy'])\n",
    "plt.title('model accuracy (test data)')\n",
    "plt.ylabel('accuracy')\n",
    "plt.xlabel('epoch')\n",
    "plt.legend(['train', 'valid'], loc='upper left')\n",
    "plt.show()"
   ]
  },
  {
   "cell_type": "code",
   "execution_count": 23,
   "metadata": {},
   "outputs": [
    {
     "data": {
      "image/png": "[encoded data removed]",
      "text/plain": [
       "<Figure size 432x288 with 1 Axes>"
      ]
     },
     "metadata": {
      "needs_background": "light"
     },
     "output_type": "display_data"
    },
    {
     "name": "stdout",
     "output_type": "stream",
     "text": [
      "time: 128 ms (started: 2021-12-07 04:29:15 +00:00)\n"
     ]
    }
   ],
   "source": [
    "# Summarize history for loss.\n",
    "\n",
    "plt.plot(history.history['loss'])\n",
    "plt.plot(history.history['val_loss'])\n",
    "plt.title('model loss')\n",
    "plt.ylabel('loss')\n",
    "plt.xlabel('epoch')\n",
    "plt.legend(['train', 'val'], loc='upper right')\n",
    "plt.show()"
   ]
  },
  {
   "cell_type": "markdown",
   "metadata": {},
   "source": [
    "### Define test pipeline."
   ]
  },
  {
   "cell_type": "code",
   "execution_count": 24,
   "metadata": {},
   "outputs": [
    {
     "name": "stdout",
     "output_type": "stream",
     "text": [
      "time: 1.94 ms (started: 2021-12-07 04:29:15 +00:00)\n"
     ]
    }
   ],
   "source": [
    "class TFRecordPipelineTest(Pipeline):\n",
    "    def __init__(self, batch_size, num_threads,\n",
    "                 device = 'cpu', device_id = 0):\n",
    "        super(TFRecordPipelineTest, self).__init__(batch_size,\n",
    "                                         num_threads,\n",
    "                                         device_id)\n",
    "        self.input = fn.readers.tfrecord(        \n",
    "             features = {\"image_raw\": tfrec.FixedLenFeature((), tfrec.string, \"\"),\n",
    "                         \"label\": tfrec.FixedLenFeature([6], tfrec.int64,  6)},\n",
    "             path = ['./tfrecords/6_basic_emo_test.tfrecords'],\n",
    "             index_path = ['./tfrecords/6_basic_emo_test.idx'],\n",
    "             random_shuffle=False,\n",
    "             seed = set_seed)\n",
    "        self.iter = 0\n",
    "    def define_graph(self):\n",
    "        inputs = self.input\n",
    "        images = fn.decoders.image(inputs[\"image_raw\"], device = \"mixed\", output_type = types.RGB) / 255.\n",
    "        labels = inputs[\"label\"].gpu()\n",
    "        return (images, labels)\n",
    "    def iter_setup(self):\n",
    "        pass"
   ]
  },
  {
   "cell_type": "markdown",
   "metadata": {},
   "source": [
    "### Check test data accuracy."
   ]
  },
  {
   "cell_type": "code",
   "execution_count": 25,
   "metadata": {},
   "outputs": [
    {
     "name": "stdout",
     "output_type": "stream",
     "text": [
      "1282/1282 [==============================] - 9s 6ms/step - loss: 1.1872 - accuracy: 0.6693\n",
      "Test accuracy: 0.6692667603492737\n",
      "A test output from the last layer: [0.29977646 0.0486406  0.24614707 0.08626368 0.21579914 0.10337303]\n",
      "Index of the maximum value: 0\n",
      "Label: angry\n",
      "time: 8.9 s (started: 2021-12-07 04:29:15 +00:00)\n"
     ]
    }
   ],
   "source": [
    "# https://docs.nvidia.com/deeplearning/dali/user-guide/docs/plugins/tensorflow_plugin_api.html\n",
    "\n",
    "if __name__ == \"__main__\":\n",
    "    batch_size = 1\n",
    "    shapes = ((batch_size, 64, 64, 3),\n",
    "              (batch_size, 6))\n",
    "    pipe_test = TFRecordPipelineTest(batch_size=batch_size, \n",
    "                            num_threads=4, \n",
    "                            device='gpu', \n",
    "                            device_id=0)\n",
    "\n",
    "    with tf.device('/gpu:0'):\n",
    "        ds_test = dali_tf.DALIDataset(\n",
    "            pipeline=pipe_test,\n",
    "            batch_size=batch_size,\n",
    "            output_shapes=shapes,\n",
    "            output_dtypes=(tf.float32, tf.int64),\n",
    "            device_id=0)\n",
    "        loss, acc = clf.evaluate(ds_test, steps=TEST_DATA_SIZE)\n",
    "        print(\"Test accuracy:\", acc)\n",
    "        predictions = clf.predict(ds_test.take(5))\n",
    "        print(\"A test output from the last layer:\", predictions[0])\n",
    "        print(\"Index of the maximum value:\", np.argmax(predictions[0]))\n",
    "        print(\"Label:\", LABELS[np.argmax(predictions[0])])"
   ]
  },
  {
   "cell_type": "code",
   "execution_count": 26,
   "metadata": {},
   "outputs": [
    {
     "data": {
      "text/plain": [
       "array([[0.29977646, 0.0486406 , 0.24614707, 0.08626368, 0.21579914,\n",
       "        0.10337303],\n",
       "       [0.08639381, 0.16399723, 0.15350595, 0.15296331, 0.06901735,\n",
       "        0.37412232],\n",
       "       [0.19276166, 0.10116758, 0.20170936, 0.17032175, 0.1657133 ,\n",
       "        0.16832644],\n",
       "       [0.5450536 , 0.00606751, 0.30794838, 0.00634239, 0.11366145,\n",
       "        0.02092662],\n",
       "       [0.53574526, 0.009619  , 0.28744206, 0.00848251, 0.13313717,\n",
       "        0.02557391]], dtype=float32)"
      ]
     },
     "execution_count": 26,
     "metadata": {},
     "output_type": "execute_result"
    },
    {
     "name": "stdout",
     "output_type": "stream",
     "text": [
      "time: 3.05 ms (started: 2021-12-07 04:29:24 +00:00)\n"
     ]
    }
   ],
   "source": [
    "predictions"
   ]
  },
  {
   "cell_type": "code",
   "execution_count": 27,
   "metadata": {},
   "outputs": [
    {
     "data": {
      "text/plain": [
       "<matplotlib.image.AxesImage at 0x7fdda4292ba8>"
      ]
     },
     "execution_count": 27,
     "metadata": {},
     "output_type": "execute_result"
    },
    {
     "data": {
      "image/png": "[encoded data removed]",
      "text/plain": [
       "<Figure size 432x288 with 1 Axes>"
      ]
     },
     "metadata": {
      "needs_background": "light"
     },
     "output_type": "display_data"
    },
    {
     "name": "stdout",
     "output_type": "stream",
     "text": [
      "time: 200 ms (started: 2021-12-07 04:29:24 +00:00)\n"
     ]
    }
   ],
   "source": [
    "# Display the tested image.\n",
    "\n",
    "import matplotlib.pyplot as plt\n",
    "\n",
    "data, = ds_test.take(1)\n",
    "plt.imshow(data[0][0])"
   ]
  },
  {
   "cell_type": "code",
   "execution_count": 28,
   "metadata": {},
   "outputs": [
    {
     "data": {
      "text/plain": [
       "<tf.Tensor: shape=(1, 6), dtype=int64, numpy=array([[1, 0, 0, 0, 0, 0]])>"
      ]
     },
     "execution_count": 28,
     "metadata": {},
     "output_type": "execute_result"
    },
    {
     "name": "stdout",
     "output_type": "stream",
     "text": [
      "time: 2.57 ms (started: 2021-12-07 04:29:24 +00:00)\n"
     ]
    }
   ],
   "source": [
    "# Check the test data's true label.\n",
    "data[1]"
   ]
  },
  {
   "cell_type": "code",
   "execution_count": 29,
   "metadata": {},
   "outputs": [
    {
     "data": {
      "text/plain": [
       "(<tf.Tensor: shape=(1, 64, 64, 3), dtype=float32, numpy=\n",
       " array([[[[0.03921569, 0.03529412, 0.01176471],\n",
       "          [0.05098039, 0.04705882, 0.02352941],\n",
       "          [0.04705882, 0.05098039, 0.02352941],\n",
       "          ...,\n",
       "          [0.14509805, 0.08627451, 0.05882353],\n",
       "          [0.08235294, 0.0627451 , 0.03137255],\n",
       "          [0.09411765, 0.07450981, 0.04313726]],\n",
       " \n",
       "         [[0.03921569, 0.03529412, 0.01176471],\n",
       "          [0.04313726, 0.03921569, 0.01568628],\n",
       "          [0.03529412, 0.03921569, 0.01176471],\n",
       "          ...,\n",
       "          [0.17254902, 0.11372549, 0.08627451],\n",
       "          [0.08627451, 0.06666667, 0.03529412],\n",
       "          [0.09411765, 0.07450981, 0.04313726]],\n",
       " \n",
       "         [[0.04313726, 0.04313726, 0.02745098],\n",
       "          [0.04313726, 0.04313726, 0.02745098],\n",
       "          [0.03137255, 0.04313726, 0.02352941],\n",
       "          ...,\n",
       "          [0.21568628, 0.12941177, 0.09411765],\n",
       "          [0.11372549, 0.06666667, 0.03529412],\n",
       "          [0.15294118, 0.10588235, 0.07450981]],\n",
       " \n",
       "         ...,\n",
       " \n",
       "         [[0.38431373, 0.36862746, 0.3764706 ],\n",
       "          [0.33333334, 0.31764707, 0.3254902 ],\n",
       "          [0.27058825, 0.2627451 , 0.26666668],\n",
       "          ...,\n",
       "          [0.4509804 , 0.36078432, 0.28235295],\n",
       "          [0.42352942, 0.3372549 , 0.23921569],\n",
       "          [0.39607844, 0.30980393, 0.21176471]],\n",
       " \n",
       "         [[0.30980393, 0.30588236, 0.3137255 ],\n",
       "          [0.27058825, 0.26666668, 0.27450982],\n",
       "          [0.23137255, 0.23529412, 0.25882354],\n",
       "          ...,\n",
       "          [0.43137255, 0.37254903, 0.3372549 ],\n",
       "          [0.38039216, 0.3764706 , 0.3529412 ],\n",
       "          [0.43529412, 0.43137255, 0.40784314]],\n",
       " \n",
       "         [[0.27450982, 0.27058825, 0.2784314 ],\n",
       "          [0.22745098, 0.22352941, 0.23137255],\n",
       "          [0.21568628, 0.21960784, 0.24313726],\n",
       "          ...,\n",
       "          [0.34901962, 0.2901961 , 0.25490198],\n",
       "          [0.29803923, 0.29411766, 0.27058825],\n",
       "          [0.2627451 , 0.25882354, 0.23529412]]]], dtype=float32)>,\n",
       " <tf.Tensor: shape=(1, 6), dtype=int64, numpy=array([[1, 0, 0, 0, 0, 0]])>)"
      ]
     },
     "execution_count": 29,
     "metadata": {},
     "output_type": "execute_result"
    },
    {
     "name": "stdout",
     "output_type": "stream",
     "text": [
      "time: 8.18 ms (started: 2021-12-07 04:29:24 +00:00)\n"
     ]
    }
   ],
   "source": [
    "data"
   ]
  },
  {
   "cell_type": "code",
   "execution_count": 30,
   "metadata": {},
   "outputs": [
    {
     "name": "stdout",
     "output_type": "stream",
     "text": [
      "time: 5.45 s (started: 2021-12-07 04:29:24 +00:00)\n"
     ]
    }
   ],
   "source": [
    "pred_test = clf.predict(ds_test.take(TEST_DATA_SIZE))"
   ]
  },
  {
   "cell_type": "code",
   "execution_count": 31,
   "metadata": {
    "scrolled": true
   },
   "outputs": [
    {
     "name": "stdout",
     "output_type": "stream",
     "text": [
      "time: 491 ms (started: 2021-12-07 04:29:30 +00:00)\n"
     ]
    }
   ],
   "source": [
    "true_test = np.concatenate([y for x, y in ds_test.take(TEST_DATA_SIZE)], axis=0)"
   ]
  },
  {
   "cell_type": "code",
   "execution_count": 32,
   "metadata": {},
   "outputs": [
    {
     "data": {
      "text/plain": [
       "(1282, 6)"
      ]
     },
     "execution_count": 32,
     "metadata": {},
     "output_type": "execute_result"
    },
    {
     "name": "stdout",
     "output_type": "stream",
     "text": [
      "time: 2.4 ms (started: 2021-12-07 04:29:30 +00:00)\n"
     ]
    }
   ],
   "source": [
    "true_test.shape"
   ]
  },
  {
   "cell_type": "code",
   "execution_count": 33,
   "metadata": {},
   "outputs": [
    {
     "data": {
      "text/plain": [
       "array([[613,   0,  78,  31,  30,   7],\n",
       "       [ 12,   0,   0,   0,   0,   0],\n",
       "       [ 83,   1, 154,  24,   2,   8],\n",
       "       [  0,   0,   6,  21,   1,   0],\n",
       "       [  7,   0,   0,   0,  11,   0],\n",
       "       [ 64,   1,  22,  46,   1,  59]])"
      ]
     },
     "execution_count": 33,
     "metadata": {},
     "output_type": "execute_result"
    },
    {
     "name": "stdout",
     "output_type": "stream",
     "text": [
      "time: 29.1 ms (started: 2021-12-07 04:29:30 +00:00)\n"
     ]
    }
   ],
   "source": [
    "from sklearn.metrics import confusion_matrix\n",
    "\n",
    "pred_test_ls = []\n",
    "true_test_ls = []\n",
    "for (pred, true) in zip(pred_test, true_test):\n",
    "    pred_test_ls.append(np.argmax(pred))\n",
    "    true_test_ls.append(np.argmax(true))\n",
    "\n",
    "cf_matrix_test = confusion_matrix(true_test_ls, pred_test_ls)\n",
    "cf_matrix_test"
   ]
  },
  {
   "cell_type": "code",
   "execution_count": 34,
   "metadata": {},
   "outputs": [
    {
     "data": {
      "text/plain": [
       "Text(33.0, 0.5, 'True')"
      ]
     },
     "execution_count": 34,
     "metadata": {},
     "output_type": "execute_result"
    },
    {
     "data": {
      "image/png": "[encoded data removed]",
      "text/plain": [
       "<Figure size 432x288 with 2 Axes>"
      ]
     },
     "metadata": {
      "needs_background": "light"
     },
     "output_type": "display_data"
    },
    {
     "name": "stdout",
     "output_type": "stream",
     "text": [
      "time: 374 ms (started: 2021-12-07 04:29:30 +00:00)\n"
     ]
    }
   ],
   "source": [
    "import seaborn as sns\n",
    "\n",
    "sns.heatmap(cf_matrix_test, annot=True, cmap='Blues', xticklabels=LABELS, yticklabels=LABELS, fmt='g')\n",
    "plt.title('Autoencoder: 6 Class FER')\n",
    "plt.xlabel('Predicted')\n",
    "plt.ylabel('True')"
   ]
  },
  {
   "cell_type": "markdown",
   "metadata": {},
   "source": [
    "### Check train data accuracy."
   ]
  },
  {
   "cell_type": "code",
   "execution_count": 35,
   "metadata": {},
   "outputs": [
    {
     "name": "stdout",
     "output_type": "stream",
     "text": [
      "10249/10249 [==============================] - 65s 6ms/step - loss: 1.1706 - accuracy: 0.6695\n",
      "Train accuracy: 0.6695287227630615\n",
      "time: 1min 5s (started: 2021-12-07 04:29:31 +00:00)\n"
     ]
    }
   ],
   "source": [
    "# https://docs.nvidia.com/deeplearning/dali/user-guide/docs/plugins/tensorflow_plugin_api.html\n",
    "\n",
    "if __name__ == \"__main__\":\n",
    "    batch_size = 1\n",
    "    shapes = ((batch_size, 64, 64, 3),\n",
    "              (batch_size, 6))\n",
    "    pipe_train = TFRecordPipelineTrain(batch_size=batch_size, \n",
    "                            num_threads=4, \n",
    "                            device='gpu', \n",
    "                            device_id=0)\n",
    "\n",
    "    with tf.device('/gpu:0'):\n",
    "    #with strategy.scope():        \n",
    "        # Create dataset\n",
    "        ds_train = dali_tf.DALIDataset(\n",
    "            pipeline=pipe_train,\n",
    "            batch_size=batch_size,\n",
    "            output_shapes=shapes,\n",
    "            output_dtypes=(tf.float32, tf.int64),\n",
    "            device_id=0)\n",
    "        loss, acc = clf.evaluate(ds_train, steps=TRAIN_DATA_SIZE)\n",
    "        print(\"Train accuracy:\", acc)\n",
    "        #predictions = clf.predict(ds_train.take(1))\n",
    "        #print(\"A test output from the last layer:\", predictions[0])\n",
    "        #print(\"Index of the maximum value:\", np.argmax(predictions[0]))\n",
    "        #print(\"Label:\", LABELS[np.argmax(predictions[0])])"
   ]
  },
  {
   "cell_type": "code",
   "execution_count": 36,
   "metadata": {},
   "outputs": [
    {
     "name": "stdout",
     "output_type": "stream",
     "text": [
      "time: 41.8 s (started: 2021-12-07 04:30:36 +00:00)\n"
     ]
    }
   ],
   "source": [
    "pred_train = clf.predict(ds_train.take(TRAIN_DATA_SIZE))"
   ]
  },
  {
   "cell_type": "code",
   "execution_count": 37,
   "metadata": {},
   "outputs": [
    {
     "name": "stdout",
     "output_type": "stream",
     "text": [
      "time: 3.63 s (started: 2021-12-07 04:31:18 +00:00)\n"
     ]
    }
   ],
   "source": [
    "true_train = np.concatenate([y for x, y in ds_train.take(TRAIN_DATA_SIZE)], axis=0)"
   ]
  },
  {
   "cell_type": "code",
   "execution_count": 38,
   "metadata": {},
   "outputs": [
    {
     "data": {
      "text/plain": [
       "(10249, 6)"
      ]
     },
     "execution_count": 38,
     "metadata": {},
     "output_type": "execute_result"
    },
    {
     "name": "stdout",
     "output_type": "stream",
     "text": [
      "time: 2.48 ms (started: 2021-12-07 04:31:22 +00:00)\n"
     ]
    }
   ],
   "source": [
    "true_train.shape"
   ]
  },
  {
   "cell_type": "code",
   "execution_count": 39,
   "metadata": {},
   "outputs": [
    {
     "data": {
      "text/plain": [
       "array([[4823,    4,  622,  245,  305,   69],\n",
       "       [  76,   17,    0,    0,    0,    0],\n",
       "       [ 596,    2, 1322,  185,   40,   26],\n",
       "       [  14,    0,   19,  189,    0,    2],\n",
       "       [  50,    0,    1,    0,   98,    0],\n",
       "       [ 444,    5,  253,  416,   13,  413]])"
      ]
     },
     "execution_count": 39,
     "metadata": {},
     "output_type": "execute_result"
    },
    {
     "name": "stdout",
     "output_type": "stream",
     "text": [
      "time: 85.1 ms (started: 2021-12-07 04:31:22 +00:00)\n"
     ]
    }
   ],
   "source": [
    "pred_train_ls = []\n",
    "true_train_ls = []\n",
    "for (pred, true) in zip(pred_train, true_train):\n",
    "    pred_train_ls.append(np.argmax(pred))\n",
    "    true_train_ls.append(np.argmax(true))\n",
    "\n",
    "cf_matrix_train = confusion_matrix(true_train_ls, pred_train_ls)\n",
    "cf_matrix_train"
   ]
  },
  {
   "cell_type": "code",
   "execution_count": 40,
   "metadata": {},
   "outputs": [
    {
     "data": {
      "text/plain": [
       "Text(33.0, 0.5, 'True')"
      ]
     },
     "execution_count": 40,
     "metadata": {},
     "output_type": "execute_result"
    },
    {
     "data": {
      "image/png": "[encoded data removed]",
      "text/plain": [
       "<Figure size 432x288 with 2 Axes>"
      ]
     },
     "metadata": {
      "needs_background": "light"
     },
     "output_type": "display_data"
    },
    {
     "name": "stdout",
     "output_type": "stream",
     "text": [
      "time: 348 ms (started: 2021-12-07 04:31:22 +00:00)\n"
     ]
    }
   ],
   "source": [
    "sns.heatmap(cf_matrix_train, annot=True, cmap='Blues', xticklabels=LABELS, yticklabels=LABELS, fmt='g')\n",
    "plt.title('Autoencoder: 6 Class FER (Train Data)')\n",
    "plt.xlabel('Predicted')\n",
    "plt.ylabel('True')"
   ]
  },
  {
   "cell_type": "code",
   "execution_count": null,
   "metadata": {},
   "outputs": [],
   "source": []
  }
 ],
 "metadata": {
  "kernelspec": {
   "display_name": "Python 3",
   "language": "python",
   "name": "python3"
  },
  "language_info": {
   "codemirror_mode": {
    "name": "ipython",
    "version": 3
   },
   "file_extension": ".py",
   "mimetype": "text/x-python",
   "name": "python",
   "nbconvert_exporter": "python",
   "pygments_lexer": "ipython3",
   "version": "3.6.9"
  }
 },
 "nbformat": 4,
 "nbformat_minor": 2
}
